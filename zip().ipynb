{
 "cells": [
  {
   "cell_type": "code",
   "execution_count": 1,
   "metadata": {},
   "outputs": [],
   "source": [
    "#zip()\n",
    "#syntax: zip(iterable1,iterable2,...)\n",
    "#It returns an zip object i.e an iterator"
   ]
  },
  {
   "cell_type": "code",
   "execution_count": 6,
   "metadata": {},
   "outputs": [
    {
     "name": "stdout",
     "output_type": "stream",
     "text": [
      "<class 'zip'>\n",
      "<zip object at 0x0000014FB3F84F00>\n",
      "{'phy': 24, 'chem': 67, 'maths': 89, 'eng': 65}\n"
     ]
    }
   ],
   "source": [
    "marks=[24,67,89,65]\n",
    "sub=('phy','chem','maths','eng','cs')\n",
    "report=zip(sub,marks)\n",
    "print(type(report),report,dict(report),sep='\\n')"
   ]
  },
  {
   "cell_type": "code",
   "execution_count": 14,
   "metadata": {},
   "outputs": [
    {
     "name": "stdout",
     "output_type": "stream",
     "text": [
      "('physics', 89)\n",
      "('chemistry', 90)\n",
      "('mathematics', 67)\n",
      "('english', 80)\n",
      "('computer  science', 90)\n",
      "{}\n"
     ]
    }
   ],
   "source": [
    "marks=[89,90,67,80,90]\n",
    "subject=('physics','chemistry','mathematics','english','computer  science')\n",
    "zipping=zip(subject,marks)#It returns an iterator\n",
    "for i in range(len(marks)):\n",
    "    print(next(zipping))#next function\n",
    "print(dict(zipping))"
   ]
  },
  {
   "cell_type": "code",
   "execution_count": 15,
   "metadata": {},
   "outputs": [
    {
     "name": "stdout",
     "output_type": "stream",
     "text": [
      "{89: 'physics', 90: 'computer science', 67: 'mathematics', 80: 'english'}\n"
     ]
    }
   ],
   "source": [
    "marks=[89,90,67,80,90]\n",
    "subject=('physics','chemistry','mathematics','english','computer science')\n",
    "zipping=zip(marks,subject)#It returns an iterator <------------------\n",
    "print(dict(zipping))"
   ]
  },
  {
   "cell_type": "code",
   "execution_count": 16,
   "metadata": {},
   "outputs": [
    {
     "name": "stdout",
     "output_type": "stream",
     "text": [
      "('phy', 89)\n",
      "('chem', 90)\n",
      "('maths', 67)\n",
      "('eng', 80)\n",
      "('cs', 90)\n"
     ]
    }
   ],
   "source": [
    "report=zip(sub,marks)#sub is define in previous cell\n",
    "for i in report:\n",
    "    print(i)"
   ]
  },
  {
   "cell_type": "code",
   "execution_count": 19,
   "metadata": {},
   "outputs": [
    {
     "name": "stdout",
     "output_type": "stream",
     "text": [
      "<class 'list'> [1, 2, 3, 6, 5, 4, 7, 8, 9]\n",
      "<class 'list'> [[1, 2, 3], [6, 5, 4], [7, 8, 9]]\n",
      "([1, 2, 3],)\n",
      "([6, 5, 4],)\n",
      "([7, 8, 9],)\n"
     ]
    }
   ],
   "source": [
    "A = [1,2,3]\n",
    "B = [6,5,4] \n",
    "C = [7,8,9]\n",
    "y = A   +  B  +  C\n",
    "X = [A] + [B] + [C]\n",
    "\n",
    "print(type(y),y)\n",
    "print(type(X),X)\n",
    "iterable=zip(X)\n",
    "for i in iterable:\n",
    "    print(i)"
   ]
  },
  {
   "cell_type": "code",
   "execution_count": 27,
   "metadata": {},
   "outputs": [
    {
     "name": "stdout",
     "output_type": "stream",
     "text": [
      "[(1, 6, 7), (2, 5, 8), (3, 4, 9)]\n"
     ]
    }
   ],
   "source": [
    "l=[[1, 2, 3], [6, 5, 4], [7, 8, 9]]\n",
    "# print(zip(l))\n",
    "print(list(zip(*l)))#<-----------------------------------------------------"
   ]
  },
  {
   "cell_type": "markdown",
   "metadata": {},
   "source": [
    "## HOME WORK"
   ]
  },
  {
   "cell_type": "code",
   "execution_count": 28,
   "metadata": {},
   "outputs": [
    {
     "name": "stdout",
     "output_type": "stream",
     "text": [
      "Enter the 1st strings : car\n",
      "Enter the 2nd string : rac\n",
      "anagram\n"
     ]
    }
   ],
   "source": [
    "#anagram\n",
    "str1=input('Enter the 1st strings : ')\n",
    "str2=input('Enter the 2nd string : ')\n",
    "for i in str1:\n",
    "     if str1.count(i)!=str2.count(i):\n",
    "            print('not an anagram')\n",
    "            break\n",
    "else: \n",
    "    print('anagram')"
   ]
  },
  {
   "cell_type": "code",
   "execution_count": null,
   "metadata": {},
   "outputs": [],
   "source": []
  }
 ],
 "metadata": {
  "kernelspec": {
   "display_name": "Python 3",
   "language": "python",
   "name": "python3"
  },
  "language_info": {
   "codemirror_mode": {
    "name": "ipython",
    "version": 3
   },
   "file_extension": ".py",
   "mimetype": "text/x-python",
   "name": "python",
   "nbconvert_exporter": "python",
   "pygments_lexer": "ipython3",
   "version": "3.8.3"
  }
 },
 "nbformat": 4,
 "nbformat_minor": 2
}
