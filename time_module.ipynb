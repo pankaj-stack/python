{
 "cells": [
  {
   "cell_type": "markdown",
   "metadata": {},
   "source": [
    "# time module"
   ]
  },
  {
   "cell_type": "code",
   "execution_count": 43,
   "metadata": {},
   "outputs": [
    {
     "name": "stdout",
     "output_type": "stream",
     "text": [
      "['_STRUCT_TM_ITEMS', '__doc__', '__loader__', '__name__', '__package__', '__spec__', 'altzone', 'asctime', 'ctime', 'daylight', 'get_clock_info', 'gmtime', 'localtime', 'mktime', 'monotonic', 'monotonic_ns', 'perf_counter', 'perf_counter_ns', 'process_time', 'process_time_ns', 'sleep', 'strftime', 'strptime', 'struct_time', 'thread_time', 'thread_time_ns', 'time', 'time_ns', 'timezone', 'tzname']\n"
     ]
    }
   ],
   "source": [
    "import time\n",
    "print(dir(time))"
   ]
  },
  {
   "cell_type": "code",
   "execution_count": 4,
   "metadata": {},
   "outputs": [
    {
     "name": "stdout",
     "output_type": "stream",
     "text": [
      "_STRUCT_TM_ITEMS\n",
      "__doc__\n",
      "__loader__\n",
      "__name__\n",
      "__package__\n",
      "__spec__\n",
      "altzone\n",
      "asctime\n",
      "ctime\n",
      "daylight\n",
      "get_clock_info\n",
      "gmtime\n",
      "localtime\n",
      "mktime\n",
      "monotonic\n",
      "monotonic_ns\n",
      "perf_counter\n",
      "perf_counter_ns\n",
      "process_time\n",
      "process_time_ns\n",
      "sleep\n",
      "strftime\n",
      "strptime\n",
      "struct_time\n",
      "thread_time\n",
      "thread_time_ns\n",
      "time\n",
      "time_ns\n",
      "timezone\n",
      "tzname\n"
     ]
    }
   ],
   "source": [
    "for i in dir(time):\n",
    "    print(i)"
   ]
  },
  {
   "cell_type": "code",
   "execution_count": 29,
   "metadata": {
    "scrolled": true
   },
   "outputs": [
    {
     "name": "stdout",
     "output_type": "stream",
     "text": [
      "epoch : 1641750964.9841237(seconds)\n",
      "\n",
      "ctime(epoch) : Sun Jan  9 23:26:04 2022\n",
      "\n",
      "<class 'time.struct_time'>\n",
      "{time.struct_time(tm_year=2022, tm_mon=1, tm_mday=9, tm_hour=23, tm_min=26, tm_sec=4, tm_wday=6, tm_yday=9, tm_isdst=0)}\n",
      "\n",
      "2022\n",
      "\n",
      "1\n",
      "\n",
      "9\n",
      "\n"
     ]
    }
   ],
   "source": [
    "from time import time,ctime,localtime\n",
    "epoch = time() # It gives the time in secondes in fraction\n",
    "print(f'epoch : {epoch}(seconds)',end='\\n\\n')\n",
    "\n",
    "et = ctime(epoch) # ctime(converts the epoch tiem into human readable format) and you can also provid it a random seconds to convert into a human readable format\n",
    "print(f'ctime(epoch) : {et}',end='\\n\\n')\n",
    "\n",
    "localtime_obj = localtime()\n",
    "print(type(localtime_obj))\n",
    "\n",
    "print({localtime_obj},end='\\n\\n')\n",
    "print(localtime_obj.tm_year,end='\\n\\n')\n",
    "print(localtime_obj.tm_mon,end='\\n\\n')\n",
    "print(localtime_obj.tm_mday,end='\\n\\n')"
   ]
  },
  {
   "cell_type": "code",
   "execution_count": 36,
   "metadata": {},
   "outputs": [
    {
     "name": "stdout",
     "output_type": "stream",
     "text": [
      "2022\n",
      "1\n",
      "9\n",
      "23\n",
      "26\n",
      "4\n",
      "6\n",
      "9\n",
      "0\n"
     ]
    }
   ],
   "source": [
    "for i in localtime_obj:\n",
    "    print(i)"
   ]
  },
  {
   "cell_type": "code",
   "execution_count": 31,
   "metadata": {},
   "outputs": [
    {
     "name": "stdout",
     "output_type": "stream",
     "text": [
      "['__add__', '__class__', '__contains__', '__delattr__', '__dir__', '__doc__', '__eq__', '__format__', '__ge__', '__getattribute__', '__getitem__', '__getnewargs__', '__gt__', '__hash__', '__init__', '__init_subclass__', '__iter__', '__le__', '__len__', '__lt__', '__mul__', '__ne__', '__new__', '__reduce__', '__reduce_ex__', '__repr__', '__rmul__', '__setattr__', '__sizeof__', '__str__', '__subclasshook__', 'count', 'index', 'n_fields', 'n_sequence_fields', 'n_unnamed_fields', 'tm_gmtoff', 'tm_hour', 'tm_isdst', 'tm_mday', 'tm_min', 'tm_mon', 'tm_sec', 'tm_wday', 'tm_yday', 'tm_year', 'tm_zone']\n"
     ]
    }
   ],
   "source": [
    "print(dir(localtime_obj))"
   ]
  },
  {
   "cell_type": "code",
   "execution_count": 41,
   "metadata": {},
   "outputs": [
    {
     "name": "stdout",
     "output_type": "stream",
     "text": [
      "year : 2022\n",
      "month : 1\n",
      "day : 9\n",
      "hour : 23\n",
      "minute : 26\n",
      "seconds : 4\n"
     ]
    }
   ],
   "source": [
    "year = localtime_obj.tm_year\n",
    "month = localtime_obj.tm_mon\n",
    "day = localtime_obj.tm_mday\n",
    "hour = localtime_obj.tm_hour\n",
    "minute = localtime_obj.tm_min\n",
    "seconds = localtime_obj.tm_sec\n",
    "print(f'year : {year}')\n",
    "print(f'month : {month}')\n",
    "print(f'day : {day}')\n",
    "print(f'hour : {hour}')\n",
    "print(f'minute : {minute}')\n",
    "print(f'seconds : {seconds}')"
   ]
  },
  {
   "cell_type": "code",
   "execution_count": 3,
   "metadata": {},
   "outputs": [
    {
     "name": "stdout",
     "output_type": "stream",
     "text": [
      "This message is showing after 10 seconds\n"
     ]
    }
   ],
   "source": [
    "s=time.sleep(10)#It sleeps the system for 10 seconds\n",
    "print('This message is showing after 10 seconds')"
   ]
  },
  {
   "cell_type": "code",
   "execution_count": null,
   "metadata": {},
   "outputs": [],
   "source": []
  },
  {
   "cell_type": "code",
   "execution_count": null,
   "metadata": {},
   "outputs": [],
   "source": []
  }
 ],
 "metadata": {
  "kernelspec": {
   "display_name": "Python 3",
   "language": "python",
   "name": "python3"
  },
  "language_info": {
   "codemirror_mode": {
    "name": "ipython",
    "version": 3
   },
   "file_extension": ".py",
   "mimetype": "text/x-python",
   "name": "python",
   "nbconvert_exporter": "python",
   "pygments_lexer": "ipython3",
   "version": "3.9.6"
  }
 },
 "nbformat": 4,
 "nbformat_minor": 2
}
