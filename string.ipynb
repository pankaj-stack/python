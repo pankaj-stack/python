{
 "cells": [
  {
   "cell_type": "code",
   "execution_count": 51,
   "metadata": {},
   "outputs": [
    {
     "data": {
      "text/plain": [
       "\"hello 'is ' a good boy\""
      ]
     },
     "execution_count": 51,
     "metadata": {},
     "output_type": "execute_result"
    }
   ],
   "source": [
    "s = \"hello 'is ' a good boy\"\n",
    "s"
   ]
  },
  {
   "cell_type": "code",
   "execution_count": 52,
   "metadata": {},
   "outputs": [
    {
     "data": {
      "text/plain": [
       "' \" hi\" '"
      ]
     },
     "execution_count": 52,
     "metadata": {},
     "output_type": "execute_result"
    }
   ],
   "source": [
    "name = ' \" hi\" '\n",
    "name "
   ]
  },
  {
   "cell_type": "raw",
   "metadata": {
    "vscode": {
     "languageId": "raw"
    }
   },
   "source": [
    "In python,strings are stored as individualcharacter in a contiguous memory location\n",
    "# String is immutable in nature"
   ]
  },
  {
   "cell_type": "code",
   "execution_count": 53,
   "metadata": {},
   "outputs": [
    {
     "name": "stdout",
     "output_type": "stream",
     "text": [
      "hi how are\n",
      "<class 'str'>\n"
     ]
    }
   ],
   "source": [
    "a,b,c='hi',\"how\",'''are'''\n",
    "print(a,b,c)#Here in case of object/variable c holds the value with tripple quotes\n",
    "print(type(c))#It's valid in python\n"
   ]
  },
  {
   "cell_type": "code",
   "execution_count": 54,
   "metadata": {},
   "outputs": [
    {
     "name": "stdout",
     "output_type": "stream",
     "text": [
      "helloworld\n"
     ]
    }
   ],
   "source": [
    "# String concatenation operator(+)\n",
    "print('hello'+'world')"
   ]
  },
  {
   "cell_type": "code",
   "execution_count": 79,
   "metadata": {},
   "outputs": [
    {
     "name": "stdout",
     "output_type": "stream",
     "text": [
      "iiiii\n",
      "iiiii\n"
     ]
    }
   ],
   "source": [
    "#String replication(*)\n",
    "print('i'*5)\n",
    "print(5*'i')\n",
    "# print(5.0*'i') # if we multiply with float value it returns TyperError "
   ]
  },
  {
   "cell_type": "code",
   "execution_count": 80,
   "metadata": {},
   "outputs": [
    {
     "data": {
      "text/plain": [
       "''"
      ]
     },
     "execution_count": 80,
     "metadata": {},
     "output_type": "execute_result"
    }
   ],
   "source": [
    "s[8:3] # blank string due to endpoint not as expected because slicing is the directional proecess "
   ]
  },
  {
   "cell_type": "markdown",
   "metadata": {},
   "source": [
    "- step value in slicing cannot be zero other wise it will give : ValueError"
   ]
  },
  {
   "cell_type": "code",
   "execution_count": 81,
   "metadata": {},
   "outputs": [
    {
     "name": "stdout",
     "output_type": "stream",
     "text": [
      "come\n",
      "welcome\n",
      "welcome\n",
      "\n",
      "emoclew\n",
      "wloe\n"
     ]
    }
   ],
   "source": [
    "\n",
    "# String slicing\n",
    "str='welcome'\n",
    "print(str[3:])#come\n",
    "print(str[:])#whole stirng\n",
    "print(str[0:])#whole string\n",
    "print(str[-1:-8])# blank(due to not provided step)\n",
    "print(str[-1:-8:-1])# reverse of string\n",
    "print(str[0:7:2])#wloe"
   ]
  },
  {
   "cell_type": "code",
   "execution_count": 82,
   "metadata": {},
   "outputs": [
    {
     "name": "stdout",
     "output_type": "stream",
     "text": [
      "emoclew\n",
      "emoclew\n",
      "emoclew\n",
      "<reversed object at 0x71e44eb1ed90>\n"
     ]
    }
   ],
   "source": [
    "# string reversing\n",
    "str='welcome'\n",
    "print(str[::-1])# method 1\n",
    "print(str[-1::-1])# method 2\n",
    "print(str[len(str)::-1])# method 3\n",
    "\n",
    "print(reversed(str))# It returns object of reversed string<-------------------------; and creates a new object in the memory"
   ]
  },
  {
   "cell_type": "code",
   "execution_count": 83,
   "metadata": {},
   "outputs": [
    {
     "name": "stdout",
     "output_type": "stream",
     "text": [
      "<reversed object at 0x71e44e424850> <class 'reversed'>\n",
      "olleh"
     ]
    }
   ],
   "source": [
    "x=reversed('hello')\n",
    "print(x,type(x))\n",
    "for i in x:\n",
    "    print(i,end='')"
   ]
  },
  {
   "cell_type": "code",
   "execution_count": 25,
   "metadata": {},
   "outputs": [
    {
     "name": "stdout",
     "output_type": "stream",
     "text": [
      "olleh 5\n"
     ]
    }
   ],
   "source": [
    "# WAP to reverse the string without using any inbuilt functions \n",
    "s = 'hello'\n",
    "\n",
    "s2 = ''\n",
    "for i in range(len(s)-1,-1,-1):\n",
    "    s2 += s[i] \n",
    "print(s2)"
   ]
  },
  {
   "cell_type": "code",
   "execution_count": 31,
   "metadata": {},
   "outputs": [
    {
     "name": "stdout",
     "output_type": "stream",
     "text": [
      "one owt three ruof five xis \n"
     ]
    }
   ],
   "source": [
    "s = 'one two three four five six' \n",
    "\n",
    "output = '' \n",
    "\n",
    "for ind,val in enumerate(s.split()):\n",
    "    if ind % 2 != 0:\n",
    "        output += val[::-1] + ' '\n",
    "    else:\n",
    "        output += val + ' '\n",
    "print(output)   "
   ]
  },
  {
   "cell_type": "markdown",
   "metadata": {},
   "source": [
    "# String Functions & Methods"
   ]
  },
  {
   "cell_type": "code",
   "execution_count": 87,
   "metadata": {},
   "outputs": [
    {
     "name": "stdout",
     "output_type": "stream",
     "text": [
      "1\n"
     ]
    }
   ],
   "source": [
    "str='hello sir ,how are you ?'\n",
    "print(str.count('e',0,2))#count(string,begin,end_point)where end_point is excluded in\n",
    "#every function of string"
   ]
  },
  {
   "cell_type": "code",
   "execution_count": 4,
   "metadata": {},
   "outputs": [
    {
     "name": "stdout",
     "output_type": "stream",
     "text": [
      "5\n",
      "2\n",
      "1\n"
     ]
    }
   ],
   "source": [
    "s = 'BBBBB' \n",
    "print(s.count('B'))\n",
    "print(s.count('BB'))\n",
    "print(s.count('BBB'))"
   ]
  },
  {
   "cell_type": "code",
   "execution_count": 88,
   "metadata": {},
   "outputs": [
    {
     "name": "stdout",
     "output_type": "stream",
     "text": [
      "False\n",
      "True\n"
     ]
    }
   ],
   "source": [
    "str='hello sir ,how are you ?'\n",
    "print(str.endswith('you'))#endswith(string,start_point,end_point)\n",
    "print(str.endswith('lo',0,5))  # where end_point is excluded "
   ]
  },
  {
   "cell_type": "code",
   "execution_count": 93,
   "metadata": {},
   "outputs": [
    {
     "name": "stdout",
     "output_type": "stream",
     "text": [
      "True\n"
     ]
    }
   ],
   "source": [
    "str='hello sir ,how are you ?'\n",
    "print(str.startswith('hello'))# It checks the starting character of string is starting\n",
    "# or not."
   ]
  },
  {
   "cell_type": "code",
   "execution_count": 1,
   "metadata": {},
   "outputs": [
    {
     "name": "stdout",
     "output_type": "stream",
     "text": [
      "-1\n",
      "1\n",
      "17\n",
      "4\n",
      "4\n"
     ]
    }
   ],
   "source": [
    "str='hello sir ,how are you ?'\n",
    "print(str.find('g'))#find(string,start_point,end_point)),if string isn't exist then it returns -1\n",
    "print(str.find('e'))#find(string,start_point,end_point)),if string exist then it returns 1\n",
    "print(str.rfind('e'))# it find the string from last to 0 index \n",
    "print(str.index('o'))# It is same as find() except it raises the exception if string\n",
    "print(str.index('o'))# It is same as index() except it raises the exception if string isn't found. and it also returns the value of the index at which data is present. and it starts searching from the right side or from last. "
   ]
  },
  {
   "cell_type": "code",
   "execution_count": 100,
   "metadata": {},
   "outputs": [
    {
     "name": "stdout",
     "output_type": "stream",
     "text": [
      "True\n",
      "False\n",
      "True\n"
     ]
    }
   ],
   "source": [
    "str='123dhfd'\n",
    "str1='hello sir'\n",
    "str3='3435'\n",
    "print(str.isalnum())#isalnum() checks the alphanumeric,it does not consider the space\n",
    "print(str1.isalpha())#isalpha() checks the all alphabet ,it does not consider the space \n",
    "print(str3.isdigit())# isdigit() checks the all digit,it does not consider the space"
   ]
  },
  {
   "cell_type": "code",
   "execution_count": 102,
   "metadata": {},
   "outputs": [
    {
     "name": "stdout",
     "output_type": "stream",
     "text": [
      "True\n",
      "False\n"
     ]
    }
   ],
   "source": [
    "string='hello'\n",
    "print(string.islower())# it checks that all characters are in lower case or not.\n",
    "print(string.isupper())# it checks that all characters are  in upper case or not."
   ]
  },
  {
   "cell_type": "code",
   "execution_count": null,
   "metadata": {},
   "outputs": [],
   "source": [
    "string='hello'\n",
    "print(string.title())# it checks that all characters are in lower case or not."
   ]
  },
  {
   "cell_type": "code",
   "execution_count": 106,
   "metadata": {},
   "outputs": [
    {
     "name": "stdout",
     "output_type": "stream",
     "text": [
      "True\n"
     ]
    }
   ],
   "source": [
    "str=' '\n",
    "print(str.isspace())# It checks the space only"
   ]
  },
  {
   "cell_type": "code",
   "execution_count": 107,
   "metadata": {},
   "outputs": [
    {
     "name": "stdout",
     "output_type": "stream",
     "text": [
      "21\n"
     ]
    }
   ],
   "source": [
    "str='Radhe Radhe Radhe ...'\n",
    "print(len(str))# It finds the length of the string"
   ]
  },
  {
   "cell_type": "code",
   "execution_count": 108,
   "metadata": {},
   "outputs": [
    {
     "name": "stdout",
     "output_type": "stream",
     "text": [
      "radhe radhe radhe radhe radhe radhe radhe radhe  radhe radhe\n",
      "RADHE RADHE RADHE RADHE RADHE RADHE RADHE RADHE  RADHE RADHE\n"
     ]
    }
   ],
   "source": [
    "str='RADHE RADHE RADHE RADHE RADHE RADHE RADHE RADHE  RADHE RADHE'\n",
    "x=str.lower()# It converts the whole string into in the lower case\n",
    "print(x)\n",
    "print(x.upper())# It coverts the whole string into the upper case"
   ]
  },
  {
   "cell_type": "code",
   "execution_count": 109,
   "metadata": {},
   "outputs": [
    {
     "name": "stdout",
     "output_type": "stream",
     "text": [
      "rADHE\n"
     ]
    }
   ],
   "source": [
    "str='Radhe'\n",
    "print(str.swapcase())# It converts the lowercase into uppercase and vice-versa"
   ]
  },
  {
   "cell_type": "code",
   "execution_count": 110,
   "metadata": {},
   "outputs": [
    {
     "name": "stdout",
     "output_type": "stream",
     "text": [
      "Hello Python\n"
     ]
    }
   ],
   "source": [
    "str='                        Hello Python'\n",
    "print(str.lstrip())# It removes the left white spaces from the string"
   ]
  },
  {
   "cell_type": "code",
   "execution_count": 111,
   "metadata": {},
   "outputs": [
    {
     "name": "stdout",
     "output_type": "stream",
     "text": [
      "Hello Python\n"
     ]
    }
   ],
   "source": [
    "str='Hello Python                            '\n",
    "print(str.rstrip())# It removes right spaces from the string"
   ]
  },
  {
   "cell_type": "code",
   "execution_count": 71,
   "metadata": {},
   "outputs": [
    {
     "name": "stdout",
     "output_type": "stream",
     "text": [
      "Hello Python\n"
     ]
    }
   ],
   "source": [
    "str='             Hello Python                    '\n",
    "print(str.strip())#It removes left as well as right spaces from the string."
   ]
  },
  {
   "cell_type": "code",
   "execution_count": 114,
   "metadata": {},
   "outputs": [
    {
     "name": "stdout",
     "output_type": "stream",
     "text": [
      "hello_how_are_you_sir_?\n",
      "hello_how_are you sir ?\n"
     ]
    }
   ],
   "source": [
    "str='hello how are you sir ?'\n",
    "# syntax:\n",
    "        # string.replace(old_value,new_value,count=-1)count=-1 its a default value\n",
    "print(str.replace(' ','_'))# It replace the desired character from the string.\n",
    "print(str.replace(' ','_',2))# It replace the two space character from the string."
   ]
  },
  {
   "cell_type": "code",
   "execution_count": 121,
   "metadata": {},
   "outputs": [
    {
     "name": "stdout",
     "output_type": "stream",
     "text": [
      "*****Radhe*****\n",
      "*Radhe*\n"
     ]
    }
   ],
   "source": [
    "name='Radhe'\n",
    "print(name.center(len(name)+10,'*'))\n",
    "print(name.center(7,'*'))\n"
   ]
  },
  {
   "cell_type": "code",
   "execution_count": 74,
   "metadata": {},
   "outputs": [
    {
     "name": "stdout",
     "output_type": "stream",
     "text": [
      "Radhe Shyam\n",
      "Radhe shyam\n"
     ]
    }
   ],
   "source": [
    "name='radhe shyam'\n",
    "print(name.title())# It makes the first letter capital of each word in a sentence or word\n",
    "print(name.capitalize())#It only makes the first letter capital"
   ]
  },
  {
   "cell_type": "markdown",
   "metadata": {},
   "source": [
    "# Strings are immutable"
   ]
  },
  {
   "cell_type": "code",
   "execution_count": 75,
   "metadata": {},
   "outputs": [
    {
     "name": "stdout",
     "output_type": "stream",
     "text": [
      "t\n"
     ]
    }
   ],
   "source": [
    "str='string'\n",
    "print(str[1])"
   ]
  },
  {
   "cell_type": "code",
   "execution_count": 122,
   "metadata": {},
   "outputs": [],
   "source": [
    "#str[1]=T  # It will generate error ,string assignment does not support due to immutable in nature. "
   ]
  },
  {
   "cell_type": "code",
   "execution_count": 35,
   "metadata": {},
   "outputs": [
    {
     "name": "stdout",
     "output_type": "stream",
     "text": [
      "sTring\n",
      "string\n"
     ]
    }
   ],
   "source": [
    "print(str.replace('t','T'))# We can't change the string,only we can store it in the new variable\n",
    "print(str)"
   ]
  },
  {
   "cell_type": "markdown",
   "metadata": {},
   "source": [
    "# More Assignment Operator"
   ]
  },
  {
   "cell_type": "code",
   "execution_count": 123,
   "metadata": {},
   "outputs": [
    {
     "data": {
      "text/plain": [
       "'harshit'"
      ]
     },
     "execution_count": 123,
     "metadata": {},
     "output_type": "execute_result"
    }
   ],
   "source": [
    "name='harsh'\n",
    "name += 'it'# name = name + 'it'\n",
    "name"
   ]
  },
  {
   "cell_type": "code",
   "execution_count": 124,
   "metadata": {},
   "outputs": [
    {
     "data": {
      "text/plain": [
       "'your name is pankaj'"
      ]
     },
     "execution_count": 124,
     "metadata": {},
     "output_type": "execute_result"
    }
   ],
   "source": [
    "name=input()\n",
    "f'your name is {name}' if name else f'you didn\"t enter anything'"
   ]
  },
  {
   "cell_type": "code",
   "execution_count": null,
   "metadata": {},
   "outputs": [],
   "source": []
  },
  {
   "cell_type": "code",
   "execution_count": 125,
   "metadata": {},
   "outputs": [
    {
     "name": "stdout",
     "output_type": "stream",
     "text": [
      "3\n"
     ]
    }
   ],
   "source": [
    "# multi-line comment\n",
    "'''\n",
    "gvhj\n",
    "hbjhkjl\n",
    "'''\n",
    "print(3)"
   ]
  },
  {
   "cell_type": "code",
   "execution_count": 126,
   "metadata": {},
   "outputs": [
    {
     "name": "stdout",
     "output_type": "stream",
     "text": [
      "ab\n",
      "5\n"
     ]
    }
   ],
   "source": [
    "x=['ab','5']\n",
    "for i in x:print(i)"
   ]
  },
  {
   "cell_type": "code",
   "execution_count": 127,
   "metadata": {},
   "outputs": [
    {
     "name": "stdout",
     "output_type": "stream",
     "text": [
      "[1, 1, 1, 1, 1, 1, 1, 1, 1, 1, 1, 2, 1, 2, 2, 1, 3, 2, 2, 2, 1]\n"
     ]
    }
   ],
   "source": [
    "# Problem given by Monu\n",
    "str=input()\n",
    "l,l1,l3=[],[],[]\n",
    "count=1\n",
    "for i in str:\n",
    "    if i not in l:\n",
    "        l.append(i)\n",
    "        l1.append(l.count(i))\n",
    "    else:\n",
    "        l.append(i)\n",
    "        l1.append(l.count(i))\n",
    "print(l1)"
   ]
  },
  {
   "cell_type": "code",
   "execution_count": 128,
   "metadata": {},
   "outputs": [
    {
     "name": "stdout",
     "output_type": "stream",
     "text": [
      "0\n"
     ]
    }
   ],
   "source": [
    "#Program\n",
    "name=input().lower()\n",
    "characater=input().lower()\n",
    "count=0\n",
    "for i in name:\n",
    "    if characater==i:\n",
    "        count+=1\n",
    "print(count)"
   ]
  },
  {
   "cell_type": "markdown",
   "metadata": {},
   "source": [
    "## 03rd, Janurary 2020"
   ]
  },
  {
   "cell_type": "code",
   "execution_count": 42,
   "metadata": {},
   "outputs": [],
   "source": [
    "#google classroom python code --> ypc3ivv"
   ]
  },
  {
   "cell_type": "markdown",
   "metadata": {},
   "source": [
    "## 04th, Janurary 2020"
   ]
  },
  {
   "cell_type": "code",
   "execution_count": 129,
   "metadata": {},
   "outputs": [
    {
     "name": "stdout",
     "output_type": "stream",
     "text": [
      "Hello 125225388348912\n",
      "Hello 125225388348912\n"
     ]
    }
   ],
   "source": [
    "# Automatic Memory Management in Python\n",
    "x='Hello'\n",
    "print(x, id(x))\n",
    "# id()return memory address of object\n",
    "y='Hello'\n",
    "print(y, id(y))"
   ]
  },
  {
   "cell_type": "code",
   "execution_count": 130,
   "metadata": {},
   "outputs": [
    {
     "name": "stdout",
     "output_type": "stream",
     "text": [
      "Hellosir 125225383541872\n",
      "Hello 125225388348912\n"
     ]
    }
   ],
   "source": [
    "x=x+'sir'\n",
    "print(x, id(x))\n",
    "z='Hello'\n",
    "print(z, id(z))"
   ]
  },
  {
   "cell_type": "code",
   "execution_count": 131,
   "metadata": {},
   "outputs": [
    {
     "name": "stdout",
     "output_type": "stream",
     "text": [
      "False False\n",
      "True True\n",
      "False\n"
     ]
    }
   ],
   "source": [
    "#identity operator:It compares the memory adress object(string)\n",
    "# is/is not\n",
    "#This operator returns boolean data\n",
    "x='hellosir'\n",
    "y='hello'\n",
    "z='hello'\n",
    "print(x is z,x==z)\n",
    "print(y is z,y==z)\n",
    "print(y is not z)"
   ]
  },
  {
   "cell_type": "code",
   "execution_count": 132,
   "metadata": {},
   "outputs": [
    {
     "name": "stdout",
     "output_type": "stream",
     "text": [
      "False\n",
      "True\n"
     ]
    }
   ],
   "source": [
    "#Membership operator\n",
    "# in,not in# It returns the bolean value\n",
    "print('H' in y)\n",
    "print('H' not in y)"
   ]
  },
  {
   "cell_type": "code",
   "execution_count": 134,
   "metadata": {},
   "outputs": [],
   "source": [
    "n1,n2=1,2\n",
    "total=n1+n2"
   ]
  },
  {
   "cell_type": "markdown",
   "metadata": {},
   "source": [
    "**replacement operator {}**"
   ]
  },
  {
   "cell_type": "code",
   "execution_count": 135,
   "metadata": {},
   "outputs": [
    {
     "name": "stdout",
     "output_type": "stream",
     "text": [
      "Sum of 1 and 2 is 3\n",
      "Sum of 2 and 1 is 3\n"
     ]
    }
   ],
   "source": [
    "#.format()#This is not latest method\n",
    "result='Sum of {} and {} is {}'.format(n1,n2,total)\n",
    "print(result)\n",
    "result='Sum of {1} and {0} is {2}'.format(n1,n2,total)\n",
    "print(result)"
   ]
  },
  {
   "cell_type": "code",
   "execution_count": 137,
   "metadata": {},
   "outputs": [
    {
     "data": {
      "text/plain": [
       "'1 : 2 : 3'"
      ]
     },
     "execution_count": 137,
     "metadata": {},
     "output_type": "execute_result"
    }
   ],
   "source": [
    "s = '{} : {} : {}'.format(1,2,3) \n",
    "s "
   ]
  },
  {
   "cell_type": "code",
   "execution_count": 141,
   "metadata": {},
   "outputs": [
    {
     "data": {
      "text/plain": [
       "'1 : 2'"
      ]
     },
     "execution_count": 141,
     "metadata": {},
     "output_type": "execute_result"
    }
   ],
   "source": [
    "s= '{} : {}'.format(1,2) \n",
    "s "
   ]
  },
  {
   "cell_type": "code",
   "execution_count": 142,
   "metadata": {},
   "outputs": [
    {
     "data": {
      "text/plain": [
       "'1 : 2 : 3 : 4'"
      ]
     },
     "execution_count": 142,
     "metadata": {},
     "output_type": "execute_result"
    }
   ],
   "source": [
    "s = '{0} : {1} : {2} : {3}'.format(1,2,3,4)\n",
    "s "
   ]
  },
  {
   "cell_type": "code",
   "execution_count": 143,
   "metadata": {},
   "outputs": [
    {
     "data": {
      "text/plain": [
       "'1 : 4 : 3 : 4'"
      ]
     },
     "execution_count": 143,
     "metadata": {},
     "output_type": "execute_result"
    }
   ],
   "source": [
    "s = '{0} : {3} : {2} : {3}'.format(1,2,3,4)\n",
    "s "
   ]
  },
  {
   "cell_type": "code",
   "execution_count": 1,
   "metadata": {},
   "outputs": [
    {
     "data": {
      "text/plain": [
       "'1 : 2 : 3 : 4'"
      ]
     },
     "execution_count": 1,
     "metadata": {},
     "output_type": "execute_result"
    }
   ],
   "source": [
    "s = '{a} : {b} : {c} : {d}'.format(a=1,b=2,c=3,d=4)\n",
    "s "
   ]
  },
  {
   "cell_type": "markdown",
   "metadata": {},
   "source": [
    "- **string  formating %** \n",
    "- '%i' : signed decimal values. \n",
    "- '%d' : signed decimal values. \n",
    "- '%f' : float values \n",
    "- '%s' : string,list,set or any other objects"
   ]
  },
  {
   "cell_type": "code",
   "execution_count": 8,
   "metadata": {},
   "outputs": [
    {
     "name": "stdout",
     "output_type": "stream",
     "text": [
      "value of a is : 10\n",
      "value of a is : 10\n",
      "value of a is : 10\n",
      "\n",
      "value of a is : 20\n",
      "value of a is : 20\n",
      "value of a is : 30\n",
      "a=10,b=20,c=30\n"
     ]
    }
   ],
   "source": [
    "a,b,c = 10,20,30\n",
    "print(f'value of a is : %i'%a)\n",
    "print(f'value of a is : %i'%a)\n",
    "print(f'value of a is : %i'%a,end='\\n\\n')\n",
    "\n",
    "print(f'value of a is : %d'%b)\n",
    "print(f'value of a is : %d'%b)\n",
    "print(f'value of a is : %d'%c)\n",
    "\n",
    "print(f'a=%d,b=%d,c=%d' %(a,b,c))\n",
    "\n",
    "\n"
   ]
  },
  {
   "cell_type": "code",
   "execution_count": 9,
   "metadata": {},
   "outputs": [
    {
     "data": {
      "text/plain": [
       "'hello durga your marks are [80, 89, 70, 59, 100]'"
      ]
     },
     "execution_count": 9,
     "metadata": {},
     "output_type": "execute_result"
    }
   ],
   "source": [
    "name = 'durga' \n",
    "marks = [80,89,70,59,100]\n",
    "\n",
    "s = 'hello %s your marks are %s' %(name,marks)\n",
    "s "
   ]
  },
  {
   "cell_type": "code",
   "execution_count": 13,
   "metadata": {},
   "outputs": [
    {
     "name": "stdout",
     "output_type": "stream",
     "text": [
      "your mark is : 80.843875\n",
      "your marks is 80.84\n"
     ]
    }
   ],
   "source": [
    "marks = 80.84387483 \n",
    "\n",
    "replacement_operator = 'your mark is : %f' %marks \n",
    "string_formating = 'your marks is %.2f' %marks \n",
    "\n",
    "print(replacement_operator,string_formating,sep='\\n')"
   ]
  },
  {
   "cell_type": "code",
   "execution_count": null,
   "metadata": {},
   "outputs": [],
   "source": []
  },
  {
   "cell_type": "code",
   "execution_count": 144,
   "metadata": {},
   "outputs": [
    {
     "ename": "TypeError",
     "evalue": "'str' object doesn't support item deletion",
     "output_type": "error",
     "traceback": [
      "\u001b[0;31m---------------------------------------------------------------------------\u001b[0m",
      "\u001b[0;31mTypeError\u001b[0m                                 Traceback (most recent call last)",
      "\u001b[0;32m/tmp/ipykernel_1197033/2844136400.py\u001b[0m in \u001b[0;36m<module>\u001b[0;34m\u001b[0m\n\u001b[1;32m      1\u001b[0m \u001b[0mstring\u001b[0m\u001b[0;34m=\u001b[0m\u001b[0;34m'Jaiss'\u001b[0m\u001b[0;34m\u001b[0m\u001b[0;34m\u001b[0m\u001b[0m\n\u001b[0;32m----> 2\u001b[0;31m \u001b[0;32mdel\u001b[0m \u001b[0mstring\u001b[0m\u001b[0;34m[\u001b[0m\u001b[0;36m0\u001b[0m\u001b[0;34m]\u001b[0m\u001b[0;31m#'str' object doesn't support item deletion\u001b[0m\u001b[0;34m\u001b[0m\u001b[0;34m\u001b[0m\u001b[0m\n\u001b[0m",
      "\u001b[0;31mTypeError\u001b[0m: 'str' object doesn't support item deletion"
     ]
    }
   ],
   "source": [
    "string='Jaiss'\n",
    "del string[0]#'str' object doesn't support item deletion"
   ]
  },
  {
   "cell_type": "markdown",
   "metadata": {},
   "source": [
    "## 12th,February 2020"
   ]
  },
  {
   "cell_type": "code",
   "execution_count": 149,
   "metadata": {},
   "outputs": [
    {
     "name": "stdout",
     "output_type": "stream",
     "text": [
      "Leap Year\n"
     ]
    }
   ],
   "source": [
    "y=int(input('Enter a year : '))\n",
    "if y%4==0:\n",
    "    if y%100==0:\n",
    "        if y%400==0:\n",
    "            print('Leap Year')\n",
    "        else:\n",
    "            print('Not a Leap Year')\n",
    "    else:\n",
    "        print('Leap Year')\n",
    "else:\n",
    "    print(' Not Leap Year')"
   ]
  },
  {
   "cell_type": "code",
   "execution_count": null,
   "metadata": {},
   "outputs": [
    {
     "data": {
      "text/plain": [
       "True"
      ]
     },
     "metadata": {},
     "output_type": "display_data"
    }
   ],
   "source": [
    "'durga' < 'ram'"
   ]
  },
  {
   "cell_type": "code",
   "execution_count": null,
   "metadata": {},
   "outputs": [
    {
     "data": {
      "text/plain": [
       "100"
      ]
     },
     "metadata": {},
     "output_type": "display_data"
    }
   ],
   "source": [
    "ord('d') "
   ]
  },
  {
   "cell_type": "code",
   "execution_count": null,
   "metadata": {},
   "outputs": [
    {
     "data": {
      "text/plain": [
       "114"
      ]
     },
     "metadata": {},
     "output_type": "display_data"
    }
   ],
   "source": [
    "ord('r')"
   ]
  },
  {
   "cell_type": "code",
   "execution_count": null,
   "metadata": {},
   "outputs": [
    {
     "data": {
      "text/plain": [
       "True"
      ]
     },
     "metadata": {},
     "output_type": "display_data"
    }
   ],
   "source": [
    "'ramba' < 'ramya'"
   ]
  },
  {
   "cell_type": "code",
   "execution_count": null,
   "metadata": {},
   "outputs": [
    {
     "data": {
      "text/plain": [
       "False"
      ]
     },
     "metadata": {},
     "output_type": "display_data"
    }
   ],
   "source": [
    "'ramba' == 'ramya'"
   ]
  },
  {
   "cell_type": "code",
   "execution_count": null,
   "metadata": {},
   "outputs": [
    {
     "data": {
      "text/plain": [
       "False"
      ]
     },
     "metadata": {},
     "output_type": "display_data"
    }
   ],
   "source": [
    "'ramba' > 'ramya' "
   ]
  },
  {
   "cell_type": "code",
   "execution_count": 17,
   "metadata": {},
   "outputs": [
    {
     "name": "stdout",
     "output_type": "stream",
     "text": [
      "i : 0 abc : at index 0\n",
      "i : 1 abc : at index 3\n",
      "i : 2 abc : at index 6\n"
     ]
    }
   ],
   "source": [
    "# WAP to find each occurance os the sub_string \n",
    "\n",
    "s = 'abcabcabca'\n",
    "sub_str = 'abc'\n",
    "index = 0 \n",
    "for i in range(0,len(s)):\n",
    "    index = s.find(sub_str,(i+index),len(s))\n",
    "    if index == -1:\n",
    "        break \n",
    "    else:\n",
    "        print(f'i : {i} {sub_str} : at index {index}')"
   ]
  },
  {
   "cell_type": "code",
   "execution_count": 10,
   "metadata": {},
   "outputs": [
    {
     "name": "stdout",
     "output_type": "stream",
     "text": [
      "RTaevjiakiran\n"
     ]
    }
   ],
   "source": [
    "# WAP  to merge the two strings into a single string alternatively \n",
    "\n",
    "# input 1 : Ravi \n",
    "# input 2 : Teja \n",
    "# output  : RTaevjia \n",
    "\n",
    "s1 = 'Ravikiran' \n",
    "s2 = 'Teja'\n",
    "\n",
    "i,j = 0,0 \n",
    "ouput = '' \n",
    "\n",
    "while i<len(s1) or j<len(s2): \n",
    "    \n",
    "    if i < len(s1):\n",
    "        ouput += s1[i]\n",
    "        i += 1 \n",
    "        \n",
    "    if j < len(s2):\n",
    "        ouput += s2[j]\n",
    "        j += 1 \n",
    "        \n",
    "print(ouput)"
   ]
  },
  {
   "cell_type": "code",
   "execution_count": 28,
   "metadata": {},
   "outputs": [
    {
     "name": "stdout",
     "output_type": "stream",
     "text": [
      "dddffjjjjkkkkllllllmos233334449\n"
     ]
    }
   ],
   "source": [
    "# input  : d2kl4o9 \n",
    "# output :dklo249 \n",
    "s = 'd2kl4okflkdsjl3j4l3mflkdjl34j39'\n",
    "digit = ''\n",
    "s2 = '' \n",
    "sorted_str = sorted(s)\n",
    "for i in ''.join(sorted_str):\n",
    "    if i in [str(j) for j in range(0,10)]:\n",
    "        digit += i \n",
    "    else:\n",
    "        s2 += i \n",
    "        \n",
    "print(s2 + digit)\n",
    "        "
   ]
  },
  {
   "cell_type": "code",
   "execution_count": 39,
   "metadata": {},
   "outputs": [
    {
     "name": "stdout",
     "output_type": "stream",
     "text": [
      "aaaazzbbbcccccgggggggg\n"
     ]
    }
   ],
   "source": [
    "# input  : a4b3z2c5 \n",
    "# output :aaaabbbccccc\n",
    "s = 'a4z2b3c5g8' \n",
    "ouput = ''\n",
    "\n",
    "for ind,val in enumerate(s):\n",
    "    if val.isdigit():\n",
    "        ouput += int(val)*s[ind-1]\n",
    "print(ouput)"
   ]
  },
  {
   "cell_type": "code",
   "execution_count": 41,
   "metadata": {},
   "outputs": [
    {
     "data": {
      "text/plain": [
       "'aaaabbbcccccggggggggzz'"
      ]
     },
     "execution_count": 41,
     "metadata": {},
     "output_type": "execute_result"
    }
   ],
   "source": [
    "''.join(sorted(ouput))"
   ]
  },
  {
   "cell_type": "code",
   "execution_count": 56,
   "metadata": {},
   "outputs": [
    {
     "name": "stdout",
     "output_type": "stream",
     "text": [
      "5a3b5c4d1e3f1i4j5k\n"
     ]
    }
   ],
   "source": [
    "# input  : aaaabbbccccc \n",
    "# output :4a3b5c\n",
    "s = 'aaaabbbccccciekjajfkdjfkdkdjfkd' \n",
    "l = []\n",
    "ouput = ''\n",
    "for i in s:\n",
    "    l.append(ord(i))\n",
    "    \n",
    "for j in set(l):\n",
    "    ouput += str(s.count(chr(j)))+chr(j) \n",
    "    \n",
    "print(ouput)"
   ]
  },
  {
   "cell_type": "code",
   "execution_count": 63,
   "metadata": {},
   "outputs": [
    {
     "name": "stdout",
     "output_type": "stream",
     "text": [
      "aeknbdjmnw\n"
     ]
    }
   ],
   "source": [
    "# input  : a4k3b2 \n",
    "# output :aeknbd\n",
    "s = 'a4k3b2j3n9' \n",
    "l = []\n",
    "ouput = ''\n",
    "for ind,val in enumerate(s):\n",
    "    if val.isdigit():\n",
    "        ouput += chr(ord(s[ind-1]) + int(val)) \n",
    "    else:\n",
    "        ouput += val \n",
    "    \n",
    "print(ouput)"
   ]
  },
  {
   "cell_type": "code",
   "execution_count": 72,
   "metadata": {},
   "outputs": [
    {
     "name": "stdout",
     "output_type": "stream",
     "text": [
      "a : 3 times\n",
      "b : 2 times\n",
      "c : 2 times\n",
      "d : 1 times\n",
      "f : 1 times\n"
     ]
    }
   ],
   "source": [
    "# Find the no. of occurances without using count() function \n",
    "\n",
    "s = 'aaabbccdf'\n",
    "d = {}\n",
    "\n",
    "for char in s:\n",
    "    d[char] = d.get(char,0) + 1 \n",
    "for k,v in sorted(d.items()):\n",
    "    print(f'{k} : {v} times')"
   ]
  },
  {
   "cell_type": "code",
   "execution_count": 74,
   "metadata": {},
   "outputs": [
    {
     "data": {
      "text/plain": [
       "'3a2b2c1d1f'"
      ]
     },
     "execution_count": 74,
     "metadata": {},
     "output_type": "execute_result"
    }
   ],
   "source": [
    "output = ''\n",
    "for k,v in sorted(d.items()):\n",
    "    output += f'{v}{k}'\n",
    "output"
   ]
  },
  {
   "cell_type": "code",
   "execution_count": 6,
   "metadata": {},
   "outputs": [
    {
     "name": "stdout",
     "output_type": "stream",
     "text": [
      "Both strings are anagrams...\n"
     ]
    }
   ],
   "source": [
    "#WAP to whether two strings are Anagrams or not. \n",
    "s1 = 'listen'\n",
    "s2 = 'silent' \n",
    "\n",
    "if sorted(s1) == sorted(s2):\n",
    "    print('Both strings are anagrams...')\n",
    "else:\n",
    "    print('Both strings are not anagrams...')\n",
    "    "
   ]
  },
  {
   "cell_type": "code",
   "execution_count": null,
   "metadata": {},
   "outputs": [],
   "source": []
  }
 ],
 "metadata": {
  "kernelspec": {
   "display_name": "Python 3 (ipykernel)",
   "language": "python",
   "name": "python3"
  },
  "language_info": {
   "codemirror_mode": {
    "name": "ipython",
    "version": 3
   },
   "file_extension": ".py",
   "mimetype": "text/x-python",
   "name": "python",
   "nbconvert_exporter": "python",
   "pygments_lexer": "ipython3",
   "version": "3.9.20"
  }
 },
 "nbformat": 4,
 "nbformat_minor": 4
}
