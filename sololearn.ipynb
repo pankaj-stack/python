{
 "cells": [
  {
   "cell_type": "code",
   "execution_count": null,
   "metadata": {},
   "outputs": [],
   "source": [
    "#32<=ord(i)<=47 or 58<=ord(i)<=64 or 91<=ord(i)<=96 or 123<=ord(i)<=126 =>Special characater#\n",
    "# 0 to 9 ==> 48<=ord(i)<=57"
   ]
  },
  {
   "cell_type": "code",
   "execution_count": 14,
   "metadata": {},
   "outputs": [
    {
     "name": "stdout",
     "output_type": "stream",
     "text": [
      "xxxggxx$xxt\n",
      "ALARM\n"
     ]
    }
   ],
   "source": [
    "#Security\n",
    "string=input().lower()\n",
    "l1=[]\n",
    "for i in range(len(string)):\n",
    "    if string[i]=='g':\n",
    "        l1.append(i)\n",
    "money_position=string.index('$')\n",
    "guard_position=string.index('g')\n",
    "thief_position=string.index('t')\n",
    "if thief_position<money_position:\n",
    "    thief_position,money_position=money_position,thief_position\n",
    "l=list(range(money_position,thief_position))\n",
    "guard=0\n",
    "for j in l1:\n",
    "    for k in range(len(l)):\n",
    "        if j==l[k]:\n",
    "            guard+=1\n",
    "if guard==0:\n",
    "       print('ALARM')\n",
    "else:\n",
    "    print('quiet')"
   ]
  },
  {
   "cell_type": "code",
   "execution_count": 23,
   "metadata": {},
   "outputs": [
    {
     "name": "stdout",
     "output_type": "stream",
     "text": [
      "go over there\n",
      "ogay veroay heretay "
     ]
    }
   ],
   "source": [
    "#Pig-Latin\n",
    "lists=input().split(' ')\n",
    "l=[]\n",
    "for str in lists:\n",
    "    pig_latin=str[1:]+str[0]+'ay'\n",
    "    l.append(pig_latin) \n",
    "for j in l:print(j,end=' ')"
   ]
  },
  {
   "cell_type": "code",
   "execution_count": 15,
   "metadata": {},
   "outputs": [
    {
     "name": "stdout",
     "output_type": "stream",
     "text": [
      "01:15 PM\n",
      "01:15 PM\n",
      "MP 51:10\n",
      "13\n",
      "<class 'int'>\n",
      "131513:1513:15: time\n"
     ]
    }
   ],
   "source": [
    "#clock\n",
    "time=input()\n",
    "print(time)\n",
    "print(time[::-1])\n",
    "if time[::-1][:2]=='MP':\n",
    "    new_time=int(time[:2])+12\n",
    "    print(new_time)\n",
    "    print(type(new_time))\n",
    "    new_time1=new_time1+str(new_time)+':'+time[3:5]\n",
    "print(f'{new_time1}: time')"
   ]
  },
  {
   "cell_type": "code",
   "execution_count": 11,
   "metadata": {},
   "outputs": [
    {
     "name": "stdout",
     "output_type": "stream",
     "text": [
      "12:15 PM\n",
      "0:15\n"
     ]
    }
   ],
   "source": [
    "#clock\n",
    "time=input()\n",
    "new_time1=''\n",
    "if time[::-1][:2]=='MP':\n",
    "    if new_time==12:\n",
    "        new_time=0\n",
    "    new_time=int(time[:2])+12\n",
    "    new_time1=new_time1+str(new_time)+':'+time[3:5]\n",
    "    print(f'{new_time1}')\n",
    "else:\n",
    "    print(time[:5])"
   ]
  },
  {
   "cell_type": "code",
   "execution_count": 16,
   "metadata": {},
   "outputs": [
    {
     "name": "stdout",
     "output_type": "stream",
     "text": [
      "hjfhkdj34j3\n",
      "hjfhkdj34j3"
     ]
    }
   ],
   "source": [
    "#Symbols\n",
    "str=input()\n",
    "for i in str:\n",
    "    if 65<=ord(i)<=91 or 97<=ord(i)<=122 or ord(i)==32 or type(int(i))==int:\n",
    "        print(i,end='')\n",
    "        \n",
    "        "
   ]
  },
  {
   "cell_type": "code",
   "execution_count": 13,
   "metadata": {},
   "outputs": [
    {
     "name": "stdout",
     "output_type": "stream",
     "text": [
      "5\n",
      "Help me Batman\n"
     ]
    }
   ],
   "source": [
    "#Batman\n",
    "no_of_criminal=int(input())\n",
    "if no_of_criminal<=4:\n",
    "    print('I got this!')\n",
    "elif 4<no_of_criminal<=10:\n",
    "    print('Help me Batman')\n",
    "elif no_of_criminal>10:\n",
    "    print('Good Luck out there!')"
   ]
  },
  {
   "cell_type": "code",
   "execution_count": 15,
   "metadata": {},
   "outputs": [
    {
     "name": "stdout",
     "output_type": "stream",
     "text": [
      "10\n",
      "20\n",
      "give away\n"
     ]
    }
   ],
   "source": [
    "#Popsicles\n",
    "siblings=int(input())\n",
    "popsicles=int(input())\n",
    "print('give away') if popsicles%siblings==0 else print('eat them yourself')\n"
   ]
  },
  {
   "cell_type": "code",
   "execution_count": 21,
   "metadata": {},
   "outputs": [
    {
     "name": "stdout",
     "output_type": "stream",
     "text": [
      "10\n",
      "20\n"
     ]
    }
   ],
   "source": [
    "# Halloween Candy\n",
    "visited_houses=int(input())\n",
    "percentage=2/visited_houses*100\n",
    "if percentage>int(percentage):\n",
    "    percentage+=1\n",
    "print(int(percentage))\n"
   ]
  },
  {
   "cell_type": "code",
   "execution_count": 27,
   "metadata": {},
   "outputs": [
    {
     "name": "stdout",
     "output_type": "stream",
     "text": [
      "4343@#@$$hello #$#23ris\n",
      "sir olleh"
     ]
    }
   ],
   "source": [
    "# The Spy Life\n",
    "encoded_message=input()\n",
    "encoded_message=encoded_message[::-1]\n",
    "for i in encoded_message:\n",
    "    if 97<=ord(i)<=122 or 65<=ord(i)<=90 or ord(i)==32:\n",
    "        print(i,end='')"
   ]
  },
  {
   "cell_type": "code",
   "execution_count": 36,
   "metadata": {},
   "outputs": [
    {
     "name": "stdout",
     "output_type": "stream",
     "text": [
      "Can you not do that?\n",
      "3\n"
     ]
    }
   ],
   "source": [
    "# Average Word Length\n",
    "sentence=input()\n",
    "length=len(sentence.split())\n",
    "count=0\n",
    "for i in sentence:\n",
    "    if 97<=ord(i)<=122 or 65<=ord(i)<=90:\n",
    "        count+=1\n",
    "average_word=count/length\n",
    "if average_word>int(average_word):\n",
    "    average_word+=1\n",
    "print(int(average_word))"
   ]
  },
  {
   "cell_type": "code",
   "execution_count": 6,
   "metadata": {},
   "outputs": [
    {
     "name": "stdout",
     "output_type": "stream",
     "text": [
      "aaadhjdsda\n",
      "Deja Vu\n"
     ]
    }
   ],
   "source": [
    "# repeated word by mistake\n",
    "string=input()\n",
    "count,l=0,[]\n",
    "for i in string:\n",
    "    if i not in l:\n",
    "        l.append(i)\n",
    "    else:\n",
    "        count+=1\n",
    "print('Deja Vu') if count>0 else print('Unique') "
   ]
  },
  {
   "cell_type": "code",
   "execution_count": 28,
   "metadata": {},
   "outputs": [
    {
     "name": "stdout",
     "output_type": "stream",
     "text": [
      "Hello World\n",
      "svool dliow"
     ]
    }
   ],
   "source": [
    "# Secret Message\n",
    "string=input().lower()\n",
    "l=[]\n",
    "for i in range(97,123):\n",
    "    l.append(chr(i))\n",
    "l1=l[::-1]\n",
    "for j in string:\n",
    "    if ord(j)==32:\n",
    "        print(' ',end='')\n",
    "    else:\n",
    "        ind=l.index(j)\n",
    "        print(l1[ind],end='')"
   ]
  },
  {
   "cell_type": "code",
   "execution_count": 7,
   "metadata": {},
   "outputs": [
    {
     "name": "stdout",
     "output_type": "stream",
     "text": [
      "@#12\n",
      "Weak\n"
     ]
    }
   ],
   "source": [
    "# Password Validation\n",
    "#32–47 / 58–64 / 91–96 / 123–126\n",
    "str=input().lower()\n",
    "count,no=0,0\n",
    "for i in str:\n",
    "    if (32<=ord(i)<=47 or 58<=ord(i)<=64 or 91<=ord(i)<=96 or 123<=ord(i)<=126) and len(str)>=7:\n",
    "        count+=1\n",
    "    if 48<=ord(i)<=57 and len(str)>=7:\n",
    "        no+=1\n",
    "if count>1 and no>1:\n",
    "    print('Strong')\n",
    "else:\n",
    "    print('Weak')"
   ]
  },
  {
   "cell_type": "code",
   "execution_count": 10,
   "metadata": {},
   "outputs": [
    {
     "name": "stdout",
     "output_type": "stream",
     "text": [
      "5\n",
      "0\n"
     ]
    }
   ],
   "source": [
    "#Fruit Bowl\n",
    "no_of_fruits=int(input())\n",
    "apple=no_of_fruits//2\n",
    "print(apple//3)"
   ]
  },
  {
   "cell_type": "code",
   "execution_count": 22,
   "metadata": {},
   "outputs": [
    {
     "name": "stdout",
     "output_type": "stream",
     "text": [
      "5\n",
      "Ra!Ra!Ra!Ra!Ra!"
     ]
    }
   ],
   "source": [
    "yard_no=int(input())\n",
    "if yard_no>10:\n",
    "    for i in range(yard_no):print('High Five')\n",
    "elif yard_no>0:\n",
    "    for i in range(yard_no):print('Ra!',end='')\n",
    "else:\n",
    "    print('shh')"
   ]
  },
  {
   "cell_type": "code",
   "execution_count": 25,
   "metadata": {},
   "outputs": [
    {
     "name": "stdout",
     "output_type": "stream",
     "text": [
      "4000\n",
      "100\n",
      "Pesos\n"
     ]
    }
   ],
   "source": [
    "#Argentina\n",
    "pesos,dollars=int(input()),int(input())\n",
    "pesos=0.02*pesos\n",
    "print('Dollars') if dollars<pesos else print('Pesos')"
   ]
  },
  {
   "cell_type": "code",
   "execution_count": 28,
   "metadata": {},
   "outputs": [
    {
     "name": "stdout",
     "output_type": "stream",
     "text": [
      "11\n",
      "4\n",
      "Try again\n"
     ]
    }
   ],
   "source": [
    "#Skee-Ball\n",
    "score,ticket=int(input()),int(input())\n",
    "new_score=score//12\n",
    "print('Buy it!') if new_score>=ticket else print('Try again')"
   ]
  },
  {
   "cell_type": "code",
   "execution_count": null,
   "metadata": {},
   "outputs": [],
   "source": []
  }
 ],
 "metadata": {
  "kernelspec": {
   "display_name": "Python 3",
   "language": "python",
   "name": "python3"
  },
  "language_info": {
   "codemirror_mode": {
    "name": "ipython",
    "version": 3
   },
   "file_extension": ".py",
   "mimetype": "text/x-python",
   "name": "python",
   "nbconvert_exporter": "python",
   "pygments_lexer": "ipython3",
   "version": "3.7.4"
  }
 },
 "nbformat": 4,
 "nbformat_minor": 2
}
