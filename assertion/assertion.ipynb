{
 "cells": [
  {
   "cell_type": "markdown",
   "metadata": {},
   "source": [
    "<!DOCTYPE html>\n",
    "<html>\n",
    "<head>\n",
    "    <title>Assertions</title>\n",
    "</head>\n",
    "<body>\n",
    "    <h2>Assertions:</h2>\n",
    "    <p><strong>Bug:</strong> The deviation between expected output and original output</p>\n",
    "    <p><strong>Debugging:</strong> The process of identifying and fixing the bug is called debugging.</p>\n",
    "</body>\n",
    "</html>\n"
   ]
  },
  {
   "cell_type": "markdown",
   "metadata": {},
   "source": [
    "<!DOCTYPE html>\n",
    "<html>\n",
    "<head>\n",
    "    <title>Assertions</title>\n",
    "</head>\n",
    "<body>\n",
    "    <p><strong>Assertions:</strong></p>\n",
    "    <p>The most common way of debugging is usage of print() statement.</p>\n",
    "    <p>But the problem with the print statement is, after fixing the bug, compulsory we have to delete the extra added print() statements, otherwise these will be executed at runtime which creates performance problems and disturbs server logging/console output.</p>\n",
    "</body>\n",
    "</html>\n"
   ]
  },
  {
   "cell_type": "markdown",
   "metadata": {},
   "source": [
    "<!DOCTYPE html>\n",
    "<html>\n",
    "<head>\n",
    "    <title>Assertions</title>\n",
    "</head>\n",
    "<body>\n",
    "    <p><strong>Assertions:</strong></p>\n",
    "    <p>The most common way of debugging is usage of print() statement.</p>\n",
    "    <p>But the problem with the print statement is, after fixing the bug, compulsory we have to delete the extra added print() statements, otherwise these will be executed at runtime which creates performance problems and disturbs server logging/console output.</p>\n",
    "</body>\n",
    "</html>\n"
   ]
  },
  {
   "cell_type": "markdown",
   "metadata": {},
   "source": [
    "<!DOCTYPE html>\n",
    "<html>\n",
    "<head>\n",
    "    <title>Assertions</title>\n",
    "</head>\n",
    "<body>\n",
    "    <p><strong>Assertions:</strong></p>\n",
    "    <p>To overcome this problem, we should go for assert statements instead of print statements. The main advantage of assert statements over print statements is that after fixing the bug, we are not required to delete assert statements explicitly. Based on our requirement, we can enable or disable assert statements.</p>\n",
    "    <p>Hence, the main purpose of assert statements is to perform debugging.</p>\n",
    "</body>\n",
    "</html>\n"
   ]
  },
  {
   "cell_type": "markdown",
   "metadata": {},
   "source": [
    "<!DOCTYPE html>\n",
    "<html>\n",
    "<head>\n",
    "    <title>Assertions</title>\n",
    "</head>\n",
    "<body>\n",
    "    <h2>Assertions:</h2>\n",
    "    <p>For Any project, the following three types of environments are available:</p>\n",
    "    <ol>\n",
    "        <li>Development Environment (Dev)</li>\n",
    "        <li>Test Environment</li>\n",
    "        <li>Production Environment (Live)</li>\n",
    "    </ol>\n",
    "    <p>Usually, we can perform debugging either in the Development environment or Test environment but not in the production environment. Hence assertions concept applicable only for Dev and Test environments but not for production environment.</p>\n",
    "</body>\n",
    "</html>\n"
   ]
  },
  {
   "cell_type": "markdown",
   "metadata": {},
   "source": [
    "<!DOCTYPE html>\n",
    "<html>\n",
    "<head>\n",
    "    <title>Types of Assert Statements</title>\n",
    "</head>\n",
    "<body>\n",
    "    <h1>Types of Assert Statements:</h1>\n",
    "    <ul>\n",
    "        <li>Simple Version</li>\n",
    "        <li>Augmented Version (More Simpler Version)</li>\n",
    "    </ul>\n",
    "</body>\n",
    "</html>\n"
   ]
  },
  {
   "cell_type": "markdown",
   "metadata": {},
   "source": [
    "<!DOCTYPE html>\n",
    "<html>\n",
    "<head>\n",
    "    <title>Simple Version</title>\n",
    "</head>\n",
    "<body>\n",
    "    <h1>Simple Version</h1>\n",
    "    <p><code>assert conditional_expression</code></p>\n",
    "    <ul>\n",
    "        <li>If the condition is True, then the assumption is satisfied, and the remaining code will be executed normally.</li>\n",
    "        <li>If the condition fails, then something goes wrong. The program will be stopped by raising an <code>AssertionError</code>. By seeing the <code>AssertionError</code>, the programmer can analyze the code and fix the bug.</li>\n",
    "    </ul>\n",
    "</body>\n",
    "</html>\n"
   ]
  },
  {
   "cell_type": "markdown",
   "metadata": {},
   "source": [
    "<!DOCTYPE html>\n",
    "<html>\n",
    "<head>\n",
    "    <title>Augmented Version</title>\n",
    "</head>\n",
    "<body>\n",
    "    <h1>Augmented Version</h1>\n",
    "    <p>Syntax:</p>\n",
    "    <pre><code>assert conditional_expression, message</code></pre>\n",
    "    <p>If the condition fails, the message will be printed in addition to <code>AssertionError</code>, which is very helpful for debugging easily.</p>\n",
    "</body>\n",
    "</html>\n"
   ]
  },
  {
   "cell_type": "code",
   "execution_count": 2,
   "metadata": {},
   "outputs": [
    {
     "name": "stdout",
     "output_type": "stream",
     "text": [
      "4\n",
      "27\n",
      "256\n"
     ]
    }
   ],
   "source": [
    "def square_it(x):\n",
    "    return x**x \n",
    "\n",
    "print(square_it(2)) # 4\n",
    "print(square_it(3)) # 9\n",
    "print(square_it(4)) # 16\n",
    "\n",
    "# yhan pe bug hai, isko debug krnege assert ki help se \n"
   ]
  },
  {
   "cell_type": "code",
   "execution_count": 7,
   "metadata": {},
   "outputs": [
    {
     "ename": "AssertionError",
     "evalue": "square of 3 will be 9",
     "output_type": "error",
     "traceback": [
      "\u001b[0;31m---------------------------------------------------------------------------\u001b[0m",
      "\u001b[0;31mAssertionError\u001b[0m                            Traceback (most recent call last)",
      "\u001b[0;32m/tmp/ipykernel_435120/3680502028.py\u001b[0m in \u001b[0;36m<module>\u001b[0;34m\u001b[0m\n\u001b[1;32m      3\u001b[0m \u001b[0;34m\u001b[0m\u001b[0m\n\u001b[1;32m      4\u001b[0m \u001b[0;32massert\u001b[0m \u001b[0msquare_it\u001b[0m\u001b[0;34m(\u001b[0m\u001b[0;36m2\u001b[0m\u001b[0;34m)\u001b[0m \u001b[0;34m==\u001b[0m \u001b[0;36m4\u001b[0m\u001b[0;34m,\u001b[0m \u001b[0;34m'square of 2 will be 4'\u001b[0m\u001b[0;34m\u001b[0m\u001b[0;34m\u001b[0m\u001b[0m\n\u001b[0;32m----> 5\u001b[0;31m \u001b[0;32massert\u001b[0m \u001b[0msquare_it\u001b[0m\u001b[0;34m(\u001b[0m\u001b[0;36m3\u001b[0m\u001b[0;34m)\u001b[0m \u001b[0;34m==\u001b[0m \u001b[0;36m9\u001b[0m\u001b[0;34m,\u001b[0m \u001b[0;34m'square of 3 will be 9'\u001b[0m\u001b[0;34m\u001b[0m\u001b[0;34m\u001b[0m\u001b[0m\n\u001b[0m\u001b[1;32m      6\u001b[0m \u001b[0;32massert\u001b[0m \u001b[0msquare_it\u001b[0m\u001b[0;34m(\u001b[0m\u001b[0;36m4\u001b[0m\u001b[0;34m)\u001b[0m \u001b[0;34m==\u001b[0m \u001b[0;36m16\u001b[0m\u001b[0;34m,\u001b[0m \u001b[0;34m'square of 4 will be 6'\u001b[0m\u001b[0;34m\u001b[0m\u001b[0;34m\u001b[0m\u001b[0m\n\u001b[1;32m      7\u001b[0m \u001b[0;34m\u001b[0m\u001b[0m\n",
      "\u001b[0;31mAssertionError\u001b[0m: square of 3 will be 9"
     ]
    }
   ],
   "source": [
    "def square_it(x):\n",
    "    return x**x\n",
    "\n",
    "assert square_it(2) == 4, 'square of 2 will be 4'\n",
    "assert square_it(3) == 9, 'square of 3 will be 9'\n",
    "assert square_it(4) == 16, 'square of 4 will be 6'\n",
    "\n",
    "\n",
    "print(square_it(2)) # 4\n",
    "print(square_it(3)) # 9\n",
    "print(square_it(4)) # 16\n"
   ]
  },
  {
   "cell_type": "code",
   "execution_count": 8,
   "metadata": {},
   "outputs": [
    {
     "name": "stdout",
     "output_type": "stream",
     "text": [
      "4\n",
      "9\n",
      "16\n"
     ]
    }
   ],
   "source": [
    "def square_it(x):\n",
    "    return x*x # <------------------------------ yhan pe bug tha ab program shi se chalega \n",
    "\n",
    "assert square_it(2) == 4, 'square of 2 will be 4'\n",
    "assert square_it(3) == 9, 'square of 3 will be 9'\n",
    "assert square_it(4) == 16, 'square of 4 will be 6'\n",
    "\n",
    "\n",
    "print(square_it(2)) # 4\n",
    "print(square_it(3)) # 9\n",
    "print(square_it(4)) # 16\n"
   ]
  },
  {
   "cell_type": "markdown",
   "metadata": {},
   "source": [
    "<!DOCTYPE html>\n",
    "<html>\n",
    "<head>\n",
    "    <title>Disabling Assertions in Python</title>\n",
    "</head>\n",
    "<body>\n",
    "    <h2>How to disable assert statements in Python?</h2>\n",
    "    <p>By using the <code>-O</code> option:</p>\n",
    "    <p><code>python test.py</code> &rarr; Assert statements will be executed</p>\n",
    "    <p><code>python -O test.py</code> &rarr; Assert statements won’t be executed</p>\n",
    "</body>\n",
    "</html>\n"
   ]
  },
  {
   "cell_type": "markdown",
   "metadata": {},
   "source": [
    "<!DOCTYPE html>\n",
    "<html>\n",
    "<head>\n",
    "    <title>Exception Handling vs Assertions</title>\n",
    "</head>\n",
    "<body>\n",
    "    <h1>Exception Handling vs Assertions</h1>\n",
    "    <ul>\n",
    "        <li>Assertions concept can be used to alert programmers to resolve development time errors. It is applicable for Development and Test environments.</li>\n",
    "        <li>Exception Handling concept can be used to handle runtime errors. It is applicable for production environment.</li>\n",
    "    </ul>\n",
    "</body>\n",
    "</html>\n"
   ]
  },
  {
   "cell_type": "code",
   "execution_count": null,
   "metadata": {},
   "outputs": [],
   "source": []
  }
 ],
 "metadata": {
  "kernelspec": {
   "display_name": "base",
   "language": "python",
   "name": "python3"
  },
  "language_info": {
   "codemirror_mode": {
    "name": "ipython",
    "version": 3
   },
   "file_extension": ".py",
   "mimetype": "text/x-python",
   "name": "python",
   "nbconvert_exporter": "python",
   "pygments_lexer": "ipython3",
   "version": "3.9.20"
  }
 },
 "nbformat": 4,
 "nbformat_minor": 2
}
