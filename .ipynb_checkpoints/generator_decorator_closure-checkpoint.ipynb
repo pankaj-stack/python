{
 "cells": [
  {
   "cell_type": "raw",
   "metadata": {},
   "source": [
    "Generator-Function : A generator-function is defined like a normal function, but whenever it needs to generate a value, it does so with the yield keyword rather than return. If the body of a def contains yield, the function automatically becomes a generator function.\n",
    "key points:->\n",
    "    . It is normal function.\n",
    "    . yield is use in place of return"
   ]
  },
  {
   "cell_type": "code",
   "execution_count": 1,
   "metadata": {},
   "outputs": [
    {
     "name": "stdout",
     "output_type": "stream",
     "text": [
      "1\n",
      "2\n",
      "3\n"
     ]
    }
   ],
   "source": [
    "# A generator function that yields 1 for first time, \n",
    "# 2 second time and 3 third time \n",
    "def simpleGeneratorFun(): \n",
    "    yield 1            \n",
    "    yield 2            \n",
    "    yield 3            \n",
    "   \n",
    "# Driver code to check above generator function \n",
    "for value in simpleGeneratorFun():  \n",
    "    print(value) "
   ]
  },
  {
   "cell_type": "code",
   "execution_count": 2,
   "metadata": {},
   "outputs": [
    {
     "name": "stdout",
     "output_type": "stream",
     "text": [
      "5\n"
     ]
    }
   ],
   "source": [
    "def f(a,b):\n",
    "    c=a+b\n",
    "    yield c\n",
    "for i in f(2,3):\n",
    "    print(i)"
   ]
  },
  {
   "cell_type": "markdown",
   "metadata": {},
   "source": [
    "## Generator Function"
   ]
  },
  {
   "cell_type": "code",
   "execution_count": 3,
   "metadata": {},
   "outputs": [
    {
     "name": "stdout",
     "output_type": "stream",
     "text": [
      "1\n",
      "2\n",
      "3\n",
      "4\n"
     ]
    }
   ],
   "source": [
    "def generator():#Generator Function <---------------------------------\n",
    "    yield 1\n",
    "    yield 2\n",
    "    yield 3\n",
    "    yield 4\n",
    "for i in generator():#Generator Object i.e iterator\n",
    "    print(i)"
   ]
  },
  {
   "cell_type": "markdown",
   "metadata": {},
   "source": [
    "## Generator Object"
   ]
  },
  {
   "cell_type": "raw",
   "metadata": {},
   "source": [
    "Generator-Object : Generator functions return a generator object. Generator objects are used either by calling the next method on the generator object or using the generator object in a “for in” loop (as shown in the above program).\n"
   ]
  },
  {
   "cell_type": "code",
   "execution_count": 4,
   "metadata": {},
   "outputs": [
    {
     "name": "stdout",
     "output_type": "stream",
     "text": [
      "1\n",
      "2\n",
      "3\n"
     ]
    }
   ],
   "source": [
    "# A Python program to demonstrate use of \n",
    "# generator object with next() \n",
    "\n",
    "# A generator function \n",
    "def simpleGeneratorFun(): \n",
    "    yield 1\n",
    "    yield 2\n",
    "    yield 3\n",
    "\n",
    "# x is a generator object \n",
    "x = simpleGeneratorFun() \n",
    "\n",
    "# Iterating over the generator object using next \n",
    "print(x.__next__()) # In Python 3, __next__() \n",
    "print(x.__next__()); \n",
    "print(x.__next__()); \n",
    "# print(next(x))\n",
    "# print(next(x))\n",
    "# print(next(x))"
   ]
  },
  {
   "cell_type": "code",
   "execution_count": 5,
   "metadata": {},
   "outputs": [
    {
     "name": "stdout",
     "output_type": "stream",
     "text": [
      "0\n",
      "1\n",
      "1\n",
      "2\n",
      "3\n"
     ]
    }
   ],
   "source": [
    "#Program to print fibonacci nos. using generator\n",
    "def fibonacci(limit):\n",
    "    a,b=0,1\n",
    "    while a<limit:\n",
    "        yield a\n",
    "        a,b=b,a+b\n",
    "x=fibonacci(5)#Creating object of generator\n",
    "print(next(x))\n",
    "print(next(x))\n",
    "print(next(x))\n",
    "print(next(x))\n",
    "print(next(x))\n",
    "# print(next(x)) #It'll generate an exception due exceed limit of calling"
   ]
  },
  {
   "cell_type": "markdown",
   "metadata": {},
   "source": [
    "## --------------------------------OR--------------------------------"
   ]
  },
  {
   "cell_type": "code",
   "execution_count": 6,
   "metadata": {},
   "outputs": [
    {
     "name": "stdout",
     "output_type": "stream",
     "text": [
      "4\n",
      "0\n",
      "1\n",
      "1\n",
      "2\n",
      "3\n"
     ]
    }
   ],
   "source": [
    "def fibonacci(limit):\n",
    "    a,b=0,1\n",
    "    while a<limit:\n",
    "        yield a\n",
    "        a,b=b,a+b\n",
    "x=fibonacci(limit=int(input()))#Creating object of generator\n",
    "for i in x:\n",
    "    print(i)"
   ]
  },
  {
   "cell_type": "markdown",
   "metadata": {},
   "source": [
    "## Decorator"
   ]
  },
  {
   "cell_type": "code",
   "execution_count": 7,
   "metadata": {},
   "outputs": [
    {
     "name": "stdout",
     "output_type": "stream",
     "text": [
      "This is wrapper function\n",
      "this  is f1() function\n"
     ]
    }
   ],
   "source": [
    "def decorator_function(any_function):\n",
    "    def wrapper_function():\n",
    "        print('This is wrapper function')\n",
    "        any_function()\n",
    "    return wrapper_function\n",
    "def f1():\n",
    "    print('this  is f1() function')\n",
    "var=decorator_function(f1)\n",
    "var()"
   ]
  },
  {
   "cell_type": "code",
   "execution_count": 8,
   "metadata": {},
   "outputs": [
    {
     "name": "stdout",
     "output_type": "stream",
     "text": [
      "This is wrapper function\n",
      "this  is f1() function\n"
     ]
    }
   ],
   "source": [
    "# Shorcut method\n",
    "def decorator_function(any_function):\n",
    "    def wrapper_function():\n",
    "        print('This is wrapper function')\n",
    "        any_function()\n",
    "    return wrapper_function\n",
    "@decorator_function#Syntactic Sugar\n",
    "def f1():\n",
    "    print('this  is f1() function')\n",
    "f1()"
   ]
  },
  {
   "cell_type": "code",
   "execution_count": 9,
   "metadata": {},
   "outputs": [
    {
     "name": "stdout",
     "output_type": "stream",
     "text": [
      "This is wrapper function\n",
      "This is f1()\n",
      "This is wrapper function\n",
      "This is f2()\n"
     ]
    }
   ],
   "source": [
    "def decorator_function(any_function):\n",
    "    def wrapper_function():\n",
    "        print('This is wrapper function')\n",
    "        any_function()\n",
    "    return wrapper_function\n",
    "@decorator_function\n",
    "def f1():\n",
    "    print('This is f1()')\n",
    "@decorator_function\n",
    "def f2():\n",
    "    print('This is f2()')\n",
    "f1()\n",
    "f2()"
   ]
  },
  {
   "cell_type": "code",
   "execution_count": 10,
   "metadata": {},
   "outputs": [
    {
     "name": "stdout",
     "output_type": "stream",
     "text": [
      "This is wrapper function\n",
      "4\n"
     ]
    }
   ],
   "source": [
    "def decorator_function(any_function):\n",
    "    def wrapper_function(*args,**kwargs):\n",
    "        print('This is wrapper function')\n",
    "        any_function(*args,**kwargs)\n",
    "    return wrapper_function\n",
    "@decorator_function\n",
    "def f1(a):\n",
    "    print(a)\n",
    "f1(4)"
   ]
  },
  {
   "cell_type": "code",
   "execution_count": 11,
   "metadata": {},
   "outputs": [
    {
     "name": "stdout",
     "output_type": "stream",
     "text": [
      "This is wrapper function\n"
     ]
    },
    {
     "data": {
      "text/plain": [
       "5"
      ]
     },
     "execution_count": 11,
     "metadata": {},
     "output_type": "execute_result"
    }
   ],
   "source": [
    "def decorator_function(any_function):\n",
    "    def wrapper_function(*args,**kwargs):\n",
    "        \"\"\"This is wrapper function\"\"\"\n",
    "        print('This is wrapper function')\n",
    "        return any_function(*args,**kwargs)# <----------------------------\n",
    "    return wrapper_function\n",
    "@decorator_function\n",
    "def addition(a,b):\n",
    "    '''This is addition function'''\n",
    "    return a+b #  <----------------------------\n",
    "addition(2,3)"
   ]
  },
  {
   "cell_type": "code",
   "execution_count": 12,
   "metadata": {},
   "outputs": [
    {
     "name": "stdout",
     "output_type": "stream",
     "text": [
      "This is wrapper function\n",
      "wrapper_function\n"
     ]
    }
   ],
   "source": [
    "print(addition.__doc__)#here is the problem to print the doc string as well as name \n",
    "print(addition.__name__)#of addition()"
   ]
  },
  {
   "cell_type": "code",
   "execution_count": 13,
   "metadata": {},
   "outputs": [
    {
     "name": "stdout",
     "output_type": "stream",
     "text": [
      "This is wrapper function\n"
     ]
    },
    {
     "data": {
      "text/plain": [
       "5"
      ]
     },
     "execution_count": 13,
     "metadata": {},
     "output_type": "execute_result"
    }
   ],
   "source": [
    "from functools import wraps\n",
    "def decorator_function(any_function):\n",
    "    @wraps(any_function)\n",
    "    def wrapper_function(*args,**kwargs):\n",
    "        \"\"\"This is wrapper function\"\"\"\n",
    "        print('This is wrapper function')\n",
    "        return any_function(*args,**kwargs)\n",
    "    return wrapper_function\n",
    "@decorator_function\n",
    "def addition(a,b):\n",
    "    '''This is addition function'''\n",
    "    return a+b \n",
    "addition(2,3)"
   ]
  },
  {
   "cell_type": "code",
   "execution_count": 14,
   "metadata": {},
   "outputs": [
    {
     "name": "stdout",
     "output_type": "stream",
     "text": [
      "This is addition function\n",
      "addition\n"
     ]
    }
   ],
   "source": [
    "print(addition.__doc__)#Now it is correct here\n",
    "print(addition.__name__)"
   ]
  },
  {
   "cell_type": "markdown",
   "metadata": {},
   "source": [
    "## 25th,February 2020"
   ]
  },
  {
   "cell_type": "code",
   "execution_count": 15,
   "metadata": {},
   "outputs": [],
   "source": [
    "## Different ways of assigning arguments to parameter"
   ]
  },
  {
   "cell_type": "code",
   "execution_count": 16,
   "metadata": {},
   "outputs": [
    {
     "data": {
      "text/plain": [
       "(94566897169312, 94566897169312)"
      ]
     },
     "execution_count": 16,
     "metadata": {},
     "output_type": "execute_result"
    }
   ],
   "source": [
    "id(5),id(5)"
   ]
  },
  {
   "cell_type": "code",
   "execution_count": 17,
   "metadata": {},
   "outputs": [
    {
     "name": "stdout",
     "output_type": "stream",
     "text": [
      "140258199663792\n",
      "140258199663408\n"
     ]
    }
   ],
   "source": [
    "a=257\n",
    "b=257\n",
    "print(id(a))\n",
    "print(id(b))"
   ]
  },
  {
   "cell_type": "markdown",
   "metadata": {},
   "source": [
    "## 04th,March 2020"
   ]
  },
  {
   "cell_type": "raw",
   "metadata": {},
   "source": [
    "Generator in python are special routine that can be used to control the iteration behavior"
   ]
  },
  {
   "cell_type": "code",
   "execution_count": 18,
   "metadata": {},
   "outputs": [
    {
     "name": "stdout",
     "output_type": "stream",
     "text": [
      "[0, 1, 4, 9, 16, 25, 36, 49, 64, 81]\n"
     ]
    }
   ],
   "source": [
    "sq=[]\n",
    "for i in range(10):\n",
    "    sq.append(i**2)\n",
    "print(sq)"
   ]
  },
  {
   "cell_type": "code",
   "execution_count": 19,
   "metadata": {},
   "outputs": [
    {
     "name": "stdout",
     "output_type": "stream",
     "text": [
      "Python\n",
      "Java\n",
      "c++\n"
     ]
    }
   ],
   "source": [
    "#Generator function\n",
    "#Generator function returns a elemnent one by one from a sequence\n",
    "def generator_fun():\n",
    "    yield 'Python'\n",
    "    yield 'Java'\n",
    "    yield 'c++'\n",
    "g=generator_fun()#It returns the generator object\n",
    "print(next(g))\n",
    "print(next(g))\n",
    "print(next(g))"
   ]
  },
  {
   "cell_type": "code",
   "execution_count": 20,
   "metadata": {},
   "outputs": [
    {
     "name": "stdout",
     "output_type": "stream",
     "text": [
      "State:  1\n",
      "1\n",
      "State:  2\n",
      "2\n",
      "State:  3\n",
      "3\n"
     ]
    }
   ],
   "source": [
    "# Generator freezes the state of function\n",
    "def generator_fun():\n",
    "    n=1\n",
    "    print('State: ',n)\n",
    "    yield n\n",
    "    n+=1\n",
    "    print('State: ',n)\n",
    "    yield n\n",
    "    n+=1\n",
    "    print('State: ',n)\n",
    "    yield n\n",
    "g=generator_fun()\n",
    "print(next(g))\n",
    "print(next(g))\n",
    "print(next(g))"
   ]
  },
  {
   "cell_type": "code",
   "execution_count": 21,
   "metadata": {},
   "outputs": [
    {
     "name": "stdout",
     "output_type": "stream",
     "text": [
      "State  1\n",
      "1\n",
      "State  2\n",
      "2\n",
      "State  3\n",
      "3\n"
     ]
    }
   ],
   "source": [
    "#Using for loop inside generator\n",
    "def generator_fun():\n",
    "    for i in range(1,4):\n",
    "        print('State ',i)\n",
    "        yield i\n",
    "for j in generator_fun():\n",
    "    print(j)"
   ]
  },
  {
   "cell_type": "code",
   "execution_count": 6,
   "metadata": {},
   "outputs": [
    {
     "name": "stdout",
     "output_type": "stream",
     "text": [
      "Enter range : 5\n",
      "[1, 4, 9, 16]\n"
     ]
    }
   ],
   "source": [
    "# WAP to get square of first n natural no.\n",
    "def generator(n):\n",
    "    for i in range(1,n+1):\n",
    "        if i==n:\n",
    "            return\n",
    "        yield i\n",
    "r=int(input('Enter range : '))\n",
    "sq=[]\n",
    "for j in generator(r):\n",
    "    sq.append(j**2)\n",
    "print(sq)"
   ]
  },
  {
   "cell_type": "code",
   "execution_count": 7,
   "metadata": {},
   "outputs": [
    {
     "name": "stdout",
     "output_type": "stream",
     "text": [
      "28\n"
     ]
    }
   ],
   "source": [
    "#Check for memory usage\n",
    "import sys\n",
    "print(sys.getsizeof(3))"
   ]
  },
  {
   "cell_type": "code",
   "execution_count": 8,
   "metadata": {},
   "outputs": [
    {
     "data": {
      "text/plain": [
       "51"
      ]
     },
     "execution_count": 8,
     "metadata": {},
     "output_type": "execute_result"
    }
   ],
   "source": [
    "sys.getsizeof('hi')"
   ]
  },
  {
   "cell_type": "code",
   "execution_count": 9,
   "metadata": {},
   "outputs": [
    {
     "name": "stdout",
     "output_type": "stream",
     "text": [
      "136\n"
     ]
    }
   ],
   "source": [
    "sq=[i**2 for i in range(r)]\n",
    "print(sys.getsizeof(sq))\n"
   ]
  },
  {
   "cell_type": "markdown",
   "metadata": {},
   "source": [
    "## HOME WORK"
   ]
  },
  {
   "cell_type": "markdown",
   "metadata": {},
   "source": [
    "## FIBONACCI SERIES,FACTORIAL"
   ]
  },
  {
   "cell_type": "code",
   "execution_count": 26,
   "metadata": {},
   "outputs": [
    {
     "name": "stdout",
     "output_type": "stream",
     "text": [
      "Enter a no. : 5\n",
      "120\n"
     ]
    }
   ],
   "source": [
    "#Factorial series using generator\n",
    "def factorial(n):\n",
    "    factorial=1\n",
    "    if n<2:\n",
    "        yield 1\n",
    "    else:\n",
    "        for i in range(n):\n",
    "            factorial=n*factorial\n",
    "            n-=1\n",
    "        yield factorial\n",
    "for i in factorial(int(input('Enter a no. : '))):\n",
    "    print(i)"
   ]
  },
  {
   "cell_type": "code",
   "execution_count": 21,
   "metadata": {},
   "outputs": [
    {
     "name": "stdout",
     "output_type": "stream",
     "text": [
      "Limit5\n",
      "0 1 1 2 3 "
     ]
    }
   ],
   "source": [
    "#Fibonacci using generator\n",
    "def fibonacci(n):\n",
    "    a,b=0,1\n",
    "    while a<n:\n",
    "        yield a\n",
    "        a,b=b,a+b\n",
    "for j in fibonacci(int(input('Limit'))):print(j,end=' ')"
   ]
  },
  {
   "cell_type": "code",
   "execution_count": 31,
   "metadata": {},
   "outputs": [
    {
     "name": "stdout",
     "output_type": "stream",
     "text": [
      "Enter the limint : 7\n",
      "0 1 1 2 3 5 8 "
     ]
    }
   ],
   "source": [
    "#Fibonacci using generator\n",
    "def fibonacci(limit):\n",
    "    a,b=0,1\n",
    "    for i in range(limit):\n",
    "        yield a\n",
    "        a,b=b,a+b\n",
    "for i in fibonacci(int(input('Enter the limint : '))):print(i,end=' ')"
   ]
  },
  {
   "cell_type": "markdown",
   "metadata": {},
   "source": [
    "## class will reopen on 12th,March 2020"
   ]
  },
  {
   "cell_type": "raw",
   "metadata": {},
   "source": [
    "A decorator is a function that takes a function and extend the behaviour of later \n",
    "function without explicitly modyfying that function\n",
    " - Decorator provides a simple syntax for calling higher-order functionx."
   ]
  },
  {
   "cell_type": "raw",
   "metadata": {},
   "source": [
    "#First class Function in Python\n",
    "    -In  python,functions are the first class objects,i.e,\n",
    "    they have all the rights as other object are having in the programmming langurage.\n",
    "    "
   ]
  },
  {
   "cell_type": "code",
   "execution_count": 32,
   "metadata": {},
   "outputs": [
    {
     "name": "stdout",
     "output_type": "stream",
     "text": [
      "144\n"
     ]
    }
   ],
   "source": [
    "#Assining functions to a variable\n",
    "def square(n):\n",
    "    return n**2\n",
    "sq=square#passing function to a variable\n",
    "print(square(12))"
   ]
  },
  {
   "cell_type": "code",
   "execution_count": 38,
   "metadata": {},
   "outputs": [
    {
     "name": "stdout",
     "output_type": "stream",
     "text": [
      "<function square at 0x7f7ec42cbf80>\n",
      "144\n"
     ]
    }
   ],
   "source": [
    "print(sq)\n",
    "print(sq(12))"
   ]
  },
  {
   "cell_type": "code",
   "execution_count": 42,
   "metadata": {},
   "outputs": [
    {
     "name": "stdout",
     "output_type": "stream",
     "text": [
      "15\n"
     ]
    }
   ],
   "source": [
    "#Passing function as argument to another function\n",
    "def summation(arr):\n",
    "    return sum(arr)\n",
    "def cube(arr):\n",
    "    c=[i**3 for i in arr]\n",
    "    return c\n",
    "def my_func(f,*args):\n",
    "    return f(args)\n",
    "res=my_func(summation,1,2,3,4,5)\n",
    "print(res)"
   ]
  },
  {
   "cell_type": "code",
   "execution_count": 32,
   "metadata": {},
   "outputs": [
    {
     "name": "stdout",
     "output_type": "stream",
     "text": [
      "[1, 8, 27, 64, 125]\n"
     ]
    }
   ],
   "source": [
    "res=my_func(cube,1,2,3,4,5)\n",
    "print(res)"
   ]
  },
  {
   "cell_type": "markdown",
   "metadata": {},
   "source": [
    "## Nested Functions\n",
    "        -function inside function is called nested function"
   ]
  },
  {
   "cell_type": "code",
   "execution_count": 33,
   "metadata": {},
   "outputs": [
    {
     "name": "stdout",
     "output_type": "stream",
     "text": [
      "11\n",
      "-1\n"
     ]
    }
   ],
   "source": [
    "def maths(x,y):#Parent function/closing function,x,y are local variable of enclosing function\n",
    "    def add():#Inner(nested) function\n",
    "        print(x+y)\n",
    "    def sub():\n",
    "        print(x-y)\n",
    "    add()\n",
    "    sub()\n",
    "maths(5,6)"
   ]
  },
  {
   "cell_type": "code",
   "execution_count": 34,
   "metadata": {},
   "outputs": [
    {
     "ename": "NameError",
     "evalue": "name 'add' is not defined",
     "output_type": "error",
     "traceback": [
      "\u001b[0;31m---------------------------------------------------------------------------\u001b[0m",
      "\u001b[0;31mNameError\u001b[0m                                 Traceback (most recent call last)",
      "\u001b[0;32m<ipython-input-34-90ffef654450>\u001b[0m in \u001b[0;36m<module>\u001b[0;34m\u001b[0m\n\u001b[0;32m----> 1\u001b[0;31m \u001b[0madd\u001b[0m\u001b[0;34m(\u001b[0m\u001b[0;34m)\u001b[0m\u001b[0;31m#<--------------------------------\u001b[0m\u001b[0;34m\u001b[0m\u001b[0;34m\u001b[0m\u001b[0m\n\u001b[0m",
      "\u001b[0;31mNameError\u001b[0m: name 'add' is not defined"
     ]
    }
   ],
   "source": [
    "add()#<--------------------------------"
   ]
  },
  {
   "cell_type": "markdown",
   "metadata": {},
   "source": [
    "## Closure Function"
   ]
  },
  {
   "cell_type": "code",
   "execution_count": null,
   "metadata": {},
   "outputs": [],
   "source": [
    "# A closure is function object that remebers values in enclosing scopes even if they are\n",
    "# not present in memory i.e,a closure is way of keeping alive a object even when the\n",
    "# function has returned"
   ]
  },
  {
   "cell_type": "code",
   "execution_count": null,
   "metadata": {},
   "outputs": [],
   "source": [
    "def maths(n):#Parent function/closing function,x,y are local variable of enclosing function\n",
    "    def add(x,y):#Inner(nested) function\n",
    "        return x+y\n",
    "    def sub(x,y):\n",
    "        return x-y\n",
    "    if n==0:\n",
    "        return add\n",
    "    else:\n",
    "        return sub\n",
    "c=int(input('Enter your choice : '))\n",
    "res=maths(c)\n",
    "print(res(3,4))"
   ]
  },
  {
   "cell_type": "markdown",
   "metadata": {},
   "source": [
    "## Decorator"
   ]
  },
  {
   "cell_type": "code",
   "execution_count": null,
   "metadata": {},
   "outputs": [],
   "source": [
    "def my_decorator(func):\n",
    "    def wrapper():\n",
    "        print('Hello Everyone')\n",
    "        return func()\n",
    "    return wrapper\n",
    "def greeting():\n",
    "    return 'Welcome to Python class'\n",
    "res=my_decorator(greeting)\n",
    "print(res())"
   ]
  },
  {
   "cell_type": "code",
   "execution_count": null,
   "metadata": {},
   "outputs": [],
   "source": [
    "#Python Implementation of decorator :Use @\n",
    "def my_decorator(func):\n",
    "    def wrapper():\n",
    "        print('Hello Everyone')\n",
    "        return func()\n",
    "    return wrapper\n",
    "@my_decorator#it means ---------------------------->  my_decorator(greeting)\n",
    "def greeting():\n",
    "    return 'Welcome to Python class'\n",
    "res=greeting()\n",
    "print(res)"
   ]
  },
  {
   "cell_type": "code",
   "execution_count": 38,
   "metadata": {},
   "outputs": [
    {
     "ename": "AttributeError",
     "evalue": "'list' object has no attribute 'title'",
     "output_type": "error",
     "traceback": [
      "\u001b[0;31m---------------------------------------------------------------------------\u001b[0m",
      "\u001b[0;31mAttributeError\u001b[0m                            Traceback (most recent call last)",
      "\u001b[0;32m<ipython-input-38-ed9acdf13104>\u001b[0m in \u001b[0;36m<module>\u001b[0;34m\u001b[0m\n\u001b[1;32m     12\u001b[0m \u001b[0;32mdef\u001b[0m \u001b[0mgreeting\u001b[0m\u001b[0;34m(\u001b[0m\u001b[0;34m)\u001b[0m\u001b[0;34m:\u001b[0m\u001b[0;34m\u001b[0m\u001b[0;34m\u001b[0m\u001b[0m\n\u001b[1;32m     13\u001b[0m     \u001b[0;32mreturn\u001b[0m \u001b[0;34m'welcome to python class'\u001b[0m\u001b[0;34m\u001b[0m\u001b[0;34m\u001b[0m\u001b[0m\n\u001b[0;32m---> 14\u001b[0;31m \u001b[0mres\u001b[0m\u001b[0;34m=\u001b[0m\u001b[0mgreeting\u001b[0m\u001b[0;34m(\u001b[0m\u001b[0;34m)\u001b[0m\u001b[0;34m\u001b[0m\u001b[0;34m\u001b[0m\u001b[0m\n\u001b[0m\u001b[1;32m     15\u001b[0m \u001b[0mprint\u001b[0m\u001b[0;34m(\u001b[0m\u001b[0mres\u001b[0m\u001b[0;34m)\u001b[0m\u001b[0;34m\u001b[0m\u001b[0;34m\u001b[0m\u001b[0m\n",
      "\u001b[0;32m<ipython-input-38-ed9acdf13104>\u001b[0m in \u001b[0;36mwrapper\u001b[0;34m()\u001b[0m\n\u001b[1;32m      2\u001b[0m \u001b[0;32mdef\u001b[0m \u001b[0mupper_deco\u001b[0m\u001b[0;34m(\u001b[0m\u001b[0mfunc\u001b[0m\u001b[0;34m)\u001b[0m\u001b[0;34m:\u001b[0m\u001b[0;34m\u001b[0m\u001b[0;34m\u001b[0m\u001b[0m\n\u001b[1;32m      3\u001b[0m     \u001b[0;32mdef\u001b[0m \u001b[0mwrapper\u001b[0m\u001b[0;34m(\u001b[0m\u001b[0;34m)\u001b[0m\u001b[0;34m:\u001b[0m\u001b[0;34m\u001b[0m\u001b[0;34m\u001b[0m\u001b[0m\n\u001b[0;32m----> 4\u001b[0;31m         \u001b[0;32mreturn\u001b[0m \u001b[0mfunc\u001b[0m\u001b[0;34m(\u001b[0m\u001b[0;34m)\u001b[0m\u001b[0;34m.\u001b[0m\u001b[0mtitle\u001b[0m\u001b[0;34m(\u001b[0m\u001b[0;34m)\u001b[0m\u001b[0;34m\u001b[0m\u001b[0;34m\u001b[0m\u001b[0m\n\u001b[0m\u001b[1;32m      5\u001b[0m     \u001b[0;32mreturn\u001b[0m \u001b[0mwrapper\u001b[0m\u001b[0;34m\u001b[0m\u001b[0;34m\u001b[0m\u001b[0m\n\u001b[1;32m      6\u001b[0m \u001b[0;32mdef\u001b[0m \u001b[0msplit_deco\u001b[0m\u001b[0;34m(\u001b[0m\u001b[0mfunc\u001b[0m\u001b[0;34m)\u001b[0m\u001b[0;34m:\u001b[0m\u001b[0;34m\u001b[0m\u001b[0;34m\u001b[0m\u001b[0m\n",
      "\u001b[0;31mAttributeError\u001b[0m: 'list' object has no attribute 'title'"
     ]
    }
   ],
   "source": [
    "#Multiple Decorator\n",
    "def upper_deco(func):\n",
    "    def wrapper():\n",
    "        return func().title()\n",
    "    return wrapper\n",
    "def split_deco(func):\n",
    "    def wrapper():\n",
    "        return func().split()\n",
    "    return wrapper\n",
    "@upper_deco\n",
    "@split_deco\n",
    "def greeting():\n",
    "    return 'welcome to python class'\n",
    "res=greeting()\n",
    "print(res)"
   ]
  },
  {
   "cell_type": "markdown",
   "metadata": {},
   "source": [
    "## go to hackerrank to solve the problem"
   ]
  },
  {
   "cell_type": "markdown",
   "metadata": {},
   "source": [
    "## class will reopen on 12th,March 2020"
   ]
  },
  {
   "cell_type": "code",
   "execution_count": null,
   "metadata": {},
   "outputs": [],
   "source": []
  }
 ],
 "metadata": {
  "kernelspec": {
   "display_name": "Python 3",
   "language": "python",
   "name": "python3"
  },
  "language_info": {
   "codemirror_mode": {
    "name": "ipython",
    "version": 3
   },
   "file_extension": ".py",
   "mimetype": "text/x-python",
   "name": "python",
   "nbconvert_exporter": "python",
   "pygments_lexer": "ipython3",
   "version": "3.7.4"
  }
 },
 "nbformat": 4,
 "nbformat_minor": 2
}
