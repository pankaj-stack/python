{
 "cells": [
  {
   "cell_type": "code",
   "execution_count": 4,
   "metadata": {},
   "outputs": [
    {
     "name": "stdout",
     "output_type": "stream",
     "text": [
      "/home/pankaj\n"
     ]
    }
   ],
   "source": [
    "import os\n",
    "import shutil\n",
    "os.chdir('/home/pankaj')\n",
    "for  i in range(10):\n",
    "    print(os.getcwd())\n",
    "    break\n"
   ]
  },
  {
   "cell_type": "markdown",
   "metadata": {},
   "source": [
    "## 23rd,March 2020"
   ]
  },
  {
   "cell_type": "raw",
   "metadata": {},
   "source": [
    "# File Handling Steps:\n",
    "1. Open file in read/write mode--> open()-->return object\n",
    "2. read/write operation-->read()/write() method\n",
    "3. close the file.\n"
   ]
  },
  {
   "cell_type": "code",
   "execution_count": 6,
   "metadata": {},
   "outputs": [],
   "source": [
    "# Apply in python:\n",
    "# 1. file = open('file name','mode')\n",
    "\n",
    "# 'r'-read(default)|'rt'-read text|\n",
    "# 'w'-write|'wt'-write text|\n",
    "# 'rb'-read binary|'wb'-write binary|\n",
    "# 'r+'- read and write|'w+'-write and read\n",
    "# 'a'- write append| 'a+'- append and read\n",
    "# 'x'- write absolute| 'x+'- absolute and read\n",
    "\n",
    "# 2. data = file.read() # if read mode\n",
    "# file.write('data') # if write mode # data in form of string\n",
    "\n",
    "# 3.file.close()\n"
   ]
  },
  {
   "cell_type": "code",
   "execution_count": 7,
   "metadata": {},
   "outputs": [],
   "source": [
    "# Descripter:\n",
    "# 'name', 'mode', 'closed' are data descripter to check\n",
    "# properties of file.\n",
    "\n",
    "# Text File Handling: write operation\n",
    "# 'w' mode, 'a' mode, 'x' mode\n"
   ]
  },
  {
   "cell_type": "code",
   "execution_count": 9,
   "metadata": {},
   "outputs": [],
   "source": [
    "# Writing on file in simple 'w' mode:\n",
    "# - 'w' for writing on file\n",
    "# - 'wt' for writing on text format file only\n",
    "# - In both 'w' and 'wt' mode if file doesn't exist already\n",
    "# then first it will create file then open it.\n",
    "# - But if file exist then the new content will\n",
    "# overwrite on the previously written data.\n"
   ]
  },
  {
   "cell_type": "code",
   "execution_count": 11,
   "metadata": {},
   "outputs": [
    {
     "name": "stdout",
     "output_type": "stream",
     "text": [
      "Program Start\n",
      "File open successfully\n",
      "Written successfully\n"
     ]
    }
   ],
   "source": [
    "print('Program Start')\n",
    "obj= open('msg1.txt','w')\n",
    "print('File open successfully')\n",
    "obj.write('Python is easy language.')\n",
    "obj.write('Welcome to ducat.')\n",
    "print('Written successfully')\n",
    "obj.close()\n"
   ]
  },
  {
   "cell_type": "code",
   "execution_count": 14,
   "metadata": {},
   "outputs": [
    {
     "name": "stdout",
     "output_type": "stream",
     "text": [
      "Program Start\n",
      "File open successfully\n",
      "Written successfully\n"
     ]
    }
   ],
   "source": [
    "print('Program Start')\n",
    "obj= open('msg1.txt','w')\n",
    "print('File open successfully')\n",
    "obj.write('Welcome to class.')\n",
    "obj.write('\\n')\n",
    "obj.write('We are studying online.')\n",
    "obj.write('\\n')\n",
    "print('Written successfully')\n",
    "obj.close()\n"
   ]
  },
  {
   "cell_type": "code",
   "execution_count": 20,
   "metadata": {},
   "outputs": [
    {
     "name": "stdout",
     "output_type": "stream",
     "text": [
      "file written successfully\n"
     ]
    }
   ],
   "source": [
    "# Writing on file in append mode:\n",
    "# - To avoid overwriting on previously written data, we use\n",
    "# append mode.\n",
    "# - 'a' for writing on file in append mode\n",
    "# - 'at' for writing on text format file only in append mode\n",
    "# - In both 'a' and 'at' mode if file doesn't exist already\n",
    "# then first it will create file then open it.\n",
    "# - But if file exist then the new content will be written\n",
    "# after the previously written data.\n",
    "file= open('msg1.txt','a')\n",
    "file.write('Aditya Tripathi')\n",
    "file.write('\\n')\n",
    "file.close()\n",
    "print('file written successfully')"
   ]
  },
  {
   "cell_type": "code",
   "execution_count": 12,
   "metadata": {},
   "outputs": [],
   "source": [
    "# Writing on file in absolute mode:\n",
    "# - 'x' for writing on file\n",
    "# - 'xt' for writing on text format file only\n",
    "# - In both 'x' and 'xt' mode if file doesn't exist already\n",
    "# then first it will create file then open it.\n",
    "# - But if file exist will give error.\n"
   ]
  },
  {
   "cell_type": "code",
   "execution_count": 23,
   "metadata": {},
   "outputs": [
    {
     "name": "stdout",
     "output_type": "stream",
     "text": [
      "program start\n"
     ]
    },
    {
     "ename": "FileExistsError",
     "evalue": "[Errno 17] File exists: 'msg1.txt'",
     "output_type": "error",
     "traceback": [
      "\u001b[0;31m---------------------------------------------------------------------------\u001b[0m",
      "\u001b[0;31mFileExistsError\u001b[0m                           Traceback (most recent call last)",
      "\u001b[0;32m<ipython-input-23-9d8d31b1c9a3>\u001b[0m in \u001b[0;36m<module>\u001b[0;34m\u001b[0m\n\u001b[1;32m      1\u001b[0m \u001b[0;31m# if file exist # produce FileExistError\u001b[0m\u001b[0;34m\u001b[0m\u001b[0;34m\u001b[0m\u001b[0;34m\u001b[0m\u001b[0m\n\u001b[1;32m      2\u001b[0m \u001b[0mprint\u001b[0m\u001b[0;34m(\u001b[0m\u001b[0;34m'program start'\u001b[0m\u001b[0;34m)\u001b[0m\u001b[0;34m\u001b[0m\u001b[0;34m\u001b[0m\u001b[0m\n\u001b[0;32m----> 3\u001b[0;31m \u001b[0mfile\u001b[0m\u001b[0;34m=\u001b[0m \u001b[0mopen\u001b[0m\u001b[0;34m(\u001b[0m\u001b[0;34m'msg1.txt'\u001b[0m\u001b[0;34m,\u001b[0m\u001b[0;34m'x'\u001b[0m\u001b[0;34m)\u001b[0m\u001b[0;34m\u001b[0m\u001b[0;34m\u001b[0m\u001b[0m\n\u001b[0m\u001b[1;32m      4\u001b[0m \u001b[0mprint\u001b[0m\u001b[0;34m(\u001b[0m\u001b[0;34m'file open successfully'\u001b[0m\u001b[0;34m)\u001b[0m\u001b[0;34m\u001b[0m\u001b[0;34m\u001b[0m\u001b[0m\n\u001b[1;32m      5\u001b[0m \u001b[0mfile\u001b[0m\u001b[0;34m.\u001b[0m\u001b[0mwrite\u001b[0m\u001b[0;34m(\u001b[0m\u001b[0;34m'Python'\u001b[0m\u001b[0;34m)\u001b[0m\u001b[0;34m\u001b[0m\u001b[0;34m\u001b[0m\u001b[0m\n",
      "\u001b[0;31mFileExistsError\u001b[0m: [Errno 17] File exists: 'msg1.txt'"
     ]
    }
   ],
   "source": [
    "# if file exist # produce FileExistError\n",
    "print('program start')\n",
    "file= open('msg1.txt','x')\n",
    "print('file open successfully')\n",
    "file.write('Python')\n",
    "print('file written successfully')\n",
    "file.close()\n"
   ]
  },
  {
   "cell_type": "code",
   "execution_count": 24,
   "metadata": {},
   "outputs": [
    {
     "name": "stdout",
     "output_type": "stream",
     "text": [
      "program start\n",
      "file open successfully\n",
      "file written successfully\n"
     ]
    }
   ],
   "source": [
    "# if file doesn't exist\n",
    "print('program start')\n",
    "file= open('msg2.txt','x')\n",
    "print('file open successfully')\n",
    "file.write('Python')\n",
    "print('file written successfully')\n",
    "file.close()\n"
   ]
  },
  {
   "cell_type": "code",
   "execution_count": 2,
   "metadata": {},
   "outputs": [
    {
     "name": "stdout",
     "output_type": "stream",
     "text": [
      "program start\n",
      "file open successfully\n",
      "msg2.txt\n",
      "a\n",
      "file written successfully\n",
      "False\n",
      "True\n"
     ]
    }
   ],
   "source": [
    "# Importance of closing object while writing\n",
    "print('program start')\n",
    "file= open('msg2.txt','a')\n",
    "print('file open successfully')\n",
    "print(file.name)\n",
    "print(file.mode)\n",
    "file.write('\\n')\n",
    "file.write('Python is portable.')\n",
    "file.write('\\n')\n",
    "print('file written successfully')\n",
    "print(file.closed) # return False\n",
    "file.close()\n",
    "print(file.closed) # return True\n"
   ]
  },
  {
   "cell_type": "code",
   "execution_count": 7,
   "metadata": {},
   "outputs": [
    {
     "name": "stdout",
     "output_type": "stream",
     "text": [
      "True\n"
     ]
    }
   ],
   "source": [
    "# Opening a file with 'with' block:\n",
    "# In writing mode it is important to close file. To avoid\n",
    "# any error we can use 'with' block then we do not need to\n",
    "# close the file explicitely.\n",
    "with open('msg2.txt','a') as file:\n",
    "    file.write('Guido Van Rossum')\n",
    "    file.write('\\n')\n",
    "print(file.closed)\n"
   ]
  },
  {
   "cell_type": "code",
   "execution_count": null,
   "metadata": {},
   "outputs": [],
   "source": [
    "# Reading Operation: read()\n",
    "# with open('msg1.txt') as file:\n",
    "#     print(file.read())\n",
    "# - read() without argument will read whole file and\n",
    "# return as a string and will read file by moving cursor\n",
    "# from start of file to the end.\n"
   ]
  },
  {
   "cell_type": "code",
   "execution_count": null,
   "metadata": {},
   "outputs": [],
   "source": [
    "# Store Data inside variable\n",
    "with open('msg1.txt') as file:\n",
    "    data= file.read()\n",
    "print(data)\n"
   ]
  },
  {
   "cell_type": "code",
   "execution_count": null,
   "metadata": {},
   "outputs": [],
   "source": [
    "# read first 5 character.\n",
    "with open('msg1.txt') as file:\n",
    "    print(file.tell()) # Return current position of cursor\n",
    "    data1= file.read(5)\n",
    "    print(data1)\n",
    "    print(file.tell())\n",
    "    file.seek(0) # Move the cursor at given index\n",
    "    print(file.tell())\n",
    "    data2= file.read(5)\n",
    "    print(data2)\n",
    "    print(file.tell())\n"
   ]
  },
  {
   "cell_type": "code",
   "execution_count": null,
   "metadata": {},
   "outputs": [],
   "source": [
    "# WAP to calculate the no. of words inside a file\n",
    "with open('msg1.txt') as obj:\n",
    "    data= obj.read()\n",
    "    print(data)\n",
    "    words= data.split() #return list and string is splitted by given character\n",
    "    print(words)\n",
    "    count= len(words)\n",
    "    print(count)\n"
   ]
  },
  {
   "cell_type": "code",
   "execution_count": null,
   "metadata": {},
   "outputs": [],
   "source": [
    "# line-by-line reading: readline()\n",
    "# - readline(): cursor move through one line at a time\n",
    "# if no argument is passed.\n",
    "with open('msg1.txt','r') as xyz:\n",
    "    line1= xyz.readline()\n",
    "    print(line1)\n",
    "    print(type(line1))\n",
    "    line2= xyz.readline()\n",
    "    print(line2)\n",
    "    line3= xyz.readline(4) # It will read 4 character from its current position\n",
    "    print(line3)\n"
   ]
  },
  {
   "cell_type": "code",
   "execution_count": null,
   "metadata": {},
   "outputs": [],
   "source": [
    "# Read all lines: readlines()\n",
    "# - readlines(): cursor move through all lines and return\n",
    "# each line as element of a list.\n",
    "with open('msg1.txt','r') as xyz:\n",
    "    lines= xyz.readlines()\n",
    "    print(lines)\n",
    "    print(type(lines))\n"
   ]
  },
  {
   "cell_type": "code",
   "execution_count": null,
   "metadata": {},
   "outputs": [],
   "source": [
    "# Display a particular line:\n",
    "with open('msg1.txt','r') as xyz:\n",
    "    lines= xyz.readlines()\n",
    "\n",
    "for i in lines:\n",
    "    if 'Aditya' in i:\n",
    "        print(i)\n"
   ]
  },
  {
   "cell_type": "code",
   "execution_count": null,
   "metadata": {},
   "outputs": [],
   "source": [
    "\n",
    "'''\n",
    "\n",
    "'''\n",
    "\n",
    "'''\n",
    "\n",
    "'''\n",
    "\n",
    "'''\n",
    "\n",
    "'''\n",
    "\n",
    "\n"
   ]
  },
  {
   "cell_type": "markdown",
   "metadata": {},
   "source": [
    "## HOME WORK"
   ]
  },
  {
   "cell_type": "code",
   "execution_count": null,
   "metadata": {},
   "outputs": [],
   "source": [
    "# WAP to write some string on a file and the\n",
    "# display all odd unicode characters read from that file.\n",
    "print(ord('a')) # Return unicode value of a character\n",
    "print(chr(65)) # Return character of a unicode value\n"
   ]
  },
  {
   "cell_type": "code",
   "execution_count": null,
   "metadata": {},
   "outputs": [],
   "source": [
    "with open('string.txt','w') as file:\n",
    "    file.write('hello how are you')\n",
    "with open('string.txt','r') as data:\n",
    "    string=data.read()\n",
    "print(string)\n",
    "for i in range(len(string)):\n",
    "    if i%2!=0:\n",
    "        print(i,string[i],ord(string[i]),sep=' : ')\n",
    "        print()"
   ]
  },
  {
   "cell_type": "code",
   "execution_count": null,
   "metadata": {},
   "outputs": [],
   "source": [
    "with open('string.txt','w') as file:\n",
    "    file.write('hello how are you')\n",
    "with open('string.txt','r') as data:\n",
    "    string=data.read()\n",
    "print(string)\n",
    "for i in string:\n",
    "    if ord(i)%2!=0:\n",
    "        print(i,ord(i))\n",
    "        print()"
   ]
  },
  {
   "cell_type": "code",
   "execution_count": null,
   "metadata": {},
   "outputs": [],
   "source": [
    "# csv File Handling: comma seperated values\n",
    "# It's a common format to store tabular data.\n",
    "# Default delimiter for these types of file is , (comma)\n",
    "with open('tab1.csv','a') as file:\n",
    "    file.write('Name,Corona Test')\n",
    "    file.write('\\n')\n",
    "    file.write('Aditya,neg')\n",
    "    file.write('\\n')\n",
    "    print('Written')\n"
   ]
  },
  {
   "cell_type": "code",
   "execution_count": null,
   "metadata": {},
   "outputs": [],
   "source": [
    "# Define a function for writing on file.\n",
    "def write_file(name,test):\n",
    "    with open('tab1.csv','a') as file:\n",
    "        file.write(f'{name},{test}')\n",
    "    print('Written')    \n",
    "\n",
    "write_file('Neetu','neg')\n"
   ]
  },
  {
   "cell_type": "code",
   "execution_count": null,
   "metadata": {},
   "outputs": [],
   "source": [
    "# csv file handling: csv module\n",
    "# for write operation: writer() and DictWriter()\n",
    "# writer()\n",
    "import csv\n",
    "with open('tab2.csv','w',newline='') as file:\n",
    "    #to avoid newline after every row, we can give\n",
    "    #newline argument as empty string '' while opening file.\n",
    "    writer_obj= csv.writer(file)\n",
    "    # writer() return object type data which will store\n",
    "    # in variable writer_obj\n",
    "    writer_obj.writerow(['Name','Corona Test'])\n",
    "    writer_obj.writerow(['Manish','pos'])\n",
    "    # writerow() will write single row at a time.\n",
    "    writer_obj.writerow(['Preeti','neg'])\n",
    "    writer_obj.writerows([['Bhuwan','pos'],\n",
    "                          ['Shiv','pos']])\n",
    "    # writerows() will write multiple rows at a time.\n",
    "    print('Written')\n"
   ]
  },
  {
   "cell_type": "code",
   "execution_count": null,
   "metadata": {},
   "outputs": [],
   "source": [
    "# DictWriter():\n",
    "import csv\n",
    "with open('tab3.csv','w',newline='') as file:\n",
    "    writer_obj= csv.DictWriter(file,fieldnames=['Name',\n",
    "                                           'Corona Test'])\n",
    "    writer_obj.writeheader()\n",
    "    writer_obj.writerow({'Name':'Manish',\n",
    "                         'Corona Test':'pos'})\n",
    "    writer_obj.writerow({'Corona Test':'neg',\n",
    "                         'Name':'Preeti'})\n",
    "    writer_obj.writerows([{'Name':'Bhuwan',\n",
    "                           'Corona Test':'pos'},\n",
    "                          {'Name':'Shiv',\n",
    "                           'Corona Test':'pos'}])\n",
    "    print(\"Written\")\n"
   ]
  },
  {
   "cell_type": "code",
   "execution_count": null,
   "metadata": {},
   "outputs": [],
   "source": [
    "# for read operation: reader() and DictReader()\n",
    "# reader()\n",
    "import csv\n",
    "with open('tab3.csv') as file:\n",
    "    reader_obj= csv.reader(file)\n",
    "    # reader() return iterator object type data.\n",
    "    print(reader_obj)\n",
    "    for i in reader_obj:\n",
    "        print(i) # Each row as List\n"
   ]
  },
  {
   "cell_type": "code",
   "execution_count": null,
   "metadata": {},
   "outputs": [],
   "source": [
    "# If we want to read only 'Name' column:\n",
    "import csv\n",
    "with open('tab3.csv') as file:\n",
    "    reader_obj= csv.reader(file)\n",
    "    for i in reader_obj:\n",
    "        print(i[0])\n"
   ]
  },
  {
   "cell_type": "code",
   "execution_count": null,
   "metadata": {},
   "outputs": [],
   "source": [
    "# DictReader():\n",
    "import csv\n",
    "with open('tab3.csv') as file:\n",
    "    reader_obj= csv.DictReader(file)\n",
    "    #reader_obj will be an instance of class which also\n",
    "    #work as iterator\n",
    "    for i in reader_obj:\n",
    "        print(i) # Each row as Dictionary\n"
   ]
  },
  {
   "cell_type": "code",
   "execution_count": null,
   "metadata": {},
   "outputs": [],
   "source": [
    "# If we want to read only 'Name' column:\n",
    "import csv\n",
    "with open('tab3.csv') as file:\n",
    "    reader_obj= csv.DictReader(file)\n",
    "    for i in reader_obj:\n",
    "        print(i['Name'])\n"
   ]
  },
  {
   "cell_type": "code",
   "execution_count": null,
   "metadata": {},
   "outputs": [],
   "source": []
  },
  {
   "cell_type": "code",
   "execution_count": null,
   "metadata": {},
   "outputs": [],
   "source": []
  },
  {
   "cell_type": "code",
   "execution_count": null,
   "metadata": {},
   "outputs": [],
   "source": []
  },
  {
   "cell_type": "code",
   "execution_count": null,
   "metadata": {},
   "outputs": [],
   "source": [
    "from csv import writer\n",
    "with open('tab1.csv','a') as file:\n",
    "    writer_obj=writer(file)\n",
    "    writer_obj.writerow(['Name','Corono_Test'])\n",
    "    writer_obj.writerow(['Preeti','neg'])#It will write single row at a time\n",
    "    writer_obj.writerows([['Bhuwan','pos'],['Shiv','pos']])#It will write multiple rows at a time\n",
    "print('written')"
   ]
  },
  {
   "cell_type": "code",
   "execution_count": null,
   "metadata": {},
   "outputs": [],
   "source": [
    "from csv import writer\n",
    "with open('tab1.csv','w',newline='') as file:\n",
    "    writer_obj=writer(file)\n",
    "    writer_obj.writerow(['Name','Corono_Test'])\n",
    "    writer_obj.writerow(['Preeti','neg'])#It will write single row at a time\n",
    "    writer_obj.writerows([['Bhuwan','pos'],['Shiv','pos']])#It will write multiple rows at a time\n",
    "print('written')"
   ]
  },
  {
   "cell_type": "markdown",
   "metadata": {},
   "source": [
    "## Dictwriter() # It's a class "
   ]
  },
  {
   "cell_type": "raw",
   "metadata": {},
   "source": [
    "#DictWriter to write Tabular Data\n",
    "from csv import DictWriter\n",
    "with open('tab2.csv','w',newline='') as file:\n",
    "    writer_obj=DictWriter(file,fieldnames=['Name','Corona_Test'])\n",
    "    writer_obj.writeheader({'Name':'Manish','Corono_Test'})"
   ]
  },
  {
   "cell_type": "code",
   "execution_count": null,
   "metadata": {},
   "outputs": [],
   "source": [
    "# For reading operation :reader() and DictReader()\n",
    "from csv import reader\n",
    "with open('tab1.csv') as file:\n",
    "    reader"
   ]
  }
 ],
 "metadata": {
  "kernelspec": {
   "display_name": "Python 3",
   "language": "python",
   "name": "python3"
  },
  "language_info": {
   "codemirror_mode": {
    "name": "ipython",
    "version": 3
   },
   "file_extension": ".py",
   "mimetype": "text/x-python",
   "name": "python",
   "nbconvert_exporter": "python",
   "pygments_lexer": "ipython3",
   "version": "3.7.4"
  }
 },
 "nbformat": 4,
 "nbformat_minor": 2
}
