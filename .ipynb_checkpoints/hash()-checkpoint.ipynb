{
 "cells": [
  {
   "cell_type": "raw",
   "metadata": {},
   "source": [
    "#It is a fuction\n",
    "returns the hash value of an object ( if it has one ). Hash values are integers used to quickly compare dictionary keys while looking up a dictionary."
   ]
  },
  {
   "cell_type": "raw",
   "metadata": {},
   "source": [
    "hash() function takes only one parameter.\n",
    "object (required) – The object whose hash value is to be returned. Only immutable objects can be hashed.\n",
    "Note: Numeric values which are equal will have same has value irrespective of their data types. For example, 2 and 2.0 have same hash value.\n"
   ]
  },
  {
   "cell_type": "raw",
   "metadata": {},
   "source": [
    "List of hashable and non-hashable Python data types\n",
    "Hashable – bool, int, long, float, string, unicode, tuple\n",
    "Non–Hashable – lists, set, dictionary, bytearray\n"
   ]
  },
  {
   "cell_type": "raw",
   "metadata": {},
   "source": [
    "Python hash() Example\n",
    ">>> hash(2)\n",
    "2\n",
    "\n",
    ">>> hash(2.00)\n",
    "2\n",
    "\n",
    ">>> hash('Python')\n",
    "397710083\n",
    "\n",
    ">>> hash(5+5j)\n",
    "5000020\n",
    "\n",
    ">>> #using hash function for tuple\n",
    ">>> hash((1,2,3,4))\n",
    "89902565\n",
    "\n",
    ">>> #using hash function for list\n",
    ">>> hash([1,2,3,4])\n",
    "Traceback (most recent call last):\n",
    " File \"<pyshell#11>\", line 1, in <module>\n",
    " hash([1,2,3,4])\n",
    "TypeError: unhashable type: 'list'\n",
    "\n",
    ">>> #using hash function for set\n",
    ">>> hash({1,2,3,4})\n",
    "Traceback (most recent call last):\n",
    " File \"<pyshell#12>\", line 1, in <module>\n",
    " hash({1,2,3,4})\n",
    "TypeError: unhashable type: 'set'\n",
    "As you can see in above example, hash() function returns hashed value for hashable data types (tupes/integers), whereas it throws TypeError for unhashable data types (set/list/dicionary etc).\n",
    "\n"
   ]
  }
 ],
 "metadata": {
  "kernelspec": {
   "display_name": "Python 3",
   "language": "python",
   "name": "python3"
  },
  "language_info": {
   "codemirror_mode": {
    "name": "ipython",
    "version": 3
   },
   "file_extension": ".py",
   "mimetype": "text/x-python",
   "name": "python",
   "nbconvert_exporter": "python",
   "pygments_lexer": "ipython3",
   "version": "3.7.4"
  }
 },
 "nbformat": 4,
 "nbformat_minor": 2
}
