{
 "cells": [
  {
   "cell_type": "raw",
   "metadata": {},
   "source": [
    "# Python - Exceptions Handling\n",
    "Advertisements\n",
    "\n",
    "Previous Page\n",
    "Next Page  \n",
    "\n",
    "Python provides two very important features to handle any unexpected error in your Python programs and to add debugging capabilities in them −\n",
    "\n",
    "    Exception Handling − This would be covered in this tutorial. Here is a list standard Exceptions available in Python: Standard Exceptions.\n",
    "\n",
    "    Assertions − This would be covered in Assertions in Python tutorial.\n",
    "\n",
    "List of Standard Exceptions −\n",
    "Sr.No. \tException Name & Description\n",
    "1 \t\n",
    "\n",
    "Exception\n",
    "\n",
    "Base class for all exceptions\n",
    "2 \t\n",
    "\n",
    "StopIteration\n",
    "\n",
    "Raised when the next() method of an iterator does not point to any object.\n",
    "3 \t\n",
    "\n",
    "SystemExit\n",
    "\n",
    "Raised by the sys.exit() function.\n",
    "4 \t\n",
    "\n",
    "StandardError\n",
    "\n",
    "Base class for all built-in exceptions except StopIteration and SystemExit.\n",
    "5 \t\n",
    "\n",
    "ArithmeticError\n",
    "\n",
    "Base class for all errors that occur for numeric calculation.\n",
    "6 \t\n",
    "\n",
    "OverflowError\n",
    "\n",
    "Raised when a calculation exceeds maximum limit for a numeric type.\n",
    "7 \t\n",
    "\n",
    "FloatingPointError\n",
    "\n",
    "Raised when a floating point calculation fails.\n",
    "8 \t\n",
    "\n",
    "ZeroDivisionError\n",
    "\n",
    "Raised when division or modulo by zero takes place for all numeric types.\n",
    "9 \t\n",
    "\n",
    "AssertionError\n",
    "\n",
    "Raised in case of failure of the Assert statement.\n",
    "10 \t\n",
    "\n",
    "AttributeError\n",
    "\n",
    "Raised in case of failure of attribute reference or assignment.\n",
    "11 \t\n",
    "\n",
    "EOFError\n",
    "\n",
    "Raised when there is no input from either the raw_input() or input() function and the end of file is reached.\n",
    "12 \t\n",
    "\n",
    "ImportError\n",
    "\n",
    "Raised when an import statement fails.\n",
    "13 \t\n",
    "\n",
    "KeyboardInterrupt\n",
    "\n",
    "Raised when the user interrupts program execution, usually by pressing Ctrl+c.\n",
    "14 \t\n",
    "\n",
    "LookupError\n",
    "\n",
    "Base class for all lookup errors.\n",
    "15 \t\n",
    "\n",
    "IndexError\n",
    "\n",
    "Raised when an index is not found in a sequence.\n",
    "16 \t\n",
    "\n",
    "KeyError\n",
    "\n",
    "Raised when the specified key is not found in the dictionary.\n",
    "17 \t\n",
    "\n",
    "NameError\n",
    "\n",
    "Raised when an identifier is not found in the local or global namespace.\n",
    "18 \t\n",
    "\n",
    "UnboundLocalError\n",
    "\n",
    "Raised when trying to access a local variable in a function or method but no value has been assigned to it.\n",
    "19 \t\n",
    "\n",
    "EnvironmentError\n",
    "\n",
    "Base class for all exceptions that occur outside the Python environment.\n",
    "20 \t\n",
    "\n",
    "IOError\n",
    "\n",
    "Raised when an input/ output operation fails, such as the print statement or the open() function when trying to open a file that does not exist.\n",
    "21 \t\n",
    "\n",
    "IOError\n",
    "\n",
    "Raised for operating system-related errors.\n",
    "22 \t\n",
    "\n",
    "SyntaxError\n",
    "\n",
    "Raised when there is an error in Python syntax.\n",
    "23 \t\n",
    "\n",
    "IndentationError\n",
    "\n",
    "Raised when indentation is not specified properly.\n",
    "24 \t\n",
    "\n",
    "SystemError\n",
    "\n",
    "Raised when the interpreter finds an internal problem, but when this error is encountered the Python interpreter does not exit.\n",
    "25 \t\n",
    "\n",
    "SystemExit\n",
    "\n",
    "Raised when Python interpreter is quit by using the sys.exit() function. If not handled in the code, causes the interpreter to exit.\n",
    "26 \t\n",
    "\n",
    "TypeError\n",
    "\n",
    "Raised when an operation or function is attempted that is invalid for the specified data type.\n",
    "27 \t\n",
    "\n",
    "ValueError\n",
    "\n",
    "Raised when the built-in function for a data type has the valid type of arguments, but the arguments have invalid values specified.\n",
    "28 \t\n",
    "\n",
    "RuntimeError\n",
    "\n",
    "Raised when a generated error does not fall into any category.\n",
    "29 \t\n",
    "\n",
    "NotImplementedError\n",
    "\n",
    "Raised when an abstract method that needs to be implemented in an inherited class is not actually implemented."
   ]
  },
  {
   "cell_type": "markdown",
   "metadata": {},
   "source": [
    "## 15th,April 2020"
   ]
  },
  {
   "cell_type": "markdown",
   "metadata": {},
   "source": [
    "## Error:\n",
    "- Error is an illegal operation performed by the\n",
    "programmer/user which results in abnormal working of\n",
    "the program.\n"
   ]
  },
  {
   "cell_type": "markdown",
   "metadata": {},
   "source": [
    "## Error Types:\n",
    "- 1. Syntax Error or Parsing Error or Compilation Error\n",
    "- 2. Logical Error \n",
    "- 3. Run-time Error or Exception\n"
   ]
  },
  {
   "cell_type": "code",
   "execution_count": 1,
   "metadata": {},
   "outputs": [
    {
     "ename": "SyntaxError",
     "evalue": "invalid syntax (<ipython-input-1-ebdbb86c23d4>, line 4)",
     "output_type": "error",
     "traceback": [
      "\u001b[0;36m  File \u001b[0;32m\"<ipython-input-1-ebdbb86c23d4>\"\u001b[0;36m, line \u001b[0;32m4\u001b[0m\n\u001b[0;31m    print(\"End\")\u001b[0m\n\u001b[0m        ^\u001b[0m\n\u001b[0;31mSyntaxError\u001b[0m\u001b[0;31m:\u001b[0m invalid syntax\n"
     ]
    }
   ],
   "source": [
    "# Ex. of Syntax Error:\n",
    "print(\"Start\")\n",
    "print(\"Welcome to class\" #Syntax Error\n",
    "print(\"End\")\n"
   ]
  },
  {
   "cell_type": "code",
   "execution_count": 1,
   "metadata": {},
   "outputs": [
    {
     "name": "stdout",
     "output_type": "stream",
     "text": [
      "Start\n",
      "Enter no.: 5\n",
      "5 is even\n",
      "End\n"
     ]
    }
   ],
   "source": [
    "# We can correct syntax error by reviewing the syntax.\n",
    "\n",
    "# Ex. of Logical Error:\n",
    "print(\"Start\")\n",
    "n= int(input(\"Enter no.: \"))\n",
    "if n%2==0:\n",
    "    print(n,\"is odd\") # Logical Error\n",
    "else:\n",
    "    print(n,\"is even\")\n",
    "print(\"End\")\n"
   ]
  },
  {
   "cell_type": "code",
   "execution_count": 2,
   "metadata": {},
   "outputs": [
    {
     "name": "stdout",
     "output_type": "stream",
     "text": [
      "Start\n",
      "Enter nr.: 5\n",
      "Enter dr.: 0\n"
     ]
    },
    {
     "ename": "ZeroDivisionError",
     "evalue": "division by zero",
     "output_type": "error",
     "traceback": [
      "\u001b[0;31m---------------------------------------------------------------------------\u001b[0m",
      "\u001b[0;31mZeroDivisionError\u001b[0m                         Traceback (most recent call last)",
      "\u001b[0;32m<ipython-input-2-d862e55517ce>\u001b[0m in \u001b[0;36m<module>\u001b[0;34m\u001b[0m\n\u001b[1;32m      5\u001b[0m \u001b[0mnr\u001b[0m\u001b[0;34m=\u001b[0m \u001b[0mint\u001b[0m\u001b[0;34m(\u001b[0m\u001b[0minput\u001b[0m\u001b[0;34m(\u001b[0m\u001b[0;34m\"Enter nr.: \"\u001b[0m\u001b[0;34m)\u001b[0m\u001b[0;34m)\u001b[0m\u001b[0;34m\u001b[0m\u001b[0;34m\u001b[0m\u001b[0m\n\u001b[1;32m      6\u001b[0m \u001b[0mdr\u001b[0m\u001b[0;34m=\u001b[0m \u001b[0mint\u001b[0m\u001b[0;34m(\u001b[0m\u001b[0minput\u001b[0m\u001b[0;34m(\u001b[0m\u001b[0;34m\"Enter dr.: \"\u001b[0m\u001b[0;34m)\u001b[0m\u001b[0;34m)\u001b[0m\u001b[0;34m\u001b[0m\u001b[0;34m\u001b[0m\u001b[0m\n\u001b[0;32m----> 7\u001b[0;31m \u001b[0mdiv\u001b[0m\u001b[0;34m=\u001b[0m\u001b[0mnr\u001b[0m\u001b[0;34m/\u001b[0m\u001b[0mdr\u001b[0m\u001b[0;34m\u001b[0m\u001b[0;34m\u001b[0m\u001b[0m\n\u001b[0m\u001b[1;32m      8\u001b[0m \u001b[0mprint\u001b[0m\u001b[0;34m(\u001b[0m\u001b[0mdiv\u001b[0m\u001b[0;34m)\u001b[0m\u001b[0;34m\u001b[0m\u001b[0;34m\u001b[0m\u001b[0m\n\u001b[1;32m      9\u001b[0m \u001b[0mprint\u001b[0m\u001b[0;34m(\u001b[0m\u001b[0;34m\"End\"\u001b[0m\u001b[0;34m)\u001b[0m\u001b[0;34m\u001b[0m\u001b[0;34m\u001b[0m\u001b[0m\n",
      "\u001b[0;31mZeroDivisionError\u001b[0m: division by zero"
     ]
    }
   ],
   "source": [
    "# We can correct logical error by reviewing the logic.\n",
    "\n",
    "# Ex. of Runtime Error:\n",
    "print(\"Start\")\n",
    "nr= int(input(\"Enter nr.: \"))\n",
    "dr= int(input(\"Enter dr.: \"))\n",
    "div=nr/dr\n",
    "print(div)\n",
    "print(\"End\")\n"
   ]
  },
  {
   "cell_type": "code",
   "execution_count": 3,
   "metadata": {},
   "outputs": [],
   "source": [
    "# We can handle run-time error using Exception handling technique."
   ]
  },
  {
   "cell_type": "markdown",
   "metadata": {},
   "source": [
    "## Exceptions:\n",
    "- Errors detected during execution are called exceptions.\n",
    "- An exception can be defined as an abnormal condition in\n",
    "a program resulting in the disruption in the flow of the\n",
    "program.\n",
    "- Whenever an exception occurs, the program halts the\n",
    "execution, and thus the further code is not executed.\n",
    "Therefore, an exception is the error which python script\n",
    "is unable to tackle completely.\n"
   ]
  },
  {
   "cell_type": "markdown",
   "metadata": {},
   "source": [
    "## Handle Exception:\n",
    "- Python provides us with the way to handle the Exception\n",
    "so that the other part of the code can be executed without\n",
    "any disruption.\n",
    "- However, if we do not handle the Exception, the PVM handles\n",
    "the Exception but then it doesn't execute all the code\n",
    "that exists after the statement which Raised Exception.\n"
   ]
  },
  {
   "cell_type": "code",
   "execution_count": 4,
   "metadata": {},
   "outputs": [
    {
     "ename": "ZeroDivisionError",
     "evalue": "division by zero",
     "output_type": "error",
     "traceback": [
      "\u001b[0;31m---------------------------------------------------------------------------\u001b[0m",
      "\u001b[0;31mZeroDivisionError\u001b[0m                         Traceback (most recent call last)",
      "\u001b[0;32m<ipython-input-4-f5dbda1b5d6d>\u001b[0m in \u001b[0;36m<module>\u001b[0;34m\u001b[0m\n\u001b[1;32m      1\u001b[0m \u001b[0;31m# Examples of Exception:\u001b[0m\u001b[0;34m\u001b[0m\u001b[0;34m\u001b[0m\u001b[0;34m\u001b[0m\u001b[0m\n\u001b[0;32m----> 2\u001b[0;31m \u001b[0mprint\u001b[0m\u001b[0;34m(\u001b[0m\u001b[0;36m1\u001b[0m\u001b[0;34m/\u001b[0m\u001b[0;36m0\u001b[0m\u001b[0;34m)\u001b[0m \u001b[0;31m#ZeroDivisionError\u001b[0m\u001b[0;34m\u001b[0m\u001b[0;34m\u001b[0m\u001b[0m\n\u001b[0m",
      "\u001b[0;31mZeroDivisionError\u001b[0m: division by zero"
     ]
    }
   ],
   "source": [
    "# Examples of Exception:\n",
    "print(1/0) #ZeroDivisionError\n"
   ]
  },
  {
   "cell_type": "code",
   "execution_count": 2,
   "metadata": {},
   "outputs": [
    {
     "ename": "NameError",
     "evalue": "name 'x' is not defined",
     "output_type": "error",
     "traceback": [
      "\u001b[0;31m---------------------------------------------------------------------------\u001b[0m",
      "\u001b[0;31mNameError\u001b[0m                                 Traceback (most recent call last)",
      "\u001b[0;32m<ipython-input-2-75ec1dd71d27>\u001b[0m in \u001b[0;36m<module>\u001b[0;34m\u001b[0m\n\u001b[0;32m----> 1\u001b[0;31m \u001b[0mprint\u001b[0m\u001b[0;34m(\u001b[0m\u001b[0mx\u001b[0m\u001b[0;34m)\u001b[0m \u001b[0;31m#NameError\u001b[0m\u001b[0;34m\u001b[0m\u001b[0;34m\u001b[0m\u001b[0m\n\u001b[0m",
      "\u001b[0;31mNameError\u001b[0m: name 'x' is not defined"
     ]
    }
   ],
   "source": [
    "print(x) #NameError"
   ]
  },
  {
   "cell_type": "code",
   "execution_count": 3,
   "metadata": {},
   "outputs": [
    {
     "ename": "IndexError",
     "evalue": "list index out of range",
     "output_type": "error",
     "traceback": [
      "\u001b[0;31m---------------------------------------------------------------------------\u001b[0m",
      "\u001b[0;31mIndexError\u001b[0m                                Traceback (most recent call last)",
      "\u001b[0;32m<ipython-input-3-3fda52f6ae4b>\u001b[0m in \u001b[0;36m<module>\u001b[0;34m\u001b[0m\n\u001b[1;32m      1\u001b[0m \u001b[0mmarks\u001b[0m\u001b[0;34m=\u001b[0m\u001b[0;34m[\u001b[0m\u001b[0;36m50\u001b[0m\u001b[0;34m,\u001b[0m\u001b[0;36m60\u001b[0m\u001b[0;34m,\u001b[0m\u001b[0;36m40\u001b[0m\u001b[0;34m]\u001b[0m\u001b[0;34m\u001b[0m\u001b[0;34m\u001b[0m\u001b[0m\n\u001b[0;32m----> 2\u001b[0;31m \u001b[0mprint\u001b[0m\u001b[0;34m(\u001b[0m\u001b[0mmarks\u001b[0m\u001b[0;34m[\u001b[0m\u001b[0;36m6\u001b[0m\u001b[0;34m]\u001b[0m\u001b[0;34m)\u001b[0m \u001b[0;31m#IndexError\u001b[0m\u001b[0;34m\u001b[0m\u001b[0;34m\u001b[0m\u001b[0m\n\u001b[0m",
      "\u001b[0;31mIndexError\u001b[0m: list index out of range"
     ]
    }
   ],
   "source": [
    "marks=[50,60,40]\n",
    "print(marks[6]) #IndexError"
   ]
  },
  {
   "cell_type": "code",
   "execution_count": 4,
   "metadata": {},
   "outputs": [
    {
     "ename": "FileNotFoundError",
     "evalue": "[Errno 2] No such file or directory: 'error.txt'",
     "output_type": "error",
     "traceback": [
      "\u001b[0;31m---------------------------------------------------------------------------\u001b[0m",
      "\u001b[0;31mFileNotFoundError\u001b[0m                         Traceback (most recent call last)",
      "\u001b[0;32m<ipython-input-4-936d701335f6>\u001b[0m in \u001b[0;36m<module>\u001b[0;34m\u001b[0m\n\u001b[0;32m----> 1\u001b[0;31m \u001b[0mopen\u001b[0m\u001b[0;34m(\u001b[0m\u001b[0;34m'error.txt'\u001b[0m\u001b[0;34m)\u001b[0m \u001b[0;31m#FileNotFoundError\u001b[0m\u001b[0;34m\u001b[0m\u001b[0;34m\u001b[0m\u001b[0m\n\u001b[0m",
      "\u001b[0;31mFileNotFoundError\u001b[0m: [Errno 2] No such file or directory: 'error.txt'"
     ]
    }
   ],
   "source": [
    "open('error.txt') #FileNotFoundError"
   ]
  },
  {
   "cell_type": "code",
   "execution_count": 5,
   "metadata": {},
   "outputs": [
    {
     "name": "stdout",
     "output_type": "stream",
     "text": [
      "Enter no: hello\n"
     ]
    },
    {
     "ename": "ValueError",
     "evalue": "invalid literal for int() with base 10: 'hello'",
     "output_type": "error",
     "traceback": [
      "\u001b[0;31m---------------------------------------------------------------------------\u001b[0m",
      "\u001b[0;31mValueError\u001b[0m                                Traceback (most recent call last)",
      "\u001b[0;32m<ipython-input-5-a400f4c87d58>\u001b[0m in \u001b[0;36m<module>\u001b[0;34m\u001b[0m\n\u001b[0;32m----> 1\u001b[0;31m \u001b[0mn\u001b[0m\u001b[0;34m=\u001b[0m \u001b[0mint\u001b[0m\u001b[0;34m(\u001b[0m\u001b[0minput\u001b[0m\u001b[0;34m(\u001b[0m\u001b[0;34m\"Enter no: \"\u001b[0m\u001b[0;34m)\u001b[0m\u001b[0;34m)\u001b[0m \u001b[0;31m#ValueError\u001b[0m\u001b[0;34m\u001b[0m\u001b[0;34m\u001b[0m\u001b[0m\n\u001b[0m",
      "\u001b[0;31mValueError\u001b[0m: invalid literal for int() with base 10: 'hello'"
     ]
    }
   ],
   "source": [
    "n= int(input(\"Enter no: \")) #ValueError"
   ]
  },
  {
   "cell_type": "code",
   "execution_count": 6,
   "metadata": {},
   "outputs": [
    {
     "ename": "TypeError",
     "evalue": "can only concatenate str (not \"int\") to str",
     "output_type": "error",
     "traceback": [
      "\u001b[0;31m---------------------------------------------------------------------------\u001b[0m",
      "\u001b[0;31mTypeError\u001b[0m                                 Traceback (most recent call last)",
      "\u001b[0;32m<ipython-input-6-ac31540f6592>\u001b[0m in \u001b[0;36m<module>\u001b[0;34m\u001b[0m\n\u001b[0;32m----> 1\u001b[0;31m \u001b[0mprint\u001b[0m\u001b[0;34m(\u001b[0m\u001b[0;34m'four'\u001b[0m\u001b[0;34m+\u001b[0m\u001b[0;36m2\u001b[0m\u001b[0;34m)\u001b[0m \u001b[0;31m#TypeError\u001b[0m\u001b[0;34m\u001b[0m\u001b[0;34m\u001b[0m\u001b[0m\n\u001b[0m",
      "\u001b[0;31mTypeError\u001b[0m: can only concatenate str (not \"int\") to str"
     ]
    }
   ],
   "source": [
    "print('four'+2) #TypeError"
   ]
  },
  {
   "cell_type": "code",
   "execution_count": 7,
   "metadata": {},
   "outputs": [
    {
     "ename": "KeyError",
     "evalue": "'name'",
     "output_type": "error",
     "traceback": [
      "\u001b[0;31m---------------------------------------------------------------------------\u001b[0m",
      "\u001b[0;31mKeyError\u001b[0m                                  Traceback (most recent call last)",
      "\u001b[0;32m<ipython-input-7-578fd26dd12a>\u001b[0m in \u001b[0;36m<module>\u001b[0;34m\u001b[0m\n\u001b[1;32m      1\u001b[0m \u001b[0md\u001b[0m\u001b[0;34m=\u001b[0m\u001b[0;34m{\u001b[0m\u001b[0;34m}\u001b[0m\u001b[0;34m\u001b[0m\u001b[0;34m\u001b[0m\u001b[0m\n\u001b[0;32m----> 2\u001b[0;31m \u001b[0mprint\u001b[0m\u001b[0;34m(\u001b[0m\u001b[0md\u001b[0m\u001b[0;34m[\u001b[0m\u001b[0;34m'name'\u001b[0m\u001b[0;34m]\u001b[0m\u001b[0;34m)\u001b[0m \u001b[0;31m#KeyError\u001b[0m\u001b[0;34m\u001b[0m\u001b[0;34m\u001b[0m\u001b[0m\n\u001b[0m",
      "\u001b[0;31mKeyError\u001b[0m: 'name'"
     ]
    }
   ],
   "source": [
    "d={}\n",
    "print(d['name']) #KeyError\n"
   ]
  },
  {
   "cell_type": "markdown",
   "metadata": {},
   "source": [
    "## try-except-else-finally statement\n",
    "- Syntax:\n",
    "- try:\n",
    "-     block of code  #doubtful code\n",
    "- except Exception_class1:\n",
    "-     block of code  #executes if exception occurs in the try block \n",
    "- except Exception_class2: \n",
    "-     block of code  #executes if first except block was unable to handled the exception    \n",
    "- else:  \n",
    "-     block of code #executes only if no exception occurs in the try block\n",
    "- finally:\n",
    "-     block of code  #will always be executed   \n",
    "- other code\n"
   ]
  },
  {
   "cell_type": "markdown",
   "metadata": {},
   "source": [
    "# Summary:\n",
    "- 1) The try block lets you test a block of code for\n",
    "errors.\n",
    "- 2) The except block lets you handle the error.\n",
    "We can declare multiple except statement.\n",
    "- 3) The else block run if no exception occurs.\n",
    "- 4) The finally block lets you execute code, regardless(परवाह किए बिना)\n",
    "of the result of the try and except blocks.\n"
   ]
  },
  {
   "cell_type": "code",
   "execution_count": 8,
   "metadata": {},
   "outputs": [
    {
     "name": "stdout",
     "output_type": "stream",
     "text": [
      "Start\n",
      "Enter nr.: 1\n",
      "Enter dr.: 0\n",
      "division by zero\n",
      "End\n"
     ]
    }
   ],
   "source": [
    "# Handling ZeroDivisionError:\n",
    "print(\"Start\")\n",
    "nr= int(input(\"Enter nr.: \"))\n",
    "dr= int(input(\"Enter dr.: \"))\n",
    "try:\n",
    "    div=nr/dr #Doubtful code\n",
    "    print(div)\n",
    "except ZeroDivisionError as e:#ZeroDivisionError: integer division or modulo by zero\n",
    "\n",
    "    print(e)\n",
    "print(\"End\")\n"
   ]
  },
  {
   "cell_type": "code",
   "execution_count": 19,
   "metadata": {},
   "outputs": [
    {
     "name": "stdout",
     "output_type": "stream",
     "text": [
      "Start\n",
      "Enter nr.: 2\n",
      "Enter dr.: 0\n",
      "division by zero\n",
      "End\n"
     ]
    }
   ],
   "source": [
    "# Handle multiple Exceptions:\n",
    "print(\"Start\")\n",
    "try:\n",
    "    nr= int(input(\"Enter nr.: \"))\n",
    "    dr= int(input(\"Enter dr.: \"))\n",
    "    div=nr/dr\n",
    "    print(div)\n",
    "except ValueError as e:\n",
    "    print(e)\n",
    "except ZeroDivisionError as e:\n",
    "    print(e)\n",
    "print(\"End\")\n"
   ]
  },
  {
   "cell_type": "code",
   "execution_count": 14,
   "metadata": {},
   "outputs": [
    {
     "name": "stdout",
     "output_type": "stream",
     "text": [
      "Start\n",
      "Enter nr.: 3\n",
      "Enter dr.: 0\n",
      "division by zero\n",
      "End\n"
     ]
    }
   ],
   "source": [
    "# Handle Multiple Error using single except statement:\n",
    "print(\"Start\")\n",
    "try:\n",
    "    nr= int(input(\"Enter nr.: \"))\n",
    "    dr= int(input(\"Enter dr.: \"))\n",
    "    div=nr/dr\n",
    "    print(div)\n",
    "except (ValueError,ZeroDivisionError) as e:\n",
    "    print(e)\n",
    "print(\"End\")\n"
   ]
  },
  {
   "cell_type": "code",
   "execution_count": 15,
   "metadata": {},
   "outputs": [
    {
     "name": "stdout",
     "output_type": "stream",
     "text": [
      "Start\n",
      "Enter nr.: 8\n",
      "Enter dr.: 0\n",
      "division by zero\n",
      "End\n"
     ]
    }
   ],
   "source": [
    "# Handle Exceptions with 'Exception' class\n",
    "print(\"Start\")\n",
    "try:\n",
    "    nr= int(input(\"Enter nr.: \"))\n",
    "    dr= int(input(\"Enter dr.: \"))\n",
    "    div=nr/dr\n",
    "    print(div)\n",
    "except Exception as e:\n",
    "    print(e)\n",
    "print(\"End\")\n"
   ]
  },
  {
   "cell_type": "code",
   "execution_count": 16,
   "metadata": {},
   "outputs": [
    {
     "name": "stdout",
     "output_type": "stream",
     "text": [
      "Start\n",
      "Enter nr.: h\n",
      "Enter values correctly\n",
      "End\n"
     ]
    }
   ],
   "source": [
    "# Handle Exception Gracefully:\n",
    "print(\"Start\")\n",
    "try:\n",
    "    nr= int(input(\"Enter nr.: \"))\n",
    "    dr= int(input(\"Enter dr.: \"))\n",
    "    div=nr/dr\n",
    "    print(div)\n",
    "except (ValueError,ZeroDivisionError):\n",
    "    print(\"Enter values correctly\")\n",
    "print(\"End\")\n"
   ]
  },
  {
   "cell_type": "code",
   "execution_count": 21,
   "metadata": {},
   "outputs": [
    {
     "name": "stdout",
     "output_type": "stream",
     "text": [
      "Start\n",
      "Enter nr.: 2\n",
      "Enter dr.: 8\n",
      "0.25\n",
      "Else block executed\n",
      "finally block executed\n"
     ]
    }
   ],
   "source": [
    "# Using else-finally statement:\n",
    "print(\"Start\")\n",
    "try:\n",
    "    nr= int(input(\"Enter nr.: \"))\n",
    "    dr= int(input(\"Enter dr.: \"))\n",
    "    div=nr/dr\n",
    "    print(div)\n",
    "except (ValueError,ZeroDivisionError):\n",
    "    print(\"Enter values correctly\")\n",
    "else:\n",
    "    print(\"Else block executed\")\n",
    "finally:\n",
    "    print(\"finally block executed\")\n"
   ]
  },
  {
   "cell_type": "markdown",
   "metadata": {},
   "source": [
    "## Raising Exception:\n",
    "- In python we can raise an exception explicitely using\n",
    "- 'raise' keyword.\n",
    "- The raise statement allows the programmer to force a\n",
    "- specific exception to occur.\n",
    "- Syntax:\n",
    "- raise ExceptionClass(message)\n"
   ]
  },
  {
   "cell_type": "code",
   "execution_count": 39,
   "metadata": {},
   "outputs": [
    {
     "name": "stdout",
     "output_type": "stream",
     "text": [
      "Enter age: 9.0\n",
      "invalid literal for int() with base 10: '9.0'\n",
      "Age is 0\n"
     ]
    }
   ],
   "source": [
    "# 'raise' exception for age less than 0.\n",
    "def checkAge(n):\n",
    "    if n<=0:\n",
    "        raise ZeroDivisionError('Age can\\'t be less than 0')\n",
    "    elif isinstance(n,float):\n",
    "        raise ValueError('Age can\\'t be in float')\n",
    "    \n",
    "try:\n",
    "    age=int(input(\"Enter age: \"))\n",
    "    checkAge(age)\n",
    "except (ZeroDivisionError,ValueError) as e:\n",
    "    print(e)\n",
    "    age=0\n",
    "finally:\n",
    "    print('Age is',age)\n"
   ]
  },
  {
   "cell_type": "code",
   "execution_count": 40,
   "metadata": {},
   "outputs": [
    {
     "name": "stdout",
     "output_type": "stream",
     "text": [
      "7.0\n",
      "invalid literal for int() with base 10: '7.0'\n",
      "Age is 0\n"
     ]
    }
   ],
   "source": [
    "def age_detector(n):\n",
    "    if n<=0:\n",
    "        raise ZeroDivisionError('Age munst be greater than zero')\n",
    "    elif isinstance(n,float):\n",
    "        raise ValueError('Age can\\'t be float')\n",
    "try:\n",
    "    age=int(input())\n",
    "    age_detector(age)\n",
    "except (ZeroDivisionError,ValueError) as e:\n",
    "    print(e)\n",
    "finally:\n",
    "    print(f'Age is {age}')"
   ]
  },
  {
   "cell_type": "code",
   "execution_count": 19,
   "metadata": {},
   "outputs": [
    {
     "name": "stdout",
     "output_type": "stream",
     "text": [
      "Billing Counter\n",
      "Enter price: 30\n",
      "Enter discount: 2\n",
      "29.4\n"
     ]
    }
   ],
   "source": [
    "# Create Custom Exception class:\n",
    "class PriceLessThanZero(Exception):\n",
    "    def __init__(self,msg):\n",
    "        super().__init__(msg)\n",
    "\n",
    "def calDisc(n,disc):\n",
    "    if n<0 or disc<0:\n",
    "        raise PriceLessThanZero('Price & disc can\\'t be less than 0')\n",
    "    else:\n",
    "        final= (n-((n*disc)/100))\n",
    "        return final\n",
    "\n",
    "print(\"Billing Counter\")\n",
    "try:\n",
    "    price=float(input(\"Enter price: \"))\n",
    "    discount=float(input(\"Enter discount: \"))\n",
    "    print(calDisc(price,discount))\n",
    "except PriceLessThanZero as r:\n",
    "    print(r)\n"
   ]
  },
  {
   "cell_type": "code",
   "execution_count": null,
   "metadata": {},
   "outputs": [],
   "source": []
  }
 ],
 "metadata": {
  "kernelspec": {
   "display_name": "Python 3",
   "language": "python",
   "name": "python3"
  },
  "language_info": {
   "codemirror_mode": {
    "name": "ipython",
    "version": 3
   },
   "file_extension": ".py",
   "mimetype": "text/x-python",
   "name": "python",
   "nbconvert_exporter": "python",
   "pygments_lexer": "ipython3",
   "version": "3.7.4"
  }
 },
 "nbformat": 4,
 "nbformat_minor": 2
}
