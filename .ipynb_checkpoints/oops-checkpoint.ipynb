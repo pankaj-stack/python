{
 "cells": [
  {
   "cell_type": "code",
   "execution_count": 6,
   "metadata": {
    "scrolled": true
   },
   "outputs": [
    {
     "name": "stdout",
     "output_type": "stream",
     "text": [
      "No. of elements : 2\n",
      "1\n"
     ]
    },
    {
     "data": {
      "text/plain": [
       "[[], [1]]"
      ]
     },
     "execution_count": 6,
     "metadata": {},
     "output_type": "execute_result"
    }
   ],
   "source": [
    "l=[[int(input()) for j in range(i)] for i in range(int(input('No. of elements : ')))]\n",
    "l"
   ]
  },
  {
   "cell_type": "code",
   "execution_count": 8,
   "metadata": {},
   "outputs": [],
   "source": [
    "class A:\n",
    "    pass\n",
    "obj=A()"
   ]
  },
  {
   "cell_type": "code",
   "execution_count": 9,
   "metadata": {},
   "outputs": [
    {
     "name": "stdout",
     "output_type": "stream",
     "text": [
      "hello\n"
     ]
    }
   ],
   "source": [
    "class A:\n",
    "    print('hello')\n",
    "obj=A()"
   ]
  },
  {
   "cell_type": "markdown",
   "metadata": {},
   "source": [
    "## instance/object Method"
   ]
  },
  {
   "cell_type": "code",
   "execution_count": 20,
   "metadata": {},
   "outputs": [
    {
     "name": "stdout",
     "output_type": "stream",
     "text": [
      "enter your age : 24\n",
      "Pankaj\n",
      "Jaiswal\n",
      "Pankaj Jaiswal\n",
      "24\n",
      "Pankaj Jaiswal\n",
      "Pankaj Jaiswal\n",
      "He/She is qualified\n"
     ]
    }
   ],
   "source": [
    "class Person:\n",
    "    def __init__(self,first_name,last_name,age):# __init__ is a constructor\n",
    "        # instance variable\n",
    "        self.first_name=first_name              # self = p  (self is a class object )\n",
    "        self.last_name=last_name\n",
    "        self.age=age\n",
    "        self.full_name=first_name+' '+last_name\n",
    "    def complete_info(self):# instance method\n",
    "        complete_info=self.first_name+' '+self.last_name\n",
    "        return complete_info\n",
    "    def qualify(self):\n",
    "        return self.age>18\n",
    "p=Person('Pankaj','Jaiswal',int(input('enter your age : ')))\n",
    "print(p.first_name)\n",
    "print(p.last_name)\n",
    "print(p.full_name)\n",
    "print(p.age)\n",
    "print(p.complete_info())\n",
    "######### OR ###############\n",
    "print(Person.complete_info(p))# mind it carefully\n",
    "if p.qualify()==True:\n",
    "    print('He/She is qualified')\n",
    "else:\n",
    "    print('He/She is not qualified')"
   ]
  },
  {
   "cell_type": "markdown",
   "metadata": {},
   "source": [
    "# CLASS VARIABLE"
   ]
  },
  {
   "cell_type": "code",
   "execution_count": 17,
   "metadata": {},
   "outputs": [
    {
     "name": "stdout",
     "output_type": "stream",
     "text": [
      "Enter the radius : 2\n",
      "12.56\n",
      "3.14\n"
     ]
    }
   ],
   "source": [
    "class circle:\n",
    "    pi=3.14# class variable\n",
    "    def __init__(self,radius):\n",
    "        self.radius=radius\n",
    "    def circumferenc(self):\n",
    "        return 2*circle.pi*self.radius\n",
    "obj=circle(int(input('Enter the radius : ')))\n",
    "print(obj.circumferenc())\n",
    "print(obj.pi)#We can also access class variable with the help of object"
   ]
  },
  {
   "cell_type": "code",
   "execution_count": 30,
   "metadata": {},
   "outputs": [
    {
     "name": "stdout",
     "output_type": "stream",
     "text": [
      "Enter the radius : 3\n",
      "circumference = 18.84\n",
      "area = 28.26\n"
     ]
    }
   ],
   "source": [
    "class circle:\n",
    "    pi=3.14# class variable\n",
    "    def __init__(self,radius):\n",
    "        self.radius=radius\n",
    "    def circumferenc(self):\n",
    "        return f'circumference = {2*circle.pi*self.radius}' \n",
    "    def area(self):\n",
    "        return f'area = {circle.pi*(self.radius)**2}' \n",
    "obj=circle(int(input('Enter the radius : ')))\n",
    "print(obj.circumferenc(),obj.area(),sep='\\n')"
   ]
  },
  {
   "cell_type": "code",
   "execution_count": 52,
   "metadata": {},
   "outputs": [
    {
     "data": {
      "text/plain": [
       "('area = 6.29', 'area = 6.29', 'circumferenc = 12.58')"
      ]
     },
     "execution_count": 52,
     "metadata": {},
     "output_type": "execute_result"
    }
   ],
   "source": [
    "class circle:\n",
    "    pi=3.14# class variable or class attributes\n",
    "    def __init__(self,radius):\n",
    "        self.radius=radius\n",
    "    def circumferenc(self):\n",
    "        return f'circumferenc = {2*circle.pi*self.radius}' \n",
    "    def area(self):\n",
    "        return f'area = {circle.pi*self.radius}'\n",
    "    def area1(self):\n",
    "        return f'area = {self.pi*self.radius}' # here when you want to use specific use of\n",
    "# class variable then you can access it by self.class_variable_name ,ex:->(self.pi)\n",
    "# here the value pi is 3.145 in area() function \n",
    "circle.pi=3.145\n",
    "obj=circle(2)\n",
    "c=obj.circumferenc()\n",
    "a=obj.area()\n",
    "a1=obj.area1()\n",
    "\n",
    "a,a1,c\n",
    "#print(obj.__dict__)#  take notes"
   ]
  },
  {
   "cell_type": "code",
   "execution_count": 40,
   "metadata": {},
   "outputs": [
    {
     "name": "stdout",
     "output_type": "stream",
     "text": [
      "instance of class = 4\n"
     ]
    }
   ],
   "source": [
    "# program to count the instance of the class\n",
    "class circle:\n",
    "    pi=3.14# class variable\n",
    "    instance_counter=0\n",
    "    def __init__(self,radius):\n",
    "        self.radius=radius\n",
    "        circle.instance_counter+=1\n",
    "    def circumferenc(self):\n",
    "        return 2*circle.pi*self.radius\n",
    "obj1=circle(1)# instance 01\n",
    "obj2=circle(3)# instance 02\n",
    "obj3=circle(5)# instance 03\n",
    "obj4=circle(5)# instance 04\n",
    "print(f'instance of class = {circle.instance_counter}' )"
   ]
  },
  {
   "cell_type": "markdown",
   "metadata": {},
   "source": [
    "# CLASS METHODS"
   ]
  },
  {
   "cell_type": "code",
   "execution_count": 6,
   "metadata": {},
   "outputs": [
    {
     "name": "stdout",
     "output_type": "stream",
     "text": [
      "It is a class method\n"
     ]
    }
   ],
   "source": [
    "class a:\n",
    "    @classmethod#decorator\n",
    "    def class_method(cls):\n",
    "        print('It is a class method')\n",
    "obj=a()\n",
    "obj.class_method()"
   ]
  },
  {
   "cell_type": "code",
   "execution_count": 2,
   "metadata": {},
   "outputs": [
    {
     "name": "stdout",
     "output_type": "stream",
     "text": [
      "30\n",
      "40\n"
     ]
    },
    {
     "data": {
      "text/plain": [
       "70"
      ]
     },
     "execution_count": 2,
     "metadata": {},
     "output_type": "execute_result"
    }
   ],
   "source": [
    "#Program to add two nos using class method\n",
    "class A:\n",
    "    @classmethod#decorator\n",
    "    def add(cla,a,b):\n",
    "        return a+b\n",
    "obj=A()\n",
    "obj.add(int(input()),int(input()))"
   ]
  },
  {
   "cell_type": "code",
   "execution_count": 11,
   "metadata": {},
   "outputs": [
    {
     "name": "stdout",
     "output_type": "stream",
     "text": [
      "you have created 3 instace of circle class\n",
      "you have created 3 instace of circle class\n"
     ]
    }
   ],
   "source": [
    "# Generally we use the instance method rather than class method\n",
    "class circle:\n",
    "    pi=3.14# class variable\n",
    "    instance_counter=0\n",
    "    def __init__(self,radius):\n",
    "        self.radius=radius\n",
    "        circle.instance_counter+=1\n",
    "    def circumferenc(self):\n",
    "        return 2*circle.pi*self.radius\n",
    "    @classmethod# decorator\n",
    "    def count_instance(cls):# here cls is passed as class and its a convention,we can also\n",
    "        # here class\n",
    "        return f'you have created {cls.instance_counter} instace of {cls.__name__} class'    \n",
    "# here cls.__name__ is used for printing the name of the class\n",
    "obj1=circle(1)# instance 01\n",
    "obj2=circle(3)# instance 02\n",
    "obj3=circle(5)# instance 03\n",
    "print(circle.count_instance())# callling of the class method\n",
    "print(obj1.count_instance())#  you can also call class method by with help of object\n",
    "# it's not good practice\n"
   ]
  },
  {
   "cell_type": "code",
   "execution_count": 27,
   "metadata": {},
   "outputs": [
    {
     "name": "stdout",
     "output_type": "stream",
     "text": [
      "PankajJaiswal\n",
      "Pankaj\n",
      "Jaiswal\n"
     ]
    }
   ],
   "source": [
    "# class method as a constructor\n",
    "class Person:\n",
    "    def __init__(self,first_name,last_name,age):# __init__ is a constructor\n",
    "        # instance variable\n",
    "        self.first_name=first_name              # self = p  (self is a class object )\n",
    "        self.last_name=last_name\n",
    "        self.age=age\n",
    "        self.full_name=first_name + last_name\n",
    "    @classmethod\n",
    "    def from_string(cls,string):# class method as a constructor\n",
    "        first,last,age=string.split()\n",
    "        return  cls(first,last,age)# creating the object=cls(first,last,age)\n",
    "obj=Person.from_string('Pankaj Jaiswal 22')\n",
    "print(obj.full_name)\n",
    "print(obj.first_name)\n",
    "print(obj.last_name)"
   ]
  },
  {
   "cell_type": "markdown",
   "metadata": {},
   "source": [
    "# STATIC METHOD"
   ]
  },
  {
   "cell_type": "code",
   "execution_count": 83,
   "metadata": {},
   "outputs": [
    {
     "name": "stdout",
     "output_type": "stream",
     "text": [
      "hello it's a staticmethod \n"
     ]
    }
   ],
   "source": [
    "# There is no connection of the static method to instace method ,class method\n",
    "# but it has logical connection to the class\n",
    "# Here , we don't know anything in the static method means nothing\n",
    "class a:\n",
    "    @staticmethod\n",
    "    def staticmethod():\n",
    "        print(\"hello it's a staticmethod \" )\n",
    "obj=a()\n",
    "obj.staticmethod()"
   ]
  },
  {
   "cell_type": "markdown",
   "metadata": {},
   "source": [
    "# INCAPSULATION,ABSTRACTION,NAME MANGLILNG,DUNDER/MAGIC METHOD"
   ]
  },
  {
   "cell_type": "code",
   "execution_count": 5,
   "metadata": {},
   "outputs": [
    {
     "name": "stdout",
     "output_type": "stream",
     "text": [
      "5\n",
      "-5\n"
     ]
    }
   ],
   "source": [
    "# Incapsulation(to write useful data and function at a place means in a class)\n",
    "# Abstraction means to hide the complexity from the user \n",
    "# In python there is public everything\n",
    "#_name    ==>convention of private name\n",
    "#__name__ ==>dunder/magic method\n",
    "#__name   ==>not a convention,it's name mangling\n",
    "class a:\n",
    "    def __init__(self,a,b):\n",
    "        self.a=a\n",
    "        self._b=b\n",
    "obj=a(10,5)\n",
    "print(obj._b)\n",
    "obj._b=-5    # here we can change the value of b,it means there's no concept of private in python\n",
    "print(obj._b)# everything is public"
   ]
  },
  {
   "cell_type": "markdown",
   "metadata": {},
   "source": [
    "# PROPERTY , SETTER DECORATOR"
   ]
  },
  {
   "cell_type": "code",
   "execution_count": 19,
   "metadata": {},
   "outputs": [
    {
     "name": "stdout",
     "output_type": "stream",
     "text": [
      "Nokia 3310 and price is 10000 Rs.\n"
     ]
    }
   ],
   "source": [
    "class phone:\n",
    "    def __init__(self,brand,model_name,price):\n",
    "        self.brand=brand\n",
    "        self.model_name=model_name\n",
    "        self._price=max(price,0)\n",
    "    @property\n",
    "    def complete_specification(self):\n",
    "        return f'{self.brand} {self.model_name} and price is {self._price} Rs.' \n",
    "obj=phone('Nokia','3310',10000)\n",
    "print(obj.complete_specification)# No need to call like a function when it is a propery deco\n",
    "                                 # you call it as a attribute"
   ]
  },
  {
   "cell_type": "code",
   "execution_count": 36,
   "metadata": {},
   "outputs": [
    {
     "name": "stdout",
     "output_type": "stream",
     "text": [
      "0\n",
      "0\n"
     ]
    },
    {
     "data": {
      "text/plain": [
       "'Nokia 3310 and price is 0 Rs.'"
      ]
     },
     "execution_count": 36,
     "metadata": {},
     "output_type": "execute_result"
    }
   ],
   "source": [
    "class phone:\n",
    "    def __init__(self,brand,model_name,price):\n",
    "        self.brand=brand\n",
    "        self.model_name=model_name\n",
    "        self._price=max(price,0)\n",
    "    @property\n",
    "    def complete_specification(self):\n",
    "        return f'{self.brand} {self.model_name} and price is {self._price} Rs.' \n",
    "    @property\n",
    "    def price(self):\n",
    "        return self._price\n",
    "    @price.setter\n",
    "    def price(self,new_price):\n",
    "        self._price=max(new_price,0)\n",
    "obj=phone('Nokia','3310',10000)\n",
    "obj.price=-200# but you can change by obj._price\n",
    "print(obj._price)\n",
    "print(obj.price)# this is also correct in case of property decorator\n",
    "obj.complete_specification\n"
   ]
  },
  {
   "cell_type": "markdown",
   "metadata": {},
   "source": [
    "# INHERITANCE"
   ]
  },
  {
   "cell_type": "code",
   "execution_count": 76,
   "metadata": {},
   "outputs": [
    {
     "name": "stdout",
     "output_type": "stream",
     "text": [
      "full name Sony Xperia XZ2    21MP\n",
      "8GB\n",
      "calling...  9721841129\n",
      "21MP\n",
      "84000\n"
     ]
    }
   ],
   "source": [
    "# Single Inheritance\n",
    "class phone:\n",
    "    def __init__(self,brand,model_name,price):\n",
    "        self.brand=brand\n",
    "        self.model_name=model_name\n",
    "        self.price=max(price,0)\n",
    "    #@property\n",
    "    def full_name(self):\n",
    "        return f'full name {self.brand} {self.model_name}' \n",
    "    def calling(self,number):\n",
    "        return f'calling...  {number}'\n",
    "class smartphone(phone):\n",
    "    def __init__(self,brand,model_name,price,ram,rear_camera):\n",
    "        super().__init__(brand,model_name,price)        \n",
    "        self.ram=ram\n",
    "        self.rear_camera=rear_camera\n",
    "obj=smartphone('Sony','Xperia XZ2',84000,'8GB','21MP')\n",
    "print(obj.full_name() + \"    \" + obj.rear_camera)\n",
    "print(obj.ram)\n",
    "print(obj.calling('9721841129'))\n",
    "print(obj.rear_camera)\n",
    "print(obj.price)"
   ]
  },
  {
   "cell_type": "code",
   "execution_count": 3,
   "metadata": {},
   "outputs": [
    {
     "name": "stdout",
     "output_type": "stream",
     "text": [
      "Sony\n",
      "full name Sony Xpria 10\n",
      "48MP\n",
      "Help on class smartphone in module __main__:\n",
      "\n",
      "class smartphone(phone)\n",
      " |  smartphone(brand, model_name, price, ram, rear_camera)\n",
      " |  \n",
      " |  Method resolution order:\n",
      " |      smartphone\n",
      " |      phone\n",
      " |      builtins.object\n",
      " |  \n",
      " |  Methods defined here:\n",
      " |  \n",
      " |  __init__(self, brand, model_name, price, ram, rear_camera)\n",
      " |      Initialize self.  See help(type(self)) for accurate signature.\n",
      " |  \n",
      " |  ----------------------------------------------------------------------\n",
      " |  Methods inherited from phone:\n",
      " |  \n",
      " |  calling(self, number)\n",
      " |  \n",
      " |  full_name(self)\n",
      " |  \n",
      " |  ----------------------------------------------------------------------\n",
      " |  Data descriptors inherited from phone:\n",
      " |  \n",
      " |  __dict__\n",
      " |      dictionary for instance variables (if defined)\n",
      " |  \n",
      " |  __weakref__\n",
      " |      list of weak references to the object (if defined)\n",
      "\n",
      "None\n"
     ]
    }
   ],
   "source": [
    "# Multi Level Inheritance\n",
    "class phone:\n",
    "    def __init__(self,brand,model_name,price):\n",
    "        self.brand=brand\n",
    "        self.model_name=model_name\n",
    "        self.price=max(price,0)\n",
    "    def full_name(self):\n",
    "        return f'full name {self.brand} {self.model_name}' \n",
    "    def calling(self,number):\n",
    "        return f'calling...  {number}'\n",
    "class smartphone(phone):\n",
    "    def __init__(self,brand,model_name,price,ram,rear_camera):\n",
    "        super().__init__(brand,model_name,price)        \n",
    "        self.ram=ram\n",
    "        self.rear_camera=rear_camera\n",
    "class flag_ship(smartphone):\n",
    "    def __init__(self,brand,model_name,price,ram,rear_camera,front_camera):\n",
    "        super().__init__(brand,model_name,price,ram,rear_camera)\n",
    "        self.front_camera=front_camera\n",
    "obj=flag_ship('Sony','Xpria 10',90000,'12GB','64MP','48MP')\n",
    "print(obj.brand)\n",
    "print(obj.full_name())\n",
    "print(obj.front_camera)\n",
    "print(help(smartphone))# mro(method resolution order)"
   ]
  },
  {
   "cell_type": "markdown",
   "metadata": {},
   "source": [
    "# METHOD OVERRIDING"
   ]
  },
  {
   "cell_type": "code",
   "execution_count": 12,
   "metadata": {},
   "outputs": [
    {
     "name": "stdout",
     "output_type": "stream",
     "text": [
      "Sony Xpria 10 and price is  90000 smartphone\n",
      "Sony Xpria 10 and price is  90000 smartphone\n",
      "full name Realme 2 simple phone\n"
     ]
    }
   ],
   "source": [
    "# Multi Level Inheritance\n",
    "# Method overriding\n",
    "class phone:\n",
    "    def __init__(self,brand,model_name,price):\n",
    "        self.brand=brand\n",
    "        self.model_name=model_name\n",
    "        self.price=max(price,0)\n",
    "    def full_name(self): # <------------------Method overriding-------------------------\n",
    "        return f'full name {self.brand} {self.model_name} simple phone' \n",
    "    def calling(self,number):\n",
    "        return f'calling...  {number}'\n",
    "class smartphone(phone):\n",
    "    def __init__(self,brand,model_name,price,ram,rear_camera):\n",
    "        super().__init__(brand,model_name,price)        \n",
    "        self.ram=ram\n",
    "        self.rear_camera=rear_camera\n",
    "    def full_name(self): #<------------------Method overriding----------------------------\n",
    "        return f'{self.brand} {self.model_name} and price is  {self.price} smartphone' \n",
    "class flag_ship(smartphone):\n",
    "    def __init__(self,brand,model_name,price,ram,rear_camera,front_camera):\n",
    "        super().__init__(brand,model_name,price,ram,rear_camera)\n",
    "        self.front_camera=front_camera\n",
    "obj=flag_ship('Sony','Xpria 10',90000,'12GB','64MP','48MP')\n",
    "print(obj.full_name())\n",
    "obj1=smartphone('Nokia','3310',10000,'3GB','16MP')\n",
    "print(obj.full_name())\n",
    "obj2=phone('Realme','2',8091)\n",
    "print(obj2.full_name())"
   ]
  },
  {
   "cell_type": "code",
   "execution_count": 19,
   "metadata": {},
   "outputs": [
    {
     "name": "stdout",
     "output_type": "stream",
     "text": [
      "True\n",
      "True\n",
      "True\n",
      "True\n",
      "False\n",
      "False\n",
      "\n",
      "True\n",
      "True\n",
      "False\n"
     ]
    }
   ],
   "source": [
    "# isinstance()\n",
    "# issubclass()\n",
    "# Multi Level Inheritance\n",
    "class phone:\n",
    "    def __init__(self,brand,model_name,price):#special dunder/magic method(constructor)\n",
    "        self.brand=brand\n",
    "        self.model_name=model_name\n",
    "        self.price=max(price,0)\n",
    "    def full_name(self): # <-------------------------------------------\n",
    "        return f'full name {self.brand} {self.model_name}' \n",
    "    def calling(self,number):\n",
    "        return f'calling...  {number}'\n",
    "class smartphone(phone):\n",
    "    def __init__(self,brand,model_name,price,ram,rear_camera):\n",
    "        super().__init__(brand,model_name,price)        \n",
    "        self.ram=ram\n",
    "        self.rear_camera=rear_camera\n",
    "    def full_name(self): # method overriding <-----------------------------------------\n",
    "        return f'{self.brand} {self.model_name} and price is  {self.price}' \n",
    "class flag_ship(smartphone):\n",
    "    def __init__(self,brand,model_name,price,ram,rear_camera,front_camera):\n",
    "        super().__init__(brand,model_name,price,ram,rear_camera)\n",
    "        self.front_camera=front_camera\n",
    "\n",
    "obj=flag_ship('Sony','Xpria 10',90000,'12GB','64MP','48MP')\n",
    "obj1=smartphone('Nokia','3310',10000,'3GB','16MP')\n",
    "obj2=phone('Realme','2',8091)\n",
    "\n",
    "print(isinstance(obj,phone))\n",
    "print(isinstance(obj,smartphone))\n",
    "print(isinstance(obj,flag_ship))\n",
    "print(isinstance(obj1,smartphone))\n",
    "print(isinstance(obj1,flag_ship))\n",
    "print(isinstance(obj2,smartphone))\n",
    "print()\n",
    "print(issubclass(smartphone,phone))\n",
    "print(issubclass(flag_ship,phone))\n",
    "print(issubclass(phone,smartphone))"
   ]
  },
  {
   "cell_type": "markdown",
   "metadata": {},
   "source": [
    "# MULTIPLE INHERITANCE"
   ]
  },
  {
   "cell_type": "code",
   "execution_count": 27,
   "metadata": {},
   "outputs": [
    {
     "name": "stdout",
     "output_type": "stream",
     "text": [
      " This is a class A function\n",
      " This is a class B function\n",
      " hello class A\n"
     ]
    }
   ],
   "source": [
    "# Multiple Inheritance\n",
    "# We should avoid multiple inheritace because it's little bit complex\n",
    "class a:\n",
    "    def f1(self):\n",
    "        return f' This is a class A function'\n",
    "    def hello(self):#<--------------------------------------\n",
    "        return f' hello class A'\n",
    "class b:\n",
    "    def f2(self):\n",
    "        return f' This is a class B function'\n",
    "    def hello(self):#<----------------------------------------------------\n",
    "        return f' hello class B'\n",
    "\n",
    "class c(a,b):\n",
    "    pass\n",
    "obj_c=c()\n",
    "print(obj_c.f1())\n",
    "print(obj_c.f2())\n",
    "print(obj_c.hello())# hello() is called from class a due inheritance a,b,if b,a then\n",
    "                    # hello() of class b is called"
   ]
  },
  {
   "cell_type": "markdown",
   "metadata": {},
   "source": [
    "# SPECIAL DUNDER/MAGIC METHOD,POLYMORPHISM\n"
   ]
  },
  {
   "cell_type": "code",
   "execution_count": 6,
   "metadata": {},
   "outputs": [
    {
     "name": "stdout",
     "output_type": "stream",
     "text": [
      "Nokia 3310 and price is 10000\n",
      "<class '__main__.phone'>\n",
      "<class '__main__.phone'>\n",
      "<function phone.__repr__ at 0x7f9af8842170>\n"
     ]
    }
   ],
   "source": [
    "class phone:\n",
    "    def __init__(self,brand,model_name,price):#special dunder/magic method(constructor)\n",
    "        self.brand=brand\n",
    "        self.model_name=model_name\n",
    "        self.price=max(price,0)\n",
    "    def full_name(self): # <-------------------------------------------\n",
    "        return f'full name {self.brand} {self.model_name}' \n",
    "    def calling(self,number):\n",
    "        return f'calling...  {number}'\n",
    "    def __str__(self):# it should return nice string and it's for use\n",
    "        return f'{self.brand} {self.model_name} and price is {self.price}'\n",
    "    def __repr__(self):# it should return a string like a object if we copy and paste it\n",
    "                       # it is used by the developers\n",
    "        return f'phone({self.brand},{self.model_name},{self.price})' \n",
    "#     def __len__(self):\n",
    "obj=phone('Nokia','3310',10000)\n",
    "print(obj)# dunder/special magic method calling\n",
    "print(str(phone))# doubt\n",
    "print(repr(phone))#doubt\n",
    "print(phone.__repr__)#doubt"
   ]
  },
  {
   "cell_type": "markdown",
   "metadata": {},
   "source": [
    "# OPERATOR OVERLOADING"
   ]
  },
  {
   "cell_type": "code",
   "execution_count": 19,
   "metadata": {},
   "outputs": [
    {
     "name": "stdout",
     "output_type": "stream",
     "text": [
      "sum : 6\n",
      "multiply : 8\n"
     ]
    }
   ],
   "source": [
    "# Operator Overloading \n",
    "class operator_overloading:\n",
    "    def __init__(self,a):\n",
    "        self.a=a\n",
    "    def __add__(self,other):# here other is a convention, it can be changed\n",
    "        return self.a + other.a\n",
    "    def __mul__(self,other):\n",
    "        return self.a * other.a\n",
    "obj=operator_overloading(2)\n",
    "obj1=operator_overloading(4)\n",
    "print(f'sum : {obj+obj1}' )\n",
    "print(f'multiply : {obj*obj1}' )"
   ]
  },
  {
   "cell_type": "markdown",
   "metadata": {},
   "source": [
    "# Method Overloading"
   ]
  },
  {
   "cell_type": "code",
   "execution_count": 26,
   "metadata": {},
   "outputs": [
    {
     "name": "stdout",
     "output_type": "stream",
     "text": [
      " It's a second class method \n",
      " It's a first class method \n"
     ]
    }
   ],
   "source": [
    "# Method Overloading\n",
    "class first:\n",
    "    def method(self):\n",
    "        print(\" It's a first class method \")\n",
    "class second(first):\n",
    "    def method(self):\n",
    "        print(\" It's a second class method \")\n",
    "obj=second()\n",
    "obj.method()\n",
    "\n",
    "obj1=first()\n",
    "obj1.method()"
   ]
  },
  {
   "cell_type": "markdown",
   "metadata": {},
   "source": [
    "# Polymorphism"
   ]
  },
  {
   "cell_type": "code",
   "execution_count": 31,
   "metadata": {},
   "outputs": [
    {
     "name": "stdout",
     "output_type": "stream",
     "text": [
      "Parrot can fly\n",
      "Penguin cannot fly\n"
     ]
    }
   ],
   "source": [
    "# Polymorphim (many-forms)\n",
    "class parrot:\n",
    "    def fly(self):\n",
    "        print('Parrot can fly')\n",
    "class penguin:\n",
    "    def fly(self):\n",
    "        print('Penguin cannot fly')\n",
    "obj=parrot()  \n",
    "obj.fly()\n",
    "obj1=penguin()\n",
    "obj1.fly()    "
   ]
  },
  {
   "cell_type": "code",
   "execution_count": 16,
   "metadata": {},
   "outputs": [
    {
     "name": "stdout",
     "output_type": "stream",
     "text": [
      "Enter a year :-> 2020\n",
      "Leap Year\n"
     ]
    }
   ],
   "source": [
    "#  Program\n",
    "#Leap Year\n",
    "class leap_year:\n",
    "    def year(self,year):\n",
    "        if year%4==0:\n",
    "            if year%100==0:\n",
    "                if year%400==0:\n",
    "                    print('Leap Year')\n",
    "                else:\n",
    "                    print('Not Leap Year')\n",
    "            else:\n",
    "                print('Leap Year')\n",
    "        else:\n",
    "            print('Not a Leap Year')\n",
    "obj=leap_year() \n",
    "obj.year(int(input('Enter a year :-> ')))"
   ]
  },
  {
   "cell_type": "raw",
   "metadata": {},
   "source": [
    "A metaclass is a class whose instances are classes. Like an \"ordinary\" class defines the behavior of the instances of the class, a metaclass defines the behavior of classes and their instances. Metaclasses are not supported by every object oriented programming language.\n"
   ]
  },
  {
   "cell_type": "markdown",
   "metadata": {},
   "source": [
    "## 30th,March 2020"
   ]
  },
  {
   "cell_type": "code",
   "execution_count": 1,
   "metadata": {},
   "outputs": [
    {
     "data": {
      "text/plain": [
       "\"\\n- It's just a way to write code in more manageable format.\\n-OOP's allow us to logically group our data and function in a way that it is easy to reuse and also\\n-easy to built-upon if needed.\\n-OOPS is implemented through class and object.\\n\""
      ]
     },
     "execution_count": 1,
     "metadata": {},
     "output_type": "execute_result"
    }
   ],
   "source": [
    "#OOP'S\n",
    "'''\n",
    "- It's just a way to write code in more manageable format.\n",
    "-OOP's allow us to logically group our data and function in a way that it is easy to reuse and also\n",
    "-easy to built-upon if needed.\n",
    "-OOPS is implemented through class and object.\n",
    "'''"
   ]
  },
  {
   "cell_type": "code",
   "execution_count": 8,
   "metadata": {},
   "outputs": [
    {
     "data": {
      "text/plain": [
       "'\\n-Everything in python is an object.\\n-Each object is a unique  instance of a data structure\\nthat is defined is by its class\\n-An objectis a unque instance of a data structure that is defined by its class\\n-An object  is real life entity of a class\\n'"
      ]
     },
     "execution_count": 8,
     "metadata": {},
     "output_type": "execute_result"
    }
   ],
   "source": [
    "#OBJECT:\n",
    "'''\n",
    "-Everything in python is an object.\n",
    "-Each object is a unique  instance of a data structure\n",
    "that is defined is by its class\n",
    "-An objectis a unque instance of a data structure that is defined by its class\n",
    "-An object  is real life entity of a class\n",
    "'''"
   ]
  },
  {
   "cell_type": "code",
   "execution_count": 9,
   "metadata": {},
   "outputs": [
    {
     "name": "stdout",
     "output_type": "stream",
     "text": [
      "<class 'int'>\n"
     ]
    }
   ],
   "source": [
    "print(type(15))"
   ]
  },
  {
   "cell_type": "code",
   "execution_count": 10,
   "metadata": {},
   "outputs": [
    {
     "name": "stdout",
     "output_type": "stream",
     "text": [
      "<class 'str'>\n"
     ]
    }
   ],
   "source": [
    "print(type('Aditya'))"
   ]
  },
  {
   "cell_type": "code",
   "execution_count": 11,
   "metadata": {},
   "outputs": [
    {
     "name": "stdout",
     "output_type": "stream",
     "text": [
      "<class 'list'>\n"
     ]
    }
   ],
   "source": [
    "print(type([1,2,3,4,5]))"
   ]
  },
  {
   "cell_type": "code",
   "execution_count": 12,
   "metadata": {},
   "outputs": [
    {
     "data": {
      "text/plain": [
       "'\\n-class is a blueprint of an object.\\n-class defines the structure and behaviour of an object.\\n'"
      ]
     },
     "execution_count": 12,
     "metadata": {},
     "output_type": "execute_result"
    }
   ],
   "source": [
    "#class:\n",
    "'''\n",
    "-class is a blueprint of an object.\n",
    "-class defines the structure and behaviour of an object.\n",
    "'''"
   ]
  },
  {
   "cell_type": "code",
   "execution_count": 13,
   "metadata": {},
   "outputs": [
    {
     "data": {
      "text/plain": [
       "'\\n-By convention, the new class neame in Python uses CamelCase i.e camelCase.\\n-By convention, the new clas name in python uses snake_case i.e camel_case.\\n'"
      ]
     },
     "execution_count": 13,
     "metadata": {},
     "output_type": "execute_result"
    }
   ],
   "source": [
    "'''\n",
    "-By convention, the new class neame in Python uses CamelCase i.e camelCase.\n",
    "-By convention, the new clas name in python uses snake_case i.e camel_case.\n",
    "'''"
   ]
  },
  {
   "cell_type": "raw",
   "metadata": {},
   "source": [
    "from create_class import *\n",
    "print(Employee)"
   ]
  },
  {
   "cell_type": "markdown",
   "metadata": {},
   "source": [
    "## 31st,March 2020"
   ]
  },
  {
   "cell_type": "markdown",
   "metadata": {},
   "source": [
    "## class"
   ]
  },
  {
   "cell_type": "code",
   "execution_count": null,
   "metadata": {},
   "outputs": [],
   "source": [
    "# -Blueprint (prototype) for creating object.\n",
    "# -Class defines a set of attributes(data) and methods(function) that is characterised by\n",
    "#   -....."
   ]
  },
  {
   "cell_type": "code",
   "execution_count": 2,
   "metadata": {},
   "outputs": [
    {
     "name": "stdout",
     "output_type": "stream",
     "text": [
      "<class 'list'>\n"
     ]
    }
   ],
   "source": [
    "marks=[1,2,3,4]\n",
    "print(type(marks))"
   ]
  },
  {
   "cell_type": "code",
   "execution_count": 7,
   "metadata": {},
   "outputs": [
    {
     "name": "stdout",
     "output_type": "stream",
     "text": [
      "__repr__\n",
      "__hash__\n",
      "__getattribute__\n",
      "__lt__\n",
      "__le__\n",
      "__eq__\n",
      "__ne__\n",
      "__gt__\n",
      "__ge__\n",
      "__iter__\n",
      "__init__\n",
      "__len__\n",
      "__getitem__\n",
      "__setitem__\n",
      "__delitem__\n",
      "__add__\n",
      "__mul__\n",
      "__rmul__\n",
      "__contains__\n",
      "__iadd__\n",
      "__imul__\n",
      "__new__\n",
      "__reversed__\n",
      "__sizeof__\n",
      "clear\n",
      "copy\n",
      "append\n",
      "insert\n",
      "extend\n",
      "pop\n",
      "remove\n",
      "index\n",
      "count\n",
      "reverse\n",
      "sort\n",
      "__doc__\n"
     ]
    }
   ],
   "source": [
    "for i in list.__dict__:\n",
    "    print(i)"
   ]
  },
  {
   "cell_type": "code",
   "execution_count": 11,
   "metadata": {},
   "outputs": [
    {
     "name": "stdout",
     "output_type": "stream",
     "text": [
      "<class '__main__.Employee'>\n",
      "It is a  Employeee class\n"
     ]
    }
   ],
   "source": [
    "#create Employee class without attribute and method\n",
    "class Employee:\n",
    "    'It is a  Employeee class'\n",
    "    pass\n",
    "print(Employee)\n",
    "print(Employee.__doc__)"
   ]
  },
  {
   "cell_type": "code",
   "execution_count": 14,
   "metadata": {},
   "outputs": [
    {
     "name": "stdout",
     "output_type": "stream",
     "text": [
      "<__main__.Employee object at 0x7f3a28109890>\n",
      "<class '__main__.Employee'>\n"
     ]
    }
   ],
   "source": [
    "emp_1=Employee()\n",
    "print(emp_1)\n",
    "print(type(emp_1))"
   ]
  },
  {
   "cell_type": "code",
   "execution_count": 22,
   "metadata": {},
   "outputs": [
    {
     "name": "stdout",
     "output_type": "stream",
     "text": [
      "<__main__.Employee object at 0x7f3a28109890>\n",
      "<class '__main__.Employee'>\n"
     ]
    }
   ],
   "source": [
    "emp_2=Employee()#Process of creating is called instantiation\n",
    "print(emp_1)\n",
    "print(type(emp_2))"
   ]
  },
  {
   "cell_type": "markdown",
   "metadata": {},
   "source": [
    "## Attribute of class can be  of two types ->\n",
    "    - Instance Variable as instance variable\n",
    "    -data defined as class variable\n",
    "-Instance variable are not shared by othe objects of class"
   ]
  },
  {
   "cell_type": "code",
   "execution_count": 23,
   "metadata": {},
   "outputs": [],
   "source": [
    "emp_1.name='Jackie chan'\n",
    "emp_1.email='jackie@gmail.com'\n",
    "emp_1.monthly=18000"
   ]
  },
  {
   "cell_type": "code",
   "execution_count": 24,
   "metadata": {},
   "outputs": [
    {
     "name": "stdout",
     "output_type": "stream",
     "text": [
      "Jackie chan\n",
      "jackie@gmail.com\n",
      "18000\n"
     ]
    }
   ],
   "source": [
    "#Accessing instance variable\n",
    "print(emp_1.name)\n",
    "print(emp_1.email)\n",
    "print(emp_1.monthly)"
   ]
  },
  {
   "cell_type": "markdown",
   "metadata": {},
   "source": [
    "## Consturctor\n",
    "-The task is to initialize(assign values).\n",
    " - the instance variable of the classs when an object of class is created.\n",
    "-Constructor is automatically called when an object is instantiated.\n",
    "-Consturctor are of two types\n",
    "    -Default constructor,\n",
    "    -Parameterised constructor\n",
    "-In python, __init__() method is used for defining consturctor.\n"
   ]
  },
  {
   "cell_type": "code",
   "execution_count": 25,
   "metadata": {},
   "outputs": [
    {
     "name": "stdout",
     "output_type": "stream",
     "text": [
      "Constructor called\n"
     ]
    }
   ],
   "source": [
    "class Employee:\n",
    "    def __init__(self):\n",
    "        print('Constructor called')\n",
    "emp_1=Employee()"
   ]
  },
  {
   "cell_type": "code",
   "execution_count": 26,
   "metadata": {},
   "outputs": [
    {
     "name": "stdout",
     "output_type": "stream",
     "text": [
      "Constructor called\n"
     ]
    }
   ],
   "source": [
    "emp_2=Employee()"
   ]
  },
  {
   "cell_type": "markdown",
   "metadata": {},
   "source": [
    "## self\n",
    "-'self' parameter is a reference  to the current instance of class.\n",
    "-B conention  it is named ad 'self' but we can give any name to this parameter."
   ]
  },
  {
   "cell_type": "code",
   "execution_count": 1,
   "metadata": {},
   "outputs": [
    {
     "ename": "TypeError",
     "evalue": "Employee() takes no arguments",
     "output_type": "error",
     "traceback": [
      "\u001b[0;31m---------------------------------------------------------------------------\u001b[0m",
      "\u001b[0;31mTypeError\u001b[0m                                 Traceback (most recent call last)",
      "\u001b[0;32m<ipython-input-1-9469b289ee3d>\u001b[0m in \u001b[0;36m<module>\u001b[0;34m\u001b[0m\n\u001b[1;32m      5\u001b[0m         \u001b[0mself\u001b[0m\u001b[0;34m.\u001b[0m\u001b[0memail\u001b[0m\u001b[0;34m=\u001b[0m\u001b[0memail\u001b[0m\u001b[0;34m\u001b[0m\u001b[0;34m\u001b[0m\u001b[0m\n\u001b[1;32m      6\u001b[0m         \u001b[0mself\u001b[0m\u001b[0;34m.\u001b[0m\u001b[0msalary\u001b[0m\u001b[0;34m=\u001b[0m\u001b[0msalary\u001b[0m\u001b[0;34m\u001b[0m\u001b[0;34m\u001b[0m\u001b[0m\n\u001b[0;32m----> 7\u001b[0;31m \u001b[0memp_1\u001b[0m\u001b[0;34m=\u001b[0m\u001b[0mEmployee\u001b[0m\u001b[0;34m(\u001b[0m\u001b[0;34m'Jackie Chan'\u001b[0m\u001b[0;34m,\u001b[0m\u001b[0;34m'jackie@gmail.com'\u001b[0m\u001b[0;34m,\u001b[0m\u001b[0;36m18000\u001b[0m\u001b[0;34m)\u001b[0m\u001b[0;34m\u001b[0m\u001b[0;34m\u001b[0m\u001b[0m\n\u001b[0m\u001b[1;32m      8\u001b[0m \u001b[0mprint\u001b[0m\u001b[0;34m(\u001b[0m\u001b[0memp_1\u001b[0m\u001b[0;34m.\u001b[0m\u001b[0mname\u001b[0m\u001b[0;34m)\u001b[0m\u001b[0;34m\u001b[0m\u001b[0;34m\u001b[0m\u001b[0m\n",
      "\u001b[0;31mTypeError\u001b[0m: Employee() takes no arguments"
     ]
    }
   ],
   "source": [
    "#parameterised construtor\n",
    "class Employee:\n",
    "    def _init__(self,name,email,salary):\n",
    "        self.name=name\n",
    "        self.email=email\n",
    "        self.salary=salary\n",
    "emp_1=Employee('Jackie Chan','jackie@gmail.com',18000)\n",
    "print(emp_1.name)"
   ]
  },
  {
   "cell_type": "code",
   "execution_count": 2,
   "metadata": {},
   "outputs": [
    {
     "ename": "TypeError",
     "evalue": "Employee() takes no arguments",
     "output_type": "error",
     "traceback": [
      "\u001b[0;31m---------------------------------------------------------------------------\u001b[0m",
      "\u001b[0;31mTypeError\u001b[0m                                 Traceback (most recent call last)",
      "\u001b[0;32m<ipython-input-2-08c2f986e044>\u001b[0m in \u001b[0;36m<module>\u001b[0;34m\u001b[0m\n\u001b[0;32m----> 1\u001b[0;31m \u001b[0memp_2\u001b[0m\u001b[0;34m=\u001b[0m\u001b[0mEmployee\u001b[0m\u001b[0;34m(\u001b[0m\u001b[0msalary\u001b[0m\u001b[0;34m=\u001b[0m\u001b[0;36m2200\u001b[0m\u001b[0;34m,\u001b[0m\u001b[0mname\u001b[0m\u001b[0;34m=\u001b[0m\u001b[0;34m'Bruce Lee'\u001b[0m\u001b[0;34m,\u001b[0m\u001b[0memail\u001b[0m\u001b[0;34m=\u001b[0m\u001b[0;34m'bruce@gmail.com'\u001b[0m\u001b[0;34m)\u001b[0m\u001b[0;34m\u001b[0m\u001b[0;34m\u001b[0m\u001b[0m\n\u001b[0m\u001b[1;32m      2\u001b[0m \u001b[0mprint\u001b[0m\u001b[0;34m(\u001b[0m\u001b[0memp_2\u001b[0m\u001b[0;34m.\u001b[0m\u001b[0mname\u001b[0m\u001b[0;34m)\u001b[0m\u001b[0;34m\u001b[0m\u001b[0;34m\u001b[0m\u001b[0m\n",
      "\u001b[0;31mTypeError\u001b[0m: Employee() takes no arguments"
     ]
    }
   ],
   "source": [
    "emp_2=Employee(salary=2200,name='Bruce Lee',email='bruce@gmail.com')\n",
    "print(emp_2.name)"
   ]
  },
  {
   "cell_type": "markdown",
   "metadata": {},
   "source": [
    "## Methods in class \n",
    "    -Methods defined in class are of 3 types:\n",
    "        - 1.Instance method\n",
    "        - 2.Class method\n",
    "        - 3.Static  method"
   ]
  },
  {
   "cell_type": "code",
   "execution_count": 3,
   "metadata": {},
   "outputs": [
    {
     "ename": "TypeError",
     "evalue": "Employee() takes no arguments",
     "output_type": "error",
     "traceback": [
      "\u001b[0;31m---------------------------------------------------------------------------\u001b[0m",
      "\u001b[0;31mTypeError\u001b[0m                                 Traceback (most recent call last)",
      "\u001b[0;32m<ipython-input-3-ecf0005683f3>\u001b[0m in \u001b[0;36m<module>\u001b[0;34m\u001b[0m\n\u001b[1;32m      8\u001b[0m         \u001b[0mself\u001b[0m\u001b[0;34m.\u001b[0m\u001b[0msalary\u001b[0m\u001b[0;34m=\u001b[0m\u001b[0;34mf'{self.name} has ctc Rs {self.salary}'\u001b[0m\u001b[0;34m\u001b[0m\u001b[0;34m\u001b[0m\u001b[0m\n\u001b[1;32m      9\u001b[0m         \u001b[0;32mreturn\u001b[0m \u001b[0mself\u001b[0m\u001b[0;34m.\u001b[0m\u001b[0msalary\u001b[0m\u001b[0;34m\u001b[0m\u001b[0;34m\u001b[0m\u001b[0m\n\u001b[0;32m---> 10\u001b[0;31m \u001b[0memp\u001b[0m\u001b[0;34m=\u001b[0m\u001b[0mEmployee\u001b[0m\u001b[0;34m(\u001b[0m\u001b[0;34m'panakaj'\u001b[0m\u001b[0;34m,\u001b[0m\u001b[0;34m'jdkls'\u001b[0m\u001b[0;34m,\u001b[0m\u001b[0;36m483748\u001b[0m\u001b[0;34m)\u001b[0m\u001b[0;34m\u001b[0m\u001b[0;34m\u001b[0m\u001b[0m\n\u001b[0m\u001b[1;32m     11\u001b[0m \u001b[0memp\u001b[0m\u001b[0;34m.\u001b[0m\u001b[0mannual\u001b[0m\u001b[0;34m(\u001b[0m\u001b[0;34m)\u001b[0m\u001b[0;34m\u001b[0m\u001b[0;34m\u001b[0m\u001b[0m\n",
      "\u001b[0;31mTypeError\u001b[0m: Employee() takes no arguments"
     ]
    }
   ],
   "source": [
    "#Create instance  method annual\n",
    "class Employee:\n",
    "    def _init__(self,name,email,salary):\n",
    "        self.name=name\n",
    "        self.email=email\n",
    "        self.monthly=monthly\n",
    "    def annual(self):\n",
    "        self.salary=f'{self.name} has ctc Rs {self.salary}'\n",
    "        return self.salary\n",
    "emp=Employee('panakaj','jdkls',483748)\n",
    "emp.annual()"
   ]
  },
  {
   "cell_type": "code",
   "execution_count": null,
   "metadata": {},
   "outputs": [],
   "source": []
  }
 ],
 "metadata": {
  "kernelspec": {
   "display_name": "Python 3",
   "language": "python",
   "name": "python3"
  },
  "language_info": {
   "codemirror_mode": {
    "name": "ipython",
    "version": 3
   },
   "file_extension": ".py",
   "mimetype": "text/x-python",
   "name": "python",
   "nbconvert_exporter": "python",
   "pygments_lexer": "ipython3",
   "version": "3.7.4"
  }
 },
 "nbformat": 4,
 "nbformat_minor": 2
}
