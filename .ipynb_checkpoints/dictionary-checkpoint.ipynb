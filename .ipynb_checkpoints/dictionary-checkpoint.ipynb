{
 "cells": [
  {
   "cell_type": "raw",
   "metadata": {},
   "source": [
    "Dictionary in Python is an unordered collection of data values,\n",
    "used to store data values like a map, which unlike other Data \n",
    "Types that hold only single value as an element, Dictionary holds \n",
    "key : value pair."
   ]
  },
  {
   "cell_type": "raw",
   "metadata": {},
   "source": [
    " Dictionary is mutable in nature\n",
    "\n",
    "Dictionary holds key:value pair\n",
    "\n",
    "A Dictionary in Python works similar to the Dictionary \n",
    "    in a real world\n",
    "\n",
    "Keys of a Dictionary must be unique and of immutable data type <-----------------\n",
    "such as Strings, Integers and tuples,but the key-values can be \n",
    "    repeated and be of any type.\n",
    "Note – Keys in a dictionary doesn’t allows Polymorphism<-----------------------"
   ]
  },
  {
   "cell_type": "raw",
   "metadata": {},
   "source": [
    "Note – Dictionary keys are case sensitive, same name but different\n",
    "    cases of Key will be treated distinctly"
   ]
  },
  {
   "cell_type": "code",
   "execution_count": 2,
   "metadata": {},
   "outputs": [
    {
     "name": "stdout",
     "output_type": "stream",
     "text": [
      "<class 'dict'>\n",
      "{}\n"
     ]
    }
   ],
   "source": [
    "# Creating an empty Dictionary \n",
    "d={}\n",
    "print(type(d))\n",
    "print(d)"
   ]
  },
  {
   "cell_type": "code",
   "execution_count": 2,
   "metadata": {},
   "outputs": [
    {
     "name": "stdout",
     "output_type": "stream",
     "text": [
      "<class 'dict'>\n",
      "{1: 'radhe', 2: 'pankaj', 3: 'jaiswal'}\n"
     ]
    }
   ],
   "source": [
    "d={1:'radhe',2:'pankaj',3:'jaiswal'}\n",
    "print(type(d))\n",
    "print(d)"
   ]
  },
  {
   "cell_type": "code",
   "execution_count": 3,
   "metadata": {},
   "outputs": [
    {
     "name": "stdout",
     "output_type": "stream",
     "text": [
      "{'name': 'pankaj', 1: ['hello', 3.6, 9]}\n"
     ]
    }
   ],
   "source": [
    "#Creating the dictionary with mixed keys\n",
    "d={'name':'pankaj',1:['hello',3.6,9]}\n",
    "print(d)"
   ]
  },
  {
   "cell_type": "code",
   "execution_count": 5,
   "metadata": {},
   "outputs": [
    {
     "ename": "TypeError",
     "evalue": "unhashable type: 'list'",
     "output_type": "error",
     "traceback": [
      "\u001b[1;31m---------------------------------------------------------------------------\u001b[0m",
      "\u001b[1;31mTypeError\u001b[0m                                 Traceback (most recent call last)",
      "\u001b[1;32m<ipython-input-5-84a16793eaac>\u001b[0m in \u001b[0;36m<module>\u001b[1;34m\u001b[0m\n\u001b[1;32m----> 1\u001b[1;33m \u001b[0md\u001b[0m\u001b[1;33m=\u001b[0m\u001b[1;33m{\u001b[0m\u001b[1;33m[\u001b[0m\u001b[1;36m1\u001b[0m\u001b[1;33m,\u001b[0m\u001b[1;36m2\u001b[0m\u001b[1;33m]\u001b[0m\u001b[1;33m:\u001b[0m\u001b[1;34m'hello'\u001b[0m\u001b[1;33m}\u001b[0m\u001b[1;31m# keys must be immutable type in dictionary\u001b[0m\u001b[1;33m\u001b[0m\u001b[1;33m\u001b[0m\u001b[0m\n\u001b[0m\u001b[0;32m      2\u001b[0m                  \u001b[1;31m# otherwise it'll generate error\u001b[0m\u001b[1;33m\u001b[0m\u001b[1;33m\u001b[0m\u001b[1;33m\u001b[0m\u001b[0m\n",
      "\u001b[1;31mTypeError\u001b[0m: unhashable type: 'list'"
     ]
    }
   ],
   "source": [
    "d={[1,2]:'hello'}# keys must be immutable type in dictionary \n",
    "                 # otherwise it'll generate error"
   ]
  },
  {
   "cell_type": "code",
   "execution_count": 10,
   "metadata": {},
   "outputs": [],
   "source": [
    "d={(1,2):'hello'}# Here it'll not generate an error"
   ]
  },
  {
   "cell_type": "code",
   "execution_count": 1,
   "metadata": {},
   "outputs": [
    {
     "name": "stdout",
     "output_type": "stream",
     "text": [
      "{1: 6, 'name': 'radhe'}\n"
     ]
    }
   ],
   "source": [
    "# Creating a Dictionary \n",
    "# with each item as a Pair \n",
    "d=dict([(1,6),('name','radhe')])\n",
    "print(d)"
   ]
  },
  {
   "cell_type": "code",
   "execution_count": 2,
   "metadata": {},
   "outputs": [
    {
     "data": {
      "text/plain": [
       "{1: 'one', 'name': 'Radhe'}"
      ]
     },
     "execution_count": 2,
     "metadata": {},
     "output_type": "execute_result"
    }
   ],
   "source": [
    "d=dict([[1,'one'],['name','Radhe']])\n",
    "d"
   ]
  },
  {
   "cell_type": "code",
   "execution_count": 4,
   "metadata": {},
   "outputs": [
    {
     "data": {
      "text/plain": [
       "{1: 'one', 2: 'two'}"
      ]
     },
     "execution_count": 4,
     "metadata": {},
     "output_type": "execute_result"
    }
   ],
   "source": [
    "tup=((1,'one'),(2,'two'))\n",
    "d=dict(tup)\n",
    "d"
   ]
  },
  {
   "cell_type": "code",
   "execution_count": 7,
   "metadata": {},
   "outputs": [
    {
     "name": "stdout",
     "output_type": "stream",
     "text": [
      "{1: 'radhe', 2: {'name': 'pankaj', 'age': 24, 'mobile_no': 8090527029}}\n"
     ]
    }
   ],
   "source": [
    "#Nested dictionary\n",
    "d={1:'radhe',2:{'name':'pankaj','age':24,'mobile_no':8090527029}}\n",
    "print(d)"
   ]
  },
  {
   "cell_type": "markdown",
   "metadata": {},
   "source": [
    "# Adding Elements to a dictionary"
   ]
  },
  {
   "cell_type": "code",
   "execution_count": 6,
   "metadata": {},
   "outputs": [],
   "source": [
    "#Note- While adding a value, if the key value already exists,\n",
    "#the value gets updated otherwise a new Key with the value is\n",
    "#added to the Dictionary"
   ]
  },
  {
   "cell_type": "code",
   "execution_count": 7,
   "metadata": {},
   "outputs": [
    {
     "name": "stdout",
     "output_type": "stream",
     "text": [
      "{}\n",
      "{'name': 'radhe', 0: 'pankaj', 1: 'krishna'}\n",
      "{'name': 'radhe', 0: 'shyam', 1: 'krishna'}\n"
     ]
    }
   ],
   "source": [
    "d={}\n",
    "print(d)\n",
    "d['name']='radhe'\n",
    "d[0]='pankaj'# Updating Key's Value\n",
    "d[1]='krishna'\n",
    "print(d)\n",
    "d[0]='shyam'# Updating existing Key's Value\n",
    "print(d)"
   ]
  },
  {
   "cell_type": "code",
   "execution_count": 8,
   "metadata": {},
   "outputs": [
    {
     "name": "stdout",
     "output_type": "stream",
     "text": [
      "{'tup': (1, 2, 3)}\n",
      "{'tup': (1, 2, 3), 'dic': {'name': 'radhe', 'Name': 'shyam'}}\n",
      "{'tup': (1, 2, 3), 'dic': {'name': 'radhe', 'Name': 'shyam'}, 'nested_dic': {'name': 'radhe', 'add': {'where': 'everywhere'}}}\n"
     ]
    }
   ],
   "source": [
    "d={}\n",
    "d['tup']=1,2,3# Updating set of values\n",
    "print(d)\n",
    "d['dic']={'name':'radhe','Name':'shyam'}\n",
    "print(d)\n",
    "#Updating nested dictionary\n",
    "d['nested_dic']={'name':'radhe','add':{'where':'everywhere'}}\n",
    "print(d)"
   ]
  },
  {
   "cell_type": "markdown",
   "metadata": {},
   "source": [
    "# Accessing elements from the dictionary"
   ]
  },
  {
   "cell_type": "raw",
   "metadata": {},
   "source": [
    "In order to access the items of a dictionary refer to its key name.\n",
    "Key can be used inside square brackets.There is also a method \n",
    "called get() that will also help in acessing the element from a \n",
    "dictionary."
   ]
  },
  {
   "cell_type": "code",
   "execution_count": 9,
   "metadata": {},
   "outputs": [
    {
     "name": "stdout",
     "output_type": "stream",
     "text": [
      "one\n",
      "two\n",
      "three\n",
      "one\n",
      "two\n",
      "three\n"
     ]
    }
   ],
   "source": [
    "d={1:'one',2:'two',3:'three'}\n",
    "print(d[1])\n",
    "print(d[2])\n",
    "print(d[3])\n",
    "print(d.get(1))\n",
    "print(d.get(2))\n",
    "print(d.get(3))"
   ]
  },
  {
   "cell_type": "markdown",
   "metadata": {},
   "source": [
    "# Removing the elements from the dictionary"
   ]
  },
  {
   "cell_type": "raw",
   "metadata": {},
   "source": [
    "Note- del Dict will delete the entire dictionary and hence \n",
    "printing it after deletion will raise an Error."
   ]
  },
  {
   "cell_type": "code",
   "execution_count": 11,
   "metadata": {},
   "outputs": [
    {
     "ename": "NameError",
     "evalue": "name 'd' is not defined",
     "output_type": "error",
     "traceback": [
      "\u001b[0;31m---------------------------------------------------------------------------\u001b[0m",
      "\u001b[0;31mNameError\u001b[0m                                 Traceback (most recent call last)",
      "\u001b[0;32m<ipython-input-11-b458b30e5029>\u001b[0m in \u001b[0;36m<module>\u001b[0;34m\u001b[0m\n\u001b[1;32m      1\u001b[0m \u001b[0md\u001b[0m\u001b[0;34m=\u001b[0m\u001b[0;34m{\u001b[0m\u001b[0;36m1\u001b[0m\u001b[0;34m:\u001b[0m\u001b[0;34m'one'\u001b[0m\u001b[0;34m,\u001b[0m\u001b[0;36m2\u001b[0m\u001b[0;34m:\u001b[0m\u001b[0;34m'two'\u001b[0m\u001b[0;34m}\u001b[0m\u001b[0;34m\u001b[0m\u001b[0;34m\u001b[0m\u001b[0m\n\u001b[1;32m      2\u001b[0m \u001b[0;32mdel\u001b[0m \u001b[0md\u001b[0m\u001b[0;34m\u001b[0m\u001b[0;34m\u001b[0m\u001b[0m\n\u001b[0;32m----> 3\u001b[0;31m \u001b[0mprint\u001b[0m\u001b[0;34m(\u001b[0m\u001b[0md\u001b[0m\u001b[0;34m)\u001b[0m \u001b[0;31m#It will generate error\u001b[0m\u001b[0;34m\u001b[0m\u001b[0;34m\u001b[0m\u001b[0m\n\u001b[0m",
      "\u001b[0;31mNameError\u001b[0m: name 'd' is not defined"
     ]
    }
   ],
   "source": [
    "d={1:'one',2:'two'}\n",
    "del d\n",
    "print(d) #It will generate error"
   ]
  },
  {
   "cell_type": "code",
   "execution_count": 8,
   "metadata": {},
   "outputs": [
    {
     "name": "stdout",
     "output_type": "stream",
     "text": [
      "{2: {'name': 'radhe', 'other_name': 'shyam'}, 3: 'three', 4: 4}\n",
      "{2: {'name': 'radhe'}, 3: 'three', 4: 4}\n"
     ]
    },
    {
     "data": {
      "text/plain": [
       "'This key does not exist'"
      ]
     },
     "execution_count": 8,
     "metadata": {},
     "output_type": "execute_result"
    }
   ],
   "source": [
    "d={1:'one',2:{'name':'radhe','other_name':'shyam'},3:'three',4:4}\n",
    "del d[1]#It provides error if key is not exist\n",
    "print(d)\n",
    "del d[2]['other_name']\n",
    "print(d)\n",
    "d.pop(5,'This key does not exist')#D.pop(k[,d]) -> v, remove specified key and return \n",
    "                                  #the corresponding value.If key is not found, d is \n",
    "                                 #returned if given, otherwise KeyError is raised\n",
    "#pop() method returns the popped value\n"
   ]
  },
  {
   "cell_type": "code",
   "execution_count": 15,
   "metadata": {},
   "outputs": [
    {
     "data": {
      "text/plain": [
       "'This key is not exist'"
      ]
     },
     "execution_count": 15,
     "metadata": {},
     "output_type": "execute_result"
    }
   ],
   "source": [
    "d.pop(100,'This key is not exist')"
   ]
  },
  {
   "cell_type": "code",
   "execution_count": 1,
   "metadata": {},
   "outputs": [
    {
     "name": "stdout",
     "output_type": "stream",
     "text": [
      "{1: 'one', 2: 'two', 3: 'three'}\n",
      "{1: 'one', 2: 'two'}\n",
      "{1: 'one'}\n"
     ]
    }
   ],
   "source": [
    "d={1:'one',2:'two',3:'three'}\n",
    "print(d)\n",
    "d.popitem()#D.popitem() -> (k, v), remove and return some (key, value) pair as a\n",
    "           # 2-tuple; but raise KeyError if D is empty.\n",
    "print(d)\n",
    "d.popitem()\n",
    "print(d)"
   ]
  },
  {
   "cell_type": "code",
   "execution_count": 9,
   "metadata": {
    "scrolled": true
   },
   "outputs": [
    {
     "name": "stdout",
     "output_type": "stream",
     "text": [
      "{1: 'one', 2: 'two', 3: 'three'}\n",
      "{1: 'one', 2: 'two'}  ------>(3, 'three') ------> (<class 'tuple'>)\n",
      "{1: 'one'}  ------>(2, 'two') ------> (<class 'tuple'>)\n",
      "{}  ------>(1, 'one') ------> (<class 'tuple'>)\n"
     ]
    }
   ],
   "source": [
    "d={1:'one',2:'two',3:'three'}\n",
    "print(d)\n",
    "for i in range(len(d)):\n",
    "    x=d.popitem()\n",
    "    print(f'{d}  ------>{x} ------> ({type(x)})')\n",
    "# d={}\n",
    "# print(d)"
   ]
  },
  {
   "cell_type": "code",
   "execution_count": 17,
   "metadata": {},
   "outputs": [
    {
     "name": "stdout",
     "output_type": "stream",
     "text": [
      "{1: 'one', 2: 'two', 3: 'three'}\n",
      "(3, 'three')\n",
      "(2, 'two')\n",
      "(1, 'one')\n"
     ]
    }
   ],
   "source": [
    "d1={1:'one',2:'two',3:'three'}\n",
    "for i in range(3):\n",
    "    if i==0:print(d1)\n",
    "    x=d1.popitem()# it returns the deleted value as tuple\n",
    "    print(x)"
   ]
  },
  {
   "cell_type": "code",
   "execution_count": 10,
   "metadata": {},
   "outputs": [
    {
     "name": "stdout",
     "output_type": "stream",
     "text": [
      "{}\n"
     ]
    }
   ],
   "source": [
    "#Deleting the entire Dictionary\n",
    "d1={1:'one',2:'two',3:'three'}\n",
    "d1.clear()\n",
    "print(d1)# It doesn't generate error\n",
    "\n",
    "d2={1:'one',2:'two',3:'three'}\n",
    "del d2\n",
    "# print(d2) # It genrates error"
   ]
  },
  {
   "cell_type": "code",
   "execution_count": 21,
   "metadata": {},
   "outputs": [
    {
     "name": "stdout",
     "output_type": "stream",
     "text": [
      "3\n"
     ]
    }
   ],
   "source": [
    "d={'name':'pankaj', 'age': 22,'address':'tugalpur'}\n",
    "print(len(d))"
   ]
  },
  {
   "cell_type": "raw",
   "metadata": {},
   "source": [
    "Dictionary Methods\n",
    "METHODS\tDESCRIPTION\n",
    "copy()\tThey copy() method returns a shallow copy of the dictionary.\n",
    "clear()\tThe clear() method removes all items from the dictionary.\n",
    "pop()\tRemoves and returns an element from a dictionary having the given key.\n",
    "popitem()\tRemoves the arbitrary key-value pair from the dictionary and returns it as tuple.\n",
    "get()\tIt is a conventional method to access a value for a key.\n",
    "dictionary_name.values()\treturns a list of all the values available in a given dictionary.\n",
    "str()\tProduces a printable string representation of a dictionary.\n",
    "update()\tAdds dictionary dict2’s key-values pairs to dict\n",
    "setdefault()\tSet dict[key]=default if key is not already in dict\n",
    "keys()\tReturns list of dictionary dict’s keys\n",
    "items()\tReturns a list of dict’s (key, value) tuple pairs\n",
    "has_key()\tReturns true if key in dictionary dict, false otherwise\n",
    "fromkeys()\tCreate a new dictionary with keys from seq and values set to value.\n",
    "type()\tReturns the type of the passed variable.\n",
    "cmp()\tCompares elements of both dict."
   ]
  },
  {
   "cell_type": "raw",
   "metadata": {},
   "source": [
    "Dictionary Programs\n",
    "\n",
    "Dictionary Methods – Set 1,Set 2\n",
    "Get() method for dictionaries\n",
    "Handling missing keys of dictionary\n",
    "Ordered Dictionary\n",
    "orderDict()\n",
    "Chainmap\n",
    "Majority Element\n",
    "Dictionary and counter in Python to find winner of election\n",
    "How to implement Dictionary with Python3\n",
    "Possible Words using given characters in Python\n",
    "Python dictionary, set and counter to check if frequencies can become same\n",
    "Python dictionary intersection\n",
    "OrderedDict() in Python\n",
    "Check if binary representations of two numbers are anagram\n",
    "Python Counter to find the size of largest subset of anagram words\n",
    "Print anagrams together in Python using List and Dictionary\n",
    "Convert a list of Tuples into Dictionary\n",
    "Find all duplicate characters in string\n",
    "Remove all duplicates words from a given sentence\n",
    "Python Dictionary to find mirror characters in a string\n",
    "Python counter and dictionary intersection example (Make a string using deletion and rearrangement)\n",
    "Second most repeated word in a sequence in Python\n",
    "Python Dictionary Comprehension\n",
    "K’th Non-repeating Character in Python using List Comprehension and OrderedDict\n",
    "Scraping And Finding Ordered Words In A Dictionary using Python\n",
    "Ways to sort list of dictionaries by values in Python – Using itemgetter\n",
    "Merging two Dictionaries"
   ]
  },
  {
   "cell_type": "code",
   "execution_count": 22,
   "metadata": {},
   "outputs": [
    {
     "name": "stdout",
     "output_type": "stream",
     "text": [
      "{1: 'one', 2: 'two', 3: 'three'}\n",
      "{1: 'one', 2: 'two', 3: 'three'}\n"
     ]
    }
   ],
   "source": [
    "d={1:'one',2:'two',3:'three'}\n",
    "x=d.copy()#It's the shallow copy\n",
    "print(x)\n",
    "x1=d     # deep copy   \n",
    "print(x1)"
   ]
  },
  {
   "cell_type": "code",
   "execution_count": 6,
   "metadata": {},
   "outputs": [
    {
     "data": {
      "text/plain": [
       "dict_values(['one', 'two', 'three'])"
      ]
     },
     "execution_count": 6,
     "metadata": {},
     "output_type": "execute_result"
    }
   ],
   "source": [
    "#values() is an inbuilt method in Python programming language that\n",
    "#returns a list of all the values available in a given dictionary.\n",
    "d={1:'one',2:'two',3:'three'}\n",
    "x=d.values()\n",
    "x"
   ]
  },
  {
   "cell_type": "code",
   "execution_count": 7,
   "metadata": {},
   "outputs": [
    {
     "name": "stdout",
     "output_type": "stream",
     "text": [
      "115000\n"
     ]
    }
   ],
   "source": [
    "#Program to total all the salary of all the persons\n",
    "salary = {\"raj\" : 50000, \"striver\" : 60000, \"vikram\" : 5000}\n",
    "total=salary.values()\n",
    "sum=0\n",
    "for i in total:\n",
    "    sum+=i\n",
    "print(sum)"
   ]
  },
  {
   "cell_type": "code",
   "execution_count": 8,
   "metadata": {},
   "outputs": [
    {
     "name": "stdout",
     "output_type": "stream",
     "text": [
      "{1: 'one', 2: 'two', 3: 'three'}\n"
     ]
    }
   ],
   "source": [
    "#Update method\n",
    "d1={1:'one'}\n",
    "d2={2:'two',3:'three'}\n",
    "d1.update(d2)\n",
    "print(d1)"
   ]
  },
  {
   "cell_type": "code",
   "execution_count": 9,
   "metadata": {},
   "outputs": [
    {
     "name": "stdout",
     "output_type": "stream",
     "text": [
      "{1: 'one', 'name': 'radhe', 'other_name': 'shyam'}\n"
     ]
    }
   ],
   "source": [
    "d1={1:'one'}\n",
    "d1.update(name='radhe',other_name='shyam')\n",
    "print(d1)"
   ]
  },
  {
   "cell_type": "code",
   "execution_count": 12,
   "metadata": {},
   "outputs": [
    {
     "name": "stdout",
     "output_type": "stream",
     "text": [
      "<class 'dict_keys'>\n",
      "2\n",
      "3\n",
      "2\n",
      "3\n"
     ]
    }
   ],
   "source": [
    "# keys() method\n",
    "d2={2:'two',3:'three'}\n",
    "keys=d2.keys()\n",
    "print(type(keys))\n",
    "for i in keys:print(i)\n",
    "for j in d2.keys():print(j)"
   ]
  },
  {
   "cell_type": "code",
   "execution_count": 15,
   "metadata": {},
   "outputs": [
    {
     "name": "stdout",
     "output_type": "stream",
     "text": [
      "{'name': None, 'radhe': None}\n"
     ]
    }
   ],
   "source": [
    "# fromkeys(sequence,value(optional))\n",
    "sequence=('name','radhe')\n",
    "d={}\n",
    "d=d.fromkeys(sequence)\n",
    "print(d)"
   ]
  },
  {
   "cell_type": "code",
   "execution_count": 22,
   "metadata": {},
   "outputs": [
    {
     "name": "stdout",
     "output_type": "stream",
     "text": [
      "{'name': 'pankaj', 'age': 'pankaj'}\n"
     ]
    }
   ],
   "source": [
    "sequence=('name','age')\n",
    "d={}\n",
    "d=d.fromkeys(sequence,'pankaj')\n",
    "print(d)"
   ]
  },
  {
   "cell_type": "code",
   "execution_count": 27,
   "metadata": {},
   "outputs": [
    {
     "name": "stdout",
     "output_type": "stream",
     "text": [
      "name pankaj jaiswal\n",
      "age 26\n",
      "2 two\n",
      "dict_items([('name', 'pankaj jaiswal'), ('age', 26), (2, 'two')]) <class 'dict_items'>\n"
     ]
    }
   ],
   "source": [
    "# for loop in dictionary\n",
    "dict={'name': 'pankaj jaiswal', 'age': 26,2:'two'}\n",
    "for i,j in dict.items():\n",
    "    print(i,j)\n",
    "print(dict.items(),type(dict.items()))"
   ]
  },
  {
   "cell_type": "markdown",
   "metadata": {},
   "source": [
    "## 13th,February 2020"
   ]
  },
  {
   "cell_type": "code",
   "execution_count": 2,
   "metadata": {},
   "outputs": [
    {
     "name": "stdout",
     "output_type": "stream",
     "text": [
      "<class 'dict'>\n",
      "<class 'dict'>\n"
     ]
    }
   ],
   "source": [
    "#Empty dictionary\n",
    "l=dict()\n",
    "'''OR'''\n",
    "l1={}\n",
    "print(type(l),type(l1),sep='\\n')"
   ]
  },
  {
   "cell_type": "code",
   "execution_count": 3,
   "metadata": {},
   "outputs": [
    {
     "name": "stdout",
     "output_type": "stream",
     "text": [
      "<class 'dict'>\n",
      "4\n"
     ]
    }
   ],
   "source": [
    "#Non -empty dictionary\n",
    "detail={'roll':101,'name':'aditya','board':'cbse','perc':67}\n",
    "print(type(detail),len(detail),sep='\\n')"
   ]
  },
  {
   "cell_type": "markdown",
   "metadata": {},
   "source": [
    "## Dictionary fuction"
   ]
  },
  {
   "cell_type": "code",
   "execution_count": 4,
   "metadata": {},
   "outputs": [
    {
     "name": "stdout",
     "output_type": "stream",
     "text": [
      "dict_keys(['roll', 'name', 'board', 'perc']) <class 'dict_keys'>\n"
     ]
    }
   ],
   "source": [
    "# keys()# It returns list having all keys of dictionary\n",
    "print(detail.keys(),type(detail.keys()))"
   ]
  },
  {
   "cell_type": "code",
   "execution_count": 5,
   "metadata": {},
   "outputs": [
    {
     "name": "stdout",
     "output_type": "stream",
     "text": [
      "dict_values([101, 'aditya', 'cbse', 67])\n"
     ]
    }
   ],
   "source": [
    "# values() It returns list having all values of dictionary\n",
    "print(detail.values())"
   ]
  },
  {
   "cell_type": "code",
   "execution_count": 6,
   "metadata": {},
   "outputs": [
    {
     "name": "stdout",
     "output_type": "stream",
     "text": [
      "dict_items([('roll', 101), ('name', 'aditya'), ('board', 'cbse'), ('perc', 67)])\n"
     ]
    }
   ],
   "source": [
    "# items() It returns list having tuples and each tuple is having key and value\n",
    "print(detail.items())"
   ]
  },
  {
   "cell_type": "code",
   "execution_count": 7,
   "metadata": {},
   "outputs": [
    {
     "name": "stdout",
     "output_type": "stream",
     "text": [
      "roll-->101\n",
      "name-->aditya\n",
      "board-->cbse\n",
      "perc-->67\n"
     ]
    }
   ],
   "source": [
    "for i,j in detail.items():\n",
    "    print(i,j,sep='-->')"
   ]
  },
  {
   "cell_type": "markdown",
   "metadata": {},
   "source": [
    "## Accessing of elements of dictionary"
   ]
  },
  {
   "cell_type": "code",
   "execution_count": 8,
   "metadata": {},
   "outputs": [
    {
     "name": "stdout",
     "output_type": "stream",
     "text": [
      "101,67\n"
     ]
    }
   ],
   "source": [
    "print(detail['roll'],detail['perc'],sep=',')"
   ]
  },
  {
   "cell_type": "code",
   "execution_count": 9,
   "metadata": {},
   "outputs": [
    {
     "data": {
      "text/plain": [
       "{'roll': 101, 'name': 'aditya', 'board': 'cbse', 'perc': 90}"
      ]
     },
     "execution_count": 9,
     "metadata": {},
     "output_type": "execute_result"
    }
   ],
   "source": [
    "detail['perc']=90\n",
    "detail"
   ]
  },
  {
   "cell_type": "code",
   "execution_count": 10,
   "metadata": {},
   "outputs": [
    {
     "ename": "KeyError",
     "evalue": "'Perc'",
     "output_type": "error",
     "traceback": [
      "\u001b[1;31m---------------------------------------------------------------------------\u001b[0m",
      "\u001b[1;31mKeyError\u001b[0m                                  Traceback (most recent call last)",
      "\u001b[1;32m<ipython-input-10-c86f9ffd5fe6>\u001b[0m in \u001b[0;36m<module>\u001b[1;34m\u001b[0m\n\u001b[1;32m----> 1\u001b[1;33m \u001b[0mprint\u001b[0m\u001b[1;33m(\u001b[0m\u001b[0mdetail\u001b[0m\u001b[1;33m[\u001b[0m\u001b[1;34m'Perc'\u001b[0m\u001b[1;33m]\u001b[0m\u001b[1;33m)\u001b[0m\u001b[1;31m#key error,if key does not exist,it terminate abnormally\u001b[0m\u001b[1;33m\u001b[0m\u001b[1;33m\u001b[0m\u001b[0m\n\u001b[0m\u001b[0;32m      2\u001b[0m \u001b[0mprint\u001b[0m\u001b[1;33m(\u001b[0m\u001b[1;34m'Hello'\u001b[0m\u001b[1;33m)\u001b[0m\u001b[1;33m\u001b[0m\u001b[1;33m\u001b[0m\u001b[0m\n",
      "\u001b[1;31mKeyError\u001b[0m: 'Perc'"
     ]
    }
   ],
   "source": [
    "print(detail['Perc'])#key error,if key does not exist,it terminate abnormally\n",
    "print('Hello')"
   ]
  },
  {
   "cell_type": "code",
   "execution_count": 11,
   "metadata": {},
   "outputs": [
    {
     "name": "stdout",
     "output_type": "stream",
     "text": [
      "None\n",
      "Hello\n"
     ]
    }
   ],
   "source": [
    "print(detail.get('Perc'))#Return value if key exist otherwise return None,it will not terminate abnormally\n",
    "print('Hello')"
   ]
  },
  {
   "cell_type": "code",
   "execution_count": 12,
   "metadata": {},
   "outputs": [
    {
     "name": "stdout",
     "output_type": "stream",
     "text": [
      "90\n",
      "Your message\n"
     ]
    }
   ],
   "source": [
    "print(detail.get('perc',0))\n",
    "print(detail.get('Perc','Your message'))#It will display your given message if element\n",
    "                                        # is not found in the dictionary"
   ]
  },
  {
   "cell_type": "markdown",
   "metadata": {},
   "source": [
    "## Assignment operator"
   ]
  },
  {
   "cell_type": "code",
   "execution_count": 13,
   "metadata": {},
   "outputs": [
    {
     "name": "stdout",
     "output_type": "stream",
     "text": [
      "{'roll': 101, 'name': 'aditya', 'board': 'cbse', 'perc': 98}\n"
     ]
    }
   ],
   "source": [
    "detail['perc']=98\n",
    "print(detail)"
   ]
  },
  {
   "cell_type": "markdown",
   "metadata": {},
   "source": [
    "## Add  pair to dictionary"
   ]
  },
  {
   "cell_type": "code",
   "execution_count": 14,
   "metadata": {},
   "outputs": [
    {
     "name": "stdout",
     "output_type": "stream",
     "text": [
      "{'roll': 101, 'name': 'aditya', 'board': 'cbse', 'perc': 98, 'sub': 'phy'}\n"
     ]
    }
   ],
   "source": [
    "detail['sub']='phy'\n",
    "print(detail)"
   ]
  },
  {
   "cell_type": "code",
   "execution_count": 15,
   "metadata": {},
   "outputs": [
    {
     "name": "stdout",
     "output_type": "stream",
     "text": [
      "{'roll': 101, 'name': 'aditya', 'board': 'cbse', 'perc': 98, 'sub': ['phy', 'Chem']}\n"
     ]
    }
   ],
   "source": [
    "detail['sub']=['phy','Chem']\n",
    "print(detail)"
   ]
  },
  {
   "cell_type": "code",
   "execution_count": 17,
   "metadata": {},
   "outputs": [
    {
     "data": {
      "text/plain": [
       "{'name': 'abc'}"
      ]
     },
     "execution_count": 17,
     "metadata": {},
     "output_type": "execute_result"
    }
   ],
   "source": [
    "d={'name':'xyz','name':'abc'}#<------------------------It takes the updated value\n",
    "d"
   ]
  },
  {
   "cell_type": "markdown",
   "metadata": {},
   "source": [
    "## Update your dictionary using other dictionary"
   ]
  },
  {
   "cell_type": "code",
   "execution_count": 18,
   "metadata": {},
   "outputs": [
    {
     "name": "stdout",
     "output_type": "stream",
     "text": [
      "{'roll': 101, 'name': 'vivek', 'board': 'cbse', 'perc': 98, 'sub': ['phy', 'Chem'], 'adhaar_no': 12345}\n"
     ]
    }
   ],
   "source": [
    "adhaar={'name':'vivek','adhaar_no':12345}\n",
    "detail.update(adhaar)\n",
    "print(detail)"
   ]
  },
  {
   "cell_type": "code",
   "execution_count": 19,
   "metadata": {},
   "outputs": [
    {
     "data": {
      "text/plain": [
       "{'name': 'radhe radhe', 'age': 24, 'last_name': 'shyam'}"
      ]
     },
     "execution_count": 19,
     "metadata": {},
     "output_type": "execute_result"
    }
   ],
   "source": [
    "d1={'name':'pankaj jaiswal','age':24}\n",
    "d2={'name':'radhe radhe','last_name':'shyam'}\n",
    "d1.update(d2)\n",
    "d1"
   ]
  },
  {
   "cell_type": "code",
   "execution_count": 20,
   "metadata": {},
   "outputs": [
    {
     "data": {
      "text/plain": [
       "{'name': 'pankaj jaiswal', 'last_name': 'shyam', 'age': 24}"
      ]
     },
     "execution_count": 20,
     "metadata": {},
     "output_type": "execute_result"
    }
   ],
   "source": [
    "d1={'name':'pankaj jaiswal','age':24}\n",
    "d2={'name':'radhe radhe','last_name':'shyam'}\n",
    "d2.update(d1)\n",
    "d2"
   ]
  },
  {
   "cell_type": "markdown",
   "metadata": {},
   "source": [
    "## H.W"
   ]
  },
  {
   "cell_type": "code",
   "execution_count": 23,
   "metadata": {},
   "outputs": [
    {
     "name": "stdout",
     "output_type": "stream",
     "text": [
      "Enter your name and password with commma : radhe,344934\n",
      "{'name': 'radhe', 'password': '344934'}\n"
     ]
    }
   ],
   "source": [
    "#Question 1\n",
    "d={}\n",
    "d['name'],d['password']=input('Enter your name and password with commma : ').split(',')\n",
    "print(d)"
   ]
  },
  {
   "cell_type": "code",
   "execution_count": 24,
   "metadata": {},
   "outputs": [
    {
     "name": "stdout",
     "output_type": "stream",
     "text": [
      "Enter your name : pankaj\n",
      "password : 834\n",
      "Your account is created.\n",
      "{'pankaj jaiswal': 1234, 'pankaj': '834'}\n"
     ]
    }
   ],
   "source": [
    "#Question 2\n",
    "d={'pankaj jaiswal':1234}\n",
    "name=input('Enter your name : ').lower()\n",
    "for i in d.keys():\n",
    "    if i==name:\n",
    "        print('This name already exist')\n",
    "    else:\n",
    "        d[name]=input('password : ')\n",
    "        print('Your account is created.')\n",
    "        print(d)\n",
    "        break"
   ]
  },
  {
   "cell_type": "code",
   "execution_count": 26,
   "metadata": {},
   "outputs": [
    {
     "name": "stdout",
     "output_type": "stream",
     "text": [
      "Input no. of students : 2\n",
      "Enter the students name with their marks(space separated : )Ramesh 24 23 22 5 4\n",
      "Enter the students name with their marks(space separated : )Mishra 24 23 22 5 45\n",
      "Name of the Students : Mishra\n"
     ]
    },
    {
     "data": {
      "text/plain": [
       "'23.80'"
      ]
     },
     "execution_count": 26,
     "metadata": {},
     "output_type": "execute_result"
    }
   ],
   "source": [
    "#Hackerrank problem\n",
    "n = int(input('Input no. of students : '))\n",
    "student_marks = {}\n",
    "for _ in range(n):\n",
    "    name, *line = input('Enter the students name with their marks(space separated : )').split()\n",
    "    scores = list(map(float, line))\n",
    "    student_marks[name] = scores\n",
    "query_name = input('Name of the Students : ')\n",
    "for names,marks in student_marks.items():\n",
    "    student_marks[names]='%.2f'%(sum(marks)/len(scores))\n",
    "student_marks[query_name]\n"
   ]
  },
  {
   "cell_type": "code",
   "execution_count": 38,
   "metadata": {},
   "outputs": [
    {
     "name": "stdout",
     "output_type": "stream",
     "text": [
      "1 2 3 4\n",
      "1:['2', '3', '4']\n"
     ]
    }
   ],
   "source": [
    "name,*marks=input().split()\n",
    "print(name,marks,sep=':')"
   ]
  },
  {
   "cell_type": "code",
   "execution_count": 39,
   "metadata": {},
   "outputs": [
    {
     "data": {
      "text/plain": [
       "list"
      ]
     },
     "execution_count": 39,
     "metadata": {},
     "output_type": "execute_result"
    }
   ],
   "source": [
    "type(marks)"
   ]
  },
  {
   "cell_type": "code",
   "execution_count": null,
   "metadata": {},
   "outputs": [],
   "source": []
  },
  {
   "cell_type": "code",
   "execution_count": 27,
   "metadata": {},
   "outputs": [
    {
     "name": "stdout",
     "output_type": "stream",
     "text": [
      "1 3\n",
      "7 1\n"
     ]
    }
   ],
   "source": []
  },
  {
   "cell_type": "code",
   "execution_count": 28,
   "metadata": {},
   "outputs": [
    {
     "name": "stdout",
     "output_type": "stream",
     "text": [
      "[6, 5, 4, 3, 2]\n"
     ]
    }
   ],
   "source": [
    "print(_)"
   ]
  },
  {
   "cell_type": "code",
   "execution_count": 6,
   "metadata": {},
   "outputs": [
    {
     "ename": "ValueError",
     "evalue": "dictionary update sequence element #0 has length 1; 2 is required",
     "output_type": "error",
     "traceback": [
      "\u001b[1;31m---------------------------------------------------------------------------\u001b[0m",
      "\u001b[1;31mValueError\u001b[0m                                Traceback (most recent call last)",
      "\u001b[1;32m<ipython-input-6-ba77bc849a56>\u001b[0m in \u001b[0;36m<module>\u001b[1;34m\u001b[0m\n\u001b[0;32m      1\u001b[0m \u001b[1;32mwith\u001b[0m \u001b[0mopen\u001b[0m\u001b[1;33m(\u001b[0m\u001b[1;34m'C:/Users/Dell/Desktop/file.txt'\u001b[0m\u001b[1;33m,\u001b[0m\u001b[1;34m'r'\u001b[0m\u001b[1;33m)\u001b[0m \u001b[1;32mas\u001b[0m \u001b[0mf\u001b[0m\u001b[1;33m:\u001b[0m\u001b[1;33m\u001b[0m\u001b[1;33m\u001b[0m\u001b[0m\n\u001b[0;32m      2\u001b[0m     \u001b[0mdata\u001b[0m\u001b[1;33m=\u001b[0m\u001b[0mf\u001b[0m\u001b[1;33m.\u001b[0m\u001b[0mread\u001b[0m\u001b[1;33m(\u001b[0m\u001b[1;33m)\u001b[0m\u001b[1;33m\u001b[0m\u001b[1;33m\u001b[0m\u001b[0m\n\u001b[1;32m----> 3\u001b[1;33m     \u001b[0mprint\u001b[0m\u001b[1;33m(\u001b[0m\u001b[0mdict\u001b[0m\u001b[1;33m(\u001b[0m\u001b[0mdata\u001b[0m\u001b[1;33m)\u001b[0m\u001b[1;33m)\u001b[0m\u001b[1;33m\u001b[0m\u001b[1;33m\u001b[0m\u001b[0m\n\u001b[0m",
      "\u001b[1;31mValueError\u001b[0m: dictionary update sequence element #0 has length 1; 2 is required"
     ]
    }
   ],
   "source": [
    "with open('C:/Users/Dell/Desktop/file.txt','r') as f:\n",
    "    data=f.read()\n",
    "    print(dict(data))"
   ]
  },
  {
   "cell_type": "code",
   "execution_count": 7,
   "metadata": {},
   "outputs": [],
   "source": [
    "d={\n",
    "  \"data\": [{\n",
    "    \"type\": \"articles\",\n",
    "    \"id\": \"1\",\n",
    "    \"attributes\": {\n",
    "      \"title\": \"JSON:API paints my bikeshed!\"\n",
    "    },\n",
    "    \"links\": {\n",
    "      \"self\": \"http://example.com/articles/1\"\n",
    "    },\n",
    "    \"relationships\": {\n",
    "      \"author\": {\n",
    "        \"links\": {\n",
    "          \"self\": \"http://example.com/articles/1/relationships/author\",\n",
    "          \"related\": \"http://example.com/articles/1/author\"\n",
    "        },\n",
    "        \"data\": { \"type\": \"people\", \"id\": \"9\" }\n",
    "      },\n",
    "      \"comments\": {\n",
    "        \"links\": {\n",
    "          \"self\": \"http://example.com/articles/1/relationships/comments\",\n",
    "          \"related\": \"http://example.com/articles/1/comments\"\n",
    "        },\n",
    "        \"data\": [\n",
    "          { \"type\": \"comments\", \"id\": \"5\" },\n",
    "          { \"type\": \"comments\", \"id\": \"12\" }\n",
    "        ]\n",
    "      }\n",
    "    }\n",
    "  }],\n",
    "  \"included\": [{\n",
    "    \"type\": \"people\",\n",
    "    \"id\": \"9\",\n",
    "    \"attributes\": {\n",
    "      \"first-name\": \"Dan\",\n",
    "      \"last-name\": \"Gebhardt\",\n",
    "      \"twitter\": \"dgeb\"\n",
    "    },\n",
    "    \"links\": {\n",
    "      \"self\": \"http://example.com/people/9\"\n",
    "    }\n",
    "  }, {\n",
    "    \"type\": \"comments\",\n",
    "    \"id\": \"5\",\n",
    "    \"attributes\": {\n",
    "      \"body\": \"First!\"\n",
    "    },\n",
    "    \"relationships\": {\n",
    "      \"author\": {\n",
    "        \"data\": { \"type\": \"people\", \"id\": \"2\" }\n",
    "      }\n",
    "    },\n",
    "    \"links\": {\n",
    "      \"self\": \"http://example.com/comments/5\"\n",
    "    }\n",
    "  }, {\n",
    "    \"type\": \"comments\",\n",
    "    \"id\": \"12\",\n",
    "    \"attributes\": {\n",
    "      \"body\": \"I like XML better\"\n",
    "    },\n",
    "    \"relationships\": {\n",
    "      \"author\": {\n",
    "        \"data\": { \"type\": \"people\", \"id\": \"9\" }\n",
    "      }\n",
    "    },\n",
    "    \"links\": {\n",
    "      \"self\": \"http://example.com/comments/12\"\n",
    "    }\n",
    "  }]\n",
    "}"
   ]
  },
  {
   "cell_type": "code",
   "execution_count": 9,
   "metadata": {},
   "outputs": [
    {
     "name": "stdout",
     "output_type": "stream",
     "text": [
      "<class 'dict'>\n"
     ]
    }
   ],
   "source": [
    "print(type(d))"
   ]
  },
  {
   "cell_type": "code",
   "execution_count": 10,
   "metadata": {},
   "outputs": [
    {
     "name": "stdout",
     "output_type": "stream",
     "text": [
      "data\n",
      "included\n"
     ]
    }
   ],
   "source": [
    "for i in d.keys():\n",
    "    print(i)"
   ]
  },
  {
   "cell_type": "code",
   "execution_count": 37,
   "metadata": {},
   "outputs": [
    {
     "name": "stdout",
     "output_type": "stream",
     "text": [
      "1\n",
      "<class 'str'>\n"
     ]
    }
   ],
   "source": [
    "print(d['data'][0]['id'])\n",
    "print(type(d['data'][0]['id']))"
   ]
  },
  {
   "cell_type": "code",
   "execution_count": 22,
   "metadata": {},
   "outputs": [
    {
     "name": "stdout",
     "output_type": "stream",
     "text": [
      "['JSONDecodeError', 'JSONDecoder', 'JSONEncoder', '__all__', '__author__', '__builtins__', '__cached__', '__doc__', '__file__', '__loader__', '__name__', '__package__', '__path__', '__spec__', '__version__', '_default_decoder', '_default_encoder', 'codecs', 'decoder', 'detect_encoding', 'dump', 'dumps', 'encoder', 'load', 'loads', 'scanner']\n"
     ]
    }
   ],
   "source": [
    "import json\n",
    "print(dir(json))"
   ]
  },
  {
   "cell_type": "code",
   "execution_count": 31,
   "metadata": {},
   "outputs": [
    {
     "ename": "AttributeError",
     "evalue": "module 'json' has no attribute 'parsed'",
     "output_type": "error",
     "traceback": [
      "\u001b[1;31m---------------------------------------------------------------------------\u001b[0m",
      "\u001b[1;31mAttributeError\u001b[0m                            Traceback (most recent call last)",
      "\u001b[1;32m<ipython-input-31-10d5d690260e>\u001b[0m in \u001b[0;36m<module>\u001b[1;34m\u001b[0m\n\u001b[1;32m----> 1\u001b[1;33m \u001b[0md\u001b[0m\u001b[1;33m=\u001b[0m\u001b[0mjson\u001b[0m\u001b[1;33m.\u001b[0m\u001b[0mparsed\u001b[0m\u001b[1;33m(\u001b[0m\u001b[0md\u001b[0m\u001b[1;33m)\u001b[0m\u001b[1;33m\u001b[0m\u001b[1;33m\u001b[0m\u001b[0m\n\u001b[0m",
      "\u001b[1;31mAttributeError\u001b[0m: module 'json' has no attribute 'parsed'"
     ]
    }
   ],
   "source": [
    "d=json.parsed(d)"
   ]
  },
  {
   "cell_type": "code",
   "execution_count": 26,
   "metadata": {},
   "outputs": [
    {
     "data": {
      "text/plain": [
       "str"
      ]
     },
     "execution_count": 26,
     "metadata": {},
     "output_type": "execute_result"
    }
   ],
   "source": [
    "type(d)"
   ]
  },
  {
   "cell_type": "code",
   "execution_count": 27,
   "metadata": {},
   "outputs": [],
   "source": [
    "d=json.loads(d)"
   ]
  },
  {
   "cell_type": "code",
   "execution_count": 28,
   "metadata": {},
   "outputs": [
    {
     "data": {
      "text/plain": [
       "dict"
      ]
     },
     "execution_count": 28,
     "metadata": {},
     "output_type": "execute_result"
    }
   ],
   "source": [
    "type(d)"
   ]
  },
  {
   "cell_type": "code",
   "execution_count": 36,
   "metadata": {},
   "outputs": [
    {
     "ename": "TypeError",
     "evalue": "'module' object is not iterable",
     "output_type": "error",
     "traceback": [
      "\u001b[1;31m---------------------------------------------------------------------------\u001b[0m",
      "\u001b[1;31mTypeError\u001b[0m                                 Traceback (most recent call last)",
      "\u001b[1;32m<ipython-input-36-f017e5d593cf>\u001b[0m in \u001b[0;36m<module>\u001b[1;34m\u001b[0m\n\u001b[1;32m----> 1\u001b[1;33m \u001b[0mprint\u001b[0m\u001b[1;33m(\u001b[0m\u001b[0mdict\u001b[0m\u001b[1;33m(\u001b[0m\u001b[0mjson\u001b[0m\u001b[1;33m)\u001b[0m\u001b[1;33m)\u001b[0m\u001b[1;33m\u001b[0m\u001b[1;33m\u001b[0m\u001b[0m\n\u001b[0m",
      "\u001b[1;31mTypeError\u001b[0m: 'module' object is not iterable"
     ]
    }
   ],
   "source": []
  },
  {
   "cell_type": "code",
   "execution_count": null,
   "metadata": {},
   "outputs": [],
   "source": []
  }
 ],
 "metadata": {
  "kernelspec": {
   "display_name": "Python 3",
   "language": "python",
   "name": "python3"
  },
  "language_info": {
   "codemirror_mode": {
    "name": "ipython",
    "version": 3
   },
   "file_extension": ".py",
   "mimetype": "text/x-python",
   "name": "python",
   "nbconvert_exporter": "python",
   "pygments_lexer": "ipython3",
   "version": "3.9.6"
  }
 },
 "nbformat": 4,
 "nbformat_minor": 2
}
