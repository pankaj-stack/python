{
 "cells": [
  {
   "cell_type": "markdown",
   "metadata": {},
   "source": [
    "# LOCAL VARIABLE"
   ]
  },
  {
   "cell_type": "code",
   "execution_count": 3,
   "metadata": {},
   "outputs": [
    {
     "data": {
      "text/plain": [
       "7"
      ]
     },
     "execution_count": 3,
     "metadata": {},
     "output_type": "execute_result"
    }
   ],
   "source": [
    "def func():\n",
    "    x=7      # local variable\n",
    "    return x\n",
    "def func2():\n",
    "    print(x)# <---------------\n",
    "# func2()# <---------------\n",
    "func()"
   ]
  },
  {
   "cell_type": "code",
   "execution_count": 5,
   "metadata": {},
   "outputs": [],
   "source": [
    "def func():\n",
    "    x=7\n",
    "    return x\n",
    "#print(x) # <--------------- This will generate an error"
   ]
  },
  {
   "cell_type": "markdown",
   "metadata": {},
   "source": [
    "# GLOBAL VARIABLE"
   ]
  },
  {
   "cell_type": "code",
   "execution_count": 6,
   "metadata": {},
   "outputs": [
    {
     "name": "stdout",
     "output_type": "stream",
     "text": [
      "7\n",
      "5\n"
     ]
    }
   ],
   "source": [
    "x=5 # global variable\n",
    "def func():\n",
    "    x=7 # local variable\n",
    "    return x\n",
    "print(func())\n",
    "print(x)"
   ]
  },
  {
   "cell_type": "code",
   "execution_count": 9,
   "metadata": {},
   "outputs": [
    {
     "name": "stdout",
     "output_type": "stream",
     "text": [
      "5\n",
      "7\n",
      "7\n"
     ]
    }
   ],
   "source": [
    "x=5 # global variable\n",
    "print(x)\n",
    "def func():\n",
    "    global x\n",
    "    x=7 # local variable\n",
    "    return x\n",
    "print(func())\n",
    "print(x)"
   ]
  },
  {
   "cell_type": "code",
   "execution_count": 10,
   "metadata": {},
   "outputs": [
    {
     "name": "stdout",
     "output_type": "stream",
     "text": [
      "5\n",
      "7\n"
     ]
    }
   ],
   "source": [
    "x=5 # global variable\n",
    "def func():\n",
    "    global x\n",
    "    x=7 # local variable\n",
    "    return x\n",
    "print(x)\n",
    "print(func())"
   ]
  },
  {
   "cell_type": "markdown",
   "metadata": {},
   "source": [
    "# NON - LOCAL VARIABLE"
   ]
  },
  {
   "cell_type": "code",
   "execution_count": 11,
   "metadata": {},
   "outputs": [
    {
     "name": "stdout",
     "output_type": "stream",
     "text": [
      "Before calling g : 42\n",
      "Calling g now\n",
      "After calling g : 43\n",
      "x in main : 3\n"
     ]
    }
   ],
   "source": [
    "# non - local variables are used in nested functions only\n",
    "# not defined in the local scope ,not in the global scope\n",
    "def f():\n",
    "    x=42            #local variable\n",
    "    def g():\n",
    "        nonlocal x  #non local variable\n",
    "        x=43\n",
    "    print('Before calling g : '+str(x))#42\n",
    "    print('Calling g now')\n",
    "    g()\n",
    "    print('After calling g : '+str(x))#43\n",
    "x=3\n",
    "f()\n",
    "print('x in main : '+str(x))#3\n",
    "        "
   ]
  },
  {
   "cell_type": "code",
   "execution_count": null,
   "metadata": {},
   "outputs": [],
   "source": []
  }
 ],
 "metadata": {
  "kernelspec": {
   "display_name": "Python 3",
   "language": "python",
   "name": "python3"
  },
  "language_info": {
   "codemirror_mode": {
    "name": "ipython",
    "version": 3
   },
   "file_extension": ".py",
   "mimetype": "text/x-python",
   "name": "python",
   "nbconvert_exporter": "python",
   "pygments_lexer": "ipython3",
   "version": "3.7.4"
  }
 },
 "nbformat": 4,
 "nbformat_minor": 2
}
