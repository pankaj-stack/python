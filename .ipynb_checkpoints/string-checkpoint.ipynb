{
 "cells": [
  {
   "cell_type": "raw",
   "metadata": {},
   "source": [
    "In python,strings are stored as individualcharacter in a contiguous memory location\n",
    "# String is immutable in nature"
   ]
  },
  {
   "cell_type": "code",
   "execution_count": 4,
   "metadata": {},
   "outputs": [
    {
     "name": "stdout",
     "output_type": "stream",
     "text": [
      "hi how are\n",
      "<class 'str'>\n"
     ]
    }
   ],
   "source": [
    "a,b,c='hi',\"how\",'''are'''\n",
    "print(a,b,c)#Here in case of object/variable c holds the value with tripple quotes\n",
    "print(type(c))#It's valid in python\n"
   ]
  },
  {
   "cell_type": "code",
   "execution_count": 39,
   "metadata": {},
   "outputs": [
    {
     "name": "stdout",
     "output_type": "stream",
     "text": [
      "helloworld\n"
     ]
    }
   ],
   "source": [
    "# String concatenation operator(+)\n",
    "print('hello'+'world')"
   ]
  },
  {
   "cell_type": "code",
   "execution_count": 5,
   "metadata": {},
   "outputs": [
    {
     "name": "stdout",
     "output_type": "stream",
     "text": [
      "iiiii\n"
     ]
    }
   ],
   "source": [
    "#String replication(*)\n",
    "print('i'*5)"
   ]
  },
  {
   "cell_type": "code",
   "execution_count": 3,
   "metadata": {},
   "outputs": [
    {
     "name": "stdout",
     "output_type": "stream",
     "text": [
      "come\n",
      "welcome\n",
      "welcome\n",
      "\n",
      "emoclew\n",
      "wloe\n"
     ]
    }
   ],
   "source": [
    "# String slicing\n",
    "str='welcome'\n",
    "print(str[3:])#come\n",
    "print(str[:])#whole stirng\n",
    "print(str[0:])#whole string\n",
    "print(str[-1:-8])# blank(due to not provided step)\n",
    "print(str[-1:-8:-1])# reverse of string\n",
    "print(str[0:7:2])#wloe"
   ]
  },
  {
   "cell_type": "code",
   "execution_count": 8,
   "metadata": {},
   "outputs": [
    {
     "name": "stdout",
     "output_type": "stream",
     "text": [
      "emoclew\n",
      "emoclew\n",
      "emoclew\n",
      "<reversed object at 0x00000225839FBBB0>\n",
      "<reversed object at 0x00000225839FBDF0> <class 'reversed'>\n",
      "olleh"
     ]
    }
   ],
   "source": [
    "# string reversing\n",
    "str='welcome'\n",
    "print(str[::-1])# method 1\n",
    "print(str[-1::-1])# method 2\n",
    "print(str[len(str)::-1])# method 3\n",
    "\n",
    "print(reversed(str))# It returns object of reversed string<-------------------------;\n",
    "x=reversed('hello')\n",
    "print(x,type(x))\n",
    "for i in x:\n",
    "    print(i,end='')"
   ]
  },
  {
   "cell_type": "markdown",
   "metadata": {},
   "source": [
    "# String Functions & Methods"
   ]
  },
  {
   "cell_type": "code",
   "execution_count": 10,
   "metadata": {},
   "outputs": [
    {
     "name": "stdout",
     "output_type": "stream",
     "text": [
      "2\n"
     ]
    }
   ],
   "source": [
    "str='hello sir ,how are you ?'\n",
    "print(str.count('e',0,1))#count(string,begin,end_point)where end_point is excluded in\n",
    "# every function of string"
   ]
  },
  {
   "cell_type": "code",
   "execution_count": 7,
   "metadata": {},
   "outputs": [
    {
     "name": "stdout",
     "output_type": "stream",
     "text": [
      "False\n",
      "True\n"
     ]
    }
   ],
   "source": [
    "str='hello sir ,how are you ?'\n",
    "print(str.endswith('you'))#endswith(string,start_point,end_point)\n",
    "print(str.endswith('lo',0,5))  "
   ]
  },
  {
   "cell_type": "code",
   "execution_count": 8,
   "metadata": {},
   "outputs": [
    {
     "name": "stdout",
     "output_type": "stream",
     "text": [
      "True\n"
     ]
    }
   ],
   "source": [
    "str='hello sir ,how are you ?'\n",
    "print(str.startswith('hello'))# It checks the starting character of string is starting\n",
    "# or not."
   ]
  },
  {
   "cell_type": "code",
   "execution_count": 4,
   "metadata": {},
   "outputs": [
    {
     "name": "stdout",
     "output_type": "stream",
     "text": [
      "-1\n",
      "4\n"
     ]
    }
   ],
   "source": [
    "str='hello sir ,how are you ?'\n",
    "print(str.find('g'))#find(string,start_point,end_point)),if string isn't exist then it returns -1\n",
    "print(str.index('o'))# It is same as find() except it raises the exception if string\n",
    "# isn't found."
   ]
  },
  {
   "cell_type": "code",
   "execution_count": 5,
   "metadata": {},
   "outputs": [
    {
     "name": "stdout",
     "output_type": "stream",
     "text": [
      "True\n",
      "True\n",
      "True\n"
     ]
    }
   ],
   "source": [
    "str='123dhfd'\n",
    "str1='hello sir'\n",
    "str3='3435'\n",
    "print(str.isalnum())#isalnum() checks the alphanumeric\n",
    "print(str1.isalpha())#isalpha() checks the all alphabet\n",
    "print(str3.isdigit())# isdigit() checks the all digit"
   ]
  },
  {
   "cell_type": "code",
   "execution_count": 11,
   "metadata": {},
   "outputs": [
    {
     "name": "stdout",
     "output_type": "stream",
     "text": [
      "True\n",
      "False\n"
     ]
    }
   ],
   "source": [
    "string='hello'\n",
    "print(string.islower())# it checks that all characters are in lower case or not.\n",
    "print(string.isupper())# it checks that all characters are  in upper case or not."
   ]
  },
  {
   "cell_type": "code",
   "execution_count": 12,
   "metadata": {},
   "outputs": [
    {
     "name": "stdout",
     "output_type": "stream",
     "text": [
      "True\n"
     ]
    }
   ],
   "source": [
    "str=' '\n",
    "print(str.isspace())# It checks the space only"
   ]
  },
  {
   "cell_type": "code",
   "execution_count": 13,
   "metadata": {},
   "outputs": [
    {
     "name": "stdout",
     "output_type": "stream",
     "text": [
      "21\n"
     ]
    }
   ],
   "source": [
    "str='Radhe Radhe Radhe ...'\n",
    "print(len(str))# It finds the length of the string"
   ]
  },
  {
   "cell_type": "code",
   "execution_count": 14,
   "metadata": {},
   "outputs": [
    {
     "name": "stdout",
     "output_type": "stream",
     "text": [
      "radhe radhe radhe radhe radhe radhe radhe radhe  radhe radhe\n",
      "RADHE RADHE RADHE RADHE RADHE RADHE RADHE RADHE  RADHE RADHE\n"
     ]
    }
   ],
   "source": [
    "str='RADHE RADHE RADHE RADHE RADHE RADHE RADHE RADHE  RADHE RADHE'\n",
    "x=str.lower()# It converts the whole string into in the lower case\n",
    "print(x)\n",
    "print(x.upper())# It coverts the whole string into the upper case"
   ]
  },
  {
   "cell_type": "code",
   "execution_count": 15,
   "metadata": {},
   "outputs": [
    {
     "name": "stdout",
     "output_type": "stream",
     "text": [
      "rADHE\n"
     ]
    }
   ],
   "source": [
    "str='Radhe'\n",
    "print(str.swapcase())# It converts the lowercase into uppercase and vice-versa"
   ]
  },
  {
   "cell_type": "code",
   "execution_count": 16,
   "metadata": {},
   "outputs": [
    {
     "name": "stdout",
     "output_type": "stream",
     "text": [
      "Hello Python\n"
     ]
    }
   ],
   "source": [
    "str='                        Hello Python'\n",
    "print(str.lstrip())# It removes the left white spaces from the string"
   ]
  },
  {
   "cell_type": "code",
   "execution_count": 17,
   "metadata": {},
   "outputs": [
    {
     "name": "stdout",
     "output_type": "stream",
     "text": [
      "Hello Python\n"
     ]
    }
   ],
   "source": [
    "str='Hello Python                            '\n",
    "print(str.rstrip())# It removes right spaces from the string"
   ]
  },
  {
   "cell_type": "code",
   "execution_count": 18,
   "metadata": {},
   "outputs": [
    {
     "name": "stdout",
     "output_type": "stream",
     "text": [
      "Hello Python\n"
     ]
    }
   ],
   "source": [
    "str='             Hello Python                    '\n",
    "print(str.strip())#It removes left as well as right spaces from the string."
   ]
  },
  {
   "cell_type": "code",
   "execution_count": 19,
   "metadata": {},
   "outputs": [
    {
     "name": "stdout",
     "output_type": "stream",
     "text": [
      "hello_how_are_you_sir_?\n"
     ]
    }
   ],
   "source": [
    "str='hello how are you sir ?'\n",
    "# syntax:\n",
    "        # string.replace(old_value,new_value,count=-1)count=-1 its a default value\n",
    "print(str.replace(' ','_'))# It replace the desired character from the string."
   ]
  },
  {
   "cell_type": "code",
   "execution_count": 7,
   "metadata": {},
   "outputs": [
    {
     "name": "stdout",
     "output_type": "stream",
     "text": [
      "*****Radhe*****\n"
     ]
    }
   ],
   "source": [
    "name='Radhe'\n",
    "print(name.center(len(name)+10,'*'))"
   ]
  },
  {
   "cell_type": "code",
   "execution_count": 1,
   "metadata": {},
   "outputs": [
    {
     "name": "stdout",
     "output_type": "stream",
     "text": [
      "Radhe Shyam\n",
      "Radhe shyam\n"
     ]
    }
   ],
   "source": [
    "name='radhe shyam'\n",
    "print(name.title())# It makes the first letter capital of each word in a sentence or word\n",
    "print(name.capitalize())#It only makes the first letter capital"
   ]
  },
  {
   "cell_type": "markdown",
   "metadata": {},
   "source": [
    "# Strings are immutable"
   ]
  },
  {
   "cell_type": "code",
   "execution_count": 22,
   "metadata": {},
   "outputs": [
    {
     "name": "stdout",
     "output_type": "stream",
     "text": [
      "t\n"
     ]
    }
   ],
   "source": [
    "str='string'\n",
    "print(str[1])"
   ]
  },
  {
   "cell_type": "code",
   "execution_count": 50,
   "metadata": {},
   "outputs": [],
   "source": [
    "#str[1]=T  # It will generate error"
   ]
  },
  {
   "cell_type": "code",
   "execution_count": 24,
   "metadata": {},
   "outputs": [
    {
     "name": "stdout",
     "output_type": "stream",
     "text": [
      "sTring\n",
      "string\n"
     ]
    }
   ],
   "source": [
    "print(str.replace('t','T'))# We can't change the string,only we can store it in the new\n",
    "                           # new variable\n",
    "print(str)"
   ]
  },
  {
   "cell_type": "markdown",
   "metadata": {},
   "source": [
    "# More Assignment Operator"
   ]
  },
  {
   "cell_type": "code",
   "execution_count": 25,
   "metadata": {},
   "outputs": [
    {
     "data": {
      "text/plain": [
       "'harshit'"
      ]
     },
     "execution_count": 25,
     "metadata": {},
     "output_type": "execute_result"
    }
   ],
   "source": [
    "name='harsh'\n",
    "name+='it'# name=name+'it'\n",
    "name"
   ]
  },
  {
   "cell_type": "code",
   "execution_count": 52,
   "metadata": {},
   "outputs": [
    {
     "name": "stdout",
     "output_type": "stream",
     "text": [
      "\n"
     ]
    },
    {
     "data": {
      "text/plain": [
       "'you didn\"t enter anything'"
      ]
     },
     "execution_count": 52,
     "metadata": {},
     "output_type": "execute_result"
    }
   ],
   "source": [
    "name=input()\n",
    "f'your name is {name}' if name else f'you didn\"t enter anything'"
   ]
  },
  {
   "cell_type": "code",
   "execution_count": 10,
   "metadata": {},
   "outputs": [],
   "source": []
  },
  {
   "cell_type": "code",
   "execution_count": 27,
   "metadata": {},
   "outputs": [
    {
     "name": "stdout",
     "output_type": "stream",
     "text": [
      "3\n"
     ]
    }
   ],
   "source": [
    "# multi-line comment\n",
    "'''\n",
    "gvhj\n",
    "hbjhkjl\n",
    "'''\n",
    "print(3)"
   ]
  },
  {
   "cell_type": "code",
   "execution_count": 28,
   "metadata": {},
   "outputs": [
    {
     "name": "stdout",
     "output_type": "stream",
     "text": [
      "ab\n",
      "5\n"
     ]
    }
   ],
   "source": [
    "x=['ab','5']\n",
    "for i in x:print(i)"
   ]
  },
  {
   "cell_type": "code",
   "execution_count": 29,
   "metadata": {},
   "outputs": [
    {
     "name": "stdout",
     "output_type": "stream",
     "text": [
      "hello\n",
      "[1, 1, 1, 2, 1]\n"
     ]
    }
   ],
   "source": [
    "# Problem given by Monu\n",
    "str=input()\n",
    "l,l1,l3=[],[],[]\n",
    "count=1\n",
    "for i in str:\n",
    "    if i not in l:\n",
    "        l.append(i)\n",
    "        l1.append(l.count(i))\n",
    "    else:\n",
    "        l.append(i)\n",
    "        l1.append(l.count(i))\n",
    "print(l1)"
   ]
  },
  {
   "cell_type": "code",
   "execution_count": 30,
   "metadata": {},
   "outputs": [
    {
     "name": "stdout",
     "output_type": "stream",
     "text": [
      "hello\n",
      "l\n",
      "2\n"
     ]
    }
   ],
   "source": [
    "#Program\n",
    "name=input().lower()\n",
    "characater=input().lower()\n",
    "count=0\n",
    "for i in name:\n",
    "    if characater==i:\n",
    "        count+=1\n",
    "print(count)"
   ]
  },
  {
   "cell_type": "markdown",
   "metadata": {},
   "source": [
    "## 03rd, Janurary 2020"
   ]
  },
  {
   "cell_type": "code",
   "execution_count": 1,
   "metadata": {},
   "outputs": [],
   "source": [
    "#google classroom python code --> ypc3ivv"
   ]
  },
  {
   "cell_type": "markdown",
   "metadata": {},
   "source": [
    "## 04th, Janurary 2020"
   ]
  },
  {
   "cell_type": "code",
   "execution_count": 11,
   "metadata": {},
   "outputs": [
    {
     "name": "stdout",
     "output_type": "stream",
     "text": [
      "Hello 2559886709360\n",
      "Hello 2559886709360\n"
     ]
    }
   ],
   "source": [
    "# Automatic Memory Management in Python\n",
    "x='Hello'\n",
    "print(x, id(x))\n",
    "# id()return memory address of object\n",
    "y='Hello'\n",
    "print(y, id(y))"
   ]
  },
  {
   "cell_type": "code",
   "execution_count": 14,
   "metadata": {},
   "outputs": [
    {
     "name": "stdout",
     "output_type": "stream",
     "text": [
      "Hellosirsirsir 2559886696176\n",
      "Hello 2559886709360\n"
     ]
    }
   ],
   "source": [
    "x=x+'sir'\n",
    "print(x, id(x))\n",
    "z='Hello'\n",
    "print(z, id(z))"
   ]
  },
  {
   "cell_type": "code",
   "execution_count": 15,
   "metadata": {},
   "outputs": [
    {
     "name": "stdout",
     "output_type": "stream",
     "text": [
      "False False\n",
      "True True\n",
      "False\n"
     ]
    }
   ],
   "source": [
    "#identity operator:It compares the memory adress object(string)\n",
    "# is/is not\n",
    "#This operator returns boolean data\n",
    "x='hellosir'\n",
    "y='hello'\n",
    "z='hello'\n",
    "print(x is z,x==z)\n",
    "print(y is z,y==z)\n",
    "print(y is not z)"
   ]
  },
  {
   "cell_type": "code",
   "execution_count": 16,
   "metadata": {},
   "outputs": [
    {
     "name": "stdout",
     "output_type": "stream",
     "text": [
      "False\n",
      "True\n"
     ]
    }
   ],
   "source": [
    "#Membership operator\n",
    "# in,not in# It returns the bolean value\n",
    "print('H' in y)\n",
    "print('H' not in y)"
   ]
  },
  {
   "cell_type": "code",
   "execution_count": 17,
   "metadata": {},
   "outputs": [
    {
     "name": "stdout",
     "output_type": "stream",
     "text": [
      "sum of %d and %f is %f (1, 2, 3)\n"
     ]
    }
   ],
   "source": [
    "n1,n2=1,2\n",
    "total=n1+n2\n",
    "result='sum of %d and %f is %f'# It's like c language\n",
    "print(result,(n1,n2,total))"
   ]
  },
  {
   "cell_type": "code",
   "execution_count": 20,
   "metadata": {},
   "outputs": [
    {
     "name": "stdout",
     "output_type": "stream",
     "text": [
      "Sum of 1 and 2 is 3\n",
      "Sum of 2 and 1 is 3\n"
     ]
    }
   ],
   "source": [
    "#.format()#This is not latest method\n",
    "result='Sum of {} and {} is {}'.format(n1,n2,total)\n",
    "print(result)\n",
    "result='Sum of {1} and {0} is {2}'.format(n1,n2,total)\n",
    "print(result)"
   ]
  },
  {
   "cell_type": "code",
   "execution_count": 21,
   "metadata": {},
   "outputs": [],
   "source": [
    "# string formating is the latest concept  of string formatting."
   ]
  },
  {
   "cell_type": "code",
   "execution_count": 1,
   "metadata": {},
   "outputs": [
    {
     "ename": "TypeError",
     "evalue": "'str' object doesn't support item deletion",
     "output_type": "error",
     "traceback": [
      "\u001b[0;31m---------------------------------------------------------------------------\u001b[0m",
      "\u001b[0;31mTypeError\u001b[0m                                 Traceback (most recent call last)",
      "\u001b[0;32m<ipython-input-1-af19c0b0cf21>\u001b[0m in \u001b[0;36m<module>\u001b[0;34m\u001b[0m\n\u001b[1;32m      1\u001b[0m \u001b[0mstring\u001b[0m\u001b[0;34m=\u001b[0m\u001b[0;34m'Jaiss'\u001b[0m\u001b[0;34m\u001b[0m\u001b[0;34m\u001b[0m\u001b[0m\n\u001b[0;32m----> 2\u001b[0;31m \u001b[0;32mdel\u001b[0m \u001b[0mstring\u001b[0m\u001b[0;34m[\u001b[0m\u001b[0;36m0\u001b[0m\u001b[0;34m]\u001b[0m\u001b[0;34m\u001b[0m\u001b[0;34m\u001b[0m\u001b[0m\n\u001b[0m",
      "\u001b[0;31mTypeError\u001b[0m: 'str' object doesn't support item deletion"
     ]
    }
   ],
   "source": [
    "string='Jaiss'\n",
    "del string[0]#'str' object doesn't support item deletion"
   ]
  },
  {
   "cell_type": "markdown",
   "metadata": {},
   "source": [
    "## 12th,February 2020"
   ]
  },
  {
   "cell_type": "code",
   "execution_count": 2,
   "metadata": {},
   "outputs": [
    {
     "name": "stdout",
     "output_type": "stream",
     "text": [
      "Hello Sir\n"
     ]
    }
   ],
   "source": [
    "str='hello sir'\n",
    "print(str.title())"
   ]
  },
  {
   "cell_type": "code",
   "execution_count": 3,
   "metadata": {},
   "outputs": [
    {
     "name": "stdout",
     "output_type": "stream",
     "text": [
      "HELLO SIR\n"
     ]
    }
   ],
   "source": [
    "print(str.upper())"
   ]
  },
  {
   "cell_type": "code",
   "execution_count": 4,
   "metadata": {},
   "outputs": [
    {
     "name": "stdout",
     "output_type": "stream",
     "text": [
      "find\n"
     ]
    }
   ],
   "source": [
    "a='   find   '\n",
    "empty_string=''\n",
    "for i in a:\n",
    "    if ord(i)!=32:\n",
    "        empty_string+=i\n",
    "print(empty_string)"
   ]
  },
  {
   "cell_type": "code",
   "execution_count": 17,
   "metadata": {},
   "outputs": [
    {
     "name": "stdout",
     "output_type": "stream",
     "text": [
      "2016\n",
      "leap year\n"
     ]
    }
   ],
   "source": [
    "y=int(input())\n",
    "if y%4==0:\n",
    "    if y%100==0:\n",
    "        if y%400==0:\n",
    "            print('leap year')\n",
    "        else:\n",
    "             print('not a leap year')\n",
    "    else:\n",
    "        print('leap year')\n",
    "else:\n",
    "    print('not a leap year')\n",
    "    \n",
    "         "
   ]
  },
  {
   "cell_type": "code",
   "execution_count": 26,
   "metadata": {},
   "outputs": [
    {
     "name": "stdout",
     "output_type": "stream",
     "text": [
      "Enter a year : 2200\n",
      "Not a Leap Year\n"
     ]
    }
   ],
   "source": [
    "y=int(input('Enter a year : '))\n",
    "if y%4==0:\n",
    "    if y%100==0:\n",
    "        if y%400==0:\n",
    "            print('Leap Year')\n",
    "        else:\n",
    "            print('Not a Leap Year')\n",
    "    else:\n",
    "        print('Leap Year')\n",
    "else:\n",
    "    print(' Not Leap Year')"
   ]
  },
  {
   "cell_type": "code",
   "execution_count": null,
   "metadata": {},
   "outputs": [],
   "source": [
    "adfttg -> adft is longest"
   ]
  },
  {
   "cell_type": "code",
   "execution_count": 1,
   "metadata": {},
   "outputs": [],
   "source": [
    "# Find the no of longest substring in a string without repeating the latter"
   ]
  },
  {
   "cell_type": "code",
   "execution_count": 2,
   "metadata": {},
   "outputs": [
    {
     "name": "stdout",
     "output_type": "stream",
     "text": [
      "bb\n"
     ]
    },
    {
     "data": {
      "text/plain": [
       "['b', 'b']"
      ]
     },
     "execution_count": 2,
     "metadata": {},
     "output_type": "execute_result"
    }
   ],
   "source": [
    "# string=input()\n",
    "def string_parser(string):\n",
    "    l,l1,l2=[],[],[]\n",
    "    for i in range(len(string)):\n",
    "        if string[i] not in l:\n",
    "            l.append(string[i])\n",
    "        else:\n",
    "            #print(l)\n",
    "            l1=''.join(l)\n",
    "            l2.append(l1)\n",
    "            l=[]\n",
    "            l.append(string[i])\n",
    "    #     if len(string)==string.index(string[i])+1:\n",
    "    #         print(l)\n",
    "    l1=''.join(l)\n",
    "    l2.append(l1)\n",
    "    return l2\n",
    "string_parser(input())"
   ]
  },
  {
   "cell_type": "code",
   "execution_count": 3,
   "metadata": {},
   "outputs": [
    {
     "name": "stdout",
     "output_type": "stream",
     "text": [
      "adfttg\n",
      "empty_list-->['adft', 'tg', 'dft', 'ft', 't', 'g']\n",
      "['adft', 'tg', 'dft', 'ft', 't', 'g']\n"
     ]
    }
   ],
   "source": [
    "string=input()\n",
    "li=[]\n",
    "for i in range(len(string)):\n",
    "    s=string[i:]\n",
    "    p=string_parser(s)\n",
    "    li.append(p)\n",
    "# print(f'li---> {li}')\n",
    "empty_list=[]\n",
    "empty_list1=[]\n",
    "empty_list2=[]\n",
    "for i in li:\n",
    "    for j in i:\n",
    "        if j not in empty_list:\n",
    "            empty_list.append(j)\n",
    "#             print(empty_list)\n",
    "c=0\n",
    "print('empty_list',empty_list,sep='-->')\n",
    "for i in range(len(empty_list)):\n",
    "    if empty_list[i] not in empty_list1:\n",
    "        empty_list1.append(len(empty_list[i]))\n",
    "        empty_list2.append(empty_list[i])\n",
    "# print(f'no. of string=={c}')  \n",
    "# print(empty_list1)\n",
    "print(empty_list2)\n",
    "for i in empty_list1:\n",
    "    if max(empty_list1)==empty_list1[i]:\n",
    "        c+=1\n",
    "        print(empty_list2[i],c)\n"
   ]
  },
  {
   "cell_type": "code",
   "execution_count": 30,
   "metadata": {},
   "outputs": [
    {
     "name": "stdout",
     "output_type": "stream",
     "text": [
      "ABDEFGABEF\n"
     ]
    },
    {
     "ename": "IndexError",
     "evalue": "string index out of range",
     "output_type": "error",
     "traceback": [
      "\u001b[0;31m---------------------------------------------------------------------------\u001b[0m",
      "\u001b[0;31mIndexError\u001b[0m                                Traceback (most recent call last)",
      "\u001b[0;32m<ipython-input-30-a8fc77099f14>\u001b[0m in \u001b[0;36m<module>\u001b[0;34m\u001b[0m\n\u001b[1;32m      4\u001b[0m     \u001b[0;32mfor\u001b[0m \u001b[0mi\u001b[0m \u001b[0;32min\u001b[0m \u001b[0mrange\u001b[0m\u001b[0;34m(\u001b[0m\u001b[0mlen\u001b[0m\u001b[0;34m(\u001b[0m\u001b[0mstring\u001b[0m\u001b[0;34m)\u001b[0m\u001b[0;34m-\u001b[0m\u001b[0mi\u001b[0m\u001b[0;34m)\u001b[0m\u001b[0;34m:\u001b[0m\u001b[0;34m\u001b[0m\u001b[0;34m\u001b[0m\u001b[0m\n\u001b[1;32m      5\u001b[0m         \u001b[0mstring\u001b[0m\u001b[0;34m=\u001b[0m\u001b[0mstring\u001b[0m\u001b[0;34m[\u001b[0m\u001b[0mi\u001b[0m\u001b[0;34m:\u001b[0m\u001b[0;34m]\u001b[0m\u001b[0;34m\u001b[0m\u001b[0;34m\u001b[0m\u001b[0m\n\u001b[0;32m----> 6\u001b[0;31m         \u001b[0;32mif\u001b[0m \u001b[0mstring\u001b[0m\u001b[0;34m[\u001b[0m\u001b[0mi\u001b[0m\u001b[0;34m]\u001b[0m \u001b[0;32mnot\u001b[0m \u001b[0;32min\u001b[0m \u001b[0ml\u001b[0m\u001b[0;34m:\u001b[0m\u001b[0;34m\u001b[0m\u001b[0;34m\u001b[0m\u001b[0m\n\u001b[0m\u001b[1;32m      7\u001b[0m             \u001b[0ml\u001b[0m\u001b[0;34m.\u001b[0m\u001b[0mappend\u001b[0m\u001b[0;34m(\u001b[0m\u001b[0mstring\u001b[0m\u001b[0;34m[\u001b[0m\u001b[0mi\u001b[0m\u001b[0;34m]\u001b[0m\u001b[0;34m)\u001b[0m\u001b[0;34m\u001b[0m\u001b[0;34m\u001b[0m\u001b[0m\n\u001b[1;32m      8\u001b[0m         \u001b[0;32melse\u001b[0m\u001b[0;34m:\u001b[0m\u001b[0;34m\u001b[0m\u001b[0;34m\u001b[0m\u001b[0m\n",
      "\u001b[0;31mIndexError\u001b[0m: string index out of range"
     ]
    }
   ],
   "source": [
    "string=input()\n",
    "l,l1=[],[]\n",
    "for i in range(len(string)):\n",
    "    if string[i] not in l:\n",
    "        l.append(string[i])\n",
    "    else:\n",
    "        if string[i] not in l1:\n",
    "            l1.append(string[i])\n",
    "print(l,l1,sep=)     "
   ]
  },
  {
   "cell_type": "code",
   "execution_count": 18,
   "metadata": {},
   "outputs": [
    {
     "name": "stdout",
     "output_type": "stream",
     "text": [
      "adfttg\n",
      "adfttg\n",
      "adfttg\n",
      "adfttg\n",
      "adfttg\n",
      "adfttg\n",
      "adfttg\n",
      "dfttg\n",
      "dfttg\n",
      "dfttg\n",
      "dfttg\n",
      "dfttg\n",
      "fttg\n",
      "fttg\n",
      "fttg\n",
      "fttg\n",
      "ttg\n",
      "ttg\n",
      "ttg\n",
      "tg\n",
      "tg\n",
      "g\n",
      "[4, 2, 4, 1, 2, 3, 1, 2, 2, 1, 2, 2, 2, 2, 1] 2\n"
     ]
    }
   ],
   "source": [
    "strings=input()\n",
    "l,l1=[],[]\n",
    "for p in range(len(strings)):\n",
    "        string=strings[p:]\n",
    "        for i in range(len(string)):\n",
    "            if string[i] not in l:\n",
    "                l.append(string[i])\n",
    "            else:\n",
    "                l1.append(len(l))\n",
    "                l=[]\n",
    "                l.append(string[i])\n",
    "        #     if len(string)==string.index(string[i])+1:\n",
    "        #         print(l)\n",
    "        l1.append(len(l))\n",
    "        count=0\n",
    "        for i in l1:\n",
    "            if max(l1)==i:\n",
    "                count+=1\n",
    "print(l1,count)"
   ]
  },
  {
   "cell_type": "code",
   "execution_count": null,
   "metadata": {},
   "outputs": [],
   "source": [
    "l=[2,3,3]\n",
    "for i in l:\n",
    "    if max(l)==i:\n",
    "        print(i)"
   ]
  },
  {
   "cell_type": "code",
   "execution_count": 19,
   "metadata": {},
   "outputs": [
    {
     "name": "stdout",
     "output_type": "stream",
     "text": [
      "hello\n",
      "ello\n",
      "llo\n",
      "lo\n",
      "o\n"
     ]
    }
   ],
   "source": [
    "s='hello'\n",
    "for i in range(len(s)):\n",
    "    s1=s[i:]\n",
    "    print(s1)"
   ]
  },
  {
   "cell_type": "code",
   "execution_count": null,
   "metadata": {},
   "outputs": [],
   "source": []
  }
 ],
 "metadata": {
  "kernelspec": {
   "display_name": "Python 3",
   "language": "python",
   "name": "python3"
  },
  "language_info": {
   "codemirror_mode": {
    "name": "ipython",
    "version": 3
   },
   "file_extension": ".py",
   "mimetype": "text/x-python",
   "name": "python",
   "nbconvert_exporter": "python",
   "pygments_lexer": "ipython3",
   "version": "3.8.3"
  }
 },
 "nbformat": 4,
 "nbformat_minor": 2
}
