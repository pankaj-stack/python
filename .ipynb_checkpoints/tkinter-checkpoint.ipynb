{
 "cells": [
  {
   "cell_type": "code",
   "execution_count": null,
   "metadata": {},
   "outputs": [],
   "source": [
    "# For any Queries 8586833380 Link to Register for E-Certificates : https://forms.gle/GqXTj6CX2e2hgPFTA \n",
    "# shivkakkar@gmail.com \n",
    "# Apoorve Srivastava : 8826583184 "
   ]
  },
  {
   "cell_type": "code",
   "execution_count": null,
   "metadata": {},
   "outputs": [],
   "source": [
    "## tkinter\n",
    "- button,#<----------------------------------------------------\n",
    "- radiobutton,\n",
    "- canvas,#<----------------------------------------------------\n",
    "- checkbutton,\n",
    "- combobox,\n",
    "- entry,#<----------------------------------------------------\n",
    "- frame,#<----------------------------------------------------\n",
    "- label,#<----------------------------------------------------\n",
    "- labelframe,\n",
    "- listbox,\n",
    "- menu,#<----------------------------------------------------\n",
    "- menubutton,\n",
    "- message,\n",
    "- notebook,\n",
    "- tk_optionMenu,\n",
    "- panedwindow,\n",
    "- progressbar,\n",
    "- radiobutton,\n",
    "- scale,\n",
    "- scrollbar,\n",
    "- separator,\n",
    "- sizegrip,\n",
    "- spinbox,\n",
    "- text,\n",
    "- treeview'\n"
   ]
  },
  {
   "cell_type": "markdown",
   "metadata": {},
   "source": [
    "## canvas"
   ]
  },
  {
   "cell_type": "code",
   "execution_count": 10,
   "metadata": {},
   "outputs": [],
   "source": [
    "#Canvas\n",
    "import tkinter as tk \n",
    "win=tk.Tk()\n",
    "canvas1=tk.Canvas(win,width=250,height=200,bg='red')\n",
    "canvas1.grid(row=0,column=0)\n",
    "canvas2=tk.Canvas(win,width=250,height=200,bg='orange')\n",
    "canvas2.grid(row=0,column=1)\n",
    "canvas1.create_line(100,100,300,100,fill='blue',width=5)\n",
    "\n",
    "win.geometry(f'{win.winfo_screenwidth()}x{win.winfo_screenheight()}')\n",
    "win.mainloop()\n"
   ]
  },
  {
   "cell_type": "code",
   "execution_count": 4,
   "metadata": {},
   "outputs": [],
   "source": [
    "#Creating a triangle using canvas\n",
    "from tkinter import *\n",
    "win=Tk()\n",
    "canvas=Canvas(win,width=400,height=400,bg='red')\n",
    "canvas.pack()\n",
    "canvas.create_line(100,100,300,100,350,300,100,100,fill='#0000ff')\n",
    "win.mainloop()"
   ]
  },
  {
   "cell_type": "code",
   "execution_count": 5,
   "metadata": {},
   "outputs": [
    {
     "ename": "AttributeError",
     "evalue": "'NoneType' object has no attribute 'create_line'",
     "output_type": "error",
     "traceback": [
      "\u001b[0;31m---------------------------------------------------------------------------\u001b[0m",
      "\u001b[0;31mAttributeError\u001b[0m                            Traceback (most recent call last)",
      "\u001b[0;32m<ipython-input-5-7ad810aaf6d4>\u001b[0m in \u001b[0;36m<module>\u001b[0;34m\u001b[0m\n\u001b[1;32m      3\u001b[0m \u001b[0mwin\u001b[0m\u001b[0;34m=\u001b[0m\u001b[0mtk\u001b[0m\u001b[0;34m.\u001b[0m\u001b[0mTk\u001b[0m\u001b[0;34m(\u001b[0m\u001b[0;34m)\u001b[0m\u001b[0;34m\u001b[0m\u001b[0;34m\u001b[0m\u001b[0m\n\u001b[1;32m      4\u001b[0m \u001b[0mcanvas\u001b[0m\u001b[0;34m=\u001b[0m\u001b[0mtk\u001b[0m\u001b[0;34m.\u001b[0m\u001b[0mCanvas\u001b[0m\u001b[0;34m(\u001b[0m\u001b[0mwin\u001b[0m\u001b[0;34m,\u001b[0m\u001b[0mwidth\u001b[0m\u001b[0;34m=\u001b[0m\u001b[0;36m400\u001b[0m\u001b[0;34m,\u001b[0m\u001b[0mheight\u001b[0m\u001b[0;34m=\u001b[0m\u001b[0;36m400\u001b[0m\u001b[0;34m)\u001b[0m\u001b[0;34m.\u001b[0m\u001b[0mgrid\u001b[0m\u001b[0;34m(\u001b[0m\u001b[0mrow\u001b[0m\u001b[0;34m=\u001b[0m\u001b[0;36m0\u001b[0m\u001b[0;34m,\u001b[0m\u001b[0mcolumn\u001b[0m\u001b[0;34m=\u001b[0m\u001b[0;36m0\u001b[0m\u001b[0;34m)\u001b[0m\u001b[0;34m\u001b[0m\u001b[0;34m\u001b[0m\u001b[0m\n\u001b[0;32m----> 5\u001b[0;31m \u001b[0mcanvas\u001b[0m\u001b[0;34m.\u001b[0m\u001b[0mcreate_line\u001b[0m\u001b[0;34m(\u001b[0m\u001b[0;36m100\u001b[0m\u001b[0;34m,\u001b[0m\u001b[0;36m100\u001b[0m\u001b[0;34m,\u001b[0m\u001b[0;36m300\u001b[0m\u001b[0;34m,\u001b[0m\u001b[0;36m100\u001b[0m\u001b[0;34m,\u001b[0m\u001b[0mfill\u001b[0m\u001b[0;34m=\u001b[0m\u001b[0;34m'blue'\u001b[0m\u001b[0;34m,\u001b[0m\u001b[0mwidth\u001b[0m\u001b[0;34m=\u001b[0m\u001b[0;36m5\u001b[0m\u001b[0;34m)\u001b[0m\u001b[0;34m\u001b[0m\u001b[0;34m\u001b[0m\u001b[0m\n\u001b[0m\u001b[1;32m      6\u001b[0m \u001b[0mwin\u001b[0m\u001b[0;34m.\u001b[0m\u001b[0mgeometry\u001b[0m\u001b[0;34m(\u001b[0m\u001b[0;34mf'{win.winfo_screenwidth()}x{win.winfo_screenheight()}'\u001b[0m\u001b[0;34m)\u001b[0m\u001b[0;34m\u001b[0m\u001b[0;34m\u001b[0m\u001b[0m\n\u001b[1;32m      7\u001b[0m \u001b[0mwin\u001b[0m\u001b[0;34m.\u001b[0m\u001b[0mmainloop\u001b[0m\u001b[0;34m(\u001b[0m\u001b[0;34m)\u001b[0m\u001b[0;34m\u001b[0m\u001b[0;34m\u001b[0m\u001b[0m\n",
      "\u001b[0;31mAttributeError\u001b[0m: 'NoneType' object has no attribute 'create_line'"
     ]
    }
   ],
   "source": [
    "#Dreawing triangle with help of canvas the canvas\n",
    "import tkinter as tk\n",
    "win=tk.Tk()\n",
    "canvas=tk.Canvas(win,width=400,height=400).grid(row=0,column=0)\n",
    "canvas.create_line(100,100,300,100,fill='blue',width=5)\n",
    "win.geometry(f'{win.winfo_screenwidth()}x{win.winfo_screenheight()}')\n",
    "win.mainloop()"
   ]
  },
  {
   "cell_type": "code",
   "execution_count": 37,
   "metadata": {},
   "outputs": [
    {
     "ename": "AttributeError",
     "evalue": "'NoneType' object has no attribute 'create_line'",
     "output_type": "error",
     "traceback": [
      "\u001b[0;31m---------------------------------------------------------------------------\u001b[0m",
      "\u001b[0;31mAttributeError\u001b[0m                            Traceback (most recent call last)",
      "\u001b[0;32m<ipython-input-37-f4721c03c721>\u001b[0m in \u001b[0;36m<module>\u001b[0;34m\u001b[0m\n\u001b[1;32m      4\u001b[0m canvas_1=Canvas(win,width=win.winfo_screenwidth(),height=win.winfo_screenheight(),\n\u001b[1;32m      5\u001b[0m               bg='#aaaaaa').pack()\n\u001b[0;32m----> 6\u001b[0;31m \u001b[0mcanvas_1\u001b[0m\u001b[0;34m.\u001b[0m\u001b[0mcreate_line\u001b[0m\u001b[0;34m(\u001b[0m\u001b[0;36m100\u001b[0m\u001b[0;34m,\u001b[0m\u001b[0;36m100\u001b[0m\u001b[0;34m,\u001b[0m\u001b[0;36m300\u001b[0m\u001b[0;34m,\u001b[0m\u001b[0;36m100\u001b[0m\u001b[0;34m,\u001b[0m\u001b[0;36m350\u001b[0m\u001b[0;34m,\u001b[0m\u001b[0;36m300\u001b[0m\u001b[0;34m,\u001b[0m\u001b[0;36m100\u001b[0m\u001b[0;34m,\u001b[0m\u001b[0;36m100\u001b[0m\u001b[0;34m,\u001b[0m\u001b[0mfill\u001b[0m\u001b[0;34m=\u001b[0m\u001b[0;34m'#0000ff'\u001b[0m\u001b[0;34m)\u001b[0m\u001b[0;34m\u001b[0m\u001b[0;34m\u001b[0m\u001b[0m\n\u001b[0m\u001b[1;32m      7\u001b[0m \u001b[0mwin\u001b[0m\u001b[0;34m.\u001b[0m\u001b[0mmainloop\u001b[0m\u001b[0;34m(\u001b[0m\u001b[0;34m)\u001b[0m\u001b[0;34m\u001b[0m\u001b[0;34m\u001b[0m\u001b[0m\n",
      "\u001b[0;31mAttributeError\u001b[0m: 'NoneType' object has no attribute 'create_line'"
     ]
    }
   ],
   "source": [
    "#Creating a trapezium using the canvas\n",
    "from tkinter import *\n",
    "win=Tk()\n",
    "canvas_1=Canvas(win,width=win.winfo_screenwidth(),height=win.winfo_screenheight(),\n",
    "              bg='#aaaaaa').pack()\n",
    "canvas_1.create_line(100,100,300,100,350,300,100,100,fill='#0000ff')\n",
    "win.mainloop()"
   ]
  },
  {
   "cell_type": "markdown",
   "metadata": {},
   "source": [
    "## How to set the background colour"
   ]
  },
  {
   "cell_type": "code",
   "execution_count": 2,
   "metadata": {},
   "outputs": [],
   "source": [
    "from tkinter import *\n",
    "win=Tk()\n",
    "win.config(bg='red')#win.configure(background='red')\n",
    "win.mainloop()"
   ]
  },
  {
   "cell_type": "code",
   "execution_count": null,
   "metadata": {},
   "outputs": [],
   "source": [
    "from tkinter import *\n",
    "win=Tk()\n",
    "win.config(bg='#00ff00')#Here red==00,green==ff,blue==00(00ff00==RGB),here ff means full efficiency of that color\n",
    "win.mainloop()#'#00ff00' it is a  hexa-decimal color code"
   ]
  },
  {
   "cell_type": "code",
   "execution_count": null,
   "metadata": {},
   "outputs": [],
   "source": [
    "from tkinter import *\n",
    "win=Tk()\n",
    "win.config(bg='#007700')\n",
    "win.mainloop()"
   ]
  },
  {
   "cell_type": "code",
   "execution_count": null,
   "metadata": {},
   "outputs": [],
   "source": [
    "from tkinter import *\n",
    "win=Tk()\n",
    "win.config(bg='#ffff00')#It'll give yellow color\n",
    "win.mainloop()"
   ]
  },
  {
   "cell_type": "code",
   "execution_count": null,
   "metadata": {},
   "outputs": [],
   "source": [
    "from tkinter import *\n",
    "win=Tk()\n",
    "win.config(bg='#ffffff')#It'll give white color\n",
    "win.mainloop()"
   ]
  },
  {
   "cell_type": "code",
   "execution_count": null,
   "metadata": {},
   "outputs": [],
   "source": [
    "from tkinter import *\n",
    "win=Tk()\n",
    "win.config(bg='#000000')#It'll give black color,when red,green and blue are all  zero\n",
    "win.mainloop()"
   ]
  },
  {
   "cell_type": "markdown",
   "metadata": {},
   "source": [
    "## How to set the window size and location"
   ]
  },
  {
   "cell_type": "code",
   "execution_count": 4,
   "metadata": {},
   "outputs": [],
   "source": [
    "from tkinter import *\n",
    "win=Tk()\n",
    "win.config(width=500,height=300,bg='green')#Window size using config/configure method\n",
    "win.mainloop()"
   ]
  },
  {
   "cell_type": "markdown",
   "metadata": {},
   "source": [
    "# Setting of location of the window"
   ]
  },
  {
   "cell_type": "code",
   "execution_count": 6,
   "metadata": {},
   "outputs": [],
   "source": [
    "from tkinter import *\n",
    "win=Tk()\n",
    "win.geometry('500x300+0+300')#Here 0 is the x co-ordinates and 300 is the y co-ordinates \n",
    "win.mainloop()"
   ]
  },
  {
   "cell_type": "code",
   "execution_count": 7,
   "metadata": {},
   "outputs": [],
   "source": [
    "from tkinter import *\n",
    "win=Tk()\n",
    "win.geometry('500x300-0-300')#   <---------------------------\n",
    "win.mainloop()"
   ]
  },
  {
   "cell_type": "markdown",
   "metadata": {},
   "source": [
    "# Hexadecimal color code for python tkinter"
   ]
  },
  {
   "cell_type": "markdown",
   "metadata": {},
   "source": [
    "## - ffffff 256 color code of each Red,Green and Blue from 00 to 255"
   ]
  },
  {
   "cell_type": "markdown",
   "metadata": {},
   "source": [
    "## - ff means 11111111 8 bits of binary code"
   ]
  },
  {
   "cell_type": "code",
   "execution_count": 4,
   "metadata": {},
   "outputs": [
    {
     "data": {
      "text/plain": [
       "16777216"
      ]
     },
     "execution_count": 4,
     "metadata": {},
     "output_type": "execute_result"
    }
   ],
   "source": [
    "#How many colors are possible ?\n",
    "256*256*256#Answer is == 16777216"
   ]
  },
  {
   "cell_type": "code",
   "execution_count": 6,
   "metadata": {},
   "outputs": [
    {
     "data": {
      "text/plain": [
       "'0xff'"
      ]
     },
     "execution_count": 6,
     "metadata": {},
     "output_type": "execute_result"
    }
   ],
   "source": [
    "hex(255)"
   ]
  },
  {
   "cell_type": "markdown",
   "metadata": {},
   "source": [
    "# How to generate the random color"
   ]
  },
  {
   "cell_type": "code",
   "execution_count": 5,
   "metadata": {},
   "outputs": [],
   "source": [
    "from random import choice\n",
    "from tkinter import *\n",
    "hex_characters=['0','1','2','3','4','5','6','7','8','9','a','b','c','d','e','f']\n",
    "color_code='#'\n",
    "for i in range(6):\n",
    "    color_code+=choice(hex_characters)\n",
    "\n",
    "win=Tk()\n",
    "win.config(bg=color_code)\n",
    "win.mainloop()"
   ]
  },
  {
   "cell_type": "markdown",
   "metadata": {},
   "source": [
    "# Creating a fixed size Python tkinter window"
   ]
  },
  {
   "cell_type": "code",
   "execution_count": 10,
   "metadata": {},
   "outputs": [],
   "source": [
    "from tkinter import *\n",
    "win=Tk()\n",
    "win.resizable(width=False,height=False)#Both the x and y co-ordinates are not resizable\n",
    "win.mainloop()"
   ]
  },
  {
   "cell_type": "code",
   "execution_count": 12,
   "metadata": {},
   "outputs": [],
   "source": [
    "from tkinter import *\n",
    "win=Tk()\n",
    "win.resizable(width=True,height=False)#Only x is resizable\n",
    "win.mainloop()"
   ]
  },
  {
   "cell_type": "code",
   "execution_count": 14,
   "metadata": {},
   "outputs": [],
   "source": [
    "from tkinter import *\n",
    "win=Tk()\n",
    "win.resizable(width=False,height=True)#Only y is  resizable\n",
    "win.mainloop()"
   ]
  },
  {
   "cell_type": "markdown",
   "metadata": {},
   "source": [
    "# How to place the tkinter window in the center of the screen"
   ]
  },
  {
   "cell_type": "code",
   "execution_count": 24,
   "metadata": {},
   "outputs": [
    {
     "name": "stdout",
     "output_type": "stream",
     "text": [
      "Screen width is 1366\n",
      "Screen height is 768\n"
     ]
    }
   ],
   "source": [
    "from tkinter import *\n",
    "win=Tk()\n",
    "win.config(bg='#aabbcc')\n",
    "width_of_window=400\n",
    "height_of_window=200\n",
    "width=win.winfo_screenwidth()\n",
    "height=win.winfo_screenheight()\n",
    "x_coordinate=(width//2)-(width_of_window//2)\n",
    "y_coordinate=(height//2)-(height_of_window//2)\n",
    "win.geometry(f'{width_of_window}x{height_of_window}+{x_coordinate}+{y_coordinate}')\n",
    "print(f'Screen width is {width}\\nScreen height is {height}')\n",
    "\n",
    "win.mainloop()"
   ]
  },
  {
   "cell_type": "markdown",
   "metadata": {},
   "source": [
    "# Label"
   ]
  },
  {
   "cell_type": "code",
   "execution_count": 16,
   "metadata": {},
   "outputs": [],
   "source": [
    "from tkinter import *\n",
    "win=Tk()\n",
    "label=Label(win,text='Hello World')\n",
    "label.pack()\n",
    "win.mainloop()"
   ]
  },
  {
   "cell_type": "code",
   "execution_count": 17,
   "metadata": {},
   "outputs": [],
   "source": [
    "from tkinter import *\n",
    "win=Tk()\n",
    "label=Label(win,text='Hello World,how are you ?')#When size of the label is larger then it is taking larger area on the window.\n",
    "label.pack()\n",
    "win.mainloop()"
   ]
  },
  {
   "cell_type": "code",
   "execution_count": 18,
   "metadata": {},
   "outputs": [],
   "source": [
    "from tkinter import *\n",
    "win=Tk()\n",
    "label1=Label(win,text='I am label 1')\n",
    "label2=Label(win,text='I am label 2')\n",
    "label1.pack()#<------------------------------\n",
    "label2.pack()#<------------------------------------------\n",
    "win.mainloop()"
   ]
  },
  {
   "cell_type": "code",
   "execution_count": 19,
   "metadata": {},
   "outputs": [],
   "source": [
    "from tkinter import *\n",
    "win=Tk()\n",
    "label1=Label(win,text='I am label 1')\n",
    "label2=Label(win,text='I am label 2')\n",
    "label2.pack()#<--------------------------------\n",
    "label1.pack()#<----------------------------------------------\n",
    "win.mainloop()"
   ]
  },
  {
   "cell_type": "markdown",
   "metadata": {},
   "source": [
    "# Setting the font type,font color and font size of a label\n"
   ]
  },
  {
   "cell_type": "code",
   "execution_count": 20,
   "metadata": {},
   "outputs": [],
   "source": [
    "from tkinter import *\n",
    "win=Tk()\n",
    "label1=Label(win,text='Red text in times font',fg='#ff0000',font='times')#Here it does'nt matter that in time 't' must be in capital letters ,while support both the format small as well as capital letters\n",
    "label2=Label(win,text='Green text in Broadway font',fg='#00ff00',font='Broadway')\n",
    "label3=Label(win,text='Blue text in Verdana font',fg='#0000ff',font='Verdana 32 bold italic')\n",
    "label1.pack()\n",
    "label2.pack()\n",
    "label3.pack()\n",
    "win.mainloop()"
   ]
  },
  {
   "cell_type": "code",
   "execution_count": 21,
   "metadata": {},
   "outputs": [],
   "source": [
    "from tkinter import *\n",
    "win=Tk()\n",
    "label1=Label(win,text='Red text in times font',fg='#ff0000',font='Times 20')#Here it does'nt matter that in time 't' must be in capital letters ,while support both the format small as well as capital letters\n",
    "label2=Label(win,text='Green text in Broadway font',fg='#00ff00',font='Broadway 30')\n",
    "label3=Label(win,text='Blue text in Verdana font',fg='#0000ff',font='Verdana 40 bold italic')\n",
    "label1.pack()\n",
    "label2.pack()\n",
    "label3.pack()\n",
    "win.mainloop()"
   ]
  },
  {
   "cell_type": "code",
   "execution_count": 17,
   "metadata": {},
   "outputs": [],
   "source": [
    "from tkinter import *\n",
    "win=Tk()\n",
    "label_1=Label(win,text='Hello World',bg='red',fg='white',font='times 32',width=20)#Font can change the size ot widget\n",
    "label_2=Label(win,text='Hello World',bg='green',fg='white',font='times 32',width=30)\n",
    "label_3=Label(win,text='Hello World',bg='blue',fg='white',font='times 32',width=40)\n",
    "label_1.pack()\n",
    "label_2.pack()\n",
    "label_3.pack()\n",
    "\n",
    "\n",
    "win.mainloop()"
   ]
  },
  {
   "cell_type": "code",
   "execution_count": 16,
   "metadata": {},
   "outputs": [],
   "source": [
    "from tkinter import *\n",
    "win=Tk()\n",
    "label_1=Label(win,text='Hello World',bg='red',fg='white',font='times 12',width=20)#<------------\n",
    "label_2=Label(win,text='Hello World',bg='green',fg='white',font='times 12',width=30)\n",
    "label_3=Label(win,text='Hello World',bg='blue',fg='white',font='times 12',width=40)\n",
    "label_1.pack()\n",
    "label_2.pack()\n",
    "label_3.pack()\n",
    "\n",
    "\n",
    "win.mainloop()"
   ]
  },
  {
   "cell_type": "code",
   "execution_count": 19,
   "metadata": {},
   "outputs": [],
   "source": [
    "from tkinter import *\n",
    "win=Tk()\n",
    "label_1=Label(win,text='Line 1 of text',font='Times 32').pack()\n",
    "win.mainloop()"
   ]
  },
  {
   "cell_type": "code",
   "execution_count": 20,
   "metadata": {},
   "outputs": [],
   "source": [
    "from tkinter import *\n",
    "win=Tk()\n",
    "label_1=Label(win,text='Line 1 of text\\n Line 2 of text',font='Times 32').pack()\n",
    "win.mainloop()"
   ]
  },
  {
   "cell_type": "code",
   "execution_count": 22,
   "metadata": {},
   "outputs": [],
   "source": [
    "from tkinter import *\n",
    "win=Tk()\n",
    "label_1=Label(win,text='Line 1 of text\\n Line 2 of text',font='Times 32',pady=5).pack()\n",
    "win.mainloop()"
   ]
  },
  {
   "cell_type": "code",
   "execution_count": 24,
   "metadata": {},
   "outputs": [],
   "source": [
    "from tkinter import *\n",
    "win=Tk()\n",
    "label_1=Label(win,text='Hello World',bd=8,relief='sunken',font='Times 32',padx=5).pack()\n",
    "win.mainloop()"
   ]
  },
  {
   "cell_type": "code",
   "execution_count": 25,
   "metadata": {},
   "outputs": [],
   "source": [
    "from tkinter import *\n",
    "win=Tk()\n",
    "label_1=Label(win,text='Hello World',bd=8,relief='ridge',font='Times 32',padx=5).pack()\n",
    "win.mainloop()"
   ]
  },
  {
   "cell_type": "code",
   "execution_count": 26,
   "metadata": {},
   "outputs": [],
   "source": [
    "from tkinter import *\n",
    "win=Tk()\n",
    "label_1=Label(win,text='Hello World',bd=8,relief='groove',font='Times 32',padx=5).pack()\n",
    "win.mainloop()#Check the relief "
   ]
  },
  {
   "cell_type": "code",
   "execution_count": 28,
   "metadata": {},
   "outputs": [],
   "source": [
    "from tkinter import *\n",
    "win=Tk()\n",
    "label_1=Label(win,text='Hello World',bd=16,relief='sunken',font='Times 32',padx=5).pack()\n",
    "label_2=Label(win,text='Hello World',bd=8,relief='sunken',font='Times 32',padx=5).pack()\n",
    "win.mainloop()#Check the borderwidth(bd)"
   ]
  },
  {
   "cell_type": "raw",
   "metadata": {},
   "source": [
    "relief can assined \n",
    "    'flat'\n",
    "    'raised'\n",
    "    'sunken'\n",
    "    'ridge'\n",
    "    'solid'\n",
    "    'groove'"
   ]
  },
  {
   "cell_type": "code",
   "execution_count": 35,
   "metadata": {},
   "outputs": [],
   "source": [
    "from tkinter import *\n",
    "win=Tk()\n",
    "label_1=Label(win,text='Hello World\\nHello World',bd=1,relief='solid',font='Times 32',\n",
    "              height=1).pack()\n",
    "win.mainloop()#Check the height"
   ]
  },
  {
   "cell_type": "code",
   "execution_count": 36,
   "metadata": {},
   "outputs": [],
   "source": [
    "from tkinter import *\n",
    "win=Tk()\n",
    "label_1=Label(win,text='Hello World\\nHello World',bd=1,relief='solid',font='Times 32',\n",
    "              height=3).pack()\n",
    "win.mainloop()#Check the height"
   ]
  },
  {
   "cell_type": "code",
   "execution_count": null,
   "metadata": {},
   "outputs": [],
   "source": []
  },
  {
   "cell_type": "markdown",
   "metadata": {},
   "source": [
    "# Setting the width"
   ]
  },
  {
   "cell_type": "raw",
   "metadata": {},
   "source": [
    "                     N\n",
    "                     |\n",
    "                     |\n",
    "                     |\n",
    "                     |\n",
    "                     |\n",
    "    W--------------CENTER---------------E\n",
    "                     |\n",
    "                     |\n",
    "                     |\n",
    "                     |\n",
    "                     |\n",
    "                     S"
   ]
  },
  {
   "cell_type": "code",
   "execution_count": 20,
   "metadata": {},
   "outputs": [],
   "source": [
    "from tkinter import *\n",
    "win=Tk()#object instanciation of tkinter class\n",
    "win.geometry('400x250')\n",
    "label_1=Label(win,text='spacer')\n",
    "label_2=Label(win,text='Hello World\\nHello World',\n",
    "             bd=1,\n",
    "             relief='solid',\n",
    "             font='times 32',\n",
    "             width=15,\n",
    "             height=4\n",
    "              )\n",
    "label_1.pack()\n",
    "label_2.pack()\n",
    "win.mainloop()"
   ]
  },
  {
   "cell_type": "code",
   "execution_count": 6,
   "metadata": {},
   "outputs": [],
   "source": [
    "from tkinter import *\n",
    "win=Tk()#object instanciation of tkinter class\n",
    "win.geometry('400x250')\n",
    "label_1=Label(win,text='spacer')\n",
    "label_2=Label(win,text='Hello World\\nHello World',\n",
    "             bd=15,#bd == borderwidth\n",
    "             relief='solid',\n",
    "             font='times 32',\n",
    "             width=15,\n",
    "             height=4,\n",
    "             anchor=NW #<----------------------------- \n",
    "              )\n",
    "label_1.pack()\n",
    "label_2.pack()\n",
    "win.mainloop()"
   ]
  },
  {
   "cell_type": "code",
   "execution_count": 7,
   "metadata": {},
   "outputs": [],
   "source": [
    "from tkinter import *\n",
    "win=Tk()\n",
    "win.geometry('400x250')\n",
    "label_1=Label(win,text='spacer')\n",
    "label_2=Label(win,text='Hello World\\nHello World',\n",
    "             bd=15,\n",
    "             relief='solid',\n",
    "             font='times 32',\n",
    "             width=15,\n",
    "             height=4,\n",
    "             anchor=CENTER #<----------------------------- \n",
    "              )\n",
    "label_1.pack()\n",
    "label_2.pack()\n",
    "win.mainloop()"
   ]
  },
  {
   "cell_type": "markdown",
   "metadata": {},
   "source": [
    "# Padding between texts of labels"
   ]
  },
  {
   "cell_type": "code",
   "execution_count": 25,
   "metadata": {},
   "outputs": [],
   "source": [
    "from tkinter import *\n",
    "win=Tk()\n",
    "label_1=Label(win,text='spacer')\n",
    "label_2=Label(win,text='Hello World',bd=1,relief='solid',font='times 32')\n",
    "label_3=Label(win,text='spacer')\n",
    "label_4=Label(win,text='Hello World',bd=1,relief='solid',font='times 32',padx=40)#<-----\n",
    "label_1.pack()\n",
    "label_2.pack()\n",
    "label_3.pack()\n",
    "label_4.pack()\n",
    "win.mainloop()"
   ]
  },
  {
   "cell_type": "code",
   "execution_count": 34,
   "metadata": {},
   "outputs": [],
   "source": [
    "from tkinter import *\n",
    "win=Tk()\n",
    "win.config(bg='yellow')\n",
    "label_1=Label(win,text='spacer')\n",
    "label_2=Label(win,text='Hello World',bd=1,relief='solid',font='times 32')\n",
    "label_3=Label(win,text='spacer')\n",
    "label_4=Label(win,text='Hello World',bd=1,relief='solid',font='times 32'\n",
    "              ,padx=40,pady=10)#<------------------------------------------\n",
    "label_1.pack()\n",
    "label_2.pack()\n",
    "label_3.pack()\n",
    "label_4.pack()\n",
    "win.mainloop()"
   ]
  },
  {
   "cell_type": "markdown",
   "metadata": {},
   "source": [
    "# How to justify text in a Python tkinter label"
   ]
  },
  {
   "cell_type": "code",
   "execution_count": 35,
   "metadata": {},
   "outputs": [],
   "source": [
    "from tkinter import *\n",
    "win=Tk()\n",
    "win.geometry('400x250')\n",
    "label_1=Label(win,text='spacer')\n",
    "label_2=Label(win,text='Text\\nText Text\\nText Text Text',\n",
    "             bd=1,\n",
    "             relief='solid',\n",
    "             font='times 20',\n",
    "             width=15,\n",
    "             height=4,\n",
    "              )\n",
    "label_3=Label(win,text='spacer')\n",
    "label_4=Label(win,text='Text\\nText Text\\nText Text Text',\n",
    "             bd=1,\n",
    "             relief='solid',\n",
    "             font='times 20',\n",
    "             width=15,\n",
    "             height=4,\n",
    "             justify=RIGHT #<----------------------------- \n",
    "              )\n",
    "label_1.pack()\n",
    "label_2.pack()\n",
    "label_3.pack()\n",
    "label_4.pack()\n",
    "win.mainloop()"
   ]
  },
  {
   "cell_type": "code",
   "execution_count": 36,
   "metadata": {},
   "outputs": [],
   "source": [
    "from tkinter import *\n",
    "win=Tk()\n",
    "win.geometry('400x250')\n",
    "label_1=Label(win,text='spacer')\n",
    "label_2=Label(win,text='Text\\nText Text\\nText Text Text',\n",
    "             bd=1,\n",
    "             relief='solid',\n",
    "             font='times 20',\n",
    "             width=15,\n",
    "             height=4,\n",
    "              )\n",
    "label_3=Label(win,text='spacer')\n",
    "label_4=Label(win,text='Text\\nText Text\\nText Text Text',\n",
    "             bd=1,\n",
    "             relief='solid',\n",
    "             font='times 20',\n",
    "             width=15,\n",
    "             height=4,\n",
    "             justify=LEFT #<----------------------------- \n",
    "              )\n",
    "label_1.pack()\n",
    "label_2.pack()\n",
    "label_3.pack()\n",
    "label_4.pack()\n",
    "win.mainloop()"
   ]
  },
  {
   "cell_type": "code",
   "execution_count": 37,
   "metadata": {},
   "outputs": [],
   "source": [
    "from tkinter import *\n",
    "win=Tk()\n",
    "win.geometry('400x250')\n",
    "label_1=Label(win,text='spacer')\n",
    "label_2=Label(win,text='Text\\nText Text\\nText Text Text',\n",
    "             bd=1,\n",
    "             relief='solid',\n",
    "             font='times 20',\n",
    "             width=15,\n",
    "             height=4,\n",
    "              )\n",
    "label_3=Label(win,text='spacer')\n",
    "label_4=Label(win,text='Text\\nText Text\\nText Text Text',\n",
    "             bd=1,\n",
    "             relief='solid',\n",
    "             font='times 20',\n",
    "             width=15,\n",
    "             height=4,\n",
    "             justify=CENTER #<----------------------------- \n",
    "              )\n",
    "label_1.pack()\n",
    "label_2.pack()\n",
    "label_3.pack()\n",
    "label_4.pack()\n",
    "win.mainloop()"
   ]
  },
  {
   "cell_type": "markdown",
   "metadata": {},
   "source": [
    "# LabelFrame"
   ]
  },
  {
   "cell_type": "code",
   "execution_count": 1,
   "metadata": {},
   "outputs": [
    {
     "name": "stdout",
     "output_type": "stream",
     "text": [
      "label0\n",
      "label1\n",
      "label2\n",
      "<class 'tkinter.Label'>\n"
     ]
    }
   ],
   "source": [
    "from tkinter import *\n",
    "win=Tk()\n",
    "label_frame=LabelFrame(win,text='This is the label frame',bg='red').grid(row=0,column=0)\n",
    "l=[]\n",
    "for i in range(3):\n",
    "    label='label'+str(i)\n",
    "    print(label)\n",
    "    label=Label(label_frame,text=str(i))\n",
    "    label.grid(row=i,column=0)\n",
    "    l.append(label)\n",
    "    entry=Entry(label_frame)\n",
    "    entry.grid(row=i,column=1)\n",
    "print(type(l[0]))\n",
    "l[0]['fg']='red'\n",
    "win['bg']='navy'\n",
    "win.mainloop()"
   ]
  },
  {
   "cell_type": "code",
   "execution_count": 2,
   "metadata": {},
   "outputs": [
    {
     "name": "stdout",
     "output_type": "stream",
     "text": [
      "label0\n",
      "label1\n",
      "label2\n",
      "<class 'tkinter.Label'>\n"
     ]
    }
   ],
   "source": [
    "from tkinter import *\n",
    "win=Tk()\n",
    "label_frame=LabelFrame(win,text='This is the label frame',bg='red').grid(row=0,column=0)\n",
    "labels=[]\n",
    "entries=[]\n",
    "for i in range(3):\n",
    "    label='label'+str(i)\n",
    "    print(label)\n",
    "    label=Label(label_frame,text=str(i))\n",
    "    label.grid(row=i,column=0,padx=10,pady=10)\n",
    "    labels.append(label)\n",
    "    entry='entry'+str(i)\n",
    "    entry=Entry(label_frame)\n",
    "    entry.grid(row=i,column=1)\n",
    "    entries.append(entry)\n",
    "print(type(l[0]))\n",
    "labels[0]['fg']='red'\n",
    "win['bg']='navy'\n",
    "entries[0].focus()\n",
    "win.mainloop()"
   ]
  },
  {
   "cell_type": "markdown",
   "metadata": {},
   "source": [
    "# How to draw Random Coloured lines in python tkinter"
   ]
  },
  {
   "cell_type": "code",
   "execution_count": 7,
   "metadata": {},
   "outputs": [],
   "source": [
    "from random import choice\n",
    "from tkinter import *\n",
    "def random_color_code():\n",
    "    hex_characters=['0','1','2','3','4','5','6','7','8','9','a','b','c','d','e','f']\n",
    "    color_code='#'\n",
    "    for i in range(6):\n",
    "        color_code+=choice(hex_characters)\n",
    "    return color_code\n",
    "win=Tk()\n",
    "canvas=Canvas(win,width=400,height=400,bg='white')\n",
    "canvas.grid()\n",
    "canvas.create_line(0,0,400,400,fill=random_color_code(),width=15)\n",
    "win.mainloop()"
   ]
  },
  {
   "cell_type": "code",
   "execution_count": 86,
   "metadata": {},
   "outputs": [
    {
     "ename": "TclError",
     "evalue": "can't invoke \"label\" command: application has been destroyed",
     "output_type": "error",
     "traceback": [
      "\u001b[0;31m---------------------------------------------------------------------------\u001b[0m",
      "\u001b[0;31mTclError\u001b[0m                                  Traceback (most recent call last)",
      "\u001b[0;32m<ipython-input-86-8e9a3474a633>\u001b[0m in \u001b[0;36m<module>\u001b[0;34m\u001b[0m\n\u001b[1;32m     19\u001b[0m     \u001b[0mcanvas\u001b[0m\u001b[0;34m.\u001b[0m\u001b[0mcreate_line\u001b[0m\u001b[0;34m(\u001b[0m\u001b[0mx1\u001b[0m\u001b[0;34m,\u001b[0m\u001b[0my1\u001b[0m\u001b[0;34m,\u001b[0m\u001b[0mx2\u001b[0m\u001b[0;34m,\u001b[0m\u001b[0my2\u001b[0m\u001b[0;34m,\u001b[0m\u001b[0mfill\u001b[0m\u001b[0;34m=\u001b[0m\u001b[0mrandom_color_code\u001b[0m\u001b[0;34m(\u001b[0m\u001b[0;34m)\u001b[0m\u001b[0;34m,\u001b[0m\u001b[0mwidth\u001b[0m\u001b[0;34m=\u001b[0m\u001b[0mwidth\u001b[0m\u001b[0;34m)\u001b[0m\u001b[0;34m\u001b[0m\u001b[0;34m\u001b[0m\u001b[0m\n\u001b[1;32m     20\u001b[0m     \u001b[0mcanvas\u001b[0m\u001b[0;34m.\u001b[0m\u001b[0mupdate\u001b[0m\u001b[0;34m(\u001b[0m\u001b[0;34m)\u001b[0m\u001b[0;34m\u001b[0m\u001b[0;34m\u001b[0m\u001b[0m\n\u001b[0;32m---> 21\u001b[0;31m     \u001b[0mlabel\u001b[0m\u001b[0;34m=\u001b[0m\u001b[0mLabel\u001b[0m\u001b[0;34m(\u001b[0m\u001b[0mcanvas\u001b[0m\u001b[0;34m,\u001b[0m\u001b[0mtext\u001b[0m\u001b[0;34m=\u001b[0m\u001b[0;34m'PANKAJ'\u001b[0m\u001b[0;34m)\u001b[0m\u001b[0;34m.\u001b[0m\u001b[0mpack\u001b[0m\u001b[0;34m(\u001b[0m\u001b[0;34m)\u001b[0m\u001b[0;34m\u001b[0m\u001b[0;34m\u001b[0m\u001b[0m\n\u001b[0m\u001b[1;32m     22\u001b[0m \u001b[0;31m#     time.sleep(.5)\u001b[0m\u001b[0;34m\u001b[0m\u001b[0;34m\u001b[0m\u001b[0;34m\u001b[0m\u001b[0m\n\u001b[1;32m     23\u001b[0m \u001b[0mwin\u001b[0m\u001b[0;34m.\u001b[0m\u001b[0mmainloop\u001b[0m\u001b[0;34m(\u001b[0m\u001b[0;34m)\u001b[0m\u001b[0;34m\u001b[0m\u001b[0;34m\u001b[0m\u001b[0m\n",
      "\u001b[0;32m~/anaconda3/lib/python3.7/tkinter/__init__.py\u001b[0m in \u001b[0;36m__init__\u001b[0;34m(self, master, cnf, **kw)\u001b[0m\n\u001b[1;32m   2764\u001b[0m \u001b[0;34m\u001b[0m\u001b[0m\n\u001b[1;32m   2765\u001b[0m         \"\"\"\n\u001b[0;32m-> 2766\u001b[0;31m         \u001b[0mWidget\u001b[0m\u001b[0;34m.\u001b[0m\u001b[0m__init__\u001b[0m\u001b[0;34m(\u001b[0m\u001b[0mself\u001b[0m\u001b[0;34m,\u001b[0m \u001b[0mmaster\u001b[0m\u001b[0;34m,\u001b[0m \u001b[0;34m'label'\u001b[0m\u001b[0;34m,\u001b[0m \u001b[0mcnf\u001b[0m\u001b[0;34m,\u001b[0m \u001b[0mkw\u001b[0m\u001b[0;34m)\u001b[0m\u001b[0;34m\u001b[0m\u001b[0;34m\u001b[0m\u001b[0m\n\u001b[0m\u001b[1;32m   2767\u001b[0m \u001b[0;34m\u001b[0m\u001b[0m\n\u001b[1;32m   2768\u001b[0m \u001b[0;32mclass\u001b[0m \u001b[0mListbox\u001b[0m\u001b[0;34m(\u001b[0m\u001b[0mWidget\u001b[0m\u001b[0;34m,\u001b[0m \u001b[0mXView\u001b[0m\u001b[0;34m,\u001b[0m \u001b[0mYView\u001b[0m\u001b[0;34m)\u001b[0m\u001b[0;34m:\u001b[0m\u001b[0;34m\u001b[0m\u001b[0;34m\u001b[0m\u001b[0m\n",
      "\u001b[0;32m~/anaconda3/lib/python3.7/tkinter/__init__.py\u001b[0m in \u001b[0;36m__init__\u001b[0;34m(self, master, widgetName, cnf, kw, extra)\u001b[0m\n\u001b[1;32m   2297\u001b[0m             \u001b[0;32mdel\u001b[0m \u001b[0mcnf\u001b[0m\u001b[0;34m[\u001b[0m\u001b[0mk\u001b[0m\u001b[0;34m]\u001b[0m\u001b[0;34m\u001b[0m\u001b[0;34m\u001b[0m\u001b[0m\n\u001b[1;32m   2298\u001b[0m         self.tk.call(\n\u001b[0;32m-> 2299\u001b[0;31m             (widgetName, self._w) + extra + self._options(cnf))\n\u001b[0m\u001b[1;32m   2300\u001b[0m         \u001b[0;32mfor\u001b[0m \u001b[0mk\u001b[0m\u001b[0;34m,\u001b[0m \u001b[0mv\u001b[0m \u001b[0;32min\u001b[0m \u001b[0mclasses\u001b[0m\u001b[0;34m:\u001b[0m\u001b[0;34m\u001b[0m\u001b[0;34m\u001b[0m\u001b[0m\n\u001b[1;32m   2301\u001b[0m             \u001b[0mk\u001b[0m\u001b[0;34m.\u001b[0m\u001b[0mconfigure\u001b[0m\u001b[0;34m(\u001b[0m\u001b[0mself\u001b[0m\u001b[0;34m,\u001b[0m \u001b[0mv\u001b[0m\u001b[0;34m)\u001b[0m\u001b[0;34m\u001b[0m\u001b[0;34m\u001b[0m\u001b[0m\n",
      "\u001b[0;31mTclError\u001b[0m: can't invoke \"label\" command: application has been destroyed"
     ]
    }
   ],
   "source": [
    "from random import choice,randint\n",
    "from tkinter import *\n",
    "import time\n",
    "def random_color_code():\n",
    "    hex_characters=['0','1','2','3','4','5','6','7','8','9','a','b','c','d','e','f']\n",
    "    color_code='#'\n",
    "    for i in range(6):\n",
    "        color_code+=choice(hex_characters)\n",
    "    return color_code\n",
    "win=Tk()\n",
    "canvas=Canvas(win,width=1366,height=768,bg='white')\n",
    "canvas.grid(row=0,column=0)\n",
    "while True:\n",
    "    x1=randint(0,1366)\n",
    "    y1=randint(0,1366)\n",
    "    x2=randint(0,1366)\n",
    "    y2=randint(0,1366)\n",
    "    width=randint(1,20)\n",
    "    canvas.create_line(x1,y1,x2,y2,fill=random_color_code(),width=width)\n",
    "    canvas.update()\n",
    "    label=Label(canvas,text='PANKAJ').pack()\n",
    "#     time.sleep(.5)\n",
    "win.mainloop()"
   ]
  },
  {
   "cell_type": "code",
   "execution_count": 28,
   "metadata": {},
   "outputs": [
    {
     "ename": "TclError",
     "evalue": "invalid command name \".!canvas\"",
     "output_type": "error",
     "traceback": [
      "\u001b[0;31m---------------------------------------------------------------------------\u001b[0m",
      "\u001b[0;31mTclError\u001b[0m                                  Traceback (most recent call last)",
      "\u001b[0;32m<ipython-input-28-76a5eebd7b49>\u001b[0m in \u001b[0;36m<module>\u001b[0;34m\u001b[0m\n\u001b[1;32m     32\u001b[0m         \u001b[0mcount\u001b[0m\u001b[0;34m+=\u001b[0m\u001b[0;36m1\u001b[0m\u001b[0;34m\u001b[0m\u001b[0;34m\u001b[0m\u001b[0m\n\u001b[1;32m     33\u001b[0m     \u001b[0;32melse\u001b[0m\u001b[0;34m:\u001b[0m\u001b[0;34m\u001b[0m\u001b[0;34m\u001b[0m\u001b[0m\n\u001b[0;32m---> 34\u001b[0;31m         \u001b[0mcanvas\u001b[0m\u001b[0;34m.\u001b[0m\u001b[0mcreate_oval\u001b[0m\u001b[0;34m(\u001b[0m\u001b[0;36m100\u001b[0m\u001b[0;34m,\u001b[0m\u001b[0;36m100\u001b[0m\u001b[0;34m,\u001b[0m\u001b[0;36m700\u001b[0m\u001b[0;34m,\u001b[0m\u001b[0;36m700\u001b[0m\u001b[0;34m,\u001b[0m\u001b[0mfill\u001b[0m\u001b[0;34m=\u001b[0m\u001b[0;34m'#00ff00'\u001b[0m\u001b[0;34m,\u001b[0m\u001b[0mwidth\u001b[0m\u001b[0;34m=\u001b[0m\u001b[0;36m1\u001b[0m\u001b[0;34m)\u001b[0m\u001b[0;34m\u001b[0m\u001b[0;34m\u001b[0m\u001b[0m\n\u001b[0m\u001b[1;32m     35\u001b[0m         \u001b[0mcanvas\u001b[0m\u001b[0;34m.\u001b[0m\u001b[0mupdate\u001b[0m\u001b[0;34m(\u001b[0m\u001b[0;34m)\u001b[0m\u001b[0;34m\u001b[0m\u001b[0;34m\u001b[0m\u001b[0m\n\u001b[1;32m     36\u001b[0m         \u001b[0mtime\u001b[0m\u001b[0;34m.\u001b[0m\u001b[0msleep\u001b[0m\u001b[0;34m(\u001b[0m\u001b[0;36m.5\u001b[0m\u001b[0;34m)\u001b[0m\u001b[0;34m\u001b[0m\u001b[0;34m\u001b[0m\u001b[0m\n",
      "\u001b[0;32m~/anaconda3/lib/python3.7/tkinter/__init__.py\u001b[0m in \u001b[0;36mcreate_oval\u001b[0;34m(self, *args, **kw)\u001b[0m\n\u001b[1;32m   2493\u001b[0m     \u001b[0;32mdef\u001b[0m \u001b[0mcreate_oval\u001b[0m\u001b[0;34m(\u001b[0m\u001b[0mself\u001b[0m\u001b[0;34m,\u001b[0m \u001b[0;34m*\u001b[0m\u001b[0margs\u001b[0m\u001b[0;34m,\u001b[0m \u001b[0;34m**\u001b[0m\u001b[0mkw\u001b[0m\u001b[0;34m)\u001b[0m\u001b[0;34m:\u001b[0m\u001b[0;34m\u001b[0m\u001b[0;34m\u001b[0m\u001b[0m\n\u001b[1;32m   2494\u001b[0m         \u001b[0;34m\"\"\"Create oval with coordinates x1,y1,x2,y2.\"\"\"\u001b[0m\u001b[0;34m\u001b[0m\u001b[0;34m\u001b[0m\u001b[0m\n\u001b[0;32m-> 2495\u001b[0;31m         \u001b[0;32mreturn\u001b[0m \u001b[0mself\u001b[0m\u001b[0;34m.\u001b[0m\u001b[0m_create\u001b[0m\u001b[0;34m(\u001b[0m\u001b[0;34m'oval'\u001b[0m\u001b[0;34m,\u001b[0m \u001b[0margs\u001b[0m\u001b[0;34m,\u001b[0m \u001b[0mkw\u001b[0m\u001b[0;34m)\u001b[0m\u001b[0;34m\u001b[0m\u001b[0;34m\u001b[0m\u001b[0m\n\u001b[0m\u001b[1;32m   2496\u001b[0m     \u001b[0;32mdef\u001b[0m \u001b[0mcreate_polygon\u001b[0m\u001b[0;34m(\u001b[0m\u001b[0mself\u001b[0m\u001b[0;34m,\u001b[0m \u001b[0;34m*\u001b[0m\u001b[0margs\u001b[0m\u001b[0;34m,\u001b[0m \u001b[0;34m**\u001b[0m\u001b[0mkw\u001b[0m\u001b[0;34m)\u001b[0m\u001b[0;34m:\u001b[0m\u001b[0;34m\u001b[0m\u001b[0;34m\u001b[0m\u001b[0m\n\u001b[1;32m   2497\u001b[0m         \u001b[0;34m\"\"\"Create polygon with coordinates x1,y1,...,xn,yn.\"\"\"\u001b[0m\u001b[0;34m\u001b[0m\u001b[0;34m\u001b[0m\u001b[0m\n",
      "\u001b[0;32m~/anaconda3/lib/python3.7/tkinter/__init__.py\u001b[0m in \u001b[0;36m_create\u001b[0;34m(self, itemType, args, kw)\u001b[0m\n\u001b[1;32m   2478\u001b[0m         return self.tk.getint(self.tk.call(\n\u001b[1;32m   2479\u001b[0m             \u001b[0mself\u001b[0m\u001b[0;34m.\u001b[0m\u001b[0m_w\u001b[0m\u001b[0;34m,\u001b[0m \u001b[0;34m'create'\u001b[0m\u001b[0;34m,\u001b[0m \u001b[0mitemType\u001b[0m\u001b[0;34m,\u001b[0m\u001b[0;34m\u001b[0m\u001b[0;34m\u001b[0m\u001b[0m\n\u001b[0;32m-> 2480\u001b[0;31m             *(args + self._options(cnf, kw))))\n\u001b[0m\u001b[1;32m   2481\u001b[0m     \u001b[0;32mdef\u001b[0m \u001b[0mcreate_arc\u001b[0m\u001b[0;34m(\u001b[0m\u001b[0mself\u001b[0m\u001b[0;34m,\u001b[0m \u001b[0;34m*\u001b[0m\u001b[0margs\u001b[0m\u001b[0;34m,\u001b[0m \u001b[0;34m**\u001b[0m\u001b[0mkw\u001b[0m\u001b[0;34m)\u001b[0m\u001b[0;34m:\u001b[0m\u001b[0;34m\u001b[0m\u001b[0;34m\u001b[0m\u001b[0m\n\u001b[1;32m   2482\u001b[0m         \u001b[0;34m\"\"\"Create arc shaped region with coordinates x1,y1,x2,y2.\"\"\"\u001b[0m\u001b[0;34m\u001b[0m\u001b[0;34m\u001b[0m\u001b[0m\n",
      "\u001b[0;31mTclError\u001b[0m: invalid command name \".!canvas\""
     ]
    }
   ],
   "source": [
    "from random import choice,randint\n",
    "from tkinter import *\n",
    "import time\n",
    "def random_color_code():\n",
    "    hex_characters=['0','1','2','3','4','5','6','7','8','9','a','b','c','d','e','f']\n",
    "    color_code='#'\n",
    "    for i in range(6):\n",
    "        color_code+=choice(hex_characters)\n",
    "    return color_code\n",
    "win=Tk()\n",
    "canvas=Canvas(win,width=1366,height=768,bg='white')\n",
    "canvas.grid(row=0,column=0)\n",
    "count=0\n",
    "while True:\n",
    "#     x1=randint(0,1366)\n",
    "#     y1=randint(0,1366)\n",
    "#     x2=randint(0,1366)\n",
    "#     y2=randint(0,1366)\n",
    "#     if count%2==0:\n",
    "#         colour='#03FFFF'\n",
    "#         cout+=1\n",
    "        \n",
    "#     else:\n",
    "#         colour='#000000'\n",
    "#         cout+=1\n",
    "        \n",
    "    widths=randint(1,20)\n",
    "    if count%2==0:\n",
    "        canvas.create_oval(100,100,700,700,fill='#ffffff',width=1)\n",
    "        canvas.update()\n",
    "        time.sleep(.5)\n",
    "        count+=1\n",
    "    else:\n",
    "        canvas.create_oval(100,100,700,700,fill='#00ff00',width=1)\n",
    "        canvas.update()\n",
    "        time.sleep(.5)\n",
    "        count+=1\n",
    "        \n",
    "win.mainloop()"
   ]
  },
  {
   "cell_type": "code",
   "execution_count": 26,
   "metadata": {},
   "outputs": [
    {
     "ename": "TclError",
     "evalue": "invalid command name \".!canvas\"",
     "output_type": "error",
     "traceback": [
      "\u001b[0;31m---------------------------------------------------------------------------\u001b[0m",
      "\u001b[0;31mTclError\u001b[0m                                  Traceback (most recent call last)",
      "\u001b[0;32m<ipython-input-26-d6ec2b89f80e>\u001b[0m in \u001b[0;36m<module>\u001b[0;34m\u001b[0m\n\u001b[1;32m     14\u001b[0m \u001b[0mcount\u001b[0m\u001b[0;34m=\u001b[0m\u001b[0;36m0\u001b[0m\u001b[0;34m\u001b[0m\u001b[0;34m\u001b[0m\u001b[0m\n\u001b[1;32m     15\u001b[0m \u001b[0;32mwhile\u001b[0m \u001b[0;32mTrue\u001b[0m\u001b[0;34m:\u001b[0m\u001b[0;34m\u001b[0m\u001b[0;34m\u001b[0m\u001b[0m\n\u001b[0;32m---> 16\u001b[0;31m     \u001b[0mcanvas\u001b[0m\u001b[0;34m.\u001b[0m\u001b[0mmove\u001b[0m\u001b[0;34m(\u001b[0m\u001b[0mball\u001b[0m\u001b[0;34m,\u001b[0m\u001b[0;36m5\u001b[0m\u001b[0;34m,\u001b[0m\u001b[0;36m5\u001b[0m\u001b[0;34m)\u001b[0m\u001b[0;34m\u001b[0m\u001b[0;34m\u001b[0m\u001b[0m\n\u001b[0m\u001b[1;32m     17\u001b[0m     \u001b[0mcanvas\u001b[0m\u001b[0;34m.\u001b[0m\u001b[0mupdate\u001b[0m\u001b[0;34m(\u001b[0m\u001b[0;34m)\u001b[0m\u001b[0;34m\u001b[0m\u001b[0;34m\u001b[0m\u001b[0m\n\u001b[1;32m     18\u001b[0m \u001b[0;31m#     count+=1\u001b[0m\u001b[0;34m\u001b[0m\u001b[0;34m\u001b[0m\u001b[0;34m\u001b[0m\u001b[0m\n",
      "\u001b[0;32m~/anaconda3/lib/python3.7/tkinter/__init__.py\u001b[0m in \u001b[0;36mmove\u001b[0;34m(self, *args)\u001b[0m\n\u001b[1;32m   2589\u001b[0m     \u001b[0;32mdef\u001b[0m \u001b[0mmove\u001b[0m\u001b[0;34m(\u001b[0m\u001b[0mself\u001b[0m\u001b[0;34m,\u001b[0m \u001b[0;34m*\u001b[0m\u001b[0margs\u001b[0m\u001b[0;34m)\u001b[0m\u001b[0;34m:\u001b[0m\u001b[0;34m\u001b[0m\u001b[0;34m\u001b[0m\u001b[0m\n\u001b[1;32m   2590\u001b[0m         \u001b[0;34m\"\"\"Move an item TAGORID given in ARGS.\"\"\"\u001b[0m\u001b[0;34m\u001b[0m\u001b[0;34m\u001b[0m\u001b[0m\n\u001b[0;32m-> 2591\u001b[0;31m         \u001b[0mself\u001b[0m\u001b[0;34m.\u001b[0m\u001b[0mtk\u001b[0m\u001b[0;34m.\u001b[0m\u001b[0mcall\u001b[0m\u001b[0;34m(\u001b[0m\u001b[0;34m(\u001b[0m\u001b[0mself\u001b[0m\u001b[0;34m.\u001b[0m\u001b[0m_w\u001b[0m\u001b[0;34m,\u001b[0m \u001b[0;34m'move'\u001b[0m\u001b[0;34m)\u001b[0m \u001b[0;34m+\u001b[0m \u001b[0margs\u001b[0m\u001b[0;34m)\u001b[0m\u001b[0;34m\u001b[0m\u001b[0;34m\u001b[0m\u001b[0m\n\u001b[0m\u001b[1;32m   2592\u001b[0m     \u001b[0;32mdef\u001b[0m \u001b[0mpostscript\u001b[0m\u001b[0;34m(\u001b[0m\u001b[0mself\u001b[0m\u001b[0;34m,\u001b[0m \u001b[0mcnf\u001b[0m\u001b[0;34m=\u001b[0m\u001b[0;34m{\u001b[0m\u001b[0;34m}\u001b[0m\u001b[0;34m,\u001b[0m \u001b[0;34m**\u001b[0m\u001b[0mkw\u001b[0m\u001b[0;34m)\u001b[0m\u001b[0;34m:\u001b[0m\u001b[0;34m\u001b[0m\u001b[0;34m\u001b[0m\u001b[0m\n\u001b[1;32m   2593\u001b[0m         \"\"\"Print the contents of the canvas to a postscript\n",
      "\u001b[0;31mTclError\u001b[0m: invalid command name \".!canvas\""
     ]
    }
   ],
   "source": [
    "from random import choice,randint\n",
    "from tkinter import *\n",
    "import time\n",
    "def random_color_code():\n",
    "    hex_characters=['0','1','2','3','4','5','6','7','8','9','a','b','c','d','e','f']\n",
    "    color_code='#'\n",
    "    for i in range(6):\n",
    "        color_code+=choice(hex_characters)\n",
    "    return color_code\n",
    "win=Tk()\n",
    "canvas=Canvas(win,width=1366,height=768,bg='#ffffff')\n",
    "canvas.grid(row=0,column=0)\n",
    "ball=canvas.create_oval(100,100,700,700,fill='#FDB813',width=1)\n",
    "count=0\n",
    "while True:\n",
    "    canvas.move(ball,5,5)\n",
    "    canvas.update()\n",
    "#     count+=1 \n",
    "    time.sleep(.2)\n",
    "win.mainloop()"
   ]
  },
  {
   "cell_type": "markdown",
   "metadata": {},
   "source": [
    "# How to anchor and justify text in a Python tkinter label"
   ]
  },
  {
   "cell_type": "code",
   "execution_count": 3,
   "metadata": {},
   "outputs": [],
   "source": [
    "from tkinter import *\n",
    "win=Tk()\n",
    "label_1=Label(win,text='spacer')\n",
    "label_2=Label(win,text='Text\\nText Text',bd=1,relief='groove',font='times 32',\n",
    "             width=15,height=4,\n",
    "             anchor=SW,\n",
    "               justify=LEFT)\n",
    "label_3=Label(win,text='spacer')\n",
    "label_4=Label(win,text='Text\\nText Text',bd=1,relief='groove',font='times 32',\n",
    "             width=15,height=4,\n",
    "             anchor=SW,\n",
    "               justify=RIGHT)\n",
    "label_1.pack()\n",
    "label_2.pack()\n",
    "label_3.pack()\n",
    "label_4.pack()\n",
    "\n",
    "win.mainloop()"
   ]
  },
  {
   "cell_type": "markdown",
   "metadata": {},
   "source": [
    "# Dynamically altering a Python tkinter label"
   ]
  },
  {
   "cell_type": "code",
   "execution_count": 2,
   "metadata": {},
   "outputs": [
    {
     "name": "stdout",
     "output_type": "stream",
     "text": [
      "8\n",
      "solid\n",
      "times 22 bold\n",
      "red\n",
      "white\n"
     ]
    }
   ],
   "source": [
    "from tkinter import *\n",
    "win=Tk()\n",
    "label_1=Label(win,bd=8,relief='solid',font='times 22 bold',bg='red',fg='white',\n",
    "              text='Hello World')\n",
    "label_1.pack()\n",
    "print(label_1['bd'])\n",
    "print(label_1['relief'])\n",
    "print(label_1['font'])\n",
    "print(label_1['bg'])\n",
    "print(label_1['fg'])\n",
    "win.mainloop()"
   ]
  },
  {
   "cell_type": "code",
   "execution_count": 1,
   "metadata": {},
   "outputs": [
    {
     "name": "stdout",
     "output_type": "stream",
     "text": [
      "8\n",
      "solid\n",
      "times 22 bold\n",
      "blue\n",
      "white\n"
     ]
    }
   ],
   "source": [
    "#Color is changed dynamically\n",
    "from tkinter import *\n",
    "import time\n",
    "win=Tk()\n",
    "label_1=Label(win,bd=8,relief='solid',font='times 22 bold',bg='red',fg='white',#<-----\n",
    "              text='Hello World')\n",
    "label_1.pack()\n",
    "label_1['bg']='blue'#Dictionary method to assign the background color <--------------\n",
    "print(label_1['bd'])#Dictionary method to get the value of the label\n",
    "print(label_1['relief'])\n",
    "print(label_1['font'])\n",
    "print(label_1['bg'])\n",
    "print(label_1['fg'])\n",
    "win.mainloop()"
   ]
  },
  {
   "cell_type": "code",
   "execution_count": 4,
   "metadata": {},
   "outputs": [],
   "source": [
    "#Dynamically assigning the value\n",
    "from tkinter import *\n",
    "def clear():\n",
    "    label_1['text']='Text has been changed'\n",
    "win=Tk()\n",
    "label_1=Label(win,bd=8,relief='solid',font='times 22 bold',bg='red',fg='white',\n",
    "              text='Hello World')\n",
    "label_1.grid(row=0,column=0)\n",
    "label_1['bd']=16\n",
    "label_1['relief']='raised'#(चोटी <-----ridge)\n",
    "label_1['font']='mistral 32 bold'\n",
    "label_1['bg']='blue'\n",
    "label_1['fg']='white'\n",
    "btn=Button(win,text='Clear',command=clear).grid(row=1,column=0)\n",
    "label_1['padx']=16\n",
    "win.mainloop()"
   ]
  },
  {
   "cell_type": "markdown",
   "metadata": {},
   "source": [
    "# The tkinter keys method for a label"
   ]
  },
  {
   "cell_type": "code",
   "execution_count": 5,
   "metadata": {},
   "outputs": [
    {
     "name": "stdout",
     "output_type": "stream",
     "text": [
      "['activebackground', 'activeforeground', 'anchor', 'background', 'bd', 'bg', 'bitmap', 'borderwidth', 'compound', 'cursor', 'disabledforeground', 'fg', 'font', 'foreground', 'height', 'highlightbackground', 'highlightcolor', 'highlightthickness', 'image', 'justify', 'padx', 'pady', 'relief', 'state', 'takefocus', 'text', 'textvariable', 'underline', 'width', 'wraplength'] 30\n"
     ]
    }
   ],
   "source": [
    "from tkinter import *\n",
    "win=Tk()\n",
    "label_1=Label(win,bd=8,relief='solid',\n",
    "             font='times 22 bold',\n",
    "             bg='red',\n",
    "             fg='white',\n",
    "             text='Hello World')\n",
    "print(label_1.keys(),len(label_1.keys()))\n",
    "label_1.pack()\n",
    "win.mainloop()"
   ]
  },
  {
   "cell_type": "code",
   "execution_count": 7,
   "metadata": {},
   "outputs": [
    {
     "name": "stdout",
     "output_type": "stream",
     "text": [
      "activebackground #ececec\n",
      "activeforeground #000000\n",
      "anchor center\n",
      "background red\n",
      "bd 8\n",
      "bg red\n",
      "bitmap \n",
      "borderwidth 8\n",
      "compound none\n",
      "cursor \n",
      "disabledforeground #a3a3a3\n",
      "fg white\n",
      "font times 22 bold\n",
      "foreground white\n",
      "height 0\n",
      "highlightbackground #d9d9d9\n",
      "highlightcolor #000000\n",
      "highlightthickness 0\n",
      "image \n",
      "justify center\n",
      "padx 1\n",
      "pady 1\n",
      "relief solid\n",
      "state normal\n",
      "takefocus 0\n",
      "text Pankaj Jaiswal\n",
      "textvariable \n",
      "underline -1\n",
      "width 0\n",
      "wraplength 0\n"
     ]
    }
   ],
   "source": [
    "from tkinter import *\n",
    "win=Tk()\n",
    "label_1=Label(win,\n",
    "             bd=8,\n",
    "             relief='solid',\n",
    "             font='times 22 bold',\n",
    "             bg='red',\n",
    "             fg='white',\n",
    "             text='Pankaj Jaiswal')\n",
    "label_1.pack()\n",
    "for i in label_1.keys():\n",
    "    print(i,label_1[i])\n",
    "win.mainloop()"
   ]
  },
  {
   "cell_type": "markdown",
   "metadata": {},
   "source": [
    "# Using StringVar() and textvariable with a Python tkinter label"
   ]
  },
  {
   "cell_type": "code",
   "execution_count": 8,
   "metadata": {},
   "outputs": [],
   "source": [
    "from tkinter import *\n",
    "win=Tk()\n",
    "label=Label(win,\n",
    "           relief='solid',\n",
    "           font='times 22 bold',\n",
    "           text='hello')\n",
    "label.pack()\n",
    "win.mainloop()\n"
   ]
  },
  {
   "cell_type": "code",
   "execution_count": 2,
   "metadata": {},
   "outputs": [],
   "source": [
    "from tkinter import *\n",
    "win=Tk()\n",
    "var_1=StringVar()#<---------------------------------\n",
    "label=Label(win,\n",
    "           relief='solid',\n",
    "           font='times 22 bold',\n",
    "           textvariable=var_1)#<---------------------------------\n",
    "var_1.set('hello sir how are you ?')#<---------------------------------\n",
    "label.pack()\n",
    "win.mainloop()\n"
   ]
  },
  {
   "cell_type": "code",
   "execution_count": 10,
   "metadata": {},
   "outputs": [],
   "source": [
    "from tkinter import *\n",
    "win=Tk()\n",
    "var_1=StringVar()#<---------------------------------\n",
    "label=Label(win,\n",
    "#            text='Radhe',#<---------------------------------\n",
    "           relief='solid',\n",
    "           font='times 22 bold',\n",
    "           )\n",
    "label.pack()\n",
    "def f():\n",
    "    label['text']='hello sir how are you ?'#<---------------------------------\n",
    "button=Button(win,text='click me',command=f).pack()\n",
    "win.mainloop()\n"
   ]
  },
  {
   "cell_type": "code",
   "execution_count": 11,
   "metadata": {},
   "outputs": [],
   "source": [
    "from tkinter import *\n",
    "win=Tk()\n",
    "var_1=StringVar()#<---------------------------------\n",
    "label=Label(win,\n",
    "           relief='solid',\n",
    "           font='times 22 bold',\n",
    "           textvariable=var_1)#<---------------------------------\n",
    "label.pack()\n",
    "var_1.set('Radhe')\n",
    "\n",
    "def f():\n",
    "    var_1.set('hello sir how are you ?')#<---------------------------------\n",
    "button=Button(win,text='click me',command=f).pack()\n",
    "win.mainloop()\n"
   ]
  },
  {
   "cell_type": "markdown",
   "metadata": {},
   "source": [
    "# The Python tkinter StringVar set()  method"
   ]
  },
  {
   "cell_type": "code",
   "execution_count": 12,
   "metadata": {},
   "outputs": [],
   "source": [
    "from tkinter import *\n",
    "win=Tk()\n",
    "var_1=StringVar()#<---------------\n",
    "label_1=Label(win,\n",
    "             relief='solid',\n",
    "             font='times 22 bold',\n",
    "             text='Hello World')#<---------------\n",
    "label_2=Label(win,\n",
    "             relief='solid',\n",
    "             font='times 22 bold',\n",
    "             textvariable=var_1)#<---------------\n",
    "label_1.pack()\n",
    "label_2.pack()\n",
    "var_1.set('Hi')#<---------------\n",
    "win.mainloop()"
   ]
  },
  {
   "cell_type": "code",
   "execution_count": 13,
   "metadata": {},
   "outputs": [],
   "source": [
    "from tkinter import *\n",
    "win=Tk()\n",
    "var_1=StringVar()#<---------------\n",
    "label_1=Label(win,\n",
    "             relief='solid',\n",
    "             font='times 22 bold',\n",
    "             text='Hello World')#<---------------\n",
    "label_2=Label(win,\n",
    "             relief='solid',\n",
    "             font='times 22 bold',\n",
    "             textvariable=var_1)#<---------------\n",
    "label_1.pack()\n",
    "label_2.pack()\n",
    "label_1['text']='Text put  here usig key/value pairs approach'#<---------------\n",
    "var_1.set('Text is put here using textvariable and stringvar')#<---------------\n",
    "win.mainloop()"
   ]
  },
  {
   "cell_type": "markdown",
   "metadata": {},
   "source": [
    "# Introduction to the Python tkinter button widget"
   ]
  },
  {
   "cell_type": "code",
   "execution_count": 14,
   "metadata": {},
   "outputs": [],
   "source": [
    "from tkinter import *\n",
    "win=Tk()\n",
    "def add_label():\n",
    "    label_1=Label(win,text='Hello World',font='times 32 bold').pack()\n",
    "win.geometry(f'{win.winfo_screenwidth()}x{win.winfo_screenheight()}')\n",
    "button_1=Button(win,text='Click me',command=add_label)\n",
    "button_1.pack()\n",
    "win.mainloop()"
   ]
  },
  {
   "cell_type": "code",
   "execution_count": null,
   "metadata": {},
   "outputs": [],
   "source": [
    "from tkinter import *\n",
    "win=Tk()\n",
    "button_1=Button(win,text='Click me')\n",
    "button_1.pack()\n",
    "win.mainloop()"
   ]
  },
  {
   "cell_type": "markdown",
   "metadata": {},
   "source": [
    "# The tkinter Grid Geometry Manager"
   ]
  },
  {
   "cell_type": "code",
   "execution_count": 31,
   "metadata": {},
   "outputs": [],
   "source": [
    "from tkinter import *\n",
    "win=Tk()\n",
    "label_1=Label(win,width='20',height='3',bg='red')\n",
    "label_2=Label(win,width='20',height='3',bg='green')\n",
    "label_3=Label(win,width='20',height='3',bg='blue')\n",
    "\n",
    "button_1=Button(win,text='click me')\n",
    "button_2=Button(win,text='click me')\n",
    "button_3=Button(win,text='click me')\n",
    "\n",
    "label_1.grid(row=0,column=0)\n",
    "label_2.grid(row=0,column=1)\n",
    "label_3.grid(row=0,column=2)\n",
    "\n",
    "button_1.grid(row=1,column=0)\n",
    "button_2.grid(row=1,column=1)\n",
    "button_3.grid(row=1,column=2)\n",
    "win.mainloop()"
   ]
  },
  {
   "cell_type": "markdown",
   "metadata": {},
   "source": [
    "# The tkinter Entry Widget"
   ]
  },
  {
   "cell_type": "code",
   "execution_count": 5,
   "metadata": {},
   "outputs": [
    {
     "name": "stdout",
     "output_type": "stream",
     "text": [
      "radhe radhe <class 'str'>\n"
     ]
    }
   ],
   "source": [
    "from tkinter import *\n",
    "win=Tk()\n",
    "def say_hello():\n",
    "    print(entry_1.get(),type(entry_1.get()))\n",
    "    name_of_user=entry_1.get()#<---------------\n",
    "    string_to_display='Hello '+name_of_user\n",
    "    label_2=Label(win,text=string_to_display)#<----------------------\n",
    "    label_2.grid(row=1,column=1)\n",
    "label_1=Label(win,text='Please enter your name : ')\n",
    "entry_1=Entry(win)\n",
    "button_1=Button(win,text='Click me to enter the name',command=say_hello)\n",
    "label_1.grid(row=0,column=0)\n",
    "entry_1.grid(row=0,column=1)\n",
    "button_1.grid(row=1,column=0)\n",
    "win.mainloop()"
   ]
  },
  {
   "cell_type": "code",
   "execution_count": 2,
   "metadata": {},
   "outputs": [],
   "source": [
    "from tkinter import *\n",
    "win=Tk()\n",
    "def say_hello():\n",
    "    name_of_user=entry_1.get()#<---------------\n",
    "    string_to_display='Hello '+name_of_user\n",
    "    label_2=Label(win)\n",
    "    label_2['text']=string_to_display#<---------------\n",
    "    label_2.grid(row=1,column=1)\n",
    "label_1=Label(win,text='Please enter your name : ')\n",
    "entry_1=Entry(win)\n",
    "button_1=Button(win,text='Click me to enter the name',command=say_hello)\n",
    "label_1.grid(row=0,column=0)\n",
    "entry_1.grid(row=0,column=1)\n",
    "button_1.grid(row=1,column=0)\n",
    "win.mainloop()"
   ]
  },
  {
   "cell_type": "markdown",
   "metadata": {},
   "source": [
    "# The Entry widget and StrigVar()"
   ]
  },
  {
   "cell_type": "code",
   "execution_count": 3,
   "metadata": {},
   "outputs": [],
   "source": [
    "from tkinter import *\n",
    "win=Tk()\n",
    "def say_hello():\n",
    "    name_of_user=entry_1.get()#<---------------\n",
    "    string_to_display='Hello '+name_of_user\n",
    "    var_2.set(string_to_display)#<-------------------------\n",
    "label_1=Label(win,text='Please enter your name : ')\n",
    "entry_1=Entry(win)\n",
    "button_1=Button(win,text='Click me to enter the name',command=say_hello)\n",
    "var_2=StringVar()#<-------------------------\n",
    "label_2=Label(win,textvariable=var_2)#<-------------------------\n",
    "\n",
    "label_1.grid(row=0,column=0)\n",
    "entry_1.grid(row=0,column=1)\n",
    "button_1.grid(row=1,column=0)\n",
    "label_2.grid(row=1,column=1)\n",
    "\n",
    "win.mainloop()"
   ]
  },
  {
   "cell_type": "code",
   "execution_count": 3,
   "metadata": {},
   "outputs": [],
   "source": [
    "from tkinter import *\n",
    "win=Tk()\n",
    "def say_hello():\n",
    "    name_of_user=var_2.get()#<---------------\n",
    "    string_to_display='Hello '+name_of_user\n",
    "    var_1.set(string_to_display)#<-------------------------\n",
    "label_1=Label(win,text='Please enter your name : ')\n",
    "var_2=StringVar()#<-------------------------\n",
    "entry_1=Entry(win,textvariable=var_2)\n",
    "button_1=Button(win,text='Click me to enter the name',command=say_hello)\n",
    "var_1=StringVar()#<-------------------------\n",
    "label_2=Label(win,textvariable=var_1)#<-------------------------\n",
    "\n",
    "label_1.grid(row=0,column=0)\n",
    "entry_1.grid(row=0,column=1)\n",
    "\n",
    "button_1.grid(row=1,column=0)\n",
    "label_2.grid(row=1,column=1)\n",
    "\n",
    "win.mainloop()"
   ]
  },
  {
   "cell_type": "markdown",
   "metadata": {},
   "source": [
    "# Setting the focus within a Python GUI"
   ]
  },
  {
   "cell_type": "code",
   "execution_count": 4,
   "metadata": {},
   "outputs": [],
   "source": [
    "from tkinter import *\n",
    "def convert():\n",
    "    F=float(fahrenheit_entry.get())\n",
    "    C=(F-32)*5/9\n",
    "    display_celsius_label['text']=str(C)\n",
    "    display_celsius_label['fg']='red'\n",
    "win=Tk()\n",
    "friendly_label_1=Label(win,text='Enter Fahrenheit')\n",
    "friendly_label_2=Label(win,text='Celsius Temperature')\n",
    "display_celsius_label=Label(win)\n",
    "fahrenheit_entry=Entry(win)\n",
    "convert_button=Button(win,text='Conver',command=convert)\n",
    "\n",
    "friendly_label_1.grid(row=0,column=0)\n",
    "fahrenheit_entry.grid(row=0,column=1)\n",
    "friendly_label_2.grid(row=1,column=0)\n",
    "display_celsius_label.grid(row=1,column=1)\n",
    "convert_button.grid(row=2,column=0)\n",
    "\n",
    "fahrenheit_entry.focus()#<-----------------------------------setting the focus of the entry\n",
    "\n",
    "win.mainloop()"
   ]
  },
  {
   "cell_type": "markdown",
   "metadata": {},
   "source": [
    "# Focus and Tab order of Widgets in a Python GUI"
   ]
  },
  {
   "cell_type": "code",
   "execution_count": 100,
   "metadata": {},
   "outputs": [],
   "source": [
    "from tkinter import *\n",
    "win=Tk()\n",
    "entry_c=Entry(win,bg='white')\n",
    "entry_a=Entry(win,bg='yellow')\n",
    "entry_b=Entry(win,bg='red')\n",
    "\n",
    "label_a=Label(win,text='First Name : ')\n",
    "label_b=Label(win,text='Middle Name : ')\n",
    "label_c=Label(win,text='Last Name : ')\n",
    "\n",
    "entry_a.grid(row=0,column=1)\n",
    "entry_b.grid(row=1,column=1)\n",
    "entry_c.grid(row=2,column=1)\n",
    "\n",
    "label_a.grid(row=0,column=0)\n",
    "label_b.grid(row=1,column=0)\n",
    "label_c.grid(row=2,column=0)\n",
    "\n",
    "entry_a.focus()\n",
    "\n",
    "\n",
    "win.mainloop()"
   ]
  },
  {
   "cell_type": "code",
   "execution_count": null,
   "metadata": {},
   "outputs": [],
   "source": [
    "from tkinter import *\n",
    "win=Tk()\n",
    "entry_c=Entry(win,bg='white')\n",
    "entry_a=Entry(win,bg='yellow')\n",
    "entry_b=Entry(win,bg='red')\n",
    "\n",
    "label_a=Label(win,text='First Name : ')\n",
    "label_b=Label(win,text='Middle Name : ')\n",
    "label_c=Label(win,text='Last Name : ')\n",
    "\n",
    "entry_a.grid(row=0,column=1)\n",
    "entry_c.grid(row=2,column=1)#press the Tab button to see the focus varies in the order of griding the entry\n",
    "entry_b.grid(row=1,column=1)\n",
    "\n",
    "label_a.grid(row=0,column=0)\n",
    "label_b.grid(row=1,column=0)\n",
    "label_c.grid(row=2,column=0)\n",
    "\n",
    "entry_a.focus()\n",
    "\n",
    "\n",
    "win.mainloop()"
   ]
  },
  {
   "cell_type": "code",
   "execution_count": null,
   "metadata": {},
   "outputs": [],
   "source": []
  },
  {
   "cell_type": "code",
   "execution_count": 29,
   "metadata": {},
   "outputs": [
    {
     "ename": "TclError",
     "evalue": "cannot use geometry manager grid inside . which already has slaves managed by pack",
     "output_type": "error",
     "traceback": [
      "\u001b[0;31m---------------------------------------------------------------------------\u001b[0m",
      "\u001b[0;31mTclError\u001b[0m                                  Traceback (most recent call last)",
      "\u001b[0;32m<ipython-input-29-27d2ce0949b1>\u001b[0m in \u001b[0;36m<module>\u001b[0;34m\u001b[0m\n\u001b[1;32m      3\u001b[0m \u001b[0mwin\u001b[0m\u001b[0;34m=\u001b[0m\u001b[0mtk\u001b[0m\u001b[0;34m.\u001b[0m\u001b[0mTk\u001b[0m\u001b[0;34m(\u001b[0m\u001b[0;34m)\u001b[0m\u001b[0;34m\u001b[0m\u001b[0;34m\u001b[0m\u001b[0m\n\u001b[1;32m      4\u001b[0m \u001b[0mwin\u001b[0m\u001b[0;34m.\u001b[0m\u001b[0mconfigure\u001b[0m\u001b[0;34m(\u001b[0m\u001b[0mbg\u001b[0m\u001b[0;34m=\u001b[0m\u001b[0;34m'yellow'\u001b[0m\u001b[0;34m)\u001b[0m\u001b[0;34m\u001b[0m\u001b[0;34m\u001b[0m\u001b[0m\n\u001b[0;32m----> 5\u001b[0;31m \u001b[0mlabel1\u001b[0m\u001b[0;34m=\u001b[0m\u001b[0mtk\u001b[0m\u001b[0;34m.\u001b[0m\u001b[0mLabel\u001b[0m\u001b[0;34m(\u001b[0m\u001b[0mwidth\u001b[0m\u001b[0;34m=\u001b[0m\u001b[0;36m40\u001b[0m\u001b[0;34m,\u001b[0m\u001b[0mbg\u001b[0m\u001b[0;34m=\u001b[0m\u001b[0;34m'blue'\u001b[0m\u001b[0;34m,\u001b[0m\u001b[0mheight\u001b[0m\u001b[0;34m=\u001b[0m\u001b[0;36m20\u001b[0m\u001b[0;34m,\u001b[0m\u001b[0mborderwidth\u001b[0m\u001b[0;34m=\u001b[0m\u001b[0;36m5\u001b[0m\u001b[0;34m,\u001b[0m\u001b[0mrelief\u001b[0m\u001b[0;34m=\u001b[0m\u001b[0;34m'raised'\u001b[0m\u001b[0;34m)\u001b[0m\u001b[0;34m.\u001b[0m\u001b[0mgrid\u001b[0m\u001b[0;34m(\u001b[0m\u001b[0mrow\u001b[0m\u001b[0;34m=\u001b[0m\u001b[0;36m0\u001b[0m\u001b[0;34m,\u001b[0m\u001b[0mcolumn\u001b[0m\u001b[0;34m=\u001b[0m\u001b[0;36m0\u001b[0m\u001b[0;34m,\u001b[0m\u001b[0mpadx\u001b[0m\u001b[0;34m=\u001b[0m\u001b[0;36m10\u001b[0m\u001b[0;34m)\u001b[0m\u001b[0;34m\u001b[0m\u001b[0;34m\u001b[0m\u001b[0m\n\u001b[0m\u001b[1;32m      6\u001b[0m \u001b[0mlabel2\u001b[0m\u001b[0;34m=\u001b[0m\u001b[0mtk\u001b[0m\u001b[0;34m.\u001b[0m\u001b[0mLabel\u001b[0m\u001b[0;34m(\u001b[0m\u001b[0mwidth\u001b[0m\u001b[0;34m=\u001b[0m\u001b[0;36m40\u001b[0m\u001b[0;34m,\u001b[0m\u001b[0mbg\u001b[0m\u001b[0;34m=\u001b[0m\u001b[0;34m'blue'\u001b[0m\u001b[0;34m,\u001b[0m\u001b[0mheight\u001b[0m\u001b[0;34m=\u001b[0m\u001b[0;36m20\u001b[0m\u001b[0;34m,\u001b[0m\u001b[0mborderwidth\u001b[0m\u001b[0;34m=\u001b[0m\u001b[0;36m5\u001b[0m\u001b[0;34m,\u001b[0m\u001b[0mrelief\u001b[0m\u001b[0;34m=\u001b[0m\u001b[0;34m'raised'\u001b[0m\u001b[0;34m)\u001b[0m\u001b[0;34m.\u001b[0m\u001b[0mgrid\u001b[0m\u001b[0;34m(\u001b[0m\u001b[0mrow\u001b[0m\u001b[0;34m=\u001b[0m\u001b[0;36m0\u001b[0m\u001b[0;34m,\u001b[0m\u001b[0mcolumn\u001b[0m\u001b[0;34m=\u001b[0m\u001b[0;36m1\u001b[0m\u001b[0;34m,\u001b[0m\u001b[0mpadx\u001b[0m\u001b[0;34m=\u001b[0m\u001b[0;36m10\u001b[0m\u001b[0;34m)\u001b[0m\u001b[0;34m\u001b[0m\u001b[0;34m\u001b[0m\u001b[0m\n\u001b[1;32m      7\u001b[0m \u001b[0mlabel3\u001b[0m\u001b[0;34m=\u001b[0m\u001b[0mtk\u001b[0m\u001b[0;34m.\u001b[0m\u001b[0mLabel\u001b[0m\u001b[0;34m(\u001b[0m\u001b[0mwidth\u001b[0m\u001b[0;34m=\u001b[0m\u001b[0;36m40\u001b[0m\u001b[0;34m,\u001b[0m\u001b[0mbg\u001b[0m\u001b[0;34m=\u001b[0m\u001b[0;34m'blue'\u001b[0m\u001b[0;34m,\u001b[0m\u001b[0mheight\u001b[0m\u001b[0;34m=\u001b[0m\u001b[0;36m20\u001b[0m\u001b[0;34m,\u001b[0m\u001b[0mborderwidth\u001b[0m\u001b[0;34m=\u001b[0m\u001b[0;36m5\u001b[0m\u001b[0;34m,\u001b[0m\u001b[0mrelief\u001b[0m\u001b[0;34m=\u001b[0m\u001b[0;34m'raised'\u001b[0m\u001b[0;34m)\u001b[0m\u001b[0;34m.\u001b[0m\u001b[0mgrid\u001b[0m\u001b[0;34m(\u001b[0m\u001b[0mrow\u001b[0m\u001b[0;34m=\u001b[0m\u001b[0;36m0\u001b[0m\u001b[0;34m,\u001b[0m\u001b[0mcolumn\u001b[0m\u001b[0;34m=\u001b[0m\u001b[0;36m2\u001b[0m\u001b[0;34m,\u001b[0m\u001b[0mpadx\u001b[0m\u001b[0;34m=\u001b[0m\u001b[0;36m10\u001b[0m\u001b[0;34m)\u001b[0m\u001b[0;34m\u001b[0m\u001b[0;34m\u001b[0m\u001b[0m\n",
      "\u001b[0;32m~/anaconda3/lib/python3.7/tkinter/__init__.py\u001b[0m in \u001b[0;36mgrid_configure\u001b[0;34m(self, cnf, **kw)\u001b[0m\n\u001b[1;32m   2224\u001b[0m         self.tk.call(\n\u001b[1;32m   2225\u001b[0m               \u001b[0;34m(\u001b[0m\u001b[0;34m'grid'\u001b[0m\u001b[0;34m,\u001b[0m \u001b[0;34m'configure'\u001b[0m\u001b[0;34m,\u001b[0m \u001b[0mself\u001b[0m\u001b[0;34m.\u001b[0m\u001b[0m_w\u001b[0m\u001b[0;34m)\u001b[0m\u001b[0;34m\u001b[0m\u001b[0;34m\u001b[0m\u001b[0m\n\u001b[0;32m-> 2226\u001b[0;31m               + self._options(cnf, kw))\n\u001b[0m\u001b[1;32m   2227\u001b[0m     \u001b[0mgrid\u001b[0m \u001b[0;34m=\u001b[0m \u001b[0mconfigure\u001b[0m \u001b[0;34m=\u001b[0m \u001b[0mconfig\u001b[0m \u001b[0;34m=\u001b[0m \u001b[0mgrid_configure\u001b[0m\u001b[0;34m\u001b[0m\u001b[0;34m\u001b[0m\u001b[0m\n\u001b[1;32m   2228\u001b[0m     \u001b[0mbbox\u001b[0m \u001b[0;34m=\u001b[0m \u001b[0mgrid_bbox\u001b[0m \u001b[0;34m=\u001b[0m \u001b[0mMisc\u001b[0m\u001b[0;34m.\u001b[0m\u001b[0mgrid_bbox\u001b[0m\u001b[0;34m\u001b[0m\u001b[0;34m\u001b[0m\u001b[0m\n",
      "\u001b[0;31mTclError\u001b[0m: cannot use geometry manager grid inside . which already has slaves managed by pack"
     ]
    }
   ],
   "source": [
    "#TclError: bad relief \"5\": must be flat, groove, raised, ridge, solid, or sunken\n",
    "import tkinter as tk \n",
    "win=tk.Tk()\n",
    "win.configure(bg='yellow')\n",
    "label1=tk.Label(width=40,bg='blue',height=20,borderwidth=5,relief='raised').grid(row=0,column=0,padx=10)\n",
    "label2=tk.Label(width=40,bg='blue',height=20,borderwidth=5,relief='raised').grid(row=0,column=1,padx=10)\n",
    "label3=tk.Label(width=40,bg='blue',height=20,borderwidth=5,relief='raised').grid(row=0,column=2,padx=10)\n",
    "    \n",
    "cosmetics=['Bath Soup','Face  Cream','Face Wash','Hair Spray','Hair Gel','Body Lotion']\n",
    "grocery=['Rice','Food Oil','Daal','Wheat','Sugar','Tea']\n",
    "cold_drinks=['Maza','Cock','Frooti','Thumbs UP','Limca','Sprite']\n",
    "for i in range(len(cosmetics)):\n",
    "    label=tk.Label(label1,text=cosmetics[i]).grid(row=i,column=0,pady=10)\n",
    "    label=tk.Label(label1,text=grocery[i]).grid(row=i,column=1)\n",
    "    label=tk.Label(label1,text=cold_drinks[i]).grid(row=i,column=20)\n",
    "    \n",
    "\n",
    "win.geometry(f'{win.winfo_screenwidth()}x{win.winfo_screenheight()}')\n",
    "win.mainloop()"
   ]
  },
  {
   "cell_type": "markdown",
   "metadata": {},
   "source": [
    "# Timer"
   ]
  },
  {
   "cell_type": "code",
   "execution_count": 38,
   "metadata": {},
   "outputs": [
    {
     "ename": "TclError",
     "evalue": "invalid command name \".!label\"",
     "output_type": "error",
     "traceback": [
      "\u001b[0;31m---------------------------------------------------------------------------\u001b[0m",
      "\u001b[0;31mTclError\u001b[0m                                  Traceback (most recent call last)",
      "\u001b[0;32m<ipython-input-38-b6b5bbce86c5>\u001b[0m in \u001b[0;36m<module>\u001b[0;34m\u001b[0m\n\u001b[1;32m      5\u001b[0m \u001b[0mtimer_label\u001b[0m\u001b[0;34m.\u001b[0m\u001b[0mgrid\u001b[0m\u001b[0;34m(\u001b[0m\u001b[0;34m)\u001b[0m\u001b[0;34m\u001b[0m\u001b[0;34m\u001b[0m\u001b[0m\n\u001b[1;32m      6\u001b[0m \u001b[0;32mfor\u001b[0m \u001b[0mi\u001b[0m \u001b[0;32min\u001b[0m \u001b[0mrange\u001b[0m\u001b[0;34m(\u001b[0m\u001b[0;36m1\u001b[0m\u001b[0;34m,\u001b[0m\u001b[0;36m61\u001b[0m\u001b[0;34m)\u001b[0m\u001b[0;34m:\u001b[0m\u001b[0;34m\u001b[0m\u001b[0;34m\u001b[0m\u001b[0m\n\u001b[0;32m----> 7\u001b[0;31m     \u001b[0mtimer_label\u001b[0m\u001b[0;34m[\u001b[0m\u001b[0;34m'text'\u001b[0m\u001b[0;34m]\u001b[0m\u001b[0;34m=\u001b[0m\u001b[0mstr\u001b[0m\u001b[0;34m(\u001b[0m\u001b[0mi\u001b[0m\u001b[0;34m)\u001b[0m\u001b[0;34m\u001b[0m\u001b[0;34m\u001b[0m\u001b[0m\n\u001b[0m\u001b[1;32m      8\u001b[0m     \u001b[0mtimer_label\u001b[0m\u001b[0;34m.\u001b[0m\u001b[0mupdate\u001b[0m\u001b[0;34m(\u001b[0m\u001b[0;34m)\u001b[0m\u001b[0;34m\u001b[0m\u001b[0;34m\u001b[0m\u001b[0m\n\u001b[1;32m      9\u001b[0m     \u001b[0mtimer_label\u001b[0m\u001b[0;34m.\u001b[0m\u001b[0mafter\u001b[0m\u001b[0;34m(\u001b[0m\u001b[0;36m1600\u001b[0m\u001b[0;34m)\u001b[0m\u001b[0;34m\u001b[0m\u001b[0;34m\u001b[0m\u001b[0m\n",
      "\u001b[0;32m~/anaconda3/lib/python3.7/tkinter/__init__.py\u001b[0m in \u001b[0;36m__setitem__\u001b[0;34m(self, key, value)\u001b[0m\n\u001b[1;32m   1490\u001b[0m     \u001b[0m__getitem__\u001b[0m \u001b[0;34m=\u001b[0m \u001b[0mcget\u001b[0m\u001b[0;34m\u001b[0m\u001b[0;34m\u001b[0m\u001b[0m\n\u001b[1;32m   1491\u001b[0m     \u001b[0;32mdef\u001b[0m \u001b[0m__setitem__\u001b[0m\u001b[0;34m(\u001b[0m\u001b[0mself\u001b[0m\u001b[0;34m,\u001b[0m \u001b[0mkey\u001b[0m\u001b[0;34m,\u001b[0m \u001b[0mvalue\u001b[0m\u001b[0;34m)\u001b[0m\u001b[0;34m:\u001b[0m\u001b[0;34m\u001b[0m\u001b[0;34m\u001b[0m\u001b[0m\n\u001b[0;32m-> 1492\u001b[0;31m         \u001b[0mself\u001b[0m\u001b[0;34m.\u001b[0m\u001b[0mconfigure\u001b[0m\u001b[0;34m(\u001b[0m\u001b[0;34m{\u001b[0m\u001b[0mkey\u001b[0m\u001b[0;34m:\u001b[0m \u001b[0mvalue\u001b[0m\u001b[0;34m}\u001b[0m\u001b[0;34m)\u001b[0m\u001b[0;34m\u001b[0m\u001b[0;34m\u001b[0m\u001b[0m\n\u001b[0m\u001b[1;32m   1493\u001b[0m     \u001b[0;32mdef\u001b[0m \u001b[0mkeys\u001b[0m\u001b[0;34m(\u001b[0m\u001b[0mself\u001b[0m\u001b[0;34m)\u001b[0m\u001b[0;34m:\u001b[0m\u001b[0;34m\u001b[0m\u001b[0;34m\u001b[0m\u001b[0m\n\u001b[1;32m   1494\u001b[0m         \u001b[0;34m\"\"\"Return a list of all resource names of this widget.\"\"\"\u001b[0m\u001b[0;34m\u001b[0m\u001b[0;34m\u001b[0m\u001b[0m\n",
      "\u001b[0;32m~/anaconda3/lib/python3.7/tkinter/__init__.py\u001b[0m in \u001b[0;36mconfigure\u001b[0;34m(self, cnf, **kw)\u001b[0m\n\u001b[1;32m   1483\u001b[0m         \u001b[0mthe\u001b[0m \u001b[0mallowed\u001b[0m \u001b[0mkeyword\u001b[0m \u001b[0marguments\u001b[0m \u001b[0mcall\u001b[0m \u001b[0mthe\u001b[0m \u001b[0mmethod\u001b[0m \u001b[0mkeys\u001b[0m\u001b[0;34m.\u001b[0m\u001b[0;34m\u001b[0m\u001b[0;34m\u001b[0m\u001b[0m\n\u001b[1;32m   1484\u001b[0m         \"\"\"\n\u001b[0;32m-> 1485\u001b[0;31m         \u001b[0;32mreturn\u001b[0m \u001b[0mself\u001b[0m\u001b[0;34m.\u001b[0m\u001b[0m_configure\u001b[0m\u001b[0;34m(\u001b[0m\u001b[0;34m'configure'\u001b[0m\u001b[0;34m,\u001b[0m \u001b[0mcnf\u001b[0m\u001b[0;34m,\u001b[0m \u001b[0mkw\u001b[0m\u001b[0;34m)\u001b[0m\u001b[0;34m\u001b[0m\u001b[0;34m\u001b[0m\u001b[0m\n\u001b[0m\u001b[1;32m   1486\u001b[0m     \u001b[0mconfig\u001b[0m \u001b[0;34m=\u001b[0m \u001b[0mconfigure\u001b[0m\u001b[0;34m\u001b[0m\u001b[0;34m\u001b[0m\u001b[0m\n\u001b[1;32m   1487\u001b[0m     \u001b[0;32mdef\u001b[0m \u001b[0mcget\u001b[0m\u001b[0;34m(\u001b[0m\u001b[0mself\u001b[0m\u001b[0;34m,\u001b[0m \u001b[0mkey\u001b[0m\u001b[0;34m)\u001b[0m\u001b[0;34m:\u001b[0m\u001b[0;34m\u001b[0m\u001b[0;34m\u001b[0m\u001b[0m\n",
      "\u001b[0;32m~/anaconda3/lib/python3.7/tkinter/__init__.py\u001b[0m in \u001b[0;36m_configure\u001b[0;34m(self, cmd, cnf, kw)\u001b[0m\n\u001b[1;32m   1474\u001b[0m         \u001b[0;32mif\u001b[0m \u001b[0misinstance\u001b[0m\u001b[0;34m(\u001b[0m\u001b[0mcnf\u001b[0m\u001b[0;34m,\u001b[0m \u001b[0mstr\u001b[0m\u001b[0;34m)\u001b[0m\u001b[0;34m:\u001b[0m\u001b[0;34m\u001b[0m\u001b[0;34m\u001b[0m\u001b[0m\n\u001b[1;32m   1475\u001b[0m             \u001b[0;32mreturn\u001b[0m \u001b[0mself\u001b[0m\u001b[0;34m.\u001b[0m\u001b[0m_getconfigure1\u001b[0m\u001b[0;34m(\u001b[0m\u001b[0m_flatten\u001b[0m\u001b[0;34m(\u001b[0m\u001b[0;34m(\u001b[0m\u001b[0mself\u001b[0m\u001b[0;34m.\u001b[0m\u001b[0m_w\u001b[0m\u001b[0;34m,\u001b[0m \u001b[0mcmd\u001b[0m\u001b[0;34m,\u001b[0m \u001b[0;34m'-'\u001b[0m\u001b[0;34m+\u001b[0m\u001b[0mcnf\u001b[0m\u001b[0;34m)\u001b[0m\u001b[0;34m)\u001b[0m\u001b[0;34m)\u001b[0m\u001b[0;34m\u001b[0m\u001b[0;34m\u001b[0m\u001b[0m\n\u001b[0;32m-> 1476\u001b[0;31m         \u001b[0mself\u001b[0m\u001b[0;34m.\u001b[0m\u001b[0mtk\u001b[0m\u001b[0;34m.\u001b[0m\u001b[0mcall\u001b[0m\u001b[0;34m(\u001b[0m\u001b[0m_flatten\u001b[0m\u001b[0;34m(\u001b[0m\u001b[0;34m(\u001b[0m\u001b[0mself\u001b[0m\u001b[0;34m.\u001b[0m\u001b[0m_w\u001b[0m\u001b[0;34m,\u001b[0m \u001b[0mcmd\u001b[0m\u001b[0;34m)\u001b[0m\u001b[0;34m)\u001b[0m \u001b[0;34m+\u001b[0m \u001b[0mself\u001b[0m\u001b[0;34m.\u001b[0m\u001b[0m_options\u001b[0m\u001b[0;34m(\u001b[0m\u001b[0mcnf\u001b[0m\u001b[0;34m)\u001b[0m\u001b[0;34m)\u001b[0m\u001b[0;34m\u001b[0m\u001b[0;34m\u001b[0m\u001b[0m\n\u001b[0m\u001b[1;32m   1477\u001b[0m     \u001b[0;31m# These used to be defined in Widget:\u001b[0m\u001b[0;34m\u001b[0m\u001b[0;34m\u001b[0m\u001b[0;34m\u001b[0m\u001b[0m\n\u001b[1;32m   1478\u001b[0m     \u001b[0;32mdef\u001b[0m \u001b[0mconfigure\u001b[0m\u001b[0;34m(\u001b[0m\u001b[0mself\u001b[0m\u001b[0;34m,\u001b[0m \u001b[0mcnf\u001b[0m\u001b[0;34m=\u001b[0m\u001b[0;32mNone\u001b[0m\u001b[0;34m,\u001b[0m \u001b[0;34m**\u001b[0m\u001b[0mkw\u001b[0m\u001b[0;34m)\u001b[0m\u001b[0;34m:\u001b[0m\u001b[0;34m\u001b[0m\u001b[0;34m\u001b[0m\u001b[0m\n",
      "\u001b[0;31mTclError\u001b[0m: invalid command name \".!label\""
     ]
    }
   ],
   "source": [
    "import time \n",
    "from tkinter import *\n",
    "win=Tk()\n",
    "timer_label=Label(win,bg='black',fg='red',font='times 22 bold')\n",
    "timer_label.grid()\n",
    "for i in range(1,61):\n",
    "    timer_label['text']=str(i)\n",
    "    timer_label.update()\n",
    "    timer_label.after(1600)\n",
    "win.mainloop()"
   ]
  },
  {
   "cell_type": "markdown",
   "metadata": {},
   "source": [
    "# Introduction to the Python tkinter Frame widget"
   ]
  },
  {
   "cell_type": "raw",
   "metadata": {},
   "source": [
    "A frame is rectangular region of the screen it is mainly used as a geometry master       for other widget i.e it is CONTAINER widget.\n",
    "-------------------------------------------------------------------------------------\n",
    "Frame widget is used to group other widget into COMPLEX LAYOUTS\n",
    "-------------------------------------------------------------------------------------\n",
    "PADDING between widgets can be provided by a frame widget.\n",
    "-------------------------------------------------------------------------------------\n",
    "A frame class can also act as a BASE CLASS when implementing compountd widgets.\n",
    "-------------------------------------------------------------------------------------"
   ]
  },
  {
   "cell_type": "code",
   "execution_count": 2,
   "metadata": {},
   "outputs": [
    {
     "ename": "TclError",
     "evalue": "unknown option \"-text\"",
     "output_type": "error",
     "traceback": [
      "\u001b[1;31m---------------------------------------------------------------------------\u001b[0m",
      "\u001b[1;31mTclError\u001b[0m                                  Traceback (most recent call last)",
      "\u001b[1;32m<ipython-input-2-ac2ea5505a38>\u001b[0m in \u001b[0;36m<module>\u001b[1;34m\u001b[0m\n\u001b[0;32m      2\u001b[0m \u001b[0mwin\u001b[0m\u001b[1;33m=\u001b[0m\u001b[0mTk\u001b[0m\u001b[1;33m(\u001b[0m\u001b[1;33m)\u001b[0m\u001b[1;33m\u001b[0m\u001b[1;33m\u001b[0m\u001b[0m\n\u001b[0;32m      3\u001b[0m \u001b[0mwin\u001b[0m\u001b[1;33m.\u001b[0m\u001b[0mconfig\u001b[0m\u001b[1;33m(\u001b[0m\u001b[0mbg\u001b[0m\u001b[1;33m=\u001b[0m\u001b[1;34m'yellow'\u001b[0m\u001b[1;33m)\u001b[0m\u001b[1;33m\u001b[0m\u001b[1;33m\u001b[0m\u001b[0m\n\u001b[1;32m----> 4\u001b[1;33m \u001b[0mframe\u001b[0m\u001b[1;33m=\u001b[0m\u001b[0mFrame\u001b[0m\u001b[1;33m(\u001b[0m\u001b[0mwin\u001b[0m\u001b[1;33m,\u001b[0m\u001b[0mtext\u001b[0m\u001b[1;33m=\u001b[0m\u001b[1;34m'frame 1'\u001b[0m\u001b[1;33m,\u001b[0m\u001b[0mbg\u001b[0m\u001b[1;33m=\u001b[0m\u001b[1;34m'green'\u001b[0m\u001b[1;33m,\u001b[0m\u001b[0mwidth\u001b[0m\u001b[1;33m=\u001b[0m\u001b[1;36m50\u001b[0m\u001b[1;33m,\u001b[0m\u001b[0mheight\u001b[0m\u001b[1;33m=\u001b[0m\u001b[1;36m30\u001b[0m\u001b[1;33m)\u001b[0m\u001b[1;33m\u001b[0m\u001b[1;33m\u001b[0m\u001b[0m\n\u001b[0m\u001b[0;32m      5\u001b[0m \u001b[0mlabel_first\u001b[0m\u001b[1;33m=\u001b[0m\u001b[0mLabel\u001b[0m\u001b[1;33m(\u001b[0m\u001b[0mframe\u001b[0m\u001b[1;33m,\u001b[0m\u001b[0mtext\u001b[0m\u001b[1;33m=\u001b[0m\u001b[1;34m'First Name : '\u001b[0m\u001b[1;33m)\u001b[0m\u001b[1;33m\u001b[0m\u001b[1;33m\u001b[0m\u001b[0m\n\u001b[0;32m      6\u001b[0m \u001b[0mlabel_middle\u001b[0m\u001b[1;33m=\u001b[0m\u001b[0mLabel\u001b[0m\u001b[1;33m(\u001b[0m\u001b[0mframe\u001b[0m\u001b[1;33m,\u001b[0m\u001b[0mtext\u001b[0m\u001b[1;33m=\u001b[0m\u001b[1;34m'Middle Name : '\u001b[0m\u001b[1;33m)\u001b[0m\u001b[1;33m\u001b[0m\u001b[1;33m\u001b[0m\u001b[0m\n",
      "\u001b[1;32mC:\\ProgramData\\Anaconda3\\lib\\tkinter\\__init__.py\u001b[0m in \u001b[0;36m__init__\u001b[1;34m(self, master, cnf, **kw)\u001b[0m\n\u001b[0;32m   3117\u001b[0m             \u001b[0mextra\u001b[0m \u001b[1;33m=\u001b[0m \u001b[1;33m(\u001b[0m\u001b[1;34m'-class'\u001b[0m\u001b[1;33m,\u001b[0m \u001b[0mcnf\u001b[0m\u001b[1;33m[\u001b[0m\u001b[1;34m'class'\u001b[0m\u001b[1;33m]\u001b[0m\u001b[1;33m)\u001b[0m\u001b[1;33m\u001b[0m\u001b[1;33m\u001b[0m\u001b[0m\n\u001b[0;32m   3118\u001b[0m             \u001b[1;32mdel\u001b[0m \u001b[0mcnf\u001b[0m\u001b[1;33m[\u001b[0m\u001b[1;34m'class'\u001b[0m\u001b[1;33m]\u001b[0m\u001b[1;33m\u001b[0m\u001b[1;33m\u001b[0m\u001b[0m\n\u001b[1;32m-> 3119\u001b[1;33m         \u001b[0mWidget\u001b[0m\u001b[1;33m.\u001b[0m\u001b[0m__init__\u001b[0m\u001b[1;33m(\u001b[0m\u001b[0mself\u001b[0m\u001b[1;33m,\u001b[0m \u001b[0mmaster\u001b[0m\u001b[1;33m,\u001b[0m \u001b[1;34m'frame'\u001b[0m\u001b[1;33m,\u001b[0m \u001b[0mcnf\u001b[0m\u001b[1;33m,\u001b[0m \u001b[1;33m{\u001b[0m\u001b[1;33m}\u001b[0m\u001b[1;33m,\u001b[0m \u001b[0mextra\u001b[0m\u001b[1;33m)\u001b[0m\u001b[1;33m\u001b[0m\u001b[1;33m\u001b[0m\u001b[0m\n\u001b[0m\u001b[0;32m   3120\u001b[0m \u001b[1;33m\u001b[0m\u001b[0m\n\u001b[0;32m   3121\u001b[0m \u001b[1;33m\u001b[0m\u001b[0m\n",
      "\u001b[1;32mC:\\ProgramData\\Anaconda3\\lib\\tkinter\\__init__.py\u001b[0m in \u001b[0;36m__init__\u001b[1;34m(self, master, widgetName, cnf, kw, extra)\u001b[0m\n\u001b[0;32m   2565\u001b[0m         \u001b[1;32mfor\u001b[0m \u001b[0mk\u001b[0m\u001b[1;33m,\u001b[0m \u001b[0mv\u001b[0m \u001b[1;32min\u001b[0m \u001b[0mclasses\u001b[0m\u001b[1;33m:\u001b[0m\u001b[1;33m\u001b[0m\u001b[1;33m\u001b[0m\u001b[0m\n\u001b[0;32m   2566\u001b[0m             \u001b[1;32mdel\u001b[0m \u001b[0mcnf\u001b[0m\u001b[1;33m[\u001b[0m\u001b[0mk\u001b[0m\u001b[1;33m]\u001b[0m\u001b[1;33m\u001b[0m\u001b[1;33m\u001b[0m\u001b[0m\n\u001b[1;32m-> 2567\u001b[1;33m         self.tk.call(\n\u001b[0m\u001b[0;32m   2568\u001b[0m             (widgetName, self._w) + extra + self._options(cnf))\n\u001b[0;32m   2569\u001b[0m         \u001b[1;32mfor\u001b[0m \u001b[0mk\u001b[0m\u001b[1;33m,\u001b[0m \u001b[0mv\u001b[0m \u001b[1;32min\u001b[0m \u001b[0mclasses\u001b[0m\u001b[1;33m:\u001b[0m\u001b[1;33m\u001b[0m\u001b[1;33m\u001b[0m\u001b[0m\n",
      "\u001b[1;31mTclError\u001b[0m: unknown option \"-text\""
     ]
    }
   ],
   "source": [
    "from tkinter import *\n",
    "win=Tk()\n",
    "win.config(bg='yellow')\n",
    "frame=Frame(win,bg='green',width=50,height=30)\n",
    "label_first=Label(frame,text='First Name : ')\n",
    "label_middle=Label(frame,text='Middle Name : ')\n",
    "label_surname=Label(frame,text='Surname : ')\n",
    "\n",
    "entry_first=Entry(frame)\n",
    "entry_middle=Entry(frame)\n",
    "entry_surname=Entry(frame)\n",
    "\n",
    "submit_button=Button(frame,text='    Submit    ')\n",
    "\n",
    "label_first.grid(row=0,column=0)\n",
    "label_middle.grid(row=1,column=0)\n",
    "label_surname.grid(row=2,column=0)\n",
    "\n",
    "entry_first.grid(row=0,column=1)\n",
    "entry_middle.grid(row=1,column=1)\n",
    "entry_surname.grid(row=2,column=1)\n",
    "\n",
    "submit_button.grid(row=3,columnspan=2)#<------columnspan=2-----------\n",
    "\n",
    "frame.grid(row=0,column=0)\n",
    "\n",
    "win.mainloop()"
   ]
  },
  {
   "cell_type": "markdown",
   "metadata": {},
   "source": [
    "# Adding Frames to a Python tkinter window"
   ]
  },
  {
   "cell_type": "code",
   "execution_count": 11,
   "metadata": {},
   "outputs": [],
   "source": [
    "from tkinter import *\n",
    "win=Tk()\n",
    "win.config(bg='yellow')\n",
    "frame=Frame(win,bg='navy',bd=5,relief='solid')\n",
    "label_first=Label(frame,text='First Name  ',bg='navy',fg='white')\n",
    "label_middle=Label(frame,text='Middle Name  ',bg='navy',fg='white')\n",
    "label_surname=Label(frame,text='Surname  ',bg='navy',fg='white')\n",
    "\n",
    "entry_first=Entry(frame)\n",
    "entry_middle=Entry(frame)\n",
    "entry_surname=Entry(frame)\n",
    "\n",
    "submit_button=Button(frame,text='    Submit    ')\n",
    "\n",
    "label_first.grid(row=0,column=0,sticky=W)\n",
    "label_middle.grid(row=1,column=0,sticky=W)\n",
    "label_surname.grid(row=2,column=0,sticky=W)\n",
    "\n",
    "entry_first.grid(row=0,column=1)\n",
    "entry_middle.grid(row=1,column=1)\n",
    "entry_surname.grid(row=2,column=1)\n",
    "\n",
    "submit_button.grid(row=3,columnspan=2)#<------columnspan=2-----------\n",
    "\n",
    "frame.grid(row=0,column=0)\n",
    "\n",
    "####################################################################################\n",
    "\n",
    "frame_1=Frame(win,bg='navy',bd=5,relief='solid')\n",
    "label_first_1=Label(frame_1,text='First line  ',bg='navy',fg='white')\n",
    "label_middle_1=Label(frame_1,text='Town  ',bg='navy',fg='white')\n",
    "label_surname_1=Label(frame_1,text='Country  ',bg='navy',fg='white')\n",
    "\n",
    "entry_first_1=Entry(frame_1)\n",
    "entry_middle_1=Entry(frame_1)\n",
    "entry_surname_1=Entry(frame_1)\n",
    "\n",
    "submit_button_1=Button(frame_1,text='    Submit    ')\n",
    "\n",
    "label_first_1.grid(row=0,column=0,sticky=W)\n",
    "label_middle_1.grid(row=1,column=0,sticky=W)\n",
    "label_surname_1.grid(row=2,column=0,sticky=W)\n",
    "\n",
    "entry_first_1.grid(row=0,column=1)\n",
    "entry_middle_1.grid(row=1,column=1)\n",
    "entry_surname_1.grid(row=2,column=1)\n",
    "\n",
    "submit_button_1.grid(row=3,columnspan=2)#<------columnspan=2-----------\n",
    "\n",
    "frame_1.grid(row=0,column=1)\n",
    "\n",
    "win.mainloop()"
   ]
  },
  {
   "cell_type": "code",
   "execution_count": 5,
   "metadata": {},
   "outputs": [],
   "source": [
    "from tkinter import *\n",
    "win=Tk()\n",
    "win.config(bg='yellow')\n",
    "frame=Frame(win,bg='navy',bd=5,relief='solid')\n",
    "label_first=Label(frame,text='First Name  ',bg='navy',fg='white')\n",
    "label_middle=Label(frame,text='Middle Name  ',bg='navy',fg='white')\n",
    "label_surname=Label(frame,text='Surname  ',bg='navy',fg='white')\n",
    "\n",
    "entry_first=Entry(frame)\n",
    "entry_middle=Entry(frame)\n",
    "entry_surname=Entry(frame)\n",
    "\n",
    "submit_button=Button(frame,text='    Submit    ')\n",
    "\n",
    "label_first.grid(row=0,column=0,sticky=W)\n",
    "label_middle.grid(row=1,column=0,sticky=W)\n",
    "label_surname.grid(row=2,column=0,sticky=W)\n",
    "\n",
    "entry_first.grid(row=0,column=1)\n",
    "entry_middle.grid(row=1,column=1)\n",
    "entry_surname.grid(row=2,column=1)\n",
    "\n",
    "submit_button.grid(row=3,columnspan=2)#<------columnspan=2-----------\n",
    "\n",
    "frame.grid(row=0,column=0,padx=10)#padx <-------------\n",
    "####################################################################################\n",
    "\n",
    "frame_1=Frame(win,bg='navy',bd=5,relief='solid')\n",
    "label_first_1=Label(frame_1,text='First line  ',bg='navy',fg='white')\n",
    "label_middle_1=Label(frame_1,text='Town  ',bg='navy',fg='white')\n",
    "label_surname_1=Label(frame_1,text='Country  ',bg='navy',fg='white')\n",
    "\n",
    "entry_first_1=Entry(frame_1)\n",
    "entry_middle_1=Entry(frame_1)\n",
    "entry_surname_1=Entry(frame_1)\n",
    "\n",
    "submit_button_1=Button(frame_1,text='    Submit    ')\n",
    "\n",
    "label_first_1.grid(row=0,column=0,sticky=W)\n",
    "label_middle_1.grid(row=1,column=0,sticky=W)\n",
    "label_surname_1.grid(row=2,column=0,sticky=W)\n",
    "\n",
    "entry_first_1.grid(row=0,column=1)\n",
    "entry_middle_1.grid(row=1,column=1)\n",
    "entry_surname_1.grid(row=2,column=1)\n",
    "\n",
    "submit_button_1.grid(row=3,columnspan=2)#<------columnspan=2-----------\n",
    "\n",
    "frame_1.grid(row=0,column=1,padx=10)#padx <-------------\n",
    "\n",
    "win.mainloop()"
   ]
  },
  {
   "cell_type": "markdown",
   "metadata": {},
   "source": [
    "# How to Inherit from a tkinter Python tkinter Frame"
   ]
  },
  {
   "cell_type": "code",
   "execution_count": 6,
   "metadata": {},
   "outputs": [],
   "source": [
    "from tkinter import *\n",
    "win=Tk()\n",
    "frame_a=Frame(win,height=150,width=150,relief='raised',bd=8,bg='red')#Here we can use RAISED in place of 'raised'\n",
    "frame_b=Frame(win,height=400,width=500,relief=SUNKEN,bd=8,bg='green')#Here we can use 'sunken'in place of 'sunken'\n",
    "frame_a.grid(row=0,column=0)\n",
    "frame_b.grid(row=0,column=1)\n",
    "\n",
    "win.mainloop()"
   ]
  },
  {
   "cell_type": "code",
   "execution_count": 7,
   "metadata": {},
   "outputs": [],
   "source": [
    "from tkinter import *\n",
    "win=Tk()\n",
    "class Red_frame(Frame):\n",
    "    def __init__(self,win):\n",
    "        super().__init__()\n",
    "        self['height']=150\n",
    "        self['width']=150\n",
    "        self['bd']=2\n",
    "        self['relief']=RAISED\n",
    "        self['bg']='blue'\n",
    "frame=Red_frame(win)\n",
    "frame.grid(row=0,column=0)\n",
    "win.mainloop()"
   ]
  },
  {
   "cell_type": "code",
   "execution_count": 21,
   "metadata": {},
   "outputs": [],
   "source": [
    "from tkinter import *\n",
    "win=Tk()\n",
    "class Red_frame(Frame):\n",
    "    def __init__(self,win):\n",
    "        super().__init__()\n",
    "        self['height']=150\n",
    "        self['width']=150\n",
    "        self['bd']=2\n",
    "        self['relief']=RAISED\n",
    "        self['bg']='blue'\n",
    "frame=Red_frame(win)\n",
    "frame.grid(row=0,column=0)\n",
    "frame1=Red_frame(win)#2nd object intantiation i.e 2nd frame\n",
    "frame1.grid(row=1,column=1)\n",
    "frame1['bg']='red'#<-----------------------------------------\n",
    "win.mainloop()"
   ]
  },
  {
   "cell_type": "markdown",
   "metadata": {},
   "source": [
    "# Python tkinter Inheritance self and init"
   ]
  },
  {
   "cell_type": "code",
   "execution_count": 22,
   "metadata": {},
   "outputs": [
    {
     "name": "stdout",
     "output_type": "stream",
     "text": [
      "The id of frame_a is 139720909479504\n",
      "The id of frame_b is 139720909443536\n"
     ]
    }
   ],
   "source": [
    "from tkinter import *\n",
    "win=Tk()\n",
    "class Red_frame(Frame):\n",
    "    def __init__(self,win):\n",
    "        super().__init__()\n",
    "        self['height']=150\n",
    "        self['width']=150\n",
    "        self['bd']=2\n",
    "        self['relief']=RAISED\n",
    "        self['bg']='blue'\n",
    "frame_a=Red_frame(win)\n",
    "print(f'The id of frame_a is {id(frame_a)}')\n",
    "frame_b=Red_frame(win)\n",
    "print(f'The id of frame_b is {id(frame_b)}')\n",
    "frame_a.grid(row=0,column=0)\n",
    "frame_b.grid(row=0,column=1)\n",
    "\n",
    "win.mainloop()"
   ]
  },
  {
   "cell_type": "markdown",
   "metadata": {},
   "source": [
    "# Using the help function to assist with inheritance"
   ]
  },
  {
   "cell_type": "code",
   "execution_count": 23,
   "metadata": {
    "collapsed": true
   },
   "outputs": [
    {
     "name": "stdout",
     "output_type": "stream",
     "text": [
      "Help on class Frame in module tkinter:\n",
      "\n",
      "class Frame(Widget)\n",
      " |  Frame(master=None, cnf={}, **kw)\n",
      " |  \n",
      " |  Frame widget which may contain other widgets and can have a 3D border.\n",
      " |  \n",
      " |  Method resolution order:\n",
      " |      Frame\n",
      " |      Widget\n",
      " |      BaseWidget\n",
      " |      Misc\n",
      " |      Pack\n",
      " |      Place\n",
      " |      Grid\n",
      " |      builtins.object\n",
      " |  \n",
      " |  Methods defined here:\n",
      " |  \n",
      " |  __init__(self, master=None, cnf={}, **kw)\n",
      " |      Construct a frame widget with the parent MASTER.\n",
      " |      \n",
      " |      Valid resource names: background, bd, bg, borderwidth, class,\n",
      " |      colormap, container, cursor, height, highlightbackground,\n",
      " |      highlightcolor, highlightthickness, relief, takefocus, visual, width.\n",
      " |  \n",
      " |  ----------------------------------------------------------------------\n",
      " |  Methods inherited from BaseWidget:\n",
      " |  \n",
      " |  destroy(self)\n",
      " |      Destroy this and all descendants widgets.\n",
      " |  \n",
      " |  ----------------------------------------------------------------------\n",
      " |  Methods inherited from Misc:\n",
      " |  \n",
      " |  __getitem__ = cget(self, key)\n",
      " |  \n",
      " |  __repr__(self)\n",
      " |      Return repr(self).\n",
      " |  \n",
      " |  __setitem__(self, key, value)\n",
      " |  \n",
      " |  __str__(self)\n",
      " |      Return the window path name of this widget.\n",
      " |  \n",
      " |  after(self, ms, func=None, *args)\n",
      " |      Call function once after given time.\n",
      " |      \n",
      " |      MS specifies the time in milliseconds. FUNC gives the\n",
      " |      function which shall be called. Additional parameters\n",
      " |      are given as parameters to the function call.  Return\n",
      " |      identifier to cancel scheduling with after_cancel.\n",
      " |  \n",
      " |  after_cancel(self, id)\n",
      " |      Cancel scheduling of function identified with ID.\n",
      " |      \n",
      " |      Identifier returned by after or after_idle must be\n",
      " |      given as first parameter.\n",
      " |  \n",
      " |  after_idle(self, func, *args)\n",
      " |      Call FUNC once if the Tcl main loop has no event to\n",
      " |      process.\n",
      " |      \n",
      " |      Return an identifier to cancel the scheduling with\n",
      " |      after_cancel.\n",
      " |  \n",
      " |  anchor = grid_anchor(self, anchor=None)\n",
      " |  \n",
      " |  bbox = grid_bbox(self, column=None, row=None, col2=None, row2=None)\n",
      " |  \n",
      " |  bell(self, displayof=0)\n",
      " |      Ring a display's bell.\n",
      " |  \n",
      " |  bind(self, sequence=None, func=None, add=None)\n",
      " |      Bind to this widget at event SEQUENCE a call to function FUNC.\n",
      " |      \n",
      " |      SEQUENCE is a string of concatenated event\n",
      " |      patterns. An event pattern is of the form\n",
      " |      <MODIFIER-MODIFIER-TYPE-DETAIL> where MODIFIER is one\n",
      " |      of Control, Mod2, M2, Shift, Mod3, M3, Lock, Mod4, M4,\n",
      " |      Button1, B1, Mod5, M5 Button2, B2, Meta, M, Button3,\n",
      " |      B3, Alt, Button4, B4, Double, Button5, B5 Triple,\n",
      " |      Mod1, M1. TYPE is one of Activate, Enter, Map,\n",
      " |      ButtonPress, Button, Expose, Motion, ButtonRelease\n",
      " |      FocusIn, MouseWheel, Circulate, FocusOut, Property,\n",
      " |      Colormap, Gravity Reparent, Configure, KeyPress, Key,\n",
      " |      Unmap, Deactivate, KeyRelease Visibility, Destroy,\n",
      " |      Leave and DETAIL is the button number for ButtonPress,\n",
      " |      ButtonRelease and DETAIL is the Keysym for KeyPress and\n",
      " |      KeyRelease. Examples are\n",
      " |      <Control-Button-1> for pressing Control and mouse button 1 or\n",
      " |      <Alt-A> for pressing A and the Alt key (KeyPress can be omitted).\n",
      " |      An event pattern can also be a virtual event of the form\n",
      " |      <<AString>> where AString can be arbitrary. This\n",
      " |      event can be generated by event_generate.\n",
      " |      If events are concatenated they must appear shortly\n",
      " |      after each other.\n",
      " |      \n",
      " |      FUNC will be called if the event sequence occurs with an\n",
      " |      instance of Event as argument. If the return value of FUNC is\n",
      " |      \"break\" no further bound function is invoked.\n",
      " |      \n",
      " |      An additional boolean parameter ADD specifies whether FUNC will\n",
      " |      be called additionally to the other bound function or whether\n",
      " |      it will replace the previous function.\n",
      " |      \n",
      " |      Bind will return an identifier to allow deletion of the bound function with\n",
      " |      unbind without memory leak.\n",
      " |      \n",
      " |      If FUNC or SEQUENCE is omitted the bound function or list\n",
      " |      of bound events are returned.\n",
      " |  \n",
      " |  bind_all(self, sequence=None, func=None, add=None)\n",
      " |      Bind to all widgets at an event SEQUENCE a call to function FUNC.\n",
      " |      An additional boolean parameter ADD specifies whether FUNC will\n",
      " |      be called additionally to the other bound function or whether\n",
      " |      it will replace the previous function. See bind for the return value.\n",
      " |  \n",
      " |  bind_class(self, className, sequence=None, func=None, add=None)\n",
      " |      Bind to widgets with bindtag CLASSNAME at event\n",
      " |      SEQUENCE a call of function FUNC. An additional\n",
      " |      boolean parameter ADD specifies whether FUNC will be\n",
      " |      called additionally to the other bound function or\n",
      " |      whether it will replace the previous function. See bind for\n",
      " |      the return value.\n",
      " |  \n",
      " |  bindtags(self, tagList=None)\n",
      " |      Set or get the list of bindtags for this widget.\n",
      " |      \n",
      " |      With no argument return the list of all bindtags associated with\n",
      " |      this widget. With a list of strings as argument the bindtags are\n",
      " |      set to this list. The bindtags determine in which order events are\n",
      " |      processed (see bind).\n",
      " |  \n",
      " |  cget(self, key)\n",
      " |      Return the resource value for a KEY given as string.\n",
      " |  \n",
      " |  clipboard_append(self, string, **kw)\n",
      " |      Append STRING to the Tk clipboard.\n",
      " |      \n",
      " |      A widget specified at the optional displayof keyword\n",
      " |      argument specifies the target display. The clipboard\n",
      " |      can be retrieved with selection_get.\n",
      " |  \n",
      " |  clipboard_clear(self, **kw)\n",
      " |      Clear the data in the Tk clipboard.\n",
      " |      \n",
      " |      A widget specified for the optional displayof keyword\n",
      " |      argument specifies the target display.\n",
      " |  \n",
      " |  clipboard_get(self, **kw)\n",
      " |      Retrieve data from the clipboard on window's display.\n",
      " |      \n",
      " |      The window keyword defaults to the root window of the Tkinter\n",
      " |      application.\n",
      " |      \n",
      " |      The type keyword specifies the form in which the data is\n",
      " |      to be returned and should be an atom name such as STRING\n",
      " |      or FILE_NAME.  Type defaults to STRING, except on X11, where the default\n",
      " |      is to try UTF8_STRING and fall back to STRING.\n",
      " |      \n",
      " |      This command is equivalent to:\n",
      " |      \n",
      " |      selection_get(CLIPBOARD)\n",
      " |  \n",
      " |  columnconfigure = grid_columnconfigure(self, index, cnf={}, **kw)\n",
      " |  \n",
      " |  config = configure(self, cnf=None, **kw)\n",
      " |  \n",
      " |  configure(self, cnf=None, **kw)\n",
      " |      Configure resources of a widget.\n",
      " |      \n",
      " |      The values for resources are specified as keyword\n",
      " |      arguments. To get an overview about\n",
      " |      the allowed keyword arguments call the method keys.\n",
      " |  \n",
      " |  deletecommand(self, name)\n",
      " |      Internal function.\n",
      " |      \n",
      " |      Delete the Tcl command provided in NAME.\n",
      " |  \n",
      " |  event_add(self, virtual, *sequences)\n",
      " |      Bind a virtual event VIRTUAL (of the form <<Name>>)\n",
      " |      to an event SEQUENCE such that the virtual event is triggered\n",
      " |      whenever SEQUENCE occurs.\n",
      " |  \n",
      " |  event_delete(self, virtual, *sequences)\n",
      " |      Unbind a virtual event VIRTUAL from SEQUENCE.\n",
      " |  \n",
      " |  event_generate(self, sequence, **kw)\n",
      " |      Generate an event SEQUENCE. Additional\n",
      " |      keyword arguments specify parameter of the event\n",
      " |      (e.g. x, y, rootx, rooty).\n",
      " |  \n",
      " |  event_info(self, virtual=None)\n",
      " |      Return a list of all virtual events or the information\n",
      " |      about the SEQUENCE bound to the virtual event VIRTUAL.\n",
      " |  \n",
      " |  focus = focus_set(self)\n",
      " |  \n",
      " |  focus_displayof(self)\n",
      " |      Return the widget which has currently the focus on the\n",
      " |      display where this widget is located.\n",
      " |      \n",
      " |      Return None if the application does not have the focus.\n",
      " |  \n",
      " |  focus_force(self)\n",
      " |      Direct input focus to this widget even if the\n",
      " |      application does not have the focus. Use with\n",
      " |      caution!\n",
      " |  \n",
      " |  focus_get(self)\n",
      " |      Return the widget which has currently the focus in the\n",
      " |      application.\n",
      " |      \n",
      " |      Use focus_displayof to allow working with several\n",
      " |      displays. Return None if application does not have\n",
      " |      the focus.\n",
      " |  \n",
      " |  focus_lastfor(self)\n",
      " |      Return the widget which would have the focus if top level\n",
      " |      for this widget gets the focus from the window manager.\n",
      " |  \n",
      " |  focus_set(self)\n",
      " |      Direct input focus to this widget.\n",
      " |      \n",
      " |      If the application currently does not have the focus\n",
      " |      this widget will get the focus if the application gets\n",
      " |      the focus through the window manager.\n",
      " |  \n",
      " |  getboolean(self, s)\n",
      " |      Return a boolean value for Tcl boolean values true and false given as parameter.\n",
      " |  \n",
      " |  getdouble(self, s)\n",
      " |  \n",
      " |  getint(self, s)\n",
      " |  \n",
      " |  getvar(self, name='PY_VAR')\n",
      " |      Return value of Tcl variable NAME.\n",
      " |  \n",
      " |  grab_current(self)\n",
      " |      Return widget which has currently the grab in this application\n",
      " |      or None.\n",
      " |  \n",
      " |  grab_release(self)\n",
      " |      Release grab for this widget if currently set.\n",
      " |  \n",
      " |  grab_set(self)\n",
      " |      Set grab for this widget.\n",
      " |      \n",
      " |      A grab directs all events to this and descendant\n",
      " |      widgets in the application.\n",
      " |  \n",
      " |  grab_set_global(self)\n",
      " |      Set global grab for this widget.\n",
      " |      \n",
      " |      A global grab directs all events to this and\n",
      " |      descendant widgets on the display. Use with caution -\n",
      " |      other applications do not get events anymore.\n",
      " |  \n",
      " |  grab_status(self)\n",
      " |      Return None, \"local\" or \"global\" if this widget has\n",
      " |      no, a local or a global grab.\n",
      " |  \n",
      " |  grid_anchor(self, anchor=None)\n",
      " |      The anchor value controls how to place the grid within the\n",
      " |      master when no row/column has any weight.\n",
      " |      \n",
      " |      The default anchor is nw.\n",
      " |  \n",
      " |  grid_bbox(self, column=None, row=None, col2=None, row2=None)\n",
      " |      Return a tuple of integer coordinates for the bounding\n",
      " |      box of this widget controlled by the geometry manager grid.\n",
      " |      \n",
      " |      If COLUMN, ROW is given the bounding box applies from\n",
      " |      the cell with row and column 0 to the specified\n",
      " |      cell. If COL2 and ROW2 are given the bounding box\n",
      " |      starts at that cell.\n",
      " |      \n",
      " |      The returned integers specify the offset of the upper left\n",
      " |      corner in the master widget and the width and height.\n",
      " |  \n",
      " |  grid_columnconfigure(self, index, cnf={}, **kw)\n",
      " |      Configure column INDEX of a grid.\n",
      " |      \n",
      " |      Valid resources are minsize (minimum size of the column),\n",
      " |      weight (how much does additional space propagate to this column)\n",
      " |      and pad (how much space to let additionally).\n",
      " |  \n",
      " |  grid_location(self, x, y)\n",
      " |      Return a tuple of column and row which identify the cell\n",
      " |      at which the pixel at position X and Y inside the master\n",
      " |      widget is located.\n",
      " |  \n",
      " |  grid_propagate(self, flag=['_noarg_'])\n",
      " |      Set or get the status for propagation of geometry information.\n",
      " |      \n",
      " |      A boolean argument specifies whether the geometry information\n",
      " |      of the slaves will determine the size of this widget. If no argument\n",
      " |      is given, the current setting will be returned.\n",
      " |  \n",
      " |  grid_rowconfigure(self, index, cnf={}, **kw)\n",
      " |      Configure row INDEX of a grid.\n",
      " |      \n",
      " |      Valid resources are minsize (minimum size of the row),\n",
      " |      weight (how much does additional space propagate to this row)\n",
      " |      and pad (how much space to let additionally).\n",
      " |  \n",
      " |  grid_size(self)\n",
      " |      Return a tuple of the number of column and rows in the grid.\n",
      " |  \n",
      " |  grid_slaves(self, row=None, column=None)\n",
      " |      Return a list of all slaves of this widget\n",
      " |      in its packing order.\n",
      " |  \n",
      " |  image_names(self)\n",
      " |      Return a list of all existing image names.\n",
      " |  \n",
      " |  image_types(self)\n",
      " |      Return a list of all available image types (e.g. photo bitmap).\n",
      " |  \n",
      " |  keys(self)\n",
      " |      Return a list of all resource names of this widget.\n",
      " |  \n",
      " |  lift = tkraise(self, aboveThis=None)\n",
      " |  \n",
      " |  lower(self, belowThis=None)\n",
      " |      Lower this widget in the stacking order.\n",
      " |  \n",
      " |  mainloop(self, n=0)\n",
      " |      Call the mainloop of Tk.\n",
      " |  \n",
      " |  nametowidget(self, name)\n",
      " |      Return the Tkinter instance of a widget identified by\n",
      " |      its Tcl name NAME.\n",
      " |  \n",
      " |  option_add(self, pattern, value, priority=None)\n",
      " |      Set a VALUE (second parameter) for an option\n",
      " |      PATTERN (first parameter).\n",
      " |      \n",
      " |      An optional third parameter gives the numeric priority\n",
      " |      (defaults to 80).\n",
      " |  \n",
      " |  option_clear(self)\n",
      " |      Clear the option database.\n",
      " |      \n",
      " |      It will be reloaded if option_add is called.\n",
      " |  \n",
      " |  option_get(self, name, className)\n",
      " |      Return the value for an option NAME for this widget\n",
      " |      with CLASSNAME.\n",
      " |      \n",
      " |      Values with higher priority override lower values.\n",
      " |  \n",
      " |  option_readfile(self, fileName, priority=None)\n",
      " |      Read file FILENAME into the option database.\n",
      " |      \n",
      " |      An optional second parameter gives the numeric\n",
      " |      priority.\n",
      " |  \n",
      " |  pack_propagate(self, flag=['_noarg_'])\n",
      " |      Set or get the status for propagation of geometry information.\n",
      " |      \n",
      " |      A boolean argument specifies whether the geometry information\n",
      " |      of the slaves will determine the size of this widget. If no argument\n",
      " |      is given the current setting will be returned.\n",
      " |  \n",
      " |  pack_slaves(self)\n",
      " |      Return a list of all slaves of this widget\n",
      " |      in its packing order.\n",
      " |  \n",
      " |  place_slaves(self)\n",
      " |      Return a list of all slaves of this widget\n",
      " |      in its packing order.\n",
      " |  \n",
      " |  propagate = pack_propagate(self, flag=['_noarg_'])\n",
      " |  \n",
      " |  quit(self)\n",
      " |      Quit the Tcl interpreter. All widgets will be destroyed.\n",
      " |  \n",
      " |  register = _register(self, func, subst=None, needcleanup=1)\n",
      " |  \n",
      " |  rowconfigure = grid_rowconfigure(self, index, cnf={}, **kw)\n",
      " |  \n",
      " |  selection_clear(self, **kw)\n",
      " |      Clear the current X selection.\n",
      " |  \n",
      " |  selection_get(self, **kw)\n",
      " |      Return the contents of the current X selection.\n",
      " |      \n",
      " |      A keyword parameter selection specifies the name of\n",
      " |      the selection and defaults to PRIMARY.  A keyword\n",
      " |      parameter displayof specifies a widget on the display\n",
      " |      to use. A keyword parameter type specifies the form of data to be\n",
      " |      fetched, defaulting to STRING except on X11, where UTF8_STRING is tried\n",
      " |      before STRING.\n",
      " |  \n",
      " |  selection_handle(self, command, **kw)\n",
      " |      Specify a function COMMAND to call if the X\n",
      " |      selection owned by this widget is queried by another\n",
      " |      application.\n",
      " |      \n",
      " |      This function must return the contents of the\n",
      " |      selection. The function will be called with the\n",
      " |      arguments OFFSET and LENGTH which allows the chunking\n",
      " |      of very long selections. The following keyword\n",
      " |      parameters can be provided:\n",
      " |      selection - name of the selection (default PRIMARY),\n",
      " |      type - type of the selection (e.g. STRING, FILE_NAME).\n",
      " |  \n",
      " |  selection_own(self, **kw)\n",
      " |      Become owner of X selection.\n",
      " |      \n",
      " |      A keyword parameter selection specifies the name of\n",
      " |      the selection (default PRIMARY).\n",
      " |  \n",
      " |  selection_own_get(self, **kw)\n",
      " |      Return owner of X selection.\n",
      " |      \n",
      " |      The following keyword parameter can\n",
      " |      be provided:\n",
      " |      selection - name of the selection (default PRIMARY),\n",
      " |      type - type of the selection (e.g. STRING, FILE_NAME).\n",
      " |  \n",
      " |  send(self, interp, cmd, *args)\n",
      " |      Send Tcl command CMD to different interpreter INTERP to be executed.\n",
      " |  \n",
      " |  setvar(self, name='PY_VAR', value='1')\n",
      " |      Set Tcl variable NAME to VALUE.\n",
      " |  \n",
      " |  size = grid_size(self)\n",
      " |  \n",
      " |  slaves = pack_slaves(self)\n",
      " |  \n",
      " |  tk_bisque(self)\n",
      " |      Change the color scheme to light brown as used in Tk 3.6 and before.\n",
      " |  \n",
      " |  tk_focusFollowsMouse(self)\n",
      " |      The widget under mouse will get automatically focus. Can not\n",
      " |      be disabled easily.\n",
      " |  \n",
      " |  tk_focusNext(self)\n",
      " |      Return the next widget in the focus order which follows\n",
      " |      widget which has currently the focus.\n",
      " |      \n",
      " |      The focus order first goes to the next child, then to\n",
      " |      the children of the child recursively and then to the\n",
      " |      next sibling which is higher in the stacking order.  A\n",
      " |      widget is omitted if it has the takefocus resource set\n",
      " |      to 0.\n",
      " |  \n",
      " |  tk_focusPrev(self)\n",
      " |      Return previous widget in the focus order. See tk_focusNext for details.\n",
      " |  \n",
      " |  tk_setPalette(self, *args, **kw)\n",
      " |      Set a new color scheme for all widget elements.\n",
      " |      \n",
      " |      A single color as argument will cause that all colors of Tk\n",
      " |      widget elements are derived from this.\n",
      " |      Alternatively several keyword parameters and its associated\n",
      " |      colors can be given. The following keywords are valid:\n",
      " |      activeBackground, foreground, selectColor,\n",
      " |      activeForeground, highlightBackground, selectBackground,\n",
      " |      background, highlightColor, selectForeground,\n",
      " |      disabledForeground, insertBackground, troughColor.\n",
      " |  \n",
      " |  tk_strictMotif(self, boolean=None)\n",
      " |      Set Tcl internal variable, whether the look and feel\n",
      " |      should adhere to Motif.\n",
      " |      \n",
      " |      A parameter of 1 means adhere to Motif (e.g. no color\n",
      " |      change if mouse passes over slider).\n",
      " |      Returns the set value.\n",
      " |  \n",
      " |  tkraise(self, aboveThis=None)\n",
      " |      Raise this widget in the stacking order.\n",
      " |  \n",
      " |  unbind(self, sequence, funcid=None)\n",
      " |      Unbind for this widget for event SEQUENCE  the\n",
      " |      function identified with FUNCID.\n",
      " |  \n",
      " |  unbind_all(self, sequence)\n",
      " |      Unbind for all widgets for event SEQUENCE all functions.\n",
      " |  \n",
      " |  unbind_class(self, className, sequence)\n",
      " |      Unbind for all widgets with bindtag CLASSNAME for event SEQUENCE\n",
      " |      all functions.\n",
      " |  \n",
      " |  update(self)\n",
      " |      Enter event loop until all pending events have been processed by Tcl.\n",
      " |  \n",
      " |  update_idletasks(self)\n",
      " |      Enter event loop until all idle callbacks have been called. This\n",
      " |      will update the display of windows but not process events caused by\n",
      " |      the user.\n",
      " |  \n",
      " |  wait_variable(self, name='PY_VAR')\n",
      " |      Wait until the variable is modified.\n",
      " |      \n",
      " |      A parameter of type IntVar, StringVar, DoubleVar or\n",
      " |      BooleanVar must be given.\n",
      " |  \n",
      " |  wait_visibility(self, window=None)\n",
      " |      Wait until the visibility of a WIDGET changes\n",
      " |      (e.g. it appears).\n",
      " |      \n",
      " |      If no parameter is given self is used.\n",
      " |  \n",
      " |  wait_window(self, window=None)\n",
      " |      Wait until a WIDGET is destroyed.\n",
      " |      \n",
      " |      If no parameter is given self is used.\n",
      " |  \n",
      " |  waitvar = wait_variable(self, name='PY_VAR')\n",
      " |  \n",
      " |  winfo_atom(self, name, displayof=0)\n",
      " |      Return integer which represents atom NAME.\n",
      " |  \n",
      " |  winfo_atomname(self, id, displayof=0)\n",
      " |      Return name of atom with identifier ID.\n",
      " |  \n",
      " |  winfo_cells(self)\n",
      " |      Return number of cells in the colormap for this widget.\n",
      " |  \n",
      " |  winfo_children(self)\n",
      " |      Return a list of all widgets which are children of this widget.\n",
      " |  \n",
      " |  winfo_class(self)\n",
      " |      Return window class name of this widget.\n",
      " |  \n",
      " |  winfo_colormapfull(self)\n",
      " |      Return true if at the last color request the colormap was full.\n",
      " |  \n",
      " |  winfo_containing(self, rootX, rootY, displayof=0)\n",
      " |      Return the widget which is at the root coordinates ROOTX, ROOTY.\n",
      " |  \n",
      " |  winfo_depth(self)\n",
      " |      Return the number of bits per pixel.\n",
      " |  \n",
      " |  winfo_exists(self)\n",
      " |      Return true if this widget exists.\n",
      " |  \n",
      " |  winfo_fpixels(self, number)\n",
      " |      Return the number of pixels for the given distance NUMBER\n",
      " |      (e.g. \"3c\") as float.\n",
      " |  \n",
      " |  winfo_geometry(self)\n",
      " |      Return geometry string for this widget in the form \"widthxheight+X+Y\".\n",
      " |  \n",
      " |  winfo_height(self)\n",
      " |      Return height of this widget.\n",
      " |  \n",
      " |  winfo_id(self)\n",
      " |      Return identifier ID for this widget.\n",
      " |  \n",
      " |  winfo_interps(self, displayof=0)\n",
      " |      Return the name of all Tcl interpreters for this display.\n",
      " |  \n",
      " |  winfo_ismapped(self)\n",
      " |      Return true if this widget is mapped.\n",
      " |  \n",
      " |  winfo_manager(self)\n",
      " |      Return the window manager name for this widget.\n",
      " |  \n",
      " |  winfo_name(self)\n",
      " |      Return the name of this widget.\n",
      " |  \n",
      " |  winfo_parent(self)\n",
      " |      Return the name of the parent of this widget.\n",
      " |  \n",
      " |  winfo_pathname(self, id, displayof=0)\n",
      " |      Return the pathname of the widget given by ID.\n",
      " |  \n",
      " |  winfo_pixels(self, number)\n",
      " |      Rounded integer value of winfo_fpixels.\n",
      " |  \n",
      " |  winfo_pointerx(self)\n",
      " |      Return the x coordinate of the pointer on the root window.\n",
      " |  \n",
      " |  winfo_pointerxy(self)\n",
      " |      Return a tuple of x and y coordinates of the pointer on the root window.\n",
      " |  \n",
      " |  winfo_pointery(self)\n",
      " |      Return the y coordinate of the pointer on the root window.\n",
      " |  \n",
      " |  winfo_reqheight(self)\n",
      " |      Return requested height of this widget.\n",
      " |  \n",
      " |  winfo_reqwidth(self)\n",
      " |      Return requested width of this widget.\n",
      " |  \n",
      " |  winfo_rgb(self, color)\n",
      " |      Return tuple of decimal values for red, green, blue for\n",
      " |      COLOR in this widget.\n",
      " |  \n",
      " |  winfo_rootx(self)\n",
      " |      Return x coordinate of upper left corner of this widget on the\n",
      " |      root window.\n",
      " |  \n",
      " |  winfo_rooty(self)\n",
      " |      Return y coordinate of upper left corner of this widget on the\n",
      " |      root window.\n",
      " |  \n",
      " |  winfo_screen(self)\n",
      " |      Return the screen name of this widget.\n",
      " |  \n",
      " |  winfo_screencells(self)\n",
      " |      Return the number of the cells in the colormap of the screen\n",
      " |      of this widget.\n",
      " |  \n",
      " |  winfo_screendepth(self)\n",
      " |      Return the number of bits per pixel of the root window of the\n",
      " |      screen of this widget.\n",
      " |  \n",
      " |  winfo_screenheight(self)\n",
      " |      Return the number of pixels of the height of the screen of this widget\n",
      " |      in pixel.\n",
      " |  \n",
      " |  winfo_screenmmheight(self)\n",
      " |      Return the number of pixels of the height of the screen of\n",
      " |      this widget in mm.\n",
      " |  \n",
      " |  winfo_screenmmwidth(self)\n",
      " |      Return the number of pixels of the width of the screen of\n",
      " |      this widget in mm.\n",
      " |  \n",
      " |  winfo_screenvisual(self)\n",
      " |      Return one of the strings directcolor, grayscale, pseudocolor,\n",
      " |      staticcolor, staticgray, or truecolor for the default\n",
      " |      colormodel of this screen.\n",
      " |  \n",
      " |  winfo_screenwidth(self)\n",
      " |      Return the number of pixels of the width of the screen of\n",
      " |      this widget in pixel.\n",
      " |  \n",
      " |  winfo_server(self)\n",
      " |      Return information of the X-Server of the screen of this widget in\n",
      " |      the form \"XmajorRminor vendor vendorVersion\".\n",
      " |  \n",
      " |  winfo_toplevel(self)\n",
      " |      Return the toplevel widget of this widget.\n",
      " |  \n",
      " |  winfo_viewable(self)\n",
      " |      Return true if the widget and all its higher ancestors are mapped.\n",
      " |  \n",
      " |  winfo_visual(self)\n",
      " |      Return one of the strings directcolor, grayscale, pseudocolor,\n",
      " |      staticcolor, staticgray, or truecolor for the\n",
      " |      colormodel of this widget.\n",
      " |  \n",
      " |  winfo_visualid(self)\n",
      " |      Return the X identifier for the visual for this widget.\n",
      " |  \n",
      " |  winfo_visualsavailable(self, includeids=False)\n",
      " |      Return a list of all visuals available for the screen\n",
      " |      of this widget.\n",
      " |      \n",
      " |      Each item in the list consists of a visual name (see winfo_visual), a\n",
      " |      depth and if includeids is true is given also the X identifier.\n",
      " |  \n",
      " |  winfo_vrootheight(self)\n",
      " |      Return the height of the virtual root window associated with this\n",
      " |      widget in pixels. If there is no virtual root window return the\n",
      " |      height of the screen.\n",
      " |  \n",
      " |  winfo_vrootwidth(self)\n",
      " |      Return the width of the virtual root window associated with this\n",
      " |      widget in pixel. If there is no virtual root window return the\n",
      " |      width of the screen.\n",
      " |  \n",
      " |  winfo_vrootx(self)\n",
      " |      Return the x offset of the virtual root relative to the root\n",
      " |      window of the screen of this widget.\n",
      " |  \n",
      " |  winfo_vrooty(self)\n",
      " |      Return the y offset of the virtual root relative to the root\n",
      " |      window of the screen of this widget.\n",
      " |  \n",
      " |  winfo_width(self)\n",
      " |      Return the width of this widget.\n",
      " |  \n",
      " |  winfo_x(self)\n",
      " |      Return the x coordinate of the upper left corner of this widget\n",
      " |      in the parent.\n",
      " |  \n",
      " |  winfo_y(self)\n",
      " |      Return the y coordinate of the upper left corner of this widget\n",
      " |      in the parent.\n",
      " |  \n",
      " |  ----------------------------------------------------------------------\n",
      " |  Data descriptors inherited from Misc:\n",
      " |  \n",
      " |  __dict__\n",
      " |      dictionary for instance variables (if defined)\n",
      " |  \n",
      " |  __weakref__\n",
      " |      list of weak references to the object (if defined)\n",
      " |  \n",
      " |  ----------------------------------------------------------------------\n",
      " |  Methods inherited from Pack:\n",
      " |  \n",
      " |  forget = pack_forget(self)\n",
      " |  \n",
      " |  info = pack_info(self)\n",
      " |  \n",
      " |  pack = pack_configure(self, cnf={}, **kw)\n",
      " |  \n",
      " |  pack_configure(self, cnf={}, **kw)\n",
      " |      Pack a widget in the parent widget. Use as options:\n",
      " |      after=widget - pack it after you have packed widget\n",
      " |      anchor=NSEW (or subset) - position widget according to\n",
      " |                                given direction\n",
      " |      before=widget - pack it before you will pack widget\n",
      " |      expand=bool - expand widget if parent size grows\n",
      " |      fill=NONE or X or Y or BOTH - fill widget if widget grows\n",
      " |      in=master - use master to contain this widget\n",
      " |      in_=master - see 'in' option description\n",
      " |      ipadx=amount - add internal padding in x direction\n",
      " |      ipady=amount - add internal padding in y direction\n",
      " |      padx=amount - add padding in x direction\n",
      " |      pady=amount - add padding in y direction\n",
      " |      side=TOP or BOTTOM or LEFT or RIGHT -  where to add this widget.\n",
      " |  \n",
      " |  pack_forget(self)\n",
      " |      Unmap this widget and do not use it for the packing order.\n",
      " |  \n",
      " |  pack_info(self)\n",
      " |      Return information about the packing options\n",
      " |      for this widget.\n",
      " |  \n",
      " |  ----------------------------------------------------------------------\n",
      " |  Methods inherited from Place:\n",
      " |  \n",
      " |  place = place_configure(self, cnf={}, **kw)\n",
      " |  \n",
      " |  place_configure(self, cnf={}, **kw)\n",
      " |      Place a widget in the parent widget. Use as options:\n",
      " |      in=master - master relative to which the widget is placed\n",
      " |      in_=master - see 'in' option description\n",
      " |      x=amount - locate anchor of this widget at position x of master\n",
      " |      y=amount - locate anchor of this widget at position y of master\n",
      " |      relx=amount - locate anchor of this widget between 0.0 and 1.0\n",
      " |                    relative to width of master (1.0 is right edge)\n",
      " |      rely=amount - locate anchor of this widget between 0.0 and 1.0\n",
      " |                    relative to height of master (1.0 is bottom edge)\n",
      " |      anchor=NSEW (or subset) - position anchor according to given direction\n",
      " |      width=amount - width of this widget in pixel\n",
      " |      height=amount - height of this widget in pixel\n",
      " |      relwidth=amount - width of this widget between 0.0 and 1.0\n",
      " |                        relative to width of master (1.0 is the same width\n",
      " |                        as the master)\n",
      " |      relheight=amount - height of this widget between 0.0 and 1.0\n",
      " |                         relative to height of master (1.0 is the same\n",
      " |                         height as the master)\n",
      " |      bordermode=\"inside\" or \"outside\" - whether to take border width of\n",
      " |                                         master widget into account\n",
      " |  \n",
      " |  place_forget(self)\n",
      " |      Unmap this widget.\n",
      " |  \n",
      " |  place_info(self)\n",
      " |      Return information about the placing options\n",
      " |      for this widget.\n",
      " |  \n",
      " |  ----------------------------------------------------------------------\n",
      " |  Methods inherited from Grid:\n",
      " |  \n",
      " |  grid = grid_configure(self, cnf={}, **kw)\n",
      " |  \n",
      " |  grid_configure(self, cnf={}, **kw)\n",
      " |      Position a widget in the parent widget in a grid. Use as options:\n",
      " |      column=number - use cell identified with given column (starting with 0)\n",
      " |      columnspan=number - this widget will span several columns\n",
      " |      in=master - use master to contain this widget\n",
      " |      in_=master - see 'in' option description\n",
      " |      ipadx=amount - add internal padding in x direction\n",
      " |      ipady=amount - add internal padding in y direction\n",
      " |      padx=amount - add padding in x direction\n",
      " |      pady=amount - add padding in y direction\n",
      " |      row=number - use cell identified with given row (starting with 0)\n",
      " |      rowspan=number - this widget will span several rows\n",
      " |      sticky=NSEW - if cell is larger on which sides will this\n",
      " |                    widget stick to the cell boundary\n",
      " |  \n",
      " |  grid_forget(self)\n",
      " |      Unmap this widget.\n",
      " |  \n",
      " |  grid_info(self)\n",
      " |      Return information about the options\n",
      " |      for positioning this widget in a grid.\n",
      " |  \n",
      " |  grid_remove(self)\n",
      " |      Unmap this widget but remember the grid options.\n",
      " |  \n",
      " |  location = grid_location(self, x, y)\n",
      "\n",
      "None\n"
     ]
    }
   ],
   "source": [
    "from tkinter import *\n",
    "print(help(Frame))\n",
    "# Valid resource names: background, bd, bg, borderwidth, class,\n",
    "#                       colormap, container, cursor, height, highlightbackground,\n",
    "#                       highlightcolor, highlightthickness, relief, takefocus, visual, width.\n",
    " "
   ]
  },
  {
   "cell_type": "markdown",
   "metadata": {},
   "source": [
    "# Using Inheritance  to Build a Python tkinter GUI"
   ]
  },
  {
   "cell_type": "code",
   "execution_count": 9,
   "metadata": {},
   "outputs": [],
   "source": [
    "from tkinter import *\n",
    "win=Tk()\n",
    "class hello_name_frame(Frame):\n",
    "    def __init__(self,win):\n",
    "        Frame.__init__(self,win)\n",
    "        self.user_name=StringVar()\n",
    "        self.display_string=StringVar()\n",
    "        \n",
    "        self.label=Label(self,text='Enter your name')\n",
    "        self.entry=Entry(self,textvariable=self.user_name)\n",
    "        self.button=Button(self,text='Click me',command=self.display_output)\n",
    "        self.display_label=Label(self,textvariable=self.display_string,relief='solid')\n",
    "        \n",
    "        self.label.grid(row=0,column=0)\n",
    "        self.entry.grid(row=0,column=1)\n",
    "        self.button.grid(row=1,column=0)\n",
    "        self.display_label.grid(row=1,column=1)\n",
    "        \n",
    "        self.entry.focus()\n",
    "    def display_output(self):\n",
    "        self.display_string.set('Hello '+self.user_name.get())\n",
    "frame=hello_name_frame(win)\n",
    "frame.grid(row=0,column=0)\n",
    "win.mainloop()"
   ]
  },
  {
   "cell_type": "markdown",
   "metadata": {},
   "source": [
    "# Using the f string to set random Python colors"
   ]
  },
  {
   "cell_type": "code",
   "execution_count": 3,
   "metadata": {},
   "outputs": [
    {
     "name": "stdout",
     "output_type": "stream",
     "text": [
      "8 8 8\n"
     ]
    }
   ],
   "source": [
    "var1=8\n",
    "var2=0b1000\n",
    "var3=0x8\n",
    "print(var1,var2,var3)"
   ]
  },
  {
   "cell_type": "code",
   "execution_count": 4,
   "metadata": {},
   "outputs": [
    {
     "name": "stdout",
     "output_type": "stream",
     "text": [
      "10 10 10\n"
     ]
    }
   ],
   "source": [
    "var1=10\n",
    "var2=0b1010\n",
    "var3=0xa\n",
    "print(var1,var2,var3)"
   ]
  },
  {
   "cell_type": "code",
   "execution_count": 7,
   "metadata": {},
   "outputs": [
    {
     "name": "stdout",
     "output_type": "stream",
     "text": [
      "65535 <class 'int'>\n",
      "65535 <class 'str'>\n"
     ]
    }
   ],
   "source": [
    "var1=65535\n",
    "print(var1,type(var1))\n",
    "var2=f'{var1}'\n",
    "print(var2,type(var2))"
   ]
  },
  {
   "cell_type": "code",
   "execution_count": 10,
   "metadata": {},
   "outputs": [
    {
     "name": "stdout",
     "output_type": "stream",
     "text": [
      "65535 <class 'int'>\n",
      "ffff <class 'str'>\n"
     ]
    }
   ],
   "source": [
    "var1=65535\n",
    "print(var1,type(var1))\n",
    "var2=f'{var1:0x}'\n",
    "print(var2,type(var2))"
   ]
  },
  {
   "cell_type": "code",
   "execution_count": 13,
   "metadata": {},
   "outputs": [
    {
     "name": "stdout",
     "output_type": "stream",
     "text": [
      "ff\n",
      "ff\n",
      "ff\n",
      "0ff\n",
      "00ff\n",
      "000ff\n",
      "0000ff\n"
     ]
    }
   ],
   "source": [
    "var1=255\n",
    "print(f'{var1:0x}')\n",
    "print(f'{var1:01x}')\n",
    "print(f'{var1:02x}')\n",
    "print(f'{var1:03x}')\n",
    "print(f'{var1:04x}')\n",
    "print(f'{var1:05x}')\n",
    "print(f'{var1:06x}')"
   ]
  },
  {
   "cell_type": "code",
   "execution_count": 2,
   "metadata": {
    "scrolled": true
   },
   "outputs": [
    {
     "name": "stdout",
     "output_type": "stream",
     "text": [
      "#e69803\n"
     ]
    },
    {
     "ename": "TclError",
     "evalue": "invalid command name \".\"",
     "output_type": "error",
     "traceback": [
      "\u001b[0;31m---------------------------------------------------------------------------\u001b[0m",
      "\u001b[0;31mTclError\u001b[0m                                  Traceback (most recent call last)",
      "\u001b[0;32m<ipython-input-2-ac80be8d57c4>\u001b[0m in \u001b[0;36m<module>\u001b[0;34m\u001b[0m\n\u001b[1;32m      7\u001b[0m \u001b[0mwin\u001b[0m\u001b[0;34m=\u001b[0m\u001b[0mTk\u001b[0m\u001b[0;34m(\u001b[0m\u001b[0;34m)\u001b[0m\u001b[0;34m\u001b[0m\u001b[0;34m\u001b[0m\u001b[0m\n\u001b[1;32m      8\u001b[0m \u001b[0;32mwhile\u001b[0m \u001b[0;32mTrue\u001b[0m\u001b[0;34m:\u001b[0m\u001b[0;34m\u001b[0m\u001b[0;34m\u001b[0m\u001b[0m\n\u001b[0;32m----> 9\u001b[0;31m     \u001b[0mwin\u001b[0m\u001b[0;34m[\u001b[0m\u001b[0;34m'bg'\u001b[0m\u001b[0;34m]\u001b[0m\u001b[0;34m=\u001b[0m\u001b[0mrandom_color_code\u001b[0m\u001b[0;34m(\u001b[0m\u001b[0;34m)\u001b[0m\u001b[0;31m#<<<<<--------------------win['bg']--------\u001b[0m\u001b[0;34m\u001b[0m\u001b[0;34m\u001b[0m\u001b[0m\n\u001b[0m\u001b[1;32m     10\u001b[0m     \u001b[0mwin\u001b[0m\u001b[0;34m.\u001b[0m\u001b[0mafter\u001b[0m\u001b[0;34m(\u001b[0m\u001b[0;36m1000\u001b[0m\u001b[0;34m)\u001b[0m\u001b[0;34m\u001b[0m\u001b[0;34m\u001b[0m\u001b[0m\n\u001b[1;32m     11\u001b[0m     \u001b[0mwin\u001b[0m\u001b[0;34m.\u001b[0m\u001b[0mupdate\u001b[0m\u001b[0;34m(\u001b[0m\u001b[0;34m)\u001b[0m\u001b[0;31m#<------------------------------------------------------------\u001b[0m\u001b[0;34m\u001b[0m\u001b[0;34m\u001b[0m\u001b[0m\n",
      "\u001b[0;32m~/anaconda3/lib/python3.7/tkinter/__init__.py\u001b[0m in \u001b[0;36m__setitem__\u001b[0;34m(self, key, value)\u001b[0m\n\u001b[1;32m   1490\u001b[0m     \u001b[0m__getitem__\u001b[0m \u001b[0;34m=\u001b[0m \u001b[0mcget\u001b[0m\u001b[0;34m\u001b[0m\u001b[0;34m\u001b[0m\u001b[0m\n\u001b[1;32m   1491\u001b[0m     \u001b[0;32mdef\u001b[0m \u001b[0m__setitem__\u001b[0m\u001b[0;34m(\u001b[0m\u001b[0mself\u001b[0m\u001b[0;34m,\u001b[0m \u001b[0mkey\u001b[0m\u001b[0;34m,\u001b[0m \u001b[0mvalue\u001b[0m\u001b[0;34m)\u001b[0m\u001b[0;34m:\u001b[0m\u001b[0;34m\u001b[0m\u001b[0;34m\u001b[0m\u001b[0m\n\u001b[0;32m-> 1492\u001b[0;31m         \u001b[0mself\u001b[0m\u001b[0;34m.\u001b[0m\u001b[0mconfigure\u001b[0m\u001b[0;34m(\u001b[0m\u001b[0;34m{\u001b[0m\u001b[0mkey\u001b[0m\u001b[0;34m:\u001b[0m \u001b[0mvalue\u001b[0m\u001b[0;34m}\u001b[0m\u001b[0;34m)\u001b[0m\u001b[0;34m\u001b[0m\u001b[0;34m\u001b[0m\u001b[0m\n\u001b[0m\u001b[1;32m   1493\u001b[0m     \u001b[0;32mdef\u001b[0m \u001b[0mkeys\u001b[0m\u001b[0;34m(\u001b[0m\u001b[0mself\u001b[0m\u001b[0;34m)\u001b[0m\u001b[0;34m:\u001b[0m\u001b[0;34m\u001b[0m\u001b[0;34m\u001b[0m\u001b[0m\n\u001b[1;32m   1494\u001b[0m         \u001b[0;34m\"\"\"Return a list of all resource names of this widget.\"\"\"\u001b[0m\u001b[0;34m\u001b[0m\u001b[0;34m\u001b[0m\u001b[0m\n",
      "\u001b[0;32m~/anaconda3/lib/python3.7/tkinter/__init__.py\u001b[0m in \u001b[0;36mconfigure\u001b[0;34m(self, cnf, **kw)\u001b[0m\n\u001b[1;32m   1483\u001b[0m         \u001b[0mthe\u001b[0m \u001b[0mallowed\u001b[0m \u001b[0mkeyword\u001b[0m \u001b[0marguments\u001b[0m \u001b[0mcall\u001b[0m \u001b[0mthe\u001b[0m \u001b[0mmethod\u001b[0m \u001b[0mkeys\u001b[0m\u001b[0;34m.\u001b[0m\u001b[0;34m\u001b[0m\u001b[0;34m\u001b[0m\u001b[0m\n\u001b[1;32m   1484\u001b[0m         \"\"\"\n\u001b[0;32m-> 1485\u001b[0;31m         \u001b[0;32mreturn\u001b[0m \u001b[0mself\u001b[0m\u001b[0;34m.\u001b[0m\u001b[0m_configure\u001b[0m\u001b[0;34m(\u001b[0m\u001b[0;34m'configure'\u001b[0m\u001b[0;34m,\u001b[0m \u001b[0mcnf\u001b[0m\u001b[0;34m,\u001b[0m \u001b[0mkw\u001b[0m\u001b[0;34m)\u001b[0m\u001b[0;34m\u001b[0m\u001b[0;34m\u001b[0m\u001b[0m\n\u001b[0m\u001b[1;32m   1486\u001b[0m     \u001b[0mconfig\u001b[0m \u001b[0;34m=\u001b[0m \u001b[0mconfigure\u001b[0m\u001b[0;34m\u001b[0m\u001b[0;34m\u001b[0m\u001b[0m\n\u001b[1;32m   1487\u001b[0m     \u001b[0;32mdef\u001b[0m \u001b[0mcget\u001b[0m\u001b[0;34m(\u001b[0m\u001b[0mself\u001b[0m\u001b[0;34m,\u001b[0m \u001b[0mkey\u001b[0m\u001b[0;34m)\u001b[0m\u001b[0;34m:\u001b[0m\u001b[0;34m\u001b[0m\u001b[0;34m\u001b[0m\u001b[0m\n",
      "\u001b[0;32m~/anaconda3/lib/python3.7/tkinter/__init__.py\u001b[0m in \u001b[0;36m_configure\u001b[0;34m(self, cmd, cnf, kw)\u001b[0m\n\u001b[1;32m   1474\u001b[0m         \u001b[0;32mif\u001b[0m \u001b[0misinstance\u001b[0m\u001b[0;34m(\u001b[0m\u001b[0mcnf\u001b[0m\u001b[0;34m,\u001b[0m \u001b[0mstr\u001b[0m\u001b[0;34m)\u001b[0m\u001b[0;34m:\u001b[0m\u001b[0;34m\u001b[0m\u001b[0;34m\u001b[0m\u001b[0m\n\u001b[1;32m   1475\u001b[0m             \u001b[0;32mreturn\u001b[0m \u001b[0mself\u001b[0m\u001b[0;34m.\u001b[0m\u001b[0m_getconfigure1\u001b[0m\u001b[0;34m(\u001b[0m\u001b[0m_flatten\u001b[0m\u001b[0;34m(\u001b[0m\u001b[0;34m(\u001b[0m\u001b[0mself\u001b[0m\u001b[0;34m.\u001b[0m\u001b[0m_w\u001b[0m\u001b[0;34m,\u001b[0m \u001b[0mcmd\u001b[0m\u001b[0;34m,\u001b[0m \u001b[0;34m'-'\u001b[0m\u001b[0;34m+\u001b[0m\u001b[0mcnf\u001b[0m\u001b[0;34m)\u001b[0m\u001b[0;34m)\u001b[0m\u001b[0;34m)\u001b[0m\u001b[0;34m\u001b[0m\u001b[0;34m\u001b[0m\u001b[0m\n\u001b[0;32m-> 1476\u001b[0;31m         \u001b[0mself\u001b[0m\u001b[0;34m.\u001b[0m\u001b[0mtk\u001b[0m\u001b[0;34m.\u001b[0m\u001b[0mcall\u001b[0m\u001b[0;34m(\u001b[0m\u001b[0m_flatten\u001b[0m\u001b[0;34m(\u001b[0m\u001b[0;34m(\u001b[0m\u001b[0mself\u001b[0m\u001b[0;34m.\u001b[0m\u001b[0m_w\u001b[0m\u001b[0;34m,\u001b[0m \u001b[0mcmd\u001b[0m\u001b[0;34m)\u001b[0m\u001b[0;34m)\u001b[0m \u001b[0;34m+\u001b[0m \u001b[0mself\u001b[0m\u001b[0;34m.\u001b[0m\u001b[0m_options\u001b[0m\u001b[0;34m(\u001b[0m\u001b[0mcnf\u001b[0m\u001b[0;34m)\u001b[0m\u001b[0;34m)\u001b[0m\u001b[0;34m\u001b[0m\u001b[0;34m\u001b[0m\u001b[0m\n\u001b[0m\u001b[1;32m   1477\u001b[0m     \u001b[0;31m# These used to be defined in Widget:\u001b[0m\u001b[0;34m\u001b[0m\u001b[0;34m\u001b[0m\u001b[0;34m\u001b[0m\u001b[0m\n\u001b[1;32m   1478\u001b[0m     \u001b[0;32mdef\u001b[0m \u001b[0mconfigure\u001b[0m\u001b[0;34m(\u001b[0m\u001b[0mself\u001b[0m\u001b[0;34m,\u001b[0m \u001b[0mcnf\u001b[0m\u001b[0;34m=\u001b[0m\u001b[0;32mNone\u001b[0m\u001b[0;34m,\u001b[0m \u001b[0;34m**\u001b[0m\u001b[0mkw\u001b[0m\u001b[0;34m)\u001b[0m\u001b[0;34m:\u001b[0m\u001b[0;34m\u001b[0m\u001b[0;34m\u001b[0m\u001b[0m\n",
      "\u001b[0;31mTclError\u001b[0m: invalid command name \".\""
     ]
    }
   ],
   "source": [
    "from tkinter import *\n",
    "import random\n",
    "def random_color_code():\n",
    "    color_code=f'#{random.randint(0,0xffffff):06x}'#<-----------\n",
    "    return color_code\n",
    "print(random_color_code())\n",
    "win=Tk()\n",
    "while True:\n",
    "    win['bg']=random_color_code()#<<<<<--------------------win['bg']--------\n",
    "    win.after(1000)\n",
    "    win.update()#<------------------------------------------------------------\n",
    "win.mainloop()"
   ]
  },
  {
   "cell_type": "markdown",
   "metadata": {},
   "source": [
    "# Drawing shapes on a tkinter canvas using lines"
   ]
  },
  {
   "cell_type": "code",
   "execution_count": 13,
   "metadata": {},
   "outputs": [],
   "source": [
    "from tkinter import *\n",
    "win=Tk()\n",
    "canvas=Canvas(win,width=500,height=500,bg='navy')\n",
    "canvas.pack()\n",
    "canvas.create_line(50,20,450,20,200,450,50,20,fill='white',width=4)\n",
    "win.mainloop()"
   ]
  },
  {
   "cell_type": "markdown",
   "metadata": {},
   "source": [
    "# How to draw arrowhead lines on a Python tkinter Canvas"
   ]
  },
  {
   "cell_type": "code",
   "execution_count": 5,
   "metadata": {},
   "outputs": [],
   "source": [
    "from tkinter import *\n",
    "win=Tk()\n",
    "canvas=Canvas(win,width=400,height=100,bg='white')\n",
    "canvas.grid(row=0,column=0)\n",
    "\n",
    "canvas.create_line(10,10,390,10,fill='blue',width=5)\n",
    "canvas.create_line(10,30,390,30,fill='red',arrow='first',width='5')\n",
    "canvas.create_line(10,50,390,50,fill='navy',arrow='last',width='5')\n",
    "canvas.create_line(10,70,390,70,fill='green',arrow='both',width='5')\n",
    "canvas.create_line(10,90,390,90,fill='yellow',arrow='none',width='5')\n",
    "\n",
    "win.mainloop()"
   ]
  },
  {
   "cell_type": "markdown",
   "metadata": {},
   "source": [
    "# Shaping the arrowhead of a line in tkinter"
   ]
  },
  {
   "cell_type": "code",
   "execution_count": 1,
   "metadata": {},
   "outputs": [],
   "source": [
    "from tkinter import *\n",
    "win=Tk()\n",
    "canvas=Canvas(win,width=400,height=100,bg='white')\n",
    "canvas.grid(row=0,column=0)\n",
    "\n",
    "canvas.create_line(10,10,390,10,fill='blue',width=5)\n",
    "canvas.create_line(10,30,390,30,fill='red',arrow='first',arrowshape=(5,20,5),width='5')\n",
    "canvas.create_line(10,50,390,50,fill='navy',arrow='last',arrowshape=(10,20,10),width='5')\n",
    "canvas.create_line(10,70,390,70,fill='green',arrow='both',arrowshape=(22,33,8),width='5')\n",
    "canvas.create_line(10,90,390,90,fill='yellow',arrow='none',arrowshape=(10,20,12),width='5')\n",
    "\n",
    "win.mainloop()"
   ]
  },
  {
   "cell_type": "markdown",
   "metadata": {},
   "source": [
    "# Drawing and deleting lines on canvas"
   ]
  },
  {
   "cell_type": "code",
   "execution_count": 31,
   "metadata": {},
   "outputs": [],
   "source": [
    "from random import *\n",
    "from tkinter import *\n",
    "def random_line():\n",
    "    x1=randint(0,400)\n",
    "    y1=randint(0,400)\n",
    "    x2=randint(0,400)    \n",
    "    y2=randint(0,400)    \n",
    "    canvas.create_line(x1,y1,x2,y2,fill=f'#{randint(0,0xffffff):06x}',width=20)\n",
    "def delete_line():\n",
    "    canvas.delete('all')\n",
    "win=Tk()\n",
    "canvas=Canvas(win,width=400,height=400,bg='white')\n",
    "button1=Button(win,text='Click for a random colored line',command=random_line)\n",
    "button2=Button(win,text='Click to clear colored line',command=delete_line)\n",
    "canvas.grid(row=0,column=0)\n",
    "button1.grid(row=1,column=0)\n",
    "button2.grid(row=2,column=0)\n",
    "win.mainloop()"
   ]
  },
  {
   "cell_type": "markdown",
   "metadata": {},
   "source": [
    "# Drawing a line between the two mouse clicks using tkinter"
   ]
  },
  {
   "cell_type": "code",
   "execution_count": 43,
   "metadata": {},
   "outputs": [],
   "source": [
    "from tkinter import *\n",
    "def draw_line(event):\n",
    "    global click_number\n",
    "    global x1,y1\n",
    "    if click_number==0:\n",
    "        x1=event.x\n",
    "        y1=event.y\n",
    "        click_number=1\n",
    "    else:\n",
    "        x2=event.x\n",
    "        y2=event.y\n",
    "        canvas.create_line(x1,y1,x2,y2,fill='black',width=4)\n",
    "        click_number=0\n",
    "win=Tk()\n",
    "canvas=Canvas(win,width=400,height=400,bg='white')\n",
    "canvas.grid(row=0,column=0)\n",
    "canvas.bind('<Button-1>',draw_line)\n",
    "click_number=0\n",
    "win.mainloop()"
   ]
  },
  {
   "cell_type": "markdown",
   "metadata": {},
   "source": [
    "# Accesssing the coordinate  position of a mouse click"
   ]
  },
  {
   "cell_type": "code",
   "execution_count": 8,
   "metadata": {},
   "outputs": [],
   "source": [
    "from tkinter import *\n",
    "win=Tk()\n",
    "def display_coordinate(event):\n",
    "    label['text']=str(event.x)\n",
    "canvas=Canvas(win,width=400,height=400,bg='white')\n",
    "label=Label(bd=4,relief='solid',font='times 22 bold',bg='white',fg='black')\n",
    "canvas.bind('<Button-1>',display_coordinate)\n",
    "canvas.grid(row=0,column=0)\n",
    "label.grid(row=1,column=0)\n",
    "win.mainloop()"
   ]
  },
  {
   "cell_type": "code",
   "execution_count": 9,
   "metadata": {},
   "outputs": [],
   "source": [
    "from tkinter import *\n",
    "win=Tk()\n",
    "def display_coordinate(event):\n",
    "    label['text']=f'x={event.x} y={event.y}'\n",
    "canvas=Canvas(win,width=400,height=400,bg='white')\n",
    "label=Label(bd=4,relief='solid',font='times 22 bold',bg='white',fg='black')\n",
    "canvas.bind('<Button-1>',display_coordinate)\n",
    "canvas.grid(row=0,column=0)\n",
    "label.grid(row=1,column=0)\n",
    "win.mainloop()"
   ]
  },
  {
   "cell_type": "markdown",
   "metadata": {},
   "source": [
    "# Menu"
   ]
  },
  {
   "cell_type": "code",
   "execution_count": 18,
   "metadata": {},
   "outputs": [
    {
     "name": "stdout",
     "output_type": "stream",
     "text": [
      "Opened\n",
      "Opened\n",
      "Opened\n",
      "Opened\n",
      "Opened\n",
      "Opened\n",
      "Opened\n",
      "Opened\n",
      "Opened\n"
     ]
    }
   ],
   "source": [
    "from tkinter import *\n",
    "def exit():\n",
    "    win.destroy()\n",
    "def opens():\n",
    "    print('Opened')\n",
    "win=Tk()\n",
    "menu_bar=Menu(win)\n",
    "menu_bar.add_command(label='Open',command=opens)\n",
    "menu_bar.add_command(label='Exit',command=exit)\n",
    "win.config(menu=menu_bar)\n",
    "win.mainloop()"
   ]
  },
  {
   "cell_type": "markdown",
   "metadata": {},
   "source": [
    "# Submenubar"
   ]
  },
  {
   "cell_type": "code",
   "execution_count": 4,
   "metadata": {},
   "outputs": [],
   "source": [
    "from tkinter import *\n",
    "def red_window():\n",
    "    win['bg']='red'\n",
    "def green_window():\n",
    "    win['bg']='green'\n",
    "def blue_window():\n",
    "    win['bg']='blue'\n",
    "win=Tk()\n",
    "menu=Menu(win)\n",
    "menu_bar=Menu(menu)\n",
    "menu_bar.add_command(label='red',command=red_window)\n",
    "menu_bar.add_command(label='green',command=green_window)\n",
    "menu_bar.add_command(label='blue',command=blue_window)\n",
    "menu.add_cascade(label='color',menu=menu_bar)\n",
    "win.config(menu=menu)\n",
    "win.mainloop()"
   ]
  },
  {
   "cell_type": "markdown",
   "metadata": {},
   "source": [
    "# Tear off"
   ]
  },
  {
   "cell_type": "code",
   "execution_count": 8,
   "metadata": {},
   "outputs": [],
   "source": [
    "from tkinter import *\n",
    "def red_window():\n",
    "    win['bg']='red'\n",
    "def green_window():\n",
    "    win['bg']='green'\n",
    "def blue_window():\n",
    "    win['bg']='blue'\n",
    "win=Tk()\n",
    "menu=Menu(win)\n",
    "menu_bar=Menu(menu,tearoff=False)#<----------------\n",
    "menu_bar.add_command(label='red',command=red_window)\n",
    "menu_bar.add_command(label='green',command=green_window)\n",
    "menu_bar.add_command(label='blue',command=blue_window)\n",
    "menu.add_cascade(label='color',menu=menu_bar)\n",
    "win.config(menu=menu)\n",
    "win.mainloop()"
   ]
  },
  {
   "cell_type": "markdown",
   "metadata": {},
   "source": [
    "# Using separators to group Python tkinter menu items"
   ]
  },
  {
   "cell_type": "code",
   "execution_count": 15,
   "metadata": {},
   "outputs": [],
   "source": [
    "from tkinter import *\n",
    "def red_window():\n",
    "    win['bg']='red'\n",
    "def green_window():\n",
    "    win['bg']='green'\n",
    "def blue_window():\n",
    "    win['bg']='blue'\n",
    "win=Tk()\n",
    "menu=Menu(win)\n",
    "menu_bar=Menu(menu,tearoff=False)\n",
    "menu_bar.add_command(label='It will color the window red',command=red_window)\n",
    "menu_bar.add_separator()#<--------------------------------------------------------\n",
    "menu_bar.add_command(label='It will color the window green',command=green_window)\n",
    "menu_bar.add_separator()#<--------------------------------------------------------\n",
    "menu_bar.add_command(label='It will color the window blue',command=blue_window)\n",
    "menu_bar.add_separator()#<--------------------------------------------------------\n",
    "menu.add_cascade(label='color',menu=menu_bar)\n",
    "win.config(menu=menu)\n",
    "win.mainloop()"
   ]
  },
  {
   "cell_type": "code",
   "execution_count": null,
   "metadata": {},
   "outputs": [],
   "source": []
  },
  {
   "cell_type": "code",
   "execution_count": null,
   "metadata": {},
   "outputs": [],
   "source": []
  },
  {
   "cell_type": "markdown",
   "metadata": {},
   "source": [
    "# Displaying the current time in a Python tkinter window"
   ]
  },
  {
   "cell_type": "code",
   "execution_count": 48,
   "metadata": {},
   "outputs": [
    {
     "name": "stdout",
     "output_type": "stream",
     "text": [
      "00:17:00:am\n"
     ]
    }
   ],
   "source": [
    "import time\n",
    "current_time=time.strftime('%H:%M:%S:%P')#<---------------------\n",
    "print(current_time)"
   ]
  },
  {
   "cell_type": "code",
   "execution_count": 50,
   "metadata": {},
   "outputs": [
    {
     "name": "stdout",
     "output_type": "stream",
     "text": [
      "00:18:53:AM\n"
     ]
    }
   ],
   "source": [
    "# import time\n",
    "current_time=time.strftime('%H:%M:%S:%p')#<---------------------\n",
    "print(current_time)"
   ]
  },
  {
   "cell_type": "code",
   "execution_count": 1,
   "metadata": {},
   "outputs": [
    {
     "ename": "TclError",
     "evalue": "invalid command name \".!label\"",
     "output_type": "error",
     "traceback": [
      "\u001b[0;31m---------------------------------------------------------------------------\u001b[0m",
      "\u001b[0;31mTclError\u001b[0m                                  Traceback (most recent call last)",
      "\u001b[0;32m<ipython-input-1-ed3ef2844423>\u001b[0m in \u001b[0;36m<module>\u001b[0;34m\u001b[0m\n\u001b[1;32m      8\u001b[0m \u001b[0mtime_label\u001b[0m\u001b[0;34m.\u001b[0m\u001b[0mgrid\u001b[0m\u001b[0;34m(\u001b[0m\u001b[0mrow\u001b[0m\u001b[0;34m=\u001b[0m\u001b[0;36m0\u001b[0m\u001b[0;34m,\u001b[0m\u001b[0mcolumn\u001b[0m\u001b[0;34m=\u001b[0m\u001b[0;36m0\u001b[0m\u001b[0;34m)\u001b[0m\u001b[0;34m\u001b[0m\u001b[0;34m\u001b[0m\u001b[0m\n\u001b[1;32m      9\u001b[0m \u001b[0;32mwhile\u001b[0m \u001b[0;32mTrue\u001b[0m\u001b[0;34m:\u001b[0m\u001b[0;34m\u001b[0m\u001b[0;34m\u001b[0m\u001b[0m\n\u001b[0;32m---> 10\u001b[0;31m     \u001b[0mtime_label\u001b[0m\u001b[0;34m[\u001b[0m\u001b[0;34m'text'\u001b[0m\u001b[0;34m]\u001b[0m\u001b[0;34m=\u001b[0m\u001b[0mtiming\u001b[0m\u001b[0;34m(\u001b[0m\u001b[0;34m)\u001b[0m\u001b[0;34m\u001b[0m\u001b[0;34m\u001b[0m\u001b[0m\n\u001b[0m\u001b[1;32m     11\u001b[0m     \u001b[0mtime_label\u001b[0m\u001b[0;34m.\u001b[0m\u001b[0mafter\u001b[0m\u001b[0;34m(\u001b[0m\u001b[0;36m200\u001b[0m\u001b[0;34m,\u001b[0m\u001b[0mtiming\u001b[0m\u001b[0;34m)\u001b[0m\u001b[0;34m\u001b[0m\u001b[0;34m\u001b[0m\u001b[0m\n\u001b[1;32m     12\u001b[0m     \u001b[0mtime_label\u001b[0m\u001b[0;34m.\u001b[0m\u001b[0mupdate\u001b[0m\u001b[0;34m(\u001b[0m\u001b[0;34m)\u001b[0m\u001b[0;34m\u001b[0m\u001b[0;34m\u001b[0m\u001b[0m\n",
      "\u001b[0;32m~/anaconda3/lib/python3.7/tkinter/__init__.py\u001b[0m in \u001b[0;36m__setitem__\u001b[0;34m(self, key, value)\u001b[0m\n\u001b[1;32m   1490\u001b[0m     \u001b[0m__getitem__\u001b[0m \u001b[0;34m=\u001b[0m \u001b[0mcget\u001b[0m\u001b[0;34m\u001b[0m\u001b[0;34m\u001b[0m\u001b[0m\n\u001b[1;32m   1491\u001b[0m     \u001b[0;32mdef\u001b[0m \u001b[0m__setitem__\u001b[0m\u001b[0;34m(\u001b[0m\u001b[0mself\u001b[0m\u001b[0;34m,\u001b[0m \u001b[0mkey\u001b[0m\u001b[0;34m,\u001b[0m \u001b[0mvalue\u001b[0m\u001b[0;34m)\u001b[0m\u001b[0;34m:\u001b[0m\u001b[0;34m\u001b[0m\u001b[0;34m\u001b[0m\u001b[0m\n\u001b[0;32m-> 1492\u001b[0;31m         \u001b[0mself\u001b[0m\u001b[0;34m.\u001b[0m\u001b[0mconfigure\u001b[0m\u001b[0;34m(\u001b[0m\u001b[0;34m{\u001b[0m\u001b[0mkey\u001b[0m\u001b[0;34m:\u001b[0m \u001b[0mvalue\u001b[0m\u001b[0;34m}\u001b[0m\u001b[0;34m)\u001b[0m\u001b[0;34m\u001b[0m\u001b[0;34m\u001b[0m\u001b[0m\n\u001b[0m\u001b[1;32m   1493\u001b[0m     \u001b[0;32mdef\u001b[0m \u001b[0mkeys\u001b[0m\u001b[0;34m(\u001b[0m\u001b[0mself\u001b[0m\u001b[0;34m)\u001b[0m\u001b[0;34m:\u001b[0m\u001b[0;34m\u001b[0m\u001b[0;34m\u001b[0m\u001b[0m\n\u001b[1;32m   1494\u001b[0m         \u001b[0;34m\"\"\"Return a list of all resource names of this widget.\"\"\"\u001b[0m\u001b[0;34m\u001b[0m\u001b[0;34m\u001b[0m\u001b[0m\n",
      "\u001b[0;32m~/anaconda3/lib/python3.7/tkinter/__init__.py\u001b[0m in \u001b[0;36mconfigure\u001b[0;34m(self, cnf, **kw)\u001b[0m\n\u001b[1;32m   1483\u001b[0m         \u001b[0mthe\u001b[0m \u001b[0mallowed\u001b[0m \u001b[0mkeyword\u001b[0m \u001b[0marguments\u001b[0m \u001b[0mcall\u001b[0m \u001b[0mthe\u001b[0m \u001b[0mmethod\u001b[0m \u001b[0mkeys\u001b[0m\u001b[0;34m.\u001b[0m\u001b[0;34m\u001b[0m\u001b[0;34m\u001b[0m\u001b[0m\n\u001b[1;32m   1484\u001b[0m         \"\"\"\n\u001b[0;32m-> 1485\u001b[0;31m         \u001b[0;32mreturn\u001b[0m \u001b[0mself\u001b[0m\u001b[0;34m.\u001b[0m\u001b[0m_configure\u001b[0m\u001b[0;34m(\u001b[0m\u001b[0;34m'configure'\u001b[0m\u001b[0;34m,\u001b[0m \u001b[0mcnf\u001b[0m\u001b[0;34m,\u001b[0m \u001b[0mkw\u001b[0m\u001b[0;34m)\u001b[0m\u001b[0;34m\u001b[0m\u001b[0;34m\u001b[0m\u001b[0m\n\u001b[0m\u001b[1;32m   1486\u001b[0m     \u001b[0mconfig\u001b[0m \u001b[0;34m=\u001b[0m \u001b[0mconfigure\u001b[0m\u001b[0;34m\u001b[0m\u001b[0;34m\u001b[0m\u001b[0m\n\u001b[1;32m   1487\u001b[0m     \u001b[0;32mdef\u001b[0m \u001b[0mcget\u001b[0m\u001b[0;34m(\u001b[0m\u001b[0mself\u001b[0m\u001b[0;34m,\u001b[0m \u001b[0mkey\u001b[0m\u001b[0;34m)\u001b[0m\u001b[0;34m:\u001b[0m\u001b[0;34m\u001b[0m\u001b[0;34m\u001b[0m\u001b[0m\n",
      "\u001b[0;32m~/anaconda3/lib/python3.7/tkinter/__init__.py\u001b[0m in \u001b[0;36m_configure\u001b[0;34m(self, cmd, cnf, kw)\u001b[0m\n\u001b[1;32m   1474\u001b[0m         \u001b[0;32mif\u001b[0m \u001b[0misinstance\u001b[0m\u001b[0;34m(\u001b[0m\u001b[0mcnf\u001b[0m\u001b[0;34m,\u001b[0m \u001b[0mstr\u001b[0m\u001b[0;34m)\u001b[0m\u001b[0;34m:\u001b[0m\u001b[0;34m\u001b[0m\u001b[0;34m\u001b[0m\u001b[0m\n\u001b[1;32m   1475\u001b[0m             \u001b[0;32mreturn\u001b[0m \u001b[0mself\u001b[0m\u001b[0;34m.\u001b[0m\u001b[0m_getconfigure1\u001b[0m\u001b[0;34m(\u001b[0m\u001b[0m_flatten\u001b[0m\u001b[0;34m(\u001b[0m\u001b[0;34m(\u001b[0m\u001b[0mself\u001b[0m\u001b[0;34m.\u001b[0m\u001b[0m_w\u001b[0m\u001b[0;34m,\u001b[0m \u001b[0mcmd\u001b[0m\u001b[0;34m,\u001b[0m \u001b[0;34m'-'\u001b[0m\u001b[0;34m+\u001b[0m\u001b[0mcnf\u001b[0m\u001b[0;34m)\u001b[0m\u001b[0;34m)\u001b[0m\u001b[0;34m)\u001b[0m\u001b[0;34m\u001b[0m\u001b[0;34m\u001b[0m\u001b[0m\n\u001b[0;32m-> 1476\u001b[0;31m         \u001b[0mself\u001b[0m\u001b[0;34m.\u001b[0m\u001b[0mtk\u001b[0m\u001b[0;34m.\u001b[0m\u001b[0mcall\u001b[0m\u001b[0;34m(\u001b[0m\u001b[0m_flatten\u001b[0m\u001b[0;34m(\u001b[0m\u001b[0;34m(\u001b[0m\u001b[0mself\u001b[0m\u001b[0;34m.\u001b[0m\u001b[0m_w\u001b[0m\u001b[0;34m,\u001b[0m \u001b[0mcmd\u001b[0m\u001b[0;34m)\u001b[0m\u001b[0;34m)\u001b[0m \u001b[0;34m+\u001b[0m \u001b[0mself\u001b[0m\u001b[0;34m.\u001b[0m\u001b[0m_options\u001b[0m\u001b[0;34m(\u001b[0m\u001b[0mcnf\u001b[0m\u001b[0;34m)\u001b[0m\u001b[0;34m)\u001b[0m\u001b[0;34m\u001b[0m\u001b[0;34m\u001b[0m\u001b[0m\n\u001b[0m\u001b[1;32m   1477\u001b[0m     \u001b[0;31m# These used to be defined in Widget:\u001b[0m\u001b[0;34m\u001b[0m\u001b[0;34m\u001b[0m\u001b[0;34m\u001b[0m\u001b[0m\n\u001b[1;32m   1478\u001b[0m     \u001b[0;32mdef\u001b[0m \u001b[0mconfigure\u001b[0m\u001b[0;34m(\u001b[0m\u001b[0mself\u001b[0m\u001b[0;34m,\u001b[0m \u001b[0mcnf\u001b[0m\u001b[0;34m=\u001b[0m\u001b[0;32mNone\u001b[0m\u001b[0;34m,\u001b[0m \u001b[0;34m**\u001b[0m\u001b[0mkw\u001b[0m\u001b[0;34m)\u001b[0m\u001b[0;34m:\u001b[0m\u001b[0;34m\u001b[0m\u001b[0;34m\u001b[0m\u001b[0m\n",
      "\u001b[0;31mTclError\u001b[0m: invalid command name \".!label\""
     ]
    }
   ],
   "source": [
    "from tkinter import *\n",
    "import time\n",
    "win=Tk()\n",
    "def timing():\n",
    "    current_time=time.strftime('%H:%M:%S:%p')#<---------------------\n",
    "    return current_time\n",
    "time_label=Label(win,bg='#000000',fg='#ff0000',font='ariel 30')\n",
    "time_label.grid(row=0,column=0)\n",
    "while True:\n",
    "    time_label['text']=timing()\n",
    "    time_label.after(200,timing)\n",
    "    time_label.update()\n",
    "win.mainloop()"
   ]
  },
  {
   "cell_type": "markdown",
   "metadata": {},
   "source": [
    "# Process Bar"
   ]
  },
  {
   "cell_type": "code",
   "execution_count": null,
   "metadata": {},
   "outputs": [],
   "source": [
    "# importing tkinter module \n",
    "from tkinter import * \n",
    "# from tkinter.ttk import *\n",
    "\n",
    "# creating tkinter window \n",
    "root = Tk() \n",
    "\n",
    "# Progress bar widget \n",
    "progress = Progressbar(root, orient = HORIZONTAL, \n",
    "\t\t\tlength = 200, mode = 'determinate') \n",
    "\n",
    "# Function responsible for the updation \n",
    "# of the progress bar value \n",
    "def bar(): \n",
    "    import time \n",
    "    for i in range(100):\n",
    "        progress['value']=i\n",
    "        root.update_idletasks()\n",
    "        time.sleep(1)\n",
    "\n",
    "progress.pack(pady = 10) \n",
    "\n",
    "# This button will initialize \n",
    "# the progress bar \n",
    "Button(root, text = 'Start', command = bar).pack(pady = 10) \n",
    "\n",
    "# infinite loop \n",
    "mainloop() \n"
   ]
  },
  {
   "cell_type": "code",
   "execution_count": null,
   "metadata": {},
   "outputs": [],
   "source": [
    "# importing tkinter module \n",
    "from tkinter import * \n",
    "from tkinter.ttk import *\n",
    "\n",
    "# creating tkinter window \n",
    "root = Tk() \n",
    "\n",
    "# Progress bar widget \n",
    "progress = Progressbar(root, orient = HORIZONTAL, \n",
    "\t\t\tlength = 100, mode = 'indeterminate') \n",
    "\n",
    "# Function responsible for the updation \n",
    "# of the progress bar value \n",
    "def bar(): \n",
    "    import time \n",
    "    l=[20,40,50,60,80,100,80,60,50,40,20,0]\n",
    "    for i in l:\n",
    "        progress['value']=i\n",
    "        root.update_idletasks()\n",
    "        time.sleep(0.9)\n",
    "\n",
    "progress.pack(pady = 10) \n",
    "\n",
    "# This button will initialize \n",
    "# the progress bar \n",
    "Button(root, text = 'Start', command = bar).pack(pady = 10) \n",
    "\n",
    "# infinite loop \n",
    "mainloop() \n"
   ]
  },
  {
   "cell_type": "code",
   "execution_count": 2,
   "metadata": {},
   "outputs": [],
   "source": [
    "from tkinter import *\n",
    "from tkinter.ttk import *\n",
    "import time\n",
    "win=Tk()\n",
    "def progress():\n",
    "    for i in range(100):\n",
    "        progress['value']=i\n",
    "        win.update_idletasks()\n",
    "        time.sleep(.05)\n",
    "progress=Progressbar(win,orient=HORIZONTAL,length=500,mode='determinate')\n",
    "progress.pack()\n",
    "btn=Button(win,text='Start',command=progress).pack()\n",
    "mainloop()"
   ]
  },
  {
   "cell_type": "code",
   "execution_count": 23,
   "metadata": {},
   "outputs": [
    {
     "name": "stdout",
     "output_type": "stream",
     "text": [
      "1\n",
      "2\n",
      "3\n",
      "4\n",
      "5\n",
      "6\n",
      "7\n",
      "8\n",
      "9\n",
      "10\n",
      "11\n",
      "12\n",
      "13\n",
      "14\n",
      "15\n",
      "16\n",
      "17\n",
      "18\n",
      "19\n",
      "20\n",
      "21\n",
      "22\n",
      "23\n",
      "24\n",
      "25\n",
      "26\n",
      "27\n",
      "28\n",
      "29\n",
      "30\n",
      "31\n",
      "32\n",
      "33\n",
      "34\n",
      "35\n",
      "36\n",
      "37\n",
      "38\n",
      "39\n",
      "40\n",
      "41\n",
      "42\n",
      "43\n",
      "44\n",
      "45\n",
      "46\n",
      "47\n",
      "48\n",
      "49\n",
      "50\n",
      "51\n",
      "52\n",
      "53\n",
      "54\n",
      "55\n",
      "56\n",
      "57\n",
      "58\n",
      "59\n",
      "60\n",
      "61\n",
      "62\n",
      "63\n",
      "64\n",
      "65\n",
      "66\n",
      "67\n",
      "68\n",
      "69\n",
      "70\n",
      "71\n",
      "72\n",
      "73\n",
      "74\n",
      "75\n",
      "76\n",
      "77\n",
      "78\n",
      "79\n",
      "80\n",
      "81\n",
      "82\n",
      "83\n",
      "84\n",
      "85\n",
      "86\n",
      "87\n",
      "88\n",
      "89\n",
      "90\n",
      "91\n",
      "92\n",
      "93\n",
      "94\n",
      "95\n",
      "96\n",
      "97\n",
      "98\n",
      "99\n",
      "100\n",
      "101\n"
     ]
    }
   ],
   "source": [
    "import time\n",
    "from tkinter import *\n",
    "# from tkinter.ttk import *\n",
    "count=0\n",
    "def f20():\n",
    "    global count\n",
    "#     count=0\n",
    "    \n",
    "    for i in range(51):\n",
    "            progressbar['value']=i\n",
    "            percentage_label['bg']='white'\n",
    "        \n",
    "            percentage_label['fg']='blue'\n",
    "            percentage_label['text']=str(i)+'%'\n",
    "            win.update_idletasks()\n",
    "            percentage_label.update()\n",
    "#             time.sleep(.5)\n",
    "            percentage_label.after(200)\n",
    "            win.update_idletasks()\n",
    "#             time.sleep(.5)\n",
    "            count+=1\n",
    "#             if count==20:\n",
    "#                 count=1\n",
    "            print(count)\n",
    "def f40():\n",
    "    global count\n",
    "    for i in range(51,101):\n",
    "            progressbar['value']=i\n",
    "            percentage_label['bg']='#2D497F'\n",
    "            percentage_label['fg']='white'\n",
    "            percentage_label['text']=str(i)+'%'\n",
    "            win.update_idletasks()\n",
    "            percentage_label.update()\n",
    "#             time.sleep(.5)\n",
    "            percentage_label.after(200)\n",
    "            count+=1\n",
    "            print(count)\n",
    "def clicked():\n",
    "    if count==0:\n",
    "        f20()\n",
    "    else:\n",
    "        f40()\n",
    "win=Tk()\n",
    "progressbar=Progressbar(win,\n",
    "                       length=500,\n",
    "                       orient=HORIZONTAL,\n",
    "                       mode='determinate')\n",
    "progressbar.grid(row=0,column=0)\n",
    "\n",
    "btn=Button(win,text='start',command=clicked)\n",
    "btn.grid(row=1,column=0)\n",
    "\n",
    "percentage_label=Label(win,font='times 12')\n",
    "percentage_label.grid(row=0,column=0)\n",
    "win.geometry('500x500')\n",
    "win.mainloop()"
   ]
  },
  {
   "cell_type": "code",
   "execution_count": 1,
   "metadata": {},
   "outputs": [
    {
     "ename": "TclError",
     "evalue": "invalid command name \".!label\"",
     "output_type": "error",
     "traceback": [
      "\u001b[0;31m---------------------------------------------------------------------------\u001b[0m",
      "\u001b[0;31mTclError\u001b[0m                                  Traceback (most recent call last)",
      "\u001b[0;32m<ipython-input-1-b6b5bbce86c5>\u001b[0m in \u001b[0;36m<module>\u001b[0;34m\u001b[0m\n\u001b[1;32m      5\u001b[0m \u001b[0mtimer_label\u001b[0m\u001b[0;34m.\u001b[0m\u001b[0mgrid\u001b[0m\u001b[0;34m(\u001b[0m\u001b[0;34m)\u001b[0m\u001b[0;34m\u001b[0m\u001b[0;34m\u001b[0m\u001b[0m\n\u001b[1;32m      6\u001b[0m \u001b[0;32mfor\u001b[0m \u001b[0mi\u001b[0m \u001b[0;32min\u001b[0m \u001b[0mrange\u001b[0m\u001b[0;34m(\u001b[0m\u001b[0;36m1\u001b[0m\u001b[0;34m,\u001b[0m\u001b[0;36m61\u001b[0m\u001b[0;34m)\u001b[0m\u001b[0;34m:\u001b[0m\u001b[0;34m\u001b[0m\u001b[0;34m\u001b[0m\u001b[0m\n\u001b[0;32m----> 7\u001b[0;31m     \u001b[0mtimer_label\u001b[0m\u001b[0;34m[\u001b[0m\u001b[0;34m'text'\u001b[0m\u001b[0;34m]\u001b[0m\u001b[0;34m=\u001b[0m\u001b[0mstr\u001b[0m\u001b[0;34m(\u001b[0m\u001b[0mi\u001b[0m\u001b[0;34m)\u001b[0m\u001b[0;34m\u001b[0m\u001b[0;34m\u001b[0m\u001b[0m\n\u001b[0m\u001b[1;32m      8\u001b[0m     \u001b[0mtimer_label\u001b[0m\u001b[0;34m.\u001b[0m\u001b[0mupdate\u001b[0m\u001b[0;34m(\u001b[0m\u001b[0;34m)\u001b[0m\u001b[0;34m\u001b[0m\u001b[0;34m\u001b[0m\u001b[0m\n\u001b[1;32m      9\u001b[0m     \u001b[0mtimer_label\u001b[0m\u001b[0;34m.\u001b[0m\u001b[0mafter\u001b[0m\u001b[0;34m(\u001b[0m\u001b[0;36m1600\u001b[0m\u001b[0;34m)\u001b[0m\u001b[0;34m\u001b[0m\u001b[0;34m\u001b[0m\u001b[0m\n",
      "\u001b[0;32m~/anaconda3/lib/python3.7/tkinter/__init__.py\u001b[0m in \u001b[0;36m__setitem__\u001b[0;34m(self, key, value)\u001b[0m\n\u001b[1;32m   1490\u001b[0m     \u001b[0m__getitem__\u001b[0m \u001b[0;34m=\u001b[0m \u001b[0mcget\u001b[0m\u001b[0;34m\u001b[0m\u001b[0;34m\u001b[0m\u001b[0m\n\u001b[1;32m   1491\u001b[0m     \u001b[0;32mdef\u001b[0m \u001b[0m__setitem__\u001b[0m\u001b[0;34m(\u001b[0m\u001b[0mself\u001b[0m\u001b[0;34m,\u001b[0m \u001b[0mkey\u001b[0m\u001b[0;34m,\u001b[0m \u001b[0mvalue\u001b[0m\u001b[0;34m)\u001b[0m\u001b[0;34m:\u001b[0m\u001b[0;34m\u001b[0m\u001b[0;34m\u001b[0m\u001b[0m\n\u001b[0;32m-> 1492\u001b[0;31m         \u001b[0mself\u001b[0m\u001b[0;34m.\u001b[0m\u001b[0mconfigure\u001b[0m\u001b[0;34m(\u001b[0m\u001b[0;34m{\u001b[0m\u001b[0mkey\u001b[0m\u001b[0;34m:\u001b[0m \u001b[0mvalue\u001b[0m\u001b[0;34m}\u001b[0m\u001b[0;34m)\u001b[0m\u001b[0;34m\u001b[0m\u001b[0;34m\u001b[0m\u001b[0m\n\u001b[0m\u001b[1;32m   1493\u001b[0m     \u001b[0;32mdef\u001b[0m \u001b[0mkeys\u001b[0m\u001b[0;34m(\u001b[0m\u001b[0mself\u001b[0m\u001b[0;34m)\u001b[0m\u001b[0;34m:\u001b[0m\u001b[0;34m\u001b[0m\u001b[0;34m\u001b[0m\u001b[0m\n\u001b[1;32m   1494\u001b[0m         \u001b[0;34m\"\"\"Return a list of all resource names of this widget.\"\"\"\u001b[0m\u001b[0;34m\u001b[0m\u001b[0;34m\u001b[0m\u001b[0m\n",
      "\u001b[0;32m~/anaconda3/lib/python3.7/tkinter/__init__.py\u001b[0m in \u001b[0;36mconfigure\u001b[0;34m(self, cnf, **kw)\u001b[0m\n\u001b[1;32m   1483\u001b[0m         \u001b[0mthe\u001b[0m \u001b[0mallowed\u001b[0m \u001b[0mkeyword\u001b[0m \u001b[0marguments\u001b[0m \u001b[0mcall\u001b[0m \u001b[0mthe\u001b[0m \u001b[0mmethod\u001b[0m \u001b[0mkeys\u001b[0m\u001b[0;34m.\u001b[0m\u001b[0;34m\u001b[0m\u001b[0;34m\u001b[0m\u001b[0m\n\u001b[1;32m   1484\u001b[0m         \"\"\"\n\u001b[0;32m-> 1485\u001b[0;31m         \u001b[0;32mreturn\u001b[0m \u001b[0mself\u001b[0m\u001b[0;34m.\u001b[0m\u001b[0m_configure\u001b[0m\u001b[0;34m(\u001b[0m\u001b[0;34m'configure'\u001b[0m\u001b[0;34m,\u001b[0m \u001b[0mcnf\u001b[0m\u001b[0;34m,\u001b[0m \u001b[0mkw\u001b[0m\u001b[0;34m)\u001b[0m\u001b[0;34m\u001b[0m\u001b[0;34m\u001b[0m\u001b[0m\n\u001b[0m\u001b[1;32m   1486\u001b[0m     \u001b[0mconfig\u001b[0m \u001b[0;34m=\u001b[0m \u001b[0mconfigure\u001b[0m\u001b[0;34m\u001b[0m\u001b[0;34m\u001b[0m\u001b[0m\n\u001b[1;32m   1487\u001b[0m     \u001b[0;32mdef\u001b[0m \u001b[0mcget\u001b[0m\u001b[0;34m(\u001b[0m\u001b[0mself\u001b[0m\u001b[0;34m,\u001b[0m \u001b[0mkey\u001b[0m\u001b[0;34m)\u001b[0m\u001b[0;34m:\u001b[0m\u001b[0;34m\u001b[0m\u001b[0;34m\u001b[0m\u001b[0m\n",
      "\u001b[0;32m~/anaconda3/lib/python3.7/tkinter/__init__.py\u001b[0m in \u001b[0;36m_configure\u001b[0;34m(self, cmd, cnf, kw)\u001b[0m\n\u001b[1;32m   1474\u001b[0m         \u001b[0;32mif\u001b[0m \u001b[0misinstance\u001b[0m\u001b[0;34m(\u001b[0m\u001b[0mcnf\u001b[0m\u001b[0;34m,\u001b[0m \u001b[0mstr\u001b[0m\u001b[0;34m)\u001b[0m\u001b[0;34m:\u001b[0m\u001b[0;34m\u001b[0m\u001b[0;34m\u001b[0m\u001b[0m\n\u001b[1;32m   1475\u001b[0m             \u001b[0;32mreturn\u001b[0m \u001b[0mself\u001b[0m\u001b[0;34m.\u001b[0m\u001b[0m_getconfigure1\u001b[0m\u001b[0;34m(\u001b[0m\u001b[0m_flatten\u001b[0m\u001b[0;34m(\u001b[0m\u001b[0;34m(\u001b[0m\u001b[0mself\u001b[0m\u001b[0;34m.\u001b[0m\u001b[0m_w\u001b[0m\u001b[0;34m,\u001b[0m \u001b[0mcmd\u001b[0m\u001b[0;34m,\u001b[0m \u001b[0;34m'-'\u001b[0m\u001b[0;34m+\u001b[0m\u001b[0mcnf\u001b[0m\u001b[0;34m)\u001b[0m\u001b[0;34m)\u001b[0m\u001b[0;34m)\u001b[0m\u001b[0;34m\u001b[0m\u001b[0;34m\u001b[0m\u001b[0m\n\u001b[0;32m-> 1476\u001b[0;31m         \u001b[0mself\u001b[0m\u001b[0;34m.\u001b[0m\u001b[0mtk\u001b[0m\u001b[0;34m.\u001b[0m\u001b[0mcall\u001b[0m\u001b[0;34m(\u001b[0m\u001b[0m_flatten\u001b[0m\u001b[0;34m(\u001b[0m\u001b[0;34m(\u001b[0m\u001b[0mself\u001b[0m\u001b[0;34m.\u001b[0m\u001b[0m_w\u001b[0m\u001b[0;34m,\u001b[0m \u001b[0mcmd\u001b[0m\u001b[0;34m)\u001b[0m\u001b[0;34m)\u001b[0m \u001b[0;34m+\u001b[0m \u001b[0mself\u001b[0m\u001b[0;34m.\u001b[0m\u001b[0m_options\u001b[0m\u001b[0;34m(\u001b[0m\u001b[0mcnf\u001b[0m\u001b[0;34m)\u001b[0m\u001b[0;34m)\u001b[0m\u001b[0;34m\u001b[0m\u001b[0;34m\u001b[0m\u001b[0m\n\u001b[0m\u001b[1;32m   1477\u001b[0m     \u001b[0;31m# These used to be defined in Widget:\u001b[0m\u001b[0;34m\u001b[0m\u001b[0;34m\u001b[0m\u001b[0;34m\u001b[0m\u001b[0m\n\u001b[1;32m   1478\u001b[0m     \u001b[0;32mdef\u001b[0m \u001b[0mconfigure\u001b[0m\u001b[0;34m(\u001b[0m\u001b[0mself\u001b[0m\u001b[0;34m,\u001b[0m \u001b[0mcnf\u001b[0m\u001b[0;34m=\u001b[0m\u001b[0;32mNone\u001b[0m\u001b[0;34m,\u001b[0m \u001b[0;34m**\u001b[0m\u001b[0mkw\u001b[0m\u001b[0;34m)\u001b[0m\u001b[0;34m:\u001b[0m\u001b[0;34m\u001b[0m\u001b[0;34m\u001b[0m\u001b[0m\n",
      "\u001b[0;31mTclError\u001b[0m: invalid command name \".!label\""
     ]
    }
   ],
   "source": [
    "import time \n",
    "from tkinter import *\n",
    "win=Tk()\n",
    "timer_label=Label(win,bg='black',fg='red',font='times 22 bold')\n",
    "timer_label.grid()\n",
    "for i in range(1,61):\n",
    "    timer_label['text']=str(i)\n",
    "    timer_label.update()\n",
    "    timer_label.after(1600)\n",
    "win.mainloop()"
   ]
  },
  {
   "cell_type": "code",
   "execution_count": 8,
   "metadata": {},
   "outputs": [
    {
     "name": "stdout",
     "output_type": "stream",
     "text": [
      "1\n"
     ]
    }
   ],
   "source": [
    "c=0\n",
    "def f():\n",
    "    global c\n",
    "    c+=1\n",
    "    print(c)\n",
    "def ff():\n",
    "    print('second function')\n",
    "    c+=1\n",
    "if c==0:\n",
    "    f()\n",
    "else:\n",
    "    ff()"
   ]
  },
  {
   "cell_type": "code",
   "execution_count": 19,
   "metadata": {},
   "outputs": [
    {
     "ename": "UnboundLocalError",
     "evalue": "local variable 'c' referenced before assignment",
     "output_type": "error",
     "traceback": [
      "\u001b[0;31m---------------------------------------------------------------------------\u001b[0m",
      "\u001b[0;31mUnboundLocalError\u001b[0m                         Traceback (most recent call last)",
      "\u001b[0;32m<ipython-input-19-0253887fe21f>\u001b[0m in \u001b[0;36m<module>\u001b[0;34m\u001b[0m\n\u001b[1;32m      4\u001b[0m     \u001b[0mc\u001b[0m\u001b[0;34m+=\u001b[0m\u001b[0;36m1\u001b[0m\u001b[0;34m\u001b[0m\u001b[0;34m\u001b[0m\u001b[0m\n\u001b[1;32m      5\u001b[0m     \u001b[0mprint\u001b[0m\u001b[0;34m(\u001b[0m\u001b[0mc\u001b[0m\u001b[0;34m)\u001b[0m\u001b[0;34m\u001b[0m\u001b[0;34m\u001b[0m\u001b[0m\n\u001b[0;32m----> 6\u001b[0;31m \u001b[0mf\u001b[0m\u001b[0;34m(\u001b[0m\u001b[0;34m)\u001b[0m\u001b[0;34m\u001b[0m\u001b[0;34m\u001b[0m\u001b[0m\n\u001b[0m",
      "\u001b[0;32m<ipython-input-19-0253887fe21f>\u001b[0m in \u001b[0;36mf\u001b[0;34m()\u001b[0m\n\u001b[1;32m      2\u001b[0m \u001b[0mc\u001b[0m\u001b[0;34m=\u001b[0m\u001b[0;36m0\u001b[0m\u001b[0;34m\u001b[0m\u001b[0;34m\u001b[0m\u001b[0m\n\u001b[1;32m      3\u001b[0m \u001b[0;32mdef\u001b[0m \u001b[0mf\u001b[0m\u001b[0;34m(\u001b[0m\u001b[0;34m)\u001b[0m\u001b[0;34m:\u001b[0m\u001b[0;34m\u001b[0m\u001b[0;34m\u001b[0m\u001b[0m\n\u001b[0;32m----> 4\u001b[0;31m     \u001b[0mc\u001b[0m\u001b[0;34m+=\u001b[0m\u001b[0;36m1\u001b[0m\u001b[0;34m\u001b[0m\u001b[0;34m\u001b[0m\u001b[0m\n\u001b[0m\u001b[1;32m      5\u001b[0m     \u001b[0mprint\u001b[0m\u001b[0;34m(\u001b[0m\u001b[0mc\u001b[0m\u001b[0;34m)\u001b[0m\u001b[0;34m\u001b[0m\u001b[0;34m\u001b[0m\u001b[0m\n\u001b[1;32m      6\u001b[0m \u001b[0mf\u001b[0m\u001b[0;34m(\u001b[0m\u001b[0;34m)\u001b[0m\u001b[0;34m\u001b[0m\u001b[0;34m\u001b[0m\u001b[0m\n",
      "\u001b[0;31mUnboundLocalError\u001b[0m: local variable 'c' referenced before assignment"
     ]
    }
   ],
   "source": [
    "global c\n",
    "c=0\n",
    "def f():\n",
    "    c+=1\n",
    "    print(c)\n",
    "f()"
   ]
  },
  {
   "cell_type": "code",
   "execution_count": 3,
   "metadata": {},
   "outputs": [
    {
     "name": "stderr",
     "output_type": "stream",
     "text": [
      "100%|████████████████████████████████████████████████████████████████████████████████| 100/100 [00:01<00:00, 64.22it/s]"
     ]
    },
    {
     "name": "stdout",
     "output_type": "stream",
     "text": [
      "Er,how long it will take ?\n"
     ]
    },
    {
     "name": "stderr",
     "output_type": "stream",
     "text": [
      "\n"
     ]
    }
   ],
   "source": [
    "from tqdm import tqdm\n",
    "from time import sleep\n",
    "for i in tqdm(range(100)):\n",
    "    sleep(.01)\n",
    "print('Er,how long it will take ?')"
   ]
  },
  {
   "cell_type": "code",
   "execution_count": 1,
   "metadata": {},
   "outputs": [
    {
     "name": "stderr",
     "output_type": "stream",
     "text": [
      "100%|████████████████████████████████████████████████████████████████████████████████| 100/100 [00:51<00:00,  1.95it/s]\n"
     ]
    }
   ],
   "source": [
    "from tqdm import tqdm\n",
    "from time import sleep\n",
    "for i in tqdm(range(100)):\n",
    "    sleep(.5)"
   ]
  },
  {
   "cell_type": "code",
   "execution_count": 18,
   "metadata": {
    "scrolled": true
   },
   "outputs": [
    {
     "name": "stdout",
     "output_type": "stream",
     "text": [
      "Help on class tqdm in module tqdm.std:\n",
      "\n",
      "class tqdm(tqdm.utils.Comparable)\n",
      " |  tqdm(*args, **kwargs)\n",
      " |  \n",
      " |  Decorate an iterable object, returning an iterator which acts exactly\n",
      " |  like the original iterable, but prints a dynamically updating\n",
      " |  progressbar every time a value is requested.\n",
      " |  \n",
      " |  Method resolution order:\n",
      " |      tqdm\n",
      " |      tqdm.utils.Comparable\n",
      " |      builtins.object\n",
      " |  \n",
      " |  Methods defined here:\n",
      " |  \n",
      " |  __bool__(self)\n",
      " |  \n",
      " |  __del__(self)\n",
      " |  \n",
      " |  __enter__(self)\n",
      " |  \n",
      " |  __exit__(self, exc_type, exc_value, traceback)\n",
      " |  \n",
      " |  __hash__(self)\n",
      " |      Return hash(self).\n",
      " |  \n",
      " |  __init__(self, iterable=None, desc=None, total=None, leave=True, file=None, ncols=None, mininterval=0.1, maxinterval=10.0, miniters=None, ascii=None, disable=False, unit='it', unit_scale=False, dynamic_ncols=False, smoothing=0.3, bar_format=None, initial=0, position=None, postfix=None, unit_divisor=1000, write_bytes=None, gui=False, **kwargs)\n",
      " |      Parameters\n",
      " |      ----------\n",
      " |      iterable  : iterable, optional\n",
      " |          Iterable to decorate with a progressbar.\n",
      " |          Leave blank to manually manage the updates.\n",
      " |      desc  : str, optional\n",
      " |          Prefix for the progressbar.\n",
      " |      total  : int, optional\n",
      " |          The number of expected iterations. If unspecified,\n",
      " |          len(iterable) is used if possible. If float(\"inf\") or as a last\n",
      " |          resort, only basic progress statistics are displayed\n",
      " |          (no ETA, no progressbar).\n",
      " |          If `gui` is True and this parameter needs subsequent updating,\n",
      " |          specify an initial arbitrary large positive integer,\n",
      " |          e.g. int(9e9).\n",
      " |      leave  : bool, optional\n",
      " |          If [default: True], keeps all traces of the progressbar\n",
      " |          upon termination of iteration.\n",
      " |          If `None`, will leave only if `position` is `0`.\n",
      " |      file  : `io.TextIOWrapper` or `io.StringIO`, optional\n",
      " |          Specifies where to output the progress messages\n",
      " |          (default: sys.stderr). Uses `file.write(str)` and `file.flush()`\n",
      " |          methods.  For encoding, see `write_bytes`.\n",
      " |      ncols  : int, optional\n",
      " |          The width of the entire output message. If specified,\n",
      " |          dynamically resizes the progressbar to stay within this bound.\n",
      " |          If unspecified, attempts to use environment width. The\n",
      " |          fallback is a meter width of 10 and no limit for the counter and\n",
      " |          statistics. If 0, will not print any meter (only stats).\n",
      " |      mininterval  : float, optional\n",
      " |          Minimum progress display update interval [default: 0.1] seconds.\n",
      " |      maxinterval  : float, optional\n",
      " |          Maximum progress display update interval [default: 10] seconds.\n",
      " |          Automatically adjusts `miniters` to correspond to `mininterval`\n",
      " |          after long display update lag. Only works if `dynamic_miniters`\n",
      " |          or monitor thread is enabled.\n",
      " |      miniters  : int, optional\n",
      " |          Minimum progress display update interval, in iterations.\n",
      " |          If 0 and `dynamic_miniters`, will automatically adjust to equal\n",
      " |          `mininterval` (more CPU efficient, good for tight loops).\n",
      " |          If > 0, will skip display of specified number of iterations.\n",
      " |          Tweak this and `mininterval` to get very efficient loops.\n",
      " |          If your progress is erratic with both fast and slow iterations\n",
      " |          (network, skipping items, etc) you should set miniters=1.\n",
      " |      ascii  : bool or str, optional\n",
      " |          If unspecified or False, use unicode (smooth blocks) to fill\n",
      " |          the meter. The fallback is to use ASCII characters \" 123456789#\".\n",
      " |      disable  : bool, optional\n",
      " |          Whether to disable the entire progressbar wrapper\n",
      " |          [default: False]. If set to None, disable on non-TTY.\n",
      " |      unit  : str, optional\n",
      " |          String that will be used to define the unit of each iteration\n",
      " |          [default: it].\n",
      " |      unit_scale  : bool or int or float, optional\n",
      " |          If 1 or True, the number of iterations will be reduced/scaled\n",
      " |          automatically and a metric prefix following the\n",
      " |          International System of Units standard will be added\n",
      " |          (kilo, mega, etc.) [default: False]. If any other non-zero\n",
      " |          number, will scale `total` and `n`.\n",
      " |      dynamic_ncols  : bool, optional\n",
      " |          If set, constantly alters `ncols` to the environment (allowing\n",
      " |          for window resizes) [default: False].\n",
      " |      smoothing  : float, optional\n",
      " |          Exponential moving average smoothing factor for speed estimates\n",
      " |          (ignored in GUI mode). Ranges from 0 (average speed) to 1\n",
      " |          (current/instantaneous speed) [default: 0.3].\n",
      " |      bar_format  : str, optional\n",
      " |          Specify a custom bar string formatting. May impact performance.\n",
      " |          [default: '{l_bar}{bar}{r_bar}'], where\n",
      " |          l_bar='{desc}: {percentage:3.0f}%|' and\n",
      " |          r_bar='| {n_fmt}/{total_fmt} [{elapsed}<{remaining}, '\n",
      " |            '{rate_fmt}{postfix}]'\n",
      " |          Possible vars: l_bar, bar, r_bar, n, n_fmt, total, total_fmt,\n",
      " |            percentage, elapsed, elapsed_s, ncols, desc, unit,\n",
      " |            rate, rate_fmt, rate_noinv, rate_noinv_fmt,\n",
      " |            rate_inv, rate_inv_fmt, postfix, unit_divisor,\n",
      " |            remaining, remaining_s.\n",
      " |          Note that a trailing \": \" is automatically removed after {desc}\n",
      " |          if the latter is empty.\n",
      " |      initial  : int, optional\n",
      " |          The initial counter value. Useful when restarting a progress\n",
      " |          bar [default: 0].\n",
      " |      position  : int, optional\n",
      " |          Specify the line offset to print this bar (starting from 0)\n",
      " |          Automatic if unspecified.\n",
      " |          Useful to manage multiple bars at once (eg, from threads).\n",
      " |      postfix  : dict or *, optional\n",
      " |          Specify additional stats to display at the end of the bar.\n",
      " |          Calls `set_postfix(**postfix)` if possible (dict).\n",
      " |      unit_divisor  : float, optional\n",
      " |          [default: 1000], ignored unless `unit_scale` is True.\n",
      " |      write_bytes  : bool, optional\n",
      " |          If (default: None) and `file` is unspecified,\n",
      " |          bytes will be written in Python 2. If `True` will also write\n",
      " |          bytes. In all other cases will default to unicode.\n",
      " |      gui  : bool, optional\n",
      " |          WARNING: internal parameter - do not use.\n",
      " |          Use tqdm.gui.tqdm(...) instead. If set, will attempt to use\n",
      " |          matplotlib animations for a graphical output [default: False].\n",
      " |      \n",
      " |      Returns\n",
      " |      -------\n",
      " |      out  : decorated iterator.\n",
      " |  \n",
      " |  __iter__(self)\n",
      " |      Backward-compatibility to use: for x in tqdm(iterable)\n",
      " |  \n",
      " |  __len__(self)\n",
      " |  \n",
      " |  __nonzero__(self)\n",
      " |  \n",
      " |  __repr__(self)\n",
      " |      Return repr(self).\n",
      " |  \n",
      " |  clear(self, nolock=False)\n",
      " |      Clear current bar display.\n",
      " |  \n",
      " |  close(self)\n",
      " |      Cleanup and (if leave=False) close the progressbar.\n",
      " |  \n",
      " |  display(self, msg=None, pos=None)\n",
      " |      Use `self.sp` to display `msg` in the specified `pos`.\n",
      " |      \n",
      " |      Consider overloading this function when inheriting to use e.g.:\n",
      " |      `self.some_frontend(**self.format_dict)` instead of `self.sp`.\n",
      " |      \n",
      " |      Parameters\n",
      " |      ----------\n",
      " |      msg  : str, optional. What to display (default: `repr(self)`).\n",
      " |      pos  : int, optional. Position to `moveto`\n",
      " |        (default: `abs(self.pos)`).\n",
      " |  \n",
      " |  moveto(self, n)\n",
      " |  \n",
      " |  refresh(self, nolock=False)\n",
      " |      Force refresh the display of this bar.\n",
      " |  \n",
      " |  reset(self, total=None)\n",
      " |      Resets to 0 iterations for repeated use.\n",
      " |      \n",
      " |      Consider combining with `leave=True`.\n",
      " |      \n",
      " |      Parameters\n",
      " |      ----------\n",
      " |      total  : int, optional. Total to use for the new bar.\n",
      " |  \n",
      " |  set_description(self, desc=None, refresh=True)\n",
      " |      Set/modify description of the progress bar.\n",
      " |      \n",
      " |      Parameters\n",
      " |      ----------\n",
      " |      desc  : str, optional\n",
      " |      refresh  : bool, optional\n",
      " |          Forces refresh [default: True].\n",
      " |  \n",
      " |  set_description_str(self, desc=None, refresh=True)\n",
      " |      Set/modify description without ': ' appended.\n",
      " |  \n",
      " |  set_postfix(self, ordered_dict=None, refresh=True, **kwargs)\n",
      " |      Set/modify postfix (additional stats)\n",
      " |      with automatic formatting based on datatype.\n",
      " |      \n",
      " |      Parameters\n",
      " |      ----------\n",
      " |      ordered_dict  : dict or OrderedDict, optional\n",
      " |      refresh  : bool, optional\n",
      " |          Forces refresh [default: True].\n",
      " |      kwargs  : dict, optional\n",
      " |  \n",
      " |  set_postfix_str(self, s='', refresh=True)\n",
      " |      Postfix without dictionary expansion, similar to prefix handling.\n",
      " |  \n",
      " |  unpause(self)\n",
      " |      Restart tqdm timer from last print time.\n",
      " |  \n",
      " |  update(self, n=1)\n",
      " |      Manually update the progress bar, useful for streams\n",
      " |      such as reading files.\n",
      " |      E.g.:\n",
      " |      >>> t = tqdm(total=filesize) # Initialise\n",
      " |      >>> for current_buffer in stream:\n",
      " |      ...    ...\n",
      " |      ...    t.update(len(current_buffer))\n",
      " |      >>> t.close()\n",
      " |      The last line is highly recommended, but possibly not necessary if\n",
      " |      `t.update()` will be called in such a way that `filesize` will be\n",
      " |      exactly reached and printed.\n",
      " |      \n",
      " |      Parameters\n",
      " |      ----------\n",
      " |      n  : int, optional\n",
      " |          Increment to add to the internal counter of iterations\n",
      " |          [default: 1].\n",
      " |  \n",
      " |  ----------------------------------------------------------------------\n",
      " |  Class methods defined here:\n",
      " |  \n",
      " |  external_write_mode(file=None, nolock=False) from builtins.type\n",
      " |      Disable tqdm within context and refresh tqdm when exits.\n",
      " |      Useful when writing to standard output stream\n",
      " |  \n",
      " |  get_lock() from builtins.type\n",
      " |      Get the global lock. Construct it if it does not exist.\n",
      " |  \n",
      " |  pandas(*targs, **tkwargs) from builtins.type\n",
      " |      Registers the given `tqdm` class with\n",
      " |          pandas.core.\n",
      " |          ( frame.DataFrame\n",
      " |          | series.Series\n",
      " |          | groupby.(generic.)DataFrameGroupBy\n",
      " |          | groupby.(generic.)SeriesGroupBy\n",
      " |          ).progress_apply\n",
      " |      \n",
      " |      A new instance will be create every time `progress_apply` is called,\n",
      " |      and each instance will automatically close() upon completion.\n",
      " |      \n",
      " |      Parameters\n",
      " |      ----------\n",
      " |      targs, tkwargs  : arguments for the tqdm instance\n",
      " |      \n",
      " |      Examples\n",
      " |      --------\n",
      " |      >>> import pandas as pd\n",
      " |      >>> import numpy as np\n",
      " |      >>> from tqdm import tqdm\n",
      " |      >>> from tqdm.gui import tqdm as tqdm_gui\n",
      " |      >>>\n",
      " |      >>> df = pd.DataFrame(np.random.randint(0, 100, (100000, 6)))\n",
      " |      >>> tqdm.pandas(ncols=50)  # can use tqdm_gui, optional kwargs, etc\n",
      " |      >>> # Now you can use `progress_apply` instead of `apply`\n",
      " |      >>> df.groupby(0).progress_apply(lambda x: x**2)\n",
      " |      \n",
      " |      References\n",
      " |      ----------\n",
      " |      https://stackoverflow.com/questions/18603270/\n",
      " |      progress-indicator-during-pandas-operations-python\n",
      " |  \n",
      " |  set_lock(lock) from builtins.type\n",
      " |      Set the global lock.\n",
      " |  \n",
      " |  write(s, file=None, end='\\n', nolock=False) from builtins.type\n",
      " |      Print a message via tqdm (without overlap with bars).\n",
      " |  \n",
      " |  ----------------------------------------------------------------------\n",
      " |  Static methods defined here:\n",
      " |  \n",
      " |  __new__(cls, *args, **kwargs)\n",
      " |      Create and return a new object.  See help(type) for accurate signature.\n",
      " |  \n",
      " |  ema(x, mu=None, alpha=0.3)\n",
      " |      Exponential moving average: smoothing to give progressively lower\n",
      " |      weights to older values.\n",
      " |      \n",
      " |      Parameters\n",
      " |      ----------\n",
      " |      x  : float\n",
      " |          New value to include in EMA.\n",
      " |      mu  : float, optional\n",
      " |          Previous EMA value.\n",
      " |      alpha  : float, optional\n",
      " |          Smoothing factor in range [0, 1], [default: 0.3].\n",
      " |          Increase to give more weight to recent values.\n",
      " |          Ranges from 0 (yields mu) to 1 (yields x).\n",
      " |  \n",
      " |  format_interval(t)\n",
      " |      Formats a number of seconds as a clock time, [H:]MM:SS\n",
      " |      \n",
      " |      Parameters\n",
      " |      ----------\n",
      " |      t  : int\n",
      " |          Number of seconds.\n",
      " |      \n",
      " |      Returns\n",
      " |      -------\n",
      " |      out  : str\n",
      " |          [H:]MM:SS\n",
      " |  \n",
      " |  format_meter(n, total, elapsed, ncols=None, prefix='', ascii=False, unit='it', unit_scale=False, rate=None, bar_format=None, postfix=None, unit_divisor=1000, **extra_kwargs)\n",
      " |      Return a string-based progress bar given some parameters\n",
      " |      \n",
      " |      Parameters\n",
      " |      ----------\n",
      " |      n  : int\n",
      " |          Number of finished iterations.\n",
      " |      total  : int\n",
      " |          The expected total number of iterations. If meaningless (), only\n",
      " |          basic progress statistics are displayed (no ETA).\n",
      " |      elapsed  : float\n",
      " |          Number of seconds passed since start.\n",
      " |      ncols  : int, optional\n",
      " |          The width of the entire output message. If specified,\n",
      " |          dynamically resizes `{bar}` to stay within this bound\n",
      " |          [default: None]. If `0`, will not print any bar (only stats).\n",
      " |          The fallback is `{bar:10}`.\n",
      " |      prefix  : str, optional\n",
      " |          Prefix message (included in total width) [default: ''].\n",
      " |          Use as {desc} in bar_format string.\n",
      " |      ascii  : bool, optional or str, optional\n",
      " |          If not set, use unicode (smooth blocks) to fill the meter\n",
      " |          [default: False]. The fallback is to use ASCII characters\n",
      " |          \" 123456789#\".\n",
      " |      unit  : str, optional\n",
      " |          The iteration unit [default: 'it'].\n",
      " |      unit_scale  : bool or int or float, optional\n",
      " |          If 1 or True, the number of iterations will be printed with an\n",
      " |          appropriate SI metric prefix (k = 10^3, M = 10^6, etc.)\n",
      " |          [default: False]. If any other non-zero number, will scale\n",
      " |          `total` and `n`.\n",
      " |      rate  : float, optional\n",
      " |          Manual override for iteration rate.\n",
      " |          If [default: None], uses n/elapsed.\n",
      " |      bar_format  : str, optional\n",
      " |          Specify a custom bar string formatting. May impact performance.\n",
      " |          [default: '{l_bar}{bar}{r_bar}'], where\n",
      " |          l_bar='{desc}: {percentage:3.0f}%|' and\n",
      " |          r_bar='| {n_fmt}/{total_fmt} [{elapsed}<{remaining}, '\n",
      " |            '{rate_fmt}{postfix}]'\n",
      " |          Possible vars: l_bar, bar, r_bar, n, n_fmt, total, total_fmt,\n",
      " |            percentage, elapsed, elapsed_s, ncols, desc, unit,\n",
      " |            rate, rate_fmt, rate_noinv, rate_noinv_fmt,\n",
      " |            rate_inv, rate_inv_fmt, postfix, unit_divisor,\n",
      " |            remaining, remaining_s.\n",
      " |          Note that a trailing \": \" is automatically removed after {desc}\n",
      " |          if the latter is empty.\n",
      " |      postfix  : *, optional\n",
      " |          Similar to `prefix`, but placed at the end\n",
      " |          (e.g. for additional stats).\n",
      " |          Note: postfix is usually a string (not a dict) for this method,\n",
      " |          and will if possible be set to postfix = ', ' + postfix.\n",
      " |          However other types are supported (#382).\n",
      " |      unit_divisor  : float, optional\n",
      " |          [default: 1000], ignored unless `unit_scale` is True.\n",
      " |      \n",
      " |      Returns\n",
      " |      -------\n",
      " |      out  : Formatted meter and stats, ready to display.\n",
      " |  \n",
      " |  format_num(n)\n",
      " |      Intelligent scientific notation (.3g).\n",
      " |      \n",
      " |      Parameters\n",
      " |      ----------\n",
      " |      n  : int or float or Numeric\n",
      " |          A Number.\n",
      " |      \n",
      " |      Returns\n",
      " |      -------\n",
      " |      out  : str\n",
      " |          Formatted number.\n",
      " |  \n",
      " |  format_sizeof(num, suffix='', divisor=1000)\n",
      " |      Formats a number (greater than unity) with SI Order of Magnitude\n",
      " |      prefixes.\n",
      " |      \n",
      " |      Parameters\n",
      " |      ----------\n",
      " |      num  : float\n",
      " |          Number ( >= 1) to format.\n",
      " |      suffix  : str, optional\n",
      " |          Post-postfix [default: ''].\n",
      " |      divisor  : float, optional\n",
      " |          Divisor between prefixes [default: 1000].\n",
      " |      \n",
      " |      Returns\n",
      " |      -------\n",
      " |      out  : str\n",
      " |          Number with Order of Magnitude SI unit postfix.\n",
      " |  \n",
      " |  status_printer(file)\n",
      " |      Manage the printing and in-place updating of a line of characters.\n",
      " |      Note that if the string is longer than a line, then in-place\n",
      " |      updating may not work (it will print a new line at each refresh).\n",
      " |  \n",
      " |  ----------------------------------------------------------------------\n",
      " |  Data descriptors defined here:\n",
      " |  \n",
      " |  format_dict\n",
      " |      Public API for read-only member access.\n",
      " |  \n",
      " |  ----------------------------------------------------------------------\n",
      " |  Data and other attributes defined here:\n",
      " |  \n",
      " |  monitor = None\n",
      " |  \n",
      " |  monitor_interval = 10\n",
      " |  \n",
      " |  ----------------------------------------------------------------------\n",
      " |  Methods inherited from tqdm.utils.Comparable:\n",
      " |  \n",
      " |  __eq__(self, other)\n",
      " |      Return self==value.\n",
      " |  \n",
      " |  __ge__(self, other)\n",
      " |      Return self>=value.\n",
      " |  \n",
      " |  __gt__(self, other)\n",
      " |      Return self>value.\n",
      " |  \n",
      " |  __le__(self, other)\n",
      " |      Return self<=value.\n",
      " |  \n",
      " |  __lt__(self, other)\n",
      " |      Return self<value.\n",
      " |  \n",
      " |  __ne__(self, other)\n",
      " |      Return self!=value.\n",
      " |  \n",
      " |  ----------------------------------------------------------------------\n",
      " |  Data descriptors inherited from tqdm.utils.Comparable:\n",
      " |  \n",
      " |  __dict__\n",
      " |      dictionary for instance variables (if defined)\n",
      " |  \n",
      " |  __weakref__\n",
      " |      list of weak references to the object (if defined)\n",
      "\n",
      "None\n"
     ]
    }
   ],
   "source": [
    " print(help(tqdm))"
   ]
  },
  {
   "cell_type": "markdown",
   "metadata": {},
   "source": [
    "# Radiobutton"
   ]
  },
  {
   "cell_type": "code",
   "execution_count": 10,
   "metadata": {},
   "outputs": [
    {
     "name": "stderr",
     "output_type": "stream",
     "text": [
      "Exception in Tkinter callback\n",
      "Traceback (most recent call last):\n",
      "  File \"C:\\ProgramData\\Anaconda3\\lib\\tkinter\\__init__.py\", line 1883, in __call__\n",
      "    return self.func(*args)\n",
      "  File \"<ipython-input-10-833582f0f3db>\", line 10, in value_of_button\n",
      "    print(Radiobutton['variable'])\n",
      "TypeError: 'type' object is not subscriptable\n"
     ]
    }
   ],
   "source": [
    "# Importing Tkinter module\n",
    "from tkinter import *\n",
    "from tkinter.ttk import *\n",
    "\n",
    "# Creating master Tkinter window\n",
    "master = Tk()\n",
    "master.geometry('175x175')\n",
    "\n",
    "def value_of_button():\n",
    "    print(Radiobutton['variable'])\n",
    "# Tkinter string variable\n",
    "# able to store any string value\n",
    "v = StringVar(master, \"1\")\n",
    "\n",
    "# Style class to add style to Radiobutton\n",
    "# it can be used to style any ttk widget\n",
    "# # style = Style(master)\n",
    "# # style.configure(\"TRadiobutton\", background = \"light green\", \n",
    "# \t\t\t\tforeground = \"red\", font = (\"arial\", 10, \"bold\"))\n",
    "\n",
    "# Dictionary to create multiple buttons\n",
    "values = {\"RadioButton 1\" : \"1\",\n",
    "\t\t\"RadioButton 2\" : \"2\",\n",
    "\t\t\"RadioButton 3\" : \"3\",\n",
    "\t\t\"RadioButton 4\" : \"4\",\n",
    "\t\t\"RadioButton 5\" : \"5\"}\n",
    "\n",
    "# Loop is used to create multiple Radiobuttons\n",
    "# rather than creating each button separately\n",
    "for (text, value) in values.items():\n",
    "\tRadiobutton(master, text = text, variable = v, \n",
    "\t\t\t\tvalue = value).pack(side = TOP, ipady = 5)\n",
    "\n",
    "# Infinite loop can be terminated by\n",
    "# keyboard or mouse interrupt\n",
    "# or by any predefined function (destroy())\n",
    "btn=Button(master,text='Click me',command=value_of_button)\n",
    "btn.pack()\n",
    "master.mainloop()\n"
   ]
  },
  {
   "cell_type": "code",
   "execution_count": null,
   "metadata": {},
   "outputs": [],
   "source": []
  }
 ],
 "metadata": {
  "kernelspec": {
   "display_name": "Python 3",
   "language": "python",
   "name": "python3"
  },
  "language_info": {
   "codemirror_mode": {
    "name": "ipython",
    "version": 3
   },
   "file_extension": ".py",
   "mimetype": "text/x-python",
   "name": "python",
   "nbconvert_exporter": "python",
   "pygments_lexer": "ipython3",
   "version": "3.8.3"
  }
 },
 "nbformat": 4,
 "nbformat_minor": 2
}
