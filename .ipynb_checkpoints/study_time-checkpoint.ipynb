{
 "cells": [
  {
   "cell_type": "code",
   "execution_count": 1,
   "metadata": {},
   "outputs": [
    {
     "name": "stdout",
     "output_type": "stream",
     "text": [
      "Enter the study hours of today : 4\n"
     ]
    }
   ],
   "source": [
    "from pymysql import *\n",
    "import datetime\n",
    "connection=connect(host=\"localhost\",password='',port=3306,user='root',database='TIME')\n",
    "cursor=connection.cursor()\n",
    "no_of_hours=input('Enter the study hours of today : ')\n",
    "if no_of_hours:\n",
    "    no_of_hours+='Hrs'\n",
    "    current_date=datetime.datetime.now()\n",
    "    time=current_date.strftime('%dth, %B %Y (%H:%M:%S)')\n",
    "    query=\"INSERT INTO STUDY_TIME_COUNT_PER_DAY2 VALUES(%s,%s)\"\n",
    "    values=(time,no_of_hours)\n",
    "    cursor.execute(query,values)\n",
    "    connection.commit()\n",
    "    connection.close()\n",
    "else:\n",
    "    print('You did not enter anythig')"
   ]
  },
  {
   "cell_type": "code",
   "execution_count": null,
   "metadata": {},
   "outputs": [],
   "source": []
  }
 ],
 "metadata": {
  "kernelspec": {
   "display_name": "Python 3",
   "language": "python",
   "name": "python3"
  },
  "language_info": {
   "codemirror_mode": {
    "name": "ipython",
    "version": 3
   },
   "file_extension": ".py",
   "mimetype": "text/x-python",
   "name": "python",
   "nbconvert_exporter": "python",
   "pygments_lexer": "ipython3",
   "version": "3.7.4"
  }
 },
 "nbformat": 4,
 "nbformat_minor": 2
}
