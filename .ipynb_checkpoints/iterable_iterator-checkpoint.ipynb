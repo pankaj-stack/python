{
 "cells": [
  {
   "cell_type": "code",
   "execution_count": 6,
   "metadata": {},
   "outputs": [
    {
     "name": "stdout",
     "output_type": "stream",
     "text": [
      "1.Signup\n",
      "2.Login\n",
      "3.Exit\n",
      "Please choose Your choice : 1\n",
      "Enter your name : ramesh\n",
      "Enter your password : 8938439\n",
      "Enter Your choice : 2\n",
      "User name : pankaj\n",
      "password12345\n",
      "password does not match\n",
      "Unknown user\n",
      "password does not match\n",
      "{'pankaj': 12345, 'ramesh': '8938439'}\n"
     ]
    }
   ],
   "source": [
    "import sys\n",
    "print('1.Signup','2.Login','3.Exit',sep='\\n')\n",
    "d={'pankaj':'12345'}\n",
    "choice=input('Please choose Your choice : ')\n",
    "count=0\n",
    "if choice=='1':\n",
    "    \n",
    "    name=input('Enter your name : ')\n",
    "    copy=d\n",
    "#     print(type(copy))\n",
    "    for k,v in copy.items():\n",
    "        if k==name:\n",
    "            print('This name  is already exist')\n",
    "    else:\n",
    "        password=input('Enter your password : ')\n",
    "        if len(password)<6:\n",
    "            print('password length should greater than 5')\n",
    "        else:\n",
    "            d[name]=password\n",
    "            choice=input('Enter Your choice : ')\n",
    "if choice=='2':\n",
    "        name1=input('User name : ')        \n",
    "        for v,k in copy.items():\n",
    "            if name1==v:\n",
    "                passwd=input('password')\n",
    "            else:\n",
    "                print('Unknown user')\n",
    "            if passwd==k:\n",
    "                print('Login Successful')\n",
    "                break\n",
    "            else:\n",
    "                print('password does not match')\n",
    "if choice=='3':\n",
    "    sys.exit()\n",
    "print(d)"
   ]
  },
  {
   "cell_type": "markdown",
   "metadata": {},
   "source": [
    "Python | Difference between iterable and iterator\n",
    "Iterable is an object, which one can iterate over. It generates an Iterator when passed to iter() method. Iterator is an object, which is used to iterate over an iterable object using __next__() method. Iterators have __next__() method, which returns the next item of the object.\n",
    "\n",
    "Note that every iterator is also an iterable, but not every iterable is an iterator. For example, a list is iterable but a list is not an iterator. An iterator can be created from an iterable by using the function iter(). To make this possible, the class of an object needs either a method __iter__, which returns an iterator, or a __getitem__ method with sequential indexes starting with 0."
   ]
  },
  {
   "cell_type": "code",
   "execution_count": 4,
   "metadata": {},
   "outputs": [
    {
     "name": "stdout",
     "output_type": "stream",
     "text": [
      "True\n"
     ]
    }
   ],
   "source": [
    "l=[1,3.4,'hello',{'name':'pankaj'},(1,2,3,4)]\n",
    "iter_object=iter(l)\n",
    "if iter_object:\n",
    "    print(True)#It tells us about the iterable\n",
    "else:\n",
    "    print(False)"
   ]
  },
  {
   "cell_type": "code",
   "execution_count": 6,
   "metadata": {},
   "outputs": [
    {
     "name": "stdout",
     "output_type": "stream",
     "text": [
      "1\n",
      "3.4\n",
      "hello\n",
      "{'name': 'pankaj'}\n",
      "(1, 2, 3, 4)\n"
     ]
    }
   ],
   "source": [
    "print(next(iter_object))\n",
    "print(next(iter_object))\n",
    "print(next(iter_object))\n",
    "print(next(iter_object))\n",
    "print(next(iter_object))"
   ]
  },
  {
   "cell_type": "code",
   "execution_count": 8,
   "metadata": {},
   "outputs": [
    {
     "name": "stdout",
     "output_type": "stream",
     "text": [
      "34  is iterable :  False\n",
      "[4, 5]  is iterable :  True\n",
      "(4, 5)  is iterable :  True\n",
      "{'a': 4}  is iterable :  True\n",
      "dfsdf  is iterable :  True\n",
      "4.5  is iterable :  False\n"
     ]
    }
   ],
   "source": [
    "# Function to check object \n",
    "# is iterable or not \n",
    "def iterable(obj): \n",
    "\ttry: \n",
    "\t\titer(obj) \n",
    "\t\treturn True\n",
    "\t\t\n",
    "\texcept TypeError: \n",
    "\t\treturn False\n",
    "\n",
    "# Driver Code\t \n",
    "for element in [34, [4, 5], (4, 5), \n",
    "\t\t\t{\"a\":4}, \"dfsdf\", 4.5]: \n",
    "\t\t\t\t\n",
    "\tprint(element, \" is iterable : \", iterable(element)) \n"
   ]
  },
  {
   "cell_type": "code",
   "execution_count": 7,
   "metadata": {},
   "outputs": [
    {
     "name": "stdout",
     "output_type": "stream",
     "text": [
      "(0, 'd')\n",
      "(1, 'u')\n",
      "(2, 'c')\n",
      "(3, 'a')\n",
      "(4, 't')\n"
     ]
    }
   ],
   "source": [
    "s='ducat'\n",
    "enum=enumerate(s)#Returns an iterator object\n",
    "print(next(enum))\n",
    "print(next(enum))\n",
    "print(next(enum))\n",
    "print(next(enum))\n",
    "print(next(enum))\n",
    "# print(next(enum))# It raises exception as StopIteration\n",
    "for i in enum:#It will no give any item or error b,coz we can use only once(iterator)\n",
    "    print(i)"
   ]
  },
  {
   "cell_type": "markdown",
   "metadata": {},
   "source": [
    "## Iterable"
   ]
  },
  {
   "cell_type": "code",
   "execution_count": 11,
   "metadata": {},
   "outputs": [
    {
     "name": "stdout",
     "output_type": "stream",
     "text": [
      "d\n",
      "u\n",
      "c\n",
      "a\n",
      "t\n"
     ]
    }
   ],
   "source": [
    "s='ducat'#Iterable object\n",
    "obj=iter(s)#Iterable object into iterator\n",
    "print(next(obj))\n",
    "print(next(obj))\n",
    "print(next(obj))\n",
    "print(next(obj))\n",
    "print(next(obj))\n",
    "# print(next(obj))It will raise exception StopIteration"
   ]
  },
  {
   "cell_type": "code",
   "execution_count": 7,
   "metadata": {},
   "outputs": [
    {
     "name": "stdout",
     "output_type": "stream",
     "text": [
      "hello"
     ]
    }
   ],
   "source": [
    "import sys\n",
    "sys.stdout.write('hello')"
   ]
  },
  {
   "cell_type": "code",
   "execution_count": 8,
   "metadata": {},
   "outputs": [
    {
     "name": "stdout",
     "output_type": "stream",
     "text": [
      "hello"
     ]
    }
   ],
   "source": [
    "#How to creat folder\n",
    "import sys\n"
   ]
  },
  {
   "cell_type": "code",
   "execution_count": null,
   "metadata": {},
   "outputs": [],
   "source": []
  }
 ],
 "metadata": {
  "kernelspec": {
   "display_name": "Python 3",
   "language": "python",
   "name": "python3"
  },
  "language_info": {
   "codemirror_mode": {
    "name": "ipython",
    "version": 3
   },
   "file_extension": ".py",
   "mimetype": "text/x-python",
   "name": "python",
   "nbconvert_exporter": "python",
   "pygments_lexer": "ipython3",
   "version": "3.7.4"
  }
 },
 "nbformat": 4,
 "nbformat_minor": 2
}
