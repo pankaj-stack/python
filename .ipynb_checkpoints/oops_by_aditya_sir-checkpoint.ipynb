{
 "cells": [
  {
   "cell_type": "code",
   "execution_count": 30,
   "metadata": {},
   "outputs": [
    {
     "name": "stdout",
     "output_type": "stream",
     "text": [
      "2 1\n",
      "5 6\n",
      "7.00+7.00i\n",
      "-3.00-5.00i\n",
      "4.00+17.00i\n",
      "0.26-0.11i\n",
      "2.24+0.00i\n",
      "7.81+0.00i\n"
     ]
    }
   ],
   "source": [
    "import math\n",
    "class Complex(object):\n",
    "    def __init__(self, real, imaginary):\n",
    "        self.real=real\n",
    "        self.imaginary=imaginary\n",
    "        \n",
    "    def __add__(self, no):\n",
    "        x=self.real+no.real\n",
    "        y=self.imaginary+no.imaginary\n",
    "        return Complex(x,y)\n",
    "        \n",
    "    def __sub__(self, no):\n",
    "        x=self.real-no.real\n",
    "        y=self.imaginary-no.imaginary\n",
    "        return Complex(x,y)\n",
    "        \n",
    "    def __mul__(self, no):\n",
    "        x=self.real*no.real-self.imaginary*no.imaginary\n",
    "        y=self.real*no.imaginary+self.imaginary*no.real\n",
    "        return Complex(x,y)\n",
    "    def __truediv__(self, no):\n",
    "        x=self.real*no.real+self.imaginary*no.imaginary\n",
    "        y=self.imaginary*no.real-self.real*no.imaginary\n",
    "        r=no.real**2+no.imaginary**2\n",
    "        return Complex(x/r,y/r)\n",
    "    def mod(self):\n",
    "        x=self.real\n",
    "        y=self.imaginary\n",
    "        return f'{\"%.2f\"%(math.sqrt(x**2+y**2))}+{\"0.00\"+\"i\"}'\n",
    "\n",
    "    def __str__(self):\n",
    "        if self.imaginary == 0:\n",
    "            result = \"%.2f+0.00i\" % (self.real)\n",
    "        elif self.real == 0:\n",
    "            if self.imaginary >= 0:\n",
    "                result = \"0.00+%.2fi\" % (self.imaginary)\n",
    "            else:\n",
    "                result = \"0.00-%.2fi\" % (abs(self.imaginary))\n",
    "        elif self.imaginary > 0:\n",
    "            result = \"%.2f+%.2fi\" % (self.real, self.imaginary)\n",
    "        else:\n",
    "            result = \"%.2f-%.2fi\" % (self.real, abs(self.imaginary))\n",
    "        return result\n",
    "\n",
    "if __name__ == '__main__':\n",
    "    c = map(float, input().split())\n",
    "    d = map(float, input().split())\n",
    "    x = Complex(*c)\n",
    "    y = Complex(*d)\n",
    "    print(*map(str, [x+y, x-y, x*y, x/y, x.mod(), y.mod()]), sep='\\n')"
   ]
  },
  {
   "cell_type": "code",
   "execution_count": 25,
   "metadata": {},
   "outputs": [
    {
     "data": {
      "text/plain": [
       "2.23606797749979"
      ]
     },
     "execution_count": 25,
     "metadata": {},
     "output_type": "execute_result"
    }
   ],
   "source": [
    "5**0.5"
   ]
  },
  {
   "cell_type": "code",
   "execution_count": 15,
   "metadata": {},
   "outputs": [
    {
     "name": "stdout",
     "output_type": "stream",
     "text": [
      "1 3 6\n",
      "<map object at 0x7f6b80162ed0>\n",
      "1.0 3.0 6.0\n"
     ]
    }
   ],
   "source": [
    "c = map(float, input().split())\n",
    "print(c)\n",
    "print(*c)"
   ]
  },
  {
   "cell_type": "markdown",
   "metadata": {},
   "source": [
    "## OOP's:\n",
    "- It's a way to write code in more manageable format.\n",
    "- It is very useful in creating real world programs.\n",
    "- OOP's allow us to logically group our data and function\n",
    "in a way that it is easy to reuse and also easy to\n",
    "built-upon if needed.\n",
    "- OOP's deals with declaring classes, creating objects\n",
    "from them and interacting with the users.\n"
   ]
  },
  {
   "cell_type": "markdown",
   "metadata": {},
   "source": [
    "## class:\n",
    "- Blueprint(prototype) for creating object.\n",
    "- class defines a set of attributes(data) and methods(function)\n",
    "that characterizes any object of the class.\n",
    "- In python, class is defined using 'class' keyword\n",
    "followed by class name.\n",
    "- Attributes and methods are accessed via dot notation.\n"
   ]
  },
  {
   "cell_type": "code",
   "execution_count": 1,
   "metadata": {},
   "outputs": [
    {
     "name": "stdout",
     "output_type": "stream",
     "text": [
      "<class 'list'>\n",
      "Built-in mutable sequence.\n",
      "\n",
      "If no argument is given, the constructor creates a new empty list.\n",
      "The argument must be an iterable if specified.\n",
      "__repr__\n",
      "__hash__\n",
      "__getattribute__\n",
      "__lt__\n",
      "__le__\n",
      "__eq__\n",
      "__ne__\n",
      "__gt__\n",
      "__ge__\n",
      "__iter__\n",
      "__init__\n",
      "__len__\n",
      "__getitem__\n",
      "__setitem__\n",
      "__delitem__\n",
      "__add__\n",
      "__mul__\n",
      "__rmul__\n",
      "__contains__\n",
      "__iadd__\n",
      "__imul__\n",
      "__new__\n",
      "__reversed__\n",
      "__sizeof__\n",
      "clear\n",
      "copy\n",
      "append\n",
      "insert\n",
      "extend\n",
      "pop\n",
      "remove\n",
      "index\n",
      "count\n",
      "reverse\n",
      "sort\n",
      "__doc__\n",
      "[1, 2, 3, 4, 34]\n"
     ]
    }
   ],
   "source": [
    "# Eg. list class\n",
    "marks=[1,2,3,4]\n",
    "print(type(marks))\n",
    "print(list.__doc__)\n",
    "for i in list.__dict__:\n",
    "    print(i)\n",
    "marks.append(34)\n",
    "print(marks)"
   ]
  },
  {
   "cell_type": "code",
   "execution_count": 8,
   "metadata": {},
   "outputs": [
    {
     "name": "stdout",
     "output_type": "stream",
     "text": [
      "<class '__main__.Employee'>\n",
      "It is a Employee class\n"
     ]
    }
   ],
   "source": [
    "# create Employee class without attribute(data) and method(fuction)\n",
    "class Employee:\n",
    "    '''It is a Employee class'''\n",
    "    pass\n",
    "print(Employee)\n",
    "print(Employee.__doc__)"
   ]
  },
  {
   "cell_type": "markdown",
   "metadata": {},
   "source": [
    "## object:\n",
    "- Every thing in python is object.\n",
    "- object is real life entity of a class.\n",
    "- An object is a unique instance of a data structure\n",
    "that is defined by its class.\n"
   ]
  },
  {
   "cell_type": "code",
   "execution_count": 3,
   "metadata": {},
   "outputs": [
    {
     "name": "stdout",
     "output_type": "stream",
     "text": [
      "<__main__.Employee object at 0x000001715A7A83D0>\n",
      "<class '__main__.Employee'>\n",
      "<__main__.Employee object at 0x000001715A7A85B0>\n",
      "<class '__main__.Employee'>\n"
     ]
    }
   ],
   "source": [
    "class Employee:\n",
    "    'It is a Employee class'\n",
    "    pass\n",
    "\n",
    "# create emp_1 and emp_2 as object of Employee class\n",
    "emp_1= Employee() # Process is called 'instantiation'\n",
    "print(emp_1)\n",
    "print(type(emp_1))\n",
    "\n",
    "emp_2= Employee()\n",
    "print(emp_2)\n",
    "print(type(emp_2))"
   ]
  },
  {
   "cell_type": "code",
   "execution_count": 5,
   "metadata": {},
   "outputs": [],
   "source": [
    "# pip install jupyter-c-kernel"
   ]
  },
  {
   "cell_type": "markdown",
   "metadata": {},
   "source": [
    "## Member Varaible:\n",
    "- A variable that holds the data associated with a class\n",
    "and its objects.\n",
    "- There are two types of member variables:\n",
    "    - 1. instance variable\n",
    "    - 2. class variable\n"
   ]
  },
  {
   "cell_type": "markdown",
   "metadata": {},
   "source": [
    "## Instance Variable:\n",
    "- Variable that contain data which are unique to each\n",
    "instance of class are instance variable.\n",
    "- A instance variable defined inside a method, belongs\n",
    "only to the current instance of a class.\n"
   ]
  },
  {
   "cell_type": "code",
   "execution_count": 6,
   "metadata": {},
   "outputs": [],
   "source": [
    "emp_1.name = 'Jackie Chan'\n",
    "emp_1.email= 'jackie@gmail.com'\n",
    "emp_1.monthly= 18000\n",
    "\n",
    "emp_2.name = 'Bruce Lee'\n",
    "emp_2.email= 'bruce@gmail.com'\n",
    "emp_2.monthly= 22000\n"
   ]
  },
  {
   "cell_type": "code",
   "execution_count": 8,
   "metadata": {},
   "outputs": [
    {
     "name": "stdout",
     "output_type": "stream",
     "text": [
      "Jackie Chan\n",
      "Bruce Lee\n"
     ]
    }
   ],
   "source": [
    "# Access instance variable:\n",
    "print(emp_1.name)\n",
    "print(emp_2.name)"
   ]
  },
  {
   "cell_type": "code",
   "execution_count": 9,
   "metadata": {},
   "outputs": [
    {
     "name": "stdout",
     "output_type": "stream",
     "text": [
      "Radhe\n",
      "Every where\n"
     ]
    }
   ],
   "source": [
    "#practice\n",
    "class a:\n",
    "    pass\n",
    "obj=a()\n",
    "obj.name='Radhe'# This is also called the instance variable \n",
    "obj.address='Every where'\n",
    "print(obj.name)\n",
    "print(obj.address)"
   ]
  },
  {
   "cell_type": "code",
   "execution_count": 9,
   "metadata": {},
   "outputs": [
    {
     "name": "stdout",
     "output_type": "stream",
     "text": [
      "Radhe Shyam\n",
      "Radhe Shyam  village tareta post rasoolpur\n"
     ]
    }
   ],
   "source": [
    "#Practice\n",
    "class c:\n",
    "    def __init__(self,first_name,last_name,age):\n",
    "        self.name1=first_name\n",
    "        self.l_name=last_name\n",
    "        self.age=age\n",
    "    def f(self):\n",
    "        self.full_name=f'{self.name1} {self.l_name}'\n",
    "        return self.full_name\n",
    "    def extra_detail(self,address):\n",
    "        self.address=address\n",
    "        return f'{self.full_name}  {self.address}'\n",
    "obj=c('Radhe','Shyam','infinite')\n",
    "print(obj.f())\n",
    "print(obj.extra_detail('village tareta post rasoolpur'))"
   ]
  },
  {
   "cell_type": "raw",
   "metadata": {},
   "source": [
    "## - i.e, Each instance have attributes that are unique to\n",
    "that instance.\n",
    "- Ideally we set all of this information for each user\n",
    "automatically using 'constructor', instead of setting\n",
    "these values manually.\n"
   ]
  },
  {
   "cell_type": "markdown",
   "metadata": {},
   "source": [
    "## Constructor:\n",
    "- The task of constructors is to initialize(assign values)\n",
    "the instance variable of the class when an object of class\n",
    "is created.\n",
    "- Constructor is automatically called when an object is\n",
    "instantiated.\n",
    "- Constructor are of two types\n",
    "    - Default constructor,\n",
    "    - Parameterised constructor\n",
    "- In python, __init__() method is used for defining\n",
    "constructor.\n"
   ]
  },
  {
   "cell_type": "code",
   "execution_count": 13,
   "metadata": {},
   "outputs": [
    {
     "name": "stdout",
     "output_type": "stream",
     "text": [
      "Default condtructor starts running automatically \n",
      "        whenever the object of the class is created\n",
      "Default condtructor starts running automatically \n",
      "        whenever the object of the class is created\n"
     ]
    }
   ],
   "source": [
    "# Default Constructor\n",
    "class Employee:\n",
    "    def __init__(self):\n",
    "        s='''Default condtructor starts running automatically \n",
    "             whenever the object of the class is created\n",
    "          '''\n",
    "        print(s)\n",
    "\n",
    "emp_1= Employee()\n",
    "emp_2= Employee()\n"
   ]
  },
  {
   "cell_type": "markdown",
   "metadata": {},
   "source": [
    "## self:\n",
    "- 'self' parameter is a reference to the current instance\n",
    "of class.\n",
    "- By convention it is named as 'self'.\n"
   ]
  },
  {
   "cell_type": "markdown",
   "metadata": {},
   "source": [
    "## Parameterized Constructor"
   ]
  },
  {
   "cell_type": "code",
   "execution_count": 16,
   "metadata": {},
   "outputs": [
    {
     "name": "stdout",
     "output_type": "stream",
     "text": [
      "Jackie Chan\n",
      "Bruce Lee\n",
      "18000\n"
     ]
    }
   ],
   "source": [
    "# Parameterised constructor:\n",
    "class Employee:\n",
    "    def __init__(self,name,email,monthly):\n",
    "        self.name=name\n",
    "        self.email=email\n",
    "        self.monthly=monthly\n",
    "\n",
    "emp_1=Employee('Jackie Chan','jackie@gmail.com',18_000)#Here underscore means we can separate the things without giving any eroor.It's not the part of oops.\n",
    "print(emp_1.name)\n",
    "\n",
    "emp_2=Employee(monthly=22000,name='Bruce Lee',\n",
    "               email='bruce@gmail.com')\n",
    "print(emp_2.name)\n",
    "print(emp_1.monthly)"
   ]
  },
  {
   "cell_type": "markdown",
   "metadata": {},
   "source": [
    "## Method:\n",
    "- Function defined within a class is called Method.\n",
    "- There can be 3 types of methods defined python class:\n",
    "    - instance method\n",
    "    - class method\n",
    "    - static method\n"
   ]
  },
  {
   "cell_type": "markdown",
   "metadata": {},
   "source": [
    "## Instance Method:\n",
    "- Instance method are methods which require an object of\n",
    "its class to be created before it can be called.\n",
    "- The first parameter of instance method must be object\n",
    "itself i.e, 'self' parameter.\n"
   ]
  },
  {
   "cell_type": "code",
   "execution_count": 10,
   "metadata": {},
   "outputs": [
    {
     "name": "stdout",
     "output_type": "stream",
     "text": [
      "Jackie Chan has CTC of Rs.216000.\n",
      "Bruce Lee has CTC of Rs.264000.\n"
     ]
    }
   ],
   "source": [
    "# create instance method 'annual' of Employee class\n",
    "class Employee:\n",
    "    def __init__(self,name,email,monthly):\n",
    "        self.name=name\n",
    "        self.email=email\n",
    "        self.monthly=monthly\n",
    "        \n",
    "    def annual(self):#instance method\n",
    "        self.salary= self.monthly*12#Here self.salary is a instance variable,it  means it can be use anywhere in the class as well as outside the class.We can also use it any another intance method(simply we can say a  method).\n",
    "        return f'{self.name} has CTC of Rs.{self.salary}.'\n",
    "\n",
    "emp_1= Employee('Jackie Chan','jackie@gmail.com',18000)\n",
    "#print(Employee.annual(emp_1)) # Access instance method using class\n",
    "print(emp_1.annual()) # Access instance method using object of class\n",
    "\n",
    "\n",
    "emp_2=Employee(monthly=22000,name='Bruce Lee',\n",
    "               email='bruce@gmail.com')\n",
    "print(emp_2.annual())\n"
   ]
  },
  {
   "cell_type": "code",
   "execution_count": 1,
   "metadata": {},
   "outputs": [
    {
     "name": "stdout",
     "output_type": "stream",
     "text": [
      "{'name': 'Jackie Chan', 'email': 'jackie@gmail.com', 'monthly': 18000}\n"
     ]
    }
   ],
   "source": [
    "# Builtin functions and attributes(data) to access class data:\n",
    "class Employee:\n",
    "    'This is Employee class'#Docstring of the class\n",
    "    def __init__(self,name,email,monthly):\n",
    "        self.name=name\n",
    "        self.email=email\n",
    "        self.monthly=monthly\n",
    "        \n",
    "    def annual(self):\n",
    "        'Return CTC of employee'#Docstring of the instance method\n",
    "        self.salary= self.monthly*12\n",
    "        return f'{self.name} has CTC of Rs.{self.salary}.'\n",
    "\n",
    "# print(Employee.__dict__)\n",
    "# print(Employee.__doc__)\n",
    "emp_1= Employee('Jackie Chan','jackie@gmail.com',18000)\n",
    "# print(emp_1.__dict__)\n",
    "print(vars(emp_1))#<---------------------------------------\n",
    "\n",
    "# print(emp_1.name)\n",
    "\n",
    "# print(getattr(emp_1,'name'))\n",
    "# print(getattr(emp_1,'Name','No such attribute exist'))\n",
    "# print(getattr(emp_1,'email','No such attribute exist'))\n",
    "\n",
    "# print(hasattr(emp_1,'Name'))\n",
    "# print(hasattr(emp_1,'email'))\n",
    "\n",
    "# setattr(emp_1,'name','Jack Ma')\n",
    "# print(emp_1.__dict__)\n",
    "\n",
    "# delattr(emp_1,'monthly')\n",
    "# print(emp_1.__dict__)    "
   ]
  },
  {
   "cell_type": "code",
   "execution_count": 8,
   "metadata": {},
   "outputs": [
    {
     "name": "stdout",
     "output_type": "stream",
     "text": [
      "5\n"
     ]
    }
   ],
   "source": [
    "# Python program to show that we can create \n",
    "# instance variables inside methods\n",
    "\n",
    "# Class for Computer Science Student\n",
    "class CSStudent:\n",
    "\t\n",
    "\t# Class Variable\n",
    "\tstream = 'cse'\t\n",
    "\t\n",
    "\t# The init method or constructor\n",
    "\tdef __init__(self, roll):\n",
    "\t\t\n",
    "\t\t# Instance Variable\n",
    "\t\tself.roll = roll\t\t \n",
    "\n",
    "\t# Adds an instance variable \n",
    "\tdef setAddress(self, address):\n",
    "\t\tself.addresss = address\n",
    "\t\n",
    "\t# Retrieves instance variable \n",
    "\tdef getAddress(self): \n",
    "\t\treturn self.addresss#<---------------------------------------------\n",
    "\n",
    "# Driver Code\n",
    "a = CSStudent(101)\n",
    "a.setAddress(\"Noida, UP\")\n",
    "print(a.getAddress()) \n"
   ]
  },
  {
   "cell_type": "markdown",
   "metadata": {},
   "source": [
    "## Method as property:\n",
    "- The property() method in Python provides an interface\n",
    "to instance attributes.\n",
    "- property() returns the property attribute from the given\n",
    "getter, setter, and deleter.\n",
    "- Syntax: property(fget=None, fset=None, fdel=None, doc=None)\n"
   ]
  },
  {
   "cell_type": "code",
   "execution_count": 34,
   "metadata": {},
   "outputs": [
    {
     "name": "stdout",
     "output_type": "stream",
     "text": [
      "Getting name\n",
      "Jackie Chan\n",
      "Setting name to Jack Ma\n",
      "Deleting name\n"
     ]
    }
   ],
   "source": [
    "class Employee:\n",
    "    'This is Employee class'\n",
    "    def __init__(self,name,email,monthly):\n",
    "        self._name=name                  #Protected instance variable\n",
    "        self._email=email                #Protected instance variable\n",
    "        self._monthly=monthly            #Protected instance variable\n",
    "\n",
    "    def get_name(self):\n",
    "        print('Getting name')\n",
    "        return self._name\n",
    "\n",
    "    def set_name(self, value):\n",
    "        print('Setting name to',value)\n",
    "        self._name=value\n",
    "\n",
    "    def del_name(self):\n",
    "        print('Deleting name')\n",
    "        del self._name\n",
    "        \n",
    "    #set property ,it takes atmost 4 arguments only\n",
    "    name= property(get_name,set_name,del_name,'Name attribute')#If instance variable isn't protected then after creating it will invoke the functions inside it.\n",
    "\n",
    "# print(Employee.__dict__)\n",
    "emp_1= Employee('Jackie Chan','jackie@gmail.com',18000)\n",
    "print(emp_1.name)\n",
    "emp_1.name='Jack Ma'\n",
    "# print(emp_1.__dict__)\n",
    "del emp_1.name\n",
    "# print(emp_1.__dict__)"
   ]
  },
  {
   "cell_type": "markdown",
   "metadata": {},
   "source": [
    "## Using @property decorator\n",
    "- Instead of using property(), we can use the Python\n",
    "decorator @property to assign the getter, setter, and\n",
    "deleter.\n"
   ]
  },
  {
   "cell_type": "code",
   "execution_count": 3,
   "metadata": {},
   "outputs": [
    {
     "name": "stdout",
     "output_type": "stream",
     "text": [
      "Getting name\n",
      "Jackie Chan\n",
      "Setting name to Jack Ma\n",
      "Deleting name\n"
     ]
    }
   ],
   "source": [
    "class Employee:\n",
    "    'This is Employee class'\n",
    "    def __init__(self,name,email,monthly):\n",
    "        self.name=name\n",
    "        self.email=email\n",
    "        self.monthly=monthly\n",
    "\n",
    "    @property\n",
    "    def fname(self):\n",
    "        print('Getting name')\n",
    "        return self.name\n",
    "    \n",
    "    @fname.setter\n",
    "    def fname(self, value):\n",
    "        print('Setting name to',value)\n",
    "        self.name=value\n",
    "        \n",
    "    @fname.deleter\n",
    "    def fname(self):\n",
    "        print('Deleting name')\n",
    "        del self.name\n",
    "\n",
    "# print(Employee.__dict__)\n",
    "emp_1= Employee('Jackie Chan','jackie@gmail.com',18000)\n",
    "# print(emp_1.__dict__)\n",
    "print(emp_1.fname)\n",
    "emp_1.fname='Jack Ma'\n",
    "# print(emp_1.__dict__)\n",
    "del emp_1.fname\n",
    "# print(emp_1.__dict__)\n"
   ]
  },
  {
   "cell_type": "markdown",
   "metadata": {},
   "source": [
    "## Builtin functions and attributes to access class data: \n",
    "- getattr(obj,name,default):\n",
    "    - It is used to access the attribute of the object.\n",
    "    - Default argument is returned when the attribute\n",
    "    doesn't exist.\n",
    "\n",
    "- setattr(obj,name,value):\n",
    "    - It is used to set a particular value to the specific\n",
    "    attribute of an object.\n",
    "\n",
    "- delattr(obj,name):\n",
    "    - It is used to delete a specific attribute.\n",
    "\n",
    "- hasattr(obj,name):\n",
    "    - It returns true if the object contains some specific\n",
    "    attribute.\n",
    "\n",
    "- __dict__:\n",
    "    - It provides the dictionary containing the\n",
    "    information about the class namespace.\n",
    "\n",
    "- __doc__:\n",
    "    - It contains a string which has the class documentation\n",
    "\n",
    "- __name__:\n",
    "    - It is used to access the class name.\n",
    "\n",
    "- __module__:\n",
    "    - It is used to access the module in which, this class is defined.\n",
    "\n",
    "- __bases__:\n",
    "    - It contains a tuple including all base classes.\n",
    "\n",
    "- vars():\n",
    "    - This function displays the attribute of an instance\n",
    "    in the form of an dictionary.\n",
    "- dir():\n",
    "    - This function displays more attributes than vars(),\n",
    "    as it is not limited to instance.\n",
    "    - It displays the class attributes as well.\n"
   ]
  },
  {
   "cell_type": "markdown",
   "metadata": {},
   "source": [
    "## Access Modifiers:\n",
    "- Putting restrictions on accessing variables and methods\n",
    "directly can prevent the accidental modification of data.\n",
    "- Python doesn't have any mechanism that effectively\n",
    "restricts access of attributes.\n",
    "- Types of Access Modifiers:\n",
    "    - Public\n",
    "    - Protected\n",
    "    - Private \n"
   ]
  },
  {
   "cell_type": "code",
   "execution_count": 14,
   "metadata": {},
   "outputs": [
    {
     "name": "stdout",
     "output_type": "stream",
     "text": [
      "Jackie Chan\n",
      "No such attribute exist\n",
      "False\n",
      "Jack Ma\n",
      "True\n",
      "False\n"
     ]
    }
   ],
   "source": [
    "class Employee:\n",
    "    def __init__(self, name, monthly):\n",
    "        self.name = name\n",
    "        self.monthly = monthly\n",
    "        \n",
    "    def annual(self):\n",
    "        self.salary = self.monthly*12\n",
    "        return f'{self.name} has CTC of Rs.{self.salary}'\n",
    "\n",
    "#print(dir(Employee))\n",
    "\n",
    "emp_1 = Employee('Jackie Chan', 18000)\n",
    "#print(dir(emp_1))\n",
    "#print(vars(emp_1))\n",
    "\n",
    "print(getattr(emp_1,'name')) #print(emp_1.name)\n",
    "print(getattr(emp_1,'Name','No such attribute exist'))\n",
    "print(hasattr(emp_1,'Name'))\n",
    "setattr(emp_1,'name','Jack Ma') #emp_1.name='Jack Ma'\n",
    "print(getattr(emp_1,'name'))\n",
    "\n",
    "print(hasattr(emp_1,'monthly'))\n",
    "delattr(emp_1,'monthly') #del emp_1.monthly\n",
    "print(hasattr(emp_1,'monthly'))"
   ]
  },
  {
   "cell_type": "markdown",
   "metadata": {},
   "source": [
    "## Public Members:\n",
    "- Public members are accessible within class, in subclass\n",
    "and also outside the class.\n",
    "- The object of the same class is required to invoke a\n",
    "public method.\n",
    "- All members in a Python class are public by default.\n"
   ]
  },
  {
   "cell_type": "code",
   "execution_count": 15,
   "metadata": {},
   "outputs": [
    {
     "name": "stdout",
     "output_type": "stream",
     "text": [
      "5\n",
      "49\n"
     ]
    }
   ],
   "source": [
    "# class with public member\n",
    "class A:\n",
    "    def __init__(self,x):\n",
    "        self.x= x\n",
    "    def cal_sq(self):\n",
    "        return self.x**2 # Accessed within the class\n",
    "\n",
    "obj=A(5)\n",
    "print(getattr(obj,'x')) # Accessed outside class\n",
    "setattr(obj,'x',7) # Modifying outside class\n",
    "print(obj.cal_sq())\n"
   ]
  },
  {
   "cell_type": "markdown",
   "metadata": {},
   "source": [
    "## Protected Members:\n",
    "- Protected members are accessible within class, in\n",
    "subclass and but not outside the class.\n",
    "- To accomplish this in Python, just follow the convention\n",
    "by prefixing the name of the member by a single underscore\n"
   ]
  },
  {
   "cell_type": "code",
   "execution_count": 7,
   "metadata": {},
   "outputs": [
    {
     "name": "stdout",
     "output_type": "stream",
     "text": [
      "{'_x': 5, 'x': 7}\n",
      "25\n",
      "25\n"
     ]
    }
   ],
   "source": [
    "# class with protected member\n",
    "class A:\n",
    "    def __init__(self,x):\n",
    "        self._x= x#protected member\n",
    "    def display(self):\n",
    "        return self._x**2 # Accessed inside class\n",
    "\n",
    "obj=A(5)\n",
    "# print(getattr(obj,'x')) # Access denied ouside class\n",
    "setattr(obj,'x',7) # Modifying denied outside class\n",
    "print(obj.__dict__)\n",
    "print(obj.display())\n",
    "setattr(obj,'x',100)\n",
    "print(obj.display())"
   ]
  },
  {
   "cell_type": "code",
   "execution_count": null,
   "metadata": {},
   "outputs": [],
   "source": []
  },
  {
   "cell_type": "markdown",
   "metadata": {},
   "source": [
    "## Private Members:\n",
    "- Private members are accessible only within class\n",
    "but neither in subclass nor outside the class.\n",
    "- To define a private member, prefix the member name\n",
    "with double underscore `__`.\n"
   ]
  },
  {
   "cell_type": "code",
   "execution_count": 7,
   "metadata": {},
   "outputs": [
    {
     "name": "stdout",
     "output_type": "stream",
     "text": [
      "5\n"
     ]
    }
   ],
   "source": [
    "# class with private member\n",
    "class A:\n",
    "    def __init__(self,x):\n",
    "        self.__x= x#private member\\variable\n",
    "    def display(self):\n",
    "        return self.__x # Accessed inside class\n",
    "\n",
    "obj=A(5)\n",
    "# print(getattr(obj,'x')) # Access denied outside class\n",
    "# setattr(obj,'x',7) # Modification denied outside class\n",
    "print(obj.display())\n",
    "#print(getattr(obj,'x'))#Access denied outside the class"
   ]
  },
  {
   "cell_type": "code",
   "execution_count": 18,
   "metadata": {},
   "outputs": [
    {
     "name": "stdout",
     "output_type": "stream",
     "text": [
      "{'__module__': '__main__', '__init__': <function Employee.__init__ at 0x7f6508087290>, 'get_name': <function Employee.get_name at 0x7f6508087320>, 'set_name': <function Employee.set_name at 0x7f65080873b0>, 'del_name': <function Employee.del_name at 0x7f6508087440>, '__dict__': <attribute '__dict__' of 'Employee' objects>, '__weakref__': <attribute '__weakref__' of 'Employee' objects>, '__doc__': None}\n",
      "Getting name\n",
      "Jackie Chan\n",
      "Setting name to Jack Ma\n",
      "Getting name\n",
      "Jack Ma\n",
      "Deleting name\n",
      "False\n"
     ]
    }
   ],
   "source": [
    "# Modifying Protected and Private Members inside class\n",
    "#Create class with getter, setter, and deleter methods\n",
    "#inside class:\n",
    "class Employee:\n",
    "    def __init__(self, name, monthly):\n",
    "        self._name = name\n",
    "        self._monthly = monthly\n",
    "        \n",
    "    def get_name(self):\n",
    "        print('Getting name')\n",
    "        return self._name\n",
    "\n",
    "    def set_name(self, value):\n",
    "        print('Setting name to ' + value)\n",
    "        self._name = value\n",
    "\n",
    "    def del_name(self):\n",
    "        print('Deleting name')\n",
    "        del self._name\n",
    "\n",
    "print(Employee.__dict__)\n",
    "emp_1 = Employee('Jackie Chan', 18000)\n",
    "print(emp_1.get_name())\n",
    "emp_1.set_name('Jack Ma')\n",
    "print(emp_1.get_name())\n",
    "emp_1.del_name()\n",
    "print(hasattr(emp_1,'name'))\n"
   ]
  },
  {
   "cell_type": "markdown",
   "metadata": {},
   "source": [
    "## Note:\n",
    "- Our new update was not backward compatible:\n",
    "- The big problem with the above update is that, all the\n",
    "clients who implemented our previous class in their\n",
    "program have to modify their code:\n",
    "    - from `obj.name` to `obj.get_name()` and \n",
    "    - all assignments like `obj.name = val` to\n",
    "    `obj.set_name(val)`\n",
    "- This is where builtin property() comes to rescue.\n"
   ]
  },
  {
   "cell_type": "markdown",
   "metadata": {},
   "source": [
    "## Method as property:\n",
    "- The property() method in Python provides an interface\n",
    "to instance attributes.\n",
    "- property() returns the property attribute from the given\n",
    "getter, setter, and deleter.\n",
    "- Syntax: property(fget=None, fset=None, fdel=None, doc=None)\n"
   ]
  },
  {
   "cell_type": "code",
   "execution_count": 19,
   "metadata": {},
   "outputs": [
    {
     "name": "stdout",
     "output_type": "stream",
     "text": [
      "{'__module__': '__main__', '__init__': <function Employee.__init__ at 0x7f6508074710>, 'get_name': <function Employee.get_name at 0x7f6508074e60>, 'set_name': <function Employee.set_name at 0x7f6508074050>, 'del_name': <function Employee.del_name at 0x7f6508074680>, 'name': <property object at 0x7f650806f170>, '__dict__': <attribute '__dict__' of 'Employee' objects>, '__weakref__': <attribute '__weakref__' of 'Employee' objects>, '__doc__': None}\n",
      "Getting name\n",
      "Jackie Chan\n",
      "Setting name to Jack Ma\n",
      "Getting name\n",
      "Jack Ma\n",
      "Deleting name\n",
      "Getting name\n",
      "False\n"
     ]
    }
   ],
   "source": [
    "#Create class with getter, setter, and deleter methods as property\n",
    "class Employee:\n",
    "    def __init__(self, name, monthly):\n",
    "        self._name = name\n",
    "        self._monthly = monthly\n",
    "        \n",
    "    def get_name(self):\n",
    "        print('Getting name')\n",
    "        return self._name\n",
    "\n",
    "    def set_name(self, value):\n",
    "        print('Setting name to ' + value)\n",
    "        self._name = value\n",
    "\n",
    "    def del_name(self):\n",
    "        print('Deleting name')\n",
    "        del self._name\n",
    "        \n",
    "    #set property to use get_name, set_name and del_name methods\n",
    "    name = property(get_name, set_name, del_name, 'Name property')\n",
    "\n",
    "print(Employee.__dict__)\n",
    "\n",
    "emp_1 = Employee('Jackie Chan', 18000)\n",
    "print(getattr(emp_1,'name'))\n",
    "setattr(emp_1,'name','Jack Ma')\n",
    "print(getattr(emp_1,'name'))\n",
    "delattr(emp_1,'name')\n",
    "print(hasattr(emp_1,'name'))\n"
   ]
  },
  {
   "cell_type": "markdown",
   "metadata": {},
   "source": [
    "## Using @property decorator\n",
    "- Instead of using property(), you can use the Python\n",
    "decorator @property to assign the getter, setter, and\n",
    "deleter.\n"
   ]
  },
  {
   "cell_type": "code",
   "execution_count": 20,
   "metadata": {},
   "outputs": [
    {
     "name": "stdout",
     "output_type": "stream",
     "text": [
      "{'__module__': '__main__', '__init__': <function Employee.__init__ at 0x7f6508074c20>, 'name': <property object at 0x7f650806fad0>, '__dict__': <attribute '__dict__' of 'Employee' objects>, '__weakref__': <attribute '__weakref__' of 'Employee' objects>, '__doc__': None}\n",
      "Getting name\n",
      "Jackie Chan\n",
      "Setting name to Jack Ma\n",
      "Getting name\n",
      "Jack Ma\n",
      "Deleting name\n",
      "Getting name\n",
      "False\n"
     ]
    }
   ],
   "source": [
    "class Employee:\n",
    "    def __init__(self, name, monthly):\n",
    "        self._name = name\n",
    "        self._monthly = monthly\n",
    "        \n",
    "    @property    \n",
    "    def name(self):\n",
    "        print('Getting name')\n",
    "        return self._name\n",
    "    \n",
    "    @name.setter\n",
    "    def name(self, value):\n",
    "        print('Setting name to ' + value)\n",
    "        self._name = value\n",
    "        \n",
    "    @name.deleter\n",
    "    def name(self):\n",
    "        print('Deleting name')\n",
    "        del self._name\n",
    "print(Employee.__dict__)\n",
    "\n",
    "emp_1 = Employee('Jackie Chan', 18000)\n",
    "print(getattr(emp_1,'name'))\n",
    "setattr(emp_1,'name','Jack Ma')\n",
    "print(getattr(emp_1,'name'))\n",
    "delattr(emp_1,'name')\n",
    "print(hasattr(emp_1,'name'))\n"
   ]
  },
  {
   "cell_type": "markdown",
   "metadata": {},
   "source": [
    "## class variable:\n",
    "- Variable that belong to the class itself and is shared\n",
    "by all instances of a class. \n",
    "- class variables are defined within a class but outside\n",
    "any of the classes methods.\n"
   ]
  },
  {
   "cell_type": "code",
   "execution_count": 21,
   "metadata": {},
   "outputs": [
    {
     "name": "stdout",
     "output_type": "stream",
     "text": [
      "{'__module__': '__main__', 'increment': 1.08, '__init__': <function Employee.__init__ at 0x7f65080da680>, 'annual': <function Employee.annual at 0x7f65080da440>, 'pay_raise': <function Employee.pay_raise at 0x7f65080dadd0>, 'display_salary': <function Employee.display_salary at 0x7f65080da9e0>, '__dict__': <attribute '__dict__' of 'Employee' objects>, '__weakref__': <attribute '__weakref__' of 'Employee' objects>, '__doc__': None}\n",
      "Jackie Chan has CTC of Rs.216000\n",
      "Jackie Chan has CTC of Rs.233280\n"
     ]
    }
   ],
   "source": [
    "#create class variable increment:\n",
    "class Employee:\n",
    "    increment= 1.08\n",
    "    def __init__(self, name, monthly):\n",
    "        self.name = name\n",
    "        self.monthly = monthly\n",
    "        \n",
    "    def annual(self):\n",
    "        self.salary = self.monthly*12\n",
    "\n",
    "    def pay_raise(self):\n",
    "        self.salary = int(self.salary*Employee.increment)\n",
    "        # Access class variable as class variable\n",
    "\n",
    "    def display_salary(self):\n",
    "        return f'{self.name} has CTC of Rs.{self.salary}'\n",
    "\n",
    "print(Employee.__dict__)\n",
    "\n",
    "emp_1 = Employee('Jackie Chan', 18000)\n",
    "emp_2 = Employee('Bruce Lee', 22000)\n",
    "\n",
    "emp_1.annual()\n",
    "print(emp_1.display_salary())\n",
    "emp_1.pay_raise()\n",
    "print(emp_1.display_salary())\n"
   ]
  },
  {
   "cell_type": "code",
   "execution_count": 22,
   "metadata": {},
   "outputs": [
    {
     "name": "stdout",
     "output_type": "stream",
     "text": [
      "{'__module__': '__main__', 'increment': 1.08, '__init__': <function Employee.__init__ at 0x7f65080da4d0>, 'annual': <function Employee.annual at 0x7f65080da3b0>, 'pay_raise': <function Employee.pay_raise at 0x7f65080daf80>, 'display_salary': <function Employee.display_salary at 0x7f65080dd710>, '__dict__': <attribute '__dict__' of 'Employee' objects>, '__weakref__': <attribute '__weakref__' of 'Employee' objects>, '__doc__': None}\n",
      "{'name': 'Jackie Chan', 'monthly': 18000}\n",
      "Jackie Chan has CTC of Rs.233280\n",
      "{'name': 'Bruce Lee', 'monthly': 22000, 'increment': 1.12}\n",
      "Bruce Lee has CTC of Rs.295680\n"
     ]
    }
   ],
   "source": [
    "# Access class variable as class and instance variable both:\n",
    "class Employee:\n",
    "    increment= 1.08\n",
    "    def __init__(self, name, monthly):\n",
    "        self.name = name\n",
    "        self.monthly = monthly\n",
    "        \n",
    "    def annual(self):\n",
    "        self.salary = self.monthly*12\n",
    "\n",
    "    def pay_raise(self):\n",
    "        self.salary = int(self.salary*self.increment)\n",
    "        # Access class variable as both \n",
    "    \n",
    "    def display_salary(self):\n",
    "        return f'{self.name} has CTC of Rs.{self.salary}'\n",
    "\n",
    "print(Employee.__dict__)\n",
    "\n",
    "emp_1 = Employee('Jackie Chan', 18000)\n",
    "emp_2 = Employee('Bruce Lee', 22000)\n",
    "\n",
    "print(emp_1.__dict__)\n",
    "emp_1.annual()\n",
    "emp_1.pay_raise()\n",
    "print(emp_1.display_salary())\n",
    "\n",
    "emp_2.increment= 1.12\n",
    "print(emp_2.__dict__)\n",
    "emp_2.annual()\n",
    "emp_2.pay_raise()\n",
    "print(emp_2.display_salary())\n"
   ]
  },
  {
   "cell_type": "raw",
   "metadata": {},
   "source": [
    "## - If we try to change class variable using object,\n",
    "a new instance (or non-static) variable for that particular\n",
    "object is created and this variable shadows the class\n",
    "variables.\n"
   ]
  },
  {
   "cell_type": "markdown",
   "metadata": {},
   "source": [
    "## OOPs Features:\n",
    "- Polymorphism\n",
    "- Encapsulation\n",
    "- Abstraction\n",
    "- Inheritance\n"
   ]
  },
  {
   "cell_type": "markdown",
   "metadata": {},
   "source": [
    "## Polymorphism: poly-many | morph-forms\n",
    "- Polymorphism means the ability to take various forms.\n",
    "- In Python, Polymorphism allows an object to come in\n",
    "many forms.\n",
    "- To achieve polymorphism:\n",
    "    - 1) Method Overloading: Here methods have same name\n",
    "    but have different signature (parameters).\n",
    "        - It is not possible in Python.\n",
    "    - 2) Method Overriding: Here method in base class and\n",
    "    derived class have same name but different functionality.\n",
    "\n"
   ]
  },
  {
   "cell_type": "markdown",
   "metadata": {},
   "source": [
    "## Operator Overloading:\n",
    "- It enables us to use mathematical, logical and bitwise\n",
    "operators on python objects just like any primitive data\n",
    "type.\n"
   ]
  },
  {
   "cell_type": "code",
   "execution_count": 14,
   "metadata": {},
   "outputs": [
    {
     "name": "stdout",
     "output_type": "stream",
     "text": [
      "(2,3)\n",
      "(4,5)\n",
      "(6,8)\n"
     ]
    }
   ],
   "source": [
    "# __ methods__ are known as magic method.\n",
    "# Create a class to perform '+' operator overloading for\n",
    "# coordinates. Ex. (2,3) & (4,5)==> (6,8)\n",
    "class Coordinate:\n",
    "    def __init__(self,x,y):\n",
    "        self.x= x\n",
    "        self.y= y\n",
    "\n",
    "    def __str__(self):\n",
    "        return f'({self.x},{self.y})'\n",
    "\n",
    "    def __add__(self,other): #Equivalent to '+' operator\n",
    "        x= self.x+other.x\n",
    "        y= self.y+other.y\n",
    "        return Coordinate(x,y)\n",
    "\n",
    "pt1= Coordinate(2,3)\n",
    "# print(type(pt1))\n",
    "print(pt1)\n",
    "pt2= Coordinate(4,5)\n",
    "print(pt2)\n",
    "pt3= pt1+pt2 #pt1.__add__(pt2)\n",
    "print(pt3)\n"
   ]
  },
  {
   "cell_type": "code",
   "execution_count": 25,
   "metadata": {},
   "outputs": [
    {
     "name": "stdout",
     "output_type": "stream",
     "text": [
      "2,3\n",
      "3,2\n",
      "5,5\n",
      "<class '__main__.summation'>\n"
     ]
    }
   ],
   "source": [
    "# Practice\n",
    "class summation:\n",
    "    def __init__(self,a,b):\n",
    "        self.a=a\n",
    "        self.b=b\n",
    "    def __str__(self):\n",
    "        return f'{self.a},{self.b}' \n",
    "    def __add__(self,other):\n",
    "        x=self.a+other.a\n",
    "        y=self.b+other.b\n",
    "        return summation(x,y)\n",
    "obj=summation(2,3)\n",
    "print(obj)\n",
    "obj1=summation(3,2)\n",
    "print(obj1)\n",
    "res=obj+obj1\n",
    "print(res)\n",
    "print(type(obj))"
   ]
  },
  {
   "cell_type": "code",
   "execution_count": 26,
   "metadata": {},
   "outputs": [],
   "source": [
    "# Single Level Inheritance:\n",
    "# Syntax:\n",
    "class Parent: # Base class\n",
    "    pass\n",
    "    \n",
    "class Child(Parent): # Derived class\n",
    "    pass\n"
   ]
  },
  {
   "cell_type": "code",
   "execution_count": 28,
   "metadata": {},
   "outputs": [
    {
     "name": "stdout",
     "output_type": "stream",
     "text": [
      "Enter dim. of side 1: 3\n",
      "Enter dim. of side 2: 2\n",
      "Enter dim. of side 3: 50\n",
      "Enter dim. of side 4: 5\n"
     ]
    }
   ],
   "source": [
    "\n",
    "#Create a Base class Polygon\n",
    "\n",
    "class Polygon:\n",
    "    def __init__(self,no_of_sides):\n",
    "        self.n= no_of_sides\n",
    "        self.sides=[0 for i in range(no_of_sides)]\n",
    "        \n",
    "    def inputSides(self):\n",
    "        self.sides=[float(input(f'Enter dim. of side {i+1}: ')) for i in range(self.n)]  \n",
    "\n",
    "    def displaySides(self):\n",
    "        for i in range(self.n):\n",
    "            print(f'Dim. of side {i+1} is {self.sides[i]}cm')\n",
    "\n",
    "#Create a Derived class Tringle which 'is a' Polygon\n",
    "class Triangle(Polygon):\n",
    "    def __init__(self):\n",
    "        super().__init__(3)\n",
    "\n",
    "    def perimeter(self):\n",
    "        a,b,c= self.sides\n",
    "        perimeter= a+b+c\n",
    "        print(f'Perimeter of triangle is {perimeter}cm')\n",
    "\n",
    "#print(Polygon.__dict__)\n",
    "rectangle= Polygon(4)\n",
    "rectangle.inputSides()\n",
    "#rectangle.displaySides()\n",
    "\n",
    "tri= Triangle()\n",
    "#tri.inputSides() # Access method of Base class\n",
    "#tri.perimeter()\n"
   ]
  },
  {
   "cell_type": "code",
   "execution_count": 29,
   "metadata": {},
   "outputs": [
    {
     "name": "stdout",
     "output_type": "stream",
     "text": [
      "True\n",
      "True\n",
      "True\n",
      "True\n",
      "True\n",
      "True\n"
     ]
    }
   ],
   "source": [
    "# Two builtin functions check relationships:\n",
    "# isinstance(obj,class):\n",
    "'''\n",
    "- Checks the relationship between the objects and classes.\n",
    "    - Returns True if the obj is an instance of the\n",
    "    class or other classes derived from it.\n",
    "- Each and every class in Python inherits from the base\n",
    "class object.\n",
    "'''\n",
    "print(isinstance(rectangle,Polygon))\n",
    "print(isinstance(tri,Triangle))\n",
    "print(isinstance(tri,Polygon))\n",
    "print(isinstance(Polygon,object))\n",
    "print(isinstance(Triangle,object))\n",
    "print(isinstance(int,object))\n"
   ]
  },
  {
   "cell_type": "code",
   "execution_count": 32,
   "metadata": {},
   "outputs": [
    {
     "name": "stdout",
     "output_type": "stream",
     "text": [
      "True\n",
      "True\n"
     ]
    }
   ],
   "source": [
    "# issubclass(sub,sup):\n",
    "'''\n",
    "- Checks the relationships between the specified classes.\n",
    "- Returns True if the first class is the subclass of\n",
    "the second class, and False otherwise.\n",
    "'''\n",
    "print(issubclass(Triangle,Polygon))\n",
    "print(issubclass(Polygon,object))"
   ]
  },
  {
   "cell_type": "markdown",
   "metadata": {},
   "source": [
    "## Data Encapsulation:\n",
    "- Data encapsulation describes the idea of wrapping data\n",
    "and the methods that work on data within one unit.\n",
    "- This puts restrictions on accessing variables and\n",
    "methods directly and can prevent the accidental\n",
    "modification of data.\n"
   ]
  },
  {
   "cell_type": "code",
   "execution_count": 34,
   "metadata": {},
   "outputs": [
    {
     "name": "stdout",
     "output_type": "stream",
     "text": [
      "20\n",
      "25\n"
     ]
    }
   ],
   "source": [
    "# Create a Base class with protected memebers\n",
    "class A:\n",
    "    def __init__(self,n):\n",
    "        self._var=n\n",
    "    def _sq(self):#protected member within the class\n",
    "        return self._var**2 #protected variable within class\n",
    "    def cube(self):\n",
    "        return self._sq()*self._var #protected method within class\n",
    "\n",
    "# Create a Derived class trying to access protected memebers:\n",
    "# of Base class\n",
    "class B(A):\n",
    "    def sqPerimeter(self):\n",
    "        return 4*self._var #protected variable in derived class\n",
    "    def sqArea(self):\n",
    "        return self._sq() #protected method in derived class\n",
    "\n",
    "a= A(5)\n",
    "#print(a.var) # Denied, Protected variable outside class\n",
    "#print(a.sq()) # Denied, Protected method outside class\n",
    "#print(a.cube())\n",
    "\n",
    "b= B(5)\n",
    "print(b.sqPerimeter())\n",
    "print(b.sqArea())\n"
   ]
  },
  {
   "cell_type": "code",
   "execution_count": 40,
   "metadata": {},
   "outputs": [],
   "source": [
    "# Create a Base class with private memebers:\n",
    "class A:\n",
    "    def __init__(self,n):\n",
    "        self.__var=n\n",
    "    def __sq(self):\n",
    "        return self.__var**2 #private variable within class\n",
    "    def cube(self):\n",
    "        return self.__sq()*self.__var #private method within class\n",
    "\n",
    "# Create a Derived class trying to access private memebers:\n",
    "# of Base class\n",
    "class B(A):\n",
    "    def sqPerimeter(self):\n",
    "        return 4*self.__var #private variable in derived class\n",
    "    def sqArea(self):\n",
    "        return self.__sq() #private method in derived class\n",
    "\n",
    "a= A(5)\n",
    "# print(a.var) # Denied, Private variable outside class\n",
    "# print(a.sq()) # Denied, Private method outside class\n",
    "# print(a.cube())\n",
    "\n",
    "b= B(5)\n",
    "# print(b.sqPerimeter()) #Denied\n",
    "# print(b.sqArea()) #Denied\n"
   ]
  },
  {
   "cell_type": "code",
   "execution_count": null,
   "metadata": {},
   "outputs": [],
   "source": [
    "# Hierarchial Inheritance:\n",
    "\n",
    "#Create a Base class Polygon\n",
    "class Polygon:\n",
    "    def __init__(self,no_of_sides):\n",
    "        self.n= no_of_sides\n",
    "        self.sides=[0 for i in range(no_of_sides)]\n",
    "        \n",
    "    def inputSides(self):\n",
    "        self.sides=[float(input(f'Enter dim. of side {i+1}: ')) for i in range(self.n)]  \n",
    "\n",
    "    def displaySides(self):\n",
    "        for i in range(self.n):\n",
    "            print(f'Dim. of side {i+1} is {self.sides[i]}cm')\n",
    "#Create a Derived class Tringle which 'is a' Polygon\n",
    "class Triangle(Polygon):\n",
    "    def __init__(self):\n",
    "        Polygon.__init__(self,3)\n",
    "\n",
    "    def perimeter(self):\n",
    "        a,b,c= self.sides\n",
    "        perimeter= a+b+c\n",
    "        print(f'Perimeter of triangle is {perimeter}cm')\n",
    "#Create a Derived class Rectangle, which 'is a' Polygon\n",
    "class Rectangle(Polygon):\n",
    "    def __init__(self):\n",
    "        Polygon.__init__(self,2)\n",
    "        \n",
    "    def perimeter(self):\n",
    "        a,b= self.sides\n",
    "        perimeter= 2*(a+b)\n",
    "        print(f'Perimeter of rectangle is {perimeter}cm')\n",
    "\n",
    "rect= Rectangle()\n",
    "rect.perimeter()\n",
    "rect.inputSides()\n",
    "rect.perimeter()\n"
   ]
  },
  {
   "cell_type": "code",
   "execution_count": 2,
   "metadata": {},
   "outputs": [
    {
     "name": "stdout",
     "output_type": "stream",
     "text": [
      "Perimeter of triangle is 0cm\n",
      "Enter dim. of side 1: 1\n",
      "Enter dim. of side 2: 4\n",
      "Enter dim. of side 3: 6\n",
      "Perimeter of triangle is 11.0cm\n",
      "Area of triangle is 0.7071067811865475sqcm\n"
     ]
    }
   ],
   "source": [
    "# Multilevel Inheritance:\n",
    "'''\n",
    "- Syntax:\n",
    "class Base:\n",
    "    pass\n",
    "class Derived1(Base):\n",
    "    pass\n",
    "class Derived2(Derived1):\n",
    "    pass\n",
    "'''\n",
    "\n",
    "#Create a Base class Polygon\n",
    "class Polygon:\n",
    "    def __init__(self,no_of_sides):\n",
    "        self.n= no_of_sides\n",
    "        self.sides=[0 for i in range(no_of_sides)]\n",
    "    def inputSides(self):\n",
    "        self.sides=[float(input(f'Enter dim. of side {i+1}: ')) for i in range(self.n)]  \n",
    "\n",
    "    def displaySides(self):\n",
    "        for i in range(self.n):\n",
    "            print(f'Dim. of side {i+1} is {self.sides[i]}cm')\n",
    "\n",
    "#Create a Derived class Tringle which 'is a' Polygon\n",
    "\n",
    "class Triangle(Polygon):\n",
    "    def __init__(self):\n",
    "        Polygon.__init__(self,3)\n",
    "\n",
    "    def perimeter(self):\n",
    "        a,b,c= self.sides\n",
    "        perimeter= a+b+c\n",
    "        print(f'Perimeter of triangle is {perimeter}cm')\n",
    "\n",
    "#Create a Derived class Eqilateral which 'is a' Triangle\n",
    "class Equilateral(Triangle):\n",
    "    def __init__(self):\n",
    "        Triangle.__init__(self)\n",
    "\n",
    "    def area(self):\n",
    "        a,b,c=self.sides\n",
    "        area= (a**2)/(2**0.5)\n",
    "        print(f'Area of triangle is {area}sqcm')\n",
    "    \n",
    "equi= Equilateral()\n",
    "equi.perimeter()\n",
    "equi.inputSides()\n",
    "equi.perimeter()\n",
    "equi.area()\n"
   ]
  },
  {
   "cell_type": "code",
   "execution_count": null,
   "metadata": {},
   "outputs": [],
   "source": [
    "# Multiple Inheritance:\n",
    "'''\n",
    "- Syntax:\n",
    "class Base1:\n",
    "    pass\n",
    "class Base2:\n",
    "    pass\n",
    "class Derived(Base1,Base2):\n",
    "    pass\n",
    "'''\n",
    "# Create a Base class Person\n",
    "class Person:\n",
    "    def __init__(self,name,age):\n",
    "        self.Pname= name\n",
    "        self.Page= age\n",
    "    def showName(self):\n",
    "        print(self.Pname)\n",
    "    def showAge(self):\n",
    "        print(self.Page)\n",
    "# Create another Base class Student\n",
    "class Student:\n",
    "    def __init__(self,Id):\n",
    "        self.stuId= Id\n",
    "    def showId(self):\n",
    "        print(self.stuId)\n",
    "# Create Derived class Resident which 'is a' Person and\n",
    "# which 'is a' Student\n",
    "class Resident(Person,Student):\n",
    "    def __init__(self,name,age,Id,hno):\n",
    "        Person.__init__(self,name,age)\n",
    "        Student.__init__(self,Id)\n",
    "        self.hno= hno\n",
    "\n",
    "    def showHouse(self):\n",
    "        print(self.hno)\n",
    "\n",
    "res= Resident('Ramesh',56,42050,302)\n",
    "res.showHouse()\n",
    "res.showId()\n",
    "res.showAge()\n"
   ]
  },
  {
   "cell_type": "code",
   "execution_count": 6,
   "metadata": {},
   "outputs": [
    {
     "name": "stdout",
     "output_type": "stream",
     "text": [
      "Preeti\n",
      "(<class '__main__.C'>, <class '__main__.B'>, <class '__main__.A'>, <class 'object'>)\n"
     ]
    }
   ],
   "source": [
    "# Method Overriding in Multiple Inheritance:\n",
    "class A:\n",
    "    def __init__(self):\n",
    "        self.name='Roshan'\n",
    "        self.age= 56\n",
    "    def showName(self):\n",
    "        print(self.name)\n",
    "\n",
    "class B:\n",
    "    def __init__(self):\n",
    "        self.name='Preeti'\n",
    "        self.age= 28\n",
    "    def showName(self):\n",
    "        print(self.name)\n",
    "\n",
    "class C(B,A):\n",
    "    def __init__(self):\n",
    "        super().__init__()\n",
    "       \n",
    "obj= C()\n",
    "obj.showName()\n",
    "print(C.__mro__)"
   ]
  },
  {
   "cell_type": "markdown",
   "metadata": {},
   "source": [
    "## MRO: Method Resolution Order\n",
    "- MRO is the order in which Python looks for a method in\n",
    "a hierarchy of classes.\n",
    "- In multiple inheritances, the methods are executed\n",
    "based on the order specified while inheriting the classes.\n",
    "- In the multiple inheritance scenario, any specified\n",
    "attribute is searched first in the current class.\n",
    "- If not found, the search continues into parent classes\n",
    "in Depth-First, Left-Right(DLR) fashion without searching\n",
    "same class twice.\n"
   ]
  },
  {
   "cell_type": "code",
   "execution_count": null,
   "metadata": {},
   "outputs": [],
   "source": [
    "# Complex Inheritance:\n",
    "class X:\n",
    "    pass\n",
    "class Y:\n",
    "    pass\n",
    "class Z:\n",
    "    pass\n",
    "class A(X,Y):\n",
    "    pass\n",
    "class B(Y,Z):\n",
    "    pass\n",
    "class M(B,A,Z):\n",
    "    pass\n",
    "\n",
    "m=M()\n",
    "print(M.__mro__)\n",
    "#<class '__main__.M'>,\n",
    "#<class '__main__.B'>,\n",
    "#<class '__main__.A'>,\n",
    "#<class '__main__.X'>,\n",
    "#<class '__main__.Y'>,\n",
    "#<class '__main__.Z'>,\n",
    "#<class 'object'>\n"
   ]
  },
  {
   "cell_type": "markdown",
   "metadata": {},
   "source": [
    "## Data Abstraction:\n",
    "- Abstraction is used to hide internal details and show\n",
    "only functionalities.\n",
    "- In Python, Data Abstraction is implemented using\n",
    "Abstract class.\n",
    "- An abstract class can be considered as a blueprint for\n",
    "other classes, allows you to create a set of methods\n",
    "that must be created within any child classes built from\n",
    "your abstract class.\n"
   ]
  },
  {
   "cell_type": "code",
   "execution_count": 8,
   "metadata": {},
   "outputs": [],
   "source": [
    "# Need for Abstract class:\n",
    "class Shape:\n",
    "    def area(self):\n",
    "        pass\n",
    "    def perimeter(self):\n",
    "        pass\n",
    "\n",
    "class Square(Shape):\n",
    "    def __init__(self,s):\n",
    "        self.side=s\n",
    "        \n",
    "sh= Shape()\n",
    "# We require:\n",
    "'''\n",
    "- We don't want to allow other users to create instance\n",
    "of Shape class, since it is a template for Square class.\n",
    "- We want that any class which inherit Shape class must\n",
    "implement area and perimeter methods inside the subclass.\n",
    "- To fulfill the requirement we define Abstract class\n",
    "'''\n",
    "from abc import ABC,abstractmethod\n",
    "class Shape(ABC):\n",
    "    @abstractmethod\n",
    "    def area(self):\n",
    "        pass\n",
    "    \n",
    "    @abstractmethod\n",
    "    def perimeter(self):\n",
    "        pass\n",
    "\n",
    "class Square(Shape):\n",
    "    def __init__(self,s):\n",
    "        self.side=s\n",
    "\n",
    "# sh=Shape() # Error: Can't instantiate Abstract class\n",
    "# sq=Square(10) # Error: Can't instantiate since not implemented area and perimeter\n"
   ]
  },
  {
   "cell_type": "code",
   "execution_count": 9,
   "metadata": {},
   "outputs": [
    {
     "name": "stdout",
     "output_type": "stream",
     "text": [
      "10\n",
      "20\n"
     ]
    }
   ],
   "source": [
    "# Implement abstract methods in derived class\n",
    "from abc import ABC,abstractmethod\n",
    "class Shape(ABC):\n",
    "    @abstractmethod\n",
    "    def area(self):\n",
    "        pass\n",
    "    \n",
    "    @abstractmethod\n",
    "    def perimeter(self):\n",
    "        pass\n",
    "\n",
    "class Square(Shape):\n",
    "    def __init__(self,side):\n",
    "        self.side = side\n",
    "        \n",
    "    def area(self):\n",
    "        return 2*self.side\n",
    "    \n",
    "    def perimeter(self):\n",
    "        return 4*self.side\n",
    "\n",
    "shape_sqr = Square(5)\n",
    "print(shape_sqr.area())\n",
    "print(shape_sqr.perimeter())"
   ]
  },
  {
   "cell_type": "code",
   "execution_count": null,
   "metadata": {},
   "outputs": [],
   "source": []
  }
 ],
 "metadata": {
  "kernelspec": {
   "display_name": "Python 3",
   "language": "python",
   "name": "python3"
  },
  "language_info": {
   "codemirror_mode": {
    "name": "ipython",
    "version": 3
   },
   "file_extension": ".py",
   "mimetype": "text/x-python",
   "name": "python",
   "nbconvert_exporter": "python",
   "pygments_lexer": "ipython3",
   "version": "3.8.3"
  }
 },
 "nbformat": 4,
 "nbformat_minor": 2
}
