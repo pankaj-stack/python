{
 "cells": [
  {
   "cell_type": "code",
   "execution_count": 6,
   "metadata": {},
   "outputs": [
    {
     "name": "stdout",
     "output_type": "stream",
     "text": [
      "2\n",
      "2\n",
      "4\n",
      "0\n",
      "4\n"
     ]
    }
   ],
   "source": [
    "# raw_input() was used in 2.7 version only\n",
    "a=int(input())\n",
    "b=int(input())\n",
    "print(f'{a+b}\\n{a-b}\\n{a*b}')"
   ]
  },
  {
   "cell_type": "code",
   "execution_count": 12,
   "metadata": {},
   "outputs": [
    {
     "name": "stdout",
     "output_type": "stream",
     "text": [
      "5\n",
      "0 1 4 9 16 "
     ]
    }
   ],
   "source": [
    "n = int(input())\n",
    "for i in range(n):\n",
    "    print(i**2,end=' ')"
   ]
  },
  {
   "cell_type": "code",
   "execution_count": 4,
   "metadata": {},
   "outputs": [
    {
     "name": "stdout",
     "output_type": "stream",
     "text": [
      "5\n",
      "0 1 4 9 16 "
     ]
    }
   ],
   "source": [
    "for i in range(int(input())):\n",
    "    print(i**2,end=' ')"
   ]
  },
  {
   "cell_type": "code",
   "execution_count": 15,
   "metadata": {},
   "outputs": [],
   "source": [
    "#for i in range(n=int(input())):# This generates error it doesn't take keyword argument\n",
    " #   print(i**2)"
   ]
  },
  {
   "cell_type": "code",
   "execution_count": 18,
   "metadata": {},
   "outputs": [
    {
     "data": {
      "text/plain": [
       "(1, 2, 3, 5, 5, 5)"
      ]
     },
     "execution_count": 18,
     "metadata": {},
     "output_type": "execute_result"
    }
   ],
   "source": [
    "# Multiple Assignments\n",
    "a,b,c=1,2,3\n",
    "x=y=z=5\n",
    "a,b,c,x,y,z"
   ]
  },
  {
   "cell_type": "code",
   "execution_count": 24,
   "metadata": {},
   "outputs": [
    {
     "name": "stdout",
     "output_type": "stream",
     "text": [
      "94043319354144\n",
      "94043319354176\n",
      "94043319354208\n"
     ]
    }
   ],
   "source": [
    "# Memory Management\n",
    "print(id(a))# this print the address of the variable\n",
    "print(id(b))\n",
    "print(id(c))"
   ]
  },
  {
   "cell_type": "code",
   "execution_count": 25,
   "metadata": {},
   "outputs": [
    {
     "data": {
      "text/plain": [
       "(94043319354272, 94043319354272, 94043319354272)"
      ]
     },
     "execution_count": 25,
     "metadata": {},
     "output_type": "execute_result"
    }
   ],
   "source": [
    "x=y=z=5\n",
    "id(x),id(y),id(z)# all are having the same addresses"
   ]
  },
  {
   "cell_type": "code",
   "execution_count": 30,
   "metadata": {},
   "outputs": [
    {
     "name": "stdout",
     "output_type": "stream",
     "text": [
      "Enter any three values1 2 3\n",
      "Enter any three values1,2,3\n",
      "<class 'str'>\n"
     ]
    }
   ],
   "source": [
    "# How to take multiple input at run time\n",
    "a,b,c=input('Enter any three values').split()# This will take space separated values\n",
    "a,b,c=input('Enter any three values').split(',')# This will take coma separated values\n",
    "print(type(a))"
   ]
  },
  {
   "cell_type": "code",
   "execution_count": 8,
   "metadata": {},
   "outputs": [
    {
     "name": "stdout",
     "output_type": "stream",
     "text": [
      "Enter no. of days : 365\n",
      "year : 1\n",
      "month : 0\n",
      "day : 0\n"
     ]
    }
   ],
   "source": [
    "# Program\n",
    "'''Enter any no. of days at run time & find out how many years,how many  months  & how\n",
    "many remaining days'''\n",
    "days=int(input('Enter no. of days : '))\n",
    "years,months,day=days//365,(days%365)//30,(days%365)%30\n",
    "print(f'year : {years}\\nmonth : {months}\\nday : {day}')"
   ]
  },
  {
   "cell_type": "markdown",
   "metadata": {},
   "source": [
    "# How to take input in Competitive Codings"
   ]
  },
  {
   "cell_type": "markdown",
   "metadata": {},
   "source": [
    "# 1. Taking integer as input\n"
   ]
  },
  {
   "cell_type": "code",
   "execution_count": 7,
   "metadata": {},
   "outputs": [
    {
     "name": "stdout",
     "output_type": "stream",
     "text": [
      "9\n",
      "9 <class 'int'>\n"
     ]
    }
   ],
   "source": [
    "n=int(input())\n",
    "print(n,type(n))"
   ]
  },
  {
   "cell_type": "markdown",
   "metadata": {},
   "source": [
    "### Taking string as input"
   ]
  },
  {
   "cell_type": "code",
   "execution_count": 9,
   "metadata": {},
   "outputs": [
    {
     "name": "stdout",
     "output_type": "stream",
     "text": [
      "hello\n",
      "hello <class 'str'>\n"
     ]
    }
   ],
   "source": [
    "s=input()\n",
    "print(s,type(s))#This format is valid for Python3"
   ]
  },
  {
   "cell_type": "markdown",
   "metadata": {},
   "source": [
    "# 2.Taking more than one input as integer for fixed variable"
   ]
  },
  {
   "cell_type": "code",
   "execution_count": 14,
   "metadata": {},
   "outputs": [
    {
     "name": "stdout",
     "output_type": "stream",
     "text": [
      "1 2 3\n",
      "6\n"
     ]
    }
   ],
   "source": [
    "'''a b c\n",
    "   1 2 3\n",
    "'''\n",
    "a,b,c=map(int,input().split())#map(function,iterable)\n",
    "print(a+b+c)"
   ]
  },
  {
   "cell_type": "code",
   "execution_count": 9,
   "metadata": {},
   "outputs": [
    {
     "name": "stdout",
     "output_type": "stream",
     "text": [
      "1 2 3 4 5\n",
      "[1, 2, 3, 4, 5]\n"
     ]
    }
   ],
   "source": [
    "'''\n",
    "a b c\n",
    "1 2 3\n",
    "'''\n",
    "all=[int(i) for i in input().split()]#List comprehension\n",
    "print(all)"
   ]
  },
  {
   "cell_type": "markdown",
   "metadata": {},
   "source": [
    "# 3"
   ]
  },
  {
   "cell_type": "code",
   "execution_count": 20,
   "metadata": {},
   "outputs": [
    {
     "name": "stdout",
     "output_type": "stream",
     "text": [
      "5\n",
      "1 2 3 4 5\n",
      "[1, 2, 3, 4, 5]\n"
     ]
    }
   ],
   "source": [
    "'''\n",
    "5\n",
    "1 2 3 4 5\n",
    "'''\n",
    "n=int(input())\n",
    "all=[int(i) for i in input().split()]\n",
    "print(all)"
   ]
  },
  {
   "cell_type": "code",
   "execution_count": 21,
   "metadata": {},
   "outputs": [
    {
     "name": "stdout",
     "output_type": "stream",
     "text": [
      "3\n",
      "1\n",
      "2\n",
      "3\n"
     ]
    }
   ],
   "source": [
    "'''\n",
    "3\n",
    "1\n",
    "2\n",
    "3\n",
    "'''\n",
    "n=int(input())\n",
    "for i in range(n):\n",
    "    x=int(input())"
   ]
  },
  {
   "cell_type": "code",
   "execution_count": 14,
   "metadata": {},
   "outputs": [
    {
     "name": "stdout",
     "output_type": "stream",
     "text": [
      "2\n",
      "3\n",
      "2 5 6\n",
      "[2, 5, 6]\n",
      "2\n",
      "1 7\n",
      "[1, 7]\n"
     ]
    }
   ],
   "source": [
    "'''\n",
    "2   \n",
    "3\n",
    "1 2 3\n",
    "4\n",
    "1 2 3 4\n",
    "'''\n",
    "n=int(input())#No. of queries \n",
    "for i in range(n):\n",
    "    x=int(input())#Element size\n",
    "    all=[int(i) for i in input().split()]#Element of array\n",
    "    print(all)"
   ]
  },
  {
   "cell_type": "markdown",
   "metadata": {},
   "source": [
    "# 4.Matrix Format"
   ]
  },
  {
   "cell_type": "code",
   "execution_count": 26,
   "metadata": {},
   "outputs": [
    {
     "name": "stdout",
     "output_type": "stream",
     "text": [
      "4\n",
      "1 2 3\n",
      "[1, 2, 3]\n",
      "1 2 3 4\n",
      "[1, 2, 3, 4]\n",
      "1 2 3 4 5\n",
      "[1, 2, 3, 4, 5]\n",
      "1 2 3 4 5 6\n",
      "[1, 2, 3, 4, 5, 6]\n"
     ]
    }
   ],
   "source": [
    "'''\n",
    "4\n",
    "1 3 2 4\n",
    "2 4 6 5 6 \n",
    "3 6 7\n",
    "4 5 3 5 6 8 '''\n",
    "queries=int(input())\n",
    "for i in range(queries):\n",
    "    all=[int(i) for i in input().split()]\n",
    "    print(all)"
   ]
  },
  {
   "cell_type": "code",
   "execution_count": null,
   "metadata": {},
   "outputs": [],
   "source": []
  }
 ],
 "metadata": {
  "kernelspec": {
   "display_name": "Python 3",
   "language": "python",
   "name": "python3"
  },
  "language_info": {
   "codemirror_mode": {
    "name": "ipython",
    "version": 3
   },
   "file_extension": ".py",
   "mimetype": "text/x-python",
   "name": "python",
   "nbconvert_exporter": "python",
   "pygments_lexer": "ipython3",
   "version": "3.8.3"
  }
 },
 "nbformat": 4,
 "nbformat_minor": 2
}
