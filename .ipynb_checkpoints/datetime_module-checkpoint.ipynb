{
 "cells": [
  {
   "cell_type": "code",
   "execution_count": 3,
   "metadata": {
    "collapsed": true
   },
   "outputs": [
    {
     "name": "stdout",
     "output_type": "stream",
     "text": [
      "Collecting jupyterthemes\n",
      "  Downloading jupyterthemes-0.20.0-py2.py3-none-any.whl (7.0 MB)\n",
      "Collecting lesscpy>=0.11.2\n",
      "  Downloading lesscpy-0.15.0-py2.py3-none-any.whl (46 kB)\n",
      "Requirement already satisfied: notebook>=5.6.0 in c:\\programdata\\anaconda3\\lib\\site-packages (from jupyterthemes) (6.0.3)\n",
      "Requirement already satisfied: matplotlib>=1.4.3 in c:\\programdata\\anaconda3\\lib\\site-packages (from jupyterthemes) (3.2.2)\n",
      "Requirement already satisfied: ipython>=5.4.1 in c:\\programdata\\anaconda3\\lib\\site-packages (from jupyterthemes) (7.16.1)\n",
      "Requirement already satisfied: jupyter-core in c:\\programdata\\anaconda3\\lib\\site-packages (from jupyterthemes) (4.6.3)\n",
      "Requirement already satisfied: ply in c:\\programdata\\anaconda3\\lib\\site-packages (from lesscpy>=0.11.2->jupyterthemes) (3.11)\n",
      "Requirement already satisfied: six in c:\\programdata\\anaconda3\\lib\\site-packages (from lesscpy>=0.11.2->jupyterthemes) (1.15.0)\n",
      "Requirement already satisfied: jupyter-client>=5.3.4 in c:\\programdata\\anaconda3\\lib\\site-packages (from notebook>=5.6.0->jupyterthemes) (6.1.6)\n",
      "Requirement already satisfied: prometheus-client in c:\\programdata\\anaconda3\\lib\\site-packages (from notebook>=5.6.0->jupyterthemes) (0.8.0)\n",
      "Requirement already satisfied: ipython-genutils in c:\\programdata\\anaconda3\\lib\\site-packages (from notebook>=5.6.0->jupyterthemes) (0.2.0)\n",
      "Requirement already satisfied: nbformat in c:\\programdata\\anaconda3\\lib\\site-packages (from notebook>=5.6.0->jupyterthemes) (5.0.7)\n",
      "Requirement already satisfied: traitlets>=4.2.1 in c:\\programdata\\anaconda3\\lib\\site-packages (from notebook>=5.6.0->jupyterthemes) (4.3.3)\n",
      "Requirement already satisfied: Send2Trash in c:\\programdata\\anaconda3\\lib\\site-packages (from notebook>=5.6.0->jupyterthemes) (1.5.0)\n",
      "Requirement already satisfied: jinja2 in c:\\programdata\\anaconda3\\lib\\site-packages (from notebook>=5.6.0->jupyterthemes) (2.11.2)\n",
      "Requirement already satisfied: ipykernel in c:\\programdata\\anaconda3\\lib\\site-packages (from notebook>=5.6.0->jupyterthemes) (5.3.2)\n",
      "Requirement already satisfied: nbconvert in c:\\programdata\\anaconda3\\lib\\site-packages (from notebook>=5.6.0->jupyterthemes) (5.6.1)\n",
      "Requirement already satisfied: pyzmq>=17 in c:\\programdata\\anaconda3\\lib\\site-packages (from notebook>=5.6.0->jupyterthemes) (19.0.1)\n",
      "Requirement already satisfied: tornado>=5.0 in c:\\programdata\\anaconda3\\lib\\site-packages (from notebook>=5.6.0->jupyterthemes) (6.0.4)\n",
      "Requirement already satisfied: terminado>=0.8.1 in c:\\programdata\\anaconda3\\lib\\site-packages (from notebook>=5.6.0->jupyterthemes) (0.8.3)\n",
      "Requirement already satisfied: python-dateutil>=2.1 in c:\\programdata\\anaconda3\\lib\\site-packages (from matplotlib>=1.4.3->jupyterthemes) (2.8.1)\n",
      "Requirement already satisfied: pyparsing!=2.0.4,!=2.1.2,!=2.1.6,>=2.0.1 in c:\\programdata\\anaconda3\\lib\\site-packages (from matplotlib>=1.4.3->jupyterthemes) (2.4.7)\n",
      "Requirement already satisfied: kiwisolver>=1.0.1 in c:\\programdata\\anaconda3\\lib\\site-packages (from matplotlib>=1.4.3->jupyterthemes) (1.2.0)\n",
      "Requirement already satisfied: cycler>=0.10 in c:\\programdata\\anaconda3\\lib\\site-packages (from matplotlib>=1.4.3->jupyterthemes) (0.10.0)\n",
      "Requirement already satisfied: numpy>=1.11 in c:\\programdata\\anaconda3\\lib\\site-packages (from matplotlib>=1.4.3->jupyterthemes) (1.18.5)\n",
      "Requirement already satisfied: prompt-toolkit!=3.0.0,!=3.0.1,<3.1.0,>=2.0.0 in c:\\programdata\\anaconda3\\lib\\site-packages (from ipython>=5.4.1->jupyterthemes) (3.0.5)\n",
      "Requirement already satisfied: decorator in c:\\programdata\\anaconda3\\lib\\site-packages (from ipython>=5.4.1->jupyterthemes) (4.4.2)\n",
      "Requirement already satisfied: jedi>=0.10 in c:\\programdata\\anaconda3\\lib\\site-packages (from ipython>=5.4.1->jupyterthemes) (0.17.1)\n",
      "Requirement already satisfied: backcall in c:\\programdata\\anaconda3\\lib\\site-packages (from ipython>=5.4.1->jupyterthemes) (0.2.0)\n",
      "Requirement already satisfied: colorama; sys_platform == \"win32\" in c:\\programdata\\anaconda3\\lib\\site-packages (from ipython>=5.4.1->jupyterthemes) (0.4.3)\n",
      "Requirement already satisfied: pygments in c:\\programdata\\anaconda3\\lib\\site-packages (from ipython>=5.4.1->jupyterthemes) (2.6.1)\n",
      "Requirement already satisfied: pickleshare in c:\\programdata\\anaconda3\\lib\\site-packages (from ipython>=5.4.1->jupyterthemes) (0.7.5)\n",
      "Requirement already satisfied: setuptools>=18.5 in c:\\programdata\\anaconda3\\lib\\site-packages (from ipython>=5.4.1->jupyterthemes) (49.2.0.post20200714)\n",
      "Requirement already satisfied: pywin32>=1.0; sys_platform == \"win32\" in c:\\programdata\\anaconda3\\lib\\site-packages (from jupyter-core->jupyterthemes) (227)\n",
      "Requirement already satisfied: jsonschema!=2.5.0,>=2.4 in c:\\programdata\\anaconda3\\lib\\site-packages (from nbformat->notebook>=5.6.0->jupyterthemes) (3.2.0)\n",
      "Requirement already satisfied: MarkupSafe>=0.23 in c:\\programdata\\anaconda3\\lib\\site-packages (from jinja2->notebook>=5.6.0->jupyterthemes) (1.1.1)\n",
      "Requirement already satisfied: testpath in c:\\programdata\\anaconda3\\lib\\site-packages (from nbconvert->notebook>=5.6.0->jupyterthemes) (0.4.4)\n",
      "Requirement already satisfied: bleach in c:\\programdata\\anaconda3\\lib\\site-packages (from nbconvert->notebook>=5.6.0->jupyterthemes) (3.1.5)\n",
      "Requirement already satisfied: mistune<2,>=0.8.1 in c:\\programdata\\anaconda3\\lib\\site-packages (from nbconvert->notebook>=5.6.0->jupyterthemes) (0.8.4)\n",
      "Requirement already satisfied: entrypoints>=0.2.2 in c:\\programdata\\anaconda3\\lib\\site-packages (from nbconvert->notebook>=5.6.0->jupyterthemes) (0.3)\n",
      "Requirement already satisfied: defusedxml in c:\\programdata\\anaconda3\\lib\\site-packages (from nbconvert->notebook>=5.6.0->jupyterthemes) (0.6.0)\n",
      "Requirement already satisfied: pandocfilters>=1.4.1 in c:\\programdata\\anaconda3\\lib\\site-packages (from nbconvert->notebook>=5.6.0->jupyterthemes) (1.4.2)\n",
      "Requirement already satisfied: wcwidth in c:\\programdata\\anaconda3\\lib\\site-packages (from prompt-toolkit!=3.0.0,!=3.0.1,<3.1.0,>=2.0.0->ipython>=5.4.1->jupyterthemes) (0.2.5)\n",
      "Requirement already satisfied: parso<0.8.0,>=0.7.0 in c:\\programdata\\anaconda3\\lib\\site-packages (from jedi>=0.10->ipython>=5.4.1->jupyterthemes) (0.7.0)\n",
      "Note: you may need to restart the kernel to use updated packages.Requirement already satisfied: pyrsistent>=0.14.0 in c:\\programdata\\anaconda3\\lib\\site-packages (from jsonschema!=2.5.0,>=2.4->nbformat->notebook>=5.6.0->jupyterthemes) (0.16.0)\n",
      "Requirement already satisfied: attrs>=17.4.0 in c:\\programdata\\anaconda3\\lib\\site-packages (from jsonschema!=2.5.0,>=2.4->nbformat->notebook>=5.6.0->jupyterthemes) (19.3.0)\n",
      "Requirement already satisfied: webencodings in c:\\programdata\\anaconda3\\lib\\site-packages (from bleach->nbconvert->notebook>=5.6.0->jupyterthemes) (0.5.1)\n",
      "Requirement already satisfied: packaging in c:\\programdata\\anaconda3\\lib\\site-packages (from bleach->nbconvert->notebook>=5.6.0->jupyterthemes) (20.4)\n",
      "Installing collected packages: lesscpy, jupyterthemes\n",
      "Successfully installed jupyterthemes-0.20.0 lesscpy-0.15.0\n",
      "\n"
     ]
    }
   ],
   "source": [
    "pip install jupyterthemes"
   ]
  },
  {
   "cell_type": "code",
   "execution_count": 1,
   "metadata": {
    "collapsed": true
   },
   "outputs": [
    {
     "name": "stdout",
     "output_type": "stream",
     "text": [
      "['MAXYEAR', 'MINYEAR', '__builtins__', '__cached__', '__doc__', '__file__', '__loader__', '__name__', '__package__', '__spec__', 'date', 'datetime', 'datetime_CAPI', 'sys', 'time', 'timedelta', 'timezone', 'tzinfo']\n"
     ]
    }
   ],
   "source": [
    "# It is also called datatime class\n",
    "import datetime\n",
    "print(dir(datetime))"
   ]
  },
  {
   "cell_type": "code",
   "execution_count": null,
   "metadata": {
    "collapsed": true
   },
   "outputs": [],
   "source": [
    ">datetime:\n",
    "---------\n",
    "    >It handles date and time.It has year,month,day,hour,minute,second,microsecond and tzinfo \n",
    "     attributes.\n",
    ">date:\n",
    "-----\n",
    "    >It handles dates of gregorian caclender,without taking time zone into consideration.It has\n",
    "     year,month,and day attributes.\n",
    "time:\n",
    "----\n",
    "    > It handles time assuming that every day has exactly 24 X 60 X 60 seconds.It has hour,minute,\n",
    "     seconds,microseconds and tzinfo attributes.\n",
    "timedelta:\n",
    "---------\n",
    "        >It handles durations.The duration may be the difference between two date,time or datetime\n",
    "         instances."
   ]
  },
  {
   "cell_type": "markdown",
   "metadata": {},
   "source": [
    "import datetime\n",
    "datetime_obj =datetime(year,month,day,hour=0,minute=0,second=0,microsecond=0,tzinfo=None,*,fold=0)\n",
    "Ther year,month and day arguments are required."
   ]
  },
  {
   "cell_type": "code",
   "execution_count": 2,
   "metadata": {},
   "outputs": [
    {
     "name": "stdout",
     "output_type": "stream",
     "text": [
      "['MAXYEAR', 'MINYEAR', '__all__', '__builtins__', '__cached__', '__doc__', '__file__', '__loader__', '__name__', '__package__', '__spec__', 'date', 'datetime', 'datetime_CAPI', 'sys', 'time', 'timedelta', 'timezone', 'tzinfo']\n"
     ]
    }
   ],
   "source": [
    "import datetime\n",
    "print(dir(datetime))"
   ]
  },
  {
   "cell_type": "code",
   "execution_count": 12,
   "metadata": {},
   "outputs": [
    {
     "name": "stdout",
     "output_type": "stream",
     "text": [
      "2022-01-09 00:00:00\n",
      "2022-01-09 15:47:00\n",
      "2022-01-30 00:00:00\n",
      "2014-03-04 23:33:00\n",
      "2022\n",
      "1\n",
      "9\n"
     ]
    }
   ],
   "source": [
    "from datetime import datetime\n",
    "dt1 = datetime(year=2022,month=1,day=9)\n",
    "dt2 = datetime(year=2022,month=1,day=9,hour=15,minute=47)\n",
    "dt3 = datetime(2022,1,30)\n",
    "dt4 = datetime(2014,3,4,23,33)\n",
    "print(dt1,dt2,dt3,dt4,sep='\\n')\n",
    "\n",
    "print(dt1.year)\n",
    "print(dt1.month)\n",
    "print(dt1.day)"
   ]
  },
  {
   "cell_type": "raw",
   "metadata": {},
   "source": [
    "datetime class methods"
   ]
  },
  {
   "cell_type": "raw",
   "metadata": {},
   "source": [
    "1.now()\n",
    "2.today()"
   ]
  },
  {
   "cell_type": "code",
   "execution_count": 20,
   "metadata": {},
   "outputs": [
    {
     "name": "stdout",
     "output_type": "stream",
     "text": [
      "2022-01-10 00:54:36.369223\n",
      "2022\n",
      "1\n",
      "10\n",
      "0\n",
      "54\n",
      "36\n"
     ]
    }
   ],
   "source": [
    "current_time = datetime.now()\n",
    "print(current_time)\n",
    "print(current_time.year)\n",
    "print(current_time.month)\n",
    "print(current_time.day)\n",
    "print(current_time.hour)\n",
    "print(current_time.minute)\n",
    "print(current_time.second)"
   ]
  },
  {
   "cell_type": "code",
   "execution_count": 22,
   "metadata": {},
   "outputs": [
    {
     "name": "stdout",
     "output_type": "stream",
     "text": [
      "2022-01-10 00:56:36.927098\n",
      "2022\n",
      "1\n",
      "10\n",
      "0\n",
      "56\n",
      "36\n"
     ]
    }
   ],
   "source": [
    "current_time = datetime.today()\n",
    "print(current_time)\n",
    "print(current_time.year)\n",
    "print(current_time.month)\n",
    "print(current_time.day)\n",
    "print(current_time.hour)\n",
    "print(current_time.minute)\n",
    "print(current_time.second)"
   ]
  },
  {
   "cell_type": "raw",
   "metadata": {},
   "source": [
    "date class "
   ]
  },
  {
   "cell_type": "raw",
   "metadata": {},
   "source": [
    "date object - A date object is an object containing information of year,month and day\n",
    "creating object of date class\n",
    "object_name = date(year,month,day)\n",
    "all arguments are required,arguments may be integers."
   ]
  },
  {
   "cell_type": "code",
   "execution_count": 32,
   "metadata": {},
   "outputs": [
    {
     "name": "stdout",
     "output_type": "stream",
     "text": [
      "2002-01-30\n",
      "2022-01-30\n",
      "2022-01-10\n",
      "2002\n",
      "2022\n",
      "2022\n"
     ]
    }
   ],
   "source": [
    "from datetime import date\n",
    "d1 = date(year=2002,month=1,day=30)\n",
    "d2 = date(2022,1,30)\n",
    "current_date = date.today()\n",
    "print(d1,d2,current_date,sep='\\n')\n",
    "print(d1.year,d2.year,sep='\\n')\n",
    "print(currend_date.year)"
   ]
  },
  {
   "cell_type": "raw",
   "metadata": {},
   "source": [
    "time class"
   ]
  },
  {
   "cell_type": "code",
   "execution_count": 37,
   "metadata": {},
   "outputs": [
    {
     "name": "stdout",
     "output_type": "stream",
     "text": [
      "15:03:03\n",
      "3\n",
      "3\n",
      "15\n"
     ]
    }
   ],
   "source": [
    "from datetime import time\n",
    "t = time(hour=15,minute=3,second=3,microsecond=0,tzinfo=None,fold=0)\n",
    "print(t)\n",
    "print(t.second)\n",
    "print(t.minute)\n",
    "print(t.hour)"
   ]
  },
  {
   "cell_type": "raw",
   "metadata": {},
   "source": [
    "timedelta class"
   ]
  },
  {
   "cell_type": "raw",
   "metadata": {},
   "source": [
    "timedelta object - A timedelta object represents a duration,the difference between two dates or times.\n",
    "It is possible to know the future dates or previous dates using timedelta"
   ]
  },
  {
   "cell_type": "raw",
   "metadata": {},
   "source": [
    "object_name = timedelta(days=0,seconds=0,microseconds=0,milliseconds=0,minutes=0,hours=0,weeks=0)\n",
    "all arguments are optional and default to 0.Arguments may be integers or floats, and may be +ve or -ve."
   ]
  },
  {
   "cell_type": "raw",
   "metadata": {},
   "source": [
    "millisecond is converted to 1000 microseconds.\n",
    "minute is converted to 60 seconds.\n",
    "hour is converted to 3600 seconds.\n",
    "weak is converted to 7 days.\n",
    "Example: timedelta(days=10)"
   ]
  },
  {
   "cell_type": "code",
   "execution_count": 44,
   "metadata": {},
   "outputs": [
    {
     "name": "stdout",
     "output_type": "stream",
     "text": [
      "timedelta : 10 days, 0:00:00\n",
      "current_date : 2022-01-10\n",
      "2022-01-20\n",
      "2021-12-31\n"
     ]
    }
   ],
   "source": [
    "from datetime import timedelta,date\n",
    "timedelta= timedelta(days=10)\n",
    "current_date = date.today()\n",
    "print(f'timedelta : {timedelta}')\n",
    "print(f'current_date : {currend_date}')\n",
    "print(currend_date + timedelta) # Now it is adding the two dates\n",
    "print(currend_date - timedelta) # Going 10 days back"
   ]
  },
  {
   "cell_type": "raw",
   "metadata": {},
   "source": [
    "Comparing two dates"
   ]
  },
  {
   "cell_type": "code",
   "execution_count": 49,
   "metadata": {},
   "outputs": [
    {
     "name": "stdout",
     "output_type": "stream",
     "text": [
      "True\n",
      "False\n",
      "True\n",
      "False\n",
      "True\n"
     ]
    }
   ],
   "source": [
    "from datetime import date\n",
    "d1 = date(year=2002,month=6,day=30)\n",
    "d2 = date(year=2002,month=6,day=30)\n",
    "d3 = date(year=2022,month=6,day=30)\n",
    "\n",
    "print(d1==d2)\n",
    "print(d1==d3)\n",
    "print(d3>d1)\n",
    "print(d2<d1)\n",
    "print(d1!=d3)"
   ]
  },
  {
   "cell_type": "raw",
   "metadata": {},
   "source": [
    "formating date and time"
   ]
  },
  {
   "cell_type": "raw",
   "metadata": {},
   "source": [
    "strftime() method - This method is used to format the content fo datetime,date and time class object. \n",
    "strftime represents string format to time.This method convert the object into a specified format and \n",
    "returns the formatted string.\n",
    "Ex:\n",
    "    dt = datetime.today()\n",
    "    newdt = dt-strftime('%B%d%Y') # here %B%d%Y is the format code"
   ]
  },
  {
   "cell_type": "code",
   "execution_count": 60,
   "metadata": {},
   "outputs": [
    {
     "name": "stdout",
     "output_type": "stream",
     "text": [
      "2022-01-10\n"
     ]
    }
   ],
   "source": [
    "from datetime import datetime\n",
    "current_time = datetime.today()\n",
    "print(current_date)"
   ]
  },
  {
   "cell_type": "code",
   "execution_count": 61,
   "metadata": {},
   "outputs": [
    {
     "name": "stdout",
     "output_type": "stream",
     "text": [
      "January,10,2022\n",
      "10/Jan/22\n",
      "10-01-2022\n",
      "01:44:58\n",
      "01:44:58\n"
     ]
    }
   ],
   "source": [
    "d1 = current_time.strftime('%B,%d,%Y')\n",
    "d2 = current_time.strftime('%d/%b/%y')\n",
    "d3 = current_time.strftime('%d-%m-%Y')\n",
    "d4 = current_time.strftime('%H:%M:%S')\n",
    "d5 = current_time.strftime('%I:%M:%S')\n",
    "\n",
    "print(d1,d2,d3,d4,d5,sep='\\n')"
   ]
  },
  {
   "cell_type": "code",
   "execution_count": 64,
   "metadata": {},
   "outputs": [
    {
     "name": "stdout",
     "output_type": "stream",
     "text": [
      "0\n",
      "1\n",
      "2\n",
      "3\n",
      "4\n",
      "Please wait...\n",
      "5\n",
      "6\n",
      "7\n",
      "8\n",
      "9\n"
     ]
    }
   ],
   "source": [
    "import  time\n",
    "for i in range(10):\n",
    "    if i==5:\n",
    "        print('Please wait...')\n",
    "        time.sleep(5)\n",
    "    print(i)"
   ]
  },
  {
   "cell_type": "code",
   "execution_count": null,
   "metadata": {},
   "outputs": [],
   "source": []
  }
 ],
 "metadata": {
  "kernelspec": {
   "display_name": "Python 3",
   "language": "python",
   "name": "python3"
  },
  "language_info": {
   "codemirror_mode": {
    "name": "ipython",
    "version": 3
   },
   "file_extension": ".py",
   "mimetype": "text/x-python",
   "name": "python",
   "nbconvert_exporter": "python",
   "pygments_lexer": "ipython3",
   "version": "3.9.6"
  }
 },
 "nbformat": 4,
 "nbformat_minor": 4
}
