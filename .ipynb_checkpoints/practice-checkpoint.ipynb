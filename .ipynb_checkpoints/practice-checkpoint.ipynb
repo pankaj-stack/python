{
 "cells": [
  {
   "cell_type": "code",
   "execution_count": 2,
   "metadata": {},
   "outputs": [
    {
     "ename": "ImportError",
     "evalue": "attempted relative import with no known parent package",
     "output_type": "error",
     "traceback": [
      "\u001b[0;31m---------------------------------------------------------------------------\u001b[0m",
      "\u001b[0;31mImportError\u001b[0m                               Traceback (most recent call last)",
      "\u001b[0;32m<ipython-input-2-f4ffc06fa211>\u001b[0m in \u001b[0;36m<module>\u001b[0;34m\u001b[0m\n\u001b[0;32m----> 1\u001b[0;31m \u001b[0;32mimport\u001b[0m \u001b[0mnumpy\u001b[0m \u001b[0;32mas\u001b[0m \u001b[0mnp\u001b[0m\u001b[0;34m\u001b[0m\u001b[0;34m\u001b[0m\u001b[0m\n\u001b[0m\u001b[1;32m      2\u001b[0m \u001b[0;32mimport\u001b[0m \u001b[0mpandas\u001b[0m \u001b[0;32mas\u001b[0m \u001b[0mpd\u001b[0m\u001b[0;34m\u001b[0m\u001b[0;34m\u001b[0m\u001b[0m\n\u001b[1;32m      3\u001b[0m \u001b[0;32mimport\u001b[0m \u001b[0mnltk\u001b[0m\u001b[0;34m\u001b[0m\u001b[0;34m\u001b[0m\u001b[0m\n",
      "\u001b[0;32m~/python/numpy.py\u001b[0m in \u001b[0;36m<module>\u001b[0;34m\u001b[0m\n\u001b[1;32m      8\u001b[0m \u001b[0;32mimport\u001b[0m \u001b[0mnumpy\u001b[0m \u001b[0;32mas\u001b[0m \u001b[0mnp\u001b[0m\u001b[0;34m\u001b[0m\u001b[0;34m\u001b[0m\u001b[0m\n\u001b[1;32m      9\u001b[0m \u001b[0;32mfrom\u001b[0m \u001b[0mtoolz\u001b[0m \u001b[0;32mimport\u001b[0m \u001b[0mvalmap\u001b[0m\u001b[0;34m,\u001b[0m \u001b[0midentity\u001b[0m\u001b[0;34m,\u001b[0m \u001b[0mpartial\u001b[0m\u001b[0;34m\u001b[0m\u001b[0;34m\u001b[0m\u001b[0m\n\u001b[0;32m---> 10\u001b[0;31m \u001b[0;32mfrom\u001b[0m \u001b[0;34m.\u001b[0m\u001b[0mcompatibility\u001b[0m \u001b[0;32mimport\u001b[0m \u001b[0mpickle\u001b[0m\u001b[0;34m\u001b[0m\u001b[0;34m\u001b[0m\u001b[0m\n\u001b[0m\u001b[1;32m     11\u001b[0m \u001b[0;32mfrom\u001b[0m \u001b[0;34m.\u001b[0m\u001b[0mcore\u001b[0m \u001b[0;32mimport\u001b[0m \u001b[0mInterface\u001b[0m\u001b[0;34m\u001b[0m\u001b[0;34m\u001b[0m\u001b[0m\n\u001b[1;32m     12\u001b[0m \u001b[0;32mfrom\u001b[0m \u001b[0;34m.\u001b[0m\u001b[0mfile\u001b[0m \u001b[0;32mimport\u001b[0m \u001b[0mFile\u001b[0m\u001b[0;34m\u001b[0m\u001b[0;34m\u001b[0m\u001b[0m\n",
      "\u001b[0;31mImportError\u001b[0m: attempted relative import with no known parent package"
     ]
    }
   ],
   "source": [
    "import numpy as np\n",
    "import pandas as pd\n",
    "import nltk"
   ]
  },
  {
   "cell_type": "code",
   "execution_count": null,
   "metadata": {},
   "outputs": [],
   "source": [
    "pd.read_csv('')"
   ]
  },
  {
   "cell_type": "code",
   "execution_count": null,
   "metadata": {},
   "outputs": [],
   "source": []
  },
  {
   "cell_type": "code",
   "execution_count": null,
   "metadata": {},
   "outputs": [],
   "source": []
  },
  {
   "cell_type": "code",
   "execution_count": null,
   "metadata": {},
   "outputs": [],
   "source": [
    "# nlp methods/functions\n",
    "01.open() #to open the file (file handling) \n",
    "02.read() #to read the file (file handling)\n",
    "03.sent_tokenize(text_file)/tokenize(text_file) # to break the sentence on completion of sentence.\n",
    "04.WhitespaceTokenizer()# to break the sentence/word from the white_space\n",
    "05.TreebankTokenizer()  # to break th sentence/word.\n",
    "06.WordPunctTokenizer() # it breaks each specific word or character.\n",
    "07.RegexpTokenizer()    #\n",
    "08.string.punctuation# It gives the total no. punctuation i.e 32.\n",
    "09."
   ]
  },
  {
   "cell_type": "code",
   "execution_count": 1,
   "metadata": {},
   "outputs": [],
   "source": [
    "# numpy methods and functions\n",
    "# 1.arange(starting_point,end_point,step)#it creates the sequence of ndim array\n",
    "# 2.linspace(starting_point,end_point,step)# it gives the equal divisions in the given interval ,by default it is 50\n",
    "# 3.array()#it creates the array from the\n",
    "# 4.zeros((2,3))#it create given size of null matrix\n",
    "# 5.ones((2,3))#it will create the matrix whose all elements are 1 ,according to given size \n",
    "# 6.identity(3)#it'll create 3x3 identity matrix\n",
    "# 7.diag([1,2,3])#it'll create the matrix whose diagonal will be 1,2 and 3 and remaining elements will be zero\n",
    "# 8.full((2,3),5)#it'll create the matrix 2x3 whose all element will be 5\n",
    "# 9.random.rand(2,3)#rand() returns an array of given shape with samples from a uniform distribution over[0,1)\n",
    "# 10.random.randn(2,3)# randn() (n stands for normal) return an arry of given shape populated with random samples from a standard normal distribution(Gausian Distribution) with mean 0 and variance 1.\n",
    "# 11.delimiter=',' # to seperate the string\n",
    "# 12.loadtxt() # to read the txt files\n",
    "# 13.genfromtxt()# to read the txt,csv,etc files\n",
    "        #1.skip_header # to skip the specific row from the data set\n",
    "        #2.dtype='|S20' # \n",
    "# 14.ndim # to know the dimention of the array\n",
    "# 15."
   ]
  },
  {
   "cell_type": "code",
   "execution_count": 2,
   "metadata": {},
   "outputs": [],
   "source": [
    "# # Matplotlib Visualisation Methods or Fuctions\n",
    "# 1.np.arange(starting_point,end_point,step)#It creates the n-di-arry\n",
    "# 2.DataFrame()<----------pandas\n",
    "# 2.plot(x,y)#to plot the given points on the graph\n",
    "# 3.show()# to display the  plotted graph\n",
    "# 4.marker#to show  points on the curve\n",
    "# 5.markersize#size of the marker\n",
    "# 6.linewidth#width of the curve/line\n",
    "# 7.linestyle# style of line/curve\n",
    "# 8.color#to give the color to your curve\n",
    "# 9.alpha#if set the contrast of the line/curve\n",
    "# 10.xlabel()#to write the name of x-axis\n",
    "# 11.ylabel()#to write the name of y-axis\n",
    "# 12.title()# to write the name of the graph\n",
    "# 13.xticks(it takes the sequence)#to plot the points on the x-axis manually\n",
    "# 14.yticks(it takes the sequence)#to plot the points on the y-axis manually\n",
    "# 15.xlim()# it cut the required x-axis portion\n",
    "# 16.ylim()# it cut the required y-axis portion\n",
    "# 17.legend()# to show small symbols about the graph\n",
    "# 18."
   ]
  },
  {
   "cell_type": "code",
   "execution_count": 4,
   "metadata": {},
   "outputs": [],
   "source": [
    "# #pandas functions and methods\n",
    "# 1.Series()=>it takes sequence like list\n",
    "# 2.index()/range()=>we can also provide own index like list,index,etc\n",
    "# 3.ndim# it tells the dimention\n",
    "# 4.shape# it tells the rows and columns\n",
    "# 5.dtype# it tells datatype\n",
    "# 6.python_indexing and data_structure_indexing\n",
    "# 7.loc  # data structure indexing(means an indexing which is provided by us to the series)\n",
    "# 8.iloc #python indexing\n",
    "# 9.unique# it gives the unique value\n",
    "# 10.nunique# it gives the total no of unique elements\n",
    "# 11.value_counts()# it gives the frequesncy of the unique elements\n",
    "# 12.values# it converts the data_structure into n-dimentional array\n",
    "# 13.tolist()#converting data_structure into list\n",
    "# 14.read_csv('file_name')\n",
    "# 15.head()# it gives the first 5 values\n",
    "# 16.tail()# it gives the last 5 values\n",
    "# 17.columns# it gives the column name\n",
    "# 18.isnull()#it detects the missing values\n",
    "# 19.sum()#\n",
    "# 20.mean()\n",
    "# 21.info()# it gives the whole information about the data\n",
    "# 22.describe()#it gives the statical data\n",
    "# 23.SibSp#\n",
    "# 24.crosstab()#\n",
    "# 25.min()  and max()# it provides the minimum and maximum value\n",
    "# 26.isin()#\n",
    "# 27.between(initial_value,final_value)\n",
    "# 28.interval_range(start,end,frequency)\n",
    "# 29.cut(-,-)\n",
    "# 30.groupby()#"
   ]
  },
  {
   "cell_type": "code",
   "execution_count": 2,
   "metadata": {},
   "outputs": [
    {
     "name": "stdout",
     "output_type": "stream",
     "text": [
      "no. of passengers : 1\n",
      "no. of passengers : 2\n",
      "no. of passengers : 3\n",
      "no. of passengers : 4\n",
      "no. of passengers : 5\n"
     ]
    }
   ],
   "source": [
    "for i in range(1,6):\n",
    "    print(f'no. of passengers : {i}')"
   ]
  },
  {
   "cell_type": "code",
   "execution_count": null,
   "metadata": {},
   "outputs": [],
   "source": []
  }
 ],
 "metadata": {
  "kernelspec": {
   "display_name": "Python 3",
   "language": "python",
   "name": "python3"
  },
  "language_info": {
   "codemirror_mode": {
    "name": "ipython",
    "version": 3
   },
   "file_extension": ".py",
   "mimetype": "text/x-python",
   "name": "python",
   "nbconvert_exporter": "python",
   "pygments_lexer": "ipython3",
   "version": "3.7.4"
  }
 },
 "nbformat": 4,
 "nbformat_minor": 2
}
