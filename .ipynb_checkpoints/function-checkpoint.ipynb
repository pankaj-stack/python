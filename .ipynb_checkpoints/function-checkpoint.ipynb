{
 "cells": [
  {
   "cell_type": "code",
   "execution_count": 6,
   "metadata": {},
   "outputs": [
    {
     "name": "stdout",
     "output_type": "stream",
     "text": [
      "20\n",
      "10\n"
     ]
    }
   ],
   "source": [
    "def f():\n",
    "    x=20\n",
    "    return x\n",
    "print(f())\n",
    "x=10\n",
    "print(x)"
   ]
  },
  {
   "cell_type": "code",
   "execution_count": 9,
   "metadata": {},
   "outputs": [
    {
     "name": "stdout",
     "output_type": "stream",
     "text": [
      "('krishna', 'radhe', 'shyam')\n"
     ]
    }
   ],
   "source": [
    "def args(*args):#*args takes tuple\n",
    "    for i in args:\n",
    "        print(i)\n",
    "tup=('krishna','radhe','shyam')\n",
    "args(tup)"
   ]
  },
  {
   "cell_type": "code",
   "execution_count": 20,
   "metadata": {},
   "outputs": [
    {
     "name": "stdout",
     "output_type": "stream",
     "text": [
      "2\n",
      "3\n",
      "4\n",
      "5\n",
      "<class 'list'>\n"
     ]
    }
   ],
   "source": [
    "s,*var=1,2,3,4,5\n",
    "for i in var:print(i)\n",
    "print(type(var))"
   ]
  },
  {
   "cell_type": "code",
   "execution_count": 22,
   "metadata": {},
   "outputs": [
    {
     "name": "stdout",
     "output_type": "stream",
     "text": [
      "('first', 'Geeks')----------><class 'dict'>\n",
      "('mid', 'for')----------><class 'dict'>\n",
      "('last', 'Geeks')----------><class 'dict'>\n"
     ]
    }
   ],
   "source": [
    "def kwargs(**kwargs):\n",
    "    for i in kwargs.items():\n",
    "        print(i,type(kwargs),sep='---------->')\n",
    "kwargs(first ='Geeks', mid ='for', last='Geeks')"
   ]
  },
  {
   "cell_type": "code",
   "execution_count": 29,
   "metadata": {},
   "outputs": [
    {
     "name": "stdout",
     "output_type": "stream",
     "text": [
      "first == Geeks\n",
      "mid == for\n",
      "last == Geeks\n"
     ]
    }
   ],
   "source": [
    "def myFun(**kwargs):  \n",
    "    for key, value in kwargs.items(): \n",
    "        print (\"%s == %s\"%(key, value)) <-----------------------\"%s == %s\"\n",
    "  \n",
    "# Driver code \n",
    "myFun(first ='Geeks', mid ='for', last='Geeks')     "
   ]
  },
  {
   "cell_type": "code",
   "execution_count": 27,
   "metadata": {},
   "outputs": [
    {
     "data": {
      "text/plain": [
       "125"
      ]
     },
     "execution_count": 27,
     "metadata": {},
     "output_type": "execute_result"
    }
   ],
   "source": [
    "#Anonymous fun^n(function without name i.e called anonymous function(lambda function))\n",
    "cube=lambda x:x**3\n",
    "cube(5)"
   ]
  },
  {
   "cell_type": "code",
   "execution_count": 36,
   "metadata": {},
   "outputs": [
    {
     "name": "stdout",
     "output_type": "stream",
     "text": [
      "hello\n"
     ]
    }
   ],
   "source": [
    "function=lambda :print('hello')\n",
    "function()"
   ]
  },
  {
   "cell_type": "code",
   "execution_count": 29,
   "metadata": {},
   "outputs": [
    {
     "data": {
      "text/plain": [
       "8"
      ]
     },
     "execution_count": 29,
     "metadata": {},
     "output_type": "execute_result"
    }
   ],
   "source": [
    "def function():\n",
    "    z=8\n",
    "    return  z\n",
    "function()"
   ]
  },
  {
   "cell_type": "code",
   "execution_count": 34,
   "metadata": {},
   "outputs": [
    {
     "data": {
      "text/plain": [
       "(5, 5)"
      ]
     },
     "execution_count": 34,
     "metadata": {},
     "output_type": "execute_result"
    }
   ],
   "source": [
    "def fun():\n",
    "    z=5\n",
    "    return z,z\n",
    "    print('hello')#This won't print because function get terminated by return statement\n",
    "fun()"
   ]
  },
  {
   "cell_type": "code",
   "execution_count": 39,
   "metadata": {},
   "outputs": [
    {
     "data": {
      "text/plain": [
       "tuple"
      ]
     },
     "execution_count": 39,
     "metadata": {},
     "output_type": "execute_result"
    }
   ],
   "source": [
    "def fun():\n",
    "    z=5\n",
    "    return z,z\n",
    "    print('hello')#This won't print because function get terminated by return statement\n",
    "type(fun())<--------------------------------------------"
   ]
  },
  {
   "cell_type": "code",
   "execution_count": 40,
   "metadata": {},
   "outputs": [],
   "source": [
    "def f():\n",
    "    def f():\n",
    "        print('f()')\n",
    "f()"
   ]
  },
  {
   "cell_type": "code",
   "execution_count": 40,
   "metadata": {},
   "outputs": [
    {
     "name": "stdout",
     "output_type": "stream",
     "text": [
      "f()\n"
     ]
    }
   ],
   "source": [
    "def f():\n",
    "    def f():\n",
    "        print('f()')\n",
    "    f()\n",
    "f()"
   ]
  },
  {
   "cell_type": "code",
   "execution_count": 6,
   "metadata": {},
   "outputs": [
    {
     "name": "stdout",
     "output_type": "stream",
     "text": [
      "1\n",
      "2\n",
      "3\n",
      "4\n"
     ]
    }
   ],
   "source": [
    "# If the number of arguments is unknown, add a * before the parameter name<----------\n",
    "def my_function(*kids):\n",
    "      for i in kids:\n",
    "            print(i)\n",
    "my_function(1,2,3,4)\n"
   ]
  },
  {
   "cell_type": "code",
   "execution_count": null,
   "metadata": {},
   "outputs": [],
   "source": []
  },
  {
   "cell_type": "code",
   "execution_count": null,
   "metadata": {},
   "outputs": [],
   "source": []
  },
  {
   "cell_type": "code",
   "execution_count": null,
   "metadata": {},
   "outputs": [],
   "source": []
  },
  {
   "cell_type": "code",
   "execution_count": null,
   "metadata": {},
   "outputs": [],
   "source": []
  },
  {
   "cell_type": "code",
   "execution_count": null,
   "metadata": {},
   "outputs": [],
   "source": []
  },
  {
   "cell_type": "code",
   "execution_count": null,
   "metadata": {},
   "outputs": [],
   "source": []
  },
  {
   "cell_type": "code",
   "execution_count": null,
   "metadata": {},
   "outputs": [],
   "source": []
  },
  {
   "cell_type": "code",
   "execution_count": null,
   "metadata": {},
   "outputs": [],
   "source": []
  },
  {
   "cell_type": "code",
   "execution_count": null,
   "metadata": {},
   "outputs": [],
   "source": []
  },
  {
   "cell_type": "code",
   "execution_count": null,
   "metadata": {},
   "outputs": [],
   "source": []
  },
  {
   "cell_type": "code",
   "execution_count": null,
   "metadata": {},
   "outputs": [],
   "source": []
  },
  {
   "cell_type": "code",
   "execution_count": null,
   "metadata": {},
   "outputs": [],
   "source": []
  },
  {
   "cell_type": "code",
   "execution_count": 13,
   "metadata": {},
   "outputs": [
    {
     "name": "stdout",
     "output_type": "stream",
     "text": [
      "Enter a no : 5\n"
     ]
    },
    {
     "data": {
      "text/plain": [
       "120"
      ]
     },
     "execution_count": 13,
     "metadata": {},
     "output_type": "execute_result"
    }
   ],
   "source": [
    "# Factorial\n",
    "def factoraial(n):\n",
    "    if n>=0:\n",
    "        if n==0 or n==1:\n",
    "            return 1\n",
    "        else:\n",
    "            return n*factoraial(n-1)\n",
    "    else:\n",
    "        print('Input greater than 0')\n",
    "factoraial(int(input('Enter a no : ')))"
   ]
  },
  {
   "cell_type": "code",
   "execution_count": 19,
   "metadata": {},
   "outputs": [
    {
     "name": "stdout",
     "output_type": "stream",
     "text": [
      "Enter a no : 3\n"
     ]
    },
    {
     "data": {
      "text/plain": [
       "6"
      ]
     },
     "execution_count": 19,
     "metadata": {},
     "output_type": "execute_result"
    }
   ],
   "source": [
    "# Factorial\n",
    "def factoraial(n):\n",
    "    multiply=1\n",
    "    if n>=0:\n",
    "        if n==0 or n==1:\n",
    "            return 1\n",
    "        else:\n",
    "            for i in range(n):\n",
    "                multiply=multiply*n\n",
    "                n-=1\n",
    "            return multiply\n",
    "    else:\n",
    "        print('Input greater than 0')\n",
    "factoraial(int(input('Enter a no : ')))"
   ]
  },
  {
   "cell_type": "code",
   "execution_count": 36,
   "metadata": {},
   "outputs": [
    {
     "name": "stdout",
     "output_type": "stream",
     "text": [
      "Enter the year : 2024\n",
      "True\n"
     ]
    }
   ],
   "source": [
    "# leap year\n",
    "def is_leap(year):\n",
    "    leap = False\n",
    "    if year%4==0:\n",
    "        if year%100==0:\n",
    "            if year%400==0:\n",
    "                leap=True\n",
    "                return leap\n",
    "            else:\n",
    "                return leap\n",
    "        else:\n",
    "            leap=True\n",
    "            return leap\n",
    "    else:\n",
    "        return leap\n",
    "year = int(input('Enter the year : '))\n",
    "print(is_leap(year))"
   ]
  },
  {
   "cell_type": "code",
   "execution_count": 25,
   "metadata": {},
   "outputs": [
    {
     "data": {
      "text/plain": [
       "4.98"
      ]
     },
     "execution_count": 25,
     "metadata": {},
     "output_type": "execute_result"
    }
   ],
   "source": [
    "1992/400"
   ]
  },
  {
   "cell_type": "markdown",
   "metadata": {},
   "source": [
    "## 24th,February 2020"
   ]
  },
  {
   "cell_type": "markdown",
   "metadata": {},
   "source": [
    "## Function"
   ]
  },
  {
   "cell_type": "code",
   "execution_count": 7,
   "metadata": {},
   "outputs": [],
   "source": [
    "# 1.Reusuability\n",
    "# 2.to use your set of instruction in another program/project"
   ]
  },
  {
   "cell_type": "code",
   "execution_count": 1,
   "metadata": {},
   "outputs": [],
   "source": [
    "# It is named block code and non-self executable code(defintion of function)\n",
    "# def is a keyword\n",
    "# Return type of function is the type of value it return\n",
    "# By default function returns None\n",
    "#Return statement is optional,if any then that will be single return statement\n",
    "    # in a function"
   ]
  },
  {
   "cell_type": "markdown",
   "metadata": {},
   "source": [
    "## Docstring"
   ]
  },
  {
   "cell_type": "code",
   "execution_count": 2,
   "metadata": {},
   "outputs": [
    {
     "name": "stdout",
     "output_type": "stream",
     "text": [
      "print(value, ..., sep=' ', end='\\n', file=sys.stdout, flush=False)\n",
      "\n",
      "Prints the values to a stream, or to sys.stdout by default.\n",
      "Optional keyword arguments:\n",
      "file:  a file-like object (stream); defaults to the current sys.stdout.\n",
      "sep:   string inserted between values, default a space.\n",
      "end:   string appended after the last value, default a newline.\n",
      "flush: whether to forcibly flush the stream.\n"
     ]
    }
   ],
   "source": [
    "print(print.__doc__)#To see the docstring"
   ]
  },
  {
   "cell_type": "code",
   "execution_count": 6,
   "metadata": {},
   "outputs": [
    {
     "name": "stdout",
     "output_type": "stream",
     "text": [
      "Built-in mutable sequence.\n",
      "\n",
      "If no argument is given, the constructor creates a new empty list.\n",
      "The argument must be an iterable if specified.\n"
     ]
    }
   ],
   "source": [
    "print(list.__doc__)"
   ]
  },
  {
   "cell_type": "code",
   "execution_count": 7,
   "metadata": {},
   "outputs": [
    {
     "name": "stdout",
     "output_type": "stream",
     "text": [
      "zip(iter1 [,iter2 [...]]) --> zip object\n",
      "\n",
      "Return a zip object whose .__next__() method returns a tuple where\n",
      "the i-th element comes from the i-th iterable argument.  The .__next__()\n",
      "method continues until the shortest iterable in the argument sequence\n",
      "is exhausted and then it raises StopIteration.\n"
     ]
    }
   ],
   "source": [
    "print(zip.__doc__)"
   ]
  },
  {
   "cell_type": "code",
   "execution_count": 1,
   "metadata": {},
   "outputs": [
    {
     "name": "stdout",
     "output_type": "stream",
     "text": [
      "Hello Everyone\n"
     ]
    }
   ],
   "source": [
    "# Function without parameter\n",
    "def greeting():\n",
    "    'This function greets everyone'\n",
    "    print('Hello Everyone')\n",
    "greeting()"
   ]
  },
  {
   "cell_type": "code",
   "execution_count": 5,
   "metadata": {},
   "outputs": [
    {
     "name": "stdout",
     "output_type": "stream",
     "text": [
      "<function greeting at 0x7f7a8ca75170> <function greeting at 0x7f7a8ca75170>\n",
      "Hello Everyone\n",
      "Hello Everyone\n"
     ]
    }
   ],
   "source": [
    "g=greeting\n",
    "print(g,greeting)#It means both are same\n",
    "g()\n",
    "'''or'''\n",
    "greeting()"
   ]
  },
  {
   "cell_type": "code",
   "execution_count": 9,
   "metadata": {},
   "outputs": [
    {
     "name": "stdout",
     "output_type": "stream",
     "text": [
      "This function greets everyone\n"
     ]
    }
   ],
   "source": [
    "print(greeting.__doc__)"
   ]
  },
  {
   "cell_type": "code",
   "execution_count": 10,
   "metadata": {},
   "outputs": [
    {
     "name": "stdout",
     "output_type": "stream",
     "text": [
      "Hello Everyone\n"
     ]
    }
   ],
   "source": [
    "# Function without parameter\n",
    "def greeting():\n",
    "    ''' this fuction\n",
    "    greets everybody'''\n",
    "    print('Hello Everyone')\n",
    "greeting()"
   ]
  },
  {
   "cell_type": "code",
   "execution_count": 11,
   "metadata": {},
   "outputs": [
    {
     "name": "stdout",
     "output_type": "stream",
     "text": [
      " this fuction\n",
      "    greets everybody\n"
     ]
    }
   ],
   "source": [
    "print(greeting.__doc__)"
   ]
  },
  {
   "cell_type": "code",
   "execution_count": 13,
   "metadata": {},
   "outputs": [
    {
     "name": "stdout",
     "output_type": "stream",
     "text": [
      "0\n",
      "1\n",
      "2\n",
      "3\n",
      "4\n",
      "Hello Everyone\n"
     ]
    }
   ],
   "source": [
    "for i in range(5):\n",
    "    print(i)\n",
    "greeting()#Whenever you need can call it anywhere"
   ]
  },
  {
   "cell_type": "markdown",
   "metadata": {},
   "source": [
    "## Creating function with parameter"
   ]
  },
  {
   "cell_type": "code",
   "execution_count": 26,
   "metadata": {},
   "outputs": [
    {
     "name": "stdout",
     "output_type": "stream",
     "text": [
      "Enter name : Pankaj\n",
      "Hello Pankaj\n"
     ]
    }
   ],
   "source": [
    "name=input('Enter name : ')\n",
    "def greeting(n):\n",
    "    print('Hello',n)\n",
    "greeting(name)"
   ]
  },
  {
   "cell_type": "code",
   "execution_count": 27,
   "metadata": {},
   "outputs": [
    {
     "name": "stdout",
     "output_type": "stream",
     "text": [
      "Hello Pankaj\n",
      "Enter name : pankaj\n"
     ]
    }
   ],
   "source": [
    "def greeting(n):#here n is parameter\n",
    "    print('Hello',n)\n",
    "greeting(name)#here name is argument\n",
    "name=input('Enter name : ')"
   ]
  },
  {
   "cell_type": "code",
   "execution_count": 28,
   "metadata": {},
   "outputs": [
    {
     "name": "stdout",
     "output_type": "stream",
     "text": [
      "Hello Atul\n"
     ]
    }
   ],
   "source": [
    "greeting('Atul')"
   ]
  },
  {
   "cell_type": "code",
   "execution_count": 30,
   "metadata": {},
   "outputs": [
    {
     "name": "stdout",
     "output_type": "stream",
     "text": [
      "Enter a no. : 4\n",
      "Even\n"
     ]
    }
   ],
   "source": [
    "#Program to check even and odd\n",
    "def even_odd(n):\n",
    "    print('Even') if n%2==0 else print('Odd')\n",
    "even_odd(int(input('Enter a no. : ')))"
   ]
  },
  {
   "cell_type": "markdown",
   "metadata": {},
   "source": [
    "## Need for return statement"
   ]
  },
  {
   "cell_type": "code",
   "execution_count": 33,
   "metadata": {},
   "outputs": [],
   "source": [
    "# Scope of variable"
   ]
  },
  {
   "cell_type": "code",
   "execution_count": 35,
   "metadata": {},
   "outputs": [
    {
     "name": "stdout",
     "output_type": "stream",
     "text": [
      "Enter the no. : 5\n",
      "Odd\n"
     ]
    }
   ],
   "source": [
    "# Creating global variable inside local variable\n",
    "def even_odd(x):\n",
    "    global res# global variable\n",
    "    if x%2==0:\n",
    "        res='Even'\n",
    "    else:\n",
    "        res='Odd'\n",
    "even_odd(int(input('Enter the no. : ')))\n",
    "print(res)"
   ]
  },
  {
   "cell_type": "markdown",
   "metadata": {},
   "source": [
    "## Variable preference:"
   ]
  },
  {
   "cell_type": "code",
   "execution_count": 14,
   "metadata": {},
   "outputs": [
    {
     "name": "stdout",
     "output_type": "stream",
     "text": [
      "5 1st time outside\n",
      "5 1st time inside\n",
      "17\n",
      "5 2nd time outside\n"
     ]
    }
   ],
   "source": [
    "def myfunc(a,b):\n",
    "    print(a,'1st time inside')\n",
    "    s=a+b\n",
    "    print(s)\n",
    "a=5\n",
    "b=12\n",
    "print(a,'1st time outside')\n",
    "myfunc(a,b)\n",
    "print(a,'2nd time outside')\n"
   ]
  },
  {
   "cell_type": "code",
   "execution_count": 15,
   "metadata": {},
   "outputs": [
    {
     "name": "stdout",
     "output_type": "stream",
     "text": [
      "5 1st time outside\n",
      "50 1st time iside\n",
      "62\n",
      "5 2nd time outside\n"
     ]
    }
   ],
   "source": [
    "def myfunc(a,b):\n",
    "    a=50\n",
    "    print(a,'1st time iside')#Iside function,local variable will be given preference 1st\n",
    "    s=a+b\n",
    "    print(s)\n",
    "a=5\n",
    "b=12\n",
    "print(a,'1st time outside')\n",
    "myfunc(a,b)\n",
    "print(a,'2nd time outside')#outside function gloabal variable will be given preference 1st\n"
   ]
  },
  {
   "cell_type": "code",
   "execution_count": 22,
   "metadata": {},
   "outputs": [
    {
     "name": "stdout",
     "output_type": "stream",
     "text": [
      "Enter the no. : 44\n",
      "even\n",
      "None\n"
     ]
    }
   ],
   "source": [
    "def even_odd(x):\n",
    "    global res# global variable\n",
    "    if x%2==0:\n",
    "        print('even')\n",
    "    else:\n",
    "        print('odd')\n",
    "x=even_odd(int(input('Enter the no. : ')))\n",
    "print(x)#bydefault function returns None"
   ]
  },
  {
   "cell_type": "code",
   "execution_count": 18,
   "metadata": {},
   "outputs": [
    {
     "name": "stdout",
     "output_type": "stream",
     "text": [
      "Enter the no. : 5\n",
      "False\n"
     ]
    }
   ],
   "source": [
    "def even_odd(x):\n",
    "    return x%2==0\n",
    "x=even_odd(int(input('Enter the no. : ')))\n",
    "print(x)#bydefault function return None"
   ]
  },
  {
   "cell_type": "code",
   "execution_count": 20,
   "metadata": {},
   "outputs": [
    {
     "name": "stdout",
     "output_type": "stream",
     "text": [
      "Enter the no. : 8\n",
      "even\n",
      "10\n"
     ]
    }
   ],
   "source": [
    "def even_odd(x):\n",
    "    global res# global variable\n",
    "    if x%2==0:\n",
    "        print('even')\n",
    "    else:\n",
    "        print('odd')\n",
    "n=int(input('Enter the no. : '))\n",
    "x=even_odd(n)\n",
    "if x=='odd':\n",
    "    print(n+1)\n",
    "else:\n",
    "    print(n+2)"
   ]
  },
  {
   "cell_type": "markdown",
   "metadata": {},
   "source": [
    "## returning multiple values"
   ]
  },
  {
   "cell_type": "code",
   "execution_count": 23,
   "metadata": {},
   "outputs": [
    {
     "name": "stdout",
     "output_type": "stream",
     "text": [
      "11\n"
     ]
    }
   ],
   "source": [
    "def maths(x,y):\n",
    "    s=x+y\n",
    "    m=x*y\n",
    "    return s  #Function can have only one return statement\n",
    "    return m\n",
    "res=maths(5,6)\n",
    "print(res)"
   ]
  },
  {
   "cell_type": "code",
   "execution_count": 26,
   "metadata": {},
   "outputs": [
    {
     "name": "stdout",
     "output_type": "stream",
     "text": [
      "30\n"
     ]
    }
   ],
   "source": [
    "def maths(x,y):\n",
    "    s=x+y\n",
    "    m=x*y\n",
    "    return m\n",
    "    return s\n",
    "res=maths(5,6)\n",
    "print(res)"
   ]
  },
  {
   "cell_type": "code",
   "execution_count": 29,
   "metadata": {},
   "outputs": [
    {
     "name": "stdout",
     "output_type": "stream",
     "text": [
      "(30, 11) <class 'tuple'>\n"
     ]
    }
   ],
   "source": [
    "def maths(x,y):\n",
    "    s=x+y\n",
    "    m=x*y\n",
    "    return m,s#<-------------------------tuple\n",
    "res=maths(5,6)\n",
    "print(res,type(res))"
   ]
  },
  {
   "cell_type": "code",
   "execution_count": 30,
   "metadata": {},
   "outputs": [
    {
     "name": "stdout",
     "output_type": "stream",
     "text": [
      "[30, 11] <class 'list'>\n"
     ]
    }
   ],
   "source": [
    "def maths(x,y):\n",
    "    s=x+y\n",
    "    m=x*y\n",
    "    return [m,s]#<---------------------list\n",
    "res=maths(5,6)\n",
    "print(res,type(res))"
   ]
  },
  {
   "cell_type": "code",
   "execution_count": 31,
   "metadata": {},
   "outputs": [
    {
     "name": "stdout",
     "output_type": "stream",
     "text": [
      "15.0\n",
      "5.5\n"
     ]
    }
   ],
   "source": [
    "def maths(x,y):\n",
    "    s=x+y\n",
    "    m=x*y\n",
    "    return [m,s]#<---------------------list\n",
    "res=maths(5,6)\n",
    "avg=res[0]/2\n",
    "sqrt=res[1]*0.5\n",
    "print(avg,sqrt,sep='\\n')"
   ]
  },
  {
   "cell_type": "code",
   "execution_count": 35,
   "metadata": {},
   "outputs": [
    {
     "name": "stdout",
     "output_type": "stream",
     "text": [
      "15.0\n",
      "5.5\n"
     ]
    }
   ],
   "source": [
    "def maths(x,y):\n",
    "    s=x+y\n",
    "    m=x*y\n",
    "    return [m,s]#<---------------------list\n",
    "add,mul=maths(5,6)\n",
    "avg=add/2\n",
    "sqrt=mul*0.5\n",
    "print(avg,sqrt,sep='\\n')"
   ]
  },
  {
   "cell_type": "markdown",
   "metadata": {},
   "source": [
    "## Home Work"
   ]
  },
  {
   "cell_type": "code",
   "execution_count": null,
   "metadata": {},
   "outputs": [],
   "source": [
    "# generator function\n",
    "# decorator function\n",
    "# closure function"
   ]
  },
  {
   "cell_type": "markdown",
   "metadata": {},
   "source": [
    "## 25th,February 2020"
   ]
  },
  {
   "cell_type": "markdown",
   "metadata": {},
   "source": [
    "## Different ways of assigning arguments to parameter"
   ]
  },
  {
   "cell_type": "code",
   "execution_count": 3,
   "metadata": {},
   "outputs": [
    {
     "name": "stdout",
     "output_type": "stream",
     "text": [
      "x: 4\n",
      "y: 5\n"
     ]
    },
    {
     "data": {
      "text/plain": [
       "9"
      ]
     },
     "execution_count": 3,
     "metadata": {},
     "output_type": "execute_result"
    }
   ],
   "source": [
    "# 1.Parameters with non-default value\n",
    "def addition(x,y):\n",
    "    print('x:',x)\n",
    "    print('y:',y)\n",
    "    return x+y\n",
    "addition(4,5)"
   ]
  },
  {
   "cell_type": "code",
   "execution_count": 5,
   "metadata": {},
   "outputs": [
    {
     "name": "stdout",
     "output_type": "stream",
     "text": [
      "x: 5\n",
      "y: 4\n"
     ]
    },
    {
     "data": {
      "text/plain": [
       "9"
      ]
     },
     "execution_count": 5,
     "metadata": {},
     "output_type": "execute_result"
    }
   ],
   "source": [
    "# 2.Keyword arguments\n",
    "def addition(x,y):\n",
    "    print('x:',x)\n",
    "    print('y:',y)\n",
    "    return x+y\n",
    "addition(y=4,x=5)#<------------------------------------------keyword argument"
   ]
  },
  {
   "cell_type": "code",
   "execution_count": 7,
   "metadata": {},
   "outputs": [
    {
     "ename": "SyntaxError",
     "evalue": "invalid syntax (<ipython-input-7-0fd080c68d49>, line 1)",
     "output_type": "error",
     "traceback": [
      "\u001b[0;36m  File \u001b[0;32m\"<ipython-input-7-0fd080c68d49>\"\u001b[0;36m, line \u001b[0;32m1\u001b[0m\n\u001b[0;31m    1.Parameters with non-default arguments\u001b[0m\n\u001b[0m               ^\u001b[0m\n\u001b[0;31mSyntaxError\u001b[0m\u001b[0;31m:\u001b[0m invalid syntax\n"
     ]
    }
   ],
   "source": [
    "1.Parameters with non-default arguments\n",
    "addition(5) # error due to missing arguments"
   ]
  },
  {
   "cell_type": "code",
   "execution_count": 23,
   "metadata": {},
   "outputs": [
    {
     "name": "stdout",
     "output_type": "stream",
     "text": [
      "x: 3\n",
      "y: 4\n",
      "7\n",
      "\n",
      "\n",
      "x: 5\n",
      "y: 5\n",
      "10\n",
      "\n",
      "\n",
      "x: 0\n",
      "y: 6\n",
      "6\n"
     ]
    }
   ],
   "source": [
    "#Defining default parameters\n",
    "def addition(x=0,y=5):#<-------------default parameter------------------------\n",
    "    print('x:',x)\n",
    "    print('y:',y)\n",
    "    return x+y\n",
    "print(addition(3,4))\n",
    "print('\\n')\n",
    "print(addition(5))\n",
    "print('\\n')\n",
    "print(addition(y=6))"
   ]
  },
  {
   "cell_type": "code",
   "execution_count": 24,
   "metadata": {},
   "outputs": [
    {
     "name": "stdout",
     "output_type": "stream",
     "text": [
      "x: 0\n",
      "y: 5\n"
     ]
    },
    {
     "data": {
      "text/plain": [
       "5"
      ]
     },
     "execution_count": 24,
     "metadata": {},
     "output_type": "execute_result"
    }
   ],
   "source": [
    "addition()"
   ]
  },
  {
   "cell_type": "code",
   "execution_count": 27,
   "metadata": {},
   "outputs": [
    {
     "name": "stdout",
     "output_type": "stream",
     "text": [
      "3\n",
      "3\n",
      "x: 3\n",
      "y: 3\n",
      "6\n"
     ]
    }
   ],
   "source": [
    "print(addition(x=int(input()),y=int(input())))"
   ]
  },
  {
   "cell_type": "code",
   "execution_count": 16,
   "metadata": {},
   "outputs": [
    {
     "name": "stdout",
     "output_type": "stream",
     "text": [
      "x 2\n",
      "y: 10\n",
      "12\n"
     ]
    }
   ],
   "source": [
    "# Function with both default and non-default parameters\n",
    "def addition(x,y=5):\n",
    "    print('x:',x)\n",
    "    print('y:',y)\n",
    "    return x+y\n",
    "print(addition(2,10))\n"
   ]
  },
  {
   "cell_type": "markdown",
   "metadata": {},
   "source": [
    "## non-default argument follows default argument"
   ]
  },
  {
   "cell_type": "code",
   "execution_count": 18,
   "metadata": {},
   "outputs": [
    {
     "ename": "SyntaxError",
     "evalue": "non-default argument follows default argument (<ipython-input-18-92d63a578402>, line 1)",
     "output_type": "error",
     "traceback": [
      "\u001b[0;36m  File \u001b[0;32m\"<ipython-input-18-92d63a578402>\"\u001b[0;36m, line \u001b[0;32m1\u001b[0m\n\u001b[0;31m    def addition(y=5,x):#<---SyntaxError: non-default argument follows default argument\u001b[0m\n\u001b[0m                ^\u001b[0m\n\u001b[0;31mSyntaxError\u001b[0m\u001b[0;31m:\u001b[0m non-default argument follows default argument\n"
     ]
    }
   ],
   "source": [
    "def addition(y=5,x):#<---SyntaxError: non-default argument follows default argument\n",
    "\n",
    "    print('x:',x)\n",
    "    print('y:',y)\n",
    "    return x+y\n",
    "print(addition(2,10))\n"
   ]
  },
  {
   "cell_type": "markdown",
   "metadata": {},
   "source": [
    "## Arbitrary parameter is *args and **kwargs"
   ]
  },
  {
   "cell_type": "code",
   "execution_count": null,
   "metadata": {},
   "outputs": [],
   "source": []
  }
 ],
 "metadata": {
  "kernelspec": {
   "display_name": "Python 3",
   "language": "python",
   "name": "python3"
  },
  "language_info": {
   "codemirror_mode": {
    "name": "ipython",
    "version": 3
   },
   "file_extension": ".py",
   "mimetype": "text/x-python",
   "name": "python",
   "nbconvert_exporter": "python",
   "pygments_lexer": "ipython3",
   "version": "3.7.4"
  }
 },
 "nbformat": 4,
 "nbformat_minor": 2
}
