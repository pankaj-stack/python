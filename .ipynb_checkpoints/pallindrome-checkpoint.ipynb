{
 "cells": [
  {
   "cell_type": "code",
   "execution_count": 3,
   "metadata": {},
   "outputs": [
    {
     "name": "stdout",
     "output_type": "stream",
     "text": [
      "Enter the digits or string to check the pallindrome : 342\n",
      "not a palindrome\n"
     ]
    }
   ],
   "source": [
    "# Pallindrome\n",
    "str=input('Enter the digits or string to check the pallindrome : ')\n",
    "print('yes it is a palindrome') if str==str[::-1] else print('not a palindrome')"
   ]
  },
  {
   "cell_type": "code",
   "execution_count": 1,
   "metadata": {},
   "outputs": [
    {
     "name": "stdout",
     "output_type": "stream",
     "text": [
      "Enter the digits or string to check the pallindrome : 121\n",
      "yes it is a palindrome\n"
     ]
    }
   ],
   "source": [
    "str=input('Enter the digits or string to check the pallindrome : ')\n",
    "print('yes it is a palindrome') if str==str[::-1] else print('not a palindrome')"
   ]
  },
  {
   "cell_type": "code",
   "execution_count": null,
   "metadata": {},
   "outputs": [],
   "source": []
  }
 ],
 "metadata": {
  "kernelspec": {
   "display_name": "Python 3",
   "language": "python",
   "name": "python3"
  },
  "language_info": {
   "codemirror_mode": {
    "name": "ipython",
    "version": 3
   },
   "file_extension": ".py",
   "mimetype": "text/x-python",
   "name": "python",
   "nbconvert_exporter": "python",
   "pygments_lexer": "ipython3",
   "version": "3.7.4"
  }
 },
 "nbformat": 4,
 "nbformat_minor": 2
}
