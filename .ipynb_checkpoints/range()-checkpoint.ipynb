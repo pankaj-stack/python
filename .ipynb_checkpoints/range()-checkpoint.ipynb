{
 "cells": [
  {
   "cell_type": "markdown",
   "metadata": {},
   "source": [
    "# 18th,February 2020"
   ]
  },
  {
   "cell_type": "code",
   "execution_count": 2,
   "metadata": {},
   "outputs": [],
   "source": [
    "#range(start,stop(cumpulsory),step)#start and stop are optional\n",
    "# It returns a range object\n",
    "# It's a datatype"
   ]
  },
  {
   "cell_type": "code",
   "execution_count": 3,
   "metadata": {},
   "outputs": [
    {
     "name": "stdout",
     "output_type": "stream",
     "text": [
      "range(0, 11) <class 'range'>\n"
     ]
    }
   ],
   "source": [
    "# sequence from 0 to 10\n",
    "r=range(0,11)\n",
    "print(r,type(r))"
   ]
  },
  {
   "cell_type": "code",
   "execution_count": 4,
   "metadata": {},
   "outputs": [
    {
     "data": {
      "text/plain": [
       "[0, 1, 2, 3, 4, 5, 6, 7, 8, 9, 10]"
      ]
     },
     "execution_count": 4,
     "metadata": {},
     "output_type": "execute_result"
    }
   ],
   "source": [
    "list(r)"
   ]
  },
  {
   "cell_type": "code",
   "execution_count": 5,
   "metadata": {},
   "outputs": [
    {
     "name": "stdout",
     "output_type": "stream",
     "text": [
      "range(5, 16)\n",
      "[5, 6, 7, 8, 9, 10, 11, 12, 13, 14, 15]\n",
      "<class 'range'>\n"
     ]
    }
   ],
   "source": [
    "#sequence from 5 to 15\n",
    "r=range(5,16)\n",
    "print(r)\n",
    "print(list(r))\n",
    "print(type(r))"
   ]
  },
  {
   "cell_type": "code",
   "execution_count": 44,
   "metadata": {},
   "outputs": [
    {
     "name": "stdout",
     "output_type": "stream",
     "text": [
      "[10, 13, 16, 19, 22, 25, 28]\n"
     ]
    }
   ],
   "source": [
    "#sequence from 10 to 30 with gap 3\n",
    "r=range(10,31,3)\n",
    "print(list(r))"
   ]
  },
  {
   "cell_type": "code",
   "execution_count": 45,
   "metadata": {},
   "outputs": [
    {
     "name": "stdout",
     "output_type": "stream",
     "text": [
      "[30, 27, 24, 21, 18, 15, 12, 9, 6]\n"
     ]
    }
   ],
   "source": [
    "## Negative step\n",
    "r=range(30,3,-3)\n",
    "print(list(r))"
   ]
  },
  {
   "cell_type": "code",
   "execution_count": 7,
   "metadata": {},
   "outputs": [
    {
     "name": "stdout",
     "output_type": "stream",
     "text": [
      "11 13 15 17 19 21 23 25 "
     ]
    }
   ],
   "source": [
    "#Wap to print only odd no. from 10 to 25\n",
    "for i in range(10,26):\n",
    "    if i%2:print(i,end=' ')\n"
   ]
  },
  {
   "cell_type": "code",
   "execution_count": 2,
   "metadata": {},
   "outputs": [
    {
     "name": "stdout",
     "output_type": "stream",
     "text": [
      "Namepankaj jaiswal\n",
      "pankaj jaiswal,<class 'str'>,14\n",
      "pankaj jaiswal\n"
     ]
    }
   ],
   "source": [
    "name=input('Name')\n",
    "print(name,type(name),len(name),sep=',')\n",
    "print(name) if name else print('there is nothing')"
   ]
  },
  {
   "cell_type": "markdown",
   "metadata": {},
   "source": [
    "## HOME WORK"
   ]
  },
  {
   "cell_type": "code",
   "execution_count": 16,
   "metadata": {},
   "outputs": [],
   "source": [
    "#Do previous questions of while with for loop"
   ]
  },
  {
   "cell_type": "code",
   "execution_count": 10,
   "metadata": {},
   "outputs": [
    {
     "name": "stdout",
     "output_type": "stream",
     "text": [
      "Enter lower limit and upper limit : 3 21\n",
      "3 5 7 11 13 17 19 "
     ]
    }
   ],
   "source": [
    "# 1.find prime no. b/w lower limit to upper limit\n",
    "lower_limit,upper_limit=map(int,input('Enter lower limit and upper limit : ').split())\n",
    "#lower_limit,upper_limit=int(lower_limit),int(upper_limit)\n",
    "l1=[]\n",
    "if lower_limit==1:\n",
    "    lower_limit=2\n",
    "l=list(range(lower_limit,upper_limit+1))\n",
    "for i in range(lower_limit,upper_limit+1):\n",
    "    for j in range(2,i):\n",
    "        if i%j==0:\n",
    "            l1.append(i)\n",
    "for i in l:\n",
    "    if i not in l1:\n",
    "        print(i,end=' ')"
   ]
  },
  {
   "cell_type": "code",
   "execution_count": 15,
   "metadata": {},
   "outputs": [
    {
     "name": "stdout",
     "output_type": "stream",
     "text": [
      "Enter the 1st and 2nd no. : 20 10\n",
      "10\n"
     ]
    }
   ],
   "source": [
    "# 2.hcf of two nos.\n",
    "# n1=int(input('Enter 1st no. : '))\n",
    "# n2=int(input('Enter 2nd no. : '))\n",
    "n1,n2=map(int,input('Enter the 1st and 2nd no. : ').split())\n",
    "l=[]\n",
    "for i in range(1,max(n1,n2)+1):\n",
    "    if n1%i==0  and n2%i==0:\n",
    "        l.append(i)\n",
    "print(max(l))"
   ]
  },
  {
   "cell_type": "code",
   "execution_count": 47,
   "metadata": {},
   "outputs": [
    {
     "name": "stdout",
     "output_type": "stream",
     "text": [
      "Enter a no. : -1\n",
      "1\n"
     ]
    }
   ],
   "source": [
    "# 3.factorial\n",
    "n=int(input('Enter a no. : '))\n",
    "factorial=1\n",
    "for i in range(1,n+1):\n",
    "    factorial*=n\n",
    "    n-=1\n",
    "print(factorial)"
   ]
  },
  {
   "cell_type": "code",
   "execution_count": 40,
   "metadata": {},
   "outputs": [
    {
     "name": "stdout",
     "output_type": "stream",
     "text": [
      "Enter a no. : 371\n",
      "Armstrong no.\n"
     ]
    }
   ],
   "source": [
    "# 4.armstrong or not\n",
    "n=int(input('Enter a no. : '))\n",
    "total,temp=0,n\n",
    "for i in range(len(str(n))):\n",
    "    remainder=temp%10\n",
    "    total+=remainder**len(str(n))\n",
    "    temp=temp//10\n",
    "print(\"Yes it's a Armstrong no.\") if total==n else print('Not a armstrong')\n",
    "#we can also do int another way,check while loop."
   ]
  },
  {
   "cell_type": "code",
   "execution_count": 20,
   "metadata": {},
   "outputs": [
    {
     "name": "stdout",
     "output_type": "stream",
     "text": [
      "No : 5\n",
      "* \n",
      "* * \n",
      "* * * \n",
      "* * * * \n",
      "* * * * * \n"
     ]
    }
   ],
   "source": [
    "for i in range(1,int(input('No : '))+1):\n",
    "    for j in range(i):\n",
    "        print('*',end=' ')\n",
    "    print()"
   ]
  },
  {
   "cell_type": "code",
   "execution_count": 22,
   "metadata": {},
   "outputs": [
    {
     "name": "stdout",
     "output_type": "stream",
     "text": [
      "no of iteration5\n",
      "* \n",
      "* * \n",
      "* * * \n",
      "* * * * \n",
      "* * * * * \n"
     ]
    }
   ],
   "source": [
    "for i in range(1,int(input('no of iteration'))+1):print('* '*i)"
   ]
  },
  {
   "cell_type": "code",
   "execution_count": 40,
   "metadata": {},
   "outputs": [
    {
     "name": "stdout",
     "output_type": "stream",
     "text": [
      "No. of iteration : 5\n",
      "     *\n",
      "    **\n",
      "   ***\n",
      "  ****\n",
      " *****\n"
     ]
    }
   ],
   "source": [
    "j=n=int(input('No. of iteration : '))\n",
    "for line in range(1,n+1):\n",
    "    print(' '*(j-1),'*'*line,sep=' ')\n",
    "    j-=1"
   ]
  },
  {
   "cell_type": "code",
   "execution_count": 5,
   "metadata": {},
   "outputs": [
    {
     "name": "stdout",
     "output_type": "stream",
     "text": [
      "No. of iteration : 7\n",
      "       * \n",
      "      * * \n",
      "     * * * \n",
      "    * * * * \n",
      "   * * * * * \n",
      "  * * * * * * \n",
      " * * * * * * * \n"
     ]
    }
   ],
   "source": [
    "n=int(input('No. of iteration : '))\n",
    "j=n\n",
    "for line in range(1,n+1):\n",
    "    print(' '*(j-1),'* '*line)\n",
    "    j-=1"
   ]
  },
  {
   "cell_type": "code",
   "execution_count": 23,
   "metadata": {},
   "outputs": [
    {
     "name": "stdout",
     "output_type": "stream",
     "text": [
      "1 5 6 8 10 2 4 7 9 0\n",
      "missing element is 3\n"
     ]
    }
   ],
   "source": [
    "array=input().split()\n",
    "for i in range(len(array)+1):\n",
    "    if str(i) not in array and (len(array)!=0):\n",
    "        print(f'missing element is {i}')\n",
    "        \n",
    "        \n",
    "        \n",
    "        "
   ]
  },
  {
   "cell_type": "code",
   "execution_count": null,
   "metadata": {},
   "outputs": [],
   "source": [
    "\n",
    "\n",
    "\n",
    "\n"
   ]
  }
 ],
 "metadata": {
  "kernelspec": {
   "display_name": "Python 3",
   "language": "python",
   "name": "python3"
  },
  "language_info": {
   "codemirror_mode": {
    "name": "ipython",
    "version": 3
   },
   "file_extension": ".py",
   "mimetype": "text/x-python",
   "name": "python",
   "nbconvert_exporter": "python",
   "pygments_lexer": "ipython3",
   "version": "3.8.3"
  }
 },
 "nbformat": 4,
 "nbformat_minor": 2
}
