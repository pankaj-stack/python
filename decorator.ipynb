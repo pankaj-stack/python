{
 "cells": [
  {
   "cell_type": "markdown",
   "metadata": {},
   "source": [
    "<!DOCTYPE html>\n",
    "<html>\n",
    "<head>\n",
    "    <title>Function Aliasing</title>\n",
    "</head>\n",
    "<body>\n",
    "    <h1>Function Aliasing</h1>\n",
    "    <ul>\n",
    "        <li>In Python, everything is an object.</li>\n",
    "        <li>Even functions are internally considered as objects.</li>\n",
    "        <li>For an existing function, we can give another name, which is known as function aliasing.</li>\n",
    "        <li>If we delete one name, we can still access that function using its alias.</li>\n",
    "    </ul>\n",
    "</body>\n",
    "</html>\n"
   ]
  },
  {
   "cell_type": "code",
   "execution_count": null,
   "metadata": {},
   "outputs": [
    {
     "name": "stdout",
     "output_type": "stream",
     "text": [
      "hello sunny\n"
     ]
    }
   ],
   "source": [
    "def wish(name):\n",
    "    print(f'hello {name}') \n",
    "\n",
    "greetings = wish # this is called functiona aliasing \n",
    "\n",
    "del wish \n",
    "greetings('sunny')"
   ]
  },
  {
   "cell_type": "markdown",
   "metadata": {},
   "source": [
    "<h2>Nested function</h2>"
   ]
  },
  {
   "cell_type": "code",
   "execution_count": null,
   "metadata": {},
   "outputs": [
    {
     "name": "stdout",
     "output_type": "stream",
     "text": [
      "Outer function execution started...\n",
      "Inner function execution\n",
      "Inner function execution\n",
      "Outer function execution completed...\n"
     ]
    }
   ],
   "source": [
    "def outer():\n",
    "    print('Outer function execution started...')\n",
    "    \n",
    "    def inner():\n",
    "        print('Inner function execution')\n",
    "    \n",
    "    inner() \n",
    "    inner()\n",
    "    \n",
    "    print('Outer function execution completed...')\n",
    "    \n",
    "outer()"
   ]
  },
  {
   "cell_type": "code",
   "execution_count": null,
   "metadata": {},
   "outputs": [
    {
     "name": "stdout",
     "output_type": "stream",
     "text": [
      "Outer function execution started...\n",
      "Inner function execution\n",
      "Inner function execution\n",
      "Outer function execution completed...\n"
     ]
    },
    {
     "ename": "NameError",
     "evalue": "name 'inner' is not defined",
     "output_type": "error",
     "traceback": [
      "\u001b[0;31m---------------------------------------------------------------------------\u001b[0m\n",
      "\u001b[0;31mNameError\u001b[0m                                 Traceback (most recent call last)\n",
      "\u001b[0;32m/tmp/ipykernel_4168155/2354870366.py\u001b[0m in \u001b[0;36m<module>\u001b[0;34m\u001b[0m\n",
      "\u001b[1;32m     11\u001b[0m \u001b[0;34m\u001b[0m\u001b[0m\n",
      "\u001b[1;32m     12\u001b[0m \u001b[0mouter\u001b[0m\u001b[0;34m(\u001b[0m\u001b[0;34m)\u001b[0m\u001b[0;34m\u001b[0m\u001b[0;34m\u001b[0m\u001b[0m\n",
      "\u001b[0;32m---> 13\u001b[0;31m \u001b[0minner\u001b[0m\u001b[0;34m(\u001b[0m\u001b[0;34m)\u001b[0m \u001b[0;31m# not possible to call inner function outside\u001b[0m\u001b[0;34m\u001b[0m\u001b[0;34m\u001b[0m\u001b[0m\n",
      "\u001b[0m\n",
      "\u001b[0;31mNameError\u001b[0m: name 'inner' is not defined"
     ]
    }
   ],
   "source": [
    "def outer():\n",
    "    print('Outer function execution started...')\n",
    "    \n",
    "    def inner():\n",
    "        print('Inner function execution')\n",
    "    \n",
    "    inner() \n",
    "    inner()\n",
    "    \n",
    "    print('Outer function execution completed...')\n",
    "    \n",
    "outer()\n",
    "inner() # not possible to call inner function outside "
   ]
  },
  {
   "cell_type": "markdown",
   "metadata": {},
   "source": [
    "<h2>A function returns another function</h2>"
   ]
  },
  {
   "cell_type": "markdown",
   "metadata": {},
   "source": [
    "![image.png](attachment:image.png)"
   ]
  },
  {
   "cell_type": "code",
   "execution_count": null,
   "metadata": {},
   "outputs": [],
   "source": [
    "def outer():\n",
    "    def inner():\n",
    "        print('Inner function execution')\n",
    "    return inner \n",
    "\n",
    "f1 = outer()  # outer() function will be executed and returns <inner function object>. \n",
    "              # For that inner function object, we are using f1 to refer.\n"
   ]
  },
  {
   "cell_type": "code",
   "execution_count": null,
   "metadata": {},
   "outputs": [
    {
     "name": "stdout",
     "output_type": "stream",
     "text": [
      "Inner function execution\n"
     ]
    }
   ],
   "source": [
    "f1()"
   ]
  },
  {
   "cell_type": "code",
   "execution_count": null,
   "metadata": {},
   "outputs": [
    {
     "name": "stdout",
     "output_type": "stream",
     "text": [
      "Inner function execution\n",
      "Inner function execution\n"
     ]
    }
   ],
   "source": [
    "f1()\n",
    "f1()"
   ]
  },
  {
   "cell_type": "markdown",
   "metadata": {},
   "source": [
    "Difference bw f1 = outer and f1 = outer()\n",
    "![image.png](attachment:image.png)\n"
   ]
  },
  {
   "cell_type": "markdown",
   "metadata": {},
   "source": [
    "<h2>We can pass a function as argument to another function</h2>"
   ]
  },
  {
   "cell_type": "code",
   "execution_count": null,
   "metadata": {},
   "outputs": [
    {
     "name": "stdout",
     "output_type": "stream",
     "text": [
      "this is f2 function\n"
     ]
    }
   ],
   "source": [
    "def f1(func):\n",
    "    func() # calling of a fuction  \n",
    "    \n",
    "def f2():\n",
    "    print('this is f2 function') \n",
    "    \n",
    "f1(f2)"
   ]
  },
  {
   "cell_type": "markdown",
   "metadata": {},
   "source": [
    "<p>map(func,sequence)</p>\n",
    "<p>filter(func,sequence)</p>\n",
    "<p>reduce(func,sequence)</p>"
   ]
  },
  {
   "cell_type": "code",
   "execution_count": null,
   "metadata": {},
   "outputs": [
    {
     "data": {
      "text/plain": [
       "[2, 4, 6, 8]"
      ]
     },
     "metadata": {},
     "output_type": "display_data"
    }
   ],
   "source": [
    "list1 = [1,2,3,4,5,6,7,8]\n",
    "\n",
    "def fun(n):\n",
    "    if n%2 == 0:\n",
    "        return True \n",
    "    else:\n",
    "        return False \n",
    "    \n",
    "list2 = list(filter(fun,list1))\n",
    "list2 "
   ]
  },
  {
   "cell_type": "markdown",
   "metadata": {},
   "source": [
    "<!DOCTYPE html>\n",
    "<html>\n",
    "<head>\n",
    "    <title>Important Conclusions</title>\n",
    "</head>\n",
    "<body>\n",
    "    <h1>Important Conclusions:</h1>\n",
    "    <ul>\n",
    "        <li>We can assign another name to an existing function &rarr; Function Aliasing</li>\n",
    "        <li>We can define one function inside another function &rarr; Nested functions</li>\n",
    "        <li>A function can return another function</li>\n",
    "        <li>We can pass a function as an argument to another function\n",
    "            <ul>\n",
    "                <li>e.g., <code>filter()</code>, <code>map()</code>, <code>reduce()</code></li>\n",
    "            </ul>\n",
    "        </li>\n",
    "    </ul>\n",
    "</body>\n",
    "</html>\n"
   ]
  },
  {
   "cell_type": "markdown",
   "metadata": {},
   "source": [
    "<!DOCTYPE html>\n",
    "<html>\n",
    "<head>\n",
    "    <title>Decorator Function</title>\n",
    "</head>\n",
    "<body>\n",
    "    <h1>What is a Decorator Function:</h1>\n",
    "    <p>A decorator is a function which can take a function as an argument, extend its functionality, and return a modified function with extended functionality.</p>\n",
    "    <pre>\n",
    "def decor(input_func):\n",
    "    def output_function():\n",
    "        ...\n",
    "    return output_function\n",
    "    </pre>\n",
    "    <p>The main objective of decorator functions is to extend the functionality of an existing function without modifying that function.</p>\n",
    "</body>\n",
    "</html>\n"
   ]
  },
  {
   "cell_type": "code",
   "execution_count": null,
   "metadata": {},
   "outputs": [
    {
     "name": "stdout",
     "output_type": "stream",
     "text": [
      "person showing as it is\n"
     ]
    }
   ],
   "source": [
    "def decorator(func):\n",
    "    \n",
    "    def inner():\n",
    "        print('send person to beauty parlour')\n",
    "        print('Showing a person with full of decoration')\n",
    "    return inner\n",
    "\n",
    "def display():\n",
    "    print('person showing as it is') \n",
    "    \n",
    "    \n",
    "display()"
   ]
  },
  {
   "cell_type": "code",
   "execution_count": null,
   "metadata": {},
   "outputs": [
    {
     "name": "stdout",
     "output_type": "stream",
     "text": [
      "send person to beauty parlour\n",
      "Showing a person with full of decoration\n"
     ]
    }
   ],
   "source": [
    "def display():\n",
    "    print('person showing as it is') \n",
    "    \n",
    "    \n",
    "def decorator(func):\n",
    "    \n",
    "    def inner():\n",
    "        print('send person to beauty parlour')\n",
    "        print('Showing a person with full of decoration')\n",
    "    return inner\n",
    "\n",
    "d = decorator(display) # decorator function jis function pe hum lagate hain usi ko ye decorator function as a input_function leta hai ,yhan pe aap dekh sakte ho\n",
    "d()"
   ]
  },
  {
   "cell_type": "code",
   "execution_count": null,
   "metadata": {},
   "outputs": [
    {
     "name": "stdout",
     "output_type": "stream",
     "text": [
      "send person to beauty parlour\n",
      "Showing a person with full of decoration\n"
     ]
    }
   ],
   "source": [
    "def decorator(func):\n",
    "    \n",
    "    def inner():\n",
    "        print('send person to beauty parlour')\n",
    "        print('Showing a person with full of decoration')\n",
    "    return inner\n",
    "\n",
    "@decorator\n",
    "def display():\n",
    "    print('person showing as it is') \n",
    "    \n",
    "    \n",
    "display()"
   ]
  },
  {
   "cell_type": "code",
   "execution_count": null,
   "metadata": {},
   "outputs": [
    {
     "name": "stdout",
     "output_type": "stream",
     "text": [
      "******************************\n",
      "The sum of 10 and 20 is : 30\n",
      "******************************\n"
     ]
    }
   ],
   "source": [
    "def decoration_for_add_fun(fun):\n",
    "    def inner(x,y):\n",
    "        print('*'*30)\n",
    "        print(f'The sum of {x} and {y} is : ',end='')\n",
    "        fun(x,y)\n",
    "        print('*'*30)\n",
    "    return inner\n",
    "\n",
    "def add(a,b):\n",
    "    print(a+b)\n",
    "    \n",
    "addition = decoration_for_add_fun(add)  # without using the @decorator \n",
    "addition(10,20)"
   ]
  },
  {
   "cell_type": "code",
   "execution_count": null,
   "metadata": {},
   "outputs": [
    {
     "name": "stdout",
     "output_type": "stream",
     "text": [
      "******************************\n",
      "The sum of 10 and 20 is : 30\n",
      "******************************\n"
     ]
    }
   ],
   "source": [
    "def decoration_for_add_fun(fun):\n",
    "    def inner(x,y):\n",
    "        print('*'*30)\n",
    "        print(f'The sum of {x} and {y} is : ',end='')\n",
    "        fun(x,y)\n",
    "        print('*'*30)\n",
    "    return inner\n",
    "\n",
    "@decoration_for_add_fun\n",
    "def add(a,b): # with @decorator \n",
    "    print(a+b)\n",
    "    \n",
    "add(10,20) "
   ]
  },
  {
   "cell_type": "code",
   "execution_count": null,
   "metadata": {},
   "outputs": [
    {
     "name": "stdout",
     "output_type": "stream",
     "text": [
      "******************************\n",
      "The sum of 10 and 20 is : 30\n",
      "******************************\n"
     ]
    }
   ],
   "source": [
    "def decoration_for_add_fun(fun):\n",
    "    def inner(x,y):\n",
    "        print('*'*30)\n",
    "        print(f'The sum of {x} and {y} is : {fun(x,y)}') #<------------------\n",
    "        print('*'*30)\n",
    "    return inner\n",
    "\n",
    "@decoration_for_add_fun\n",
    "def add(a,b): \n",
    "    return a+b #<------------------\n",
    "    \n",
    "add(10,20) "
   ]
  },
  {
   "cell_type": "code",
   "execution_count": null,
   "metadata": {},
   "outputs": [],
   "source": [
    "def wish_enhancement(fun):\n",
    "    \n",
    "    def inner(name):\n",
    "        \n",
    "        if name.lower() == 'sunny':\n",
    "            print('*'*50)\n",
    "            print(f'Hello {name} you are very important for us.')\n",
    "            print('Very very good morning!!!')\n",
    "            print('*'*50)\n",
    "        else:\n",
    "            print(fun(name)) \n",
    "            \n",
    "    return inner\n",
    "            \n",
    "def wish(name):\n",
    "    return f'Good Morning {name}'\n",
    "\n",
    "wisher = wish_enhancement(wish)"
   ]
  },
  {
   "cell_type": "code",
   "execution_count": null,
   "metadata": {},
   "outputs": [
    {
     "name": "stdout",
     "output_type": "stream",
     "text": [
      "Good Morning durga\n"
     ]
    }
   ],
   "source": [
    "wisher('durga')"
   ]
  },
  {
   "cell_type": "code",
   "execution_count": null,
   "metadata": {},
   "outputs": [
    {
     "name": "stdout",
     "output_type": "stream",
     "text": [
      "**************************************************\n",
      "Hello Sunny you are very important for us.\n",
      "Very very good morning!!!\n",
      "**************************************************\n"
     ]
    }
   ],
   "source": [
    "wisher('Sunny')"
   ]
  },
  {
   "cell_type": "code",
   "execution_count": null,
   "metadata": {},
   "outputs": [],
   "source": [
    "def wish_enhancement(fun):\n",
    "    \n",
    "    def inner(name):\n",
    "        \n",
    "        names = ['cm','pm','sunny','durga']\n",
    "        \n",
    "        if name.lower() in names:\n",
    "            print('*'*50)\n",
    "            print(f'Hello {name} you are very important for us.')\n",
    "            print('Very very good morning!!!')\n",
    "            print('*'*50)\n",
    "        else:\n",
    "            print(fun(name)) \n",
    "            \n",
    "    return inner\n",
    "\n",
    "@wish_enhancement           \n",
    "def wish(name):\n",
    "    return f'Good Morning {name}'\n"
   ]
  },
  {
   "cell_type": "code",
   "execution_count": null,
   "metadata": {},
   "outputs": [
    {
     "name": "stdout",
     "output_type": "stream",
     "text": [
      "**************************************************\n",
      "Hello durga you are very important for us.\n",
      "Very very good morning!!!\n",
      "**************************************************\n"
     ]
    }
   ],
   "source": [
    "wish('durga')"
   ]
  },
  {
   "cell_type": "code",
   "execution_count": null,
   "metadata": {},
   "outputs": [
    {
     "name": "stdout",
     "output_type": "stream",
     "text": [
      "**************************************************\n",
      "Hello sunny you are very important for us.\n",
      "Very very good morning!!!\n",
      "**************************************************\n"
     ]
    }
   ],
   "source": [
    "wish('sunny')\n"
   ]
  },
  {
   "cell_type": "code",
   "execution_count": null,
   "metadata": {},
   "outputs": [
    {
     "name": "stdout",
     "output_type": "stream",
     "text": [
      "Good Morning ravi\n"
     ]
    }
   ],
   "source": [
    "wish('ravi')"
   ]
  },
  {
   "cell_type": "code",
   "execution_count": null,
   "metadata": {},
   "outputs": [
    {
     "name": "stdout",
     "output_type": "stream",
     "text": [
      "Good Morning Tushar\n"
     ]
    }
   ],
   "source": [
    "wish('Tushar')"
   ]
  },
  {
   "cell_type": "code",
   "execution_count": null,
   "metadata": {},
   "outputs": [],
   "source": [
    "def smart_div_decorator(fun):\n",
    "    \n",
    "    def inner(x,y):\n",
    "        \n",
    "        if y == 0:\n",
    "            return f'hello stupid how can we divide with {y} !!!'\n",
    "        else:\n",
    "            return fun(x,y) \n",
    "    return inner\n",
    "\n",
    "\n",
    "def div(a,b):\n",
    "    return f'{a}/{b} : {a/b}'\n"
   ]
  },
  {
   "cell_type": "code",
   "execution_count": null,
   "metadata": {},
   "outputs": [
    {
     "name": "stdout",
     "output_type": "stream",
     "text": [
      "20/10 : 2.0\n"
     ]
    }
   ],
   "source": [
    "division = smart_div_decorator(div)\n",
    "print(division(20,10))"
   ]
  },
  {
   "cell_type": "code",
   "execution_count": null,
   "metadata": {},
   "outputs": [
    {
     "name": "stdout",
     "output_type": "stream",
     "text": [
      "hello stupid how can we divide with 0 !!!\n"
     ]
    }
   ],
   "source": [
    "print(division(20,0))\n"
   ]
  },
  {
   "cell_type": "code",
   "execution_count": null,
   "metadata": {},
   "outputs": [],
   "source": [
    "def smart_div_decorator(fun):\n",
    "    \n",
    "    def inner(x,y):\n",
    "        \n",
    "        if y == 0:\n",
    "            return f'hello stupid how can we divide with {y} !!!'\n",
    "        else:\n",
    "            return fun(x,y) \n",
    "    return inner\n",
    "\n",
    "@smart_div_decorator\n",
    "def div(a,b):\n",
    "    return f'{a}/{b} : {a/b}' \n"
   ]
  },
  {
   "cell_type": "code",
   "execution_count": null,
   "metadata": {},
   "outputs": [
    {
     "data": {
      "text/plain": [
       "'20/10 : 2.0'"
      ]
     },
     "metadata": {},
     "output_type": "display_data"
    }
   ],
   "source": [
    "div(20,10)\n"
   ]
  },
  {
   "cell_type": "code",
   "execution_count": null,
   "metadata": {},
   "outputs": [
    {
     "data": {
      "text/plain": [
       "'hello stupid how can we divide with 0 !!!'"
      ]
     },
     "metadata": {},
     "output_type": "display_data"
    }
   ],
   "source": [
    "div(20,0)\n"
   ]
  },
  {
   "cell_type": "markdown",
   "metadata": {},
   "source": [
    "<!DOCTYPE html>\n",
    "<html>\n",
    "<head>\n",
    "    <title>Important Conclusion</title>\n",
    "</head>\n",
    "<body>\n",
    "    <h1>Important Conclusion:</h1>\n",
    "    <ul>\n",
    "        <li>Decorator function should be defined first and then used.</li>\n",
    "        <li>While defining a decorator, the number of arguments must match.</li>\n",
    "    </ul>\n",
    "</body>\n",
    "</html>\n"
   ]
  },
  {
   "cell_type": "markdown",
   "metadata": {},
   "source": [
    "<!DOCTYPE html>\n",
    "<html>\n",
    "<head>\n",
    "    <title>Decorator Chaining</title>\n",
    "</head>\n",
    "<body>\n",
    "    <h1>Decorator Chaining</h1>\n",
    "    <p>We can define multiple decorators for the same function and all these decorators will form Decorator Chaining.</p>\n",
    "</body>\n",
    "</html>\n"
   ]
  },
  {
   "cell_type": "code",
   "execution_count": null,
   "metadata": {},
   "outputs": [
    {
     "name": "stdout",
     "output_type": "stream",
     "text": [
      "decorator2 execution...\n"
     ]
    }
   ],
   "source": [
    "def decor1(fun):\n",
    "    \n",
    "    def inner1():\n",
    "        print('decorator1 execution...')\n",
    "    return inner1\n",
    "\n",
    "def decor2(fun):\n",
    "    \n",
    "    def inner2():\n",
    "        print('decorator2 execution...')\n",
    "    return inner2\n",
    "@decor2 \n",
    "@decor1\n",
    "def f():\n",
    "    print('original function...')\n",
    "\n",
    "\n",
    "f()\n"
   ]
  },
  {
   "cell_type": "code",
   "execution_count": null,
   "metadata": {},
   "outputs": [
    {
     "name": "stdout",
     "output_type": "stream",
     "text": [
      "decorator1 execution...\n"
     ]
    }
   ],
   "source": [
    "def decor1(fun):\n",
    "    \n",
    "    def inner1():\n",
    "        print('decorator1 execution...')\n",
    "    return inner1\n",
    "\n",
    "def decor2(fun):\n",
    "    \n",
    "    def inner2():\n",
    "        print('decorator2 execution...')\n",
    "    return inner2\n",
    "\n",
    "@decor1 # <--------------------------\n",
    "@decor2 # <-------------------------- here this is working as like pipeline concept \n",
    "def f():\n",
    "    print('original function...')\n",
    "\n",
    "\n",
    "f()\n"
   ]
  },
  {
   "cell_type": "code",
   "execution_count": null,
   "metadata": {},
   "outputs": [
    {
     "name": "stdout",
     "output_type": "stream",
     "text": [
      "decorator2 execution...\n",
      "decorator1 execution...\n",
      "original function...\n"
     ]
    }
   ],
   "source": [
    "def decor1(fun):\n",
    "    \n",
    "    def inner1():\n",
    "        print('decorator1 execution...')\n",
    "        fun() # <--------------------------\n",
    "    \n",
    "    return inner1\n",
    "\n",
    "def decor2(fun):\n",
    "    \n",
    "    def inner2():\n",
    "        print('decorator2 execution...')\n",
    "        fun() # <--------------------------\n",
    "        \n",
    "    return inner2\n",
    "\n",
    "@decor2\n",
    "@decor1\n",
    "def f():\n",
    "    print('original function...')\n",
    "\n",
    "\n",
    "f()\n"
   ]
  },
  {
   "cell_type": "code",
   "execution_count": null,
   "metadata": {},
   "outputs": [
    {
     "data": {
      "text/plain": [
       "400"
      ]
     },
     "metadata": {},
     "output_type": "display_data"
    }
   ],
   "source": [
    "def decor1(fun):\n",
    "    \n",
    "    def inner1():\n",
    "        x = fun() \n",
    "        return x*x \n",
    "    return inner1\n",
    "    \n",
    "def decor2(fun):\n",
    "\n",
    "    def inner2():\n",
    "        x = fun() \n",
    "        return 2*x \n",
    "    return inner2\n",
    "    \n",
    "@decor1   \n",
    "def f():\n",
    "    return 20 \n",
    "\n",
    "f()\n",
    "       "
   ]
  },
  {
   "cell_type": "code",
   "execution_count": null,
   "metadata": {},
   "outputs": [
    {
     "data": {
      "text/plain": [
       "40"
      ]
     },
     "metadata": {},
     "output_type": "display_data"
    }
   ],
   "source": [
    "def decor1(fun):\n",
    "    \n",
    "    def inner1():\n",
    "        x = fun() \n",
    "        return x*x \n",
    "    return inner1\n",
    "    \n",
    "def decor2(fun):\n",
    "\n",
    "    def inner2():\n",
    "        x = fun() \n",
    "        return 2*x \n",
    "    return inner2\n",
    "    \n",
    "@decor2 #<--------------\n",
    "def f():\n",
    "    return 20 \n",
    "\n",
    "f()\n",
    "       "
   ]
  },
  {
   "cell_type": "code",
   "execution_count": null,
   "metadata": {},
   "outputs": [
    {
     "data": {
      "text/plain": [
       "800"
      ]
     },
     "metadata": {},
     "output_type": "display_data"
    }
   ],
   "source": [
    "def decor1(fun):\n",
    "    \n",
    "    def inner1():\n",
    "        x = fun() \n",
    "        return x*x \n",
    "    return inner1\n",
    "    \n",
    "def decor2(fun):\n",
    "\n",
    "    def inner2():\n",
    "        x = fun() \n",
    "        return 2*x \n",
    "    return inner2\n",
    "    \n",
    "@decor2 #<--------------\n",
    "@decor1 #<--------------\n",
    "def f():\n",
    "    return 20 \n",
    "\n",
    "f()\n",
    "       "
   ]
  },
  {
   "cell_type": "code",
   "execution_count": null,
   "metadata": {},
   "outputs": [
    {
     "data": {
      "text/plain": [
       "1600"
      ]
     },
     "metadata": {},
     "output_type": "display_data"
    }
   ],
   "source": [
    "def decor1(fun):\n",
    "    \n",
    "    def inner1():\n",
    "        x = fun() \n",
    "        return x*x \n",
    "    return inner1\n",
    "    \n",
    "def decor2(fun):\n",
    "\n",
    "    def inner2():\n",
    "        x = fun() \n",
    "        return 2*x \n",
    "    return inner2\n",
    "    \n",
    "@decor1 #<--------------\n",
    "@decor2 #<--------------\n",
    "def f():\n",
    "    return 20 \n",
    "\n",
    "f()\n",
    "       "
   ]
  }
 ],
 "metadata": {
  "language_info": {
   "name": "python"
  }
 },
 "nbformat": 4,
 "nbformat_minor": 2
}
