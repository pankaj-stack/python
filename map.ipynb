{
 "cells": [
  {
   "cell_type": "code",
   "execution_count": 3,
   "metadata": {},
   "outputs": [
    {
     "name": "stdout",
     "output_type": "stream",
     "text": [
      "1\n",
      "10\n",
      "3 6 7 5 3 5 6 2 9 1\n",
      "2 7 0 9 3 6 0 6 2 6\n",
      "7\n"
     ]
    }
   ],
   "source": [
    "def main():\n",
    "# Write code here \n",
    " T=int(input())\n",
    " member=int(input())\n",
    " for times in range(T):\n",
    "     g_team=list(map(int,input().split()))\n",
    "     opponent_team=list(map(int,input().split()))\n",
    "     count=0\n",
    "     for i in range(len(g_team)):\n",
    "        m=min(g_team[:len(g_team)-i])\n",
    "        g_team.remove(m)\n",
    "        g_team.append(m)\n",
    "     for i in g_team:\n",
    "        for j in opponent_team:\n",
    "            if i>j:\n",
    "                count+=1\n",
    "                opponent_team.remove(j)\n",
    "                break\n",
    "     print(count)\n",
    "main()\n",
    "# 3 6 7 5 3 5 6 2 9 1\n",
    "# 2 7 0 9 3 6 0 6 2 6 \n",
    "\n"
   ]
  },
  {
   "cell_type": "markdown",
   "metadata": {},
   "source": [
    "\n",
    "### l=[0,2,3,0,3]\n",
    "for i in range(10):\n",
    "    print(l[i])"
   ]
  },
  {
   "cell_type": "code",
   "execution_count": 8,
   "metadata": {},
   "outputs": [
    {
     "name": "stdout",
     "output_type": "stream",
     "text": [
      "4\n",
      "2 5 6 3\n",
      "20 40 90 50\n",
      "8\n"
     ]
    }
   ],
   "source": [
    "def main():\n",
    "\n",
    " # Write code here \n",
    " N=input()\n",
    " composition=list(map(int,input().split()))\n",
    " ingredient=list(map(int,input().split()))\n",
    " l=[]\n",
    " for i in range(len(ingredient)):\n",
    "     l.append(ingredient[i]//composition[i])\n",
    " print(min(l))\n",
    "main()\n"
   ]
  },
  {
   "cell_type": "code",
   "execution_count": 7,
   "metadata": {},
   "outputs": [
    {
     "name": "stdout",
     "output_type": "stream",
     "text": [
      "4\n",
      "0\n",
      "4\n",
      "1.0\n",
      "**********************************************************************\n",
      "4\n",
      "0\n",
      "4\n",
      "1.0\n"
     ]
    }
   ],
   "source": [
    "print(*map(str, [2+2, 2-2, 2*2, 2/2]), sep='\\n')\n",
    "############         OR       ##############\n",
    "print('*'*70)\n",
    "for i in map(str, [2+2, 2-2, 2*2, 2/2]):\n",
    "             print(i)"
   ]
  },
  {
   "cell_type": "code",
   "execution_count": 2,
   "metadata": {},
   "outputs": [
    {
     "name": "stdout",
     "output_type": "stream",
     "text": [
      "1 2 3 4 5\n",
      "<class 'float'> 1.0\n",
      "<class 'float'> 2.0\n",
      "<class 'float'> 3.0\n",
      "<class 'float'> 4.0\n",
      "<class 'float'> 5.0\n"
     ]
    }
   ],
   "source": [
    "l=list(map(float,input().split()))\n",
    "for i in l:\n",
    "    print(type(i),i)"
   ]
  },
  {
   "cell_type": "code",
   "execution_count": 8,
   "metadata": {},
   "outputs": [
    {
     "name": "stdout",
     "output_type": "stream",
     "text": [
      "1 2 3 4 5\n",
      "<class 'float'> 1.0\n",
      "<class 'float'> 2.0\n",
      "<class 'float'> 3.0\n",
      "<class 'float'> 4.0\n",
      "<class 'float'> 5.0\n"
     ]
    }
   ],
   "source": [
    "for i in list(map(float,input().split())):\n",
    "    print(type(i),i)"
   ]
  },
  {
   "cell_type": "code",
   "execution_count": 11,
   "metadata": {},
   "outputs": [
    {
     "name": "stdout",
     "output_type": "stream",
     "text": [
      "[2, 4, 6, 8]\n"
     ]
    }
   ],
   "source": [
    "# Python program to demonstrate working \n",
    "# of map. \n",
    "\n",
    "# Return double of n \n",
    "def addition(n): \n",
    "    return n + n \n",
    "\n",
    "# We double all numbers using map() \n",
    "numbers = (1, 2, 3, 4) \n",
    "result = map(addition, numbers)#here in place of numbers it takes iterable \n",
    "print(list(result)) \n"
   ]
  },
  {
   "cell_type": "code",
   "execution_count": 4,
   "metadata": {},
   "outputs": [],
   "source": [
    "numbers=[1,2,3,4,5,6,7,8,9]\n",
    "def cube(n):\n",
    "    return n**3\n",
    "iterator=map(cube,numbers)"
   ]
  },
  {
   "cell_type": "code",
   "execution_count": 5,
   "metadata": {},
   "outputs": [
    {
     "data": {
      "text/plain": [
       "map"
      ]
     },
     "execution_count": 5,
     "metadata": {},
     "output_type": "execute_result"
    }
   ],
   "source": [
    "type(iterator)"
   ]
  },
  {
   "cell_type": "code",
   "execution_count": 6,
   "metadata": {},
   "outputs": [
    {
     "name": "stdout",
     "output_type": "stream",
     "text": [
      "[1, 8, 27, 64, 125, 216, 343, 512, 729]\n"
     ]
    }
   ],
   "source": [
    "print(list(iterator))"
   ]
  },
  {
   "cell_type": "code",
   "execution_count": 12,
   "metadata": {},
   "outputs": [
    {
     "name": "stdout",
     "output_type": "stream",
     "text": [
      "1 8 27 64 125 216 343 512 729\n"
     ]
    }
   ],
   "source": [
    "numbers=[1,2,3,4,5,6,7,8,9]\n",
    "def cube(n):\n",
    "    return n**3\n",
    "iterator=map(cube,numbers)\n",
    "for i in iterator:#print(*iterator) will work as same,for loop is working\n",
    "    print(i,end=' ')\n"
   ]
  },
  {
   "cell_type": "code",
   "execution_count": null,
   "metadata": {},
   "outputs": [],
   "source": []
  },
  {
   "cell_type": "code",
   "execution_count": 6,
   "metadata": {},
   "outputs": [
    {
     "name": "stdout",
     "output_type": "stream",
     "text": [
      "2\n",
      "1 2\n",
      "3713081631934410656\n"
     ]
    }
   ],
   "source": [
    "n = int(input())\n",
    "integer_list = map(int,input().split())\n",
    "tup=tuple(integer_list)\n",
    "print(hash(tup))"
   ]
  },
  {
   "cell_type": "code",
   "execution_count": 3,
   "metadata": {},
   "outputs": [
    {
     "data": {
      "text/plain": [
       "3713081631934410656"
      ]
     },
     "execution_count": 3,
     "metadata": {},
     "output_type": "execute_result"
    }
   ],
   "source": [
    "hash((1,2))"
   ]
  },
  {
   "cell_type": "markdown",
   "metadata": {},
   "source": [
    "## 27th,February 2020"
   ]
  },
  {
   "cell_type": "code",
   "execution_count": 1,
   "metadata": {},
   "outputs": [],
   "source": [
    "# map() returns an iterator map object\n",
    "# Syntax: map(function,iterable1,iterable2,...)\n",
    "# You can pass more than one iterables"
   ]
  },
  {
   "cell_type": "code",
   "execution_count": 3,
   "metadata": {},
   "outputs": [
    {
     "ename": "TypeError",
     "evalue": "len() takes exactly one argument (2 given)",
     "output_type": "error",
     "traceback": [
      "\u001b[1;31m---------------------------------------------------------------------------\u001b[0m",
      "\u001b[1;31mTypeError\u001b[0m                                 Traceback (most recent call last)",
      "\u001b[1;32m<ipython-input-3-884dd69bc1af>\u001b[0m in \u001b[0;36m<module>\u001b[1;34m\u001b[0m\n\u001b[0;32m      3\u001b[0m \u001b[0mname2\u001b[0m\u001b[1;33m=\u001b[0m\u001b[1;33m[\u001b[0m\u001b[1;34m'Virendra'\u001b[0m\u001b[1;33m,\u001b[0m\u001b[1;34m'Suman'\u001b[0m\u001b[1;33m,\u001b[0m\u001b[1;34m'Khushi'\u001b[0m\u001b[1;33m,\u001b[0m\u001b[1;34m'Kiran'\u001b[0m\u001b[1;33m]\u001b[0m\u001b[1;33m\u001b[0m\u001b[1;33m\u001b[0m\u001b[0m\n\u001b[0;32m      4\u001b[0m \u001b[0mlength\u001b[0m\u001b[1;33m=\u001b[0m\u001b[0mmap\u001b[0m\u001b[1;33m(\u001b[0m\u001b[0mlen\u001b[0m\u001b[1;33m,\u001b[0m\u001b[1;34m'name'\u001b[0m\u001b[1;33m,\u001b[0m\u001b[1;34m'name2'\u001b[0m\u001b[1;33m)\u001b[0m\u001b[1;33m\u001b[0m\u001b[1;33m\u001b[0m\u001b[0m\n\u001b[1;32m----> 5\u001b[1;33m \u001b[1;32mfor\u001b[0m \u001b[0mi\u001b[0m \u001b[1;32min\u001b[0m \u001b[0mlength\u001b[0m\u001b[1;33m:\u001b[0m\u001b[0mprint\u001b[0m\u001b[1;33m(\u001b[0m\u001b[0mi\u001b[0m\u001b[1;33m)\u001b[0m\u001b[1;33m\u001b[0m\u001b[1;33m\u001b[0m\u001b[0m\n\u001b[0m",
      "\u001b[1;31mTypeError\u001b[0m: len() takes exactly one argument (2 given)"
     ]
    }
   ],
   "source": [
    "# Calculate length of each item of list\n",
    "name=['Varsha','Nitin','Rohit','Sapna']\n",
    "length=map(len,name)\n",
    "for i in length:print(i)"
   ]
  },
  {
   "cell_type": "code",
   "execution_count": null,
   "metadata": {},
   "outputs": [],
   "source": [
    "#Python map() with multiple iterables\n",
    "def multiply(x, y):\n",
    "\n",
    "    return x * y\n",
    "\n",
    "nums1 = [1, 2, 3, 4, 5]\n",
    "nums2 = [6, 7, 8, 9, 10]\n",
    "\n",
    "mult = map(multiply, nums1, nums2)\n",
    "\n",
    "for num in mult:\n",
    "    print(num)\n",
    "# In the code example have two iterables holding integers. The values from both iterables are multiplied.\n",
    "\n",
    "# def multiply(x, y):\n",
    "\n",
    "#     return x * y\n",
    "# The function must take two parameters since there are two iterables passed to map().\n",
    "\n"
   ]
  },
  {
   "cell_type": "code",
   "execution_count": 18,
   "metadata": {},
   "outputs": [
    {
     "name": "stdout",
     "output_type": "stream",
     "text": [
      "[2, 1]\n",
      "[4, 4]\n",
      "[6, 9]\n",
      "[8, 16]\n",
      "[10, 25]\n"
     ]
    }
   ],
   "source": [
    "# Python map multiple functions\n",
    "\n",
    "def add(x):\n",
    "    return x + x\n",
    "\n",
    "def square(x):\n",
    "    return x * x\n",
    "\n",
    "nums = [1, 2, 3, 4, 5]\n",
    "\n",
    "for i in nums:\n",
    "\n",
    "    vals = list(map(lambda x:x(i), (add, square)))\n",
    "\n",
    "    print(vals)\n"
   ]
  },
  {
   "cell_type": "code",
   "execution_count": 13,
   "metadata": {},
   "outputs": [
    {
     "name": "stdout",
     "output_type": "stream",
     "text": [
      "1\n",
      "4\n",
      "9\n",
      "16\n",
      "25\n"
     ]
    }
   ],
   "source": [
    "nums = [1, 2, 3, 4, 5]\n",
    "\n",
    "nums_squared = map(lambda x: x*x, nums)\n",
    "\n",
    "for num in nums_squared:\n",
    "    print(num)\n"
   ]
  },
  {
   "cell_type": "code",
   "execution_count": 7,
   "metadata": {},
   "outputs": [
    {
     "name": "stdout",
     "output_type": "stream",
     "text": [
      "[6, 5, 5, 5]\n"
     ]
    }
   ],
   "source": [
    "name=['Varsha','Nitin','Rohit','Sapna']\n",
    "length=map(len,name)\n",
    "print(list(length))"
   ]
  },
  {
   "cell_type": "code",
   "execution_count": 20,
   "metadata": {},
   "outputs": [
    {
     "name": "stdout",
     "output_type": "stream",
     "text": [
      "[6, 5, 5, 5]\n"
     ]
    }
   ],
   "source": [
    "name=['Varsha','Nitin','Rohit','Sapna']\n",
    "length=map(len,name)\n",
    "print(list(length))"
   ]
  },
  {
   "cell_type": "code",
   "execution_count": 21,
   "metadata": {},
   "outputs": [
    {
     "name": "stdout",
     "output_type": "stream",
     "text": [
      "[1934342265392, 1934342266224, 1934342266288, 1934342266352]\n"
     ]
    }
   ],
   "source": [
    "name=['Varsha','Nitin','Rohit','Sapna']\n",
    "length=map(id,name)\n",
    "print(list(length))"
   ]
  },
  {
   "cell_type": "raw",
   "metadata": {},
   "source": [
    "fahrenheit={'t1':-30,'t2':-20,'t3':-10,'t4':0}\n",
    "celcius_dict=dict(map(zip(fahrenheit.keys()),celcius))\n",
    "printt(celcius_dict)"
   ]
  },
  {
   "cell_type": "code",
   "execution_count": 20,
   "metadata": {},
   "outputs": [
    {
     "name": "stdout",
     "output_type": "stream",
     "text": [
      "{'t1': -34.44, 't2': -28.89, 't3': -23.33, 't4': -17.78}\n"
     ]
    }
   ],
   "source": [
    "#Dictionary comprehension\n",
    "celcius_dict={k:round(((5/9)*(t-32)),2) for k,t in fahrenheit.items()}\n",
    "print(celcius_dict)"
   ]
  },
  {
   "cell_type": "markdown",
   "metadata": {},
   "source": [
    "# ---------pwskills---------"
   ]
  },
  {
   "cell_type": "code",
   "execution_count": 1,
   "id": "6527aecd-6a31-4f31-b825-7a09bfae7f3b",
   "metadata": {},
   "outputs": [],
   "source": [
    "l = [2,3,4,5,6]"
   ]
  },
  {
   "cell_type": "code",
   "execution_count": 2,
   "id": "3303fb64-4639-4bc1-83b5-3ffa129ee739",
   "metadata": {},
   "outputs": [],
   "source": [
    "def test(l):\n",
    "    l1 = []\n",
    "    for i in l :\n",
    "        l1.append(i**2)\n",
    "    return l1\n",
    "        "
   ]
  },
  {
   "cell_type": "code",
   "execution_count": 3,
   "id": "1982b992-0ab7-44ae-9d2d-6a6714fd6936",
   "metadata": {},
   "outputs": [
    {
     "data": {
      "text/plain": [
       "[4, 9, 16, 25, 36]"
      ]
     },
     "execution_count": 3,
     "metadata": {},
     "output_type": "execute_result"
    }
   ],
   "source": [
    "test(l)"
   ]
  },
  {
   "cell_type": "code",
   "execution_count": 4,
   "id": "cd2a0d23-f72d-45e4-995c-e5f603dd5357",
   "metadata": {},
   "outputs": [],
   "source": [
    "def sq(x):\n",
    "    return x**2"
   ]
  },
  {
   "cell_type": "code",
   "execution_count": 6,
   "id": "9030119e-6114-4b43-ac40-d864d240e67c",
   "metadata": {},
   "outputs": [
    {
     "data": {
      "text/plain": [
       "[4, 9, 16, 25, 36]"
      ]
     },
     "execution_count": 6,
     "metadata": {},
     "output_type": "execute_result"
    }
   ],
   "source": [
    "list(map(sq , l))"
   ]
  },
  {
   "cell_type": "code",
   "execution_count": 7,
   "id": "b9a14de5-64e8-4bff-80ea-3f210d7e9fdf",
   "metadata": {},
   "outputs": [
    {
     "data": {
      "text/plain": [
       "[4, 9, 16, 25, 36]"
      ]
     },
     "execution_count": 7,
     "metadata": {},
     "output_type": "execute_result"
    }
   ],
   "source": [
    "list(map(lambda x : x**2 , l))"
   ]
  },
  {
   "cell_type": "code",
   "execution_count": 8,
   "id": "659b3e16-3dc5-4147-939c-bd6d87ca6730",
   "metadata": {},
   "outputs": [
    {
     "data": {
      "text/plain": [
       "[7, 9, 11, 13, 15]"
      ]
     },
     "execution_count": 8,
     "metadata": {},
     "output_type": "execute_result"
    }
   ],
   "source": [
    "l1 = [1,2,3,4,5]\n",
    "l2 = [6,7,8,9,10]\n",
    "\n",
    "list(map(lambda x , y : x+y , l1 , l2 ))"
   ]
  },
  {
   "cell_type": "code",
   "execution_count": 9,
   "id": "2ff63811-e566-4d2d-a1a3-cad4d325ed72",
   "metadata": {},
   "outputs": [],
   "source": [
    "def add(x,y) :\n",
    "    return x+y"
   ]
  },
  {
   "cell_type": "code",
   "execution_count": 10,
   "id": "3d9be8d7-4914-4fc8-8d5a-57fb5078ad83",
   "metadata": {},
   "outputs": [
    {
     "data": {
      "text/plain": [
       "[7, 9, 11, 13, 15]"
      ]
     },
     "execution_count": 10,
     "metadata": {},
     "output_type": "execute_result"
    }
   ],
   "source": [
    "list(map(add , l1 , l2 ))"
   ]
  },
  {
   "cell_type": "code",
   "execution_count": 12,
   "id": "947f0e74-33c4-4e76-a120-2e1027c163e9",
   "metadata": {},
   "outputs": [
    {
     "data": {
      "text/plain": [
       "['P', 'W', 'S', 'K', 'I', 'L', 'L', 'S']"
      ]
     },
     "execution_count": 12,
     "metadata": {},
     "output_type": "execute_result"
    }
   ],
   "source": [
    "s = \"pwskills\"\n",
    "list(map(lambda s : s.upper() , s))\n"
   ]
  },
  {
   "cell_type": "code",
   "execution_count": null,
   "metadata": {},
   "outputs": [],
   "source": []
  },
  {
   "cell_type": "code",
   "execution_count": 30,
   "id": "6af36803-6ca2-4639-9c14-c6134d812fb7",
   "metadata": {},
   "outputs": [
    {
     "data": {
      "text/plain": [
       "['sudh', 'kumar', 'krish']"
      ]
     },
     "execution_count": 30,
     "metadata": {},
     "output_type": "execute_result"
    }
   ],
   "source": [
    "list(filter(lambda x : len(x) <6 , l2))"
   ]
  },
  {
   "cell_type": "code",
   "execution_count": 29,
   "id": "f2915704-d6e3-40a0-bc33-e8d3744bab65",
   "metadata": {},
   "outputs": [],
   "source": [
    "l2 = [\"sudh\"  , \"pwskills\" , \"kumar\" , \"bengalore\" , \"krish\"]"
   ]
  },
  {
   "cell_type": "code",
   "execution_count": 28,
   "id": "f6213819-b89e-4259-ab39-c524bcfeb0fd",
   "metadata": {},
   "outputs": [
    {
     "data": {
      "text/plain": [
       "[-3, -1, -5]"
      ]
     },
     "execution_count": 28,
     "metadata": {},
     "output_type": "execute_result"
    }
   ],
   "source": [
    "list(filter(lambda x : x<0 , l1 ))"
   ]
  },
  {
   "cell_type": "code",
   "execution_count": 26,
   "id": "9fc95878-661c-4475-aa69-82adb5c45152",
   "metadata": {},
   "outputs": [],
   "source": [
    "l1 = [-3,4,5,6,-1,-5]"
   ]
  },
  {
   "cell_type": "code",
   "execution_count": 25,
   "id": "d4a6d5a8-e1fd-4842-a178-27ec9243c148",
   "metadata": {},
   "outputs": [
    {
     "data": {
      "text/plain": [
       "[1, 3, 3, 5]"
      ]
     },
     "execution_count": 25,
     "metadata": {},
     "output_type": "execute_result"
    }
   ],
   "source": [
    "list(filter(lambda x : x % 2 != 0 , l))"
   ]
  },
  {
   "cell_type": "code",
   "execution_count": 24,
   "id": "46bb15c5-f45b-4bd7-a985-db06b147bde2",
   "metadata": {},
   "outputs": [
    {
     "data": {
      "text/plain": [
       "[2, 4]"
      ]
     },
     "execution_count": 24,
     "metadata": {},
     "output_type": "execute_result"
    }
   ],
   "source": [
    "list(filter(lambda x : x % 2 == 0 , l))"
   ]
  },
  {
   "cell_type": "code",
   "execution_count": 23,
   "id": "d77f7b09-3863-4e10-9976-a54a74a92a01",
   "metadata": {},
   "outputs": [
    {
     "data": {
      "text/plain": [
       "[1, 2, 3, 3, 4, 5]"
      ]
     },
     "execution_count": 23,
     "metadata": {},
     "output_type": "execute_result"
    }
   ],
   "source": [
    "l "
   ]
  },
  {
   "cell_type": "code",
   "execution_count": 22,
   "id": "f94ad832-6477-47ba-9074-766c85b838d8",
   "metadata": {},
   "outputs": [
    {
     "data": {
      "text/plain": [
       "[1, 2, 3, 3, 4, 5]"
      ]
     },
     "execution_count": 22,
     "metadata": {},
     "output_type": "execute_result"
    }
   ],
   "source": [
    "l"
   ]
  },
  {
   "cell_type": "code",
   "execution_count": null,
   "metadata": {},
   "outputs": [],
   "source": []
  }
 ],
 "metadata": {
  "kernelspec": {
   "display_name": "Python 3 (ipykernel)",
   "language": "python",
   "name": "python3"
  },
  "language_info": {
   "codemirror_mode": {
    "name": "ipython",
    "version": 3
   },
   "file_extension": ".py",
   "mimetype": "text/x-python",
   "name": "python",
   "nbconvert_exporter": "python",
   "pygments_lexer": "ipython3",
   "version": "3.9.13"
  }
 },
 "nbformat": 4,
 "nbformat_minor": 2
}
