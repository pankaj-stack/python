{
 "cells": [
  {
   "cell_type": "code",
   "execution_count": 3,
   "metadata": {},
   "outputs": [
    {
     "name": "stdout",
     "output_type": "stream",
     "text": [
      "1\n",
      "10\n",
      "3 6 7 5 3 5 6 2 9 1\n",
      "2 7 0 9 3 6 0 6 2 6\n",
      "7\n"
     ]
    }
   ],
   "source": [
    "def main():\n",
    "# Write code here \n",
    " T=int(input())\n",
    " member=int(input())\n",
    " for times in range(T):\n",
    "     g_team=list(map(int,input().split()))\n",
    "     opponent_team=list(map(int,input().split()))\n",
    "     count=0\n",
    "     for i in range(len(g_team)):\n",
    "        m=min(g_team[:len(g_team)-i])\n",
    "        g_team.remove(m)\n",
    "        g_team.append(m)\n",
    "     for i in g_team:\n",
    "        for j in opponent_team:\n",
    "            if i>j:\n",
    "                count+=1\n",
    "                opponent_team.remove(j)\n",
    "                break\n",
    "     print(count)\n",
    "main()\n",
    "# 3 6 7 5 3 5 6 2 9 1\n",
    "# 2 7 0 9 3 6 0 6 2 6 \n",
    "\n"
   ]
  },
  {
   "cell_type": "markdown",
   "metadata": {},
   "source": [
    "\n",
    "### l=[0,2,3,0,3]\n",
    "for i in range(10):\n",
    "    print(l[i])"
   ]
  },
  {
   "cell_type": "code",
   "execution_count": 8,
   "metadata": {},
   "outputs": [
    {
     "name": "stdout",
     "output_type": "stream",
     "text": [
      "4\n",
      "2 5 6 3\n",
      "20 40 90 50\n",
      "8\n"
     ]
    }
   ],
   "source": [
    "def main():\n",
    "\n",
    " # Write code here \n",
    " N=input()\n",
    " composition=list(map(int,input().split()))\n",
    " ingredient=list(map(int,input().split()))\n",
    " l=[]\n",
    " for i in range(len(ingredient)):\n",
    "     l.append(ingredient[i]//composition[i])\n",
    " print(min(l))\n",
    "main()\n"
   ]
  },
  {
   "cell_type": "code",
   "execution_count": 7,
   "metadata": {},
   "outputs": [
    {
     "name": "stdout",
     "output_type": "stream",
     "text": [
      "4\n",
      "0\n",
      "4\n",
      "1.0\n",
      "**********************************************************************\n",
      "4\n",
      "0\n",
      "4\n",
      "1.0\n"
     ]
    }
   ],
   "source": [
    "print(*map(str, [2+2, 2-2, 2*2, 2/2]), sep='\\n')\n",
    "############         OR       ##############\n",
    "print('*'*70)\n",
    "for i in map(str, [2+2, 2-2, 2*2, 2/2]):\n",
    "             print(i)"
   ]
  },
  {
   "cell_type": "code",
   "execution_count": 2,
   "metadata": {},
   "outputs": [
    {
     "name": "stdout",
     "output_type": "stream",
     "text": [
      "1 2 3 4 5\n",
      "<class 'float'> 1.0\n",
      "<class 'float'> 2.0\n",
      "<class 'float'> 3.0\n",
      "<class 'float'> 4.0\n",
      "<class 'float'> 5.0\n"
     ]
    }
   ],
   "source": [
    "l=list(map(float,input().split()))\n",
    "for i in l:\n",
    "    print(type(i),i)"
   ]
  },
  {
   "cell_type": "code",
   "execution_count": 8,
   "metadata": {},
   "outputs": [
    {
     "name": "stdout",
     "output_type": "stream",
     "text": [
      "1 2 3 4 5\n",
      "<class 'float'> 1.0\n",
      "<class 'float'> 2.0\n",
      "<class 'float'> 3.0\n",
      "<class 'float'> 4.0\n",
      "<class 'float'> 5.0\n"
     ]
    }
   ],
   "source": [
    "for i in list(map(float,input().split())):\n",
    "    print(type(i),i)"
   ]
  },
  {
   "cell_type": "code",
   "execution_count": 11,
   "metadata": {},
   "outputs": [
    {
     "name": "stdout",
     "output_type": "stream",
     "text": [
      "[2, 4, 6, 8]\n"
     ]
    }
   ],
   "source": [
    "# Python program to demonstrate working \n",
    "# of map. \n",
    "\n",
    "# Return double of n \n",
    "def addition(n): \n",
    "    return n + n \n",
    "\n",
    "# We double all numbers using map() \n",
    "numbers = (1, 2, 3, 4) \n",
    "result = map(addition, numbers)#here in place of numbers it takes iterable \n",
    "print(list(result)) \n"
   ]
  },
  {
   "cell_type": "code",
   "execution_count": 4,
   "metadata": {},
   "outputs": [],
   "source": [
    "numbers=[1,2,3,4,5,6,7,8,9]\n",
    "def cube(n):\n",
    "    return n**3\n",
    "iterator=map(cube,numbers)"
   ]
  },
  {
   "cell_type": "code",
   "execution_count": 5,
   "metadata": {},
   "outputs": [
    {
     "data": {
      "text/plain": [
       "map"
      ]
     },
     "execution_count": 5,
     "metadata": {},
     "output_type": "execute_result"
    }
   ],
   "source": [
    "type(iterator)"
   ]
  },
  {
   "cell_type": "code",
   "execution_count": 6,
   "metadata": {},
   "outputs": [
    {
     "name": "stdout",
     "output_type": "stream",
     "text": [
      "[1, 8, 27, 64, 125, 216, 343, 512, 729]\n"
     ]
    }
   ],
   "source": [
    "print(list(iterator))"
   ]
  },
  {
   "cell_type": "code",
   "execution_count": 12,
   "metadata": {},
   "outputs": [
    {
     "name": "stdout",
     "output_type": "stream",
     "text": [
      "1 8 27 64 125 216 343 512 729\n"
     ]
    }
   ],
   "source": [
    "numbers=[1,2,3,4,5,6,7,8,9]\n",
    "def cube(n):\n",
    "    return n**3\n",
    "iterator=map(cube,numbers)\n",
    "for i in iterator:#print(*iterator) will work as same,for loop is working\n",
    "    print(i,end=' ')\n"
   ]
  },
  {
   "cell_type": "code",
   "execution_count": null,
   "metadata": {},
   "outputs": [],
   "source": []
  },
  {
   "cell_type": "code",
   "execution_count": 6,
   "metadata": {},
   "outputs": [
    {
     "name": "stdout",
     "output_type": "stream",
     "text": [
      "2\n",
      "1 2\n",
      "3713081631934410656\n"
     ]
    }
   ],
   "source": [
    "n = int(input())\n",
    "integer_list = map(int,input().split())\n",
    "tup=tuple(integer_list)\n",
    "print(hash(tup))"
   ]
  },
  {
   "cell_type": "code",
   "execution_count": 3,
   "metadata": {},
   "outputs": [
    {
     "data": {
      "text/plain": [
       "3713081631934410656"
      ]
     },
     "execution_count": 3,
     "metadata": {},
     "output_type": "execute_result"
    }
   ],
   "source": [
    "hash((1,2))"
   ]
  },
  {
   "cell_type": "markdown",
   "metadata": {},
   "source": [
    "## 27th,February 2020"
   ]
  },
  {
   "cell_type": "code",
   "execution_count": 1,
   "metadata": {},
   "outputs": [],
   "source": [
    "# map() returns an iterator map object\n",
    "# Syntax: map(function,iterable1,iterable2,...)\n",
    "# You can pass more than one iterables"
   ]
  },
  {
   "cell_type": "code",
   "execution_count": 3,
   "metadata": {},
   "outputs": [
    {
     "ename": "TypeError",
     "evalue": "len() takes exactly one argument (2 given)",
     "output_type": "error",
     "traceback": [
      "\u001b[1;31m---------------------------------------------------------------------------\u001b[0m",
      "\u001b[1;31mTypeError\u001b[0m                                 Traceback (most recent call last)",
      "\u001b[1;32m<ipython-input-3-884dd69bc1af>\u001b[0m in \u001b[0;36m<module>\u001b[1;34m\u001b[0m\n\u001b[0;32m      3\u001b[0m \u001b[0mname2\u001b[0m\u001b[1;33m=\u001b[0m\u001b[1;33m[\u001b[0m\u001b[1;34m'Virendra'\u001b[0m\u001b[1;33m,\u001b[0m\u001b[1;34m'Suman'\u001b[0m\u001b[1;33m,\u001b[0m\u001b[1;34m'Khushi'\u001b[0m\u001b[1;33m,\u001b[0m\u001b[1;34m'Kiran'\u001b[0m\u001b[1;33m]\u001b[0m\u001b[1;33m\u001b[0m\u001b[1;33m\u001b[0m\u001b[0m\n\u001b[0;32m      4\u001b[0m \u001b[0mlength\u001b[0m\u001b[1;33m=\u001b[0m\u001b[0mmap\u001b[0m\u001b[1;33m(\u001b[0m\u001b[0mlen\u001b[0m\u001b[1;33m,\u001b[0m\u001b[1;34m'name'\u001b[0m\u001b[1;33m,\u001b[0m\u001b[1;34m'name2'\u001b[0m\u001b[1;33m)\u001b[0m\u001b[1;33m\u001b[0m\u001b[1;33m\u001b[0m\u001b[0m\n\u001b[1;32m----> 5\u001b[1;33m \u001b[1;32mfor\u001b[0m \u001b[0mi\u001b[0m \u001b[1;32min\u001b[0m \u001b[0mlength\u001b[0m\u001b[1;33m:\u001b[0m\u001b[0mprint\u001b[0m\u001b[1;33m(\u001b[0m\u001b[0mi\u001b[0m\u001b[1;33m)\u001b[0m\u001b[1;33m\u001b[0m\u001b[1;33m\u001b[0m\u001b[0m\n\u001b[0m",
      "\u001b[1;31mTypeError\u001b[0m: len() takes exactly one argument (2 given)"
     ]
    }
   ],
   "source": [
    "# Calculate length of each item of list\n",
    "name=['Varsha','Nitin','Rohit','Sapna']\n",
    "length=map(len,name)\n",
    "for i in length:print(i)"
   ]
  },
  {
   "cell_type": "code",
   "execution_count": null,
   "metadata": {},
   "outputs": [],
   "source": [
    "#Python map() with multiple iterables\n",
    "def multiply(x, y):\n",
    "\n",
    "    return x * y\n",
    "\n",
    "nums1 = [1, 2, 3, 4, 5]\n",
    "nums2 = [6, 7, 8, 9, 10]\n",
    "\n",
    "mult = map(multiply, nums1, nums2)\n",
    "\n",
    "for num in mult:\n",
    "    print(num)\n",
    "# In the code example have two iterables holding integers. The values from both iterables are multiplied.\n",
    "\n",
    "# def multiply(x, y):\n",
    "\n",
    "#     return x * y\n",
    "# The function must take two parameters since there are two iterables passed to map().\n",
    "\n"
   ]
  },
  {
   "cell_type": "code",
   "execution_count": 18,
   "metadata": {},
   "outputs": [
    {
     "name": "stdout",
     "output_type": "stream",
     "text": [
      "[2, 1]\n",
      "[4, 4]\n",
      "[6, 9]\n",
      "[8, 16]\n",
      "[10, 25]\n"
     ]
    }
   ],
   "source": [
    "# Python map multiple functions\n",
    "\n",
    "def add(x):\n",
    "    return x + x\n",
    "\n",
    "def square(x):\n",
    "    return x * x\n",
    "\n",
    "nums = [1, 2, 3, 4, 5]\n",
    "\n",
    "for i in nums:\n",
    "\n",
    "    vals = list(map(lambda x:x(i), (add, square)))\n",
    "\n",
    "    print(vals)\n"
   ]
  },
  {
   "cell_type": "code",
   "execution_count": 13,
   "metadata": {},
   "outputs": [
    {
     "name": "stdout",
     "output_type": "stream",
     "text": [
      "1\n",
      "4\n",
      "9\n",
      "16\n",
      "25\n"
     ]
    }
   ],
   "source": [
    "nums = [1, 2, 3, 4, 5]\n",
    "\n",
    "nums_squared = map(lambda x: x*x, nums)\n",
    "\n",
    "for num in nums_squared:\n",
    "    print(num)\n"
   ]
  },
  {
   "cell_type": "code",
   "execution_count": 7,
   "metadata": {},
   "outputs": [
    {
     "name": "stdout",
     "output_type": "stream",
     "text": [
      "[6, 5, 5, 5]\n"
     ]
    }
   ],
   "source": [
    "name=['Varsha','Nitin','Rohit','Sapna']\n",
    "length=map(len,name)\n",
    "print(list(length))"
   ]
  },
  {
   "cell_type": "code",
   "execution_count": 20,
   "metadata": {},
   "outputs": [
    {
     "name": "stdout",
     "output_type": "stream",
     "text": [
      "[6, 5, 5, 5]\n"
     ]
    }
   ],
   "source": [
    "name=['Varsha','Nitin','Rohit','Sapna']\n",
    "length=map(len,name)\n",
    "print(list(length))"
   ]
  },
  {
   "cell_type": "code",
   "execution_count": 21,
   "metadata": {},
   "outputs": [
    {
     "name": "stdout",
     "output_type": "stream",
     "text": [
      "[1934342265392, 1934342266224, 1934342266288, 1934342266352]\n"
     ]
    }
   ],
   "source": [
    "name=['Varsha','Nitin','Rohit','Sapna']\n",
    "length=map(id,name)\n",
    "print(list(length))"
   ]
  },
  {
   "cell_type": "raw",
   "metadata": {},
   "source": [
    "fahrenheit={'t1':-30,'t2':-20,'t3':-10,'t4':0}\n",
    "celcius_dict=dict(map(zip(fahrenheit.keys()),celcius))\n",
    "printt(celcius_dict)"
   ]
  },
  {
   "cell_type": "code",
   "execution_count": 20,
   "metadata": {},
   "outputs": [
    {
     "name": "stdout",
     "output_type": "stream",
     "text": [
      "{'t1': -34.44, 't2': -28.89, 't3': -23.33, 't4': -17.78}\n"
     ]
    }
   ],
   "source": [
    "#Dictionary comprehension\n",
    "celcius_dict={k:round(((5/9)*(t-32)),2) for k,t in fahrenheit.items()}\n",
    "print(celcius_dict)"
   ]
  }
 ],
 "metadata": {
  "kernelspec": {
   "display_name": "Python 3",
   "language": "python",
   "name": "python3"
  },
  "language_info": {
   "codemirror_mode": {
    "name": "ipython",
    "version": 3
   },
   "file_extension": ".py",
   "mimetype": "text/x-python",
   "name": "python",
   "nbconvert_exporter": "python",
   "pygments_lexer": "ipython3",
   "version": "3.8.3"
  }
 },
 "nbformat": 4,
 "nbformat_minor": 2
}
