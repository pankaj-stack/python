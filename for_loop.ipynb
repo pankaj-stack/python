{
 "cells": [
  {
   "cell_type": "code",
   "execution_count": 15,
   "metadata": {},
   "outputs": [
    {
     "name": "stdout",
     "output_type": "stream",
     "text": [
      "5\n",
      "    * * * * * \n",
      "   * * * * * \n",
      "  * * * * * \n",
      " * * * * * \n",
      "* * * * * \n"
     ]
    }
   ],
   "source": [
    "#Rhombus pattern\n",
    "n=int(input())\n",
    "for i in range(1,n+1):\n",
    "    for j in range(n-i):\n",
    "        print(' ',end='')\n",
    "    for l in range(n):\n",
    "        print('* ',end='')\n",
    "    print()"
   ]
  },
  {
   "cell_type": "code",
   "execution_count": 8,
   "metadata": {},
   "outputs": [
    {
     "name": "stdout",
     "output_type": "stream",
     "text": [
      "4\n",
      "*      *\n",
      "**    **\n",
      "***  ***\n",
      "********\n"
     ]
    }
   ],
   "source": [
    "n=int(input())\n",
    "for i in range(1,n+1):\n",
    "    for j in range(1,i+1):\n",
    "        print('*',end='')\n",
    "    for space in range(2*n-2*i):\n",
    "        print(' ',end='')\n",
    "    for l in range(1,i+1):\n",
    "        print('*',end='')\n",
    "    print()\n",
    "        "
   ]
  },
  {
   "cell_type": "code",
   "execution_count": 20,
   "metadata": {},
   "outputs": [
    {
     "name": "stdout",
     "output_type": "stream",
     "text": [
      "10\n",
      "w         wwwwwwwwwwwwwwwwwwwww         w\n",
      "ww        wwwwwwwwww  wwwwwwwww        ww\n",
      "www       wwwwwwwww    wwwwwwww       www\n",
      "wwww      wwwwwwww      wwwwwww      wwww\n",
      "wwwww     wwwwwww        wwwwww     wwwww\n",
      "wwwwww    wwwwww          wwwww    wwwwww\n",
      "wwwwwww   wwwww            wwww   wwwwwww\n",
      "wwwwwwww  wwww              www  wwwwwwww\n",
      "wwwwwwwww www                ww wwwwwwwww\n",
      "wwwwwwwwwwww                  wwwwwwwwwww\n"
     ]
    }
   ],
   "source": [
    "n=int(input())\n",
    "x=z=n\n",
    "y=n+2\n",
    "for i in range(n):\n",
    "    for j in range(i+1):\n",
    "        print('w',end='')\n",
    "    for q in range(x-1):\n",
    "        print(' ',end='')\n",
    "    for r in range(y,1,-1):\n",
    "        print('w',end='')\n",
    "    for s in range(i):\n",
    "        print(' '*2,end='')\n",
    "    for t in range(z,0,-1):\n",
    "        print('w',end='')\n",
    "    for u in range(x-1):\n",
    "        print(' ',end='')\n",
    "    for v in range(i+1):\n",
    "        print('w',end='')\n",
    "    x-=1\n",
    "    y-=1\n",
    "    z-=1\n",
    "    print()"
   ]
  },
  {
   "cell_type": "code",
   "execution_count": 9,
   "metadata": {},
   "outputs": [
    {
     "name": "stdout",
     "output_type": "stream",
     "text": [
      "20\n",
      "*                   *********************\n",
      "**                  ********************\n",
      "***                 *******************\n",
      "****                ******************\n",
      "*****               *****************\n",
      "******              ****************\n",
      "*******             ***************\n",
      "********            **************\n",
      "*********           *************\n",
      "**********          ************\n",
      "***********         ***********\n",
      "************        **********\n",
      "*************       *********\n",
      "**************      ********\n",
      "***************     *******\n",
      "****************    ******\n",
      "*****************   *****\n",
      "******************  ****\n",
      "******************* ***\n",
      "**********************\n"
     ]
    }
   ],
   "source": [
    "n=int(input())\n",
    "x=n\n",
    "y=n+2\n",
    "for i in range(n):\n",
    "    for j in range(i+1):\n",
    "        print('*',end='')\n",
    "    for q in range(x-1):\n",
    "        print(' ',end='')\n",
    "    for r in range(y,1,-1):\n",
    "        print('*',end='')\n",
    "    x-=1\n",
    "    y-=1\n",
    "    print()"
   ]
  },
  {
   "cell_type": "code",
   "execution_count": 9,
   "metadata": {},
   "outputs": [
    {
     "name": "stdout",
     "output_type": "stream",
     "text": [
      "       ********\n",
      "      *******\n",
      "     ******\n",
      "    *****\n",
      "   ****\n",
      "  ***\n",
      " **\n",
      "*\n"
     ]
    }
   ],
   "source": [
    "for p in range(8,0,-1):\n",
    "    for q in range(p-1):\n",
    "        print(' ',end='')\n",
    "    for r in range(p):\n",
    "        print('*',end='')\n",
    "    print()"
   ]
  },
  {
   "cell_type": "code",
   "execution_count": null,
   "metadata": {},
   "outputs": [],
   "source": []
  },
  {
   "cell_type": "code",
   "execution_count": null,
   "metadata": {},
   "outputs": [],
   "source": []
  },
  {
   "cell_type": "code",
   "execution_count": 29,
   "metadata": {},
   "outputs": [
    {
     "name": "stdout",
     "output_type": "stream",
     "text": [
      "Enter the no. of rows : 5\n",
      "*\n",
      "1*\n",
      "*2*\n",
      "1*3*\n",
      "*2*4*\n"
     ]
    }
   ],
   "source": [
    "for i in range(int(input('Enter the no. of rows : '))):\n",
    "    for j in range(1,i+2):\n",
    "        (print(j,end='') if j%2==0 else print('*',end='')) if i%2==0 else (print(j,end='') if j%2!=0 else print('*',end=''))\n",
    "    print()"
   ]
  },
  {
   "cell_type": "code",
   "execution_count": 20,
   "metadata": {},
   "outputs": [
    {
     "name": "stdout",
     "output_type": "stream",
     "text": [
      "Enter the no. of rows : 10\n",
      "*\n",
      "1*\n",
      "*2*\n",
      "1*3*\n",
      "*2*4*\n",
      "1*3*5*\n",
      "*2*4*6*\n",
      "1*3*5*7*\n",
      "*2*4*6*8*\n",
      "1*3*5*7*9*\n"
     ]
    }
   ],
   "source": [
    "for i in range(int(input('Enter the no. of rows : '))):\n",
    "    for j in range(1,i+1+1):\n",
    "        if i%2==0:\n",
    "            if j%2==0:\n",
    "                print(j,end='')\n",
    "            else:\n",
    "                print('*',end='')\n",
    "        else:\n",
    "            if j%2!=0:\n",
    "                print(j,end='')\n",
    "            else:\n",
    "                print('*',end='')\n",
    "    print()"
   ]
  },
  {
   "cell_type": "code",
   "execution_count": 16,
   "metadata": {},
   "outputs": [
    {
     "name": "stdout",
     "output_type": "stream",
     "text": [
      "The first n positive numbers having the total sum less than 100 are:\n",
      "1\n",
      "2\n",
      "3\n",
      "4\n",
      "5\n",
      "6\n",
      "7\n",
      "8\n",
      "9\n",
      "10\n",
      "11\n",
      "12\n",
      "13\n"
     ]
    }
   ],
   "source": [
    "sum=0\n",
    "print(\"The first n positive numbers having the total sum less than 100 are:\")\n",
    "i=1\n",
    "sum=0\n",
    "while i<100:\n",
    "    sum+=i\n",
    "    if sum<=100:\n",
    "        print(i)\n",
    "    i+=1"
   ]
  },
  {
   "cell_type": "code",
   "execution_count": 7,
   "metadata": {},
   "outputs": [
    {
     "name": "stdout",
     "output_type": "stream",
     "text": [
      "Please input the number to calculate factorial of the number0\n",
      "The factorial is :1\n"
     ]
    }
   ],
   "source": [
    "n=int(input('Please input the number to calculate factorial of the number'))\n",
    "if n==0:\n",
    "    print(f'The factorial is :{n+1}')\n",
    "elif n<0:\n",
    "    print('The factorial of numbers below 0 is not defined')\n",
    "else:\n",
    "    factorial=1\n",
    "    for i in range(n,0,-1):\n",
    "        factorial*=i\n",
    "    print(f'The factorial is :{factorial}')"
   ]
  },
  {
   "cell_type": "code",
   "execution_count": null,
   "metadata": {},
   "outputs": [],
   "source": []
  },
  {
   "cell_type": "code",
   "execution_count": null,
   "metadata": {},
   "outputs": [],
   "source": []
  },
  {
   "cell_type": "code",
   "execution_count": 115,
   "metadata": {},
   "outputs": [
    {
     "name": "stdout",
     "output_type": "stream",
     "text": [
      "Enter a no. : 1\n",
      "      *****\n"
     ]
    }
   ],
   "source": [
    "n=int(input('Enter a no. : '))\n",
    "var=n\n",
    "# var+=7\n",
    "for i in range(1,n+1):\n",
    "    for j in range(1,12):\n",
    "            if i==1 and (7<=j<=11):\n",
    "                print('*',end='')\n",
    "            elif i==2 and (4<=j<=7):\n",
    "                print('*',end='')\n",
    "            elif i==3 and (2<=j<=4):\n",
    "                print('*',end='')\n",
    "            elif i==4 and (1<=j<=2):\n",
    "                print('*',end='')\n",
    "            elif i==5 and (j==1):\n",
    "                print('*',end='')\n",
    "            else:\n",
    "                print(' ',end='')\n",
    "    print()"
   ]
  },
  {
   "cell_type": "code",
   "execution_count": 137,
   "metadata": {
    "scrolled": true
   },
   "outputs": [
    {
     "name": "stdout",
     "output_type": "stream",
     "text": [
      "Enter row: 7\n",
      "   *@@@@@@@@@*\n",
      "   *         *\n",
      "   *         *\n",
      "   *         *\n",
      "   *         *\n",
      "   *         *\n",
      "   *         *\n",
      "@@@@@@@   @@@@@@@\n",
      " @@@@@     @@@@@\n",
      "  @@@       @@@\n",
      "   @         @\n",
      "               \n",
      "                  \n"
     ]
    }
   ],
   "source": [
    "#   *@@@@@@@*\n",
    "#   *       *\n",
    "#   *       *\n",
    "#   *       *\n",
    "#   *       *\n",
    "# @@@@@   @@@@@\n",
    "#  @@@     @@@\n",
    "#   @       @\n",
    "n = int(input(\"Enter row: \"))\n",
    "if n%2:\n",
    "    loop1 = loop2 = n\n",
    "    print(' '*(n//2),'*','@'*(n+2),'*',sep='')\n",
    "    for i in range(1, n):\n",
    "        print(' '*(n//2),'*',' '*(n+2),'*',sep='')\n",
    "    for j in range(1, n):\n",
    "        for k in range(1, j):\n",
    "            print(' ',end ='',sep='')\n",
    "        for l in range(1, loop1+1):\n",
    "            print('@',end='')\n",
    "        loop1 = loop1-2\n",
    "        for m in range(1, j):\n",
    "            print(' ',end ='',sep='')\n",
    "        for n in range(1, 4):\n",
    "            print(' ',sep='',end='')\n",
    "        for o in range(1, j):\n",
    "            print(' ',end ='',sep='')\n",
    "        for p in range(1, loop2+1):\n",
    "            print('@',end='')\n",
    "        loop2 = loop2-2\n",
    "        print()"
   ]
  },
  {
   "cell_type": "code",
   "execution_count": 138,
   "metadata": {},
   "outputs": [
    {
     "name": "stdout",
     "output_type": "stream",
     "text": [
      "Enter a number : 7\n",
      "  *@@@@@@@* \n",
      "  *       * \n",
      "  *       * \n",
      "  *       * \n",
      "  *       * \n",
      "@@@@@  @@@@@\n",
      " @@@    @@@ \n",
      "  @      @  \n",
      "            \n",
      "            \n"
     ]
    }
   ],
   "source": [
    "n=int(input('Enter a number : '))\n",
    "n+=3\n",
    "for i in range(1,n+1):\n",
    "    if i>5:\n",
    "        for j in range(1,13):\n",
    "            if  ((1<=j<=5 or 8<=j<=12 ) and i==6) or ((2<=j<=4 or 9<=j<=11 ) and i==7) or ((j==3 or j==10 ) and i==8):\n",
    "                print('@',end='')\n",
    "            else:\n",
    "                print(' ',end='')\n",
    "        print()\n",
    "    else:\n",
    "        for j in range(1,13):\n",
    "            if i==1:\n",
    "                if (j==3 or j==11):\n",
    "                    print('*',end='')\n",
    "                elif 4<=j<=10:\n",
    "                    print('@',end='')\n",
    "                else:\n",
    "                    print(' ',end='')\n",
    "            else:\n",
    "                if (j==3 or j==11):\n",
    "                    print('*',end='')\n",
    "                else:\n",
    "                    print(' ',end='')\n",
    "        print()"
   ]
  },
  {
   "cell_type": "code",
   "execution_count": 108,
   "metadata": {},
   "outputs": [
    {
     "name": "stdout",
     "output_type": "stream",
     "text": [
      "Enter a number : 5\n",
      "1 2 3 4 5 \n",
      "10 9 8 7 6 \n",
      "11 12 13 14 15 \n",
      "20 19 18 17 16 \n",
      "21 22 23 24 25 \n"
     ]
    }
   ],
   "source": [
    "n=int(input('Enter a number : '))\n",
    "counter=0\n",
    "c=0\n",
    "for i in range(1,n+1):\n",
    "    if i%2:\n",
    "        for j in range(1,n+1):\n",
    "            counter+=1\n",
    "            print(counter,end=' ')\n",
    "    else:\n",
    "        p=counter+n\n",
    "        k=p\n",
    "        for j in range(n):\n",
    "            print(k,end=' ')\n",
    "            k-=1\n",
    "            counter+=1\n",
    "        c+=5\n",
    "    print()\n"
   ]
  },
  {
   "cell_type": "code",
   "execution_count": 135,
   "metadata": {},
   "outputs": [
    {
     "name": "stdout",
     "output_type": "stream",
     "text": [
      "Enter a no. : 5\n",
      "     *****\n",
      "  ****\n",
      " ***\n",
      "**\n",
      "*\n"
     ]
    }
   ],
   "source": [
    "n=int(input('Enter a no. : '))\n",
    "s=n\n",
    "for i in range(n,0,-1):\n",
    "    for space in range(s):\n",
    "        print(' ',end='')\n",
    "    s=s//2\n",
    "    for j in range(i):\n",
    "        print('*',end='')\n",
    "    print()"
   ]
  },
  {
   "cell_type": "code",
   "execution_count": 14,
   "metadata": {},
   "outputs": [
    {
     "name": "stdout",
     "output_type": "stream",
     "text": [
      "Enter a no. : 5\n",
      "1 1 1 1 1 \n",
      "1 2 2 2 2 \n",
      "1 2 3 3 3 \n",
      "1 2 3 4 4 \n",
      "1 2 3 4 5 \n"
     ]
    }
   ],
   "source": [
    "# 1 1 1 1 1\n",
    "# 1 2 2 2 2\n",
    "# 1 2 3 3 3\n",
    "# 1 2 3 4 4\n",
    "# 1 2 3 4 5\n",
    "n=int(input('Enter a no. : '))\n",
    "for row in range(1,n+1):\n",
    "    for k in range(1,n+1):\n",
    "        if row<=k:\n",
    "            print(row,end=' ')\n",
    "        else:\n",
    "            print(k,end=' ') \n",
    "    print()"
   ]
  },
  {
   "cell_type": "code",
   "execution_count": 7,
   "metadata": {},
   "outputs": [
    {
     "name": "stdout",
     "output_type": "stream",
     "text": [
      "11111\n",
      "12222\n",
      "12333\n",
      "12344\n",
      "12345\n"
     ]
    }
   ],
   "source": [
    "str='12345'\n",
    "p=4\n",
    "for i in range(1,len(str)+1):\n",
    "    print(str[:i]+str[i-1]*p)\n",
    "    p-=1"
   ]
  },
  {
   "cell_type": "code",
   "execution_count": 35,
   "metadata": {},
   "outputs": [
    {
     "name": "stdout",
     "output_type": "stream",
     "text": [
      "Enter the limit for fibonacci pttern : 5\n",
      "1\n",
      "1 2 \n",
      "3 5 8 \n",
      "13 21 34 55 \n",
      "89 144 233 377 610 \n"
     ]
    }
   ],
   "source": [
    "#fibonacci series pattern\n",
    "n=int(input('Enter the limit for fibonacci pttern : '))\n",
    "a,b=0,1\n",
    "print(b)\n",
    "for i in range(2,n+1):\n",
    "    for j in range(i):\n",
    "        a,b=b,a+b\n",
    "        print(b,end=' ')\n",
    "    print()5\n",
    "    \n",
    "    "
   ]
  },
  {
   "cell_type": "code",
   "execution_count": 5,
   "metadata": {},
   "outputs": [
    {
     "name": "stdout",
     "output_type": "stream",
     "text": [
      "Enter number of rows: 5\n",
      "* * * * * \n",
      "  * * * * \n",
      "    * * * \n",
      "      * * \n",
      "        * \n"
     ]
    }
   ],
   "source": [
    "n = int(input('Enter number of rows: '))\n",
    "for i in range(n,0,-1):\n",
    "    for k in range(n-i):\n",
    "        print(\" \",end= ' ')   \n",
    "    for j in range(i):\n",
    "        print(\"*\", end=' ')        \n",
    "    print()\n"
   ]
  },
  {
   "cell_type": "code",
   "execution_count": 28,
   "metadata": {},
   "outputs": [
    {
     "name": "stdout",
     "output_type": "stream",
     "text": [
      "Limit : 12\n",
      "\n",
      "*\n",
      "*\n",
      "**\n",
      "***\n",
      "*****\n",
      "********\n",
      "*************\n",
      "*********************\n",
      "**********************************\n",
      "*******************************************************\n",
      "*****************************************************************************************\n",
      "*******************************************************\n",
      "**********************************\n",
      "*********************\n",
      "*************\n",
      "********\n",
      "*****\n",
      "***\n",
      "**\n",
      "*\n",
      "*\n",
      "\n"
     ]
    }
   ],
   "source": [
    "#pattern using fibonacci series by Brajesh Raj Sir(IIMT)\n",
    "class fibonacci_class:\n",
    "    l=[]\n",
    "    def __init__(self,n):\n",
    "        self.n=n\n",
    "        self.a=0\n",
    "        self.b=1\n",
    "    def fibonacci(self):\n",
    "        if self.n==1:\n",
    "            return self.a\n",
    "        elif self.n==2:\n",
    "            return self.a,self.b\n",
    "        else:\n",
    "#             print(self.a,self.b,end=' ')\n",
    "            l=[0,1]\n",
    "            for i in range(self.n-2):\n",
    "                self.a,self.b=self.b,self.a+self.b\n",
    "                l.append(self.b)\n",
    "        return l\n",
    "obj=fibonacci_class(n=int(input('Limit : ')))\n",
    "x=obj.fibonacci()\n",
    "for i in x:print('*'*i)\n",
    "for i in x[::-1]:\n",
    "    if i==x[::-1][0]:# when loop will run 1st time\n",
    "        pass\n",
    "    else:\n",
    "        print('*'*i)"
   ]
  },
  {
   "cell_type": "code",
   "execution_count": 11,
   "metadata": {},
   "outputs": [
    {
     "name": "stdout",
     "output_type": "stream",
     "text": [
      "p y t h o n "
     ]
    }
   ],
   "source": [
    "l='python'\n",
    "for i in l:print(i,end=' ')"
   ]
  },
  {
   "cell_type": "code",
   "execution_count": 40,
   "metadata": {},
   "outputs": [
    {
     "name": "stdout",
     "output_type": "stream",
     "text": [
      "hello\n"
     ]
    }
   ],
   "source": [
    "def range():print('hello')\n",
    "range()"
   ]
  },
  {
   "cell_type": "code",
   "execution_count": 15,
   "metadata": {},
   "outputs": [
    {
     "name": "stdout",
     "output_type": "stream",
     "text": [
      "0 1 2 3 4 "
     ]
    }
   ],
   "source": [
    "for j in range(5):print(j,end=' ')"
   ]
  },
  {
   "cell_type": "code",
   "execution_count": 4,
   "metadata": {},
   "outputs": [
    {
     "name": "stdout",
     "output_type": "stream",
     "text": [
      "5\n"
     ]
    },
    {
     "ename": "TypeError",
     "evalue": "range() takes no keyword arguments",
     "output_type": "error",
     "traceback": [
      "\u001b[0;31m---------------------------------------------------------------------------\u001b[0m",
      "\u001b[0;31mTypeError\u001b[0m                                 Traceback (most recent call last)",
      "\u001b[0;32m<ipython-input-4-cf5369297226>\u001b[0m in \u001b[0;36m<module>\u001b[0;34m\u001b[0m\n\u001b[1;32m      4\u001b[0m \u001b[0;31m#         print('*',end=' ')\u001b[0m\u001b[0;34m\u001b[0m\u001b[0;34m\u001b[0m\u001b[0;34m\u001b[0m\u001b[0m\n\u001b[1;32m      5\u001b[0m \u001b[0;31m#     print()\u001b[0m\u001b[0;34m\u001b[0m\u001b[0;34m\u001b[0m\u001b[0;34m\u001b[0m\u001b[0m\n\u001b[0;32m----> 6\u001b[0;31m \u001b[0;32mfor\u001b[0m \u001b[0mi\u001b[0m \u001b[0;32min\u001b[0m \u001b[0mrange\u001b[0m\u001b[0;34m(\u001b[0m\u001b[0mn\u001b[0m\u001b[0;34m=\u001b[0m\u001b[0mint\u001b[0m\u001b[0;34m(\u001b[0m\u001b[0minput\u001b[0m\u001b[0;34m(\u001b[0m\u001b[0;34m)\u001b[0m\u001b[0;34m)\u001b[0m\u001b[0;34m)\u001b[0m\u001b[0;34m:\u001b[0m\u001b[0;34m\u001b[0m\u001b[0;34m\u001b[0m\u001b[0m\n\u001b[0m\u001b[1;32m      7\u001b[0m     \u001b[0;32mfor\u001b[0m \u001b[0mj\u001b[0m \u001b[0;32min\u001b[0m \u001b[0mrange\u001b[0m\u001b[0;34m(\u001b[0m\u001b[0mi\u001b[0m\u001b[0;34m+\u001b[0m\u001b[0;36m1\u001b[0m\u001b[0;34m)\u001b[0m\u001b[0;34m:\u001b[0m\u001b[0;34m\u001b[0m\u001b[0;34m\u001b[0m\u001b[0m\n\u001b[1;32m      8\u001b[0m         \u001b[0mprint\u001b[0m\u001b[0;34m(\u001b[0m\u001b[0;34m'*'\u001b[0m\u001b[0;34m,\u001b[0m\u001b[0mend\u001b[0m\u001b[0;34m=\u001b[0m\u001b[0;34m' '\u001b[0m\u001b[0;34m)\u001b[0m\u001b[0;34m\u001b[0m\u001b[0;34m\u001b[0m\u001b[0m\n",
      "\u001b[0;31mTypeError\u001b[0m: range() takes no keyword arguments"
     ]
    }
   ],
   "source": [
    "n=int(input())\n",
    "for i in range(n,0,-1):\n",
    "    for j in range(i):\n",
    "        print('*',end=' ')\n",
    "    print()\n",
    "for i in range(n):\n",
    "    for j in range(i+1):\n",
    "        print('*',end=' ')\n",
    "    print()\n"
   ]
  },
  {
   "cell_type": "code",
   "execution_count": 54,
   "metadata": {},
   "outputs": [
    {
     "name": "stdout",
     "output_type": "stream",
     "text": [
      "5\n",
      "    *\n",
      "   **\n",
      "  ***\n",
      " ****\n",
      "************************************************************\n",
      "************************************************************\n",
      "************************************************************\n",
      "*****\n",
      " ****\n",
      "  ***\n",
      "   **\n",
      "    *\n"
     ]
    }
   ],
   "source": [
    "n=int(input())\n",
    "v=n-1\n",
    "for i in range(n-1):\n",
    "    for j in range(v,0,-1):\n",
    "        print(' ',end='')\n",
    "    v-=1\n",
    "    for k in range(i+1):\n",
    "        print('*',end='')\n",
    "        \n",
    "    print()\n",
    "for l in range(3):\n",
    "    print('*'*60)\n",
    "v1=n\n",
    "for i in range(n):\n",
    "    for j in range(i):\n",
    "        print(' ',end='')\n",
    "    for k in range(v1):\n",
    "        print('*',end='')\n",
    "    print()\n",
    "    v1-=1\n",
    "    "
   ]
  },
  {
   "cell_type": "code",
   "execution_count": 7,
   "metadata": {},
   "outputs": [
    {
     "name": "stdout",
     "output_type": "stream",
     "text": [
      "Enter number : 2\n",
      "1\n",
      "2\n",
      "3\n"
     ]
    }
   ],
   "source": [
    "# Program to sum of n noos.\n",
    "n=int(input('Enter number : '))\n",
    "l=[]\n",
    "total=0\n",
    "for i in range(n):\n",
    "    no=int(input())\n",
    "    l.append(no)\n",
    "for j in l:\n",
    "    total+=j\n",
    "print(total)"
   ]
  },
  {
   "cell_type": "code",
   "execution_count": 3,
   "metadata": {},
   "outputs": [
    {
     "name": "stdout",
     "output_type": "stream",
     "text": [
      "****************.|.*****************\n"
     ]
    }
   ],
   "source": [
    "print('.|.'.center(len('.|.')*12,'*'))"
   ]
  },
  {
   "cell_type": "code",
   "execution_count": 26,
   "metadata": {},
   "outputs": [
    {
     "name": "stdout",
     "output_type": "stream",
     "text": [
      "------------.|.------------\n",
      "6\n",
      "-------.|.--------\n",
      "3\n",
      "---.|.---\n",
      "0\n",
      ".|.\n",
      "-3\n"
     ]
    }
   ],
   "source": [
    "str='.|.'\n",
    "counter=9\n",
    "j=1\n",
    "for i in range(1,5):\n",
    "    print((str).center(len(str)*counter,'-'))\n",
    "    counter-=3\n",
    "    print(counter)\n",
    "    j+=2"
   ]
  },
  {
   "cell_type": "code",
   "execution_count": 25,
   "metadata": {},
   "outputs": [
    {
     "name": "stdout",
     "output_type": "stream",
     "text": [
      "6\n",
      "***pankaj***\n"
     ]
    }
   ],
   "source": [
    "str='pankaj'\n",
    "print(len(str))\n",
    "print(str.center(len(str)*2,'*'))"
   ]
  },
  {
   "cell_type": "code",
   "execution_count": 27,
   "metadata": {},
   "outputs": [
    {
     "name": "stdout",
     "output_type": "stream",
     "text": [
      "h\n",
      "hh\n",
      "hhhh\n",
      "hhhhhhhh\n"
     ]
    }
   ],
   "source": [
    "str='h'\n",
    "for i in range(4):\n",
    "    print(str)\n",
    "    str+=str"
   ]
  },
  {
   "cell_type": "code",
   "execution_count": 27,
   "metadata": {},
   "outputs": [
    {
     "name": "stdout",
     "output_type": "stream",
     "text": [
      "20\n",
      "*\n",
      "**\n",
      "***\n",
      "****\n",
      "*****\n",
      "******\n",
      "*******\n",
      "********\n",
      "*********\n",
      "**********\n",
      "***********\n",
      "************\n",
      "*************\n",
      "**************\n",
      "***************\n",
      "****************\n",
      "*****************\n",
      "******************\n",
      "*******************\n"
     ]
    }
   ],
   "source": [
    "for i in range(1,int(input())):print('*'*i)"
   ]
  },
  {
   "cell_type": "code",
   "execution_count": 25,
   "metadata": {},
   "outputs": [
    {
     "name": "stdout",
     "output_type": "stream",
     "text": [
      "10\n",
      "**********\n",
      "*********\n",
      "********\n",
      "*******\n",
      "******\n",
      "*****\n",
      "****\n",
      "***\n",
      "**\n",
      "*\n"
     ]
    }
   ],
   "source": [
    "for i in range(int(input()),0,-1):print('*'*i)"
   ]
  },
  {
   "cell_type": "code",
   "execution_count": 39,
   "metadata": {},
   "outputs": [
    {
     "name": "stdout",
     "output_type": "stream",
     "text": [
      "10\n",
      "**********          **********\n",
      "*********         *********\n",
      "********        ********\n",
      "*******       *******\n",
      "******      ******\n",
      "*****     *****\n",
      "****    ****\n",
      "***   ***\n",
      "**  **\n",
      "* *\n",
      "* *\n",
      "**  **\n",
      "***   ***\n",
      "****    ****\n",
      "*****     *****\n",
      "******      ******\n",
      "*******       *******\n",
      "********        ********\n",
      "*********         *********\n"
     ]
    }
   ],
   "source": [
    "n=int(input())\n",
    "for i in range(n,0,-1):print('*'*i+' '*i+'*'*i)\n",
    "for i in range(1,n):print('*'*i+' '*i+'*'*i)"
   ]
  },
  {
   "cell_type": "code",
   "execution_count": 38,
   "metadata": {},
   "outputs": [
    {
     "name": "stdout",
     "output_type": "stream",
     "text": [
      "33333\n",
      "32223\n",
      "32123\n",
      "32223\n",
      "33333\n"
     ]
    }
   ],
   "source": [
    "for i in range(1,6):\n",
    "    if i==1 or i==5:print('3'*5)\n",
    "    elif i==2 or i==4:print('3'+'2'*3+'3')\n",
    "    else:print('32123')"
   ]
  },
  {
   "cell_type": "code",
   "execution_count": 7,
   "metadata": {},
   "outputs": [
    {
     "name": "stdout",
     "output_type": "stream",
     "text": [
      "Collecting jupyter-c-kernel\n",
      "  Downloading https://files.pythonhosted.org/packages/bf/60/cdd13d162391b66c6b4eaabc3d5c9b8e8f0edba9d3481b20509ae04943c7/jupyter_c_kernel-1.2.2.tar.gz\n",
      "Building wheels for collected packages: jupyter-c-kernel\n",
      "  Building wheel for jupyter-c-kernel (setup.py) ... \u001b[?25ldone\n",
      "\u001b[?25h  Created wheel for jupyter-c-kernel: filename=jupyter_c_kernel-1.2.2-cp37-none-any.whl size=6618 sha256=18fff85580af087d6ddf9409c9f73c6e9be413c2b861761fd2fa12064a1a0933\n",
      "  Stored in directory: /home/pankaj/.cache/pip/wheels/28/7a/94/dc4f991e5b8afdc4d89188a658c949f77881e06ee01552a777\n",
      "Successfully built jupyter-c-kernel\n",
      "Installing collected packages: jupyter-c-kernel\n",
      "Successfully installed jupyter-c-kernel-1.2.2\n",
      "Note: you may need to restart the kernel to use updated packages.\n"
     ]
    }
   ],
   "source": [
    "pip install jupyter-c-kernel"
   ]
  },
  {
   "cell_type": "markdown",
   "metadata": {},
   "source": [
    "## 17TH,February 2020"
   ]
  },
  {
   "cell_type": "markdown",
   "metadata": {},
   "source": [
    "## HOME WORK"
   ]
  },
  {
   "cell_type": "code",
   "execution_count": 1,
   "metadata": {},
   "outputs": [],
   "source": [
    "# Iterator and Iterable"
   ]
  },
  {
   "cell_type": "code",
   "execution_count": 4,
   "metadata": {},
   "outputs": [
    {
     "name": "stdout",
     "output_type": "stream",
     "text": [
      "V\n",
      "a\n",
      "r\n",
      "s\n",
      "h\n",
      "a\n",
      "Loop is completed!\n"
     ]
    }
   ],
   "source": [
    "name='Varsha'\n",
    "# marks=[89,67,78,90,56]\n",
    "for char in name:\n",
    "    print(char)\n",
    "print('Loop is completed!')"
   ]
  },
  {
   "cell_type": "code",
   "execution_count": 9,
   "metadata": {},
   "outputs": [
    {
     "name": "stdout",
     "output_type": "stream",
     "text": [
      "380\n",
      "380\n"
     ]
    }
   ],
   "source": [
    "marks=[89,67,78,90,56]\n",
    "total=0\n",
    "for m in marks:\n",
    "    total+=m\n",
    "print(total)\n",
    "print(sum(marks))"
   ]
  },
  {
   "cell_type": "code",
   "execution_count": 14,
   "metadata": {},
   "outputs": [
    {
     "name": "stdout",
     "output_type": "stream",
     "text": [
      "Help on built-in function sum in module builtins:\n",
      "\n",
      "sum(iterable, start=0, /)\n",
      "    Return the sum of a 'start' value (default: 0) plus an iterable of numbers\n",
      "    \n",
      "    When the iterable is empty, return the start value.\n",
      "    This function is intended specifically for use with numeric values and may\n",
      "    reject non-numeric types.\n",
      "\n",
      "None\n"
     ]
    }
   ],
   "source": [
    "print(help(sum))"
   ]
  },
  {
   "cell_type": "markdown",
   "metadata": {},
   "source": [
    "## HOME WORK"
   ]
  },
  {
   "cell_type": "code",
   "execution_count": 15,
   "metadata": {},
   "outputs": [],
   "source": [
    "# 1.See the sytax of  sorted()\n",
    "sorted()#sorted(iterable, /, *, key=None, reverse=False)\n",
    "# Docstring:\n",
    "# Return a new list containing all items from the iterable in ascending order.\n",
    "\n",
    "\n",
    "# 2.Apply loop over tuple,dictionary(key(),value(),item())"
   ]
  },
  {
   "cell_type": "code",
   "execution_count": 10,
   "metadata": {},
   "outputs": [
    {
     "name": "stdout",
     "output_type": "stream",
     "text": [
      "1\n",
      "hello\n",
      "5\n"
     ]
    }
   ],
   "source": [
    "tup=(1,'hello',5)\n",
    "for i in tup:\n",
    "    print(i)\n"
   ]
  },
  {
   "cell_type": "code",
   "execution_count": 11,
   "metadata": {},
   "outputs": [
    {
     "name": "stdout",
     "output_type": "stream",
     "text": [
      "name1\n",
      "name2\n",
      "name3\n"
     ]
    }
   ],
   "source": [
    "dict={'name1':'Krishna','name2':'Radhe','name3':'Shyam'}\n",
    "for key in dict.keys():print(key)"
   ]
  },
  {
   "cell_type": "code",
   "execution_count": 12,
   "metadata": {},
   "outputs": [
    {
     "name": "stdout",
     "output_type": "stream",
     "text": [
      "Krishna\n",
      "Radhe\n",
      "Shyam\n"
     ]
    }
   ],
   "source": [
    "for value in dict.values():print(value)"
   ]
  },
  {
   "cell_type": "code",
   "execution_count": 13,
   "metadata": {},
   "outputs": [
    {
     "name": "stdout",
     "output_type": "stream",
     "text": [
      "name1:Krishna\n",
      "name2:Radhe\n",
      "name3:Shyam\n"
     ]
    }
   ],
   "source": [
    "for value,key in dict.items():print(value,key,sep=':')"
   ]
  },
  {
   "cell_type": "code",
   "execution_count": 1,
   "metadata": {},
   "outputs": [
    {
     "name": "stdout",
     "output_type": "stream",
     "text": [
      "Number : 2\n",
      "prime no.\n"
     ]
    }
   ],
   "source": [
    "#Program to check prime no.\n",
    "n=int(input('Number : '))\n",
    "if n>1:\n",
    "    for i in range(2,n):\n",
    "        if n%i==0:\n",
    "            print('not a prime no.')\n",
    "            break\n",
    "    else:\n",
    "        print('prime no.')\n",
    "else:\n",
    "    print('not a prime no.')"
   ]
  },
  {
   "cell_type": "code",
   "execution_count": 5,
   "metadata": {},
   "outputs": [
    {
     "name": "stdout",
     "output_type": "stream",
     "text": [
      "range(10, 31, 3)\n",
      "10\n",
      "13\n",
      "16\n",
      "19\n",
      "22\n",
      "25\n",
      "28\n"
     ]
    }
   ],
   "source": [
    "#sequence from 10 to 30 with gap 3\n",
    "r=range(10,31,3)\n",
    "print(r)\n",
    "for i in r:\n",
    "    print(i)"
   ]
  },
  {
   "cell_type": "code",
   "execution_count": 15,
   "metadata": {},
   "outputs": [
    {
     "name": "stdout",
     "output_type": "stream",
     "text": [
      "a\n",
      "b\n",
      "c\n",
      "d\n",
      "e\n",
      "f\n",
      "g\n"
     ]
    }
   ],
   "source": [
    "str='abcdefg'\n",
    "for _ in str:\n",
    "    print(_)"
   ]
  },
  {
   "cell_type": "code",
   "execution_count": 18,
   "metadata": {},
   "outputs": [
    {
     "name": "stdout",
     "output_type": "stream",
     "text": [
      "5\n",
      "        * \n",
      "      * * \n",
      "    * * * \n",
      "  * * * * \n",
      "* * * * * \n"
     ]
    }
   ],
   "source": [
    "#         * \n",
    "#       * * \n",
    "#     * * * \n",
    "#   * * * * \n",
    "# * * * * * \n",
    "n=int(input())\n",
    "j=n\n",
    "for i in range(1,n+1):\n",
    "    for j in range(n-i,0,-1):\n",
    "        print(' ',end=' ')\n",
    "    for k in range(i):\n",
    "        print('*',end=' ')\n",
    "    print()"
   ]
  },
  {
   "cell_type": "code",
   "execution_count": null,
   "metadata": {},
   "outputs": [],
   "source": []
  }
 ],
 "metadata": {
  "kernelspec": {
   "display_name": "Python 3",
   "language": "python",
   "name": "python3"
  },
  "language_info": {
   "codemirror_mode": {
    "name": "ipython",
    "version": 3
   },
   "file_extension": ".py",
   "mimetype": "text/x-python",
   "name": "python",
   "nbconvert_exporter": "python",
   "pygments_lexer": "ipython3",
   "version": "3.8.3"
  }
 },
 "nbformat": 4,
 "nbformat_minor": 2
}
