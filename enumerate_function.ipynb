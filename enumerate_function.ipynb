{
 "cells": [
  {
   "cell_type": "code",
   "execution_count": 15,
   "metadata": {},
   "outputs": [],
   "source": [
    "# enumerate()(की गणना) function is iterable i.e an object supporting iteration\n",
    "#Return an enumerate object.\n",
    "#It returns an iterator\n",
    "#It returns indexed as well as coressponding value"
   ]
  },
  {
   "cell_type": "code",
   "execution_count": 28,
   "metadata": {},
   "outputs": [
    {
     "name": "stdout",
     "output_type": "stream",
     "text": [
      "<enumerate object at 0x7fa974ab9dc0>\n",
      "<class 'enumerate'>\n"
     ]
    }
   ],
   "source": [
    "s='ducat'\n",
    "enum=enumerate(s)\n",
    "print(enum,type(enum),sep='\\n')"
   ]
  },
  {
   "cell_type": "code",
   "execution_count": 3,
   "metadata": {},
   "outputs": [
    {
     "name": "stdout",
     "output_type": "stream",
     "text": [
      "(0, 'd')\n",
      "(1, 'u')\n",
      "(2, 'c')\n",
      "(3, 'a')\n",
      "(4, 't')\n"
     ]
    }
   ],
   "source": [
    "s='ducat'\n",
    "enum=enumerate(s)\n",
    "print(next(enum))\n",
    "print(next(enum))\n",
    "print(next(enum))\n",
    "print(next(enum))\n",
    "print(next(enum))"
   ]
  },
  {
   "cell_type": "code",
   "execution_count": 34,
   "metadata": {},
   "outputs": [
    {
     "name": "stdout",
     "output_type": "stream",
     "text": [
      "(0, 'd')\n",
      "(1, 'u')\n",
      "(2, 'c')\n",
      "(3, 'a')\n",
      "(4, 't')\n"
     ]
    }
   ],
   "source": [
    "s='ducat'\n",
    "enum=enumerate(s)\n",
    "for i in range(len(s)):\n",
    "    print(next(enum))"
   ]
  },
  {
   "cell_type": "code",
   "execution_count": 8,
   "metadata": {},
   "outputs": [
    {
     "name": "stdout",
     "output_type": "stream",
     "text": [
      "[(0, 'h'), (1, 'e'), (2, 'l'), (3, 'l'), (4, 'o')]\n"
     ]
    }
   ],
   "source": [
    "str='hello'\n",
    "iterator=enumerate(str)\n",
    "print(list(iterator))"
   ]
  },
  {
   "cell_type": "code",
   "execution_count": 9,
   "metadata": {},
   "outputs": [
    {
     "name": "stdout",
     "output_type": "stream",
     "text": [
      "{}\n"
     ]
    }
   ],
   "source": [
    "print(dict(iterator))# If we call it more than one time then it will show empty"
   ]
  },
  {
   "cell_type": "markdown",
   "metadata": {},
   "source": [
    "## Assigning indexes by own "
   ]
  },
  {
   "cell_type": "code",
   "execution_count": 1,
   "metadata": {},
   "outputs": [
    {
     "name": "stdout",
     "output_type": "stream",
     "text": [
      "[(1, 'R'), (2, 'a'), (3, 'd'), (4, 'h'), (5, 'e')]\n",
      "{100: 'R', 101: 'a', 102: 'd', 103: 'h', 104: 'e'}\n"
     ]
    }
   ],
   "source": [
    "str='Radhe'\n",
    "iterator1=enumerate(str,1)\n",
    "iterator2=enumerate(str,100)\n",
    "print(list(iterator1),dict(iterator2),sep='\\n')"
   ]
  },
  {
   "cell_type": "code",
   "execution_count": 4,
   "metadata": {},
   "outputs": [
    {
     "name": "stdout",
     "output_type": "stream",
     "text": [
      "d\n",
      "u\n",
      "c\n",
      "a\n",
      "t\n"
     ]
    }
   ],
   "source": [
    "#Accessing sequence element inside loop\n",
    "s='ducat'\n",
    "for i in s:#loop on sequence\n",
    "    print(i)"
   ]
  },
  {
   "cell_type": "code",
   "execution_count": 5,
   "metadata": {},
   "outputs": [
    {
     "name": "stdout",
     "output_type": "stream",
     "text": [
      "d\n",
      "u\n",
      "c\n",
      "a\n",
      "t\n"
     ]
    }
   ],
   "source": [
    "for i in range(len(s)):#loop on index\n",
    "    print(s[i])"
   ]
  },
  {
   "cell_type": "code",
   "execution_count": 15,
   "metadata": {},
   "outputs": [
    {
     "name": "stdout",
     "output_type": "stream",
     "text": [
      "[1, 2, 3, 4, 5, 12, 14]\n",
      "[11, 12, 13, 14, 15, 16, 17, 18, 1, 3]\n"
     ]
    }
   ],
   "source": [
    "# Method-1\n",
    "#Program(interview)\n",
    "arr1=[1,2,3,4,5]\n",
    "arr2=[11,12,13,14,15,16,17,18]\n",
    "c_arr1=arr1.copy()#Shallow copy,means it does not make changes in the original list\n",
    "c_arr2=arr2.copy()\n",
    "for i in range(len(c_arr1)):\n",
    "    if i%2==0 and i<len(c_arr1)/2:\n",
    "        arr2.append(arr1[i])\n",
    "\n",
    "for i in range(len(c_arr2)):\n",
    "    if i%2!=0 and i<len(c_arr2)/2:\n",
    "        arr1.append(arr2[i])\n",
    "print(arr1,arr2,sep='\\n')"
   ]
  },
  {
   "cell_type": "code",
   "execution_count": 9,
   "metadata": {},
   "outputs": [
    {
     "name": "stdout",
     "output_type": "stream",
     "text": [
      "[1, 2, 3, 4, 5, 12, 14]\n",
      "[11, 12, 13, 14, 15, 16, 17, 18, 1, 3]\n"
     ]
    }
   ],
   "source": [
    "# Method-2\n",
    "# Using enumerate\n",
    "arr1=[1,2,3,4,5]\n",
    "arr2=[11,12,13,14,15,16,17,18]\n",
    "c_arr1=arr1.copy()\n",
    "c_arr2=arr2.copy()\n",
    "for i,v in enumerate(c_arr1):\n",
    "    if i%2==0 and i<len(c_arr1)/2:\n",
    "        arr2.append(v)\n",
    "for i,v in enumerate(c_arr2):\n",
    "    if i%2!=0 and i<len(c_arr2)/2:\n",
    "        arr1.append(v)\n",
    "print(arr1,arr2,sep='\\n')"
   ]
  },
  {
   "cell_type": "code",
   "execution_count": 9,
   "metadata": {},
   "outputs": [],
   "source": []
  }
 ],
 "metadata": {
  "kernelspec": {
   "display_name": "Python 3",
   "language": "python",
   "name": "python3"
  },
  "language_info": {
   "codemirror_mode": {
    "name": "ipython",
    "version": 3
   },
   "file_extension": ".py",
   "mimetype": "text/x-python",
   "name": "python",
   "nbconvert_exporter": "python",
   "pygments_lexer": "ipython3",
   "version": "3.8.3"
  }
 },
 "nbformat": 4,
 "nbformat_minor": 2
}
