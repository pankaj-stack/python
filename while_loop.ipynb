{
 "cells": [
  {
   "cell_type": "code",
   "execution_count": 4,
   "metadata": {},
   "outputs": [
    {
     "name": "stdout",
     "output_type": "stream",
     "text": [
      "enter a no. : 5\n"
     ]
    },
    {
     "data": {
      "text/plain": [
       "120"
      ]
     },
     "execution_count": 4,
     "metadata": {},
     "output_type": "execute_result"
    }
   ],
   "source": [
    "# 3.factorial\n",
    "n=int(input('enter a no. : '))\n",
    "i,factorial=1,1\n",
    "while i<=n:\n",
    "    factorial*=n\n",
    "    n-=1\n",
    "    i+1\n",
    "factorial"
   ]
  },
  {
   "cell_type": "code",
   "execution_count": 1,
   "metadata": {},
   "outputs": [],
   "source": [
    "import turtle                 # allows us to use the turtles library\n",
    "\n",
    "wn = turtle.Screen()     # creates a graphics window\n",
    "wn.setup(500,440)      # set window dimension\n",
    "\n",
    "circle_rad=60              # set the radius\n",
    "rectangle_width=240   # set the width\n",
    "rectangle_height=30   # set the height\n",
    "\n",
    "alex = turtle.Turtle()   # create a turtle named alex\n",
    "alex.shape(\"turtle\")    # alex looks like a turtle\n",
    "alex.color('red')         # alex has a color\n",
    "alex.circle(circle_rad)\n",
    "alex.backward(rectangle_width/2)\n",
    "alex.forward(rectangle_width)\n",
    "alex.right(90)\n",
    "alex.forward(rectangle_height)\n",
    "alex.right(90)\n",
    "alex.forward(rectangle_width)\n",
    "alex.right(90)\n",
    "alex.forward(rectangle_height)"
   ]
  },
  {
   "cell_type": "markdown",
   "metadata": {},
   "source": [
    "## 17th,February 2020"
   ]
  },
  {
   "cell_type": "code",
   "execution_count": 2,
   "metadata": {},
   "outputs": [],
   "source": [
    "## Note:To break the infinite loop use----------->ctrl+c"
   ]
  },
  {
   "cell_type": "code",
   "execution_count": 1,
   "metadata": {},
   "outputs": [
    {
     "name": "stdout",
     "output_type": "stream",
     "text": [
      "Enter no.12\n",
      "['12']\n",
      "Enter no.13\n",
      "['12', '13']\n",
      "Enter no.15\n",
      "['12', '13', '15']\n",
      "Complete\n"
     ]
    }
   ],
   "source": [
    "# l=[]\n",
    "i=0#Initialisation\n",
    "while i<3:\n",
    "    ip=input('Enter no.')\n",
    "    l.append(ip)\n",
    "    print(l)\n",
    "    i+=1\n",
    "print('Complete')"
   ]
  },
  {
   "cell_type": "code",
   "execution_count": 4,
   "metadata": {},
   "outputs": [
    {
     "name": "stdout",
     "output_type": "stream",
     "text": [
      "lower limit : 2\n",
      "upper limit : 20\n",
      "[2, 4, 6, 8, 10, 12, 14, 16, 18, 20]\n",
      "[3, 5, 7, 9, 11, 13, 15, 17, 19]\n"
     ]
    }
   ],
   "source": [
    "lower_limit=int(input('lower limit : '))\n",
    "upper_limit=int(input('upper limit : '))\n",
    "e_list,o_list=[],[]\n",
    "while lower_limit<upper_limit+1:\n",
    "    if lower_limit%2==0:\n",
    "        e_list.append(lower_limit)\n",
    "    else:\n",
    "        o_list.append(lower_limit)\n",
    "    lower_limit+=1\n",
    "print(e_list,o_list,sep='\\n')"
   ]
  },
  {
   "cell_type": "code",
   "execution_count": 10,
   "metadata": {},
   "outputs": [
    {
     "name": "stdout",
     "output_type": "stream",
     "text": [
      "Enter the starting and ending point : 1 20\n",
      "[2, 4, 6, 8, 10, 12, 14, 16, 18]\n",
      "==================================================\n",
      "[1, 3, 5, 7, 9, 11, 13, 15, 17, 19]\n"
     ]
    }
   ],
   "source": [
    "#Program to print the even-odd separately b/w the given range\n",
    "low,high=input('Enter the starting and ending point : ').split()\n",
    "low,high=int(low),int(high)\n",
    "l,l1=[],[]\n",
    "while low<high:\n",
    "    l.append(low) if low%2==0 else l1.append(low)\n",
    "    low+=1\n",
    "print(l,'='*50,l1,sep='\\n')"
   ]
  },
  {
   "cell_type": "code",
   "execution_count": 11,
   "metadata": {},
   "outputs": [
    {
     "name": "stdout",
     "output_type": "stream",
     "text": [
      "no  : 2\n",
      "2X1 = 2\n",
      "2X2 = 4\n",
      "2X3 = 6\n",
      "2X4 = 8\n",
      "2X5 = 10\n",
      "2X6 = 12\n",
      "2X7 = 14\n",
      "2X8 = 16\n",
      "2X9 = 18\n",
      "2X10 = 20\n"
     ]
    }
   ],
   "source": [
    "i=1\n",
    "n=int(input('no  : '))\n",
    "while i<=10:\n",
    "    print(f'{n}X{i} = {n*i}')\n",
    "    i+=1"
   ]
  },
  {
   "cell_type": "markdown",
   "metadata": {},
   "source": [
    "## HOME WORK"
   ]
  },
  {
   "cell_type": "code",
   "execution_count": 4,
   "metadata": {},
   "outputs": [],
   "source": [
    "# # 1.armstrong\n",
    "# 2.to check prime no\n",
    "# 3.h.c.f of two nos. or gcd(greatest common divisor)"
   ]
  },
  {
   "cell_type": "code",
   "execution_count": 3,
   "metadata": {},
   "outputs": [
    {
     "name": "stdout",
     "output_type": "stream",
     "text": [
      "Enter the no. : 1634\n",
      "Armstrong\n"
     ]
    }
   ],
   "source": [
    "# # 1.armstrong\n",
    "n=input('Enter the no. : ')\n",
    "i=digit_sum=0\n",
    "while i<len(n):\n",
    "    digit_sum+=int(n[i])**len(n)\n",
    "    i+=1\n",
    "print('Armstrong') if int(n)==digit_sum else print('not a armstrong no.')"
   ]
  },
  {
   "cell_type": "code",
   "execution_count": 7,
   "metadata": {},
   "outputs": [
    {
     "name": "stdout",
     "output_type": "stream",
     "text": [
      "Enter the no. : 78\n",
      "not a prime no.\n"
     ]
    }
   ],
   "source": [
    "# 2.to check prime no\n",
    "n=int(input('Enter the no. : '))\n",
    "i=2\n",
    "if n>1:\n",
    "    while i<n:\n",
    "        if n%i==0:\n",
    "            print('not a prime no.')\n",
    "            break\n",
    "        i+=1\n",
    "    else:\n",
    "        print(\" prime no.\")\n",
    "else:\n",
    "    print('not a prime no.')"
   ]
  },
  {
   "cell_type": "code",
   "execution_count": 8,
   "metadata": {},
   "outputs": [
    {
     "name": "stdout",
     "output_type": "stream",
     "text": [
      "Enter the two nos. : 12 23\n",
      "H.C.F of 12 and 23 is 1\n"
     ]
    }
   ],
   "source": [
    "# 3.h.c.f of two nos. or gcd(greatest common divisor)\n",
    "n1,n2=input('Enter the two nos. : ').split()\n",
    "n1,n2=int(n1),int(n2)\n",
    "i,l=1,[]\n",
    "while i<=max(n1,n2):\n",
    "    if n1%i==0 and n2%i==0:\n",
    "        l.append(i)\n",
    "    i+=1\n",
    "print(f'H.C.F of {n1} and {n2} is {max(l)}')"
   ]
  },
  {
   "cell_type": "code",
   "execution_count": 7,
   "metadata": {},
   "outputs": [
    {
     "name": "stdout",
     "output_type": "stream",
     "text": [
      "Enter the two nos. : 100 25\n",
      "H.C.F of 100 and 25 is 25\n"
     ]
    }
   ],
   "source": [
    "# 3.h.c.f of two nos. or gcd(greatest common divisor)\n",
    "n1,n2=input('Enter the two nos. : ').split()\n",
    "n1,n2=int(n1),int(n2)\n",
    "i,l=1,[]\n",
    "while i<=min(n1,n2):\n",
    "    if n1%i==0 and n2%i==0:\n",
    "        l.append(i)\n",
    "    i+=1\n",
    "print(f'H.C.F of {n1} and {n2} is {max(l)}')"
   ]
  },
  {
   "cell_type": "code",
   "execution_count": 5,
   "metadata": {},
   "outputs": [
    {
     "name": "stdout",
     "output_type": "stream",
     "text": [
      "2\n",
      "3\n",
      "LCM = 6\n"
     ]
    }
   ],
   "source": [
    "#lcm of two nos.\n",
    "n1=int(input())\n",
    "n2=int(input())\n",
    "greater_no=max(n1,n2)\n",
    "while True:\n",
    "    if greater_no%n1==0 and greater_no%n2==0:\n",
    "        lcm=greater_no\n",
    "        print(f'LCM = {lcm}')\n",
    "        break\n",
    "    greater_no+=1"
   ]
  },
  {
   "cell_type": "code",
   "execution_count": null,
   "metadata": {},
   "outputs": [],
   "source": []
  }
 ],
 "metadata": {
  "kernelspec": {
   "display_name": "Python 3",
   "language": "python",
   "name": "python3"
  },
  "language_info": {
   "codemirror_mode": {
    "name": "ipython",
    "version": 3
   },
   "file_extension": ".py",
   "mimetype": "text/x-python",
   "name": "python",
   "nbconvert_exporter": "python",
   "pygments_lexer": "ipython3",
   "version": "3.7.4"
  }
 },
 "nbformat": 4,
 "nbformat_minor": 2
}
