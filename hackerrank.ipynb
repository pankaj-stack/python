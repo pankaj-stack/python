{
 "cells": [
  {
   "cell_type": "code",
   "execution_count": 5,
   "metadata": {},
   "outputs": [
    {
     "name": "stdout",
     "output_type": "stream",
     "text": [
      "3\n",
      "1 0\n",
      "Error Code integer division or modulo by zero\n",
      "2 $\n",
      "Error Code invalid literal for int() with base 10: '$'\n",
      "3 1\n",
      "3\n"
     ]
    }
   ],
   "source": [
    "# Enter your code here. Read input from STDIN. Print output to STDOUT\n",
    "T=int(input())\n",
    "for i in range(T):\n",
    "    try:\n",
    "        a,b=list(map(int,input().split()))\n",
    "        print(a//b)\n",
    "    except (ZeroDivisionError,ValueError) as e:\n",
    "        print('Error Code: ',e)\n",
    "    "
   ]
  },
  {
   "cell_type": "code",
   "execution_count": 128,
   "metadata": {},
   "outputs": [
    {
     "name": "stdout",
     "output_type": "stream",
     "text": [
      "3\n",
      "0 0 1\n",
      "4\n",
      "1 2 3 4\n",
      "0\n",
      "0\n",
      "2\n",
      "3\n",
      "4\n"
     ]
    }
   ],
   "source": [
    "# Enter your code here. Read input from STDIN. Print output to STDOUT\n",
    "M=int(input())\n",
    "m=list(map(int,input().split()))\n",
    "N=int(input())\n",
    "n=list(map(int,input().split()))\n",
    "l=[]\n",
    "for i in m:\n",
    "    if i not in n:\n",
    "        if i not in l:\n",
    "            l.append(i)\n",
    "for j in n:\n",
    "    if j not in m:\n",
    "        if j not in l:\n",
    "            l.append(j)\n",
    "for i in range(len(l)):\n",
    "    print(min(l))\n",
    "    l.pop(l.index(min(l)))\n",
    "# print(l)\n",
    "# 4\n",
    "# 2 4 5 9\n",
    "# 4\n",
    "# 2 4 11 12\n",
    "# Sample Output\n",
    "\n",
    "# 5\n",
    "# 9\n",
    "# 11\n",
    "# 12\n"
   ]
  },
  {
   "cell_type": "code",
   "execution_count": 126,
   "metadata": {},
   "outputs": [
    {
     "name": "stdout",
     "output_type": "stream",
     "text": [
      "2\n",
      "4\n",
      "4\n",
      "5\n",
      "66\n",
      "76\n"
     ]
    }
   ],
   "source": [
    "l=[4,2,4,5,66,76]\n",
    "for i in range(len(l)):\n",
    "    print(min(l))\n",
    "    p=l.pop(l.index(min(l)))\n",
    "#     print('popped_element',p)\n",
    "#     print(l)"
   ]
  },
  {
   "cell_type": "code",
   "execution_count": 109,
   "metadata": {},
   "outputs": [
    {
     "name": "stdout",
     "output_type": "stream",
     "text": [
      "08 05 2015\n",
      "WEDNESDAY\n"
     ]
    }
   ],
   "source": [
    "#Return the day of the week as an integer, where Monday is 0 and Sunday is 6.\n",
    "import datetime\n",
    "from datetime import date\n",
    "month1,day1,year1=input().split()\n",
    "year1=int(year1)\n",
    "day_name=['MONDAY','TUESDAY','WEDNESDAY','THURSDAY','FRIDAY','SATURDAY','SUNDAY']\n",
    "list1=list(range(7))\n",
    "year_var=year1\n",
    "x=datetime.datetime(year1,int(month1),int(day1)).weekday()\n",
    "print(day_name[x])"
   ]
  },
  {
   "cell_type": "code",
   "execution_count": 94,
   "metadata": {},
   "outputs": [
    {
     "name": "stdout",
     "output_type": "stream",
     "text": [
      "    H    \n",
      "   HHH   \n",
      "  HHHHH  \n",
      " HHHHHHH \n",
      "HHHHHHHHH\n",
      "     HHHHH            HHHHH             \n",
      "     HHHHH            HHHHH             \n",
      "     HHHHH            HHHHH             \n",
      "     HHHHH            HHHHH             \n",
      "     HHHHH            HHHHH             \n",
      "     HHHHH            HHHHH             \n",
      "     HHHHHHHHHHHHHHHHHHHHHHHHH\n",
      "     HHHHHHHHHHHHHHHHHHHHHHHHH\n",
      "     HHHHHHHHHHHHHHHHHHHHHHHHH\n",
      "     HHHHH            HHHHH             \n",
      "     HHHHH            HHHHH             \n",
      "     HHHHH            HHHHH             \n",
      "     HHHHH            HHHHH             \n",
      "     HHHHH            HHHHH             \n",
      "     HHHHH            HHHHH             \n",
      "                   HHHH H HHHH\n",
      "                   HHH  H  HHH\n",
      "                   HH   H   HH\n",
      "                   H    H    H\n",
      "                        H     \n"
     ]
    }
   ],
   "source": [
    "c='H'\n",
    "thickness=5\n",
    "for i in range(thickness):\n",
    "    print((c*i).rjust(thickness-1)+c+(c*i).ljust(thickness-1))\n",
    "#Top Pillars\n",
    "for i in range(thickness+1):\n",
    "    print((c*thickness).rjust(thickness*2)+(c*thickness).center(thickness*6))\n",
    "#Middle Belt\n",
    "for i in range((thickness+1)//2):\n",
    "    print((c*thickness*5).rjust(thickness*6))    \n",
    "#Bottom Pillars\n",
    "for i in range(thickness+1):\n",
    "    print((c*thickness).rjust(thickness*2)+(c*thickness).center(thickness*6))    \n",
    "#Bottom Cone\n",
    "for i in range(thickness):\n",
    "    print(((c*(thickness-i-1)).ljust(thickness)+c+(c*(thickness-i-1)).rjust(thickness)).rjust(thickness*6))"
   ]
  },
  {
   "cell_type": "code",
   "execution_count": 9,
   "metadata": {},
   "outputs": [
    {
     "name": "stdout",
     "output_type": "stream",
     "text": [
      "5\n",
      "    H    \n",
      " H  H H  \n",
      " HH H HH \n",
      "HHH HHHH \n",
      "HHHHHHHHH\n"
     ]
    }
   ],
   "source": [
    "#Replace all ______ with rjust, ljust or center. \n",
    "\n",
    "thickness = int(input()) #This must be an odd number\n",
    "c = 'H'\n",
    "\n",
    "#Top Cone\n",
    "for i in range(thickness):\n",
    "    print((c*i).center(thickness-1)+c+(c*i).center(thickness-1))\n",
    "\n",
    "# #Top Pillars\n",
    "# for i in range(thickness+1):\n",
    "#     print((c*thickness).______(thickness*2)+(c*thickness).______(thickness*6))\n",
    "\n",
    "# #Middle Belt\n",
    "# for i in range((thickness+1)//2):\n",
    "#     print((c*thickness*5).______(thickness*6))    \n",
    "\n",
    "# #Bottom Pillars\n",
    "# for i in range(thickness+1):\n",
    "#     print((c*thickness).______(thickness*2)+(c*thickness).______(thickness*6))    \n",
    "\n",
    "# #Bottom Cone\n",
    "# for i in range(thickness):\n",
    "#     print(((c*(thickness-i-1)).______(thickness)+c+(c*(thickness-i-1)).______(thickness)).______(thickness*6))"
   ]
  },
  {
   "cell_type": "code",
   "execution_count": 19,
   "metadata": {},
   "outputs": [
    {
     "name": "stdout",
     "output_type": "stream",
     "text": [
      "Pankaj@@@\n",
      "@@@Pankaj\n",
      "@@Pankaj@\n"
     ]
    }
   ],
   "source": [
    "width=9\n",
    "print('Pankaj'.ljust(width,'@'))\n",
    "print('Pankaj'.rjust(width,'@'))\n",
    "print('Pankaj'.center(width,'@'))"
   ]
  },
  {
   "cell_type": "code",
   "execution_count": 9,
   "metadata": {},
   "outputs": [
    {
     "name": "stdout",
     "output_type": "stream",
     "text": [
      "HOME: /home/pankaj\n",
      "JAVA_HOME: None\n"
     ]
    }
   ],
   "source": [
    "# Python program to explain os.environ object \n",
    "\n",
    "# importing os module \n",
    "import os \n",
    "\n",
    "# Get the value of \n",
    "# 'HOME' environment variable \n",
    "home = os.environ['HOME'] \n",
    "\n",
    "# Print the value of \n",
    "# 'HOME' environment variable \n",
    "print(\"HOME:\", home) \n",
    "\n",
    "# Get the value of \n",
    "# 'JAVA_HOME' environment variable \n",
    "# using get operation of dictionary \n",
    "java_home = os.environ.get('JAVA_HOME') \n",
    "\n",
    "# Print the value of \n",
    "# 'JAVA_HOME' environment variable \n",
    "print(\"JAVA_HOME:\", java_home) \n"
   ]
  },
  {
   "cell_type": "code",
   "execution_count": 10,
   "metadata": {},
   "outputs": [
    {
     "data": {
      "text/plain": [
       "'/home/pankaj/------------------------------------------------------------python------------------------------------------------------------'"
      ]
     },
     "execution_count": 10,
     "metadata": {},
     "output_type": "execute_result"
    }
   ],
   "source": [
    "pwd"
   ]
  },
  {
   "cell_type": "code",
   "execution_count": 22,
   "metadata": {},
   "outputs": [
    {
     "ename": "IsADirectoryError",
     "evalue": "[Errno 21] Is a directory: '/home/pankaj'",
     "output_type": "error",
     "traceback": [
      "\u001b[0;31m---------------------------------------------------------------------------\u001b[0m",
      "\u001b[0;31mIsADirectoryError\u001b[0m                         Traceback (most recent call last)",
      "\u001b[0;32m<ipython-input-22-c5b1215acd45>\u001b[0m in \u001b[0;36m<module>\u001b[0;34m\u001b[0m\n\u001b[1;32m      1\u001b[0m \u001b[0;32mimport\u001b[0m \u001b[0mos\u001b[0m\u001b[0;34m\u001b[0m\u001b[0;34m\u001b[0m\u001b[0m\n\u001b[0;32m----> 2\u001b[0;31m \u001b[0mfptr\u001b[0m \u001b[0;34m=\u001b[0m \u001b[0mopen\u001b[0m\u001b[0;34m(\u001b[0m\u001b[0mos\u001b[0m\u001b[0;34m.\u001b[0m\u001b[0menviron\u001b[0m\u001b[0;34m[\u001b[0m\u001b[0;34m'HOME'\u001b[0m\u001b[0;34m]\u001b[0m\u001b[0;34m)\u001b[0m\u001b[0;34m\u001b[0m\u001b[0;34m\u001b[0m\u001b[0m\n\u001b[0m\u001b[1;32m      3\u001b[0m \u001b[0;31m# fptr.write('Hello')\u001b[0m\u001b[0;34m\u001b[0m\u001b[0;34m\u001b[0m\u001b[0;34m\u001b[0m\u001b[0m\n\u001b[1;32m      4\u001b[0m \u001b[0mprint\u001b[0m\u001b[0;34m(\u001b[0m\u001b[0mos\u001b[0m\u001b[0;34m.\u001b[0m\u001b[0menviron\u001b[0m\u001b[0;34m[\u001b[0m\u001b[0;34m'HOME'\u001b[0m\u001b[0;34m]\u001b[0m\u001b[0;34m)\u001b[0m\u001b[0;34m\u001b[0m\u001b[0;34m\u001b[0m\u001b[0m\n",
      "\u001b[0;31mIsADirectoryError\u001b[0m: [Errno 21] Is a directory: '/home/pankaj'"
     ]
    }
   ],
   "source": [
    "import os\n",
    "fptr = open(os.environ['HOME'])\n",
    "# fptr.write('Hello')\n",
    "print(os.environ['HOME'])"
   ]
  },
  {
   "cell_type": "code",
   "execution_count": 30,
   "metadata": {},
   "outputs": [
    {
     "name": "stdout",
     "output_type": "stream",
     "text": [
      "75\n",
      "67\n",
      "40\n",
      "33\n"
     ]
    }
   ],
   "source": [
    "def gradingStudents(grades):\n",
    "    # Write your code here\n",
    "    for i in grades:\n",
    "        if i>=38:\n",
    "            if ((5-i%5+i)-i)<3:\n",
    "                print(5-i%5+i)\n",
    "            else:\n",
    "                print(i)\n",
    "        else:\n",
    "            print(i)\n",
    "grades=[73,67,38,33]\n",
    "gradingStudents(grades)"
   ]
  },
  {
   "cell_type": "code",
   "execution_count": 23,
   "metadata": {},
   "outputs": [
    {
     "ename": "IsADirectoryError",
     "evalue": "[Errno 21] Is a directory: '/home/pankaj'",
     "output_type": "error",
     "traceback": [
      "\u001b[0;31m---------------------------------------------------------------------------\u001b[0m",
      "\u001b[0;31mIsADirectoryError\u001b[0m                         Traceback (most recent call last)",
      "\u001b[0;32m<ipython-input-23-fd874958ab35>\u001b[0m in \u001b[0;36m<module>\u001b[0;34m\u001b[0m\n\u001b[1;32m     19\u001b[0m \u001b[0;34m\u001b[0m\u001b[0m\n\u001b[1;32m     20\u001b[0m \u001b[0;32mif\u001b[0m \u001b[0m__name__\u001b[0m \u001b[0;34m==\u001b[0m \u001b[0;34m'__main__'\u001b[0m\u001b[0;34m:\u001b[0m\u001b[0;34m\u001b[0m\u001b[0;34m\u001b[0m\u001b[0m\n\u001b[0;32m---> 21\u001b[0;31m     \u001b[0mfptr\u001b[0m \u001b[0;34m=\u001b[0m \u001b[0mopen\u001b[0m\u001b[0;34m(\u001b[0m\u001b[0mos\u001b[0m\u001b[0;34m.\u001b[0m\u001b[0menviron\u001b[0m\u001b[0;34m[\u001b[0m\u001b[0;34m'HOME'\u001b[0m\u001b[0;34m]\u001b[0m\u001b[0;34m,\u001b[0m \u001b[0;34m'w'\u001b[0m\u001b[0;34m)\u001b[0m\u001b[0;34m\u001b[0m\u001b[0;34m\u001b[0m\u001b[0m\n\u001b[0m\u001b[1;32m     22\u001b[0m \u001b[0;34m\u001b[0m\u001b[0m\n\u001b[1;32m     23\u001b[0m     \u001b[0mgrades_count\u001b[0m \u001b[0;34m=\u001b[0m \u001b[0mint\u001b[0m\u001b[0;34m(\u001b[0m\u001b[0minput\u001b[0m\u001b[0;34m(\u001b[0m\u001b[0;34m)\u001b[0m\u001b[0;34m.\u001b[0m\u001b[0mstrip\u001b[0m\u001b[0;34m(\u001b[0m\u001b[0;34m)\u001b[0m\u001b[0;34m)\u001b[0m\u001b[0;34m\u001b[0m\u001b[0;34m\u001b[0m\u001b[0m\n",
      "\u001b[0;31mIsADirectoryError\u001b[0m: [Errno 21] Is a directory: '/home/pankaj'"
     ]
    }
   ],
   "source": [
    "#!/bin/python3\n",
    "\n",
    "import math\n",
    "import os\n",
    "import random\n",
    "import re\n",
    "import sys\n",
    "\n",
    "#\n",
    "# Complete the 'gradingStudents' function below.\n",
    "#\n",
    "# The function is expected to return an INTEGER_ARRAY.\n",
    "# The function accepts INTEGER_ARRAY grades as parameter.\n",
    "#\n",
    "\n",
    "def gradingStudents(grades):\n",
    "    # Write your code here\n",
    "    for i in grades:\n",
    "        if i>=38:\n",
    "            if ((5-i%5+i)-i)<3:\n",
    "                print(5-i%5+i)\n",
    "            else:\n",
    "                print(i)\n",
    "        else:\n",
    "            print(i)\n",
    "if __name__ == '__main__':\n",
    "    fptr = open(os.environ['HOME'], 'w')\n",
    "\n",
    "    grades_count = int(input().strip())\n",
    "\n",
    "    grades = []\n",
    "\n",
    "    for _ in range(grades_count):\n",
    "        grades_item = int(input().strip())\n",
    "        grades.append(grades_item)\n",
    "\n",
    "    result = gradingStudents(grades)\n",
    "\n",
    "    fptr.write('\\n'.join(map(str, result)))\n",
    "    fptr.write('\\n')\n",
    "\n",
    "    fptr.close()\n"
   ]
  },
  {
   "cell_type": "code",
   "execution_count": 1,
   "metadata": {},
   "outputs": [
    {
     "name": "stdout",
     "output_type": "stream",
     "text": [
      "10\n",
      "161 182 161 154 176 170 167 171 170 174\n",
      "[161, 182, 161, 154, 176, 170, 167, 171, 170, 174]\n",
      "169.375\n"
     ]
    }
   ],
   "source": [
    "def average(array):\n",
    "    # your code goes here\n",
    "    sets=set(array)\n",
    "    avg=sum(sets)/len(sets)\n",
    "    return avg\n",
    "if __name__ == '__main__':\n",
    "    n = int(input())\n",
    "    arr = list(map(int, input().split()))\n",
    "    result = average(arr)\n",
    "    print(result)"
   ]
  },
  {
   "cell_type": "code",
   "execution_count": 62,
   "metadata": {},
   "outputs": [
    {
     "name": "stdout",
     "output_type": "stream",
     "text": [
      "5 3\n",
      "89 90 78 93 88\n",
      "90 91 85 88 86\n",
      "91 92 83 89 90.5\n",
      "[[89.0, 90.0, 78.0, 93.0, 88.0], [90.0, 91.0, 85.0, 88.0, 86.0], [91.0, 92.0, 83.0, 89.0, 90.5]]\n",
      "90.0\n",
      "91.0\n",
      "82.0\n",
      "90.0\n",
      "88.2\n"
     ]
    }
   ],
   "source": [
    "n,sub=input().split()\n",
    "l=[input().split() for i in range(int(sub))]\n",
    "l1,l2=[],[]\n",
    "for i in l:\n",
    "    for j in i:\n",
    "        l1.append(float(j))\n",
    "    l2.append(l1)\n",
    "    l1=[]\n",
    "print(l2)\n",
    "total=0\n",
    "l3=[]\n",
    "for p in zip(*l2):\n",
    "    for q in p:\n",
    "        total+=q\n",
    "    l3.append(total)\n",
    "    total=0\n",
    "for i in l3:\n",
    "    print('%.1f'%(i/int(sub)))"
   ]
  },
  {
   "cell_type": "code",
   "execution_count": 55,
   "metadata": {},
   "outputs": [
    {
     "name": "stdout",
     "output_type": "stream",
     "text": [
      "[[1, 2, 3], [6, 5, 4], [7, 8, 9]]\n",
      "(1, 6, 7) (2, 5, 8) (3, 4, 9) "
     ]
    }
   ],
   "source": [
    "A = [1,2,3]\n",
    "B = [6,5,4]\n",
    "C = [7,8,9]\n",
    "X = [A] + [B] + [C]\n",
    "print(X)\n",
    "tot=0\n",
    "for i in zip(*X):\n",
    "    print(i,end=' ')"
   ]
  },
  {
   "cell_type": "code",
   "execution_count": 41,
   "metadata": {},
   "outputs": [
    {
     "name": "stdout",
     "output_type": "stream",
     "text": [
      "2\n",
      "ramesh sharma 33 M\n",
      "suresh agrarwal 32 M\n"
     ]
    },
    {
     "ename": "TypeError",
     "evalue": "name_format() takes 1 positional argument but 2 were given",
     "output_type": "error",
     "traceback": [
      "\u001b[0;31m---------------------------------------------------------------------------\u001b[0m",
      "\u001b[0;31mTypeError\u001b[0m                                 Traceback (most recent call last)",
      "\u001b[0;32m<ipython-input-41-48acc30c116a>\u001b[0m in \u001b[0;36m<module>\u001b[0;34m\u001b[0m\n\u001b[1;32m     21\u001b[0m \u001b[0;32mif\u001b[0m \u001b[0m__name__\u001b[0m \u001b[0;34m==\u001b[0m \u001b[0;34m'__main__'\u001b[0m\u001b[0;34m:\u001b[0m\u001b[0;34m\u001b[0m\u001b[0;34m\u001b[0m\u001b[0m\n\u001b[1;32m     22\u001b[0m     \u001b[0mpeople\u001b[0m \u001b[0;34m=\u001b[0m \u001b[0;34m[\u001b[0m\u001b[0minput\u001b[0m\u001b[0;34m(\u001b[0m\u001b[0;34m)\u001b[0m\u001b[0;34m.\u001b[0m\u001b[0msplit\u001b[0m\u001b[0;34m(\u001b[0m\u001b[0;34m)\u001b[0m \u001b[0;32mfor\u001b[0m \u001b[0mi\u001b[0m \u001b[0;32min\u001b[0m \u001b[0mrange\u001b[0m\u001b[0;34m(\u001b[0m\u001b[0mint\u001b[0m\u001b[0;34m(\u001b[0m\u001b[0minput\u001b[0m\u001b[0;34m(\u001b[0m\u001b[0;34m)\u001b[0m\u001b[0;34m)\u001b[0m\u001b[0;34m)\u001b[0m\u001b[0;34m]\u001b[0m\u001b[0;34m\u001b[0m\u001b[0;34m\u001b[0m\u001b[0m\n\u001b[0;32m---> 23\u001b[0;31m     \u001b[0mprint\u001b[0m\u001b[0;34m(\u001b[0m\u001b[0;34m*\u001b[0m\u001b[0mname_format\u001b[0m\u001b[0;34m(\u001b[0m\u001b[0mpeople\u001b[0m\u001b[0;34m)\u001b[0m\u001b[0;34m,\u001b[0m \u001b[0msep\u001b[0m\u001b[0;34m=\u001b[0m\u001b[0;34m'\\n'\u001b[0m\u001b[0;34m)\u001b[0m\u001b[0;34m\u001b[0m\u001b[0;34m\u001b[0m\u001b[0m\n\u001b[0m",
      "\u001b[0;32m<ipython-input-41-48acc30c116a>\u001b[0m in \u001b[0;36minner\u001b[0;34m(people)\u001b[0m\n\u001b[1;32m     12\u001b[0m                 \u001b[0;32mif\u001b[0m \u001b[0ml\u001b[0m\u001b[0;34m[\u001b[0m\u001b[0mj\u001b[0m\u001b[0;34m]\u001b[0m\u001b[0;34m==\u001b[0m\u001b[0mpeople\u001b[0m\u001b[0;34m[\u001b[0m\u001b[0mp\u001b[0m\u001b[0;34m]\u001b[0m\u001b[0;34m[\u001b[0m\u001b[0;36m2\u001b[0m\u001b[0;34m]\u001b[0m\u001b[0;34m:\u001b[0m\u001b[0;34m\u001b[0m\u001b[0;34m\u001b[0m\u001b[0m\n\u001b[1;32m     13\u001b[0m                     \u001b[0ml1\u001b[0m\u001b[0;34m.\u001b[0m\u001b[0mappend\u001b[0m\u001b[0;34m(\u001b[0m\u001b[0mpeople\u001b[0m\u001b[0;34m[\u001b[0m\u001b[0mp\u001b[0m\u001b[0;34m]\u001b[0m\u001b[0;34m)\u001b[0m\u001b[0;34m\u001b[0m\u001b[0;34m\u001b[0m\u001b[0m\n\u001b[0;32m---> 14\u001b[0;31m         \u001b[0;32mreturn\u001b[0m \u001b[0mf\u001b[0m\u001b[0;34m(\u001b[0m\u001b[0;34m*\u001b[0m\u001b[0ml1\u001b[0m\u001b[0;34m)\u001b[0m\u001b[0;34m\u001b[0m\u001b[0;34m\u001b[0m\u001b[0m\n\u001b[0m\u001b[1;32m     15\u001b[0m     \u001b[0;32mreturn\u001b[0m \u001b[0minner\u001b[0m\u001b[0;34m\u001b[0m\u001b[0;34m\u001b[0m\u001b[0m\n\u001b[1;32m     16\u001b[0m \u001b[0;34m\u001b[0m\u001b[0m\n",
      "\u001b[0;31mTypeError\u001b[0m: name_format() takes 1 positional argument but 2 were given"
     ]
    }
   ],
   "source": [
    "import operator\n",
    "\n",
    "def person_lister(f):\n",
    "    def inner(people):\n",
    "        # complete the function\n",
    "        l,l1=[],[]\n",
    "        for i in people:\n",
    "            l.append(i[2])\n",
    "        l.sort()\n",
    "        for j in range(len(l)):\n",
    "            for p in range(len(l)):\n",
    "                if l[j]==people[p][2]:\n",
    "                    l1.append(people[p])\n",
    "        return f(l1)\n",
    "    return inner\n",
    "\n",
    "@person_lister\n",
    "def name_format(person):\n",
    "    return (\"Mr. \" if person[3] == \"M\" else \"Ms. \") + person[0] + \" \" + person[1]\n",
    "\n",
    "if __name__ == '__main__':\n",
    "    people = [input().split() for i in range(int(input()))]\n",
    "    print(*name_format(people), sep='\\n')"
   ]
  },
  {
   "cell_type": "code",
   "execution_count": 25,
   "metadata": {},
   "outputs": [
    {
     "name": "stdout",
     "output_type": "stream",
     "text": [
      "[1, 2, 3, 4]\n"
     ]
    }
   ],
   "source": [
    "def f(l):\n",
    "    yield l\n",
    "l=[1,2,3,4]\n",
    "for i in f(l):\n",
    "    print(i)"
   ]
  },
  {
   "cell_type": "code",
   "execution_count": 8,
   "metadata": {},
   "outputs": [
    {
     "name": "stdout",
     "output_type": "stream",
     "text": [
      "3\n",
      "7895462130\n",
      "919875641230\n",
      "9195969878\n",
      "+91 7895462130\n",
      "+91 9195969878\n",
      "+91 9875641230\n"
     ]
    }
   ],
   "source": [
    "def wrapper(f):\n",
    "    def fun(l):\n",
    "        # complete the function\n",
    "        l1=[]\n",
    "        for i in l:\n",
    "            l1.append('+91 '+i[:-11:-1][::-1])\n",
    "#             l.pop()\n",
    "#         l=l1\n",
    "        return f(l1)\n",
    "    return fun\n",
    "\n",
    "@wrapper\n",
    "def sort_phone(l):\n",
    "    print(*sorted(l), sep='\\n')\n",
    "\n",
    "if __name__ == '__main__':\n",
    "    l = [input() for _ in range(int(input()))]\n",
    "    sort_phone(l) \n"
   ]
  },
  {
   "cell_type": "code",
   "execution_count": 9,
   "metadata": {},
   "outputs": [
    {
     "name": "stdout",
     "output_type": "stream",
     "text": [
      "7895462130 10\n",
      "9875641230 10\n",
      "9195969878 10\n",
      "7895462130\n",
      "9195969878\n",
      "9875641230\n"
     ]
    }
   ],
   "source": [
    "l=['7895462130','919875641230','9195969878']\n",
    "for i in l:\n",
    "    print(i[:-11:-1][::-1],len(i[:-11:-1][::-1]))\n",
    "l=['7895462130','9875641230','9195969878']\n",
    "x=sorted(l)\n",
    "for i in x:print(i)"
   ]
  },
  {
   "cell_type": "code",
   "execution_count": 16,
   "metadata": {},
   "outputs": [
    {
     "name": "stdout",
     "output_type": "stream",
     "text": [
      "+91 7895462130\n",
      "+91 9195969878\n",
      "+91 9875641230\n"
     ]
    }
   ],
   "source": [
    "def sort_phone(l):\n",
    "    print(*sorted(l), sep='\\n')\n",
    "l=['+91 7895462130','+91 9875641230','+91 9195969878']\n",
    "sort_phone(l)"
   ]
  },
  {
   "cell_type": "code",
   "execution_count": 17,
   "metadata": {},
   "outputs": [
    {
     "name": "stdout",
     "output_type": "stream",
     "text": [
      "AABCAAADA\n",
      "3\n",
      "['AAB', 'CAA', 'ADA']\n",
      "AB\n",
      "CA\n",
      "AD\n"
     ]
    }
   ],
   "source": [
    "string,k=input(),int(input())\n",
    "l=[]\n",
    "l1=[]\n",
    "j=k\n",
    "p=0\n",
    "for i in range(len(string)//k):\n",
    "    l.append(string[p:k])\n",
    "    p,k=k,k+j\n",
    "print(l)\n",
    "for i in l:\n",
    "    for r in i:\n",
    "        if r not in l1:\n",
    "            l1.append(r)\n",
    "    s=''.join(l1)\n",
    "    l1=[]\n",
    "    print(s)\n",
    "#     l1=[]\n",
    "# #         s=''.join(l1)\n",
    "# #         print(s)\n",
    "#         l2.append(s)\n",
    "# print(l)"
   ]
  },
  {
   "cell_type": "code",
   "execution_count": 16,
   "metadata": {},
   "outputs": [
    {
     "data": {
      "text/plain": [
       "'AB'"
      ]
     },
     "execution_count": 16,
     "metadata": {},
     "output_type": "execute_result"
    }
   ],
   "source": [
    "l=['A', 'B']\n",
    "str=''.join(l)\n",
    "str"
   ]
  },
  {
   "cell_type": "code",
   "execution_count": null,
   "metadata": {},
   "outputs": [],
   "source": [
    "cube = lambda : # complete the lambda function \n",
    "\n",
    "def fibonacci(n):\n",
    "    # return a list of fibonacci numbers\n",
    "    a,b=0,1\n",
    "    for i in range(n)\n",
    "        if n>1:\n",
    "            a,b=b,a+b\n",
    "        \n",
    "if __name__ == '__main__':\n",
    "    n = int(input())\n",
    "    print(list(map(cube, fibonacci(n))))"
   ]
  },
  {
   "cell_type": "code",
   "execution_count": 15,
   "metadata": {},
   "outputs": [
    {
     "data": {
      "text/plain": [
       "[1, 1, 1, 2, 2, 3]"
      ]
     },
     "execution_count": 15,
     "metadata": {},
     "output_type": "execute_result"
    }
   ],
   "source": [
    "l=[]\n",
    "def fibonacci(n):\n",
    "        a,b=0,1\n",
    "        if n==1:\n",
    "            l.append(0)\n",
    "        if n==2:\n",
    "            l.append(1)\n",
    "        for i in range(n-2):\n",
    "#             if i==0 or i==1:\n",
    "#                 l.append(i)\n",
    "            a,b=b,a+b\n",
    "            l.append(a)\n",
    "            l.append(b)\n",
    "        return l\n",
    "fibonacci(5)"
   ]
  },
  {
   "cell_type": "code",
   "execution_count": null,
   "metadata": {},
   "outputs": [],
   "source": [
    "## n,sub=input().split()\n",
    "l,l1=[],[],\n",
    "for i in range(int(sub)):\n",
    "    list=input().split()\n",
    "    for j in list:\n",
    "        l.append(float(j))\n",
    "l=[]\n",
    "l1.append([l])\n",
    "print(l1)\n",
    "i=sum=p=0\n",
    "for p in range(len(l1)):\n",
    "    for j in l1:\n",
    "        sum+=j[i]\n",
    "    percentage='%.1f'%(sum/int(sub))\n",
    "    sum=0\n",
    "    print(percentage)\n",
    "    i+=1\n",
    "        "
   ]
  },
  {
   "cell_type": "code",
   "execution_count": 7,
   "metadata": {},
   "outputs": [
    {
     "data": {
      "text/plain": [
       "14"
      ]
     },
     "execution_count": 7,
     "metadata": {},
     "output_type": "execute_result"
    }
   ],
   "source": [
    "def increment_by(n, increment=1):\n",
    "    return n + increment\n",
    "increment_by(13)\n"
   ]
  },
  {
   "cell_type": "code",
   "execution_count": 1,
   "metadata": {},
   "outputs": [
    {
     "name": "stdout",
     "output_type": "stream",
     "text": [
      "1\n",
      "1\n",
      "1\n",
      "1\n",
      "[[0, 0, 0], [0, 1, 1], [1, 0, 1], [1, 1, 0], [1, 1, 1]]\n"
     ]
    }
   ],
   "source": [
    "# list comprehension\n",
    "x = int(input())\n",
    "y = int(input())\n",
    "z = int(input())\n",
    "n = int(input())\n",
    "var=[[i,j,k] for i in range(x+1) for j in range(y+1) for k in range(z+1) if ((i+j+k)!=n)]\n",
    "print(var)"
   ]
  },
  {
   "cell_type": "code",
   "execution_count": 23,
   "metadata": {},
   "outputs": [
    {
     "name": "stdout",
     "output_type": "stream",
     "text": [
      "5\n",
      "2 3 6 6 5\n",
      "5\n"
     ]
    }
   ],
   "source": [
    "n = int(input())\n",
    "arr = map(int, input().split())\n",
    "l=[]\n",
    "for i in arr:\n",
    "    l.append(i)\n",
    "x=max(l)\n",
    "l.remove(x)\n",
    "while (x in l):\n",
    "    l.remove(x)\n",
    "print(max(l))"
   ]
  },
  {
   "cell_type": "code",
   "execution_count": 25,
   "metadata": {},
   "outputs": [
    {
     "name": "stdout",
     "output_type": "stream",
     "text": [
      "2\n",
      "a\n",
      "23\n",
      "e\n",
      "33\n",
      "['a', 23.0, 'e', 33.0]\n"
     ]
    }
   ],
   "source": [
    "l=[]\n",
    "for _ in range(int(input())):\n",
    "        name = input()\n",
    "        score = float(input())\n",
    "        l.append(name)\n",
    "        l.append(score)\n",
    "print(l)"
   ]
  },
  {
   "cell_type": "code",
   "execution_count": 1,
   "metadata": {},
   "outputs": [
    {
     "name": "stdout",
     "output_type": "stream",
     "text": [
      "enter the string : ABCDCD\n",
      "sub string : CDC\n"
     ]
    },
    {
     "data": {
      "text/plain": [
       "'Occurance of CDC is 1'"
      ]
     },
     "execution_count": 1,
     "metadata": {},
     "output_type": "execute_result"
    }
   ],
   "source": [
    "# 05\n",
    "def f():\n",
    "    str=input('enter the string : ')\n",
    "    sub_string=input('sub string : ')\n",
    "    counter=0\n",
    "    for i in range(len(str)):\n",
    "        if str[i:len(sub_string)+i]==sub_string:\n",
    "            counter+=1\n",
    "    return f'Occurance of {sub_string} is {counter}' \n",
    "f()"
   ]
  },
  {
   "cell_type": "code",
   "execution_count": 2,
   "metadata": {},
   "outputs": [
    {
     "name": "stdout",
     "output_type": "stream",
     "text": [
      "3 5\n",
      "x**3+x**2\n",
      "['x**3', 'x**2']\n",
      "120\n",
      "42\n",
      "42\n",
      "51\n",
      "120\n",
      "42\n",
      "42\n",
      "50\n"
     ]
    }
   ],
   "source": [
    "# 06\n",
    "x,k=input().split()\n",
    "P=input()\n",
    "x,k=int(x),int(k)\n",
    "v=P.split('+')\n",
    "print(v)\n",
    "for term in v:\n",
    "    for i in term:\n",
    "        print(ord(i))"
   ]
  },
  {
   "cell_type": "code",
   "execution_count": 3,
   "metadata": {},
   "outputs": [
    {
     "name": "stdout",
     "output_type": "stream",
     "text": [
      "3\n",
      "a\n",
      "2\n",
      "f\n",
      "6\n",
      "d\n",
      "6\n",
      "[['a', 2.0], ['f', 6.0], ['d', 6.0]]\n",
      "d\n",
      "f\n"
     ]
    }
   ],
   "source": [
    "#07\n",
    "l,l1,l3=[],[],[]\n",
    "for _ in range(int(input())):\n",
    "        name = input()\n",
    "        score = float(input())\n",
    "        l.append(name)\n",
    "        l.append(score)\n",
    "        l3.append(score)\n",
    "        l1.append(l)\n",
    "        l=[]\n",
    "print(l1)\n",
    "min1=min(l3)\n",
    "l3.remove(min1)\n",
    "while min1 in l3:\n",
    "    l3.remove(min1)\n",
    "min2=min(l3)\n",
    "l4,l5=[],[]\n",
    "for i in l1:\n",
    "    if i[1]==min2:\n",
    "        l4.append(i[0])\n",
    "        l5.append(i[1])\n",
    "    l4.sort()\n",
    "for j in range(len(l5)):\n",
    "    print(l4[j] )\n",
    "    "
   ]
  },
  {
   "cell_type": "code",
   "execution_count": 2,
   "metadata": {},
   "outputs": [
    {
     "name": "stdout",
     "output_type": "stream",
     "text": [
      "['b', 2]\n",
      "['c', 2]\n"
     ]
    }
   ],
   "source": [
    "l=[['a',1],['b',2],['c',2]]\n",
    "for i in l:\n",
    "    if i[1]==2:\n",
    "        print(i)"
   ]
  },
  {
   "cell_type": "code",
   "execution_count": 2,
   "metadata": {},
   "outputs": [
    {
     "ename": "NameError",
     "evalue": "name 'first_name' is not defined",
     "output_type": "error",
     "traceback": [
      "\u001b[0;31m---------------------------------------------------------------------------\u001b[0m",
      "\u001b[0;31mNameError\u001b[0m                                 Traceback (most recent call last)",
      "\u001b[0;32m<ipython-input-2-e45e80403513>\u001b[0m in \u001b[0;36m<module>\u001b[0;34m\u001b[0m\n\u001b[1;32m      1\u001b[0m \u001b[0;31m#08\u001b[0m\u001b[0;34m\u001b[0m\u001b[0;34m\u001b[0m\u001b[0;34m\u001b[0m\u001b[0m\n\u001b[0;32m----> 2\u001b[0;31m \u001b[0mprint\u001b[0m\u001b[0;34m(\u001b[0m\u001b[0;34mf'Hello {first_name} {last_name}!You just delved in python.'\u001b[0m \u001b[0;34m)\u001b[0m\u001b[0;34m\u001b[0m\u001b[0;34m\u001b[0m\u001b[0m\n\u001b[0m\u001b[1;32m      3\u001b[0m \u001b[0;32mif\u001b[0m \u001b[0m__name__\u001b[0m \u001b[0;34m==\u001b[0m \u001b[0;34m'__main__'\u001b[0m\u001b[0;34m:\u001b[0m\u001b[0;34m\u001b[0m\u001b[0;34m\u001b[0m\u001b[0m\n\u001b[1;32m      4\u001b[0m     \u001b[0mfirst_name\u001b[0m \u001b[0;34m=\u001b[0m \u001b[0minput\u001b[0m\u001b[0;34m(\u001b[0m\u001b[0;34m)\u001b[0m\u001b[0;34m\u001b[0m\u001b[0;34m\u001b[0m\u001b[0m\n\u001b[1;32m      5\u001b[0m     \u001b[0mlast_name\u001b[0m \u001b[0;34m=\u001b[0m \u001b[0minput\u001b[0m\u001b[0;34m(\u001b[0m\u001b[0;34m)\u001b[0m\u001b[0;34m\u001b[0m\u001b[0;34m\u001b[0m\u001b[0m\n",
      "\u001b[0;31mNameError\u001b[0m: name 'first_name' is not defined"
     ]
    }
   ],
   "source": [
    "#08\n",
    "print(f'Hello {first_name} {last_name}!You just delved in python.' ) \n",
    "if __name__ == '__main__':\n",
    "    first_name = input()\n",
    "    last_name = input()\n",
    "    print_full_name(first_name, last_name)"
   ]
  },
  {
   "cell_type": "code",
   "execution_count": 1,
   "metadata": {},
   "outputs": [
    {
     "ename": "NameError",
     "evalue": "name 'first_name' is not defined",
     "output_type": "error",
     "traceback": [
      "\u001b[0;31m---------------------------------------------------------------------------\u001b[0m",
      "\u001b[0;31mNameError\u001b[0m                                 Traceback (most recent call last)",
      "\u001b[0;32m<ipython-input-1-e45e80403513>\u001b[0m in \u001b[0;36m<module>\u001b[0;34m\u001b[0m\n\u001b[1;32m      1\u001b[0m \u001b[0;31m#08\u001b[0m\u001b[0;34m\u001b[0m\u001b[0;34m\u001b[0m\u001b[0;34m\u001b[0m\u001b[0m\n\u001b[0;32m----> 2\u001b[0;31m \u001b[0mprint\u001b[0m\u001b[0;34m(\u001b[0m\u001b[0;34mf'Hello {first_name} {last_name}!You just delved in python.'\u001b[0m \u001b[0;34m)\u001b[0m\u001b[0;34m\u001b[0m\u001b[0;34m\u001b[0m\u001b[0m\n\u001b[0m\u001b[1;32m      3\u001b[0m \u001b[0;32mif\u001b[0m \u001b[0m__name__\u001b[0m \u001b[0;34m==\u001b[0m \u001b[0;34m'__main__'\u001b[0m\u001b[0;34m:\u001b[0m\u001b[0;34m\u001b[0m\u001b[0;34m\u001b[0m\u001b[0m\n\u001b[1;32m      4\u001b[0m     \u001b[0mfirst_name\u001b[0m \u001b[0;34m=\u001b[0m \u001b[0minput\u001b[0m\u001b[0;34m(\u001b[0m\u001b[0;34m)\u001b[0m\u001b[0;34m\u001b[0m\u001b[0;34m\u001b[0m\u001b[0m\n\u001b[1;32m      5\u001b[0m     \u001b[0mlast_name\u001b[0m \u001b[0;34m=\u001b[0m \u001b[0minput\u001b[0m\u001b[0;34m(\u001b[0m\u001b[0;34m)\u001b[0m\u001b[0;34m\u001b[0m\u001b[0;34m\u001b[0m\u001b[0m\n",
      "\u001b[0;31mNameError\u001b[0m: name 'first_name' is not defined"
     ]
    }
   ],
   "source": [
    "#08\n",
    "print(f'Hello {first_name} {last_name}!You just delved in python.' ) \n",
    "if __name__ == '__main__':\n",
    "    first_name = input()\n",
    "    last_name = input()\n",
    "    print_full_name(first_name, last_name)"
   ]
  },
  {
   "cell_type": "code",
   "execution_count": 3,
   "metadata": {},
   "outputs": [
    {
     "name": "stdout",
     "output_type": "stream",
     "text": [
      "17\n",
      "1\n",
      "2\n",
      "3\n",
      "4\n",
      "5\n",
      "6\n",
      "7\n",
      "8\n",
      "9\n",
      "10\n",
      "11\n",
      "12\n",
      "13\n",
      "14\n",
      "15\n",
      "16\n",
      "17\n"
     ]
    }
   ],
   "source": [
    "n=int(input())\n",
    "l=[]\n",
    "for i in range(len(n)):\n",
    "    octel=n%2\n",
    "    l.append(octel)\n",
    "    "
   ]
  },
  {
   "cell_type": "code",
   "execution_count": 6,
   "metadata": {},
   "outputs": [
    {
     "data": {
      "text/plain": [
       "(6, 0)"
      ]
     },
     "execution_count": 6,
     "metadata": {},
     "output_type": "execute_result"
    }
   ],
   "source": [
    "12//2,12%2"
   ]
  },
  {
   "cell_type": "code",
   "execution_count": 7,
   "metadata": {},
   "outputs": [
    {
     "name": "stdout",
     "output_type": "stream",
     "text": [
      "this is a string\n",
      "this-is-a-string\n"
     ]
    }
   ],
   "source": [
    "str=input()\n",
    "split=str.split()\n",
    "l='-'.join(split)\n",
    "print(l)"
   ]
  },
  {
   "cell_type": "code",
   "execution_count": 11,
   "metadata": {},
   "outputs": [
    {
     "name": "stdout",
     "output_type": "stream",
     "text": [
      "aaaaa\n",
      "a\n",
      "5\n"
     ]
    }
   ],
   "source": [
    "# to count the occurance of sub-string\n",
    "string=input()\n",
    "sub_string=input()\n",
    "count=0\n",
    "for i in range(len(string)):\n",
    "    if string[i:(len(sub_string)+i)]==sub_string:\n",
    "        count+=1\n",
    "    else:\n",
    "        print('not matched any string')\n",
    "print(count)"
   ]
  },
  {
   "cell_type": "code",
   "execution_count": 14,
   "metadata": {},
   "outputs": [
    {
     "name": "stdout",
     "output_type": "stream",
     "text": [
      "True\n"
     ]
    }
   ],
   "source": [
    "In the first line, print True if  has any alphanumeric characters. Otherwise, print False.\n",
    "In the second line, print True if  has any alphabetical characters. Otherwise, print False.\n",
    "In the third line, print True if  has any digits. Otherwise, print False.\n",
    "In the fourth line, print True if  has any lowercase characters. Otherwise, print False.\n",
    "In the fifth line, print True if  has any uppercase characters. Otherwise, print False.\n",
    "\n"
   ]
  },
  {
   "cell_type": "code",
   "execution_count": 15,
   "metadata": {},
   "outputs": [
    {
     "name": "stdout",
     "output_type": "stream",
     "text": [
      "qA2\n",
      "True\n",
      "False\n",
      "False\n",
      "False\n",
      "False\n"
     ]
    }
   ],
   "source": [
    "print(s.isalnum())\n",
    "print(s.isalpha())\n",
    "print(s.isdigit())\n",
    "print(s.islower())\n",
    "print(s.isupper())"
   ]
  },
  {
   "cell_type": "code",
   "execution_count": 6,
   "metadata": {},
   "outputs": [
    {
     "name": "stdout",
     "output_type": "stream",
     "text": [
      "abcdefghijklmnopqrstuvwxyz\n",
      "4\n",
      "abcd\n",
      "efgh\n",
      "ijkl\n",
      "mnop\n",
      "qrst\n",
      "uvwx\n",
      "yz\n",
      "\n"
     ]
    }
   ],
   "source": [
    "def f():\n",
    "    str=''\n",
    "    string=input()\n",
    "    max_width=int(input())\n",
    "    t=max_width\n",
    "    j=0\n",
    "    length=len(string)//max_width\n",
    "    #print(length)\n",
    "    for i in range(length+1):\n",
    "        x=string[j:max_width]\n",
    "        str+=x+'\\n'\n",
    "        j=max_width\n",
    "        max_width=t+max_width\n",
    "        #print(i)\n",
    "    return str\n",
    "print(f())"
   ]
  },
  {
   "cell_type": "code",
   "execution_count": 7,
   "metadata": {},
   "outputs": [
    {
     "name": "stdout",
     "output_type": "stream",
     "text": [
      "1 5\n",
      "2 6\n",
      "3 7\n",
      "4 8\n"
     ]
    }
   ],
   "source": [
    "l=[[1,2,3,4],[5,6,7,8]]\n",
    "for i in range(4):\n",
    "    print(l[0][i],l[1][i])"
   ]
  },
  {
   "cell_type": "code",
   "execution_count": 23,
   "metadata": {},
   "outputs": [
    {
     "name": "stdout",
     "output_type": "stream",
     "text": [
      "18\n",
      "1 1 1 10\n",
      "2 2 2 11\n",
      "3 3 3 100\n",
      "4 4 4 101\n",
      "5 5 5 110\n",
      "6 6 6 111\n",
      "7 7 7 1000\n",
      "8 10 8 1001\n",
      "9 11 9 1010\n",
      "10 12 a 1011\n",
      "11 13 b 1100\n",
      "12 14 c 1101\n",
      "13 15 d 1110\n",
      "14 16 e 1111\n",
      "15 17 f 10000\n",
      "16 20 10 10001\n",
      "17 21 11 10010\n",
      "18 22 12 10011\n"
     ]
    }
   ],
   "source": [
    "# for calculatin decimal,octel,hexa-decimal and binary\n",
    "n=int(input())\n",
    "for i in range(n):\n",
    "    decimal,octel,hexa_decimal,binary=i+1,oct(i+1),hex(i+1),bin(i+2)\n",
    "    print(decimal,octel[2:],hexa_decimal[2:],binary[2:],end='\\n')"
   ]
  },
  {
   "cell_type": "code",
   "execution_count": 1,
   "metadata": {},
   "outputs": [
    {
     "data": {
      "text/plain": [
       "['a', 'b', 'r', 'a', 'c', 'a', 'd', 'a', 'b', 'r', 'a']"
      ]
     },
     "execution_count": 1,
     "metadata": {},
     "output_type": "execute_result"
    }
   ],
   "source": [
    "s='abracadabra'\n",
    "l=list(s)\n",
    "l"
   ]
  },
  {
   "cell_type": "code",
   "execution_count": 5,
   "metadata": {},
   "outputs": [
    {
     "ename": "TypeError",
     "evalue": "pow() takes exactly 2 arguments (3 given)",
     "output_type": "error",
     "traceback": [
      "\u001b[0;31m---------------------------------------------------------------------------\u001b[0m",
      "\u001b[0;31mTypeError\u001b[0m                                 Traceback (most recent call last)",
      "\u001b[0;32m<ipython-input-5-04f523a92fdb>\u001b[0m in \u001b[0;36m<module>\u001b[0;34m\u001b[0m\n\u001b[1;32m      1\u001b[0m \u001b[0;32mimport\u001b[0m \u001b[0mmath\u001b[0m\u001b[0;34m\u001b[0m\u001b[0;34m\u001b[0m\u001b[0m\n\u001b[0;32m----> 2\u001b[0;31m \u001b[0mmath\u001b[0m\u001b[0;34m.\u001b[0m\u001b[0mpow\u001b[0m\u001b[0;34m(\u001b[0m\u001b[0;36m2\u001b[0m\u001b[0;34m,\u001b[0m\u001b[0;36m3\u001b[0m\u001b[0;34m,\u001b[0m\u001b[0;36m4\u001b[0m\u001b[0;34m)\u001b[0m\u001b[0;34m\u001b[0m\u001b[0;34m\u001b[0m\u001b[0m\n\u001b[0m",
      "\u001b[0;31mTypeError\u001b[0m: pow() takes exactly 2 arguments (3 given)"
     ]
    }
   ],
   "source": [
    "import math\n",
    "math.pow(2,3,4)"
   ]
  },
  {
   "cell_type": "code",
   "execution_count": 7,
   "metadata": {},
   "outputs": [
    {
     "name": "stdout",
     "output_type": "stream",
     "text": [
      "5\n",
      "1\n",
      "22\n",
      "333\n",
      "4444\n"
     ]
    }
   ],
   "source": [
    "for i in range(1,int(input())): #More than 2 lines will result in 0 score. Do not leave a blank line also\n",
    "    print()\n"
   ]
  },
  {
   "cell_type": "code",
   "execution_count": 15,
   "metadata": {},
   "outputs": [
    {
     "name": "stdout",
     "output_type": "stream",
     "text": [
      "len('hello')\n"
     ]
    },
    {
     "data": {
      "text/plain": [
       "5"
      ]
     },
     "execution_count": 15,
     "metadata": {},
     "output_type": "execute_result"
    }
   ],
   "source": [
    "eval(input())"
   ]
  },
  {
   "cell_type": "code",
   "execution_count": 13,
   "metadata": {},
   "outputs": [
    {
     "name": "stdout",
     "output_type": "stream",
     "text": [
      "print(2+3)\n",
      "5\n",
      "<class 'NoneType'>\n"
     ]
    }
   ],
   "source": [
    "print(type(eval(input())))"
   ]
  },
  {
   "cell_type": "code",
   "execution_count": null,
   "metadata": {},
   "outputs": [],
   "source": []
  }
 ],
 "metadata": {
  "kernelspec": {
   "display_name": "Python 3",
   "language": "python",
   "name": "python3"
  },
  "language_info": {
   "codemirror_mode": {
    "name": "ipython",
    "version": 3
   },
   "file_extension": ".py",
   "mimetype": "text/x-python",
   "name": "python",
   "nbconvert_exporter": "python",
   "pygments_lexer": "ipython3",
   "version": "3.7.4"
  }
 },
 "nbformat": 4,
 "nbformat_minor": 2
}
