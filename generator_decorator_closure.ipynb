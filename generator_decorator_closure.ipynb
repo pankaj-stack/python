{
 "cells": [
  {
   "cell_type": "raw",
   "metadata": {},
   "source": [
    "Generator-Function : A generator-function is defined like a normal function, but whenever it needs to generate a value, it does so with the yield keyword rather than return. If the body of a def contains yield, the function automatically becomes a generator function.\n",
    "key points:->\n",
    "    . It is normal function.\n",
    "    . yield is use in place of return"
   ]
  },
  {
   "cell_type": "code",
   "execution_count": 1,
   "metadata": {},
   "outputs": [
    {
     "name": "stdout",
     "output_type": "stream",
     "text": [
      "1\n",
      "2\n",
      "3\n"
     ]
    }
   ],
   "source": [
    "# A generator function that yields 1 for first time, \n",
    "# 2 second time and 3 third time \n",
    "def simpleGeneratorFun(): \n",
    "    yield 1            \n",
    "    yield 2            \n",
    "    yield 3            \n",
    "   \n",
    "# Driver code to check above generator function \n",
    "for value in simpleGeneratorFun():  \n",
    "    print(value) "
   ]
  },
  {
   "cell_type": "code",
   "execution_count": 2,
   "metadata": {},
   "outputs": [
    {
     "name": "stdout",
     "output_type": "stream",
     "text": [
      "5\n"
     ]
    }
   ],
   "source": [
    "def f(a,b):\n",
    "    c=a+b\n",
    "    yield c\n",
    "for i in f(2,3):\n",
    "    print(i)"
   ]
  },
  {
   "cell_type": "markdown",
   "metadata": {},
   "source": [
    "## Generator Function"
   ]
  },
  {
   "cell_type": "code",
   "execution_count": 3,
   "metadata": {},
   "outputs": [
    {
     "name": "stdout",
     "output_type": "stream",
     "text": [
      "1\n",
      "2\n",
      "3\n",
      "4\n"
     ]
    }
   ],
   "source": [
    "def generator():#Generator Function <---------------------------------\n",
    "    yield 1\n",
    "    yield 2\n",
    "    yield 3\n",
    "    yield 4\n",
    "for i in generator():#Generator Object i.e iterator\n",
    "    print(i)"
   ]
  },
  {
   "cell_type": "markdown",
   "metadata": {},
   "source": [
    "## Generator Object"
   ]
  },
  {
   "cell_type": "raw",
   "metadata": {},
   "source": [
    "Generator-Object : Generator functions return a generator object. Generator objects are used either by calling the next method on the generator object or using the generator object in a “for in” loop (as shown in the above program).\n"
   ]
  },
  {
   "cell_type": "code",
   "execution_count": 4,
   "metadata": {},
   "outputs": [
    {
     "name": "stdout",
     "output_type": "stream",
     "text": [
      "1\n",
      "2\n",
      "3\n"
     ]
    }
   ],
   "source": [
    "# A Python program to demonstrate use of \n",
    "# generator object with next() \n",
    "\n",
    "# A generator function \n",
    "def simpleGeneratorFun(): \n",
    "    yield 1\n",
    "    yield 2\n",
    "    yield 3\n",
    "\n",
    "# x is a generator object \n",
    "x = simpleGeneratorFun() \n",
    "\n",
    "# Iterating over the generator object using next \n",
    "print(x.__next__()) # In Python 3, __next__() \n",
    "print(x.__next__()); \n",
    "print(x.__next__()); \n",
    "# print(next(x))\n",
    "# print(next(x))\n",
    "# print(next(x))"
   ]
  },
  {
   "cell_type": "code",
   "execution_count": 5,
   "metadata": {},
   "outputs": [
    {
     "name": "stdout",
     "output_type": "stream",
     "text": [
      "0\n",
      "1\n",
      "1\n",
      "2\n",
      "3\n"
     ]
    }
   ],
   "source": [
    "#Program to print fibonacci nos. using generator\n",
    "def fibonacci(limit):\n",
    "    a,b=0,1\n",
    "    while a<limit:\n",
    "        yield a\n",
    "        a,b=b,a+b\n",
    "x=fibonacci(5)#Creating object of generator\n",
    "print(next(x))\n",
    "print(next(x))\n",
    "print(next(x))\n",
    "print(next(x))\n",
    "print(next(x))\n",
    "# print(next(x)) #It'll generate an exception due exceed limit of calling"
   ]
  },
  {
   "cell_type": "markdown",
   "metadata": {},
   "source": [
    "## --------------------------------OR--------------------------------"
   ]
  },
  {
   "cell_type": "code",
   "execution_count": 6,
   "metadata": {},
   "outputs": [
    {
     "name": "stdout",
     "output_type": "stream",
     "text": [
      "4\n",
      "0\n",
      "1\n",
      "1\n",
      "2\n",
      "3\n"
     ]
    }
   ],
   "source": [
    "def fibonacci(limit):\n",
    "    a,b=0,1\n",
    "    while a<limit:\n",
    "        yield a\n",
    "        a,b=b,a+b\n",
    "x=fibonacci(limit=int(input()))#Creating object of generator\n",
    "for i in x:\n",
    "    print(i)"
   ]
  },
  {
   "cell_type": "markdown",
   "metadata": {},
   "source": [
    "## Decorator"
   ]
  },
  {
   "cell_type": "code",
   "execution_count": 7,
   "metadata": {},
   "outputs": [
    {
     "name": "stdout",
     "output_type": "stream",
     "text": [
      "This is wrapper function\n",
      "this  is f1() function\n"
     ]
    }
   ],
   "source": [
    "def decorator_function(any_function):\n",
    "    def wrapper_function():\n",
    "        print('This is wrapper function')\n",
    "        any_function()\n",
    "    return wrapper_function\n",
    "def f1():\n",
    "    print('this  is f1() function')\n",
    "var=decorator_function(f1)\n",
    "var()"
   ]
  },
  {
   "cell_type": "code",
   "execution_count": 8,
   "metadata": {},
   "outputs": [
    {
     "name": "stdout",
     "output_type": "stream",
     "text": [
      "This is wrapper function\n",
      "this  is f1() function\n"
     ]
    }
   ],
   "source": [
    "# Shorcut method\n",
    "def decorator_function(any_function):\n",
    "    def wrapper_function():\n",
    "        print('This is wrapper function')\n",
    "        any_function()\n",
    "    return wrapper_function\n",
    "@decorator_function#Syntactic Sugar\n",
    "def f1():\n",
    "    print('this  is f1() function')\n",
    "f1()"
   ]
  },
  {
   "cell_type": "code",
   "execution_count": 9,
   "metadata": {},
   "outputs": [
    {
     "name": "stdout",
     "output_type": "stream",
     "text": [
      "This is wrapper function\n",
      "This is f1()\n",
      "This is wrapper function\n",
      "This is f2()\n"
     ]
    }
   ],
   "source": [
    "def decorator_function(any_function):\n",
    "    def wrapper_function():\n",
    "        print('This is wrapper function')\n",
    "        any_function()\n",
    "    return wrapper_function\n",
    "@decorator_function\n",
    "def f1():\n",
    "    print('This is f1()')\n",
    "@decorator_function\n",
    "def f2():\n",
    "    print('This is f2()')\n",
    "f1()\n",
    "f2()"
   ]
  },
  {
   "cell_type": "code",
   "execution_count": 10,
   "metadata": {},
   "outputs": [
    {
     "name": "stdout",
     "output_type": "stream",
     "text": [
      "This is wrapper function\n",
      "4\n"
     ]
    }
   ],
   "source": [
    "def decorator_function(any_function):\n",
    "    def wrapper_function(*args,**kwargs):\n",
    "        print('This is wrapper function')\n",
    "        any_function(*args,**kwargs)\n",
    "    return wrapper_function\n",
    "@decorator_function\n",
    "def f1(a):\n",
    "    print(a)\n",
    "f1(4)"
   ]
  },
  {
   "cell_type": "code",
   "execution_count": 11,
   "metadata": {},
   "outputs": [
    {
     "name": "stdout",
     "output_type": "stream",
     "text": [
      "This is wrapper function\n"
     ]
    },
    {
     "data": {
      "text/plain": [
       "5"
      ]
     },
     "execution_count": 11,
     "metadata": {},
     "output_type": "execute_result"
    }
   ],
   "source": [
    "def decorator_function(any_function):\n",
    "    def wrapper_function(*args,**kwargs):\n",
    "        \"\"\"This is wrapper function\"\"\"\n",
    "        print('This is wrapper function')\n",
    "        return any_function(*args,**kwargs)# <----------------------------\n",
    "    return wrapper_function\n",
    "@decorator_function\n",
    "def addition(a,b):\n",
    "    '''This is addition function'''\n",
    "    return a+b #  <----------------------------\n",
    "addition(2,3)"
   ]
  },
  {
   "cell_type": "code",
   "execution_count": 12,
   "metadata": {},
   "outputs": [
    {
     "name": "stdout",
     "output_type": "stream",
     "text": [
      "This is wrapper function\n",
      "wrapper_function\n"
     ]
    }
   ],
   "source": [
    "print(addition.__doc__)#here is the problem to print the doc string as well as name \n",
    "print(addition.__name__)#of addition()"
   ]
  },
  {
   "cell_type": "code",
   "execution_count": 13,
   "metadata": {},
   "outputs": [
    {
     "name": "stdout",
     "output_type": "stream",
     "text": [
      "This is wrapper function\n"
     ]
    },
    {
     "data": {
      "text/plain": [
       "5"
      ]
     },
     "execution_count": 13,
     "metadata": {},
     "output_type": "execute_result"
    }
   ],
   "source": [
    "from functools import wraps\n",
    "def decorator_function(any_function):\n",
    "    @wraps(any_function)\n",
    "    def wrapper_function(*args,**kwargs):\n",
    "        \"\"\"This is wrapper function\"\"\"\n",
    "        print('This is wrapper function')\n",
    "        return any_function(*args,**kwargs)\n",
    "    return wrapper_function\n",
    "@decorator_function\n",
    "def addition(a,b):\n",
    "    '''This is addition function'''\n",
    "    return a+b \n",
    "addition(2,3)"
   ]
  },
  {
   "cell_type": "code",
   "execution_count": 14,
   "metadata": {},
   "outputs": [
    {
     "name": "stdout",
     "output_type": "stream",
     "text": [
      "This is addition function\n",
      "addition\n"
     ]
    }
   ],
   "source": [
    "print(addition.__doc__)#Now it is correct here\n",
    "print(addition.__name__)"
   ]
  },
  {
   "cell_type": "markdown",
   "metadata": {},
   "source": [
    "## 25th,February 2020"
   ]
  },
  {
   "cell_type": "code",
   "execution_count": 15,
   "metadata": {},
   "outputs": [],
   "source": [
    "## Different ways of assigning arguments to parameter"
   ]
  },
  {
   "cell_type": "code",
   "execution_count": 16,
   "metadata": {},
   "outputs": [
    {
     "data": {
      "text/plain": [
       "(94566897169312, 94566897169312)"
      ]
     },
     "execution_count": 16,
     "metadata": {},
     "output_type": "execute_result"
    }
   ],
   "source": [
    "id(5),id(5)"
   ]
  },
  {
   "cell_type": "code",
   "execution_count": 2,
   "metadata": {},
   "outputs": [
    {
     "name": "stdout",
     "output_type": "stream",
     "text": [
      "2126108732976\n",
      "2126108733104\n"
     ]
    }
   ],
   "source": [
    "a=257\n",
    "b=257\n",
    "print(id(a))\n",
    "print(id(b))"
   ]
  },
  {
   "cell_type": "markdown",
   "metadata": {},
   "source": [
    "## 04th,March 2020"
   ]
  },
  {
   "cell_type": "raw",
   "metadata": {},
   "source": [
    "Generator in python are special routine that can be used to control the iteration behavior"
   ]
  },
  {
   "cell_type": "code",
   "execution_count": 18,
   "metadata": {},
   "outputs": [
    {
     "name": "stdout",
     "output_type": "stream",
     "text": [
      "[0, 1, 4, 9, 16, 25, 36, 49, 64, 81]\n"
     ]
    }
   ],
   "source": [
    "sq=[]\n",
    "for i in range(10):\n",
    "    sq.append(i**2)\n",
    "print(sq)"
   ]
  },
  {
   "cell_type": "code",
   "execution_count": 19,
   "metadata": {},
   "outputs": [
    {
     "name": "stdout",
     "output_type": "stream",
     "text": [
      "Python\n",
      "Java\n",
      "c++\n"
     ]
    }
   ],
   "source": [
    "#Generator function\n",
    "#Generator function returns a elemnent one by one from a sequence\n",
    "def generator_fun():\n",
    "    yield 'Python'\n",
    "    yield 'Java'\n",
    "    yield 'c++'\n",
    "g=generator_fun()#It returns the generator object\n",
    "print(next(g))\n",
    "print(next(g))\n",
    "print(next(g))"
   ]
  },
  {
   "cell_type": "code",
   "execution_count": 20,
   "metadata": {},
   "outputs": [
    {
     "name": "stdout",
     "output_type": "stream",
     "text": [
      "State:  1\n",
      "1\n",
      "State:  2\n",
      "2\n",
      "State:  3\n",
      "3\n"
     ]
    }
   ],
   "source": [
    "# Generator freezes the state of function\n",
    "def generator_fun():\n",
    "    n=1\n",
    "    print('State: ',n)\n",
    "    yield n\n",
    "    n+=1\n",
    "    print('State: ',n)\n",
    "    yield n\n",
    "    n+=1\n",
    "    print('State: ',n)\n",
    "    yield n\n",
    "g=generator_fun()\n",
    "print(next(g))\n",
    "print(next(g))\n",
    "print(next(g))"
   ]
  },
  {
   "cell_type": "code",
   "execution_count": 21,
   "metadata": {},
   "outputs": [
    {
     "name": "stdout",
     "output_type": "stream",
     "text": [
      "State  1\n",
      "1\n",
      "State  2\n",
      "2\n",
      "State  3\n",
      "3\n"
     ]
    }
   ],
   "source": [
    "#Using for loop inside generator\n",
    "def generator_fun():\n",
    "    for i in range(1,4):\n",
    "        print('State ',i)\n",
    "        yield i\n",
    "for j in generator_fun():\n",
    "    print(j)"
   ]
  },
  {
   "cell_type": "code",
   "execution_count": 3,
   "metadata": {},
   "outputs": [
    {
     "name": "stdout",
     "output_type": "stream",
     "text": [
      "Enter range : 5\n",
      "[1, 4, 9, 16, 25]\n"
     ]
    }
   ],
   "source": [
    "# WAP to get square of first n natural no.\n",
    "def generator(n):\n",
    "    for i in range(1,n+1):\n",
    "        yield i\n",
    "        if i==n:\n",
    "            return\n",
    "        \n",
    "r=int(input('Enter range : '))\n",
    "sq=[]\n",
    "for j in generator(r):\n",
    "    sq.append(j**2)\n",
    "print(sq)"
   ]
  },
  {
   "cell_type": "code",
   "execution_count": 7,
   "metadata": {},
   "outputs": [
    {
     "name": "stdout",
     "output_type": "stream",
     "text": [
      "28\n"
     ]
    }
   ],
   "source": [
    "#Check for memory usage\n",
    "import sys\n",
    "print(sys.getsizeof(3))"
   ]
  },
  {
   "cell_type": "code",
   "execution_count": 8,
   "metadata": {},
   "outputs": [
    {
     "data": {
      "text/plain": [
       "51"
      ]
     },
     "execution_count": 8,
     "metadata": {},
     "output_type": "execute_result"
    }
   ],
   "source": [
    "sys.getsizeof('hi')"
   ]
  },
  {
   "cell_type": "code",
   "execution_count": 9,
   "metadata": {},
   "outputs": [
    {
     "name": "stdout",
     "output_type": "stream",
     "text": [
      "136\n"
     ]
    }
   ],
   "source": [
    "sq=[i**2 for i in range(r)]\n",
    "print(sys.getsizeof(sq))\n"
   ]
  },
  {
   "cell_type": "markdown",
   "metadata": {},
   "source": [
    "## HOME WORK"
   ]
  },
  {
   "cell_type": "markdown",
   "metadata": {},
   "source": [
    "## FIBONACCI SERIES,FACTORIAL"
   ]
  },
  {
   "cell_type": "code",
   "execution_count": 26,
   "metadata": {},
   "outputs": [
    {
     "name": "stdout",
     "output_type": "stream",
     "text": [
      "Enter a no. : 5\n",
      "120\n"
     ]
    }
   ],
   "source": [
    "#Factorial series using generator\n",
    "def factorial(n):\n",
    "    factorial=1\n",
    "    if n<2:\n",
    "        yield 1\n",
    "    else:\n",
    "        for i in range(n):\n",
    "            factorial=n*factorial\n",
    "            n-=1\n",
    "        yield factorial\n",
    "for i in factorial(int(input('Enter a no. : '))):\n",
    "    print(i)"
   ]
  },
  {
   "cell_type": "code",
   "execution_count": 21,
   "metadata": {},
   "outputs": [
    {
     "name": "stdout",
     "output_type": "stream",
     "text": [
      "Limit5\n",
      "0 1 1 2 3 "
     ]
    }
   ],
   "source": [
    "#Fibonacci using generator\n",
    "def fibonacci(n):\n",
    "    a,b=0,1\n",
    "    while a<n:\n",
    "        yield a\n",
    "        a,b=b,a+b\n",
    "for j in fibonacci(int(input('Limit'))):print(j,end=' ')"
   ]
  },
  {
   "cell_type": "code",
   "execution_count": 2,
   "metadata": {},
   "outputs": [
    {
     "name": "stdout",
     "output_type": "stream",
     "text": [
      "Enter the limint : 5\n",
      "0 1 1 2 3 "
     ]
    }
   ],
   "source": [
    "#Fibonacci using generator\n",
    "def fibonacci(limit):\n",
    "    a,b=0,1\n",
    "    for i in range(limit):\n",
    "        yield a\n",
    "        a,b=b,a+b\n",
    "for i in fibonacci(int(input('Enter the limint : '))):print(i,end=' ')"
   ]
  },
  {
   "cell_type": "markdown",
   "metadata": {},
   "source": [
    "## class will reopen on 12th,March 2020"
   ]
  },
  {
   "cell_type": "raw",
   "metadata": {},
   "source": [
    "A decorator is a function that takes a function and extend the behaviour of later \n",
    "function without explicitly modyfying that function\n",
    " - Decorator provides a simple syntax for calling higher-order functions."
   ]
  },
  {
   "cell_type": "raw",
   "metadata": {},
   "source": [
    "#First class Function in Python\n",
    "    -In  python,functions are the first class objects,i.e,\n",
    "    they have all the rights as other object are having in the programmming langurage.\n",
    "    \n",
    "    "
   ]
  },
  {
   "cell_type": "code",
   "execution_count": 5,
   "metadata": {},
   "outputs": [
    {
     "name": "stdout",
     "output_type": "stream",
     "text": [
      "144\n"
     ]
    }
   ],
   "source": [
    "#Assigning functions to a variable\n",
    "def square(n):\n",
    "    return n**2\n",
    "sq=square#passing function to a variable\n",
    "print(square(12))"
   ]
  },
  {
   "cell_type": "code",
   "execution_count": 6,
   "metadata": {},
   "outputs": [
    {
     "name": "stdout",
     "output_type": "stream",
     "text": [
      "<function square at 0x7ff0002e53b0>\n",
      "144\n"
     ]
    }
   ],
   "source": [
    "print(sq)\n",
    "print(sq(12))"
   ]
  },
  {
   "cell_type": "code",
   "execution_count": 8,
   "metadata": {},
   "outputs": [
    {
     "name": "stdout",
     "output_type": "stream",
     "text": [
      "15\n"
     ]
    }
   ],
   "source": [
    "#Passing function as argument to another function\n",
    "def summation(arr):\n",
    "    return sum(arr)\n",
    "def cube(arr):\n",
    "    c=[i**3 for i in arr]\n",
    "    return c\n",
    "def my_func(f,*args):\n",
    "    return f(args)\n",
    "res=my_func(summation,1,2,3,4,5)\n",
    "print(res)"
   ]
  },
  {
   "cell_type": "code",
   "execution_count": 9,
   "metadata": {},
   "outputs": [
    {
     "name": "stdout",
     "output_type": "stream",
     "text": [
      "[1, 8, 27, 64, 125]\n"
     ]
    }
   ],
   "source": [
    "res=my_func(cube,1,2,3,4,5)\n",
    "print(res)"
   ]
  },
  {
   "cell_type": "markdown",
   "metadata": {},
   "source": [
    "## Nested Functions\n",
    "        -function inside function is called nested function"
   ]
  },
  {
   "cell_type": "code",
   "execution_count": 17,
   "metadata": {},
   "outputs": [
    {
     "name": "stdout",
     "output_type": "stream",
     "text": [
      "11\n",
      "-1\n"
     ]
    }
   ],
   "source": [
    "def maths(x,y):#Parent function/closing function,x,y are local variable of enclosing function\n",
    "    def add():#Inner(nested) function\n",
    "        print(x+y)\n",
    "    def sub():\n",
    "        print(x-y)\n",
    "    add()\n",
    "    sub()\n",
    "maths(5,6)"
   ]
  },
  {
   "cell_type": "code",
   "execution_count": 19,
   "metadata": {},
   "outputs": [
    {
     "ename": "TypeError",
     "evalue": "add() missing 1 required positional argument: 'array'",
     "output_type": "error",
     "traceback": [
      "\u001b[0;31m---------------------------------------------------------------------------\u001b[0m",
      "\u001b[0;31mTypeError\u001b[0m                                 Traceback (most recent call last)",
      "\u001b[0;32m<ipython-input-19-6bbf3778ed84>\u001b[0m in \u001b[0;36m<module>\u001b[0;34m\u001b[0m\n\u001b[0;32m----> 1\u001b[0;31m \u001b[0madd\u001b[0m\u001b[0;34m(\u001b[0m\u001b[0;34m)\u001b[0m\u001b[0;31m#We can't call it outside of parent function   <-------------------\u001b[0m\u001b[0;34m\u001b[0m\u001b[0;34m\u001b[0m\u001b[0m\n\u001b[0m",
      "\u001b[0;31mTypeError\u001b[0m: add() missing 1 required positional argument: 'array'"
     ]
    }
   ],
   "source": [
    "add()#We can't call it outside of parent function   <-------------------"
   ]
  },
  {
   "cell_type": "markdown",
   "metadata": {},
   "source": [
    "## Closure Function"
   ]
  },
  {
   "cell_type": "code",
   "execution_count": null,
   "metadata": {},
   "outputs": [],
   "source": [
    "# A closure is function object that remembers values in enclosing scopes even if they are\n",
    "# not present in memory i.e,a closure is a way of keeping alive a object even when the\n",
    "# function has returned"
   ]
  },
  {
   "cell_type": "code",
   "execution_count": 24,
   "metadata": {},
   "outputs": [
    {
     "name": "stdout",
     "output_type": "stream",
     "text": [
      "Enter your choice : 6\n",
      "-1\n"
     ]
    }
   ],
   "source": [
    "def maths(n):\n",
    "    def add(x,y):\n",
    "        return x+y\n",
    "    def sub(x,y):\n",
    "        return x-y\n",
    "    if n==0:\n",
    "        return add\n",
    "    else:\n",
    "        return sub\n",
    "c=int(input('Enter your choice : '))\n",
    "res=maths(c)\n",
    "print(res(3,4))"
   ]
  },
  {
   "cell_type": "markdown",
   "metadata": {},
   "source": [
    "## Decorator"
   ]
  },
  {
   "cell_type": "code",
   "execution_count": 30,
   "metadata": {},
   "outputs": [
    {
     "name": "stdout",
     "output_type": "stream",
     "text": [
      "Hello Everyone\n",
      "Welcome to Python class\n"
     ]
    }
   ],
   "source": [
    "def my_decorator(func):\n",
    "    def wrapper():\n",
    "        print('Hello Everyone')\n",
    "        return func()\n",
    "    return wrapper#<---------------------------------------------\n",
    "def greeting():\n",
    "    return 'Welcome to Python class'\n",
    "res=my_decorator(greeting)\n",
    "print(res())#<--------------------------------"
   ]
  },
  {
   "cell_type": "code",
   "execution_count": 28,
   "metadata": {},
   "outputs": [
    {
     "name": "stdout",
     "output_type": "stream",
     "text": [
      "Hello Everyone\n",
      "Welcome to Python class\n"
     ]
    }
   ],
   "source": [
    "def my_decorator(func):\n",
    "    def wrapper():\n",
    "        print('Hello Everyone')\n",
    "        return func()\n",
    "    return wrapper()#<---------------------------------------------------\n",
    "def greeting():\n",
    "    return 'Welcome to Python class'\n",
    "res=my_decorator(greeting)\n",
    "print(res)#<--------------------------------------------"
   ]
  },
  {
   "cell_type": "code",
   "execution_count": 35,
   "metadata": {},
   "outputs": [
    {
     "name": "stdout",
     "output_type": "stream",
     "text": [
      "Hello Everyone\n",
      "Welcome to Python class\n"
     ]
    }
   ],
   "source": [
    "#Python Implementation of decorator :Use @\n",
    "def my_decorator(func):\n",
    "    def wrapper():\n",
    "        print('Hello Everyone')\n",
    "        return func()\n",
    "    return wrapper\n",
    "@my_decorator#it means ---------------------------->  my_decorator(greeting)\n",
    "def greeting():\n",
    "    return 'Welcome to Python class'\n",
    "res=greeting()\n",
    "print(res)"
   ]
  },
  {
   "cell_type": "markdown",
   "metadata": {},
   "source": [
    "## NOTE: Multiple decorator uses bottom up approach"
   ]
  },
  {
   "cell_type": "code",
   "execution_count": 42,
   "metadata": {},
   "outputs": [
    {
     "name": "stdout",
     "output_type": "stream",
     "text": [
      "['Welcome', 'To', 'Python', 'Class']\n"
     ]
    }
   ],
   "source": [
    "#Multiple Decorator\n",
    "def upper_deco(func):\n",
    "    def wrapper():\n",
    "        return func().title()\n",
    "    return wrapper\n",
    "def split_deco(func):\n",
    "    def wrapper():\n",
    "        return func().split()\n",
    "    return wrapper\n",
    "@split_deco#01 ,Firsty will run split_deco then upper_deco\n",
    "@upper_deco#02\n",
    "def greeting():\n",
    "    return 'welcome to python class'\n",
    "res=greeting()\n",
    "print(res)"
   ]
  },
  {
   "cell_type": "markdown",
   "metadata": {},
   "source": [
    "## go to hackerrank to solve the problem"
   ]
  },
  {
   "cell_type": "markdown",
   "metadata": {},
   "source": [
    "## class will reopen on 12th,March 2020"
   ]
  },
  {
   "cell_type": "markdown",
   "metadata": {},
   "source": [
    "# ---------------------pwskills-------------------"
   ]
  },
  {
   "cell_type": "code",
   "execution_count": 18,
   "id": "790b5b3c-2db7-4527-b2c2-35a0e615ed5f",
   "metadata": {},
   "outputs": [
    {
     "data": {
      "text/plain": [
       "range(0, 10)"
      ]
     },
     "execution_count": 18,
     "metadata": {},
     "output_type": "execute_result"
    }
   ],
   "source": [
    "range(10)"
   ]
  },
  {
   "cell_type": "code",
   "execution_count": 19,
   "id": "d41e477d-3f01-4765-b1da-cc1788108cd7",
   "metadata": {},
   "outputs": [
    {
     "name": "stdout",
     "output_type": "stream",
     "text": [
      "0\n",
      "1\n",
      "2\n",
      "3\n",
      "4\n",
      "5\n",
      "6\n",
      "7\n",
      "8\n",
      "9\n"
     ]
    }
   ],
   "source": [
    "for i in range(10):\n",
    "    print(i)"
   ]
  },
  {
   "cell_type": "code",
   "execution_count": 20,
   "id": "c3a2c39e-0713-4a8e-95fe-5c3333235777",
   "metadata": {},
   "outputs": [],
   "source": [
    "def test_fib(n):\n",
    "    a,b = 0,1\n",
    "    for i in range(n):\n",
    "        yield a \n",
    "        a,b = b , a+b"
   ]
  },
  {
   "cell_type": "code",
   "execution_count": 22,
   "id": "c1417f7c-f2a9-4a94-810c-368c24588e42",
   "metadata": {},
   "outputs": [
    {
     "name": "stdout",
     "output_type": "stream",
     "text": [
      "0\n",
      "1\n",
      "1\n",
      "2\n",
      "3\n",
      "5\n",
      "8\n",
      "13\n",
      "21\n",
      "34\n"
     ]
    }
   ],
   "source": [
    "for i in test_fib(10):\n",
    "    print(i)\n",
    "    "
   ]
  },
  {
   "cell_type": "code",
   "execution_count": 23,
   "id": "80f2150d-3c2d-4646-9519-6c67151d5e56",
   "metadata": {},
   "outputs": [],
   "source": [
    "def test_fib1():\n",
    "    a,b = 0,1\n",
    "    while True:\n",
    "        yield a \n",
    "        a,b = b , a+b"
   ]
  },
  {
   "cell_type": "code",
   "execution_count": null,
   "id": "7e17495c-f51e-4fac-8010-e41f0a6522d4",
   "metadata": {},
   "outputs": [],
   "source": []
  },
  {
   "cell_type": "code",
   "execution_count": 24,
   "id": "ca8df5fd-f172-4f9d-80ba-4991e8338bd5",
   "metadata": {},
   "outputs": [],
   "source": [
    "fib = test_fib1()"
   ]
  },
  {
   "cell_type": "code",
   "execution_count": 39,
   "id": "4e162fb5-7339-499e-b405-f4becddd4392",
   "metadata": {},
   "outputs": [
    {
     "data": {
      "text/plain": [
       "generator"
      ]
     },
     "execution_count": 39,
     "metadata": {},
     "output_type": "execute_result"
    }
   ],
   "source": [
    "type(fib)"
   ]
  },
  {
   "cell_type": "code",
   "execution_count": 25,
   "id": "1fde5b57-69bc-4505-a472-91aba026cca8",
   "metadata": {},
   "outputs": [
    {
     "name": "stdout",
     "output_type": "stream",
     "text": [
      "0\n",
      "1\n",
      "1\n",
      "2\n",
      "3\n",
      "5\n",
      "8\n",
      "13\n",
      "21\n",
      "34\n"
     ]
    }
   ],
   "source": [
    "for i in range(10):\n",
    "    print(next(fib))"
   ]
  },
  {
   "cell_type": "code",
   "execution_count": 26,
   "id": "4f5d7295-716a-49a3-90d7-f1124a1fd79f",
   "metadata": {},
   "outputs": [],
   "source": [
    "s = \"sudh\""
   ]
  },
  {
   "cell_type": "code",
   "execution_count": 27,
   "id": "79538468-b9e9-4d74-b57e-a9168afe86f7",
   "metadata": {},
   "outputs": [
    {
     "name": "stdout",
     "output_type": "stream",
     "text": [
      "s\n",
      "u\n",
      "d\n",
      "h\n"
     ]
    }
   ],
   "source": [
    "for i in s :\n",
    "    print(i)"
   ]
  },
  {
   "cell_type": "code",
   "execution_count": 28,
   "id": "1077c250-58b5-4fa2-845a-2c25d18c574b",
   "metadata": {},
   "outputs": [
    {
     "data": {
      "text/plain": [
       "'sudh'"
      ]
     },
     "execution_count": 28,
     "metadata": {},
     "output_type": "execute_result"
    }
   ],
   "source": [
    "s "
   ]
  },
  {
   "cell_type": "code",
   "execution_count": 29,
   "id": "a9c4b639-24b4-46e1-8758-23316f1025a4",
   "metadata": {},
   "outputs": [
    {
     "ename": "TypeError",
     "evalue": "'str' object is not an iterator",
     "output_type": "error",
     "traceback": [
      "\u001b[0;31m---------------------------------------------------------------------------\u001b[0m",
      "\u001b[0;31mTypeError\u001b[0m                                 Traceback (most recent call last)",
      "Cell \u001b[0;32mIn[29], line 1\u001b[0m\n\u001b[0;32m----> 1\u001b[0m \u001b[38;5;28;43mnext\u001b[39;49m\u001b[43m(\u001b[49m\u001b[43ms\u001b[49m\u001b[43m)\u001b[49m\n",
      "\u001b[0;31mTypeError\u001b[0m: 'str' object is not an iterator"
     ]
    }
   ],
   "source": [
    "next(s)"
   ]
  },
  {
   "cell_type": "code",
   "execution_count": 30,
   "id": "3bdfcdd8-81a5-4c8d-8910-26a54c0681b4",
   "metadata": {},
   "outputs": [],
   "source": [
    "s1 = iter(s)"
   ]
  },
  {
   "cell_type": "code",
   "execution_count": 35,
   "id": "7c162501-8326-478e-aa7a-d287899e9d4a",
   "metadata": {},
   "outputs": [
    {
     "data": {
      "text/plain": [
       "str_iterator"
      ]
     },
     "execution_count": 35,
     "metadata": {},
     "output_type": "execute_result"
    }
   ],
   "source": [
    "type(s1)"
   ]
  },
  {
   "cell_type": "code",
   "execution_count": 31,
   "id": "bc92cfd9-b369-4d8b-9955-1a495c8fa468",
   "metadata": {},
   "outputs": [
    {
     "data": {
      "text/plain": [
       "'s'"
      ]
     },
     "execution_count": 31,
     "metadata": {},
     "output_type": "execute_result"
    }
   ],
   "source": [
    "next(s1)"
   ]
  },
  {
   "cell_type": "code",
   "execution_count": 32,
   "id": "69391fc1-7e67-4a92-b849-303430c93617",
   "metadata": {},
   "outputs": [
    {
     "data": {
      "text/plain": [
       "'u'"
      ]
     },
     "execution_count": 32,
     "metadata": {},
     "output_type": "execute_result"
    }
   ],
   "source": [
    "next(s1)"
   ]
  },
  {
   "cell_type": "code",
   "execution_count": 33,
   "id": "f3635e00-d9d7-43b7-959f-6a540e1228d8",
   "metadata": {},
   "outputs": [
    {
     "data": {
      "text/plain": [
       "'d'"
      ]
     },
     "execution_count": 33,
     "metadata": {},
     "output_type": "execute_result"
    }
   ],
   "source": [
    "next(s1)"
   ]
  },
  {
   "cell_type": "code",
   "execution_count": 34,
   "id": "39de214f-f9aa-4ef9-be55-101f0a19c209",
   "metadata": {},
   "outputs": [
    {
     "data": {
      "text/plain": [
       "'h'"
      ]
     },
     "execution_count": 34,
     "metadata": {},
     "output_type": "execute_result"
    }
   ],
   "source": [
    "next(s1)"
   ]
  },
  {
   "cell_type": "code",
   "execution_count": 36,
   "id": "06bc8570-afc8-496b-afa9-ad23889eb178",
   "metadata": {},
   "outputs": [
    {
     "ename": "StopIteration",
     "evalue": "",
     "output_type": "error",
     "traceback": [
      "\u001b[0;31m---------------------------------------------------------------------------\u001b[0m",
      "\u001b[0;31mStopIteration\u001b[0m                             Traceback (most recent call last)",
      "Cell \u001b[0;32mIn[36], line 1\u001b[0m\n\u001b[0;32m----> 1\u001b[0m \u001b[38;5;28;43mnext\u001b[39;49m\u001b[43m(\u001b[49m\u001b[43ms1\u001b[49m\u001b[43m)\u001b[49m\n",
      "\u001b[0;31mStopIteration\u001b[0m: "
     ]
    }
   ],
   "source": [
    "next(s1)"
   ]
  },
  {
   "cell_type": "code",
   "execution_count": 37,
   "id": "892f5f23-95a4-479d-9cfc-fdf5741fa030",
   "metadata": {},
   "outputs": [
    {
     "ename": "TypeError",
     "evalue": "'int' object is not an iterator",
     "output_type": "error",
     "traceback": [
      "\u001b[0;31m---------------------------------------------------------------------------\u001b[0m",
      "\u001b[0;31mTypeError\u001b[0m                                 Traceback (most recent call last)",
      "Cell \u001b[0;32mIn[37], line 1\u001b[0m\n\u001b[0;32m----> 1\u001b[0m \u001b[38;5;28;43mnext\u001b[39;49m\u001b[43m(\u001b[49m\u001b[38;5;241;43m45\u001b[39;49m\u001b[43m)\u001b[49m\n",
      "\u001b[0;31mTypeError\u001b[0m: 'int' object is not an iterator"
     ]
    }
   ],
   "source": [
    "next(45)"
   ]
  },
  {
   "cell_type": "code",
   "execution_count": 38,
   "id": "be67d7df-3876-4165-af36-04414627fa94",
   "metadata": {},
   "outputs": [
    {
     "ename": "TypeError",
     "evalue": "'int' object is not iterable",
     "output_type": "error",
     "traceback": [
      "\u001b[0;31m---------------------------------------------------------------------------\u001b[0m",
      "\u001b[0;31mTypeError\u001b[0m                                 Traceback (most recent call last)",
      "Cell \u001b[0;32mIn[38], line 1\u001b[0m\n\u001b[0;32m----> 1\u001b[0m \u001b[38;5;28;43miter\u001b[39;49m\u001b[43m(\u001b[49m\u001b[38;5;241;43m45\u001b[39;49m\u001b[43m)\u001b[49m\n",
      "\u001b[0;31mTypeError\u001b[0m: 'int' object is not iterable"
     ]
    }
   ],
   "source": [
    "iter(45)"
   ]
  },
  {
   "cell_type": "code",
   "execution_count": 43,
   "id": "e2be3898-13a1-47d1-ba93-872940d63300",
   "metadata": {},
   "outputs": [],
   "source": [
    "def count_test(n):\n",
    "    count = 1 \n",
    "    while count <= n :\n",
    "        yield count\n",
    "        count = count + 1"
   ]
  },
  {
   "cell_type": "code",
   "execution_count": 44,
   "id": "ec88e0f2-ccd3-4a31-bd77-b58ae616c9c2",
   "metadata": {},
   "outputs": [],
   "source": [
    "c = count_test(5)\n"
   ]
  },
  {
   "cell_type": "code",
   "execution_count": 46,
   "id": "c924704b-c9ff-40fc-a7f3-5d58c0f24ded",
   "metadata": {},
   "outputs": [
    {
     "data": {
      "text/plain": [
       "generator"
      ]
     },
     "execution_count": 46,
     "metadata": {},
     "output_type": "execute_result"
    }
   ],
   "source": [
    "type(c)"
   ]
  },
  {
   "cell_type": "code",
   "execution_count": 45,
   "id": "7be992a0-fec0-414c-9228-3ef12706803f",
   "metadata": {},
   "outputs": [
    {
     "name": "stdout",
     "output_type": "stream",
     "text": [
      "1\n",
      "2\n",
      "3\n",
      "4\n",
      "5\n"
     ]
    }
   ],
   "source": [
    "for i in c :\n",
    "    print(i)"
   ]
  },
  {
   "cell_type": "code",
   "execution_count": null,
   "id": "1d227383-67f6-4dc0-8113-6356e5b2eb8a",
   "metadata": {},
   "outputs": [],
   "source": []
  },
  {
   "cell_type": "code",
   "execution_count": null,
   "id": "b9250959-11b4-4c8c-b1e5-b5d35f04d5fc",
   "metadata": {},
   "outputs": [],
   "source": []
  },
  {
   "cell_type": "code",
   "execution_count": null,
   "metadata": {},
   "outputs": [],
   "source": []
  }
 ],
 "metadata": {
  "kernelspec": {
   "display_name": "Python 3 (ipykernel)",
   "language": "python",
   "name": "python3"
  },
  "language_info": {
   "codemirror_mode": {
    "name": "ipython",
    "version": 3
   },
   "file_extension": ".py",
   "mimetype": "text/x-python",
   "name": "python",
   "nbconvert_exporter": "python",
   "pygments_lexer": "ipython3",
   "version": "3.9.13"
  }
 },
 "nbformat": 4,
 "nbformat_minor": 2
}
