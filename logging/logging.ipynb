{
 "cells": [
  {
   "cell_type": "markdown",
   "metadata": {},
   "source": [
    "<!DOCTYPE html>\n",
    "<html lang=\"en\">\n",
    "<head>\n",
    "    <meta charset=\"UTF-8\">\n",
    "    <meta name=\"viewport\" content=\"width=device-width, initial-scale=1.0\">\n",
    "    <title>Python Logging</title>\n",
    "</head>\n",
    "<body>\n",
    "    <h1>Python Logging</h1>\n",
    "    <p>\n",
    "        It is highly recommended to store complete application flow and exception information to a file. \n",
    "        This process of writing data to the file is called <strong>logging</strong>.\n",
    "    </p>\n",
    "    <h2>The main advantages of logging are:</h2>\n",
    "    <ol>\n",
    "        <li>We can use log files while performing debugging.</li>\n",
    "        <li>We can generate utilization reports like the number of requests per day, etc.</li>\n",
    "    </ol>\n",
    "</body>\n",
    "</html>\n"
   ]
  },
  {
   "cell_type": "markdown",
   "metadata": {},
   "source": [
    "<!DOCTYPE html>\n",
    "<html lang=\"en\">\n",
    "<head>\n",
    "    <meta charset=\"UTF-8\">\n",
    "    <meta name=\"viewport\" content=\"width=device-width, initial-scale=1.0\">\n",
    "    <title>Logging Levels</title>\n",
    "</head>\n",
    "<body>\n",
    "    <h1>Logging Levels</h1>\n",
    "    <ol>\n",
    "        <li>\n",
    "            <strong>CRITICAL (50):</strong> \n",
    "            Represents a very serious problem that needs high attention like Complete Application Failure.\n",
    "        </li>\n",
    "        <li>\n",
    "            <strong>ERROR (40):</strong> \n",
    "            Represents a serious error. Some part of the application is not working properly.\n",
    "        </li>\n",
    "        <li>\n",
    "            <strong>WARNING (30):</strong> \n",
    "            Represents a warning message, some caution needed. It is an alert to the programmer.\n",
    "        </li>\n",
    "        <li>\n",
    "            <strong>INFO (20):</strong>\n",
    "            Represents a message with some important information.\n",
    "        </li>\n",
    "        <li>\n",
    "            <strong>DEBUG (10):</strong>\n",
    "            Represents a message with debugging information.\n",
    "        </li>\n",
    "        <li>\n",
    "            <strong>NOTSET (0):</strong>\n",
    "            Represents that level is not set.\n",
    "        </li>\n",
    "    </ol>\n",
    "</body>\n",
    "</html>\n"
   ]
  },
  {
   "cell_type": "code",
   "execution_count": 5,
   "metadata": {},
   "outputs": [
    {
     "name": "stdout",
     "output_type": "stream",
     "text": [
      "************************************logging demo************************************\n"
     ]
    }
   ],
   "source": [
    "import logging\n",
    "\n",
    "logging.basicConfig(filename='log.txt',level=logging.WARNING) # here logging.WARNING : means it will save the log for warning,error and critical \n",
    "\n",
    "print('************************************logging demo************************************')\n",
    "\n",
    "logging.critical('This is critical message')\n",
    "logging.error('This is error message') \n",
    "logging.warning('This is warning message')\n",
    "logging.info('This is info message') \n",
    "logging.debug('This is debug message') "
   ]
  },
  {
   "cell_type": "code",
   "execution_count": 1,
   "metadata": {},
   "outputs": [
    {
     "name": "stdout",
     "output_type": "stream",
     "text": [
      "************************************log written into the log.txtt************************************\n"
     ]
    }
   ],
   "source": [
    "import logging\n",
    "\n",
    "filename = 'log.txtt'\n",
    "logging.basicConfig(filename=filename,level=logging.DEBUG) # here logging.DEBUG : means it will save the log for debug,info,warning,error and critical\n",
    "\n",
    "print(f'************************************log written into the {filename}************************************')\n",
    "\n",
    "logging.critical('This is critical message')\n",
    "logging.error('This is error message') \n",
    "logging.warning('This is warning message')\n",
    "logging.info('This is info message') \n",
    "logging.debug('This is debug message') "
   ]
  },
  {
   "cell_type": "code",
   "execution_count": 1,
   "metadata": {},
   "outputs": [
    {
     "name": "stdout",
     "output_type": "stream",
     "text": [
      "************************************log written into the log.txtt************************************\n",
      "CRITICAL:root:This is critical message\n",
      "ERROR:root:This is error message\n",
      "WARNING:root:This is warning message\n",
      "INFO:root:This is info message\n",
      "DEBUG:root:This is debug message\n",
      "\n"
     ]
    }
   ],
   "source": [
    "import logging\n",
    "\n",
    "filename = 'log.txtt'\n",
    "logging.basicConfig(filename=filename,\n",
    "                    level=logging.DEBUG,\n",
    "                    # filemode='a',# to append the logs in the existing log file \n",
    "                    filemode='w',# to over write \n",
    "                    \n",
    "                    )\n",
    "\n",
    "print(f'************************************log written into the {filename}************************************')\n",
    "\n",
    "logging.critical('This is critical message')\n",
    "logging.error('This is error message') \n",
    "logging.warning('This is warning message')\n",
    "logging.info('This is info message') \n",
    "logging.debug('This is debug message') \n",
    "\n",
    "with open('log.txtt','r') as f:\n",
    "    data = f.read()\n",
    "    print(data)"
   ]
  },
  {
   "cell_type": "code",
   "execution_count": 2,
   "metadata": {},
   "outputs": [
    {
     "name": "stderr",
     "output_type": "stream",
     "text": [
      "CRITICAL:root:This is critical message\n",
      "ERROR:root:This is error message\n",
      "WARNING:root:This is warning message\n"
     ]
    },
    {
     "name": "stdout",
     "output_type": "stream",
     "text": [
      "************************************log written onto the console************************************\n"
     ]
    }
   ],
   "source": [
    "import logging\n",
    "\n",
    "filename = 'log.txtt'\n",
    "logging.basicConfig(\n",
    "                    # filename=filename, # if we do not specify the filename then log will be displayed at console\n",
    "                    # level=logging.DEBUG, # default value of level is WARNING ,if we do not specify that\n",
    "                    # filemode='a',# If we do not specify the filemode then default value will be a i.e append mode \n",
    "                    )\n",
    "\n",
    "print(f'************************************log written onto the console************************************')\n",
    "\n",
    "logging.critical('This is critical message')\n",
    "logging.error('This is error message') \n",
    "logging.warning('This is warning message')\n",
    "logging.info('This is info message') \n",
    "logging.debug('This is debug message') \n",
    "\n"
   ]
  },
  {
   "cell_type": "markdown",
   "metadata": {
    "vscode": {
     "languageId": "html"
    }
   },
   "source": [
    "<h1>how to format log messages</h1>"
   ]
  },
  {
   "cell_type": "code",
   "execution_count": 2,
   "metadata": {},
   "outputs": [
    {
     "name": "stderr",
     "output_type": "stream",
     "text": [
      "CRITICAL, root, This is critical message\n",
      "ERROR, root, This is error message\n",
      "WARNING, root, This is warning message\n"
     ]
    },
    {
     "name": "stdout",
     "output_type": "stream",
     "text": [
      "************************************log is showing onto the console************************************\n"
     ]
    }
   ],
   "source": [
    "import logging\n",
    "\n",
    "filename = 'log.txtt'\n",
    "logging.basicConfig(\n",
    "    # format='%(levelname)s'# levelname : only level will be displayed \n",
    "    # format='%(levelname)s:%(name)s:%(message)s'# levelname:logger name:message will be displayed \n",
    "    format='%(levelname)s, %(name)s, %(message)s'\n",
    "    \n",
    "    \n",
    "    \n",
    "    )\n",
    "\n",
    "print(f'************************************log is showing onto the console************************************')\n",
    "\n",
    "logging.critical('This is critical message')\n",
    "logging.error('This is error message') \n",
    "logging.warning('This is warning message')\n",
    "logging.info('This is info message') \n",
    "logging.debug('This is debug message') \n",
    "\n"
   ]
  },
  {
   "cell_type": "code",
   "execution_count": 1,
   "metadata": {},
   "outputs": [
    {
     "name": "stderr",
     "output_type": "stream",
     "text": [
      "CRITICAL:root:This is critical message:process-id986906:line_no 10\n",
      "ERROR:root:This is error message:process-id986906:line_no 11\n",
      "WARNING:root:This is warning message:process-id986906:line_no 12\n"
     ]
    },
    {
     "name": "stdout",
     "output_type": "stream",
     "text": [
      "************************************log is showing onto the console************************************\n"
     ]
    }
   ],
   "source": [
    "import logging\n",
    "\n",
    "filename = 'log.txtt'\n",
    "logging.basicConfig(\n",
    "    format='%(levelname)s:%(name)s:%(message)s:process-id%(process)s:line_no %(lineno)s'\n",
    "    )\n",
    "\n",
    "print(f'************************************log is showing onto the console************************************')\n",
    "\n",
    "logging.critical('This is critical message')\n",
    "logging.error('This is error message') \n",
    "logging.warning('This is warning message')\n",
    "logging.info('This is info message') \n",
    "logging.debug('This is debug message') \n"
   ]
  },
  {
   "cell_type": "markdown",
   "metadata": {
    "vscode": {
     "languageId": "html"
    }
   },
   "source": [
    "<h1>how to add timestamp in log messages</h1>"
   ]
  },
  {
   "cell_type": "code",
   "execution_count": 2,
   "metadata": {},
   "outputs": [
    {
     "name": "stderr",
     "output_type": "stream",
     "text": [
      "02/12/2024 22:12:1733158987:CRITICAL:root:This is critical message:process-id1018055:line_no 13\n",
      "02/12/2024 22:12:1733158987:ERROR:root:This is error message:process-id1018055:line_no 14\n",
      "02/12/2024 22:12:1733158987:WARNING:root:This is warning message:process-id1018055:line_no 15\n"
     ]
    },
    {
     "name": "stdout",
     "output_type": "stream",
     "text": [
      "************************************log is showing onto the console************************************\n"
     ]
    }
   ],
   "source": [
    "import logging\n",
    "\n",
    "filename = 'log.txtt'\n",
    "logging.basicConfig(\n",
    "    format='%(asctime)s:%(levelname)s:%(name)s:%(message)s:process-id%(process)s:line_no %(lineno)s',\n",
    "    # datefmt='%d/%m/%Y %I:%m:%S %p' # %I == 12 hours format and %p for am/pm \n",
    "    datefmt='%d/%m/%Y %H:%m:%S' # %H == 24 hours format \n",
    "    \n",
    "    )\n",
    "\n",
    "print(f'************************************log is showing onto the console************************************')\n",
    "\n",
    "logging.critical('This is critical message')\n",
    "logging.error('This is error message') \n",
    "logging.warning('This is warning message')\n",
    "logging.info('This is info message') \n",
    "logging.debug('This is debug message') \n"
   ]
  },
  {
   "cell_type": "markdown",
   "metadata": {
    "vscode": {
     "languageId": "html"
    }
   },
   "source": [
    "<h1>How to write exceptions in log file</h1>"
   ]
  },
  {
   "cell_type": "code",
   "execution_count": 2,
   "metadata": {},
   "outputs": [
    {
     "name": "stdout",
     "output_type": "stream",
     "text": [
      "Cannot divide by zero...\n"
     ]
    }
   ],
   "source": [
    "import logging \n",
    "\n",
    "logging.basicConfig(filename='mylog:03-10-2024.log',\n",
    "                    level=logging.INFO,\n",
    "                    format='%(asctime)s:%(levelname)s:%(message)s',\n",
    "                    datefmt = '%d/%m/%Y %I:%m:%S %p'\n",
    "                    )\n",
    "logging.info('A new request came')\n",
    "try:\n",
    "    x = int(input('Enter the first number : '))\n",
    "    y = int(input('Enter the second number : '))\n",
    "    print(f'The result is : {x/y}')\n",
    "    \n",
    "except ZeroDivisionError as e:\n",
    "    print('Cannot divide by zero...')\n",
    "    logging.exception(enumerate) \n",
    "except ValueError as e: \n",
    "    print('Please provide integer value...')\n",
    "    logging.exception(e)\n",
    "logging.info('A request processing completed')"
   ]
  },
  {
   "cell_type": "markdown",
   "metadata": {
    "vscode": {
     "languageId": "html"
    }
   },
   "source": [
    "<h1>Problems with root logger</h1>"
   ]
  },
  {
   "cell_type": "markdown",
   "metadata": {},
   "source": [
    "<!DOCTYPE html>\n",
    "<html lang=\"en\">\n",
    "<head>\n",
    "    <meta charset=\"UTF-8\">\n",
    "    <meta name=\"viewport\" content=\"width=device-width, initial-scale=1.0\">\n",
    "    <title>Problems with Root Logger</title>\n",
    "</head>\n",
    "<body>\n",
    "    <h1\">Problems with Root Logger</h1>\n",
    "    <ol>\n",
    "        <li>Once we set basic configuration then that configuration is final and we cannot change.</li>\n",
    "        <li>We can use either file handler or console handler but not both simultaneously.</li>\n",
    "        <li>It is not possible to configure logger with different configurations at different levels.</li>\n",
    "        <li>We cannot specify multiple log files for multiple modules/classes/methods.</li>\n",
    "    </ol>\n",
    "</body>\n",
    "</html>\n"
   ]
  },
  {
   "cell_type": "code",
   "execution_count": 2,
   "metadata": {},
   "outputs": [],
   "source": [
    "import logging\n",
    "\n",
    "logging.basicConfig(\n",
    "    filename='abc.log',\n",
    "    level=logging.DEBUG,\n",
    "    filemode='w'\n",
    ")\n",
    "\n",
    "logging.critical('it is critical message')\n",
    "logging.error('it is error message')\n",
    "logging.warning('it is warning message')\n",
    "logging.info('it is info message')\n",
    "logging.debug('it is debug message')\n"
   ]
  },
  {
   "cell_type": "code",
   "execution_count": 1,
   "metadata": {},
   "outputs": [],
   "source": [
    "import logging\n",
    "\n",
    "logging.basicConfig(\n",
    "    filename='abc.log',\n",
    "    level=logging.DEBUG,\n",
    "    filemode='w'\n",
    ")\n",
    "\n",
    "logging.basicConfig(  # yhan pe xyz file me log write hona chahiye tha but nhi vo keval abc me write kiya hai ,yahi root logger ka problem hai\n",
    "    filename='xyz.log',\n",
    "    level=logging.ERROR,\n",
    "    filemode='w'\n",
    ")\n",
    "logging.critical('it is critical message')\n",
    "logging.error('it is error message')\n",
    "logging.warning('it is warning message')\n",
    "logging.info('it is info message')\n",
    "logging.debug('it is debug message')\n"
   ]
  },
  {
   "cell_type": "code",
   "execution_count": 1,
   "metadata": {},
   "outputs": [
    {
     "name": "stderr",
     "output_type": "stream",
     "text": [
      "CRITICAL:root:critical message by student module\n",
      "ERROR:root:error message by student module\n",
      "WARNING:root:warning message by student module\n",
      "CRITICAL:root:critical message by test module\n",
      "ERROR:root:error message by test module\n",
      "WARNING:root:warning message by test module\n"
     ]
    }
   ],
   "source": [
    "import logging\n",
    "import student\n",
    "\n",
    "logging.basicConfig(filename='test.log', level=logging.DEBUG) # yhan pe test.log me data nhi write hua hai bas jo student.py me code likha gya hai log ka usi me write kiya hai yhi problem hai root logger ke saath\n",
    "\n",
    "logging.critical('critical message by test module')\n",
    "logging.error('error message by test module')\n",
    "logging.warning('warning message by test module')\n",
    "logging.info('info message by test module')\n",
    "logging.debug('debug message by test module')\n"
   ]
  },
  {
   "cell_type": "code",
   "execution_count": 1,
   "metadata": {},
   "outputs": [],
   "source": [
    "import logging\n",
    "\n",
    "logging.basicConfig(filename='test2.log', level=logging.DEBUG) \n",
    "\n",
    "import student # <-------------- is baar import yhan pe kiya hai to test2.log me bhi write hona chahiye aur console pe bhi student.py ka log aana chahiye but esa nhi hota hai yhi sb problem hai root logger ke saath,isko solve krne ke liye hum apna custom logger use krenge next lecture me\n",
    "\n",
    "logging.critical('critical message by test module')\n",
    "logging.error('error message by test module')\n",
    "logging.warning('warning message by test module')\n",
    "logging.info('info message by test module')\n",
    "logging.debug('debug message by test module')\n"
   ]
  },
  {
   "cell_type": "markdown",
   "metadata": {
    "vscode": {
     "languageId": "html"
    }
   },
   "source": [
    "<h1>How to define and use Customized Logger</h1>"
   ]
  },
  {
   "cell_type": "markdown",
   "metadata": {},
   "source": [
    "<h1>1. Creation of Logger object and set log level:</h1>\n",
    "<pre>\n",
    "logger = logging.getLogger('demologger')\n",
    "\n",
    "logger.setLevel(logging.INFO)\n",
    "\n",
    "default level is NOTSET. i.e by default all level messages will be considered.\n",
    "</pre>\n"
   ]
  },
  {
   "cell_type": "markdown",
   "metadata": {},
   "source": [
    "<h1>2. Creation of Handler object and set Log level:</h1>\n",
    "<pre>\n",
    "consoleHandler = logging.StreamHandler()\n",
    "consoleHandler.setLevel(logging.ERROR)\n",
    "\n",
    "fileHandler = logging.FileHandler('abc.txt', mode='a')\n",
    "fileHandler.setLevel(logging.ERROR)\n",
    "</pre>\n"
   ]
  },
  {
   "cell_type": "markdown",
   "metadata": {},
   "source": [
    "<h1>3. Creation of Formatter object:</h1>\n",
    "<pre>\n",
    "Formatter = logger.Formatter(\n",
    "    '%(asctime)s : %(levelname)s : %(name)s : %(message)s',\n",
    "    datefmt='%d/%m/%Y %I:%M:%S %p'\n",
    ")\n",
    "</pre>\n"
   ]
  },
  {
   "cell_type": "markdown",
   "metadata": {},
   "source": [
    "<!DOCTYPE html>\n",
    "<html>\n",
    "<head>\n",
    "    <title>Add Formatter to Handler</title>\n",
    "</head>\n",
    "<body>\n",
    "    <h4>Add Formatter to Handler:</h4>\n",
    "    <p>consoleHandler.setFormatter(formatter)</p>\n",
    "    <p>fileHandler.setFormatter(formatter)</p>\n",
    "</body>\n",
    "</html>\n"
   ]
  },
  {
   "cell_type": "markdown",
   "metadata": {},
   "source": [
    "<!DOCTYPE html>\n",
    "<html>\n",
    "<head>\n",
    "    <title>Add handler to logger</title>\n",
    "</head>\n",
    "<body>\n",
    "    <h1>Add handler to logger:</h1>\n",
    "    <pre>\n",
    "logger.addHandler(consoleHandler)\n",
    "logger.addHandler(fileHandler)\n",
    "    </pre>\n",
    "</body>\n",
    "</html>\n"
   ]
  },
  {
   "cell_type": "markdown",
   "metadata": {},
   "source": [
    "<!DOCTYPE html>\n",
    "<html>\n",
    "<head>\n",
    "    <title>Logging Messages</title>\n",
    "</head>\n",
    "<body>\n",
    "    <h1>Logging Messages</h1>\n",
    "    <pre>\n",
    "logger.critical(message)\n",
    "logger.error(message)\n",
    "logger.warning(message)\n",
    "logger.info(message)\n",
    "logger.debug(message)\n",
    "    </pre>\n",
    "</body>\n",
    "</html>\n"
   ]
  },
  {
   "cell_type": "code",
   "execution_count": 1,
   "metadata": {},
   "outputs": [
    {
     "name": "stderr",
     "output_type": "stream",
     "text": [
      "04/12/2024 08:03:55 PM:CRITICAL:durga_logger:It is critical message\n",
      "04/12/2024 08:03:55 PM:ERROR:durga_logger:It is error message\n",
      "04/12/2024 08:03:55 PM:WARNING:durga_logger:It is warning message\n",
      "04/12/2024 08:03:55 PM:INFO:durga_logger:It is info message\n",
      "04/12/2024 08:03:55 PM:DEBUG:durga_logger:It is debug message\n"
     ]
    }
   ],
   "source": [
    "import logging\n",
    "\n",
    "logger = logging.getLogger('durga_logger') # setting custom logger name\n",
    "logger.setLevel(logging.DEBUG) # setting the custom level\n",
    "\n",
    "log_handler = logging.StreamHandler()# this line is for where to write or show the logs ,here Streamhandler means log will be shown on the console \n",
    "\n",
    "log_format = logging.Formatter(\n",
    "    '%(asctime)s:%(levelname)s:%(name)s:%(message)s',\n",
    "    datefmt='%d/%m/%Y %I:%M:%S %p'\n",
    ")\n",
    "log_handler.setFormatter(log_format)\n",
    "\n",
    "logger.addHandler(log_handler)\n",
    "\n",
    "logger.critical('It is critical message')\n",
    "logger.error('It is error message')\n",
    "logger.warning('It is warning message')\n",
    "logger.info('It is info message')\n",
    "logger.debug('It is debug message')\n"
   ]
  },
  {
   "cell_type": "code",
   "execution_count": 1,
   "metadata": {},
   "outputs": [
    {
     "name": "stdout",
     "output_type": "stream",
     "text": [
      "log is written into the file...\n"
     ]
    }
   ],
   "source": [
    "import logging\n",
    "\n",
    "logger = logging.getLogger('durga_logger') # setting custom logger name\n",
    "logger.setLevel(logging.DEBUG) # setting the custom level\n",
    "\n",
    "file_handler = logging.FileHandler('custom_test.log',mode='w') # this line is for where to write or show the logs ,here FileHandler means log will be written in a file \n",
    "\n",
    "log_format = logging.Formatter(\n",
    "    '%(asctime)s:%(levelname)s:%(name)s:%(message)s',\n",
    "    datefmt='%d/%m/%Y %I:%M:%S %p'\n",
    ")\n",
    "file_handler.setFormatter(log_format)\n",
    "\n",
    "logger.addHandler(file_handler)\n",
    "\n",
    "logger.critical('It is critical message')\n",
    "logger.error('It is error message')\n",
    "logger.warning('It is warning message')\n",
    "logger.info('It is info message')\n",
    "logger.debug('It is debug message')\n",
    "\n",
    "print('log is written into the file...')\n"
   ]
  },
  {
   "cell_type": "code",
   "execution_count": 1,
   "metadata": {},
   "outputs": [
    {
     "name": "stdout",
     "output_type": "stream",
     "text": [
      "log is written into the file...\n"
     ]
    }
   ],
   "source": [
    "import logging\n",
    "\n",
    "logger = logging.getLogger('durga_logger') # setting custom logger name\n",
    "logger.setLevel(logging.DEBUG) # setting the custom level\n",
    "\n",
    "file_handler = logging.FileHandler('custom_test.log',mode='w') # this line is for where to write or show the logs ,here FileHandler means log will be written in a file \n",
    "file_handler.setLevel(logging.ERROR) # setting the level  using FileHandler <----------------\n",
    "log_format = logging.Formatter(\n",
    "    '%(asctime)s:%(levelname)s:%(name)s:%(message)s',\n",
    "    datefmt='%d/%m/%Y %I:%M:%S %p'\n",
    ")\n",
    "file_handler.setFormatter(log_format)\n",
    "\n",
    "logger.addHandler(file_handler)\n",
    "\n",
    "logger.critical('It is critical message')\n",
    "logger.error('It is error message')\n",
    "logger.warning('It is warning message')\n",
    "logger.info('It is info message')\n",
    "logger.debug('It is debug message')\n",
    "\n",
    "print('log is written into the file...')\n"
   ]
  },
  {
   "cell_type": "markdown",
   "metadata": {
    "vscode": {
     "languageId": "html"
    }
   },
   "source": [
    "<h1>Define and Use Custom Logger with Both Console and File Handlers</h1>"
   ]
  },
  {
   "cell_type": "code",
   "execution_count": 1,
   "metadata": {},
   "outputs": [
    {
     "name": "stderr",
     "output_type": "stream",
     "text": [
      "04/12/2024 11:14:34 PM:CRITICAL:durga_logger:It is critical message\n",
      "04/12/2024 11:14:34 PM:ERROR:durga_logger:It is error message\n",
      "04/12/2024 11:14:34 PM:WARNING:durga_logger:It is warning message\n",
      "04/12/2024 11:14:34 PM:INFO:durga_logger:It is info message\n",
      "04/12/2024 11:14:34 PM:DEBUG:durga_logger:It is debug message\n"
     ]
    }
   ],
   "source": [
    "import logging\n",
    "\n",
    "logger = logging.getLogger('durga_logger') \n",
    "logger.setLevel(logging.DEBUG) \n",
    "\n",
    "console_handler = logging.StreamHandler() # to show the log on to the console\n",
    "file_handler = logging.FileHandler('custom_test2.log',mode='w')  # to write the log into the file \n",
    "\n",
    "log_format = logging.Formatter(\n",
    "    '%(asctime)s:%(levelname)s:%(name)s:%(message)s',\n",
    "    datefmt='%d/%m/%Y %I:%M:%S %p'\n",
    ")\n",
    "\n",
    "console_handler.setFormatter(log_format)\n",
    "file_handler.setFormatter(log_format)\n",
    "\n",
    "logger.addHandler(console_handler)\n",
    "logger.addHandler(file_handler)\n",
    "\n",
    "logger.critical('It is critical message')\n",
    "logger.error('It is error message')\n",
    "logger.warning('It is warning message')\n",
    "logger.info('It is info message')\n",
    "logger.debug('It is debug message')\n",
    "\n"
   ]
  },
  {
   "cell_type": "code",
   "execution_count": 1,
   "metadata": {},
   "outputs": [
    {
     "name": "stderr",
     "output_type": "stream",
     "text": [
      "04/12/2024 11:17:19 PM:CRITICAL:durga_logger:It is critical message\n",
      "04/12/2024 11:17:19 PM:ERROR:durga_logger:It is error message\n"
     ]
    }
   ],
   "source": [
    "import logging\n",
    "\n",
    "logger = logging.getLogger('durga_logger') \n",
    "logger.setLevel(logging.DEBUG) \n",
    "\n",
    "console_handler = logging.StreamHandler() # to show the log on to the console\n",
    "file_handler = logging.FileHandler('custom_test3.log',mode='w')  # to write the log into the file \n",
    "\n",
    "console_handler.setLevel(logging.ERROR) # now, on console either ERROR or higher messages will be shown and for file no change there will be DEBUG or higher level messages\n",
    "\n",
    "log_format = logging.Formatter(\n",
    "    '%(asctime)s:%(levelname)s:%(name)s:%(message)s',\n",
    "    datefmt='%d/%m/%Y %I:%M:%S %p'\n",
    ")\n",
    "\n",
    "console_handler.setFormatter(log_format)\n",
    "file_handler.setFormatter(log_format)\n",
    "\n",
    "logger.addHandler(console_handler)\n",
    "logger.addHandler(file_handler)\n",
    "\n",
    "logger.critical('It is critical message')\n",
    "logger.error('It is error message')\n",
    "logger.warning('It is warning message')\n",
    "logger.info('It is info message')\n",
    "logger.debug('It is debug message')\n",
    "\n"
   ]
  },
  {
   "cell_type": "code",
   "execution_count": 1,
   "metadata": {},
   "outputs": [
    {
     "name": "stderr",
     "output_type": "stream",
     "text": [
      "CRITICAL:It is critical message\n",
      "ERROR:It is error message\n",
      "WARNING:It is warning message\n",
      "INFO:It is info message\n",
      "DEBUG:It is debug message\n"
     ]
    }
   ],
   "source": [
    "import logging\n",
    "\n",
    "logger = logging.getLogger('durga_logger') \n",
    "logger.setLevel(logging.DEBUG) \n",
    "\n",
    "console_handler = logging.StreamHandler() \n",
    "file_handler = logging.FileHandler('custom_test4.log',mode='w')   \n",
    "\n",
    "log_format1 = logging.Formatter('%(levelname)s:%(message)s') # this format is for console handler \n",
    "\n",
    "log_format2 = logging.Formatter(                             # this format is for file handler\n",
    "    '%(asctime)s:%(levelname)s:%(name)s:%(message)s',\n",
    "    datefmt='%d/%m/%Y %I:%M:%S %p'\n",
    ")\n",
    "\n",
    "console_handler.setFormatter(log_format1)\n",
    "file_handler.setFormatter(log_format2)\n",
    "\n",
    "logger.addHandler(console_handler)\n",
    "logger.addHandler(file_handler)\n",
    "\n",
    "logger.critical('It is critical message')\n",
    "logger.error('It is error message')\n",
    "logger.warning('It is warning message')\n",
    "logger.info('It is info message')\n",
    "logger.debug('It is debug message')\n",
    "\n"
   ]
  },
  {
   "cell_type": "markdown",
   "metadata": {
    "vscode": {
     "languageId": "html"
    }
   },
   "source": [
    "<h1>Write a program to define and use a custom logger with different modules and with different log files?</h1>\n"
   ]
  },
  {
   "cell_type": "code",
   "execution_count": 1,
   "metadata": {},
   "outputs": [],
   "source": [
    "import logging\n",
    "import student2\n",
    "\n",
    "logger = logging.getLogger('testlogger')\n",
    "logger.setLevel(logging.DEBUG)\n",
    "\n",
    "fileHandler = logging.FileHandler('test.log', mode='a')\n",
    "\n",
    "formatter = logging.Formatter('%(asctime)s:%(levelname)s:%(name)s:%(message)s', \n",
    "                              datefmt='%d/%m/%Y %I:%M:%S %p')\n",
    "\n",
    "fileHandler.setFormatter(formatter)\n",
    "\n",
    "logger.addHandler(fileHandler)\n",
    "\n",
    "logger.critical('critical message from test module')\n",
    "logger.error('error message from test module')\n",
    "logger.warning('warning message by test module')\n",
    "logger.info('info message by test module')\n",
    "logger.debug('debug message by test module')"
   ]
  },
  {
   "cell_type": "markdown",
   "metadata": {
    "vscode": {
     "languageId": "html"
    }
   },
   "source": [
    "<h1>Importance of inspect module</h1>"
   ]
  },
  {
   "cell_type": "code",
   "execution_count": 3,
   "metadata": {},
   "outputs": [
    {
     "name": "stdout",
     "output_type": "stream",
     "text": [
      "[FrameInfo(frame=<frame at 0x78051ff97a00, file '/home/echelon/python_notes/python/logging/demo.py', line 4, code get_info>, filename='/home/echelon/python_notes/python/logging/demo.py', lineno=4, function='get_info', code_context=['    print(inspect.stack())\\n'], index=0), FrameInfo(frame=<frame at 0x78051f566230, file '/tmp/ipykernel_255092/35671471.py', line 4, code f1>, filename='/tmp/ipykernel_255092/35671471.py', lineno=4, function='f1', code_context=['    print(get_info())\\n'], index=0), FrameInfo(frame=<frame at 0x25fb270, file '/tmp/ipykernel_255092/35671471.py', line 6, code <module>>, filename='/tmp/ipykernel_255092/35671471.py', lineno=6, function='<module>', code_context=['f1()\\n'], index=0), FrameInfo(frame=<frame at 0x25bfa20, file '/home/echelon/anaconda3/lib/python3.9/site-packages/IPython/core/interactiveshell.py', line 3457, code run_code>, filename='/home/echelon/anaconda3/lib/python3.9/site-packages/IPython/core/interactiveshell.py', lineno=3457, function='run_code', code_context=['                    exec(code_obj, self.user_global_ns, self.user_ns)\\n'], index=0), FrameInfo(frame=<frame at 0x2549330, file '/home/echelon/anaconda3/lib/python3.9/site-packages/IPython/core/interactiveshell.py', line 3377, code run_ast_nodes>, filename='/home/echelon/anaconda3/lib/python3.9/site-packages/IPython/core/interactiveshell.py', lineno=3377, function='run_ast_nodes', code_context=['                    if (await self.run_code(code, result,  async_=asy)):\\n'], index=0), FrameInfo(frame=<frame at 0x259c130, file '/home/echelon/anaconda3/lib/python3.9/site-packages/IPython/core/interactiveshell.py', line 3185, code run_cell_async>, filename='/home/echelon/anaconda3/lib/python3.9/site-packages/IPython/core/interactiveshell.py', lineno=3185, function='run_cell_async', code_context=['                has_raised = await self.run_ast_nodes(code_ast.body, cell_name,\\n'], index=0), FrameInfo(frame=<frame at 0x25bce00, file '/home/echelon/anaconda3/lib/python3.9/site-packages/IPython/core/async_helpers.py', line 78, code _pseudo_sync_runner>, filename='/home/echelon/anaconda3/lib/python3.9/site-packages/IPython/core/async_helpers.py', lineno=78, function='_pseudo_sync_runner', code_context=['        coro.send(None)\\n'], index=0), FrameInfo(frame=<frame at 0x25c0600, file '/home/echelon/anaconda3/lib/python3.9/site-packages/IPython/core/interactiveshell.py', line 2960, code _run_cell>, filename='/home/echelon/anaconda3/lib/python3.9/site-packages/IPython/core/interactiveshell.py', lineno=2960, function='_run_cell', code_context=['            return runner(coro)\\n'], index=0), FrameInfo(frame=<frame at 0x25bbc60, file '/home/echelon/anaconda3/lib/python3.9/site-packages/IPython/core/interactiveshell.py', line 2914, code run_cell>, filename='/home/echelon/anaconda3/lib/python3.9/site-packages/IPython/core/interactiveshell.py', lineno=2914, function='run_cell', code_context=['            result = self._run_cell(\\n'], index=0), FrameInfo(frame=<frame at 0x25bc880, file '/home/echelon/anaconda3/lib/python3.9/site-packages/ipykernel/zmqshell.py', line 528, code run_cell>, filename='/home/echelon/anaconda3/lib/python3.9/site-packages/ipykernel/zmqshell.py', lineno=528, function='run_cell', code_context=['        return super().run_cell(*args, **kwargs)\\n'], index=0), FrameInfo(frame=<frame at 0x25b2590, file '/home/echelon/anaconda3/lib/python3.9/site-packages/ipykernel/ipkernel.py', line 390, code do_execute>, filename='/home/echelon/anaconda3/lib/python3.9/site-packages/ipykernel/ipkernel.py', lineno=390, function='do_execute', code_context=['                    res = shell.run_cell(code, store_history=store_history, silent=silent)\\n'], index=0), FrameInfo(frame=<frame at 0x25b1ef0, file '/home/echelon/anaconda3/lib/python3.9/site-packages/ipykernel/kernelbase.py', line 730, code execute_request>, filename='/home/echelon/anaconda3/lib/python3.9/site-packages/ipykernel/kernelbase.py', lineno=730, function='execute_request', code_context=['            reply_content = await reply_content\\n'], index=0), FrameInfo(frame=<frame at 0x25b1180, file '/home/echelon/anaconda3/lib/python3.9/site-packages/ipykernel/kernelbase.py', line 406, code dispatch_shell>, filename='/home/echelon/anaconda3/lib/python3.9/site-packages/ipykernel/kernelbase.py', lineno=406, function='dispatch_shell', code_context=['                    await result\\n'], index=0), FrameInfo(frame=<frame at 0x78051ffe9230, file '/home/echelon/anaconda3/lib/python3.9/site-packages/ipykernel/kernelbase.py', line 499, code process_one>, filename='/home/echelon/anaconda3/lib/python3.9/site-packages/ipykernel/kernelbase.py', lineno=499, function='process_one', code_context=['        await dispatch(*args)\\n'], index=0), FrameInfo(frame=<frame at 0x78051ffe7210, file '/home/echelon/anaconda3/lib/python3.9/site-packages/ipykernel/kernelbase.py', line 510, code dispatch_queue>, filename='/home/echelon/anaconda3/lib/python3.9/site-packages/ipykernel/kernelbase.py', lineno=510, function='dispatch_queue', code_context=['                await self.process_one()\\n'], index=0), FrameInfo(frame=<frame at 0x7805100013e0, file '/home/echelon/anaconda3/lib/python3.9/asyncio/events.py', line 80, code _run>, filename='/home/echelon/anaconda3/lib/python3.9/asyncio/events.py', lineno=80, function='_run', code_context=['            self._context.run(self._callback, *self._args)\\n'], index=0), FrameInfo(frame=<frame at 0x259ad60, file '/home/echelon/anaconda3/lib/python3.9/asyncio/base_events.py', line 1905, code _run_once>, filename='/home/echelon/anaconda3/lib/python3.9/asyncio/base_events.py', lineno=1905, function='_run_once', code_context=['                handle._run()\\n'], index=0), FrameInfo(frame=<frame at 0x78051ffe8220, file '/home/echelon/anaconda3/lib/python3.9/asyncio/base_events.py', line 601, code run_forever>, filename='/home/echelon/anaconda3/lib/python3.9/asyncio/base_events.py', lineno=601, function='run_forever', code_context=['                self._run_once()\\n'], index=0), FrameInfo(frame=<frame at 0x78051ffeb1e0, file '/home/echelon/anaconda3/lib/python3.9/site-packages/tornado/platform/asyncio.py', line 205, code start>, filename='/home/echelon/anaconda3/lib/python3.9/site-packages/tornado/platform/asyncio.py', lineno=205, function='start', code_context=['        self.asyncio_loop.run_forever()\\n'], index=0), FrameInfo(frame=<frame at 0x78052089e440, file '/home/echelon/anaconda3/lib/python3.9/site-packages/ipykernel/kernelapp.py', line 712, code start>, filename='/home/echelon/anaconda3/lib/python3.9/site-packages/ipykernel/kernelapp.py', lineno=712, function='start', code_context=['                self.io_loop.start()\\n'], index=0), FrameInfo(frame=<frame at 0x1e2adb0, file '/home/echelon/anaconda3/lib/python3.9/site-packages/traitlets/config/application.py', line 1075, code launch_instance>, filename='/home/echelon/anaconda3/lib/python3.9/site-packages/traitlets/config/application.py', lineno=1075, function='launch_instance', code_context=['        app.start()\\n'], index=0), FrameInfo(frame=<frame at 0x7805234c23c0, file '/home/echelon/anaconda3/lib/python3.9/site-packages/ipykernel_launcher.py', line 17, code <module>>, filename='/home/echelon/anaconda3/lib/python3.9/site-packages/ipykernel_launcher.py', lineno=17, function='<module>', code_context=['    app.launch_new_instance()\\n'], index=0), FrameInfo(frame=<frame at 0x1c0b8a0, file '/home/echelon/anaconda3/lib/python3.9/runpy.py', line 87, code _run_code>, filename='/home/echelon/anaconda3/lib/python3.9/runpy.py', lineno=87, function='_run_code', code_context=['    exec(code, run_globals)\\n'], index=0), FrameInfo(frame=<frame at 0x1b9a070, file '/home/echelon/anaconda3/lib/python3.9/runpy.py', line 197, code _run_module_as_main>, filename='/home/echelon/anaconda3/lib/python3.9/runpy.py', lineno=197, function='_run_module_as_main', code_context=['    return _run_code(code, main_globals, None,\\n'], index=0)]\n",
      "None\n"
     ]
    }
   ],
   "source": [
    "from demo import get_info\n",
    "\n",
    "def f1():\n",
    "    print(get_info())\n",
    "\n",
    "f1()"
   ]
  },
  {
   "cell_type": "code",
   "execution_count": 6,
   "metadata": {},
   "outputs": [
    {
     "name": "stdout",
     "output_type": "stream",
     "text": [
      "[FrameInfo(frame=<frame at 0x78051ff97a00\n",
      "file '/home/echelon/python_notes/python/logging/demo.py'\n",
      "line 4\n",
      "code get_info>\n",
      "filename='/home/echelon/python_notes/python/logging/demo.py'\n",
      "lineno=4\n",
      "function='get_info'\n",
      "code_context=['    print(inspect.stack())\n",
      "']\n",
      "index=0)\n",
      "FrameInfo(frame=<frame at 0x78051f566230\n",
      "file '/tmp/ipykernel_255092/35671471.py'\n",
      "line 4\n",
      "code f1>\n",
      "filename='/tmp/ipykernel_255092/35671471.py'\n",
      "lineno=4\n",
      "function='f1'\n",
      "code_context=['    print(get_info())\n",
      "']\n",
      "index=0)\n",
      "FrameInfo(frame=<frame at 0x25fb270\n",
      "file '/tmp/ipykernel_255092/35671471.py'\n",
      "line 6\n",
      "code <module>>\n",
      "filename='/tmp/ipykernel_255092/35671471.py'\n",
      "lineno=6\n",
      "function='<module>'\n",
      "code_context=['f1()\n",
      "']\n",
      "index=0)\n",
      "FrameInfo(frame=<frame at 0x25bfa20\n",
      "file '/home/echelon/anaconda3/lib/python3.9/site-packages/IPython/core/interactiveshell.py'\n",
      "line 3457\n",
      "code run_code>\n",
      "filename='/home/echelon/anaconda3/lib/python3.9/site-packages/IPython/core/interactiveshell.py'\n",
      "lineno=3457\n",
      "function='run_code'\n",
      "code_context=['                    exec(code_obj\n",
      "self.user_global_ns\n",
      "self.user_ns)\n",
      "']\n",
      "index=0)\n",
      "FrameInfo(frame=<frame at 0x2549330\n",
      "file '/home/echelon/anaconda3/lib/python3.9/site-packages/IPython/core/interactiveshell.py'\n",
      "line 3377\n",
      "code run_ast_nodes>\n",
      "filename='/home/echelon/anaconda3/lib/python3.9/site-packages/IPython/core/interactiveshell.py'\n",
      "lineno=3377\n",
      "function='run_ast_nodes'\n",
      "code_context=['                    if (await self.run_code(code\n",
      "result\n",
      " async_=asy)):\n",
      "']\n",
      "index=0)\n",
      "FrameInfo(frame=<frame at 0x259c130\n",
      "file '/home/echelon/anaconda3/lib/python3.9/site-packages/IPython/core/interactiveshell.py'\n",
      "line 3185\n",
      "code run_cell_async>\n",
      "filename='/home/echelon/anaconda3/lib/python3.9/site-packages/IPython/core/interactiveshell.py'\n",
      "lineno=3185\n",
      "function='run_cell_async'\n",
      "code_context=['                has_raised = await self.run_ast_nodes(code_ast.body\n",
      "cell_name,\n",
      "']\n",
      "index=0)\n",
      "FrameInfo(frame=<frame at 0x25bce00\n",
      "file '/home/echelon/anaconda3/lib/python3.9/site-packages/IPython/core/async_helpers.py'\n",
      "line 78\n",
      "code _pseudo_sync_runner>\n",
      "filename='/home/echelon/anaconda3/lib/python3.9/site-packages/IPython/core/async_helpers.py'\n",
      "lineno=78\n",
      "function='_pseudo_sync_runner'\n",
      "code_context=['        coro.send(None)\n",
      "']\n",
      "index=0)\n",
      "FrameInfo(frame=<frame at 0x25c0600\n",
      "file '/home/echelon/anaconda3/lib/python3.9/site-packages/IPython/core/interactiveshell.py'\n",
      "line 2960\n",
      "code _run_cell>\n",
      "filename='/home/echelon/anaconda3/lib/python3.9/site-packages/IPython/core/interactiveshell.py'\n",
      "lineno=2960\n",
      "function='_run_cell'\n",
      "code_context=['            return runner(coro)\n",
      "']\n",
      "index=0)\n",
      "FrameInfo(frame=<frame at 0x25bbc60\n",
      "file '/home/echelon/anaconda3/lib/python3.9/site-packages/IPython/core/interactiveshell.py'\n",
      "line 2914\n",
      "code run_cell>\n",
      "filename='/home/echelon/anaconda3/lib/python3.9/site-packages/IPython/core/interactiveshell.py'\n",
      "lineno=2914\n",
      "function='run_cell'\n",
      "code_context=['            result = self._run_cell(\n",
      "']\n",
      "index=0)\n",
      "FrameInfo(frame=<frame at 0x25bc880\n",
      "file '/home/echelon/anaconda3/lib/python3.9/site-packages/ipykernel/zmqshell.py'\n",
      "line 528\n",
      "code run_cell>\n",
      "filename='/home/echelon/anaconda3/lib/python3.9/site-packages/ipykernel/zmqshell.py'\n",
      "lineno=528\n",
      "function='run_cell'\n",
      "code_context=['        return super().run_cell(*args\n",
      "**kwargs)\n",
      "']\n",
      "index=0)\n",
      "FrameInfo(frame=<frame at 0x25b2590\n",
      "file '/home/echelon/anaconda3/lib/python3.9/site-packages/ipykernel/ipkernel.py'\n",
      "line 390\n",
      "code do_execute>\n",
      "filename='/home/echelon/anaconda3/lib/python3.9/site-packages/ipykernel/ipkernel.py'\n",
      "lineno=390\n",
      "function='do_execute'\n",
      "code_context=['                    res = shell.run_cell(code\n",
      "store_history=store_history\n",
      "silent=silent)\n",
      "']\n",
      "index=0)\n",
      "FrameInfo(frame=<frame at 0x25b1ef0\n",
      "file '/home/echelon/anaconda3/lib/python3.9/site-packages/ipykernel/kernelbase.py'\n",
      "line 730\n",
      "code execute_request>\n",
      "filename='/home/echelon/anaconda3/lib/python3.9/site-packages/ipykernel/kernelbase.py'\n",
      "lineno=730\n",
      "function='execute_request'\n",
      "code_context=['            reply_content = await reply_content\n",
      "']\n",
      "index=0)\n",
      "FrameInfo(frame=<frame at 0x25b1180\n",
      "file '/home/echelon/anaconda3/lib/python3.9/site-packages/ipykernel/kernelbase.py'\n",
      "line 406\n",
      "code dispatch_shell>\n",
      "filename='/home/echelon/anaconda3/lib/python3.9/site-packages/ipykernel/kernelbase.py'\n",
      "lineno=406\n",
      "function='dispatch_shell'\n",
      "code_context=['                    await result\n",
      "']\n",
      "index=0)\n",
      "FrameInfo(frame=<frame at 0x78051ffe9230\n",
      "file '/home/echelon/anaconda3/lib/python3.9/site-packages/ipykernel/kernelbase.py'\n",
      "line 499\n",
      "code process_one>\n",
      "filename='/home/echelon/anaconda3/lib/python3.9/site-packages/ipykernel/kernelbase.py'\n",
      "lineno=499\n",
      "function='process_one'\n",
      "code_context=['        await dispatch(*args)\n",
      "']\n",
      "index=0)\n",
      "FrameInfo(frame=<frame at 0x78051ffe7210\n",
      "file '/home/echelon/anaconda3/lib/python3.9/site-packages/ipykernel/kernelbase.py'\n",
      "line 510\n",
      "code dispatch_queue>\n",
      "filename='/home/echelon/anaconda3/lib/python3.9/site-packages/ipykernel/kernelbase.py'\n",
      "lineno=510\n",
      "function='dispatch_queue'\n",
      "code_context=['                await self.process_one()\n",
      "']\n",
      "index=0)\n",
      "FrameInfo(frame=<frame at 0x7805100013e0\n",
      "file '/home/echelon/anaconda3/lib/python3.9/asyncio/events.py'\n",
      "line 80\n",
      "code _run>\n",
      "filename='/home/echelon/anaconda3/lib/python3.9/asyncio/events.py'\n",
      "lineno=80\n",
      "function='_run'\n",
      "code_context=['            self._context.run(self._callback\n",
      "*self._args)\n",
      "']\n",
      "index=0)\n",
      "FrameInfo(frame=<frame at 0x259ad60\n",
      "file '/home/echelon/anaconda3/lib/python3.9/asyncio/base_events.py'\n",
      "line 1905\n",
      "code _run_once>\n",
      "filename='/home/echelon/anaconda3/lib/python3.9/asyncio/base_events.py'\n",
      "lineno=1905\n",
      "function='_run_once'\n",
      "code_context=['                handle._run()\n",
      "']\n",
      "index=0)\n",
      "FrameInfo(frame=<frame at 0x78051ffe8220\n",
      "file '/home/echelon/anaconda3/lib/python3.9/asyncio/base_events.py'\n",
      "line 601\n",
      "code run_forever>\n",
      "filename='/home/echelon/anaconda3/lib/python3.9/asyncio/base_events.py'\n",
      "lineno=601\n",
      "function='run_forever'\n",
      "code_context=['                self._run_once()\n",
      "']\n",
      "index=0)\n",
      "FrameInfo(frame=<frame at 0x78051ffeb1e0\n",
      "file '/home/echelon/anaconda3/lib/python3.9/site-packages/tornado/platform/asyncio.py'\n",
      "line 205\n",
      "code start>\n",
      "filename='/home/echelon/anaconda3/lib/python3.9/site-packages/tornado/platform/asyncio.py'\n",
      "lineno=205\n",
      "function='start'\n",
      "code_context=['        self.asyncio_loop.run_forever()\n",
      "']\n",
      "index=0)\n",
      "FrameInfo(frame=<frame at 0x78052089e440\n",
      "file '/home/echelon/anaconda3/lib/python3.9/site-packages/ipykernel/kernelapp.py'\n",
      "line 712\n",
      "code start>\n",
      "filename='/home/echelon/anaconda3/lib/python3.9/site-packages/ipykernel/kernelapp.py'\n",
      "lineno=712\n",
      "function='start'\n",
      "code_context=['                self.io_loop.start()\n",
      "']\n",
      "index=0)\n",
      "FrameInfo(frame=<frame at 0x1e2adb0\n",
      "file '/home/echelon/anaconda3/lib/python3.9/site-packages/traitlets/config/application.py'\n",
      "line 1075\n",
      "code launch_instance>\n",
      "filename='/home/echelon/anaconda3/lib/python3.9/site-packages/traitlets/config/application.py'\n",
      "lineno=1075\n",
      "function='launch_instance'\n",
      "code_context=['        app.start()\n",
      "']\n",
      "index=0)\n",
      "FrameInfo(frame=<frame at 0x7805234c23c0\n",
      "file '/home/echelon/anaconda3/lib/python3.9/site-packages/ipykernel_launcher.py'\n",
      "line 17\n",
      "code <module>>\n",
      "filename='/home/echelon/anaconda3/lib/python3.9/site-packages/ipykernel_launcher.py'\n",
      "lineno=17\n",
      "function='<module>'\n",
      "code_context=['    app.launch_new_instance()\n",
      "']\n",
      "index=0)\n",
      "FrameInfo(frame=<frame at 0x1c0b8a0\n",
      "file '/home/echelon/anaconda3/lib/python3.9/runpy.py'\n",
      "line 87\n",
      "code _run_code>\n",
      "filename='/home/echelon/anaconda3/lib/python3.9/runpy.py'\n",
      "lineno=87\n",
      "function='_run_code'\n",
      "code_context=['    exec(code\n",
      "run_globals)\n",
      "']\n",
      "index=0)\n",
      "FrameInfo(frame=<frame at 0x1b9a070\n",
      "file '/home/echelon/anaconda3/lib/python3.9/runpy.py'\n",
      "line 197\n",
      "code _run_module_as_main>\n",
      "filename='/home/echelon/anaconda3/lib/python3.9/runpy.py'\n",
      "lineno=197\n",
      "function='_run_module_as_main'\n",
      "code_context=['    return _run_code(code\n",
      "main_globals\n",
      "None,\n",
      "']\n",
      "index=0)]\n"
     ]
    }
   ],
   "source": [
    "s = '''[FrameInfo(frame=<frame at 0x78051ff97a00, file '/home/echelon/python_notes/python/logging/demo.py', line 4, code get_info>, filename='/home/echelon/python_notes/python/logging/demo.py', lineno=4, function='get_info', code_context=['    print(inspect.stack())\\n'], index=0), FrameInfo(frame=<frame at 0x78051f566230, file '/tmp/ipykernel_255092/35671471.py', line 4, code f1>, filename='/tmp/ipykernel_255092/35671471.py', lineno=4, function='f1', code_context=['    print(get_info())\\n'], index=0), FrameInfo(frame=<frame at 0x25fb270, file '/tmp/ipykernel_255092/35671471.py', line 6, code <module>>, filename='/tmp/ipykernel_255092/35671471.py', lineno=6, function='<module>', code_context=['f1()\\n'], index=0), FrameInfo(frame=<frame at 0x25bfa20, file '/home/echelon/anaconda3/lib/python3.9/site-packages/IPython/core/interactiveshell.py', line 3457, code run_code>, filename='/home/echelon/anaconda3/lib/python3.9/site-packages/IPython/core/interactiveshell.py', lineno=3457, function='run_code', code_context=['                    exec(code_obj, self.user_global_ns, self.user_ns)\\n'], index=0), FrameInfo(frame=<frame at 0x2549330, file '/home/echelon/anaconda3/lib/python3.9/site-packages/IPython/core/interactiveshell.py', line 3377, code run_ast_nodes>, filename='/home/echelon/anaconda3/lib/python3.9/site-packages/IPython/core/interactiveshell.py', lineno=3377, function='run_ast_nodes', code_context=['                    if (await self.run_code(code, result,  async_=asy)):\\n'], index=0), FrameInfo(frame=<frame at 0x259c130, file '/home/echelon/anaconda3/lib/python3.9/site-packages/IPython/core/interactiveshell.py', line 3185, code run_cell_async>, filename='/home/echelon/anaconda3/lib/python3.9/site-packages/IPython/core/interactiveshell.py', lineno=3185, function='run_cell_async', code_context=['                has_raised = await self.run_ast_nodes(code_ast.body, cell_name,\\n'], index=0), FrameInfo(frame=<frame at 0x25bce00, file '/home/echelon/anaconda3/lib/python3.9/site-packages/IPython/core/async_helpers.py', line 78, code _pseudo_sync_runner>, filename='/home/echelon/anaconda3/lib/python3.9/site-packages/IPython/core/async_helpers.py', lineno=78, function='_pseudo_sync_runner', code_context=['        coro.send(None)\\n'], index=0), FrameInfo(frame=<frame at 0x25c0600, file '/home/echelon/anaconda3/lib/python3.9/site-packages/IPython/core/interactiveshell.py', line 2960, code _run_cell>, filename='/home/echelon/anaconda3/lib/python3.9/site-packages/IPython/core/interactiveshell.py', lineno=2960, function='_run_cell', code_context=['            return runner(coro)\\n'], index=0), FrameInfo(frame=<frame at 0x25bbc60, file '/home/echelon/anaconda3/lib/python3.9/site-packages/IPython/core/interactiveshell.py', line 2914, code run_cell>, filename='/home/echelon/anaconda3/lib/python3.9/site-packages/IPython/core/interactiveshell.py', lineno=2914, function='run_cell', code_context=['            result = self._run_cell(\\n'], index=0), FrameInfo(frame=<frame at 0x25bc880, file '/home/echelon/anaconda3/lib/python3.9/site-packages/ipykernel/zmqshell.py', line 528, code run_cell>, filename='/home/echelon/anaconda3/lib/python3.9/site-packages/ipykernel/zmqshell.py', lineno=528, function='run_cell', code_context=['        return super().run_cell(*args, **kwargs)\\n'], index=0), FrameInfo(frame=<frame at 0x25b2590, file '/home/echelon/anaconda3/lib/python3.9/site-packages/ipykernel/ipkernel.py', line 390, code do_execute>, filename='/home/echelon/anaconda3/lib/python3.9/site-packages/ipykernel/ipkernel.py', lineno=390, function='do_execute', code_context=['                    res = shell.run_cell(code, store_history=store_history, silent=silent)\\n'], index=0), FrameInfo(frame=<frame at 0x25b1ef0, file '/home/echelon/anaconda3/lib/python3.9/site-packages/ipykernel/kernelbase.py', line 730, code execute_request>, filename='/home/echelon/anaconda3/lib/python3.9/site-packages/ipykernel/kernelbase.py', lineno=730, function='execute_request', code_context=['            reply_content = await reply_content\\n'], index=0), FrameInfo(frame=<frame at 0x25b1180, file '/home/echelon/anaconda3/lib/python3.9/site-packages/ipykernel/kernelbase.py', line 406, code dispatch_shell>, filename='/home/echelon/anaconda3/lib/python3.9/site-packages/ipykernel/kernelbase.py', lineno=406, function='dispatch_shell', code_context=['                    await result\\n'], index=0), FrameInfo(frame=<frame at 0x78051ffe9230, file '/home/echelon/anaconda3/lib/python3.9/site-packages/ipykernel/kernelbase.py', line 499, code process_one>, filename='/home/echelon/anaconda3/lib/python3.9/site-packages/ipykernel/kernelbase.py', lineno=499, function='process_one', code_context=['        await dispatch(*args)\\n'], index=0), FrameInfo(frame=<frame at 0x78051ffe7210, file '/home/echelon/anaconda3/lib/python3.9/site-packages/ipykernel/kernelbase.py', line 510, code dispatch_queue>, filename='/home/echelon/anaconda3/lib/python3.9/site-packages/ipykernel/kernelbase.py', lineno=510, function='dispatch_queue', code_context=['                await self.process_one()\\n'], index=0), FrameInfo(frame=<frame at 0x7805100013e0, file '/home/echelon/anaconda3/lib/python3.9/asyncio/events.py', line 80, code _run>, filename='/home/echelon/anaconda3/lib/python3.9/asyncio/events.py', lineno=80, function='_run', code_context=['            self._context.run(self._callback, *self._args)\\n'], index=0), FrameInfo(frame=<frame at 0x259ad60, file '/home/echelon/anaconda3/lib/python3.9/asyncio/base_events.py', line 1905, code _run_once>, filename='/home/echelon/anaconda3/lib/python3.9/asyncio/base_events.py', lineno=1905, function='_run_once', code_context=['                handle._run()\\n'], index=0), FrameInfo(frame=<frame at 0x78051ffe8220, file '/home/echelon/anaconda3/lib/python3.9/asyncio/base_events.py', line 601, code run_forever>, filename='/home/echelon/anaconda3/lib/python3.9/asyncio/base_events.py', lineno=601, function='run_forever', code_context=['                self._run_once()\\n'], index=0), FrameInfo(frame=<frame at 0x78051ffeb1e0, file '/home/echelon/anaconda3/lib/python3.9/site-packages/tornado/platform/asyncio.py', line 205, code start>, filename='/home/echelon/anaconda3/lib/python3.9/site-packages/tornado/platform/asyncio.py', lineno=205, function='start', code_context=['        self.asyncio_loop.run_forever()\\n'], index=0), FrameInfo(frame=<frame at 0x78052089e440, file '/home/echelon/anaconda3/lib/python3.9/site-packages/ipykernel/kernelapp.py', line 712, code start>, filename='/home/echelon/anaconda3/lib/python3.9/site-packages/ipykernel/kernelapp.py', lineno=712, function='start', code_context=['                self.io_loop.start()\\n'], index=0), FrameInfo(frame=<frame at 0x1e2adb0, file '/home/echelon/anaconda3/lib/python3.9/site-packages/traitlets/config/application.py', line 1075, code launch_instance>, filename='/home/echelon/anaconda3/lib/python3.9/site-packages/traitlets/config/application.py', lineno=1075, function='launch_instance', code_context=['        app.start()\\n'], index=0), FrameInfo(frame=<frame at 0x7805234c23c0, file '/home/echelon/anaconda3/lib/python3.9/site-packages/ipykernel_launcher.py', line 17, code <module>>, filename='/home/echelon/anaconda3/lib/python3.9/site-packages/ipykernel_launcher.py', lineno=17, function='<module>', code_context=['    app.launch_new_instance()\\n'], index=0), FrameInfo(frame=<frame at 0x1c0b8a0, file '/home/echelon/anaconda3/lib/python3.9/runpy.py', line 87, code _run_code>, filename='/home/echelon/anaconda3/lib/python3.9/runpy.py', lineno=87, function='_run_code', code_context=['    exec(code, run_globals)\\n'], index=0), FrameInfo(frame=<frame at 0x1b9a070, file '/home/echelon/anaconda3/lib/python3.9/runpy.py', line 197, code _run_module_as_main>, filename='/home/echelon/anaconda3/lib/python3.9/runpy.py', lineno=197, function='_run_module_as_main', code_context=['    return _run_code(code, main_globals, None,\\n'], index=0)]'''\n",
    "for i in s.split(', '):\n",
    "    print(i)"
   ]
  },
  {
   "cell_type": "markdown",
   "metadata": {
    "vscode": {
     "languageId": "html"
    }
   },
   "source": [
    "<h1>Creation of generic logger and usage</h1>"
   ]
  },
  {
   "cell_type": "code",
   "execution_count": 1,
   "metadata": {},
   "outputs": [],
   "source": [
    "from custlogger import get_custom_logger\n",
    "import logging\n",
    "\n",
    "def log_test():\n",
    "    logger = get_custom_logger(logging.DEBUG)\n",
    "    logger.critical('critical message from test module')\n",
    "    logger.error('error message from test module')\n",
    "    logger.warning('warning message from test module')\n",
    "    logger.info('info message from test module')\n",
    "    logger.debug('debug message from test module')\n",
    "\n",
    "log_test()\n"
   ]
  },
  {
   "cell_type": "code",
   "execution_count": 3,
   "metadata": {},
   "outputs": [],
   "source": [
    "from custlogger import get_custom_logger\n",
    "import logging\n",
    "\n",
    "def log_student():\n",
    "    logger = get_custom_logger(logging.ERROR)\n",
    "    logger.critical('critical message from student module')\n",
    "    logger.error('error message from student module')\n",
    "    logger.warning('warning message from student module')\n",
    "    logger.info('info message from student module')\n",
    "    logger.debug('debug message from student module')\n",
    "\n",
    "log_student()\n"
   ]
  },
  {
   "cell_type": "markdown",
   "metadata": {
    "vscode": {
     "languageId": "html"
    }
   },
   "source": [
    "<h1>\"Need of separating logger configurations into a file or dict or JSON or YAML?\"</h1>"
   ]
  },
  {
   "cell_type": "markdown",
   "metadata": {
    "vscode": {
     "languageId": "html"
    }
   },
   "source": [
    "<p>This discusses the importance of organizing logger configurations in different formats, which is a common practice in software development for better management and readability.</p>\n",
    "<p>If you need further assistance or have more content to convert, feel free to let me know!</p>"
   ]
  },
  {
   "cell_type": "markdown",
   "metadata": {},
   "source": [
    "<!DOCTYPE html>\n",
    "<html>\n",
    "<head>\n",
    "    <title>Advantages</title>\n",
    "</head>\n",
    "<body>\n",
    "    <h1>Advantages:</h1>\n",
    "    <ol>\n",
    "        <li>Modifications will become very easy.</li>\n",
    "        <li>We can reuse the same configurations in different modules.</li>\n",
    "        <li>Length of the code will be reduced and readability will be improved.</li>\n",
    "    </ol>\n",
    "</body>\n",
    "</html>\n"
   ]
  },
  {
   "cell_type": "code",
   "execution_count": 1,
   "metadata": {},
   "outputs": [],
   "source": [
    "import logging\n",
    "import logging.config\n",
    "\n",
    "logging.config.fileConfig(\"logging_config.init\")\n",
    "logger = logging.getLogger('demologger')\n",
    "\n",
    "logger.critical('It is a critical message')\n",
    "logger.error('It is an error message')\n",
    "logger.warning('It is a warning message')\n",
    "logger.info('It is an info message')\n",
    "logger.debug('It is a debug message')\n"
   ]
  },
  {
   "cell_type": "markdown",
   "metadata": {},
   "source": [
    "using dict"
   ]
  },
  {
   "cell_type": "code",
   "execution_count": 10,
   "metadata": {},
   "outputs": [
    {
     "name": "stderr",
     "output_type": "stream",
     "text": [
      "07/12/2024 10:20:42 PM:root:CRITICAL:It is a critical message\n",
      "07/12/2024 10:20:42 PM:root:ERROR:It is an error message\n",
      "07/12/2024 10:20:42 PM:root:WARNING:It is a warning message\n",
      "07/12/2024 10:20:42 PM:root:INFO:It is an info message\n",
      "07/12/2024 10:20:42 PM:root:DEBUG:It is a debug message\n"
     ]
    }
   ],
   "source": [
    "import logging\n",
    "from logging.config import dictConfig\n",
    "\n",
    "logging_config = dict(\n",
    "    version=1,\n",
    "    formatters={\n",
    "        'f': {\n",
    "            'format': '%(asctime)s:%(name)s:%(levelname)s:%(message)s',\n",
    "            'datefmt': '%d/%m/%Y %I:%M:%S %p'\n",
    "        }\n",
    "    },\n",
    "    handlers={\n",
    "        'h': {\n",
    "            'class': 'logging.StreamHandler',\n",
    "            'formatter': 'f',\n",
    "            'level': logging.DEBUG\n",
    "        }\n",
    "    },\n",
    "    root={\n",
    "        'handlers': ['h'],\n",
    "        'level': logging.DEBUG,\n",
    "    },\n",
    ")\n",
    "\n",
    "dictConfig(logging_config)\n",
    "\n",
    "logger = logging.getLogger()\n",
    "\n",
    "logger.critical('It is a critical message')\n",
    "logger.error('It is an error message')\n",
    "logger.warning('It is a warning message')\n",
    "logger.info('It is an info message')\n",
    "logger.debug('It is a debug message')\n"
   ]
  },
  {
   "cell_type": "code",
   "execution_count": 2,
   "metadata": {},
   "outputs": [
    {
     "name": "stderr",
     "output_type": "stream",
     "text": [
      "07/12/2024 10:21:16 PM:root:CRITICAL:It is a critical message\n",
      "07/12/2024 10:21:16 PM:root:ERROR:It is an error message\n"
     ]
    }
   ],
   "source": [
    "import logging\n",
    "from logging.config import dictConfig\n",
    "\n",
    "logging_config = dict(\n",
    "    version=1,\n",
    "    formatters={\n",
    "        'f': {\n",
    "            'format': '%(asctime)s:%(name)s:%(levelname)s:%(message)s',\n",
    "            'datefmt': '%d/%m/%Y %I:%M:%S %p'\n",
    "        }\n",
    "    },\n",
    "    handlers={\n",
    "        'h': {\n",
    "            'class': 'logging.StreamHandler',\n",
    "            'formatter': 'f',\n",
    "            'level': logging.ERROR\n",
    "        }\n",
    "    },\n",
    "    root={\n",
    "        'handlers': ['h'],\n",
    "        'level': logging.ERROR,\n",
    "    },\n",
    ")\n",
    "\n",
    "dictConfig(logging_config)\n",
    "\n",
    "logger = logging.getLogger()\n",
    "\n",
    "\n",
    "logger.critical('It is a critical message')\n",
    "logger.error('It is an error message')\n",
    "logger.warning('It is a warning message')\n",
    "logger.info('It is an info message')\n",
    "logger.debug('It is a debug message')\n"
   ]
  },
  {
   "cell_type": "code",
   "execution_count": null,
   "metadata": {},
   "outputs": [],
   "source": []
  }
 ],
 "metadata": {
  "kernelspec": {
   "display_name": "base",
   "language": "python",
   "name": "python3"
  },
  "language_info": {
   "codemirror_mode": {
    "name": "ipython",
    "version": 3
   },
   "file_extension": ".py",
   "mimetype": "text/x-python",
   "name": "python",
   "nbconvert_exporter": "python",
   "pygments_lexer": "ipython3",
   "version": "3.9.20"
  }
 },
 "nbformat": 4,
 "nbformat_minor": 2
}
