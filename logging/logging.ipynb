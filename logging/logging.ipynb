{
 "cells": [
  {
   "cell_type": "markdown",
   "metadata": {},
   "source": [
    "<!DOCTYPE html>\n",
    "<html lang=\"en\">\n",
    "<head>\n",
    "    <meta charset=\"UTF-8\">\n",
    "    <meta name=\"viewport\" content=\"width=device-width, initial-scale=1.0\">\n",
    "    <title>Python Logging</title>\n",
    "</head>\n",
    "<body>\n",
    "    <h1>Python Logging</h1>\n",
    "    <p>\n",
    "        It is highly recommended to store complete application flow and exception information to a file. \n",
    "        This process of writing data to the file is called <strong>logging</strong>.\n",
    "    </p>\n",
    "    <h2>The main advantages of logging are:</h2>\n",
    "    <ol>\n",
    "        <li>We can use log files while performing debugging.</li>\n",
    "        <li>We can generate utilization reports like the number of requests per day, etc.</li>\n",
    "    </ol>\n",
    "</body>\n",
    "</html>\n"
   ]
  },
  {
   "cell_type": "markdown",
   "metadata": {},
   "source": [
    "<!DOCTYPE html>\n",
    "<html lang=\"en\">\n",
    "<head>\n",
    "    <meta charset=\"UTF-8\">\n",
    "    <meta name=\"viewport\" content=\"width=device-width, initial-scale=1.0\">\n",
    "    <title>Logging Levels</title>\n",
    "</head>\n",
    "<body>\n",
    "    <h1>Logging Levels</h1>\n",
    "    <ol>\n",
    "        <li>\n",
    "            <strong>CRITICAL (50):</strong> \n",
    "            Represents a very serious problem that needs high attention like Complete Application Failure.\n",
    "        </li>\n",
    "        <li>\n",
    "            <strong>ERROR (40):</strong> \n",
    "            Represents a serious error. Some part of the application is not working properly.\n",
    "        </li>\n",
    "        <li>\n",
    "            <strong>WARNING (30):</strong> \n",
    "            Represents a warning message, some caution needed. It is an alert to the programmer.\n",
    "        </li>\n",
    "        <li>\n",
    "            <strong>INFO (20):</strong>\n",
    "            Represents a message with some important information.\n",
    "        </li>\n",
    "        <li>\n",
    "            <strong>DEBUG (10):</strong>\n",
    "            Represents a message with debugging information.\n",
    "        </li>\n",
    "        <li>\n",
    "            <strong>NOTSET (0):</strong>\n",
    "            Represents that level is not set.\n",
    "        </li>\n",
    "    </ol>\n",
    "</body>\n",
    "</html>\n"
   ]
  },
  {
   "cell_type": "code",
   "execution_count": 5,
   "metadata": {},
   "outputs": [
    {
     "name": "stdout",
     "output_type": "stream",
     "text": [
      "************************************logging demo************************************\n"
     ]
    }
   ],
   "source": [
    "import logging\n",
    "\n",
    "logging.basicConfig(filename='log.txt',level=logging.WARNING) # here logging.WARNING : means it will save the log for warning,error and critical \n",
    "\n",
    "print('************************************logging demo************************************')\n",
    "\n",
    "logging.critical('This is critical message')\n",
    "logging.error('This is error message') \n",
    "logging.warning('This is warning message')\n",
    "logging.info('This is info message') \n",
    "logging.debug('This is debug message') "
   ]
  },
  {
   "cell_type": "code",
   "execution_count": 1,
   "metadata": {},
   "outputs": [
    {
     "name": "stdout",
     "output_type": "stream",
     "text": [
      "************************************log written into the log.txtt************************************\n"
     ]
    }
   ],
   "source": [
    "import logging\n",
    "\n",
    "filename = 'log.txtt'\n",
    "logging.basicConfig(filename=filename,level=logging.DEBUG) # here logging.DEBUG : means it will save the log for debug,info,warning,error and critical\n",
    "\n",
    "print(f'************************************log written into the {filename}************************************')\n",
    "\n",
    "logging.critical('This is critical message')\n",
    "logging.error('This is error message') \n",
    "logging.warning('This is warning message')\n",
    "logging.info('This is info message') \n",
    "logging.debug('This is debug message') "
   ]
  },
  {
   "cell_type": "code",
   "execution_count": 1,
   "metadata": {},
   "outputs": [
    {
     "name": "stdout",
     "output_type": "stream",
     "text": [
      "************************************log written into the log.txtt************************************\n",
      "CRITICAL:root:This is critical message\n",
      "ERROR:root:This is error message\n",
      "WARNING:root:This is warning message\n",
      "INFO:root:This is info message\n",
      "DEBUG:root:This is debug message\n",
      "\n"
     ]
    }
   ],
   "source": [
    "import logging\n",
    "\n",
    "filename = 'log.txtt'\n",
    "logging.basicConfig(filename=filename,\n",
    "                    level=logging.DEBUG,\n",
    "                    # filemode='a',# to append the logs in the existing log file \n",
    "                    filemode='w',# to over write \n",
    "                    \n",
    "                    )\n",
    "\n",
    "print(f'************************************log written into the {filename}************************************')\n",
    "\n",
    "logging.critical('This is critical message')\n",
    "logging.error('This is error message') \n",
    "logging.warning('This is warning message')\n",
    "logging.info('This is info message') \n",
    "logging.debug('This is debug message') \n",
    "\n",
    "with open('log.txtt','r') as f:\n",
    "    data = f.read()\n",
    "    print(data)"
   ]
  },
  {
   "cell_type": "code",
   "execution_count": 2,
   "metadata": {},
   "outputs": [
    {
     "name": "stderr",
     "output_type": "stream",
     "text": [
      "CRITICAL:root:This is critical message\n",
      "ERROR:root:This is error message\n",
      "WARNING:root:This is warning message\n"
     ]
    },
    {
     "name": "stdout",
     "output_type": "stream",
     "text": [
      "************************************log written onto the console************************************\n"
     ]
    }
   ],
   "source": [
    "import logging\n",
    "\n",
    "filename = 'log.txtt'\n",
    "logging.basicConfig(\n",
    "                    # filename=filename, # if we do not specify the filename then log will be displayed at console\n",
    "                    # level=logging.DEBUG, # default value of level is WARNING ,if we do not specify that\n",
    "                    # filemode='a',# If we do not specify the filemode then default value will be a i.e append mode \n",
    "                    )\n",
    "\n",
    "print(f'************************************log written onto the console************************************')\n",
    "\n",
    "logging.critical('This is critical message')\n",
    "logging.error('This is error message') \n",
    "logging.warning('This is warning message')\n",
    "logging.info('This is info message') \n",
    "logging.debug('This is debug message') \n",
    "\n"
   ]
  },
  {
   "cell_type": "markdown",
   "metadata": {
    "vscode": {
     "languageId": "html"
    }
   },
   "source": [
    "<h1>how to format log messages</h1>"
   ]
  },
  {
   "cell_type": "code",
   "execution_count": 2,
   "metadata": {},
   "outputs": [
    {
     "name": "stderr",
     "output_type": "stream",
     "text": [
      "CRITICAL, root, This is critical message\n",
      "ERROR, root, This is error message\n",
      "WARNING, root, This is warning message\n"
     ]
    },
    {
     "name": "stdout",
     "output_type": "stream",
     "text": [
      "************************************log is showing onto the console************************************\n"
     ]
    }
   ],
   "source": [
    "import logging\n",
    "\n",
    "filename = 'log.txtt'\n",
    "logging.basicConfig(\n",
    "    # format='%(levelname)s'# levelname : only level will be displayed \n",
    "    # format='%(levelname)s:%(name)s:%(message)s'# levelname:logger name:message will be displayed \n",
    "    format='%(levelname)s, %(name)s, %(message)s'\n",
    "    \n",
    "    \n",
    "    \n",
    "    )\n",
    "\n",
    "print(f'************************************log is showing onto the console************************************')\n",
    "\n",
    "logging.critical('This is critical message')\n",
    "logging.error('This is error message') \n",
    "logging.warning('This is warning message')\n",
    "logging.info('This is info message') \n",
    "logging.debug('This is debug message') \n",
    "\n"
   ]
  },
  {
   "cell_type": "code",
   "execution_count": 1,
   "metadata": {},
   "outputs": [
    {
     "name": "stderr",
     "output_type": "stream",
     "text": [
      "CRITICAL:root:This is critical message:process-id986906:line_no 10\n",
      "ERROR:root:This is error message:process-id986906:line_no 11\n",
      "WARNING:root:This is warning message:process-id986906:line_no 12\n"
     ]
    },
    {
     "name": "stdout",
     "output_type": "stream",
     "text": [
      "************************************log is showing onto the console************************************\n"
     ]
    }
   ],
   "source": [
    "import logging\n",
    "\n",
    "filename = 'log.txtt'\n",
    "logging.basicConfig(\n",
    "    format='%(levelname)s:%(name)s:%(message)s:process-id%(process)s:line_no %(lineno)s'\n",
    "    )\n",
    "\n",
    "print(f'************************************log is showing onto the console************************************')\n",
    "\n",
    "logging.critical('This is critical message')\n",
    "logging.error('This is error message') \n",
    "logging.warning('This is warning message')\n",
    "logging.info('This is info message') \n",
    "logging.debug('This is debug message') \n"
   ]
  },
  {
   "cell_type": "markdown",
   "metadata": {
    "vscode": {
     "languageId": "html"
    }
   },
   "source": [
    "<h1>how to add timestamp in log messages</h1>"
   ]
  },
  {
   "cell_type": "code",
   "execution_count": 2,
   "metadata": {},
   "outputs": [
    {
     "name": "stderr",
     "output_type": "stream",
     "text": [
      "02/12/2024 22:12:1733158987:CRITICAL:root:This is critical message:process-id1018055:line_no 13\n",
      "02/12/2024 22:12:1733158987:ERROR:root:This is error message:process-id1018055:line_no 14\n",
      "02/12/2024 22:12:1733158987:WARNING:root:This is warning message:process-id1018055:line_no 15\n"
     ]
    },
    {
     "name": "stdout",
     "output_type": "stream",
     "text": [
      "************************************log is showing onto the console************************************\n"
     ]
    }
   ],
   "source": [
    "import logging\n",
    "\n",
    "filename = 'log.txtt'\n",
    "logging.basicConfig(\n",
    "    format='%(asctime)s:%(levelname)s:%(name)s:%(message)s:process-id%(process)s:line_no %(lineno)s',\n",
    "    # datefmt='%d/%m/%Y %I:%m:%S %p' # %I == 12 hours format and %p for am/pm \n",
    "    datefmt='%d/%m/%Y %H:%m:%S' # %H == 24 hours format \n",
    "    \n",
    "    )\n",
    "\n",
    "print(f'************************************log is showing onto the console************************************')\n",
    "\n",
    "logging.critical('This is critical message')\n",
    "logging.error('This is error message') \n",
    "logging.warning('This is warning message')\n",
    "logging.info('This is info message') \n",
    "logging.debug('This is debug message') \n"
   ]
  },
  {
   "cell_type": "markdown",
   "metadata": {
    "vscode": {
     "languageId": "html"
    }
   },
   "source": [
    "<h1>How to write exceptions in log file</h1>"
   ]
  },
  {
   "cell_type": "code",
   "execution_count": 2,
   "metadata": {},
   "outputs": [
    {
     "name": "stdout",
     "output_type": "stream",
     "text": [
      "Cannot divide by zero...\n"
     ]
    }
   ],
   "source": [
    "import logging \n",
    "\n",
    "logging.basicConfig(filename='mylog:03-10-2024.log',\n",
    "                    level=logging.INFO,\n",
    "                    format='%(asctime)s:%(levelname)s:%(message)s',\n",
    "                    datefmt = '%d/%m/%Y %I:%m:%S %p'\n",
    "                    )\n",
    "logging.info('A new request came')\n",
    "try:\n",
    "    x = int(input('Enter the first number : '))\n",
    "    y = int(input('Enter the second number : '))\n",
    "    print(f'The result is : {x/y}')\n",
    "    \n",
    "except ZeroDivisionError as e:\n",
    "    print('Cannot divide by zero...')\n",
    "    logging.exception(enumerate) \n",
    "except ValueError as e: \n",
    "    print('Please provide integer value...')\n",
    "    logging.exception(e)\n",
    "logging.info('A request processing completed')"
   ]
  },
  {
   "cell_type": "code",
   "execution_count": null,
   "metadata": {},
   "outputs": [],
   "source": []
  }
 ],
 "metadata": {
  "kernelspec": {
   "display_name": "base",
   "language": "python",
   "name": "python3"
  },
  "language_info": {
   "codemirror_mode": {
    "name": "ipython",
    "version": 3
   },
   "file_extension": ".py",
   "mimetype": "text/x-python",
   "name": "python",
   "nbconvert_exporter": "python",
   "pygments_lexer": "ipython3",
   "version": "3.9.20"
  }
 },
 "nbformat": 4,
 "nbformat_minor": 2
}
