{
 "cells": [
  {
   "cell_type": "code",
   "execution_count": 12,
   "metadata": {},
   "outputs": [
    {
     "name": "stdout",
     "output_type": "stream",
     "text": [
      "enter no. of elements :-> 4\n",
      "1. 23\n",
      "2. 2332\n",
      "3. 232\n",
      "4. 323\n",
      "Enter your search element :23\n"
     ]
    },
    {
     "data": {
      "text/plain": [
       "'element is at 1'"
      ]
     },
     "execution_count": 12,
     "metadata": {},
     "output_type": "execute_result"
    }
   ],
   "source": [
    "#Linear Search\n",
    "l=[]\n",
    "for i in range(int(input('enter no. of elements :-> '))):\n",
    "       element=l.append(int(input(f'{i+1}. ' )))\n",
    "        \n",
    "search_element=int(input('Enter your search element :'))\n",
    "f'element is at {l.index(search_element)+1}' if search_element in l  else f'element not found'"
   ]
  },
  {
   "cell_type": "markdown",
   "metadata": {},
   "source": [
    "# Linear Search"
   ]
  },
  {
   "cell_type": "code",
   "execution_count": 7,
   "metadata": {},
   "outputs": [
    {
     "name": "stdout",
     "output_type": "stream",
     "text": [
      "2 4 5 3 6\n",
      "5\n",
      "Element is at index 2\n"
     ]
    }
   ],
   "source": [
    "#Linear Search\n",
    "array=list(map(int,input().split()))\n",
    "key=int(input())\n",
    "# if key in array:\n",
    "#     print(f'Element is at index {array.index(key)}')\n",
    "# else:\n",
    "#     print('Element is not present in the array')\n",
    "for i in array:\n",
    "    if key==i:\n",
    "        print(f'Element is at index {array.index(i)}')\n",
    "        break\n",
    "else:\n",
    "    print('Element is not present in the array')"
   ]
  },
  {
   "cell_type": "markdown",
   "metadata": {},
   "source": [
    "# Binary Search"
   ]
  },
  {
   "cell_type": "raw",
   "metadata": {},
   "source": [
    "Binary search works on sorted arrays. Binary search begins by comparing an element in the middle of the array with the target value. If the target value matches the element, its position in the array is returned. If the target value is less than the element, the search continues in the lower half of the array."
   ]
  },
  {
   "cell_type": "markdown",
   "metadata": {},
   "source": [
    "## Time Complexity is O(log(n))"
   ]
  },
  {
   "cell_type": "code",
   "execution_count": 21,
   "metadata": {},
   "outputs": [
    {
     "name": "stdout",
     "output_type": "stream",
     "text": [
      "1 2 3 4 5 6 7 8 9 10 11 12\n",
      "8\n",
      "Element is at index 7\n"
     ]
    }
   ],
   "source": [
    "#Binary Search\n",
    "array=list(map(int,input().split()))\n",
    "key=int(input())\n",
    "def binary_search(array,key):\n",
    "    s=0#Starting index of the array\n",
    "    e=len(array)#Last index of the array\n",
    "    while(s<=e):\n",
    "        mid=(s+e)//2\n",
    "        if array[mid]==key:\n",
    "            return f'Element is at index {mid}'\n",
    "        elif array[mid]>key:\n",
    "            e=mid-1\n",
    "        else:\n",
    "            s=mid+1\n",
    "    else:\n",
    "        return f'Element not present in the list'\n",
    "print(binary_search(array,key))       "
   ]
  },
  {
   "cell_type": "markdown",
   "metadata": {},
   "source": [
    "# Selection Sort"
   ]
  },
  {
   "cell_type": "raw",
   "metadata": {},
   "source": [
    "Key points : \n",
    "    Find the minimum element in the unsorted array/list and swap it with\n",
    "    element at beginning."
   ]
  },
  {
   "cell_type": "code",
   "execution_count": 25,
   "metadata": {},
   "outputs": [
    {
     "name": "stdout",
     "output_type": "stream",
     "text": [
      "2 3 3 4    5 6 7 8 44 332 \n"
     ]
    },
    {
     "data": {
      "text/plain": [
       "[2, 3, 3, 4, 5, 6, 7, 8, 44, 332]"
      ]
     },
     "execution_count": 25,
     "metadata": {},
     "output_type": "execute_result"
    }
   ],
   "source": [
    "#Selection Sort\n",
    "arr=list(map(int,input().split()))\n",
    "def selection_sort(arr):\n",
    "    for i in range(len(arr)-1):#This is the 1st pointer which is initially pointing 1st element of the array/list.\n",
    "        for j in range(i+1,len(arr)):#This is the 2nd pointer which is initially pointing the 2nd element of the array/list\n",
    "            if arr[j]<arr[i]:\n",
    "                temp=arr[j]\n",
    "                arr[j]=arr[i]\n",
    "                arr[i]=temp\n",
    "    return arr\n",
    "selection_sort(arr)"
   ]
  },
  {
   "cell_type": "markdown",
   "metadata": {},
   "source": [
    "# Bubble Sort"
   ]
  },
  {
   "cell_type": "raw",
   "metadata": {},
   "source": [
    "Key points:\n",
    "    Repeatedly swap two adjacent elements if they are in wrong order.\n"
   ]
  },
  {
   "cell_type": "raw",
   "metadata": {},
   "source": [
    "i-th iteration ====> n-i"
   ]
  },
  {
   "cell_type": "code",
   "execution_count": 30,
   "metadata": {},
   "outputs": [
    {
     "name": "stdout",
     "output_type": "stream",
     "text": [
      "2 4 51 21 5 7 4\n"
     ]
    },
    {
     "data": {
      "text/plain": [
       "[2, 4, 4, 5, 7, 21, 51]"
      ]
     },
     "execution_count": 30,
     "metadata": {},
     "output_type": "execute_result"
    }
   ],
   "source": [
    "arr=list(map(int,input().split()))\n",
    "def bubble_sort(arr):\n",
    "    counter=1\n",
    "    while(counter<len(arr)):\n",
    "        for i in range(len(arr)-counter):\n",
    "            if arr[i]>arr[i+1]:\n",
    "                temp=arr[i]\n",
    "                arr[i]=arr[i+1]\n",
    "                arr[i+1]=temp\n",
    "        counter+=1\n",
    "    return arr\n",
    "bubble_sort(arr)"
   ]
  },
  {
   "cell_type": "code",
   "execution_count": null,
   "metadata": {},
   "outputs": [],
   "source": []
  }
 ],
 "metadata": {
  "kernelspec": {
   "display_name": "Python 3",
   "language": "python",
   "name": "python3"
  },
  "language_info": {
   "codemirror_mode": {
    "name": "ipython",
    "version": 3
   },
   "file_extension": ".py",
   "mimetype": "text/x-python",
   "name": "python",
   "nbconvert_exporter": "python",
   "pygments_lexer": "ipython3",
   "version": "3.8.3"
  }
 },
 "nbformat": 4,
 "nbformat_minor": 2
}
