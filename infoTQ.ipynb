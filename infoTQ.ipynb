{
 "cells": [
  {
   "cell_type": "code",
   "execution_count": 8,
   "metadata": {},
   "outputs": [
    {
     "name": "stdout",
     "output_type": "stream",
     "text": [
      "capacity:2\n",
      "space left in the list 8\n"
     ]
    }
   ],
   "source": [
    "# #Do not remove the below import statement\n",
    "# import sys\n",
    "\n",
    "# '''This function provides the capacity, size and space left in the list.\n",
    "# You can invoke it to get the details of the list'''\n",
    "\n",
    "# def list_details(lst):\n",
    "#     #Number of elements that can be stored in the list\n",
    "#     print(\"Capacity:\", (sys.getsizeof(lst)-36)//4)\n",
    "\n",
    "#     #Number of elements in the list\n",
    "#     print(\"Size:\", len(lst))\n",
    "\n",
    "#     #Number of elements that can be accommodated in the space left\n",
    "#     print(\"Space Left:\", ((sys.getsizeof(lst)-36) - len(lst*4))//4)\n",
    "\n",
    "#     #formula changes based on the system architecture\n",
    "#     #(size-36)/4 for 32 bit machines and\n",
    "#     #(size-64)/8 for 64 bit machines\n",
    "\n",
    "#     # 36, 64 - size of an empty list based on machine\n",
    "#     # 4, 8 - size of a single element in the list based on machine\n",
    "\n",
    "# marias_lst=[]\n",
    "# print(\"Empty list created!!!\")\n",
    "# print(\"List details:\")\n",
    "# list_details(marias_lst)\n",
    "import sys\n",
    "l=[]\n",
    "print('capacity',((sys.getsizeof(l)-64)//4),sep=':')\n",
    "print('space left in the list',(sys.getsizeof(l)-64) -(len(l*4))//4)"
   ]
  },
  {
   "cell_type": "code",
   "execution_count": 2,
   "metadata": {},
   "outputs": [
    {
     "name": "stdout",
     "output_type": "stream",
     "text": [
      "3\n",
      "6\n",
      "YES\n",
      "5\n",
      "NO\n",
      "28\n",
      "YES\n"
     ]
    }
   ],
   "source": [
    "def Solve (N):\n",
    "    # Write your code here\n",
    "    l=[]\n",
    "    for i in range(1,N//2+1):\n",
    "        if N%i==0:\n",
    "            l.append(i)\n",
    "    if N==sum(l):\n",
    "        return 'YES'\n",
    "    else:\n",
    "        return 'NO'\n",
    "T = int(input())\n",
    "for _ in range(T):\n",
    "    N = int(input())\n",
    "    out_ = Solve(N)\n",
    "    print (out_)"
   ]
  },
  {
   "cell_type": "code",
   "execution_count": 15,
   "metadata": {},
   "outputs": [
    {
     "name": "stdout",
     "output_type": "stream",
     "text": [
      "2\n",
      "6 4\n",
      "21 2 3 7 4 8\n",
      "26\n",
      "2 34\n",
      "34\n"
     ]
    }
   ],
   "source": [
    "t = int(input())\n",
    "n,mm=input().split()\n",
    "n,mm=int(n),int(mm)\n",
    "z=n-(mm-1)\n",
    "l1=[]\n",
    "\n",
    "def solve(y,z):\n",
    "    h=0\n",
    "    li=[]\n",
    "    li1=[]\n",
    "    for i in range(len(y)):\n",
    "        if len(y[h:z])==z:\n",
    "            li.extend(y[h:z])\n",
    "        for i in y:\n",
    "            if i not in li:\n",
    "                li1.append(i)\n",
    "        li1.append(sum(li))\n",
    "        h,z=h+1,z+1\n",
    "#         for i in y:\n",
    "#             if i not in \n",
    "    return max(li1)\n",
    "for i in range(t):\n",
    "    l=list(map(int,input().split()))\n",
    "    \n",
    "    x=solve(l,z)\n",
    "    print(x)"
   ]
  },
  {
   "cell_type": "code",
   "execution_count": 13,
   "metadata": {},
   "outputs": [
    {
     "data": {
      "text/plain": [
       "[1, 2, 3, 4, 5, 1, 2, 3]"
      ]
     },
     "execution_count": 13,
     "metadata": {},
     "output_type": "execute_result"
    }
   ],
   "source": [
    "l=[1,2,3,4,5]\n",
    "l.extend(l[:3])\n",
    "l"
   ]
  },
  {
   "cell_type": "code",
   "execution_count": 2,
   "metadata": {},
   "outputs": [
    {
     "name": "stdout",
     "output_type": "stream",
     "text": [
      "[0, 2, 12, 20, 30]\n"
     ]
    }
   ],
   "source": [
    "# program 01\n",
    "str='1203456'\n",
    "l=[]\n",
    "for i in range(len(str)):\n",
    "    for j in range(len(str)-1):\n",
    "        if int(str[i])==int(str[j:j+1])+1 or int(str[i])==int(str[j:j+1])-1:\n",
    "            if int(str[j])*int(str[j+1])  not in l:\n",
    "                l.append(int(str[j])*int(str[j+1]))\n",
    "print(l)"
   ]
  },
  {
   "cell_type": "code",
   "execution_count": 3,
   "metadata": {},
   "outputs": [
    {
     "name": "stdout",
     "output_type": "stream",
     "text": [
      "['In', 'Out', '_', '__', '___', '__builtin__', '__builtins__', '__doc__', '__loader__', '__name__', '__package__', '__spec__', '_dh', '_i', '_i1', '_i2', '_i3', '_ih', '_ii', '_iii', '_oh', 'exit', 'get_ipython', 'quit', 'x']\n"
     ]
    }
   ],
   "source": []
  },
  {
   "cell_type": "code",
   "execution_count": null,
   "metadata": {},
   "outputs": [],
   "source": []
  }
 ],
 "metadata": {
  "kernelspec": {
   "display_name": "Python 3",
   "language": "python",
   "name": "python3"
  },
  "language_info": {
   "codemirror_mode": {
    "name": "ipython",
    "version": 3
   },
   "file_extension": ".py",
   "mimetype": "text/x-python",
   "name": "python",
   "nbconvert_exporter": "python",
   "pygments_lexer": "ipython3",
   "version": "3.7.4"
  }
 },
 "nbformat": 4,
 "nbformat_minor": 2
}
