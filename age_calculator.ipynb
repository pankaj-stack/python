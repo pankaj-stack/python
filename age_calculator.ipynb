{
 "cells": [
  {
   "cell_type": "code",
   "execution_count": 8,
   "metadata": {},
   "outputs": [
    {
     "name": "stdout",
     "output_type": "stream",
     "text": [
      "True\n",
      "False\n",
      "True\n"
     ]
    },
    {
     "name": "stderr",
     "output_type": "stream",
     "text": [
      "<>:3: SyntaxWarning: \"is\" with a literal. Did you mean \"==\"?\n",
      "<>:3: SyntaxWarning: \"is\" with a literal. Did you mean \"==\"?\n",
      "<ipython-input-8-929488ed062e>:3: SyntaxWarning: \"is\" with a literal. Did you mean \"==\"?\n",
      "  print('7' is '7')\n"
     ]
    }
   ],
   "source": [
    "print(7 == 7.0) \n",
    "print(7 == '7')\n",
    "print('7' is '7')"
   ]
  },
  {
   "cell_type": "code",
   "execution_count": 79,
   "metadata": {},
   "outputs": [
    {
     "name": "stdout",
     "output_type": "stream",
     "text": [
      "<class 'str'>\n",
      "2020-01-09\n",
      "2013-06-23 00:00:00\n",
      "6\n"
     ]
    }
   ],
   "source": [
    "from datetime import date\n",
    "import datetime\n",
    "today = date.today()\n",
    "today=str(today)\n",
    "print(type(today))\n",
    "print(today)\n",
    "datetime.datetime.today()\n",
    "x=datetime.datetime(2013, 6, 23)\n",
    "y=datetime.datetime.today()\n",
    "print(x)\n",
    "print(x.weekday())"
   ]
  },
  {
   "cell_type": "code",
   "execution_count": 2,
   "metadata": {},
   "outputs": [
    {
     "name": "stdout",
     "output_type": "stream",
     "text": [
      "0 MONDAY\n",
      "1 TUESDAY\n",
      "2 WEDNESDAY\n",
      "3 THURSDAY\n",
      "5 SATURDAY\n",
      "6 SUNDAY\n",
      "0 MONDAY\n",
      "1 TUESDAY\n",
      "3 THURSDAY\n",
      "4 FRIDAY\n"
     ]
    }
   ],
   "source": [
    "#Return the day of the week as an integer, where Monday is 0 and Sunday is 6.\n",
    "import datetime\n",
    "from datetime import date\n",
    "y=date.today()\n",
    "year1,month1,day1=str(y).split('-')\n",
    "year1=int(year1)\n",
    "day_name=['MONDAY','TUESDAY','WEDNESDAY','THURSDAY','FRIDAY','SATURDAY','SUNDAY']\n",
    "list1=list(range(7))\n",
    "for i in range(10):\n",
    "    year_var=year1\n",
    "    x=datetime.datetime(year1,int(month1),int(day1)).weekday()\n",
    "    if x in list1:\n",
    "        print(x,day_name[x])\n",
    "    year1+=1"
   ]
  },
  {
   "cell_type": "code",
   "execution_count": 1,
   "metadata": {},
   "outputs": [
    {
     "name": "stderr",
     "output_type": "stream",
     "text": [
      "Exception in Tkinter callback\n",
      "Traceback (most recent call last):\n",
      "  File \"C:\\ProgramData\\Anaconda3\\lib\\tkinter\\__init__.py\", line 1883, in __call__\n",
      "    return self.func(*args)\n",
      "  File \"<ipython-input-1-a79a780718ae>\", line 30, in calculate\n",
      "    day,month,year=dobs.split()\n",
      "ValueError: not enough values to unpack (expected 3, got 0)\n",
      "Exception in Tkinter callback\n",
      "Traceback (most recent call last):\n",
      "  File \"C:\\ProgramData\\Anaconda3\\lib\\tkinter\\__init__.py\", line 1883, in __call__\n",
      "    return self.func(*args)\n",
      "  File \"<ipython-input-1-a79a780718ae>\", line 30, in calculate\n",
      "    day,month,year=dobs.split()\n",
      "ValueError: not enough values to unpack (expected 3, got 1)\n"
     ]
    },
    {
     "name": "stdout",
     "output_type": "stream",
     "text": [
      "years : 27 \n",
      "month : 2 \n",
      "days  : 10\n"
     ]
    }
   ],
   "source": [
    "#Age calculator\n",
    "from tkinter import *\n",
    "from datetime import date\n",
    "import datetime\n",
    "\n",
    "win=Tk()\n",
    "def upcoming_birthdays():\n",
    "    #button=Button(win,width=50,text='UPCOMING BIRTHDAYS',fg='white',bg='blue')\n",
    "    #button.grid(row=2,column=8)\n",
    "    y=date.today()\n",
    "    year1,month1,day1=str(y).split('-')\n",
    "    year1=int(year1)\n",
    "    day_name=['MONDAY','TUESDAY','WEDNESDAY','THURSDAY','FRIDAY','SATURDAY','SUNDAY']\n",
    "    list1=list(range(7))\n",
    "    for i in range(7):\n",
    "        button=Button(win,width=50,text=f'{year1} {month1} {day1}----->',bg='red',fg='white')\n",
    "        button.grid(row=i+9,column=2)\n",
    "        year1+=1\n",
    "    for i in range(7):\n",
    "        year_var=year1\n",
    "        x=datetime.datetime(year1,int(month1),int(day1)).weekday()\n",
    "        if x in list1:\n",
    "            #print(day_name[x])\n",
    "            button=Button(win,width=50,text=f'---------------------->{day_name[x]}',bg='green',fg='white')\n",
    "            button.grid(row=i+16,column=3)\n",
    "            year1+=1\n",
    "    \n",
    "def calculate():\n",
    "    dobs=dob.get()\n",
    "    day,month,year=dobs.split()\n",
    "    #print(day,month,year)\n",
    "    day,month,year=int(day),int(month),int(year)\n",
    "    month,year=month*30,year*365\n",
    "    past_days=day+month+year\n",
    "    #print(f'past days{past_days}' )\n",
    "    y,m,d=str(date.today()).split('-')\n",
    "    d,m,y=int(d),int(m),int(y)\n",
    "    m,y=m*30,y*365\n",
    "    current_days=d+m+y\n",
    "    #print(f'current days {current_days}' )\n",
    "    days=current_days-past_days\n",
    "    #print(days)\n",
    "    #print(days//365)\n",
    "    years,months,days=int(days/365),int((days%365)/30),((days%365)%30)\n",
    "    weeks,hours,minutes,seconds=days//7,days*24,days*24*60,days*24*60*60\n",
    "    print('years :',years,'\\nmonth :',months,'\\ndays  :',days)\n",
    "    l=['YEARS : ','MONTHS : ','DAYS : ','WEEKS : ','HOURS : ','MINUTES : '\n",
    "       ,'SECONDS : ']\n",
    "    l1=[years,months,days,weeks,hours,minutes,seconds]\n",
    "    for i in range(7):\n",
    "        button=Button(win,width=50,bg='red',fg='white',text=f'{l[i]}{l1[i]}' )\n",
    "        button.grid(row=i+2,column=1)\n",
    "    upcoming_birthdays()\n",
    "dob=StringVar()\n",
    "dob=Entry(win,width=50,textvariable=dob)\n",
    "dob.grid(row=0,column=0)\n",
    "button=Button(win,width=50,text='CALCULATE',fg='white',bg='blue',command=calculate)\n",
    "button.grid(row=1,column=0)\n",
    "win.geometry('1250x750')\n",
    "win.configure(background='yellow')\n",
    "win.mainloop()"
   ]
  },
  {
   "cell_type": "code",
   "execution_count": 2,
   "metadata": {},
   "outputs": [
    {
     "ename": "NameError",
     "evalue": "name 'day' is not defined",
     "output_type": "error",
     "traceback": [
      "\u001b[0;31m---------------------------------------------------------------------------\u001b[0m",
      "\u001b[0;31mNameError\u001b[0m                                 Traceback (most recent call last)",
      "\u001b[0;32m<ipython-input-2-5a8c864ef391>\u001b[0m in \u001b[0;36m<module>\u001b[0;34m\u001b[0m\n\u001b[0;32m----> 1\u001b[0;31m \u001b[0mprint\u001b[0m\u001b[0;34m(\u001b[0m\u001b[0mday\u001b[0m\u001b[0;34m,\u001b[0m\u001b[0myear\u001b[0m\u001b[0;34m,\u001b[0m\u001b[0mmonth\u001b[0m\u001b[0;34m)\u001b[0m\u001b[0;34m\u001b[0m\u001b[0;34m\u001b[0m\u001b[0m\n\u001b[0m\u001b[1;32m      2\u001b[0m \u001b[0mday\u001b[0m\u001b[0;34m,\u001b[0m\u001b[0mmonth\u001b[0m\u001b[0;34m,\u001b[0m\u001b[0myear\u001b[0m\u001b[0;34m=\u001b[0m\u001b[0mint\u001b[0m\u001b[0;34m(\u001b[0m\u001b[0mday\u001b[0m\u001b[0;34m)\u001b[0m\u001b[0;34m,\u001b[0m\u001b[0mint\u001b[0m\u001b[0;34m(\u001b[0m\u001b[0mmonth\u001b[0m\u001b[0;34m)\u001b[0m\u001b[0;34m,\u001b[0m\u001b[0mint\u001b[0m\u001b[0;34m(\u001b[0m\u001b[0myear\u001b[0m\u001b[0;34m)\u001b[0m\u001b[0;34m\u001b[0m\u001b[0;34m\u001b[0m\u001b[0m\n\u001b[1;32m      3\u001b[0m \u001b[0mmonth\u001b[0m\u001b[0;34m,\u001b[0m\u001b[0myear\u001b[0m\u001b[0;34m=\u001b[0m\u001b[0mmonth\u001b[0m\u001b[0;34m*\u001b[0m\u001b[0;36m30\u001b[0m\u001b[0;34m,\u001b[0m\u001b[0myear\u001b[0m\u001b[0;34m*\u001b[0m\u001b[0;36m365\u001b[0m\u001b[0;34m\u001b[0m\u001b[0;34m\u001b[0m\u001b[0m\n\u001b[1;32m      4\u001b[0m \u001b[0mpast_days\u001b[0m\u001b[0;34m=\u001b[0m\u001b[0mday\u001b[0m\u001b[0;34m+\u001b[0m\u001b[0mmonth\u001b[0m\u001b[0;34m+\u001b[0m\u001b[0myear\u001b[0m\u001b[0;34m\u001b[0m\u001b[0;34m\u001b[0m\u001b[0m\n\u001b[1;32m      5\u001b[0m \u001b[0md\u001b[0m\u001b[0;34m,\u001b[0m\u001b[0mm\u001b[0m\u001b[0;34m,\u001b[0m\u001b[0my\u001b[0m\u001b[0;34m=\u001b[0m\u001b[0minput\u001b[0m\u001b[0;34m(\u001b[0m\u001b[0;34m'enter curret date : '\u001b[0m\u001b[0;34m)\u001b[0m\u001b[0;34m.\u001b[0m\u001b[0msplit\u001b[0m\u001b[0;34m(\u001b[0m\u001b[0;34m)\u001b[0m\u001b[0;34m\u001b[0m\u001b[0;34m\u001b[0m\u001b[0m\n",
      "\u001b[0;31mNameError\u001b[0m: name 'day' is not defined"
     ]
    }
   ],
   "source": [
    "print(day,year,month)\n",
    "day,month,year=int(day),int(month),int(year)\n",
    "month,year=month*30,year*365\n",
    "past_days=day+month+year\n",
    "d,m,y=input('enter curret date : ').split()\n",
    "d,m,y=int(d),int(m),int(y)\n",
    "m,y=m*30,y*365\n",
    "current_days=d+m+y\n",
    "days=current_days-past_days\n",
    "years,months,days=int(days/365),int((days%365)/30),((days%365)%30)\n",
    "print('years :',years,'\\nmonth :',months,'\\ndays  :',days)\n",
    "win.mainloop()"
   ]
  },
  {
   "cell_type": "code",
   "execution_count": 2,
   "metadata": {},
   "outputs": [
    {
     "name": "stdout",
     "output_type": "stream",
     "text": [
      "hello\n"
     ]
    },
    {
     "name": "stderr",
     "output_type": "stream",
     "text": [
      "Exception in Tkinter callback\n",
      "Traceback (most recent call last):\n",
      "  File \"C:\\ProgramData\\Anaconda3\\lib\\tkinter\\__init__.py\", line 1883, in __call__\n",
      "    return self.func(*args)\n",
      "  File \"<ipython-input-2-228886e6fa07>\", line 31, in calculate\n",
      "    day,month,year=dobs.split()\n",
      "ValueError: not enough values to unpack (expected 3, got 1)\n"
     ]
    },
    {
     "name": "stdout",
     "output_type": "stream",
     "text": [
      "hello\n",
      "years : 25 \n",
      "month : 8 \n",
      "days  : 9394\n"
     ]
    }
   ],
   "source": [
    "#Age calculator\n",
    "from tkinter import *\n",
    "from datetime import date\n",
    "import datetime\n",
    "import time\n",
    "win=Tk()\n",
    "def upcoming_birthdays():\n",
    "    #button=Button(win,width=50,text='UPCOMING BIRTHDAYS',fg='white',bg='blue')\n",
    "    #button.grid(row=2,column=8)\n",
    "    y=date.today()\n",
    "    year1,month1,day1=str(y).split('-')\n",
    "    year1=int(year1)\n",
    "    day_name=['MONDAY','TUESDAY','WEDNESDAY','THURSDAY','FRIDAY','SATURDAY','SUNDAY']\n",
    "    list1=list(range(7))\n",
    "    for i in range(7):\n",
    "        button=Button(win,width=50,text=f'{year1} {month1} {day1}----->',bg='red',fg='white')\n",
    "        button.grid(row=i+9,column=2)\n",
    "        year1+=1\n",
    "    for i in range(7):\n",
    "        year_var=year1\n",
    "        x=datetime.datetime(year1,int(month1),int(day1)).weekday()\n",
    "        if x in list1:\n",
    "            #print(day_name[x])\n",
    "            button=Button(win,width=50,text=f'---------------------->{day_name[x]}',bg='green',fg='white')\n",
    "            button.grid(row=i+16,column=3)\n",
    "            year1+=1\n",
    "    \n",
    "def calculate():\n",
    "    print('hello')\n",
    "    dobs=dob.get()\n",
    "    day,month,year=dobs.split()\n",
    "    #print(day,month,year)\n",
    "    day,month,year=int(day),int(month),int(year)\n",
    "    month,year=month*30,year*365\n",
    "    past_days=day+month+year\n",
    "    #print(f'past days{past_days}' )\n",
    "    y,m,d=str(date.today()).split('-')\n",
    "    d,m,y=int(d),int(m),int(y)\n",
    "    m,y=m*30,y*365\n",
    "    current_days=d+m+y\n",
    "    #print(f'current days {current_days}' )\n",
    "    days=current_days-past_days\n",
    "    #print(days)\n",
    "    #print(days//365)\n",
    "    years,months=int(days/365),int((days%365)/30)#((days%365)%30)\n",
    "    weeks,hours,minutes,seconds=days//7,days*24,days*24*60,days*24*60*60\n",
    "    print('years :',years,'\\nmonth :',months,'\\ndays  :',days)\n",
    "    l=['YEARS : ','MONTHS : ','DAYS : ','WEEKS : ','HOURS : ','MINUTES : '\n",
    "       ,'SECONDS : ']\n",
    "    l1=[years,months,days,weeks,hours,minutes,seconds]\n",
    "    for i in range(7):\n",
    "        button=Button(win,width=50,bg='red',fg='white',text=f'{l[i]}{l1[i]}' )\n",
    "        button.grid(row=i+2,column=1)\n",
    "    upcoming_birthdays()\n",
    "dob=StringVar()\n",
    "dob=Entry(win,width=54,textvariable=dob)\n",
    "dob.grid(row=0,column=0)\n",
    "button=Button(win,width=50,text='CALCULATE',fg='white',bg='blue',command=calculate)\n",
    "button.grid(row=1,column=0)\n",
    "win.geometry('1250x750')\n",
    "win.configure(background='yellow')\n",
    "win.mainloop()"
   ]
  },
  {
   "cell_type": "code",
   "execution_count": 7,
   "metadata": {},
   "outputs": [
    {
     "name": "stdout",
     "output_type": "stream",
     "text": [
      "hello\n",
      "sir\n"
     ]
    }
   ],
   "source": [
    "import time\n",
    "print('hello')\n",
    "time.sleep(5) # Wait for 5 seconds\n",
    "print('sir')"
   ]
  },
  {
   "cell_type": "code",
   "execution_count": 3,
   "metadata": {},
   "outputs": [],
   "source": [
    "#Age calculator\n",
    "from tkinter import *\n",
    "from datetime import date\n",
    "import datetime\n",
    "import time\n",
    "win=Tk()\n",
    "def upcoming_birthdays():\n",
    "    #button=Button(win,width=50,text='UPCOMING BIRTHDAYS',fg='white',bg='blue')\n",
    "    #button.grid(row=2,column=8)\n",
    "    y=date.today()\n",
    "    year1,month1,day1=str(y).split('-')\n",
    "    year1=int(year1)\n",
    "    day_name=['MONDAY','TUESDAY','WEDNESDAY','THURSDAY','FRIDAY','SATURDAY','SUNDAY']\n",
    "    list1=list(range(7))\n",
    "    for i in range(7):\n",
    "        button=Button(win,width=50,text=f'{year1} {month1} {day1}----->',bg='red',fg='white')\n",
    "        button.grid(row=i+9,column=2)\n",
    "        year1+=1\n",
    "    for i in range(7):\n",
    "        year_var=year1\n",
    "        x=datetime.datetime(year1,int(month1),int(day1)).weekday()\n",
    "        if x in list1:\n",
    "            #print(day_name[x])\n",
    "            button=Button(win,width=50,text=f'---------------------->{day_name[x]}',bg='green',fg='white')\n",
    "            button.grid(row=i+16,column=3)\n",
    "            year1+=1\n",
    "    \n",
    "def calculate():\n",
    "    print('hello')\n",
    "    dobs=dob.get()\n",
    "    day,month,year=dobs.split()\n",
    "    #print(day,month,year)\n",
    "    day,month,year=int(day),int(month),int(year)\n",
    "    month,year=month*30,year*365\n",
    "    past_days=day+month+year\n",
    "    #print(f'past days{past_days}' )\n",
    "    y,m,d=str(date.today()).split('-')\n",
    "    d,m,y=int(d),int(m),int(y)\n",
    "    m,y=m*30,y*365\n",
    "    current_days=d+m+y\n",
    "    #print(f'current days {current_days}' )\n",
    "    days=current_days-past_days\n",
    "    #print(days)\n",
    "    #print(days//365)\n",
    "    years,months=int(days/365),int((days%365)/30)#((days%365)%30)\n",
    "    weeks,hours,minutes,seconds=days//7,days*24,days*24*60,days*24*60*60\n",
    "    print('years :',years,'\\nmonth :',months,'\\ndays  :',days)\n",
    "    l=['YEARS : ','MONTHS : ','DAYS : ','WEEKS : ','HOURS : ','MINUTES : '\n",
    "       ,'SECONDS : ']\n",
    "    l1=[years,months,days,weeks,hours,minutes,seconds]\n",
    "    for i in range(7):\n",
    "        button=Button(win,width=50,bg='red',fg='white',text=f'{l[i]}{l1[i]}' )\n",
    "        button.grid(row=i+2,column=1)\n",
    "    upcoming_birthdays()\n",
    "dob=StringVar()\n",
    "dob=Entry(win,width=54,textvariable=dob,show='*',selectbackground='yellow')\n",
    "dob.grid(row=0,column=0)\n",
    "button=Button(win,width=50,text='CALCULATE',fg='white',bg='blue',command=calculate)\n",
    "button.grid(row=1,column=0)\n",
    "win.geometry('1250x750')\n",
    "win.configure(background='yellow')\n",
    "win.mainloop()"
   ]
  },
  {
   "cell_type": "code",
   "execution_count": null,
   "metadata": {},
   "outputs": [],
   "source": []
  }
 ],
 "metadata": {
  "kernelspec": {
   "display_name": "Python 3",
   "language": "python",
   "name": "python3"
  },
  "language_info": {
   "codemirror_mode": {
    "name": "ipython",
    "version": 3
   },
   "file_extension": ".py",
   "mimetype": "text/x-python",
   "name": "python",
   "nbconvert_exporter": "python",
   "pygments_lexer": "ipython3",
   "version": "3.8.3"
  }
 },
 "nbformat": 4,
 "nbformat_minor": 2
}
