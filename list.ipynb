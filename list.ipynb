{
 "cells": [
  {
   "cell_type": "code",
   "execution_count": null,
   "metadata": {},
   "outputs": [],
   "source": [
    "# It's Mutable i.e changeable\n",
    "# It can store any datatype"
   ]
  },
  {
   "cell_type": "markdown",
   "metadata": {},
   "source": [
    "# List operations"
   ]
  },
  {
   "cell_type": "code",
   "execution_count": 1,
   "metadata": {},
   "outputs": [
    {
     "name": "stdout",
     "output_type": "stream",
     "text": [
      "[1, 2, 3, 4, 5, 6]\n"
     ]
    }
   ],
   "source": [
    "#Concatenation of list\n",
    "l1,l2=[1,2,3],[4,5,6]\n",
    "list=l1+l2\n",
    "print(list)"
   ]
  },
  {
   "cell_type": "code",
   "execution_count": 3,
   "metadata": {},
   "outputs": [
    {
     "name": "stdout",
     "output_type": "stream",
     "text": [
      "[1, 1, 1]\n"
     ]
    }
   ],
   "source": [
    "#Replication of list\n",
    "l=[1]\n",
    "print(l*3)"
   ]
  },
  {
   "cell_type": "code",
   "execution_count": 6,
   "metadata": {},
   "outputs": [
    {
     "data": {
      "text/plain": [
       "(1, 3)"
      ]
     },
     "execution_count": 6,
     "metadata": {},
     "output_type": "execute_result"
    }
   ],
   "source": [
    "l1=[1,2,3]\n",
    "l1[0],l1[2]"
   ]
  },
  {
   "cell_type": "code",
   "execution_count": 1,
   "metadata": {},
   "outputs": [
    {
     "name": "stdout",
     "output_type": "stream",
     "text": [
      "[1, 2, 3, 4, 5, 6, 7]\n",
      "['0th element is updated', 2, 3, 4, 5, 6, 7]\n"
     ]
    }
   ],
   "source": [
    "#Updating elements in the list\n",
    "l=[1,2,3,4,5,6,7]\n",
    "print(l)\n",
    "l[0]='0th element is updated'\n",
    "print(l)"
   ]
  },
  {
   "cell_type": "code",
   "execution_count": 1,
   "metadata": {},
   "outputs": [
    {
     "name": "stdout",
     "output_type": "stream",
     "text": [
      "['hello', 1, 2, 0.6]\n",
      "['hello', 1, 2, 0.6, 'element is added at end of list with help of append() method']\n",
      "['hello', 1, 2, 0.6, 'element is added at end of list with help of append() method', [11, 22]]\n"
     ]
    }
   ],
   "source": [
    "# Appending elements in the list\n",
    "# append() method add the element at the end of the existing element\n",
    "l=['hello',1,2,0.6]\n",
    "print(l)\n",
    "l.append('element is added at end of list with help of append() method')\n",
    "print(l)\n",
    "l.append([11,22])\n",
    "print(l)"
   ]
  },
  {
   "cell_type": "code",
   "execution_count": 2,
   "metadata": {},
   "outputs": [
    {
     "name": "stdout",
     "output_type": "stream",
     "text": [
      "['hello']\n"
     ]
    }
   ],
   "source": [
    "l=[]\n",
    "l.append('hello')\n",
    "print(l)"
   ]
  },
  {
   "cell_type": "code",
   "execution_count": 1,
   "metadata": {},
   "outputs": [
    {
     "name": "stdout",
     "output_type": "stream",
     "text": [
      "[2, 3]\n",
      "['hi']\n"
     ]
    }
   ],
   "source": [
    "#Deleting elements from the list\n",
    "# del statement can be use to delete an element from the list\n",
    "l=[1,2,3]\n",
    "l1,l3=['hi',0.5,4],['hello']\n",
    "del l[0]\n",
    "print(l) \n",
    "del l1[1:]\n",
    "print(l1)\n",
    "del l3"
   ]
  },
  {
   "cell_type": "markdown",
   "metadata": {},
   "source": [
    "# Various functions of list"
   ]
  },
  {
   "cell_type": "code",
   "execution_count": 4,
   "metadata": {},
   "outputs": [
    {
     "name": "stdout",
     "output_type": "stream",
     "text": [
      "Minimum value in the list is 1\n",
      "Maximum value in the list is 55\n",
      "Length of list is 6\n"
     ]
    }
   ],
   "source": [
    "#min(list) function\n",
    "l=[1,2,4,55,6,3]\n",
    "print(f'Minimum value in the list is {min(l)}')\n",
    "#max(list)function\n",
    "print(f'Maximum value in the list is {max(l)}')\n",
    "#len() fuction\n",
    "print(f'Length of list is {len(l)}' )"
   ]
  },
  {
   "cell_type": "markdown",
   "metadata": {},
   "source": [
    "# Various methods of list"
   ]
  },
  {
   "cell_type": "code",
   "execution_count": 4,
   "metadata": {},
   "outputs": [
    {
     "name": "stdout",
     "output_type": "stream",
     "text": [
      "3\n",
      "35\n",
      "1\n"
     ]
    }
   ],
   "source": [
    "l=[1,2,4,55,6,35]\n",
    "print(l.index(55))#Returns the index of the element of the list\n",
    "popped_element=l.pop()#Remove and return item at index (default last).\n",
    "print(popped_element)\n",
    "print(l.pop(0))# it takes index inside pop() method"
   ]
  },
  {
   "cell_type": "code",
   "execution_count": 5,
   "metadata": {},
   "outputs": [
    {
     "name": "stdout",
     "output_type": "stream",
     "text": [
      "[1, 2, 4, 55, 6, 35]\n",
      "['zero', 1, 2, 4, 55, 6, 35]\n"
     ]
    }
   ],
   "source": [
    "l=[1,2,4,55,6,35]\n",
    "print(l)\n",
    "l.insert(0,'zero')#Signature: l.insert(index, object, /)\n",
    "print(l)          #Docstring: Insert object before index."
   ]
  },
  {
   "cell_type": "code",
   "execution_count": 5,
   "metadata": {},
   "outputs": [
    {
     "name": "stdout",
     "output_type": "stream",
     "text": [
      "List 1 :--->['list1', 1, 'list2', 2]\n",
      "List 2 :--->['list2', 2, 'h', 'e', 'l', 'l', 'o', ' ', 's', 'i', 'r']\n",
      "List 3 :--->['list3', 3, 'list2', 2, 'h', 'e', 'l', 'l', 'o', ' ', 's', 'i', 'r']\n"
     ]
    }
   ],
   "source": [
    "l1=['list1',1]\n",
    "l2=['list2',2]\n",
    "l3=['list3',3]\n",
    "l1.extend(l2)# l1.extend(iterable, /)\n",
    "l2.extend('hello sir')\n",
    "l3.extend(l2)\n",
    "print(f'List 1 :--->{l1}')\n",
    "print(f'List 2 :--->{l2}')\n",
    "print(f'List 3 :--->{l3}')"
   ]
  },
  {
   "cell_type": "code",
   "execution_count": 8,
   "metadata": {},
   "outputs": [
    {
     "data": {
      "text/plain": [
       "['h', 'e', 'l', 'l', 'o']"
      ]
     },
     "execution_count": 8,
     "metadata": {},
     "output_type": "execute_result"
    }
   ],
   "source": [
    "l=[]\n",
    "l.extend('hello')\n",
    "l"
   ]
  },
  {
   "cell_type": "code",
   "execution_count": 9,
   "metadata": {},
   "outputs": [
    {
     "name": "stdout",
     "output_type": "stream",
     "text": [
      "[1, 2, 4, 55, 6, 35]\n"
     ]
    }
   ],
   "source": [
    "#l2.remove(value, /)\n",
    "#Remove first occurrence of value.\n",
    "l2=['zero', 1, 2, 4, 55, 6, 35]\n",
    "l2.remove('zero')\n",
    "print(l2)"
   ]
  },
  {
   "cell_type": "code",
   "execution_count": 10,
   "metadata": {},
   "outputs": [
    {
     "name": "stdout",
     "output_type": "stream",
     "text": [
      "[8, 7, 6, 5, 4, 3, 2, 1]\n"
     ]
    }
   ],
   "source": [
    "l2=[1,2,3,4,5,6,7,8]\n",
    "l2.reverse()#It is only defined for list\n",
    "print(l2)"
   ]
  },
  {
   "cell_type": "code",
   "execution_count": 9,
   "metadata": {},
   "outputs": [
    {
     "name": "stdout",
     "output_type": "stream",
     "text": [
      "<class 'reversed'>\n",
      "o l l e h\n"
     ]
    }
   ],
   "source": [
    "str='hello'\n",
    "x=reversed(str)\n",
    "print(type(x))\n",
    "print(*x)#Here * means that unpacking of iterables/iterators like list,tuple etc..."
   ]
  },
  {
   "cell_type": "code",
   "execution_count": 7,
   "metadata": {},
   "outputs": [
    {
     "name": "stdout",
     "output_type": "stream",
     "text": [
      "[1, 2, 4, 6, 35, 55]\n",
      "[46, 45, 4, 3, 2]\n"
     ]
    }
   ],
   "source": [
    "l2,l3=[1, 2, 4, 55, 6, 35],[4,2,3,46,45]\n",
    "l2.sort()\n",
    "l3.sort(reverse=True)# now it is sorting in decreasing order if True\n",
    "print(l2,l3,sep='\\n')"
   ]
  },
  {
   "cell_type": "markdown",
   "metadata": {},
   "source": [
    "## 10th,February 2020"
   ]
  },
  {
   "cell_type": "markdown",
   "metadata": {},
   "source": [
    "## Type Casting"
   ]
  },
  {
   "cell_type": "code",
   "execution_count": 12,
   "metadata": {},
   "outputs": [
    {
     "name": "stdout",
     "output_type": "stream",
     "text": [
      "<class 'tuple'> <class 'list'>\n"
     ]
    }
   ],
   "source": [
    "detail=(1,)\n",
    "new_data=list(detail)\n",
    "print(type(detail),type(new_data))"
   ]
  },
  {
   "cell_type": "code",
   "execution_count": 13,
   "metadata": {},
   "outputs": [
    {
     "name": "stdout",
     "output_type": "stream",
     "text": [
      "<class 'type'>\n"
     ]
    }
   ],
   "source": [
    "print(type(type('hello')))#<----------------------------"
   ]
  },
  {
   "cell_type": "code",
   "execution_count": 15,
   "metadata": {},
   "outputs": [],
   "source": [
    "#When we use string slicing then it return a list with a value"
   ]
  },
  {
   "cell_type": "code",
   "execution_count": 16,
   "metadata": {},
   "outputs": [],
   "source": [
    "# 06:15 to 07:15"
   ]
  },
  {
   "cell_type": "code",
   "execution_count": 17,
   "metadata": {},
   "outputs": [
    {
     "name": "stdout",
     "output_type": "stream",
     "text": [
      "[90, 60, 90, 55]\n"
     ]
    }
   ],
   "source": [
    "# If elements are repeating then first occurence will get removed\n",
    "marks=[90,90,60,90,55]\n",
    "marks.remove(90)\n",
    "print(marks)\n"
   ]
  },
  {
   "cell_type": "code",
   "execution_count": 13,
   "metadata": {},
   "outputs": [
    {
     "name": "stdout",
     "output_type": "stream",
     "text": [
      "[90, 90, 60, 90]\n",
      "[90, 90, 60, 90, 55]\n"
     ]
    }
   ],
   "source": [
    "# copy():\n",
    "marks=[90,90,60,90,55]\n",
    "cmarks=marks.copy() # Shallow Copy and it's only applicable on the mutable datatypes\n",
    "cmarks.remove(55)\n",
    "print(cmarks)\n",
    "print(marks)\n"
   ]
  },
  {
   "cell_type": "code",
   "execution_count": 14,
   "metadata": {},
   "outputs": [
    {
     "name": "stdout",
     "output_type": "stream",
     "text": [
      "[90, 90, 90, 55]\n",
      "[90, 90, 90, 55]\n"
     ]
    }
   ],
   "source": [
    "# Deep Copy\n",
    "dmarks=marks# Assigning is called deepcopy\n",
    "dmarks.remove(60)\n",
    "print(dmarks)\n",
    "print(marks)\n"
   ]
  },
  {
   "cell_type": "code",
   "execution_count": 6,
   "metadata": {},
   "outputs": [
    {
     "name": "stdout",
     "output_type": "stream",
     "text": [
      "[]\n"
     ]
    }
   ],
   "source": [
    "# Empty the list: clear()\n",
    "marks.clear()\n",
    "print(marks)"
   ]
  },
  {
   "cell_type": "code",
   "execution_count": 10,
   "metadata": {},
   "outputs": [],
   "source": [
    "# Delete object from memory:\n",
    "del marks #del is destructor \n",
    "# print(marks)\n"
   ]
  },
  {
   "cell_type": "code",
   "execution_count": 15,
   "metadata": {},
   "outputs": [
    {
     "name": "stdout",
     "output_type": "stream",
     "text": [
      "Enter no. of elements : 5\n",
      "Enter the marks : 4\n",
      "Enter the marks : 55\n",
      "Enter the marks : 6\n",
      "Enter the marks : 5\n",
      "[4, 55, 55, 6, 5]\n"
     ]
    }
   ],
   "source": [
    "#program to insert the 55 at 2nd position\n",
    "l=[]\n",
    "for i in range(int(input('Enter no. of elements : '))):\n",
    "    if i==1:\n",
    "        l.append(55)\n",
    "    else:\n",
    "        l.append(int(input('Enter the marks : ')))\n",
    "print(l)"
   ]
  },
  {
   "cell_type": "code",
   "execution_count": 16,
   "metadata": {},
   "outputs": [
    {
     "data": {
      "text/plain": [
       "[1, 55, 2, 4, 5, 6, 35]"
      ]
     },
     "execution_count": 16,
     "metadata": {},
     "output_type": "execute_result"
    }
   ],
   "source": [
    "l1=[1,2,4,5,6,35]\n",
    "l1.insert(1,55)\n",
    "l1"
   ]
  },
  {
   "cell_type": "code",
   "execution_count": null,
   "metadata": {},
   "outputs": [],
   "source": []
  }
 ],
 "metadata": {
  "kernelspec": {
   "display_name": "Python 3",
   "language": "python",
   "name": "python3"
  },
  "language_info": {
   "codemirror_mode": {
    "name": "ipython",
    "version": 3
   },
   "file_extension": ".py",
   "mimetype": "text/x-python",
   "name": "python",
   "nbconvert_exporter": "python",
   "pygments_lexer": "ipython3",
   "version": "3.8.3"
  }
 },
 "nbformat": 4,
 "nbformat_minor": 2
}
