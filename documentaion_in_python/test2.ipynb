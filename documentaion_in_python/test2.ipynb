{
 "cells": [
  {
   "cell_type": "code",
   "execution_count": 1,
   "metadata": {},
   "outputs": [
    {
     "name": "stdout",
     "output_type": "stream",
     "text": [
      "['__author__', '__builtins__', '__cached__', '__copyright__', '__doc__', '__file__', '__loader__', '__name__', '__package__', '__spec__', 'add_numbers', 'main', 'multiply_numbers', 'subtract_numbers', 'x', 'y']\n"
     ]
    }
   ],
   "source": [
    "import test \n",
    "\n",
    "print(dir(test)) # it only returns the member of the module  "
   ]
  },
  {
   "cell_type": "code",
   "execution_count": 2,
   "metadata": {},
   "outputs": [
    {
     "name": "stdout",
     "output_type": "stream",
     "text": [
      "Help on module test:\n",
      "\n",
      "NAME\n",
      "    test\n",
      "\n",
      "DESCRIPTION\n",
      "    This module provides basic mathematical operations: addition, subtraction, and multiplication.\n",
      "    Functions:\n",
      "        add_numbers(a, b): Returns the sum of two numbers.\n",
      "        subtract_numbers(a, b): Returns the difference between two numbers.\n",
      "        multiply_numbers(a, b): Returns the product of two numbers.\n",
      "\n",
      "FUNCTIONS\n",
      "    add_numbers(a, b)\n",
      "        Add two numbers.\n",
      "        \n",
      "        Parameters:\n",
      "            a (float): The first number.\n",
      "            b (float): The second number.\n",
      "        \n",
      "        Returns:\n",
      "            float: The sum of the two numbers.\n",
      "    \n",
      "    main()\n",
      "    \n",
      "    multiply_numbers(a, b)\n",
      "        Multiply two numbers.\n",
      "        \n",
      "        Parameters:\n",
      "            a (float): The first number.\n",
      "            b (float): The second number.\n",
      "        \n",
      "        Returns:\n",
      "            float: The product of the two numbers.\n",
      "    \n",
      "    subtract_numbers(a, b)\n",
      "        Subtract the second number from the first number.\n",
      "        \n",
      "        Parameters:\n",
      "            a (float): The first number.\n",
      "            b (float): The second number.\n",
      "        \n",
      "        Returns:\n",
      "            float: The difference between the two numbers.\n",
      "\n",
      "DATA\n",
      "    __copyright__ = 'copy right 2024,Pankaj'\n",
      "    x = 888\n",
      "    y = 999\n",
      "\n",
      "AUTHOR\n",
      "    pankaj\n",
      "\n",
      "FILE\n",
      "    /home/echelon/python_notes/python/documentaion_in_python/test.py\n",
      "\n",
      "\n",
      "None\n"
     ]
    }
   ],
   "source": [
    "print(help(test)) # it returns the detailed documentation for each of the member \n"
   ]
  },
  {
   "cell_type": "code",
   "execution_count": 8,
   "metadata": {},
   "outputs": [
    {
     "name": "stdout",
     "output_type": "stream",
     "text": [
      "\n",
      "This module provides basic mathematical operations: addition, subtraction, and multiplication.\n",
      "Functions:\n",
      "    add_numbers(a, b): Returns the sum of two numbers.\n",
      "    subtract_numbers(a, b): Returns the difference between two numbers.\n",
      "    multiply_numbers(a, b): Returns the product of two numbers.\n",
      "\n"
     ]
    }
   ],
   "source": [
    "print(test.__doc__) # it only returns the documentation "
   ]
  },
  {
   "cell_type": "code",
   "execution_count": 9,
   "metadata": {},
   "outputs": [
    {
     "name": "stdout",
     "output_type": "stream",
     "text": [
      "\n",
      "    Add two numbers.\n",
      "\n",
      "    Parameters:\n",
      "        a (float): The first number.\n",
      "        b (float): The second number.\n",
      "\n",
      "    Returns:\n",
      "        float: The sum of the two numbers.\n",
      "    \n"
     ]
    }
   ],
   "source": [
    "print(test.add_numbers.__doc__ )"
   ]
  },
  {
   "cell_type": "code",
   "execution_count": 10,
   "metadata": {},
   "outputs": [
    {
     "name": "stdout",
     "output_type": "stream",
     "text": [
      "Return the square root of x.\n"
     ]
    }
   ],
   "source": [
    "import math \n",
    "\n",
    "print(math.sqrt.__doc__)"
   ]
  },
  {
   "cell_type": "code",
   "execution_count": 11,
   "metadata": {},
   "outputs": [
    {
     "name": "stdout",
     "output_type": "stream",
     "text": [
      "/bin/bash: line 1: python: command not found\n"
     ]
    }
   ],
   "source": [
    "# **********************run these commands on console ****************\n",
    "\n",
    "# python -m pydoc math # to see the documentation on the console about the math module \n",
    "# python -m pydoc sys\n",
    "# python -m pydoc documentaion_in_python/test.py \n",
    "# python -m pydoc math.add\n",
    "# python -m pydoc # to see the documentaion of pydoc \n",
    "# python -m pydoc -k math # here -k == keyword to search in python \n",
    "\n",
    "\n"
   ]
  },
  {
   "cell_type": "code",
   "execution_count": 12,
   "metadata": {},
   "outputs": [],
   "source": [
    "# **********************to see the module documentation on the web****************\n",
    "# python -m pydoc -p 9999(any port no. which is not in use) # here -p == port at which all module details will be rendered  \n",
    "#  python -m pydoc -p 0 # here 0 means to select any port automatically \n"
   ]
  },
  {
   "cell_type": "code",
   "execution_count": null,
   "metadata": {},
   "outputs": [],
   "source": [
    "# **********************to write the module documentation in the html file****************\n",
    "\n",
    "# python -m pydoc -w math # it will create math.html file \n",
    "# python -m pydoc -w documentaion_in_python/test.py # it will create test.html file \n"
   ]
  }
 ],
 "metadata": {
  "kernelspec": {
   "display_name": "Python 3",
   "language": "python",
   "name": "python3"
  },
  "language_info": {
   "codemirror_mode": {
    "name": "ipython",
    "version": 3
   },
   "file_extension": ".py",
   "mimetype": "text/x-python",
   "name": "python",
   "nbconvert_exporter": "python",
   "pygments_lexer": "ipython3",
   "version": "3.10.12"
  }
 },
 "nbformat": 4,
 "nbformat_minor": 2
}
