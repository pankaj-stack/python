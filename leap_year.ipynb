{
 "cells": [
  {
   "cell_type": "raw",
   "metadata": {},
   "source": [
    "वर्ष को समान रूप से 4 से विभाजित किया जा सकता है, एक लीप वर्ष है, जब तक:\n",
    "वर्ष को समान रूप से 100 से विभाजित किया जा सकता है, यह एक लीप वर्ष नहीं है, जब तक कि:\n",
    "वर्ष भी समान रूप से 400 से विभाज्य है। तब यह एक लीप वर्ष है।"
   ]
  },
  {
   "cell_type": "code",
   "execution_count": 1,
   "metadata": {},
   "outputs": [
    {
     "name": "stdout",
     "output_type": "stream",
     "text": [
      "Enter the year : 1800\n",
      "False\n"
     ]
    }
   ],
   "source": [
    "# leap year\n",
    "def is_leap(year):\n",
    "    leap = False\n",
    "    if year%4==0:\n",
    "        if year%100==0:\n",
    "            if year%400==0:\n",
    "                leap=True\n",
    "                return leap\n",
    "            else:\n",
    "                return leap\n",
    "        else:\n",
    "            leap=True\n",
    "            return leap\n",
    "    else:\n",
    "        return leap\n",
    "year = int(input('Enter the year : '))\n",
    "print(is_leap(year))"
   ]
  },
  {
   "cell_type": "code",
   "execution_count": 16,
   "metadata": {},
   "outputs": [
    {
     "name": "stdout",
     "output_type": "stream",
     "text": [
      "1800\n",
      "False\n"
     ]
    }
   ],
   "source": [
    "year,leap=int(input()),False\n",
    "if year%4==0:\n",
    "    if year%100==0:\n",
    "        if year%400==0:\n",
    "            leap=True\n",
    "        else:\n",
    "            leap=False\n",
    "    else:\n",
    "        leap=True\n",
    "else:\n",
    "    leap=False\n",
    "print(leap)"
   ]
  },
  {
   "cell_type": "code",
   "execution_count": null,
   "metadata": {},
   "outputs": [],
   "source": []
  }
 ],
 "metadata": {
  "kernelspec": {
   "display_name": "Python 3",
   "language": "python",
   "name": "python3"
  },
  "language_info": {
   "codemirror_mode": {
    "name": "ipython",
    "version": 3
   },
   "file_extension": ".py",
   "mimetype": "text/x-python",
   "name": "python",
   "nbconvert_exporter": "python",
   "pygments_lexer": "ipython3",
   "version": "3.7.4"
  }
 },
 "nbformat": 4,
 "nbformat_minor": 2
}
