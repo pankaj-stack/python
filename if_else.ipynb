{
 "cells": [
  {
   "cell_type": "code",
   "execution_count": 2,
   "metadata": {},
   "outputs": [
    {
     "name": "stdout",
     "output_type": "stream",
     "text": [
      "divisible by 2\n"
     ]
    }
   ],
   "source": [
    "n = 6\n",
    "if n % 2 == 0:#<---------------------see it carefullu-----------------------\n",
    "    print('divisible by 2')\n",
    "elif n % 3 == 0:#<---------------------see it carefullu-------------------------------\n",
    "    print('divisible by 3')\n",
    "else:\n",
    "    print('not divisible by two or three')\n"
   ]
  },
  {
   "cell_type": "code",
   "execution_count": 1,
   "metadata": {},
   "outputs": [
    {
     "name": "stdout",
     "output_type": "stream",
     "text": [
      "idontcare 1\n",
      "idontcare 2\n",
      "idontcare 3\n",
      "idontcare 4\n",
      "idontcare 5\n",
      "whatever 6\n",
      "whatever 7\n",
      "whatever 8\n",
      "whatever 9\n",
      "whatever 10\n"
     ]
    }
   ],
   "source": [
    "#Sololearn\n",
    "#How  many times 'idontcare' will be printed ? <---------good question-------\n",
    "a=0\n",
    "while a<10:\n",
    "    a=a+1\n",
    "    if a>5:\n",
    "        print('whatever',a)\n",
    "    elif a<=7:\n",
    "        print('idontcare',a)\n",
    "    else:\n",
    "        print('dontknow')"
   ]
  },
  {
   "cell_type": "code",
   "execution_count": 4,
   "metadata": {},
   "outputs": [
    {
     "name": "stdout",
     "output_type": "stream",
     "text": [
      "1\n",
      "Weird\n"
     ]
    }
   ],
   "source": [
    "n=int(input())\n",
    "if n%2!=0:\n",
    "    print('Weird')\n",
    "else:\n",
    "    if 2<=n<=5:\n",
    "        print('Not Weird')\n",
    "    if 6<=n<=20:\n",
    "        print(' Weird')\n",
    "    if n>20:\n",
    "        print('Not Weird')"
   ]
  },
  {
   "cell_type": "code",
   "execution_count": 6,
   "metadata": {},
   "outputs": [
    {
     "name": "stdout",
     "output_type": "stream",
     "text": [
      "Enter three no with spaces : 1 2 3\n",
      "maximum no. is 3\n"
     ]
    }
   ],
   "source": [
    "# Program to find greater no. among three nos.\n",
    "a,b,c=input('Enter three no with spaces : ').split()\n",
    "a,b,c=int(a),int(b),int(c)\n",
    "max=a\n",
    "if b>a:\n",
    "    max=b\n",
    "if c>b:\n",
    "    max=c\n",
    "print(f'maximum no. is {max}' )"
   ]
  },
  {
   "cell_type": "code",
   "execution_count": 1,
   "metadata": {},
   "outputs": [
    {
     "ename": "SyntaxError",
     "evalue": "invalid syntax (<ipython-input-1-f95532e1faac>, line 3)",
     "output_type": "error",
     "traceback": [
      "\u001b[0;36m  File \u001b[0;32m\"<ipython-input-1-f95532e1faac>\"\u001b[0;36m, line \u001b[0;32m3\u001b[0m\n\u001b[0;31m    if a\u001b[0m\n\u001b[0m        ^\u001b[0m\n\u001b[0;31mSyntaxError\u001b[0m\u001b[0;31m:\u001b[0m invalid syntax\n"
     ]
    }
   ],
   "source": [
    "a,b,c=input('Enter three no with spaces : ').split()\n",
    "a,b,c=int(a),int(b),int(c)\n",
    "if a"
   ]
  },
  {
   "cell_type": "code",
   "execution_count": 3,
   "metadata": {},
   "outputs": [
    {
     "data": {
      "text/plain": [
       "-5"
      ]
     },
     "execution_count": 3,
     "metadata": {},
     "output_type": "execute_result"
    }
   ],
   "source": [
    "import math\n",
    "math.trunc(-5.1234)"
   ]
  },
  {
   "cell_type": "code",
   "execution_count": 6,
   "metadata": {},
   "outputs": [
    {
     "data": {
      "text/plain": [
       "-3"
      ]
     },
     "execution_count": 6,
     "metadata": {},
     "output_type": "execute_result"
    }
   ],
   "source": [
    "-5//2"
   ]
  },
  {
   "cell_type": "code",
   "execution_count": null,
   "metadata": {},
   "outputs": [],
   "source": []
  }
 ],
 "metadata": {
  "kernelspec": {
   "display_name": "Python 3",
   "language": "python",
   "name": "python3"
  },
  "language_info": {
   "codemirror_mode": {
    "name": "ipython",
    "version": 3
   },
   "file_extension": ".py",
   "mimetype": "text/x-python",
   "name": "python",
   "nbconvert_exporter": "python",
   "pygments_lexer": "ipython3",
   "version": "3.7.4"
  }
 },
 "nbformat": 4,
 "nbformat_minor": 2
}
