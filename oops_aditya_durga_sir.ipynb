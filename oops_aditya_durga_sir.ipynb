{
 "cells": [
  {
   "cell_type": "markdown",
   "metadata": {},
   "source": [
    "## OOP's:\n",
    "- It's a way to write code in more manageable format.\n",
    "- It is very useful in creating real world programs.\n",
    "- OOP's allow us to logically group our data and function\n",
    "in a way that it is easy to reuse and also easy to\n",
    "built-upon if needed.\n",
    "- OOP's deals with declaring classes, creating objects\n",
    "from them and interacting with the users.\n"
   ]
  },
  {
   "cell_type": "markdown",
   "metadata": {},
   "source": [
    "- **class** :is a blueprint/prototype/plan/design/model/specification/template.\n",
    "- **object** : existance of class or instance of class is called object.\n",
    "- the relation between class and object is : **one-to-many**\n",
    "- **reference variable** : a variable which refers to the object is called reference variable.\n",
    "    - ex: A **remote** TV is a reference variable TV object. \n",
    "- for a single object there can be multiple reference variables,\n",
    "- by using reference variable we perform the required operation on the object.\n",
    "- by using reference variable we can access properties and methods of an object. \n",
    "- variables ====>>> properties/attributes\n",
    "- methods ====>>> actions/behaviors \n",
    "\n",
    "- class defines a set of attributes(data) and methods(function)\n",
    "that characterizes any object of the class.\n",
    "- In python, class is defined using 'class' keyword\n",
    "followed by class name.\n",
    "- Attributes and methods are accessed via dot notation.\n"
   ]
  },
  {
   "cell_type": "code",
   "execution_count": 20,
   "metadata": {},
   "outputs": [
    {
     "name": "stdout",
     "output_type": "stream",
     "text": [
      "<class '__main__.Employee'>\n",
      "It is a Employee class\n"
     ]
    }
   ],
   "source": [
    "# create Employee class without attribute(data) and method(fuction)\n",
    "class Employee:\n",
    "    '''It is a Employee class'''\n",
    "    pass\n",
    "print(Employee)\n",
    "print(Employee.__doc__)"
   ]
  },
  {
   "cell_type": "code",
   "execution_count": 21,
   "metadata": {},
   "outputs": [
    {
     "name": "stdout",
     "output_type": "stream",
     "text": [
      "Help on class Employee in module __main__:\n",
      "\n",
      "class Employee(builtins.object)\n",
      " |  It is a Employee class\n",
      " |  \n",
      " |  Data descriptors defined here:\n",
      " |  \n",
      " |  __dict__\n",
      " |      dictionary for instance variables (if defined)\n",
      " |  \n",
      " |  __weakref__\n",
      " |      list of weak references to the object (if defined)\n",
      "\n"
     ]
    }
   ],
   "source": [
    "help(Employee) # to get doc-string information"
   ]
  },
  {
   "cell_type": "markdown",
   "metadata": {},
   "source": [
    "## object:\n",
    "- Every thing in python is object.\n",
    "- object is real life entity of a class.\n",
    "- An object is a unique instance of a data structure\n",
    "that is defined by its class.\n"
   ]
  },
  {
   "cell_type": "code",
   "execution_count": 5,
   "metadata": {},
   "outputs": [
    {
     "name": "stdout",
     "output_type": "stream",
     "text": [
      "<__main__.Employee object at 0x7ba9943d6fd0>\n",
      "<class '__main__.Employee'>\n",
      "<__main__.Employee object at 0x7ba9943d6a60>\n",
      "<class '__main__.Employee'>\n"
     ]
    }
   ],
   "source": [
    "class Employee:\n",
    "    'It is a Employee class'\n",
    "    pass\n",
    "\n",
    "# create emp_1 and emp_2 as object of Employee class\n",
    "# syntax : \n",
    "#   reference_variable = Employee() <-----------------------------\n",
    "\n",
    "emp_1= Employee() # Process is called 'instantiation' and emp_1 is called reference variable \n",
    "print(emp_1)\n",
    "print(type(emp_1))\n",
    "\n",
    "emp_2= Employee()\n",
    "print(emp_2)\n",
    "print(type(emp_2))"
   ]
  },
  {
   "cell_type": "markdown",
   "metadata": {},
   "source": [
    "## Member Variable:\n",
    "- A variable that holds the data associated with a class\n",
    "and its objects.\n",
    "- There are 3 types of member variables :\n",
    "    - 1. **instance variable(object level variable)** :\n",
    "        - jo variable ki value har ek object ke liye vary krti hai use hm instance variable kehte hain. \n",
    "        - for every object a separate copy of instance variables are created. \n",
    "        - If the value of a variable is varied from object,such type of variables are called instance variables or object level variables.\n",
    "        - Most of the times instance variables will be declared inside constructor by using self variable.\n",
    "            - ex: name and roll_no of the student. \n",
    "        - **Where we can declare instance variables?** \n",
    "            - 1. Inside constructor by using self. \n",
    "            - 2. Inside instance method by using self. \n",
    "            - 3. Outside the class by using object reference variable.\n",
    "    - 2. **static variable(class level variable)** : \n",
    "        - If the value of a variable is not varied from object to object, then it is not recommended to declare those variables as instance variables.We have to declare at class level as static variables.\n",
    "        - In the case of instance variables, for every object a separate copy will be created.But in the  case of static variables at class level only one copy will be created and shared by every object of that class.\n",
    "        - Most of the times, static variables should be declared within the class directly.\n",
    "    - 3. **local variable(method level variable)** :\n",
    "        - To meet temporary requirements of the programmer, sometimes we can declare variables inside a method, such type of variables are called local variables  or method level variables. "
   ]
  },
  {
   "cell_type": "markdown",
   "metadata": {
    "vscode": {
     "languageId": "html"
    }
   },
   "source": [
    "<h1>Types of variables</h1>"
   ]
  },
  {
   "cell_type": "code",
   "execution_count": 5,
   "metadata": {},
   "outputs": [],
   "source": [
    "class Student:\n",
    "    school_name = 'DURGASOFT' # static variable/class level variable\n",
    "    \n",
    "    def __init__(self,name,roll):\n",
    "        self.name = name # instance variable/object level variable\n",
    "        self.roll = roll # instance variable/object level variable\n",
    "    \n",
    "    def info(self):\n",
    "        x = 10 # x is local variable\n",
    "        for i in range(x): # i is local variable\n",
    "            print(i)\n",
    "        "
   ]
  },
  {
   "cell_type": "code",
   "execution_count": 1,
   "metadata": {},
   "outputs": [
    {
     "name": "stdout",
     "output_type": "stream",
     "text": [
      "{'a': 10, 'b': 20}\n"
     ]
    }
   ],
   "source": [
    "# Example of where we can use the instance variable Place1\n",
    "\n",
    "class Test:\n",
    "    def __init__(self):\n",
    "        self.a = 10 # instance variable 1\n",
    "        self.b = 20 # instance variable 2\n",
    "        \n",
    "t = Test() \n",
    "print(t.__dict__) # it will list out no. of instance variable in the form of dictionary"
   ]
  },
  {
   "cell_type": "markdown",
   "metadata": {
    "vscode": {
     "languageId": "html"
    }
   },
   "source": [
    "<h2>Inside instance method by using self:</h2>\n",
    "<ul>\n",
    "    <li>We can also declare instance variables inside an instance method by using the <code>self</code> variable.</li>\n",
    "    <li>If we declare any instance variable inside an instance method, that variable will be added to the object once we call that method.</li>\n",
    "    <li>If we are not calling that instance method, then those variables won't be added to the object.</li>\n",
    "</ul>\n"
   ]
  },
  {
   "cell_type": "code",
   "execution_count": 6,
   "metadata": {},
   "outputs": [
    {
     "name": "stdout",
     "output_type": "stream",
     "text": [
      "{'a': 10, 'b': 20}\n"
     ]
    }
   ],
   "source": [
    "# Example of where we can use the instance variable Place 2\n",
    "\n",
    "class Test:\n",
    "    def __init__(self):\n",
    "        self.a = 10 # instance variable 1\n",
    "        self.b = 20 # instance variable 2 \n",
    "        \n",
    "    def method1(self):\n",
    "        self.c = 30 # instance variable 3 <---------------------------------\n",
    "        \n",
    "t = Test() \n",
    "print(t.__dict__) # <----- here only 2 instance variable is called because 3rd instance varible is inside the method1 and it is not called."
   ]
  },
  {
   "cell_type": "code",
   "execution_count": 7,
   "metadata": {},
   "outputs": [
    {
     "data": {
      "text/plain": [
       "{'a': 10, 'b': 20, 'c': 30}"
      ]
     },
     "execution_count": 7,
     "metadata": {},
     "output_type": "execute_result"
    }
   ],
   "source": [
    "t = Test() \n",
    "t.method1() \n",
    "t.__dict__ # And now it will call 3 instance variable due to calling of the method1"
   ]
  },
  {
   "cell_type": "code",
   "execution_count": 8,
   "metadata": {},
   "outputs": [
    {
     "data": {
      "text/plain": [
       "{'a': 10, 'b': 20, 'c': 30, 'd': 40}"
      ]
     },
     "execution_count": 8,
     "metadata": {},
     "output_type": "execute_result"
    }
   ],
   "source": [
    "# Place 3 : instance variable outside the class \n",
    "\n",
    "t = Test() # a,b will be added to the object.\n",
    "t.method1() # c will be added to the object.\n",
    "t.d = 40 # d will be added to the object. \n",
    "\n",
    "t.__dict__\n"
   ]
  },
  {
   "cell_type": "markdown",
   "metadata": {},
   "source": [
    "- The number of instance variables will be varied from object to object in python."
   ]
  },
  {
   "cell_type": "markdown",
   "metadata": {
    "vscode": {
     "languageId": "html"
    }
   },
   "source": [
    "<h1>Methods:</h1>\n",
    "<h3>instance method</h3>\n",
    "<li>Inside a method if we are trying to access instance variables, then that method always talks about a particular object and that method should be declared as instance method</li><li>The first argument to the instance method is always self, which is reference variable to that current object</li>\n",
    "\n",
    "<h3>class method</h3>\n",
    "<li>Inside method if we are using only static variables and if we are not using any instance variable, then that method is no way related to a particular object and it is class  level method.Such type of methods we have to declare as classs methods.</li>\n",
    "<li>We have to declare class method with <code>@classmethod</code> decorator</li>\n",
    "<li>The first argument to the class method is always cls,which  is reference variable to class object</li>\n",
    "<li>For every class one special object will be created by PVM to maintain class level information, which is nothing but clas level object.cls is the reference variable pointing to that object.</li>\n",
    "\n",
    "<h3>static method</h3>\n",
    "<ul>\n",
    "    <li>Inside a method, if we are not using any instance variable or static variable, such methods are general utility methods and should be declared as static methods.</li>\n",
    "    <li>Static methods should be declared using the <code>@staticmethod</code> decorator.</li>\n",
    "</ul>\n",
    "\n"
   ]
  },
  {
   "cell_type": "code",
   "execution_count": 11,
   "metadata": {},
   "outputs": [
    {
     "name": "stdout",
     "output_type": "stream",
     "text": [
      "id of class Student : 123956313271472\n",
      "School name : DURGASOFT\n",
      "id of cls : 123956313271472\n",
      "\n",
      "name is : Durga\n",
      "roll is : 101\n",
      "id of self : 123957185616288\n",
      "id of reference variable s : 123957185616288\n",
      "\n"
     ]
    },
    {
     "data": {
      "text/plain": [
       "'sum of 10 and 20 is : 30'"
      ]
     },
     "execution_count": 11,
     "metadata": {},
     "output_type": "execute_result"
    }
   ],
   "source": [
    "class Student:\n",
    "    school_name = 'DURGASOFT' # static variable/class level variable\n",
    "    \n",
    "    def __init__(self,name,roll): # constructor\n",
    "        self.name = name # instance variable/object level variable\n",
    "        self.roll = roll # instance variable/object level variable\n",
    "    \n",
    "    def info(self):# instance method bbbbbbbb\n",
    "        print(f'name is : {self.name}')\n",
    "        print(f'roll is : {self.roll}')\n",
    "        print(f'id of self : {id(self)}')   \n",
    "        \n",
    "    \n",
    "    @classmethod    \n",
    "    def get_school_info(cls): # classmethod which takes first argument as cls like self\n",
    "        print(f'School name : {cls.school_name}')\n",
    "        print(f'id of cls : {id(cls)}')   \n",
    "        \n",
    "    @staticmethod\n",
    "    def get_sum(a,b):\n",
    "        return f'sum of {a} and {b} is : {a+b}'\n",
    "        \n",
    "        \n",
    "     \n",
    "     \n",
    "print(f'id of class Student : {id(Student)}')   \n",
    "Student.get_school_info()\n",
    "\n",
    "print()\n",
    "\n",
    "s = Student('Durga','101') \n",
    "s.info()\n",
    "print(f'id of reference variable s : {id(s)}')\n",
    "\n",
    "print() \n",
    "\n",
    "s.get_sum(10,20)"
   ]
  },
  {
   "cell_type": "markdown",
   "metadata": {},
   "source": [
    "## Instance Variable:\n",
    "- Variable that contain data which are unique to each\n",
    "instance of class are instance variable.\n",
    "- A instance variable defined inside a method, belongs\n",
    "only to the current instance of a class.\n"
   ]
  },
  {
   "cell_type": "code",
   "execution_count": 8,
   "metadata": {},
   "outputs": [],
   "source": [
    "emp_1.name = 'Jackie Chain'\n",
    "emp_1.email= 'jackie@gmail.com'\n",
    "emp_1.monthly= 18000\n",
    "\n",
    "emp_2.name = 'Bruce Lee'\n",
    "emp_2.email= 'bruce@gmail.com'\n",
    "emp_2.monthly= 22000\n"
   ]
  },
  {
   "cell_type": "markdown",
   "metadata": {
    "vscode": {
     "languageId": "html"
    }
   },
   "source": [
    "<h2>How to access instance variables?</h2>\n",
    "<ul>\n",
    "    <li>Within the class, we can access instance variables by using <code>self</code> (of course inside constructor and instance methods).</li>\n",
    "    <li>But outside of the class, we can access them by using the object reference.</li>\n",
    "</ul>\n"
   ]
  },
  {
   "cell_type": "code",
   "execution_count": 9,
   "metadata": {},
   "outputs": [
    {
     "name": "stdout",
     "output_type": "stream",
     "text": [
      "Jackie Chain\n",
      "Bruce Lee\n"
     ]
    }
   ],
   "source": [
    "# Access instance variable:\n",
    "print(emp_1.name)\n",
    "print(emp_2.name)"
   ]
  },
  {
   "cell_type": "markdown",
   "metadata": {
    "vscode": {
     "languageId": "html"
    }
   },
   "source": [
    "<h1>how to delete the instance variable</h1>"
   ]
  },
  {
   "cell_type": "code",
   "execution_count": 4,
   "metadata": {},
   "outputs": [
    {
     "name": "stdout",
     "output_type": "stream",
     "text": [
      "{'a': 10, 'b': 20, 'c': 30}\n"
     ]
    }
   ],
   "source": [
    "class Test:\n",
    "    \n",
    "    def __init__(self):\n",
    "        self.a = 10 \n",
    "        self.b = 20 \n",
    "        self.c = 30 \n",
    "        self.d = 40 \n",
    "        \n",
    "    def m1(self):\n",
    "        del self.d \n",
    "        \n",
    "t = Test() \n",
    "t.m1()\n",
    "print(t.__dict__)"
   ]
  },
  {
   "cell_type": "code",
   "execution_count": 5,
   "metadata": {},
   "outputs": [
    {
     "data": {
      "text/plain": [
       "{'c': 30, 'd': 40}"
      ]
     },
     "execution_count": 5,
     "metadata": {},
     "output_type": "execute_result"
    }
   ],
   "source": [
    "t2 = Test() \n",
    "del t2.a, t2.b \n",
    "t2.__dict__"
   ]
  },
  {
   "cell_type": "markdown",
   "metadata": {},
   "source": [
    "<h2>How to delete instance variables from the object?</h2>\n",
    "<p>Based on our programming requirement, we can delete instance variables from the object.</p>\n",
    "<ol>\n",
    "    <li><strong>Within the class by using self:</strong><br>\n",
    "        <code>del self.variablename</code><br>\n",
    "        Example: <code>del self.a</code>\n",
    "    </li>\n",
    "    <li><strong>Outside of the class by using object reference:</strong><br>\n",
    "        <code>del objectreference.variablename</code><br>\n",
    "        Example: <code>del t.a</code>\n",
    "    </li>\n",
    "</ol>\n",
    "<p><strong>Note:</strong> We can delete multiple instance variables also.<br>\n",
    "Example: <code>del t.a, t.b, t.c</code></p>\n",
    "\n",
    "<h2>Very Important Point</h2>\n",
    "<p>The instance variables which are deleted from one object won't be deleted from other objects, because each object has a separate copy of the instance variables.</p>\n",
    "\n"
   ]
  },
  {
   "cell_type": "code",
   "execution_count": 7,
   "metadata": {},
   "outputs": [
    {
     "name": "stdout",
     "output_type": "stream",
     "text": [
      "t1: 888 999\n",
      "t2: 10 20\n"
     ]
    }
   ],
   "source": [
    "class Test:\n",
    "    def __init__(self):\n",
    "        self.a = 10\n",
    "        self.b = 20\n",
    "\n",
    "t1 = Test()\n",
    "t1.a = 888 # modifying the instance variable \n",
    "t1.b = 999\n",
    "\n",
    "t2 = Test()\n",
    "print('t1:', t1.a, t1.b) # 888,999\n",
    "print('t2:', t2.a, t2.b) #  10, 20\n"
   ]
  },
  {
   "cell_type": "markdown",
   "metadata": {},
   "source": [
    "<!DOCTYPE html>\n",
    "<html>\n",
    "<head>\n",
    "    <title>Very Important Point</title>\n",
    "</head>\n",
    "<body>\n",
    "    <h1 style=\"color: red;\">Very Important Point</h1>\n",
    "    <p>\n",
    "        • If we change the values of instance variables of one object, then those changes won't be reflected to other objects, because for every object a separate copy of instance variables are available.\n",
    "    </p>\n",
    "</body>\n",
    "</html>\n"
   ]
  },
  {
   "cell_type": "code",
   "execution_count": 10,
   "metadata": {},
   "outputs": [
    {
     "name": "stdout",
     "output_type": "stream",
     "text": [
      "Radhe\n",
      "Every where\n"
     ]
    }
   ],
   "source": [
    "#practice\n",
    "class a:\n",
    "    pass\n",
    "obj=a()\n",
    "obj.name='Radhe'# This is also called the instance variable \n",
    "obj.address='Every where'\n",
    "print(obj.name)\n",
    "print(obj.address)"
   ]
  },
  {
   "cell_type": "markdown",
   "metadata": {},
   "source": [
    "<!DOCTYPE html>\n",
    "<html>\n",
    "<head>\n",
    "    <title>Static Variables</title>\n",
    "</head>\n",
    "<body>\n",
    "    <h1>Static Variables</h1>\n",
    "    <p>If the value of a variable is not varied from object to object, then it is not recommended to declare those variables as instance variables. We have to declare at class level as static variables.</p>\n",
    "    <p>In the case of instance variables, for every object a separate copy will be created. But in the case of static variables at class level only one copy will be created and shared by every object of that class.</p>\n",
    "    <p>Most of the times, static variables should be declared within the class directly.</p>\n",
    "</body>\n",
    "</html>\n"
   ]
  },
  {
   "cell_type": "markdown",
   "metadata": {
    "vscode": {
     "languageId": "html"
    }
   },
   "source": [
    "<h2>Various places where we can declare static variable or class lavel variable</h2>"
   ]
  },
  {
   "cell_type": "code",
   "execution_count": 9,
   "metadata": {},
   "outputs": [
    {
     "data": {
      "text/plain": [
       "mappingproxy({'__module__': '__main__',\n",
       "              'a': 10,\n",
       "              '__init__': <function __main__.Test.__init__(self)>,\n",
       "              'm1': <function __main__.Test.m1(self)>,\n",
       "              'm2': <classmethod at 0x7bf74a85dfa0>,\n",
       "              'm3': <staticmethod at 0x7bf74a85deb0>,\n",
       "              '__dict__': <attribute '__dict__' of 'Test' objects>,\n",
       "              '__weakref__': <attribute '__weakref__' of 'Test' objects>,\n",
       "              '__doc__': None,\n",
       "              'b': 20,\n",
       "              'c': 30,\n",
       "              'd': 40,\n",
       "              'e': 50,\n",
       "              'f': 60,\n",
       "              'g': 70})"
      ]
     },
     "execution_count": 9,
     "metadata": {},
     "output_type": "execute_result"
    }
   ],
   "source": [
    "class Test:\n",
    "    a = 10 # 1. inside the class directly \n",
    "\n",
    "    def __init__(self):\n",
    "        Test.b = 20 # 2. inside the constructor \n",
    "\n",
    "    def m1(self):\n",
    "        Test.c = 30 # 3. inside the instance method\n",
    "\n",
    "    @classmethod\n",
    "    def m2(cls):\n",
    "        cls.d = 40 # 4. inside the classmethod\n",
    "        Test.e = 50 # 4. inside the classmethod\n",
    "\n",
    "    @staticmethod\n",
    "    def m3():\n",
    "        Test.f = 60 # 5. inside the static method \n",
    "\n",
    "t = Test()\n",
    "t.m1() \n",
    "Test.m2()\n",
    "Test.m3()\n",
    "Test.g = 70 # 6. outside the class \n",
    "Test.__dict__\n"
   ]
  },
  {
   "cell_type": "markdown",
   "metadata": {},
   "source": [
    "<!DOCTYPE html>\n",
    "<html>\n",
    "<head>\n",
    "    <title>Various Places to Declare Static Variables</title>\n",
    "</head>\n",
    "<body>\n",
    "    <h1>Various Places to Declare Static Variables</h1>\n",
    "    <ol>\n",
    "        <li>In general, we can declare static variables within the class directly but outside of any method or constructor.</li>\n",
    "        <li>Inside the constructor by using the class name.</li>\n",
    "        <li>Inside instance methods by using the class name.</li>\n",
    "        <li>Inside class methods by using either the class name or <code>cls</code> variable.</li>\n",
    "        <li>Inside static methods by using the class name.</li>\n",
    "        <li>From outside the class by using the class name.</li>\n",
    "    </ol>\n",
    "</body>\n",
    "</html>\n"
   ]
  },
  {
   "cell_type": "markdown",
   "metadata": {
    "vscode": {
     "languageId": "html"
    }
   },
   "source": [
    "<h2>How to access static variables</h2>"
   ]
  },
  {
   "cell_type": "code",
   "execution_count": 10,
   "metadata": {},
   "outputs": [
    {
     "name": "stdout",
     "output_type": "stream",
     "text": [
      "10\n",
      "10\n",
      "10\n",
      "10\n",
      "10\n",
      "10\n",
      "10\n",
      "10\n",
      "10\n"
     ]
    }
   ],
   "source": [
    "class Test:\n",
    "    a = 10\n",
    "\n",
    "    def __init__(self):\n",
    "        print(self.a)\n",
    "        print(Test.a)\n",
    "\n",
    "    def m1(self):\n",
    "        print(self.a)\n",
    "        print(Test.a)\n",
    "\n",
    "    @classmethod\n",
    "    def m2(cls):\n",
    "        print(cls.a)\n",
    "        print(Test.a)\n",
    "\n",
    "    @staticmethod\n",
    "    def m3():\n",
    "        print(Test.a)\n",
    "        \n",
    "t = Test()\n",
    "t.m1()\n",
    "Test.m2()\n",
    "Test.m3()\n",
    "print(t.a)\n",
    "print(Test.a)\n"
   ]
  },
  {
   "cell_type": "markdown",
   "metadata": {},
   "source": [
    "<!DOCTYPE html>\n",
    "<html>\n",
    "<head>\n",
    "    <title>How to Access Static Variables</title>\n",
    "</head>\n",
    "<body>\n",
    "    <h3>How to Access Static Variables</h3>\n",
    "    <ol>\n",
    "        <li>Inside constructor either by self or by class name.</li>\n",
    "        <li>Inside instance method either by self or by class name.</li>\n",
    "        <li>Inside class method either by using cls or by class name.</li>\n",
    "        <li>Inside static method by using class name.</li>\n",
    "        <li>Outside of the class, by using class name or by using object reference.</li>\n",
    "    </ol>\n",
    "</body>\n",
    "</html>\n"
   ]
  },
  {
   "cell_type": "markdown",
   "metadata": {},
   "source": [
    "<!DOCTYPE html>\n",
    "<html>\n",
    "<head>\n",
    "    <title>Static Variable Modification</title>\n",
    "</head>\n",
    "<body>\n",
    "    <h1>Where we can modify the value of static variable</h1>\n",
    "    <p>We can modify the value of static variable anywhere (either within the class or outside of the class) by using class name.</p>\n",
    "    <p>But inside class method, we can also use cls variable.</p>\n",
    "    <p><strong>Note:</strong> We cannot modify static variable value by using self or object reference.</p>\n",
    "</body>\n",
    "</html>\n"
   ]
  },
  {
   "cell_type": "code",
   "execution_count": 12,
   "metadata": {},
   "outputs": [
    {
     "name": "stdout",
     "output_type": "stream",
     "text": [
      "70\n"
     ]
    }
   ],
   "source": [
    "class Test:\n",
    "    a = 10 \n",
    "    def __init__(self):\n",
    "        Test.a = 20 # static variable is modified using class name\n",
    "        \n",
    "    def m1(self):\n",
    "        Test.a = 30 # static variable is modified using class name\n",
    "    \n",
    "    @classmethod    \n",
    "    def m2(cls):\n",
    "        cls.a = 40 # static variable is modified using cls name\n",
    "        Test.a = 50 # static variable is modified using class name\n",
    "        \n",
    "    @staticmethod\n",
    "    def m3():\n",
    "        Test.a = 60 # static variable is modified using class name \n",
    "        \n",
    "    \n",
    "t = Test()\n",
    "t.m1()\n",
    "Test.m2()\n",
    "Test.m3()\n",
    "Test.a = 70 # static variable is modified using class name and outside of the class\n",
    "print(Test.a)"
   ]
  },
  {
   "cell_type": "markdown",
   "metadata": {
    "vscode": {
     "languageId": "html"
    }
   },
   "source": [
    "<h3>****************** Examples related to instance and static variables ******************</h3>"
   ]
  },
  {
   "cell_type": "code",
   "execution_count": 14,
   "metadata": {},
   "outputs": [
    {
     "name": "stdout",
     "output_type": "stream",
     "text": [
      "10\n",
      "888\n"
     ]
    }
   ],
   "source": [
    "class Test:\n",
    "    a = 10 # <--------------------- static variable\n",
    "    \n",
    "    def m1(self):\n",
    "        self.a = 888  # <--------------------- instance variable\n",
    "        \n",
    "t = Test() \n",
    "t.m1()  \n",
    "print(Test.a) # 10 \n",
    "print(t.a) # 888  \n"
   ]
  },
  {
   "cell_type": "code",
   "execution_count": 15,
   "metadata": {},
   "outputs": [
    {
     "name": "stdout",
     "output_type": "stream",
     "text": [
      "888\n",
      "888\n"
     ]
    }
   ],
   "source": [
    "class Test:\n",
    "    a = 10 # <--------------------- static variable\n",
    "    \n",
    "    def m1(self):\n",
    "        Test.a = 888  # <--------------------- static variable\n",
    "        \n",
    "t = Test() \n",
    "t.m1()  \n",
    "print(Test.a) # 888 \n",
    "print(t.a) # 888  ,if there will not be any instance variable with that name then it will search for the static varialbe with that name \n"
   ]
  },
  {
   "cell_type": "code",
   "execution_count": 16,
   "metadata": {},
   "outputs": [
    {
     "name": "stdout",
     "output_type": "stream",
     "text": [
      "t1: 10 20\n",
      "t2: 10 20\n",
      "t1: 888 999\n",
      "t2: 10 20\n"
     ]
    }
   ],
   "source": [
    "class Test:\n",
    "    a = 10\n",
    "    def __init__(self):\n",
    "        self.b = 20\n",
    "\n",
    "t1 = Test()\n",
    "t2 = Test()\n",
    "print('t1:', t1.a, t1.b) # 10, 20 \n",
    "print('t2:', t2.a, t2.b) # 10, 20 \n",
    "\n",
    "t1.a = 888\n",
    "t1.b = 999\n",
    "print('t1:', t1.a, t1.b) # 888, 999\n",
    "print('t2:', t2.a, t2.b) # 10, 20  \n"
   ]
  },
  {
   "cell_type": "markdown",
   "metadata": {},
   "source": [
    "<!DOCTYPE html>\n",
    "<html>\n",
    "<head>\n",
    "    <title>Important Conclusion</title>\n",
    "</head>\n",
    "<body>\n",
    "    <h1>Important Conclusion:</h1>\n",
    "    <p>If we are trying to change the value of static variable by using either self or object reference variable, then the value of static variable won't be changed, just a new instance variable with that name will be added to that particular object.</p>\n",
    "</body>\n",
    "</html>\n"
   ]
  },
  {
   "cell_type": "code",
   "execution_count": 17,
   "metadata": {},
   "outputs": [
    {
     "name": "stdout",
     "output_type": "stream",
     "text": [
      "t1: 10 20\n",
      "t2: 10 20\n",
      "t1: 888 20\n",
      "t2: 888 20\n",
      "Test: 888 999\n"
     ]
    }
   ],
   "source": [
    "class Test:\n",
    "    a = 10\n",
    "\n",
    "    def __init__(self):\n",
    "        self.b = 20\n",
    "\n",
    "t1 = Test()\n",
    "t2 = Test()\n",
    "print('t1:', t1.a, t1.b) # 10, 20\n",
    "print('t2:', t2.a, t2.b) # 10, 20\n",
    "\n",
    "Test.a = 888\n",
    "Test.b = 999\n",
    "print('t1:', t1.a, t1.b) # 888, 20\n",
    "print('t2:', t2.a, t2.b) # 888, 20\n",
    "print('Test:', Test.a, Test.b) # 888, 999\n"
   ]
  },
  {
   "cell_type": "markdown",
   "metadata": {
    "vscode": {
     "languageId": "html"
    }
   },
   "source": [
    "<h3>How to delete static variables</h3>"
   ]
  },
  {
   "cell_type": "code",
   "execution_count": 6,
   "metadata": {},
   "outputs": [
    {
     "name": "stdout",
     "output_type": "stream",
     "text": [
      "{'__module__': '__main__', 'm1': <classmethod object at 0x72d664133490>, '__dict__': <attribute '__dict__' of 'Test' objects>, '__weakref__': <attribute '__weakref__' of 'Test' objects>, '__doc__': None}\n"
     ]
    }
   ],
   "source": [
    "class Test:\n",
    "    a = 10 \n",
    "    \n",
    "    @classmethod\n",
    "    def m1(cls):\n",
    "        # del Test.a \n",
    "        del cls.a\n",
    "        \n",
    "Test.m1()       \n",
    "print(Test.__dict__)"
   ]
  },
  {
   "cell_type": "code",
   "execution_count": 10,
   "metadata": {},
   "outputs": [
    {
     "name": "stdout",
     "output_type": "stream",
     "text": [
      "{'__module__': '__main__', '__init__': <function Test.__init__ at 0x72d66418f8b0>, 'm1': <function Test.m1 at 0x72d66418fc10>, 'm2': <classmethod object at 0x72d664255820>, 'm3': <staticmethod object at 0x72d6642556d0>, '__dict__': <attribute '__dict__' of 'Test' objects>, '__weakref__': <attribute '__weakref__' of 'Test' objects>, '__doc__': None}\n"
     ]
    }
   ],
   "source": [
    "class Test:\n",
    "    a = 10 \n",
    "    \n",
    "    def __init__(self):\n",
    "        Test.b = 20 \n",
    "        del Test.a # deleting static variable inside constructor  using class name\n",
    "    \n",
    "    def m1(self):\n",
    "        Test.c = 30 \n",
    "        del Test.b # deleting static variable inside instance method using class name\n",
    "        \n",
    "    @classmethod\n",
    "    def m2(cls):\n",
    "        cls.d = 40 \n",
    "        del Test.c # deleting static variable inside classmethod using class cls\n",
    "        \n",
    "    @staticmethod\n",
    "    def m3():\n",
    "        Test.e = 50\n",
    "        del Test.d # deleting static variable inside staticmethod using class cls\n",
    " \n",
    "t = Test()     \n",
    "t.m1()  \n",
    "Test.m2()\n",
    "Test.m3()\n",
    "del Test.e # deleting static variable outside of the class using class name\n",
    "print(Test.__dict__)"
   ]
  },
  {
   "cell_type": "markdown",
   "metadata": {},
   "source": [
    "<!DOCTYPE html>\n",
    "<html>\n",
    "<head>\n",
    "    <title>Deleting Static Variables</title>\n",
    "</head>\n",
    "<body>\n",
    "    <h1>How to delete static variables:</h1>\n",
    "    <p>We can delete static variables either by class name or cls variable.</p>\n",
    "    <p>*****Note: We cannot modify/delete static variables by using object reference or self. But we can access static variables by using object reference/self and class name.</p>\n",
    "</body>\n",
    "</html>\n"
   ]
  },
  {
   "cell_type": "code",
   "execution_count": 12,
   "metadata": {},
   "outputs": [
    {
     "name": "stdout",
     "output_type": "stream",
     "text": [
      "10\n"
     ]
    },
    {
     "ename": "AttributeError",
     "evalue": "a",
     "output_type": "error",
     "traceback": [
      "\u001b[0;31m---------------------------------------------------------------------------\u001b[0m",
      "\u001b[0;31mAttributeError\u001b[0m                            Traceback (most recent call last)",
      "\u001b[0;32m/tmp/ipykernel_121308/3323589412.py\u001b[0m in \u001b[0;36m<module>\u001b[0;34m\u001b[0m\n\u001b[1;32m      4\u001b[0m \u001b[0mt\u001b[0m \u001b[0;34m=\u001b[0m \u001b[0mTest\u001b[0m\u001b[0;34m(\u001b[0m\u001b[0;34m)\u001b[0m\u001b[0;34m\u001b[0m\u001b[0;34m\u001b[0m\u001b[0m\n\u001b[1;32m      5\u001b[0m \u001b[0mprint\u001b[0m\u001b[0;34m(\u001b[0m\u001b[0mt\u001b[0m\u001b[0;34m.\u001b[0m\u001b[0ma\u001b[0m\u001b[0;34m)\u001b[0m\u001b[0;34m\u001b[0m\u001b[0;34m\u001b[0m\u001b[0m\n\u001b[0;32m----> 6\u001b[0;31m \u001b[0;32mdel\u001b[0m \u001b[0mt\u001b[0m\u001b[0;34m.\u001b[0m\u001b[0ma\u001b[0m\u001b[0;34m\u001b[0m\u001b[0;34m\u001b[0m\u001b[0m\n\u001b[0m",
      "\u001b[0;31mAttributeError\u001b[0m: a"
     ]
    }
   ],
   "source": [
    "class Test:\n",
    "    a =10 \n",
    "\n",
    "t = Test() \n",
    "print(t.a) \n",
    "del t.a # it will show AttributeError ,we cannot modify or delete a static variable with the help of self or object reference variable."
   ]
  },
  {
   "cell_type": "markdown",
   "metadata": {
    "vscode": {
     "languageId": "html"
    }
   },
   "source": [
    "<h3>Instance variable vs Static variable</h3>"
   ]
  },
  {
   "cell_type": "code",
   "execution_count": 14,
   "metadata": {},
   "outputs": [
    {
     "name": "stdout",
     "output_type": "stream",
     "text": [
      "t1: 888 999\n",
      "t2: 888 20\n"
     ]
    }
   ],
   "source": [
    "class Test:\n",
    "    a = 10\n",
    "    def __init__(self):\n",
    "        self.b = 20\n",
    "\n",
    "t1 = Test()\n",
    "t2 = Test()\n",
    "Test.a = 888\n",
    "t1.b = 999\n",
    "\n",
    "print('t1:', t1.a, t1.b)\n",
    "print('t2:', t2.a, t2.b)"
   ]
  },
  {
   "cell_type": "markdown",
   "metadata": {
    "vscode": {
     "languageId": "html"
    }
   },
   "source": [
    "<!DOCTYPE html>\n",
    "<html>\n",
    "<head>\n",
    "    <title>Instance Variable vs Static Variable</title>\n",
    "</head>\n",
    "<body>\n",
    "    <h1>Instance Variable vs Static Variable:</h1>\n",
    "    <table border=\"1\">\n",
    "        <tr>\n",
    "            <th>Instance Variable</th>\n",
    "            <th>Static Variable</th>\n",
    "        </tr>\n",
    "        <tr>\n",
    "            <td>\n",
    "                <ol>\n",
    "                    <li>These are object level variables.</li>\n",
    "                    <li>For every object, a separate copy will be created.</li>\n",
    "                    <li>By using one object reference, if we are trying to perform any changes to the instance variables, then those changes won’t be reflected to the remaining objects, because for every object a separate copy of instance variables will be there.</li>\n",
    "                </ol>\n",
    "            </td>\n",
    "            <td>\n",
    "                <ol>\n",
    "                    <li>These are class level variables.</li>\n",
    "                    <li>A single copy will be created at class level and shared by all objects of that class.</li>\n",
    "                    <li>If we perform any change to the static variable, then those changes will be reflected to all objects, because a single copy of static variable will be maintained at class level.</li>\n",
    "                </ol>\n",
    "            </td>\n",
    "        </tr>\n",
    "    </table>\n",
    "</body>\n",
    "</html>\n"
   ]
  },
  {
   "cell_type": "markdown",
   "metadata": {},
   "source": [
    "<h3>****************** Examples related to instance and static variables End ******************</h3>"
   ]
  },
  {
   "cell_type": "markdown",
   "metadata": {
    "vscode": {
     "languageId": "html"
    }
   },
   "source": [
    "<h3>Local variables</h3>"
   ]
  },
  {
   "cell_type": "markdown",
   "metadata": {},
   "source": [
    "<h2>Local Variables:</h2>\n",
    "<ul>\n",
    "    <li>Sometimes to meet temporary requirements of the programmer, we can declare variables inside a method directly without using <code>self</code>, classname or <code>cls</code> variable. Such type of variables are called local variables or temporary variables.</li>\n",
    "    <li>Local variables can be used to hold temporary results.</li>\n",
    "    <li>The local variables of a method cannot be accessed from outside of that method.</li>\n",
    "</ul>\n"
   ]
  },
  {
   "cell_type": "code",
   "execution_count": 5,
   "metadata": {},
   "outputs": [
    {
     "name": "stdout",
     "output_type": "stream",
     "text": [
      "30.0\n",
      "1. Good Evening Durga\n",
      "2. Good Evening Durga\n",
      "3. Good Evening Durga\n",
      "4. Good Evening Durga\n",
      "5. Good Evening Durga\n",
      "6. Good Evening Durga\n",
      "7. Good Evening Durga\n",
      "8. Good Evening Durga\n",
      "9. Good Evening Durga\n",
      "10. Good Evening Durga\n"
     ]
    }
   ],
   "source": [
    "class Test:\n",
    "    \n",
    "    @staticmethod\n",
    "    def average(l):\n",
    "        res = sum(l)/len(l) # local variable to hold the temporary value\n",
    "        print(res)\n",
    "    \n",
    "    @staticmethod\n",
    "    def wish(name):\n",
    "        for i in range(10):\n",
    "            print(f'{i+1}. Good Evening {name}')    \n",
    "  \n",
    "l1 = [10,20,30,40,50]   \n",
    "name = 'Durga'    \n",
    "\n",
    "Test.average(l1)\n",
    "Test.wish(name)"
   ]
  },
  {
   "cell_type": "markdown",
   "metadata": {},
   "source": [
    "<h2>Instance Method:</h2>\n",
    "<p>Inside method implementation, if we are using any instance variable, then this method always talks about a particular object. Such type of methods we have to declare as instance methods.</p>\n",
    "<p>The first argument to the instance method is always <code>self</code>, which is a reference variable to the current object. By using this <code>self</code> we can access instance variable values.</p>\n",
    "<pre>\n",
    "def m1(self):\n",
    "    pass\n",
    "</pre>\n"
   ]
  },
  {
   "cell_type": "markdown",
   "metadata": {},
   "source": [
    "<h2>Joke about Student Grades:</h2>\n",
    "<p>Most \"First class\" students get technical seats and become Doctors or Engineers.</p>\n",
    "<p>The \"Second class\" students pass MBA to become Administrators and control the First class.</p>\n",
    "<p>The \"Third class\" students enter politics (ministers) and control both, First and Second class.</p>\n",
    "<p>Lastly, The \"Failures\" join the underworld and control all the above!</p>\n"
   ]
  },
  {
   "cell_type": "code",
   "execution_count": 7,
   "metadata": {},
   "outputs": [
    {
     "name": "stdout",
     "output_type": "stream",
     "text": [
      "Hello chinni\n",
      "Your Marks are: 98\n",
      "You got First Grade\n",
      "\n",
      "Hello binni\n",
      "Your Marks are: 60\n",
      "You got First Grade\n",
      "\n"
     ]
    }
   ],
   "source": [
    "class Student:\n",
    "    def __init__(self, name, marks):\n",
    "        self.name = name\n",
    "        self.marks = marks\n",
    "\n",
    "    def display(self):\n",
    "        print('Hello', self.name)\n",
    "        print('Your Marks are:', self.marks)\n",
    "\n",
    "    def grade(self):\n",
    "        if self.marks >= 60:\n",
    "            print('You got First Grade')\n",
    "        elif self.marks >= 50:\n",
    "            print('You got Second Grade')\n",
    "        elif self.marks >= 35:\n",
    "            print('You got Third Grade')\n",
    "        else:\n",
    "            print('You are failed')\n",
    "            \n",
    "n = int(input('Enter Number of Students:'))\n",
    "for i in range(n):\n",
    "    name = input('Enter Student Name:')\n",
    "    marks = int(input('Enter Marks:'))\n",
    "    s = Student(name, marks)\n",
    "    s.display()\n",
    "    s.grade()\n",
    "    print()\n",
    "\n"
   ]
  },
  {
   "cell_type": "markdown",
   "metadata": {},
   "source": [
    "<!DOCTYPE html>\n",
    "<html>\n",
    "<head>\n",
    "    <title>Setter and Getter Methods</title>\n",
    "</head>\n",
    "<body>\n",
    "    <h1>Setter and Getter Methods</h1>\n",
    "    <p>We can set and get the values of instance variables by using setter and getter methods.</p>\n",
    "</body>\n",
    "</html>\n"
   ]
  },
  {
   "cell_type": "code",
   "execution_count": 10,
   "metadata": {},
   "outputs": [
    {
     "name": "stdout",
     "output_type": "stream",
     "text": [
      "Hello : chinni\n",
      "Your marks is: 89.0\n",
      "Hello : binni\n",
      "Your marks is: 90.0\n"
     ]
    }
   ],
   "source": [
    "class Student:\n",
    "    \n",
    "    def setName(self,name):\n",
    "        self.name = name\n",
    "\n",
    "    def getName(self):\n",
    "        return self.name \n",
    "    \n",
    "    def setMarks(self,marks):\n",
    "        self.marks = marks\n",
    "\n",
    "    def getMarks(self):\n",
    "        return self.marks \n",
    "    \n",
    "n = int(input('Enter no. of students : '))\n",
    "stu_obj = [] \n",
    "\n",
    "for i in range(n):\n",
    "    s = Student() \n",
    "    name = input('Name : ')\n",
    "    marks = float(input('Marks : ')) \n",
    "    \n",
    "    s.setName(name)\n",
    "    s.setMarks(marks)\n",
    "    \n",
    "    stu_obj.append(s) \n",
    "\n",
    "for obj in stu_obj:\n",
    "    print(f'Hello : {obj.getName()}')\n",
    "    print(f'Your marks is: {obj.getMarks()}')\n",
    "    "
   ]
  },
  {
   "cell_type": "code",
   "execution_count": null,
   "metadata": {},
   "outputs": [],
   "source": [
    "import fitz  # PyMuPDF\n",
    "from transformers import AutoTokenizer, AutoModelForQuestionAnswering\n",
    "import torch\n",
    "\n",
    "# Sample dictionary of questions and answers\n",
    "d = {\n",
    "    \"Where was Atiq Ahmed born?\": \"Prayagraj\",\n",
    "    \"What was Atiq's primary crime business?\": \"Extortion\",\n",
    "    \"Which political party did Atiq first join?\": \"Independent\",\n",
    "    \"Who was Atiq’s main political ally?\": \"Mulayam Singh\",\n",
    "    \"Which seat did Atiq win in 2004?\": \"Phulpur\",\n",
    "    \"In which year did Atiq first become MLA?\": \"1989\",\n",
    "    \"Who was Atiq's rival killed in 2005?\": \"Raju Pal\",\n",
    "    \"What was the last constituency he served?\": \"Phulpur\",\n",
    "    \"Who was the witness Atiq allegedly had killed?\": \"Umesh Pal\",\n",
    "    \"What year was Atiq killed?\": \"2023\"\n",
    "}\n",
    "\n",
    "# Extract text from PDF\n",
    "def extract_text_from_pdf(pdf_path):\n",
    "    text = \"\"\n",
    "    with fitz.open(pdf_path) as pdf:\n",
    "        for page_num in range(pdf.page_count):\n",
    "            page = pdf[page_num]\n",
    "            text += page.get_text()\n",
    "    return text\n",
    "\n",
    "# Tokenize text into chunks based on max token limit\n",
    "def split_text_by_tokens(text, tokenizer, max_tokens=512):\n",
    "    words = text.split()\n",
    "    chunks = []\n",
    "    chunk = \"\"\n",
    "    \n",
    "    for word in words:\n",
    "        temp_chunk = chunk + \" \" + word\n",
    "        if len(tokenizer.tokenize(temp_chunk)) <= max_tokens:\n",
    "            chunk = temp_chunk\n",
    "        else:\n",
    "            chunks.append(chunk.strip())\n",
    "            chunk = word\n",
    "    if chunk:\n",
    "        chunks.append(chunk.strip())\n",
    "    \n",
    "    return chunks\n",
    "\n",
    "# Load pre-trained model and tokenizer\n",
    "model_name = \"bert-large-uncased-whole-word-masking-finetuned-squad\"\n",
    "tokenizer = AutoTokenizer.from_pretrained(model_name)\n",
    "model = AutoModelForQuestionAnswering.from_pretrained(model_name)\n",
    "\n",
    "# Find best answer per question from text chunks\n",
    "def answer_question_in_chunks(question, chunks, confidence_threshold=0.5):\n",
    "    best_answer = \"\"\n",
    "    best_score = float(\"-inf\")  # Start with a very low score\n",
    "    \n",
    "    for chunk in chunks:\n",
    "        inputs = tokenizer.encode_plus(question, chunk, add_special_tokens=True, return_tensors=\"pt\",\n",
    "                                       max_length=512, truncation=True)\n",
    "        \n",
    "        with torch.no_grad():\n",
    "            outputs = model(**inputs)\n",
    "        \n",
    "        # Get start and end logits\n",
    "        start_logits = outputs.start_logits\n",
    "        end_logits = outputs.end_logits\n",
    "        start_index = torch.argmax(start_logits)\n",
    "        end_index = torch.argmax(end_logits) + 1\n",
    "        \n",
    "        # Calculate the score as the sum of start and end logit scores\n",
    "        score = start_logits[0][start_index] + end_logits[0][end_index - 1]\n",
    "        \n",
    "        # Update the best answer if this score is higher than the best so far\n",
    "        if score > best_score:\n",
    "            best_score = score\n",
    "            answer_tokens = inputs[\"input_ids\"][0][start_index:end_index]\n",
    "            best_answer = tokenizer.decode(answer_tokens, skip_special_tokens=True)\n",
    "    \n",
    "    # Filter answers based on confidence threshold\n",
    "    if best_score > confidence_threshold:\n",
    "        return best_answer, best_score.item()\n",
    "    else:\n",
    "        return \"Answer not confident\", best_score.item()\n",
    "\n",
    "# Load and prepare text data\n",
    "pdf_path = \"/content/Atiq_new.pdf\"\n",
    "pdf_text = extract_text_from_pdf(pdf_path)\n",
    "text_chunks = split_text_by_tokens(pdf_text, tokenizer, max_tokens=512)  # Adjust max_tokens as needed\n",
    "\n",
    "print('*' * 40, 'Please wait...', '*' * 40, end='\\n\\n')\n",
    "\n",
    "# Loop through each question and find the answer\n",
    "for que, expected_answer in d.items():\n",
    "    answer, score = answer_question_in_chunks(que, text_chunks, confidence_threshold=0.5)\n",
    "    print(f\"Question: {que}\\nBest Answer: {answer} (Score: {score:.2f})\\nExpected Answer: {expected_answer}\\n{'-'*40}\\n\")\n"
   ]
  },
  {
   "cell_type": "markdown",
   "metadata": {},
   "source": [
    "<h1>Class Methods</h1>\n",
    "\n",
    "<p>\n",
    "    &#x25BA; Inside method implementation, if we are using only static variables and if we are not using any instance variable, \n",
    "    then that method is no way related to a particular object and it is class level method. \n",
    "    Such type of methods we have to declare as class methods.\n",
    "</p>\n",
    "\n",
    "<p>\n",
    "    &#x25BA; We have to declare class method with <code>@classmethod</code> decorator.\n",
    "</p>\n",
    "\n",
    "<p>\n",
    "    &#x25BA; The first argument to the class method is always <code>cls</code>, which is a reference variable to the class object.\n",
    "</p>\n",
    "\n",
    "<p>\n",
    "    &#x25BA; For every class, one special object will be created by PVM to maintain class-level information, which is nothing but the class-level object. \n",
    "    <code>cls</code> is the reference variable pointing to that object.\n",
    "</p>\n"
   ]
  },
  {
   "cell_type": "code",
   "execution_count": 13,
   "metadata": {},
   "outputs": [
    {
     "name": "stdout",
     "output_type": "stream",
     "text": [
      "eagle fly with 2 wings\n",
      "parrot fly with 2 wings\n"
     ]
    }
   ],
   "source": [
    "class Birds:\n",
    "    \n",
    "    wings = 2 \n",
    "    \n",
    "    @classmethod\n",
    "    def fly(cls,bird_name):\n",
    "        print(f'{bird_name} fly with {cls.wings} wings')\n",
    "        \n",
    "Birds.fly('eagle')\n",
    "Birds.fly('parrot')"
   ]
  },
  {
   "cell_type": "markdown",
   "metadata": {
    "vscode": {
     "languageId": "html"
    }
   },
   "source": [
    "<h4>Counting the no. of objects created</h4>"
   ]
  },
  {
   "cell_type": "code",
   "execution_count": 20,
   "metadata": {},
   "outputs": [
    {
     "name": "stdout",
     "output_type": "stream",
     "text": [
      "0 object created\n",
      "3 object created\n"
     ]
    }
   ],
   "source": [
    "class Test:\n",
    "    count = 0 \n",
    "    \n",
    "    def __init__(self):\n",
    "        Test.count += 1 \n",
    "        \n",
    "    @classmethod\n",
    "    def get_no_of_objects(cls):\n",
    "        print(f'{cls.count} object created') \n",
    "        \n",
    "Test.get_no_of_objects() \n",
    "\n",
    "t1 = Test()\n",
    "t2 = Test()\n",
    "t3 = Test()\n",
    "\n",
    "Test.get_no_of_objects() \n"
   ]
  },
  {
   "cell_type": "markdown",
   "metadata": {},
   "source": [
    "<h2>Instance Method vs Class Method</h2>\n",
    "\n",
    "<table border=\"1\" style=\"width:100%; text-align:left; border-collapse:collapse;\">\n",
    "    <tr>\n",
    "        <th style=\"padding:8px;\">Instance Method</th>\n",
    "        <th style=\"padding:8px;\">Class Method</th>\n",
    "    </tr>\n",
    "    <tr>\n",
    "        <td style=\"padding:8px;\">Inside the method body, if we are using at least one instance variable, we must declare that method as an instance method.</td>\n",
    "        <td style=\"padding:8px;\">Inside the method body, if we are using only static variables and no instance variables, we must declare that method as a class method.</td>\n",
    "    </tr>\n",
    "    <tr>\n",
    "        <td style=\"padding:8px;\">Inside an instance method, we can access both instance and static variables.</td>\n",
    "        <td style=\"padding:8px;\">Inside a class method, we can access only static variables and cannot access instance variables.</td>\n",
    "    </tr>\n",
    "    <tr>\n",
    "        <td style=\"padding:8px;\">To declare an instance method, no decorator is required.</td>\n",
    "        <td style=\"padding:8px;\">To declare a class method, we must use the <code>@classmethod</code> decorator.</td>\n",
    "    </tr>\n",
    "    <tr>\n",
    "        <td style=\"padding:8px;\">The first argument should be <code>self</code>, which is a reference to the current object. Using <code>self</code>, we can access instance variables inside the method.</td>\n",
    "        <td style=\"padding:8px;\">The first argument should be <code>cls</code>, which is a reference variable to the current class object. Using <code>cls</code>, we can access static variables.</td>\n",
    "    </tr>\n",
    "    <tr>\n",
    "        <td style=\"padding:8px;\">We can call an instance method using an object reference.</td>\n",
    "        <td style=\"padding:8px;\">We can call a class method either by using an object reference or by using the class name, though using the class name is recommended.</td>\n",
    "    </tr>\n",
    "</table>\n"
   ]
  },
  {
   "cell_type": "code",
   "execution_count": null,
   "metadata": {},
   "outputs": [],
   "source": []
  },
  {
   "cell_type": "code",
   "execution_count": 11,
   "metadata": {},
   "outputs": [
    {
     "name": "stdout",
     "output_type": "stream",
     "text": [
      "Radhe Shyam\n",
      "Radhe Shyam  village tareta post rasoolpur\n"
     ]
    }
   ],
   "source": [
    "#Practice\n",
    "class c:\n",
    "    \n",
    "    def __init__(self,first_name,last_name,age):\n",
    "        self.name1=first_name\n",
    "        self.l_name=last_name\n",
    "        self.age=age\n",
    "        \n",
    "    def f(self):\n",
    "        self.full_name=f'{self.name1} {self.l_name}'\n",
    "        return self.full_name\n",
    "    \n",
    "    def extra_detail(self,address):\n",
    "        self.address=address\n",
    "        return f'{self.full_name}  {self.address}'\n",
    "    \n",
    "obj=c('Radhe','Shyam','infinite')\n",
    "print(obj.f())\n",
    "print(obj.extra_detail('village tareta post rasoolpur'))"
   ]
  },
  {
   "cell_type": "markdown",
   "metadata": {
    "vscode": {
     "languageId": "raw"
    }
   },
   "source": [
    "- i.e, Each instance have attributes that are unique to\n",
    "that instance.\n",
    "- Ideally we set all of this information for each user\n",
    "automatically using 'constructor', instead of setting\n",
    "these values manually.\n"
   ]
  },
  {
   "cell_type": "markdown",
   "metadata": {},
   "source": [
    "## Constructor:\n",
    "- The task of constructors is to initialize(assign values)\n",
    "the instance variable of the class when an object of class\n",
    "is created.\n",
    "- Constructor is automatically called when an object is\n",
    "instantiated.\n",
    "- Constructor are of two types\n",
    "    - Default constructor,\n",
    "    - Parameterised constructor\n",
    "- In python, __init__() method is used for defining\n",
    "constructor.\n",
    "- **purpose of constructor** :\n",
    "    - to delcalre or initialise the instance variable \n",
    "    - within the class constructor is option ,need not to implement every time when you declare a class. \n",
    "\n",
    "- Inside method, we can write business logic based on your programming requirement while in case of constructor we have to declare and initialise instance variables.\n",
    "    "
   ]
  },
  {
   "cell_type": "code",
   "execution_count": 1,
   "metadata": {},
   "outputs": [
    {
     "name": "stdout",
     "output_type": "stream",
     "text": [
      "Method is called...\n"
     ]
    }
   ],
   "source": [
    "# What happens if we provide method name same as well as class name? \n",
    "\n",
    "class Test:\n",
    "    \n",
    "    def Test(self): # it's valid but not recommended\n",
    "        print('Method is called...') \n",
    "        \n",
    "t = Test() \n",
    "t.Test()"
   ]
  },
  {
   "cell_type": "code",
   "execution_count": 39,
   "metadata": {},
   "outputs": [
    {
     "name": "stdout",
     "output_type": "stream",
     "text": [
      "Method execution ...\n"
     ]
    }
   ],
   "source": [
    "# if we do not declare a constructor explicitly within the class \n",
    "\n",
    "class Test: # this is the valid class without the constructor \n",
    "    \n",
    "    def f(self):\n",
    "        print('Method execution ...') \n",
    "\n",
    "t = Test() \n",
    "t.f()"
   ]
  },
  {
   "cell_type": "markdown",
   "metadata": {
    "vscode": {
     "languageId": "html"
    }
   },
   "source": [
    "<h1>Method overloading not supported by the python</h1>"
   ]
  },
  {
   "cell_type": "code",
   "execution_count": 44,
   "metadata": {},
   "outputs": [
    {
     "name": "stdout",
     "output_type": "stream",
     "text": [
      "constructor execution...\n",
      "constructor execution...\n",
      "constructor execution...\n",
      "constructor execution...\n"
     ]
    }
   ],
   "source": [
    "class Test:\n",
    "    \n",
    "    def __init__(self):\n",
    "        print('constructor execution...')\n",
    "        \n",
    "t = Test()   # constructor is called and a object is created \n",
    "t.__init__() # calling of constructor explicitly ,here constructor calling is like calling of normal instance method but its not creating a new object in memory\n",
    "t.__init__() # calling of constructor explicitly \n",
    "t.__init__() # calling of constructor explicitly"
   ]
  },
  {
   "cell_type": "code",
   "execution_count": 19,
   "metadata": {},
   "outputs": [
    {
     "name": "stdout",
     "output_type": "stream",
     "text": [
      "constructor is called...: this is a function inside the constructor...\n",
      "Default condtructor starts running automatically \n",
      "            whenever the object of the class is created\n",
      "        \n",
      "constructor is called...: this is a function inside the constructor...\n",
      "Default condtructor starts running automatically \n",
      "            whenever the object of the class is created\n",
      "        \n"
     ]
    }
   ],
   "source": [
    "# Default Constructor\n",
    "class Employee:\n",
    "    def __init__(self):\n",
    "      \n",
    "      def f():\n",
    "        print('constructor is called...: this is a function inside the constructor...')\n",
    "        \n",
    "      f()\n",
    "      \n",
    "      s='''Default condtructor starts running automatically \n",
    "            whenever the object of the class is created\n",
    "        '''\n",
    "      print(s)\n",
    "\n",
    "emp_1= Employee()\n",
    "emp_2= Employee()\n"
   ]
  },
  {
   "cell_type": "markdown",
   "metadata": {},
   "source": [
    "## self:\n",
    "- 'self' is a reference variable pointing to the current object\n",
    "within the class.\n",
    "- By convention it is named as 'self'.\n"
   ]
  },
  {
   "attachments": {
    "image.png": {
     "image/png": "[encoded data removed]"
    }
   },
   "cell_type": "markdown",
   "metadata": {
    "vscode": {
     "languageId": "html"
    }
   },
   "source": [
    "![image.png](attachment:image.png)"
   ]
  },
  {
   "cell_type": "code",
   "execution_count": 23,
   "metadata": {},
   "outputs": [
    {
     "name": "stdout",
     "output_type": "stream",
     "text": [
      "Address of self pointed by self is : 135968263762224\n",
      "Address of ref_var pointed by ref_var is : 135968263762224\n"
     ]
    }
   ],
   "source": [
    "class Test:\n",
    "    def __init__(self):\n",
    "        \n",
    "        print(f'Address of self pointed by self is : {id(self)}')\n",
    "        \n",
    "ref_var = Test() \n",
    "print(f'Address of ref_var pointed by ref_var is : {id(ref_var)}')\n",
    "\n",
    "'''yha pe dekh sakte hai ki jo reference variable hota hai aur self dono ek hi object ko\n",
    "    point kr rhe iska matlab dono varialbe same hain, fark bs itna hai ki self class ke use\n",
    "    krte hain ref_var outside the class use krte hain by durga sir'''"
   ]
  },
  {
   "cell_type": "markdown",
   "metadata": {},
   "source": [
    "- constructor aur instnace method ka pehle argument hamesh **self** hi hoga. \n",
    "- during creating an object of the class and calling the instance method you do not require to pass the value of self because python virtual machine(pvm) automatically pass the value of self.\n",
    "\n",
    "- **working of self variable within the class** : \n",
    "    - 1. to create the instance variable( means current object me ek variable create or declare krna) \n",
    "    - 2. to access the value of instnace variable. \n",
    "\n",
    "- self is the current object aur implicit variable hota hai. \n",
    "- constructor me ya instance method me jo bhi pehla argument hota hai current object ko hi point krta hai neech kuch examples dekh sakte as a code."
   ]
  },
  {
   "cell_type": "code",
   "execution_count": 34,
   "metadata": {},
   "outputs": [
    {
     "data": {
      "text/plain": [
       "'name : Sunny, roll : 101, marks : 90'"
      ]
     },
     "execution_count": 34,
     "metadata": {},
     "output_type": "execute_result"
    }
   ],
   "source": [
    "class Test: \n",
    "    def __init__(delf,name,roll,marks):\n",
    "        \n",
    "        delf.name = name \n",
    "        delf.roll = roll \n",
    "        delf.marks = marks \n",
    "        \n",
    "    def talk(kelf):\n",
    "        \n",
    "        return f'name : {kelf.name}, roll : {kelf.roll}, marks : {kelf.marks}'\n",
    "\n",
    "t = Test('Sunny',101,90) \n",
    "t.talk()"
   ]
  },
  {
   "cell_type": "code",
   "execution_count": 37,
   "metadata": {},
   "outputs": [
    {
     "ename": "TypeError",
     "evalue": "__init__() takes 3 positional arguments but 4 were given",
     "output_type": "error",
     "traceback": [
      "\u001b[0;31m---------------------------------------------------------------------------\u001b[0m",
      "\u001b[0;31mTypeError\u001b[0m                                 Traceback (most recent call last)",
      "\u001b[0;32m/tmp/ipykernel_1586560/2461712572.py\u001b[0m in \u001b[0;36m<module>\u001b[0;34m\u001b[0m\n\u001b[1;32m     12\u001b[0m \u001b[0;34m\u001b[0m\u001b[0m\n\u001b[1;32m     13\u001b[0m \u001b[0;34m\u001b[0m\u001b[0m\n\u001b[0;32m---> 14\u001b[0;31m \u001b[0mt\u001b[0m \u001b[0;34m=\u001b[0m \u001b[0mTest\u001b[0m\u001b[0;34m(\u001b[0m\u001b[0;34m'Sunny'\u001b[0m\u001b[0;34m,\u001b[0m\u001b[0;36m101\u001b[0m\u001b[0;34m,\u001b[0m\u001b[0;36m90\u001b[0m\u001b[0;34m)\u001b[0m \u001b[0;31m# <------------------yhan pe apko 2 hi argument pass krne the\u001b[0m\u001b[0;34m\u001b[0m\u001b[0;34m\u001b[0m\u001b[0m\n\u001b[0m",
      "\u001b[0;31mTypeError\u001b[0m: __init__() takes 3 positional arguments but 4 were given"
     ]
    }
   ],
   "source": [
    "class Test: \n",
    "    \n",
    "    '''TypeError: __init__() takes 3 positional arguments but 4 were given ,ye isliye esa bol rha hai q\n",
    "    ki ye name ko as a self treat kr rha hai pehe argument jo bhi vo current object ko point krta by \n",
    "    default bache do  roll and marks aru jb aap iska object create kr rhe ho to wha pe aap 3 argument \n",
    "    pass kr rhe ho apko do hi krna chahiye'''\n",
    "    \n",
    "    def __init__(name,roll,marks): # <------- \n",
    "        \n",
    "        pass \n",
    "        \n",
    "   \n",
    "\n",
    "t = Test('Sunny',101,90) # <------------------yhan pe apko 2 hi argument pass krne the "
   ]
  },
  {
   "cell_type": "code",
   "execution_count": 38,
   "metadata": {},
   "outputs": [],
   "source": [
    "class Test: \n",
    "    \n",
    "    \n",
    "    \n",
    "    def __init__(name,roll,marks): # <------- \n",
    "        \n",
    "        pass \n",
    "        \n",
    "   \n",
    "\n",
    "t = Test('Sunny',101) # ab shi hai code ... "
   ]
  },
  {
   "cell_type": "markdown",
   "metadata": {},
   "source": [
    "## Parameterized Constructor"
   ]
  },
  {
   "cell_type": "code",
   "execution_count": 16,
   "metadata": {},
   "outputs": [
    {
     "name": "stdout",
     "output_type": "stream",
     "text": [
      "Jackie Chan\n",
      "Bruce Lee\n",
      "18000\n"
     ]
    }
   ],
   "source": [
    "# Parameterised constructor:\n",
    "class Employee:\n",
    "    def __init__(self,name,email,monthly):\n",
    "        self.name=name\n",
    "        self.email=email\n",
    "        self.monthly=monthly\n",
    "\n",
    "emp_1=Employee('Jackie Chan','jackie@gmail.com',18_000)#Here underscore means we can separate the things without giving any eroor.It's not the part of oops.\n",
    "print(emp_1.name)\n",
    "\n",
    "emp_2=Employee(monthly=22000,name='Bruce Lee',\n",
    "               email='bruce@gmail.com')\n",
    "print(emp_2.name)\n",
    "print(emp_1.monthly)"
   ]
  },
  {
   "cell_type": "markdown",
   "metadata": {},
   "source": [
    "## Method:\n",
    "- Function defined within a class is called Method.\n",
    "- There can be 3 types of methods defined python class:\n",
    "    - instance method\n",
    "    - class method\n",
    "    - static method\n"
   ]
  },
  {
   "cell_type": "markdown",
   "metadata": {},
   "source": [
    "## Instance Method:\n",
    "- Instance method are methods which require an object of\n",
    "its class to be created before it can be called.\n",
    "- The first parameter of instance method must be object\n",
    "itself i.e, 'self' parameter.\n"
   ]
  },
  {
   "cell_type": "code",
   "execution_count": 10,
   "metadata": {},
   "outputs": [
    {
     "name": "stdout",
     "output_type": "stream",
     "text": [
      "Jackie Chan has CTC of Rs.216000.\n",
      "Bruce Lee has CTC of Rs.264000.\n"
     ]
    }
   ],
   "source": [
    "# create instance method 'annual' of Employee class\n",
    "class Employee:\n",
    "    def __init__(self,name,email,monthly):\n",
    "        self.name=name\n",
    "        self.email=email\n",
    "        self.monthly=monthly\n",
    "        \n",
    "    def annual(self):#instance method\n",
    "        self.salary= self.monthly*12#Here self.salary is a instance variable,it  means it can be use anywhere in the class as well as outside the class.We can also use it any another intance method(simply we can say a  method).\n",
    "        return f'{self.name} has CTC of Rs.{self.salary}.'\n",
    "\n",
    "emp_1= Employee('Jackie Chan','jackie@gmail.com',18000)\n",
    "#print(Employee.annual(emp_1)) # Access instance method using class\n",
    "print(emp_1.annual()) # Access instance method using object of class\n",
    "\n",
    "\n",
    "emp_2=Employee(monthly=22000,name='Bruce Lee',\n",
    "               email='bruce@gmail.com')\n",
    "print(emp_2.annual())\n"
   ]
  },
  {
   "cell_type": "code",
   "execution_count": 1,
   "metadata": {},
   "outputs": [
    {
     "name": "stdout",
     "output_type": "stream",
     "text": [
      "{'name': 'Jackie Chan', 'email': 'jackie@gmail.com', 'monthly': 18000}\n"
     ]
    }
   ],
   "source": [
    "# Builtin functions and attributes(data) to access class data:\n",
    "class Employee:\n",
    "    'This is Employee class'#Docstring of the class\n",
    "    def __init__(self,name,email,monthly):\n",
    "        self.name=name\n",
    "        self.email=email\n",
    "        self.monthly=monthly\n",
    "        \n",
    "    def annual(self):\n",
    "        'Return CTC of employee'#Docstring of the instance method\n",
    "        self.salary= self.monthly*12\n",
    "        return f'{self.name} has CTC of Rs.{self.salary}.'\n",
    "\n",
    "# print(Employee.__dict__)\n",
    "# print(Employee.__doc__)\n",
    "emp_1= Employee('Jackie Chan','jackie@gmail.com',18000)\n",
    "# print(emp_1.__dict__)\n",
    "print(vars(emp_1))#<---------------------------------------\n",
    "\n",
    "# print(emp_1.name)\n",
    "\n",
    "# print(getattr(emp_1,'name'))\n",
    "# print(getattr(emp_1,'Name','No such attribute exist'))\n",
    "# print(getattr(emp_1,'email','No such attribute exist'))\n",
    "\n",
    "# print(hasattr(emp_1,'Name'))\n",
    "# print(hasattr(emp_1,'email'))\n",
    "\n",
    "# setattr(emp_1,'name','Jack Ma')\n",
    "# print(emp_1.__dict__)\n",
    "\n",
    "# delattr(emp_1,'monthly')\n",
    "# print(emp_1.__dict__)    "
   ]
  },
  {
   "cell_type": "code",
   "execution_count": 8,
   "metadata": {},
   "outputs": [
    {
     "name": "stdout",
     "output_type": "stream",
     "text": [
      "5\n"
     ]
    }
   ],
   "source": [
    "# Python program to show that we can create \n",
    "# instance variables inside methods\n",
    "\n",
    "# Class for Computer Science Student\n",
    "class CSStudent:\n",
    "\t\n",
    "\t# Class Variable\n",
    "\tstream = 'cse'\t\n",
    "\t\n",
    "\t# The init method or constructor\n",
    "\tdef __init__(self, roll):\n",
    "\t\t\n",
    "\t\t# Instance Variable\n",
    "\t\tself.roll = roll\t\t \n",
    "\n",
    "\t# Adds an instance variable \n",
    "\tdef setAddress(self, address):\n",
    "\t\tself.addresss = address\n",
    "\t\n",
    "\t# Retrieves instance variable \n",
    "\tdef getAddress(self): \n",
    "\t\treturn self.addresss#<---------------------------------------------\n",
    "\n",
    "# Driver Code\n",
    "a = CSStudent(101)\n",
    "a.setAddress(\"Noida, UP\")\n",
    "print(a.getAddress()) \n"
   ]
  },
  {
   "cell_type": "markdown",
   "metadata": {},
   "source": [
    "## Method as property:\n",
    "- The property() method in Python provides an interface\n",
    "to instance attributes.\n",
    "- property() returns the property attribute from the given\n",
    "getter, setter, and deleter.\n",
    "- Syntax: property(fget=None, fset=None, fdel=None, doc=None)\n"
   ]
  },
  {
   "cell_type": "code",
   "execution_count": 34,
   "metadata": {},
   "outputs": [
    {
     "name": "stdout",
     "output_type": "stream",
     "text": [
      "Getting name\n",
      "Jackie Chan\n",
      "Setting name to Jack Ma\n",
      "Deleting name\n"
     ]
    }
   ],
   "source": [
    "class Employee:\n",
    "    'This is Employee class'\n",
    "    def __init__(self,name,email,monthly):\n",
    "        self._name=name                  #Protected instance variable\n",
    "        self._email=email                #Protected instance variable\n",
    "        self._monthly=monthly            #Protected instance variable\n",
    "\n",
    "    def get_name(self):\n",
    "        print('Getting name')\n",
    "        return self._name\n",
    "\n",
    "    def set_name(self, value):\n",
    "        print('Setting name to',value)\n",
    "        self._name=value\n",
    "\n",
    "    def del_name(self):\n",
    "        print('Deleting name')\n",
    "        del self._name\n",
    "        \n",
    "    #set property ,it takes atmost 4 arguments only\n",
    "    name= property(get_name,set_name,del_name,'Name attribute')#If instance variable isn't protected then after creating it will invoke the functions inside it.\n",
    "\n",
    "# print(Employee.__dict__)\n",
    "emp_1= Employee('Jackie Chan','jackie@gmail.com',18000)\n",
    "print(emp_1.name)\n",
    "emp_1.name='Jack Ma'\n",
    "# print(emp_1.__dict__)\n",
    "del emp_1.name\n",
    "# print(emp_1.__dict__)"
   ]
  },
  {
   "cell_type": "markdown",
   "metadata": {},
   "source": [
    "## Using @property decorator\n",
    "- Instead of using property(), we can use the Python\n",
    "decorator @property to assign the getter, setter, and\n",
    "deleter.\n"
   ]
  },
  {
   "cell_type": "code",
   "execution_count": 3,
   "metadata": {},
   "outputs": [
    {
     "name": "stdout",
     "output_type": "stream",
     "text": [
      "Getting name\n",
      "Jackie Chan\n",
      "Setting name to Jack Ma\n",
      "Deleting name\n"
     ]
    }
   ],
   "source": [
    "class Employee:\n",
    "    'This is Employee class'\n",
    "    def __init__(self,name,email,monthly):\n",
    "        self.name=name\n",
    "        self.email=email\n",
    "        self.monthly=monthly\n",
    "\n",
    "    @property\n",
    "    def fname(self):\n",
    "        print('Getting name')\n",
    "        return self.name\n",
    "    \n",
    "    @fname.setter\n",
    "    def fname(self, value):\n",
    "        print('Setting name to',value)\n",
    "        self.name=value\n",
    "        \n",
    "    @fname.deleter\n",
    "    def fname(self):\n",
    "        print('Deleting name')\n",
    "        del self.name\n",
    "\n",
    "# print(Employee.__dict__)\n",
    "emp_1= Employee('Jackie Chan','jackie@gmail.com',18000)\n",
    "# print(emp_1.__dict__)\n",
    "print(emp_1.fname)\n",
    "emp_1.fname='Jack Ma'\n",
    "# print(emp_1.__dict__)\n",
    "del emp_1.fname\n",
    "# print(emp_1.__dict__)\n"
   ]
  },
  {
   "cell_type": "markdown",
   "metadata": {},
   "source": [
    "## Builtin functions and attributes to access class data: \n",
    "- getattr(obj,name,default):\n",
    "    - It is used to access the attribute of the object.\n",
    "    - Default argument is returned when the attribute\n",
    "    doesn't exist.\n",
    "\n",
    "- setattr(obj,name,value):\n",
    "    - It is used to set a particular value to the specific\n",
    "    attribute of an object.\n",
    "\n",
    "- delattr(obj,name):\n",
    "    - It is used to delete a specific attribute.\n",
    "\n",
    "- hasattr(obj,name):\n",
    "    - It returns true if the object contains some specific\n",
    "    attribute.\n",
    "\n",
    "- __dict__:\n",
    "    - It provides the dictionary containing the\n",
    "    information about the class namespace.\n",
    "\n",
    "- __doc__:\n",
    "    - It contains a string which has the class documentation\n",
    "\n",
    "- __name__:\n",
    "    - It is used to access the class name.\n",
    "\n",
    "- __module__:\n",
    "    - It is used to access the module in which, this class is defined.\n",
    "\n",
    "- __bases__:\n",
    "    - It contains a tuple including all base classes.\n",
    "\n",
    "- vars():\n",
    "    - This function displays the attribute of an instance\n",
    "    in the form of an dictionary.\n",
    "- dir():\n",
    "    - This function displays more attributes than vars(),\n",
    "    as it is not limited to instance.\n",
    "    - It displays the class attributes as well.\n"
   ]
  },
  {
   "cell_type": "markdown",
   "metadata": {},
   "source": [
    "## Access Modifiers:\n",
    "- Putting restrictions on accessing variables and methods\n",
    "directly can prevent the accidental modification of data.\n",
    "- Python doesn't have any mechanism that effectively\n",
    "restricts access of attributes.\n",
    "- Types of Access Modifiers:\n",
    "    - Public\n",
    "    - Protected\n",
    "    - Private \n"
   ]
  },
  {
   "cell_type": "code",
   "execution_count": 14,
   "metadata": {},
   "outputs": [
    {
     "name": "stdout",
     "output_type": "stream",
     "text": [
      "Jackie Chan\n",
      "No such attribute exist\n",
      "False\n",
      "Jack Ma\n",
      "True\n",
      "False\n"
     ]
    }
   ],
   "source": [
    "class Employee:\n",
    "    def __init__(self, name, monthly):\n",
    "        self.name = name\n",
    "        self.monthly = monthly\n",
    "        \n",
    "    def annual(self):\n",
    "        self.salary = self.monthly*12\n",
    "        return f'{self.name} has CTC of Rs.{self.salary}'\n",
    "\n",
    "#print(dir(Employee))\n",
    "\n",
    "emp_1 = Employee('Jackie Chan', 18000)\n",
    "#print(dir(emp_1))\n",
    "#print(vars(emp_1))\n",
    "\n",
    "print(getattr(emp_1,'name')) #print(emp_1.name)\n",
    "print(getattr(emp_1,'Name','No such attribute exist'))\n",
    "print(hasattr(emp_1,'Name'))\n",
    "setattr(emp_1,'name','Jack Ma') #emp_1.name='Jack Ma'\n",
    "print(getattr(emp_1,'name'))\n",
    "\n",
    "print(hasattr(emp_1,'monthly'))\n",
    "delattr(emp_1,'monthly') #del emp_1.monthly\n",
    "print(hasattr(emp_1,'monthly'))"
   ]
  },
  {
   "cell_type": "markdown",
   "metadata": {},
   "source": [
    "## Public Members:\n",
    "- Public members are accessible within class, in subclass\n",
    "and also outside the class.\n",
    "- The object of the same class is required to invoke a\n",
    "public method.\n",
    "- All members in a Python class are public by default.\n"
   ]
  },
  {
   "cell_type": "code",
   "execution_count": 15,
   "metadata": {},
   "outputs": [
    {
     "name": "stdout",
     "output_type": "stream",
     "text": [
      "5\n",
      "49\n"
     ]
    }
   ],
   "source": [
    "# class with public member\n",
    "class A:\n",
    "    def __init__(self,x):\n",
    "        self.x= x\n",
    "    def cal_sq(self):\n",
    "        return self.x**2 # Accessed within the class\n",
    "\n",
    "obj=A(5)\n",
    "print(getattr(obj,'x')) # Accessed outside class\n",
    "setattr(obj,'x',7) # Modifying outside class\n",
    "print(obj.cal_sq())\n"
   ]
  },
  {
   "cell_type": "markdown",
   "metadata": {},
   "source": [
    "## Protected Members:\n",
    "- Protected members are accessible within class, in\n",
    "subclass and but not outside the class.\n",
    "- To accomplish this in Python, just follow the convention\n",
    "by prefixing the name of the member by a single underscore\n"
   ]
  },
  {
   "cell_type": "code",
   "execution_count": 7,
   "metadata": {},
   "outputs": [
    {
     "name": "stdout",
     "output_type": "stream",
     "text": [
      "{'_x': 5, 'x': 7}\n",
      "25\n",
      "25\n"
     ]
    }
   ],
   "source": [
    "# class with protected member\n",
    "class A:\n",
    "    def __init__(self,x):\n",
    "        self._x= x#protected member\n",
    "    def display(self):\n",
    "        return self._x**2 # Accessed inside class\n",
    "\n",
    "obj=A(5)\n",
    "# print(getattr(obj,'x')) # Access denied ouside class\n",
    "setattr(obj,'x',7) # Modifying denied outside class\n",
    "print(obj.__dict__)\n",
    "print(obj.display())\n",
    "setattr(obj,'x',100)\n",
    "print(obj.display())"
   ]
  },
  {
   "cell_type": "code",
   "execution_count": null,
   "metadata": {},
   "outputs": [],
   "source": []
  },
  {
   "cell_type": "markdown",
   "metadata": {},
   "source": [
    "## Private Members:\n",
    "- Private members are accessible only within class\n",
    "but neither in subclass nor outside the class.\n",
    "- To define a private member, prefix the member name\n",
    "with double underscore `__`.\n"
   ]
  },
  {
   "cell_type": "code",
   "execution_count": 7,
   "metadata": {},
   "outputs": [
    {
     "name": "stdout",
     "output_type": "stream",
     "text": [
      "5\n"
     ]
    }
   ],
   "source": [
    "# class with private member\n",
    "class A:\n",
    "    def __init__(self,x):\n",
    "        self.__x= x#private member\\variable\n",
    "    def display(self):\n",
    "        return self.__x # Accessed inside class\n",
    "\n",
    "obj=A(5)\n",
    "# print(getattr(obj,'x')) # Access denied outside class\n",
    "# setattr(obj,'x',7) # Modification denied outside class\n",
    "print(obj.display())\n",
    "#print(getattr(obj,'x'))#Access denied outside the class"
   ]
  },
  {
   "cell_type": "code",
   "execution_count": 18,
   "metadata": {},
   "outputs": [
    {
     "name": "stdout",
     "output_type": "stream",
     "text": [
      "{'__module__': '__main__', '__init__': <function Employee.__init__ at 0x7f6508087290>, 'get_name': <function Employee.get_name at 0x7f6508087320>, 'set_name': <function Employee.set_name at 0x7f65080873b0>, 'del_name': <function Employee.del_name at 0x7f6508087440>, '__dict__': <attribute '__dict__' of 'Employee' objects>, '__weakref__': <attribute '__weakref__' of 'Employee' objects>, '__doc__': None}\n",
      "Getting name\n",
      "Jackie Chan\n",
      "Setting name to Jack Ma\n",
      "Getting name\n",
      "Jack Ma\n",
      "Deleting name\n",
      "False\n"
     ]
    }
   ],
   "source": [
    "# Modifying Protected and Private Members inside class\n",
    "#Create class with getter, setter, and deleter methods\n",
    "#inside class:\n",
    "class Employee:\n",
    "    def __init__(self, name, monthly):\n",
    "        self._name = name\n",
    "        self._monthly = monthly\n",
    "        \n",
    "    def get_name(self):\n",
    "        print('Getting name')\n",
    "        return self._name\n",
    "\n",
    "    def set_name(self, value):\n",
    "        print('Setting name to ' + value)\n",
    "        self._name = value\n",
    "\n",
    "    def del_name(self):\n",
    "        print('Deleting name')\n",
    "        del self._name\n",
    "\n",
    "print(Employee.__dict__)\n",
    "emp_1 = Employee('Jackie Chan', 18000)\n",
    "print(emp_1.get_name())\n",
    "emp_1.set_name('Jack Ma')\n",
    "print(emp_1.get_name())\n",
    "emp_1.del_name()\n",
    "print(hasattr(emp_1,'name'))\n"
   ]
  },
  {
   "cell_type": "markdown",
   "metadata": {},
   "source": [
    "## Note:\n",
    "- Our new update was not backward compatible:\n",
    "- The big problem with the above update is that, all the\n",
    "clients who implemented our previous class in their\n",
    "program have to modify their code:\n",
    "    - from `obj.name` to `obj.get_name()` and \n",
    "    - all assignments like `obj.name = val` to\n",
    "    `obj.set_name(val)`\n",
    "- This is where builtin property() comes to rescue.\n"
   ]
  },
  {
   "cell_type": "markdown",
   "metadata": {},
   "source": [
    "## Method as property:\n",
    "- The property() method in Python provides an interface\n",
    "to instance attributes.\n",
    "- property() returns the property attribute from the given\n",
    "getter, setter, and deleter.\n",
    "- Syntax: property(fget=None, fset=None, fdel=None, doc=None)\n"
   ]
  },
  {
   "cell_type": "code",
   "execution_count": 19,
   "metadata": {},
   "outputs": [
    {
     "name": "stdout",
     "output_type": "stream",
     "text": [
      "{'__module__': '__main__', '__init__': <function Employee.__init__ at 0x7f6508074710>, 'get_name': <function Employee.get_name at 0x7f6508074e60>, 'set_name': <function Employee.set_name at 0x7f6508074050>, 'del_name': <function Employee.del_name at 0x7f6508074680>, 'name': <property object at 0x7f650806f170>, '__dict__': <attribute '__dict__' of 'Employee' objects>, '__weakref__': <attribute '__weakref__' of 'Employee' objects>, '__doc__': None}\n",
      "Getting name\n",
      "Jackie Chan\n",
      "Setting name to Jack Ma\n",
      "Getting name\n",
      "Jack Ma\n",
      "Deleting name\n",
      "Getting name\n",
      "False\n"
     ]
    }
   ],
   "source": [
    "#Create class with getter, setter, and deleter methods as property\n",
    "class Employee:\n",
    "    def __init__(self, name, monthly):\n",
    "        self._name = name\n",
    "        self._monthly = monthly\n",
    "        \n",
    "    def get_name(self):\n",
    "        print('Getting name')\n",
    "        return self._name\n",
    "\n",
    "    def set_name(self, value):\n",
    "        print('Setting name to ' + value)\n",
    "        self._name = value\n",
    "\n",
    "    def del_name(self):\n",
    "        print('Deleting name')\n",
    "        del self._name\n",
    "        \n",
    "    #set property to use get_name, set_name and del_name methods\n",
    "    name = property(get_name, set_name, del_name, 'Name property')\n",
    "\n",
    "print(Employee.__dict__)\n",
    "\n",
    "emp_1 = Employee('Jackie Chan', 18000)\n",
    "print(getattr(emp_1,'name'))\n",
    "setattr(emp_1,'name','Jack Ma')\n",
    "print(getattr(emp_1,'name'))\n",
    "delattr(emp_1,'name')\n",
    "print(hasattr(emp_1,'name'))\n"
   ]
  },
  {
   "cell_type": "markdown",
   "metadata": {},
   "source": [
    "## Using @property decorator\n",
    "- Instead of using property(), you can use the Python\n",
    "decorator @property to assign the getter, setter, and\n",
    "deleter.\n"
   ]
  },
  {
   "cell_type": "code",
   "execution_count": 20,
   "metadata": {},
   "outputs": [
    {
     "name": "stdout",
     "output_type": "stream",
     "text": [
      "{'__module__': '__main__', '__init__': <function Employee.__init__ at 0x7f6508074c20>, 'name': <property object at 0x7f650806fad0>, '__dict__': <attribute '__dict__' of 'Employee' objects>, '__weakref__': <attribute '__weakref__' of 'Employee' objects>, '__doc__': None}\n",
      "Getting name\n",
      "Jackie Chan\n",
      "Setting name to Jack Ma\n",
      "Getting name\n",
      "Jack Ma\n",
      "Deleting name\n",
      "Getting name\n",
      "False\n"
     ]
    }
   ],
   "source": [
    "class Employee:\n",
    "    def __init__(self, name, monthly):\n",
    "        self._name = name\n",
    "        self._monthly = monthly\n",
    "        \n",
    "    @property    \n",
    "    def name(self):\n",
    "        print('Getting name')\n",
    "        return self._name\n",
    "    \n",
    "    @name.setter\n",
    "    def name(self, value):\n",
    "        print('Setting name to ' + value)\n",
    "        self._name = value\n",
    "        \n",
    "    @name.deleter\n",
    "    def name(self):\n",
    "        print('Deleting name')\n",
    "        del self._name\n",
    "print(Employee.__dict__)\n",
    "\n",
    "emp_1 = Employee('Jackie Chan', 18000)\n",
    "print(getattr(emp_1,'name'))\n",
    "setattr(emp_1,'name','Jack Ma')\n",
    "print(getattr(emp_1,'name'))\n",
    "delattr(emp_1,'name')\n",
    "print(hasattr(emp_1,'name'))\n"
   ]
  },
  {
   "cell_type": "markdown",
   "metadata": {},
   "source": [
    "## class variable:\n",
    "- Variable that belong to the class itself and is shared\n",
    "by all instances of a class. \n",
    "- class variables are defined within a class but outside\n",
    "any of the classes methods.\n"
   ]
  },
  {
   "cell_type": "code",
   "execution_count": 21,
   "metadata": {},
   "outputs": [
    {
     "name": "stdout",
     "output_type": "stream",
     "text": [
      "{'__module__': '__main__', 'increment': 1.08, '__init__': <function Employee.__init__ at 0x7f65080da680>, 'annual': <function Employee.annual at 0x7f65080da440>, 'pay_raise': <function Employee.pay_raise at 0x7f65080dadd0>, 'display_salary': <function Employee.display_salary at 0x7f65080da9e0>, '__dict__': <attribute '__dict__' of 'Employee' objects>, '__weakref__': <attribute '__weakref__' of 'Employee' objects>, '__doc__': None}\n",
      "Jackie Chan has CTC of Rs.216000\n",
      "Jackie Chan has CTC of Rs.233280\n"
     ]
    }
   ],
   "source": [
    "#create class variable increment:\n",
    "class Employee:\n",
    "    increment= 1.08\n",
    "    def __init__(self, name, monthly):\n",
    "        self.name = name\n",
    "        self.monthly = monthly\n",
    "        \n",
    "    def annual(self):\n",
    "        self.salary = self.monthly*12\n",
    "\n",
    "    def pay_raise(self):\n",
    "        self.salary = int(self.salary*Employee.increment)\n",
    "        # Access class variable as class variable\n",
    "\n",
    "    def display_salary(self):\n",
    "        return f'{self.name} has CTC of Rs.{self.salary}'\n",
    "\n",
    "print(Employee.__dict__)\n",
    "\n",
    "emp_1 = Employee('Jackie Chan', 18000)\n",
    "emp_2 = Employee('Bruce Lee', 22000)\n",
    "\n",
    "emp_1.annual()\n",
    "print(emp_1.display_salary())\n",
    "emp_1.pay_raise()\n",
    "print(emp_1.display_salary())\n"
   ]
  },
  {
   "cell_type": "code",
   "execution_count": 22,
   "metadata": {},
   "outputs": [
    {
     "name": "stdout",
     "output_type": "stream",
     "text": [
      "{'__module__': '__main__', 'increment': 1.08, '__init__': <function Employee.__init__ at 0x7f65080da4d0>, 'annual': <function Employee.annual at 0x7f65080da3b0>, 'pay_raise': <function Employee.pay_raise at 0x7f65080daf80>, 'display_salary': <function Employee.display_salary at 0x7f65080dd710>, '__dict__': <attribute '__dict__' of 'Employee' objects>, '__weakref__': <attribute '__weakref__' of 'Employee' objects>, '__doc__': None}\n",
      "{'name': 'Jackie Chan', 'monthly': 18000}\n",
      "Jackie Chan has CTC of Rs.233280\n",
      "{'name': 'Bruce Lee', 'monthly': 22000, 'increment': 1.12}\n",
      "Bruce Lee has CTC of Rs.295680\n"
     ]
    }
   ],
   "source": [
    "# Access class variable as class and instance variable both:\n",
    "class Employee:\n",
    "    increment= 1.08\n",
    "    def __init__(self, name, monthly):\n",
    "        self.name = name\n",
    "        self.monthly = monthly\n",
    "        \n",
    "    def annual(self):\n",
    "        self.salary = self.monthly*12\n",
    "\n",
    "    def pay_raise(self):\n",
    "        self.salary = int(self.salary*self.increment)\n",
    "        # Access class variable as both \n",
    "    \n",
    "    def display_salary(self):\n",
    "        return f'{self.name} has CTC of Rs.{self.salary}'\n",
    "\n",
    "print(Employee.__dict__)\n",
    "\n",
    "emp_1 = Employee('Jackie Chan', 18000)\n",
    "emp_2 = Employee('Bruce Lee', 22000)\n",
    "\n",
    "print(emp_1.__dict__)\n",
    "emp_1.annual()\n",
    "emp_1.pay_raise()\n",
    "print(emp_1.display_salary())\n",
    "\n",
    "emp_2.increment= 1.12\n",
    "print(emp_2.__dict__)\n",
    "emp_2.annual()\n",
    "emp_2.pay_raise()\n",
    "print(emp_2.display_salary())\n"
   ]
  },
  {
   "cell_type": "raw",
   "metadata": {},
   "source": [
    "## - If we try to change class variable using object,\n",
    "a new instance (or non-static) variable for that particular\n",
    "object is created and this variable shadows the class\n",
    "variables.\n"
   ]
  },
  {
   "cell_type": "markdown",
   "metadata": {},
   "source": [
    "## OOPs Features:\n",
    "- Polymorphism\n",
    "- Encapsulation\n",
    "- Abstraction\n",
    "- Inheritance\n"
   ]
  },
  {
   "cell_type": "markdown",
   "metadata": {},
   "source": [
    "## Polymorphism: poly-many | morph-forms\n",
    "- Polymorphism means the ability to take various forms.\n",
    "- In Python, Polymorphism allows an object to come in\n",
    "many forms.\n",
    "- To achieve polymorphism:\n",
    "    - 1) Method Overloading: Here methods have same name\n",
    "    but have different signature (parameters).\n",
    "        - It is not possible in Python.\n",
    "    - 2) Method Overriding: Here method in base class and\n",
    "    derived class have same name but different functionality.\n",
    "\n"
   ]
  },
  {
   "cell_type": "markdown",
   "metadata": {},
   "source": [
    "## Operator Overloading:\n",
    "- It enables us to use mathematical, logical and bitwise\n",
    "operators on python objects just like any primitive data\n",
    "type.\n"
   ]
  },
  {
   "cell_type": "code",
   "execution_count": 14,
   "metadata": {},
   "outputs": [
    {
     "name": "stdout",
     "output_type": "stream",
     "text": [
      "(2,3)\n",
      "(4,5)\n",
      "(6,8)\n"
     ]
    }
   ],
   "source": [
    "# __ methods__ are known as magic method.\n",
    "# Create a class to perform '+' operator overloading for\n",
    "# coordinates. Ex. (2,3) & (4,5)==> (6,8)\n",
    "class Coordinate:\n",
    "    def __init__(self,x,y):\n",
    "        self.x= x\n",
    "        self.y= y\n",
    "\n",
    "    def __str__(self):\n",
    "        return f'({self.x},{self.y})'\n",
    "\n",
    "    def __add__(self,other): #Equivalent to '+' operator\n",
    "        x= self.x+other.x\n",
    "        y= self.y+other.y\n",
    "        return Coordinate(x,y)\n",
    "\n",
    "pt1= Coordinate(2,3)\n",
    "# print(type(pt1))\n",
    "print(pt1)\n",
    "pt2= Coordinate(4,5)\n",
    "print(pt2)\n",
    "pt3= pt1+pt2 #pt1.__add__(pt2)\n",
    "print(pt3)\n"
   ]
  },
  {
   "cell_type": "code",
   "execution_count": 25,
   "metadata": {},
   "outputs": [
    {
     "name": "stdout",
     "output_type": "stream",
     "text": [
      "2,3\n",
      "3,2\n",
      "5,5\n",
      "<class '__main__.summation'>\n"
     ]
    }
   ],
   "source": [
    "# Practice\n",
    "class summation:\n",
    "    def __init__(self,a,b):\n",
    "        self.a=a\n",
    "        self.b=b\n",
    "    def __str__(self):\n",
    "        return f'{self.a},{self.b}' \n",
    "    def __add__(self,other):\n",
    "        x=self.a+other.a\n",
    "        y=self.b+other.b\n",
    "        return summation(x,y)\n",
    "obj=summation(2,3)\n",
    "print(obj)\n",
    "obj1=summation(3,2)\n",
    "print(obj1)\n",
    "res=obj+obj1\n",
    "print(res)\n",
    "print(type(obj))"
   ]
  },
  {
   "cell_type": "code",
   "execution_count": 26,
   "metadata": {},
   "outputs": [],
   "source": [
    "# Single Level Inheritance:\n",
    "# Syntax:\n",
    "class Parent: # Base class\n",
    "    pass\n",
    "    \n",
    "class Child(Parent): # Derived class\n",
    "    pass\n"
   ]
  },
  {
   "cell_type": "code",
   "execution_count": 28,
   "metadata": {},
   "outputs": [
    {
     "name": "stdout",
     "output_type": "stream",
     "text": [
      "Enter dim. of side 1: 3\n",
      "Enter dim. of side 2: 2\n",
      "Enter dim. of side 3: 50\n",
      "Enter dim. of side 4: 5\n"
     ]
    }
   ],
   "source": [
    "\n",
    "#Create a Base class Polygon\n",
    "\n",
    "class Polygon:\n",
    "    def __init__(self,no_of_sides):\n",
    "        self.n= no_of_sides\n",
    "        self.sides=[0 for i in range(no_of_sides)]\n",
    "        \n",
    "    def inputSides(self):\n",
    "        self.sides=[float(input(f'Enter dim. of side {i+1}: ')) for i in range(self.n)]  \n",
    "\n",
    "    def displaySides(self):\n",
    "        for i in range(self.n):\n",
    "            print(f'Dim. of side {i+1} is {self.sides[i]}cm')\n",
    "\n",
    "#Create a Derived class Tringle which 'is a' Polygon\n",
    "class Triangle(Polygon):\n",
    "    def __init__(self):\n",
    "        super().__init__(3)\n",
    "\n",
    "    def perimeter(self):\n",
    "        a,b,c= self.sides\n",
    "        perimeter= a+b+c\n",
    "        print(f'Perimeter of triangle is {perimeter}cm')\n",
    "\n",
    "#print(Polygon.__dict__)\n",
    "rectangle= Polygon(4)\n",
    "rectangle.inputSides()\n",
    "#rectangle.displaySides()\n",
    "\n",
    "tri= Triangle()\n",
    "#tri.inputSides() # Access method of Base class\n",
    "#tri.perimeter()\n"
   ]
  },
  {
   "cell_type": "code",
   "execution_count": 29,
   "metadata": {},
   "outputs": [
    {
     "name": "stdout",
     "output_type": "stream",
     "text": [
      "True\n",
      "True\n",
      "True\n",
      "True\n",
      "True\n",
      "True\n"
     ]
    }
   ],
   "source": [
    "# Two builtin functions check relationships:\n",
    "# isinstance(obj,class):\n",
    "'''\n",
    "- Checks the relationship between the objects and classes.\n",
    "    - Returns True if the obj is an instance of the\n",
    "    class or other classes derived from it.\n",
    "- Each and every class in Python inherits from the base\n",
    "class object.\n",
    "'''\n",
    "print(isinstance(rectangle,Polygon))\n",
    "print(isinstance(tri,Triangle))\n",
    "print(isinstance(tri,Polygon))\n",
    "print(isinstance(Polygon,object))\n",
    "print(isinstance(Triangle,object))\n",
    "print(isinstance(int,object))\n"
   ]
  },
  {
   "cell_type": "code",
   "execution_count": 32,
   "metadata": {},
   "outputs": [
    {
     "name": "stdout",
     "output_type": "stream",
     "text": [
      "True\n",
      "True\n"
     ]
    }
   ],
   "source": [
    "# issubclass(sub,sup):\n",
    "'''\n",
    "- Checks the relationships between the specified classes.\n",
    "- Returns True if the first class is the subclass of\n",
    "the second class, and False otherwise.\n",
    "'''\n",
    "print(issubclass(Triangle,Polygon))\n",
    "print(issubclass(Polygon,object))"
   ]
  },
  {
   "cell_type": "markdown",
   "metadata": {},
   "source": [
    "## Data Encapsulation:\n",
    "- Data encapsulation describes the idea of wrapping data\n",
    "and the methods that work on data within one unit.\n",
    "- This puts restrictions on accessing variables and\n",
    "methods directly and can prevent the accidental\n",
    "modification of data.\n"
   ]
  },
  {
   "cell_type": "code",
   "execution_count": 34,
   "metadata": {},
   "outputs": [
    {
     "name": "stdout",
     "output_type": "stream",
     "text": [
      "20\n",
      "25\n"
     ]
    }
   ],
   "source": [
    "# Create a Base class with protected memebers\n",
    "class A:\n",
    "    def __init__(self,n):\n",
    "        self._var=n\n",
    "    def _sq(self):#protected member within the class\n",
    "        return self._var**2 #protected variable within class\n",
    "    def cube(self):\n",
    "        return self._sq()*self._var #protected method within class\n",
    "\n",
    "# Create a Derived class trying to access protected memebers:\n",
    "# of Base class\n",
    "class B(A):\n",
    "    def sqPerimeter(self):\n",
    "        return 4*self._var #protected variable in derived class\n",
    "    def sqArea(self):\n",
    "        return self._sq() #protected method in derived class\n",
    "\n",
    "a= A(5)\n",
    "#print(a.var) # Denied, Protected variable outside class\n",
    "#print(a.sq()) # Denied, Protected method outside class\n",
    "#print(a.cube())\n",
    "\n",
    "b= B(5)\n",
    "print(b.sqPerimeter())\n",
    "print(b.sqArea())\n"
   ]
  },
  {
   "cell_type": "code",
   "execution_count": 40,
   "metadata": {},
   "outputs": [],
   "source": [
    "# Create a Base class with private memebers:\n",
    "class A:\n",
    "    def __init__(self,n):\n",
    "        self.__var=n\n",
    "    def __sq(self):\n",
    "        return self.__var**2 #private variable within class\n",
    "    def cube(self):\n",
    "        return self.__sq()*self.__var #private method within class\n",
    "\n",
    "# Create a Derived class trying to access private memebers:\n",
    "# of Base class\n",
    "class B(A):\n",
    "    def sqPerimeter(self):\n",
    "        return 4*self.__var #private variable in derived class\n",
    "    def sqArea(self):\n",
    "        return self.__sq() #private method in derived class\n",
    "\n",
    "a= A(5)\n",
    "# print(a.var) # Denied, Private variable outside class\n",
    "# print(a.sq()) # Denied, Private method outside class\n",
    "# print(a.cube())\n",
    "\n",
    "b= B(5)\n",
    "# print(b.sqPerimeter()) #Denied\n",
    "# print(b.sqArea()) #Denied\n"
   ]
  },
  {
   "cell_type": "code",
   "execution_count": null,
   "metadata": {},
   "outputs": [],
   "source": [
    "# Hierarchial Inheritance:\n",
    "\n",
    "#Create a Base class Polygon\n",
    "class Polygon:\n",
    "    def __init__(self,no_of_sides):\n",
    "        self.n= no_of_sides\n",
    "        self.sides=[0 for i in range(no_of_sides)]\n",
    "        \n",
    "    def inputSides(self):\n",
    "        self.sides=[float(input(f'Enter dim. of side {i+1}: ')) for i in range(self.n)]  \n",
    "\n",
    "    def displaySides(self):\n",
    "        for i in range(self.n):\n",
    "            print(f'Dim. of side {i+1} is {self.sides[i]}cm')\n",
    "#Create a Derived class Tringle which 'is a' Polygon\n",
    "class Triangle(Polygon):\n",
    "    def __init__(self):\n",
    "        Polygon.__init__(self,3)\n",
    "\n",
    "    def perimeter(self):\n",
    "        a,b,c= self.sides\n",
    "        perimeter= a+b+c\n",
    "        print(f'Perimeter of triangle is {perimeter}cm')\n",
    "#Create a Derived class Rectangle, which 'is a' Polygon\n",
    "class Rectangle(Polygon):\n",
    "    def __init__(self):\n",
    "        Polygon.__init__(self,2)\n",
    "        \n",
    "    def perimeter(self):\n",
    "        a,b= self.sides\n",
    "        perimeter= 2*(a+b)\n",
    "        print(f'Perimeter of rectangle is {perimeter}cm')\n",
    "\n",
    "rect= Rectangle()\n",
    "rect.perimeter()\n",
    "rect.inputSides()\n",
    "rect.perimeter()\n"
   ]
  },
  {
   "cell_type": "code",
   "execution_count": 2,
   "metadata": {},
   "outputs": [
    {
     "name": "stdout",
     "output_type": "stream",
     "text": [
      "Perimeter of triangle is 0cm\n",
      "Enter dim. of side 1: 1\n",
      "Enter dim. of side 2: 4\n",
      "Enter dim. of side 3: 6\n",
      "Perimeter of triangle is 11.0cm\n",
      "Area of triangle is 0.7071067811865475sqcm\n"
     ]
    }
   ],
   "source": [
    "# Multilevel Inheritance:\n",
    "'''\n",
    "- Syntax:\n",
    "class Base:\n",
    "    pass\n",
    "class Derived1(Base):\n",
    "    pass\n",
    "class Derived2(Derived1):\n",
    "    pass\n",
    "'''\n",
    "\n",
    "#Create a Base class Polygon\n",
    "class Polygon:\n",
    "    def __init__(self,no_of_sides):\n",
    "        self.n= no_of_sides\n",
    "        self.sides=[0 for i in range(no_of_sides)]\n",
    "    def inputSides(self):\n",
    "        self.sides=[float(input(f'Enter dim. of side {i+1}: ')) for i in range(self.n)]  \n",
    "\n",
    "    def displaySides(self):\n",
    "        for i in range(self.n):\n",
    "            print(f'Dim. of side {i+1} is {self.sides[i]}cm')\n",
    "\n",
    "#Create a Derived class Tringle which 'is a' Polygon\n",
    "\n",
    "class Triangle(Polygon):\n",
    "    def __init__(self):\n",
    "        Polygon.__init__(self,3)\n",
    "\n",
    "    def perimeter(self):\n",
    "        a,b,c= self.sides\n",
    "        perimeter= a+b+c\n",
    "        print(f'Perimeter of triangle is {perimeter}cm')\n",
    "\n",
    "#Create a Derived class Eqilateral which 'is a' Triangle\n",
    "class Equilateral(Triangle):\n",
    "    def __init__(self):\n",
    "        Triangle.__init__(self)\n",
    "\n",
    "    def area(self):\n",
    "        a,b,c=self.sides\n",
    "        area= (a**2)/(2**0.5)\n",
    "        print(f'Area of triangle is {area}sqcm')\n",
    "    \n",
    "equi= Equilateral()\n",
    "equi.perimeter()\n",
    "equi.inputSides()\n",
    "equi.perimeter()\n",
    "equi.area()\n"
   ]
  },
  {
   "cell_type": "code",
   "execution_count": null,
   "metadata": {},
   "outputs": [],
   "source": [
    "# Multiple Inheritance:\n",
    "'''\n",
    "- Syntax:\n",
    "class Base1:\n",
    "    pass\n",
    "class Base2:\n",
    "    pass\n",
    "class Derived(Base1,Base2):\n",
    "    pass\n",
    "'''\n",
    "# Create a Base class Person\n",
    "class Person:\n",
    "    def __init__(self,name,age):\n",
    "        self.Pname= name\n",
    "        self.Page= age\n",
    "    def showName(self):\n",
    "        print(self.Pname)\n",
    "    def showAge(self):\n",
    "        print(self.Page)\n",
    "# Create another Base class Student\n",
    "class Student:\n",
    "    def __init__(self,Id):\n",
    "        self.stuId= Id\n",
    "    def showId(self):\n",
    "        print(self.stuId)\n",
    "# Create Derived class Resident which 'is a' Person and\n",
    "# which 'is a' Student\n",
    "class Resident(Person,Student):\n",
    "    def __init__(self,name,age,Id,hno):\n",
    "        Person.__init__(self,name,age)\n",
    "        Student.__init__(self,Id)\n",
    "        self.hno= hno\n",
    "\n",
    "    def showHouse(self):\n",
    "        print(self.hno)\n",
    "\n",
    "res= Resident('Ramesh',56,42050,302)\n",
    "res.showHouse()\n",
    "res.showId()\n",
    "res.showAge()\n"
   ]
  },
  {
   "cell_type": "code",
   "execution_count": 6,
   "metadata": {},
   "outputs": [
    {
     "name": "stdout",
     "output_type": "stream",
     "text": [
      "Preeti\n",
      "(<class '__main__.C'>, <class '__main__.B'>, <class '__main__.A'>, <class 'object'>)\n"
     ]
    }
   ],
   "source": [
    "# Method Overriding in Multiple Inheritance:\n",
    "class A:\n",
    "    def __init__(self):\n",
    "        self.name='Roshan'\n",
    "        self.age= 56\n",
    "    def showName(self):\n",
    "        print(self.name)\n",
    "\n",
    "class B:\n",
    "    def __init__(self):\n",
    "        self.name='Preeti'\n",
    "        self.age= 28\n",
    "    def showName(self):\n",
    "        print(self.name)\n",
    "\n",
    "class C(B,A):\n",
    "    def __init__(self):\n",
    "        super().__init__()\n",
    "       \n",
    "obj= C()\n",
    "obj.showName()\n",
    "print(C.__mro__)"
   ]
  },
  {
   "cell_type": "markdown",
   "metadata": {},
   "source": [
    "## MRO: Method Resolution Order\n",
    "- MRO is the order in which Python looks for a method in\n",
    "a hierarchy of classes.\n",
    "- In multiple inheritances, the methods are executed\n",
    "based on the order specified while inheriting the classes.\n",
    "- In the multiple inheritance scenario, any specified\n",
    "attribute is searched first in the current class.\n",
    "- If not found, the search continues into parent classes\n",
    "in Depth-First, Left-Right(DLR) fashion without searching\n",
    "same class twice.\n"
   ]
  },
  {
   "cell_type": "code",
   "execution_count": null,
   "metadata": {},
   "outputs": [],
   "source": [
    "# Complex Inheritance:\n",
    "class X:\n",
    "    pass\n",
    "class Y:\n",
    "    pass\n",
    "class Z:\n",
    "    pass\n",
    "class A(X,Y):\n",
    "    pass\n",
    "class B(Y,Z):\n",
    "    pass\n",
    "class M(B,A,Z):\n",
    "    pass\n",
    "\n",
    "m=M()\n",
    "print(M.__mro__)\n",
    "#<class '__main__.M'>,\n",
    "#<class '__main__.B'>,\n",
    "#<class '__main__.A'>,\n",
    "#<class '__main__.X'>,\n",
    "#<class '__main__.Y'>,\n",
    "#<class '__main__.Z'>,\n",
    "#<class 'object'>\n"
   ]
  },
  {
   "cell_type": "markdown",
   "metadata": {},
   "source": [
    "## Data Abstraction:\n",
    "- Abstraction is used to hide internal details and show\n",
    "only functionalities.\n",
    "- In Python, Data Abstraction is implemented using\n",
    "Abstract class.\n",
    "- An abstract class can be considered as a blueprint for\n",
    "other classes, allows you to create a set of methods\n",
    "that must be created within any child classes built from\n",
    "your abstract class.\n"
   ]
  },
  {
   "cell_type": "code",
   "execution_count": 8,
   "metadata": {},
   "outputs": [],
   "source": [
    "# Need for Abstract class:\n",
    "class Shape:\n",
    "    def area(self):\n",
    "        pass\n",
    "    def perimeter(self):\n",
    "        pass\n",
    "\n",
    "class Square(Shape):\n",
    "    def __init__(self,s):\n",
    "        self.side=s\n",
    "        \n",
    "sh= Shape()\n",
    "# We require:\n",
    "'''\n",
    "- We don't want to allow other users to create instance\n",
    "of Shape class, since it is a template for Square class.\n",
    "- We want that any class which inherit Shape class must\n",
    "implement area and perimeter methods inside the subclass.\n",
    "- To fulfill the requirement we define Abstract class\n",
    "'''\n",
    "from abc import ABC,abstractmethod\n",
    "class Shape(ABC):\n",
    "    @abstractmethod\n",
    "    def area(self):\n",
    "        pass\n",
    "    \n",
    "    @abstractmethod\n",
    "    def perimeter(self):\n",
    "        pass\n",
    "\n",
    "class Square(Shape):\n",
    "    def __init__(self,s):\n",
    "        self.side=s\n",
    "\n",
    "# sh=Shape() # Error: Can't instantiate Abstract class\n",
    "# sq=Square(10) # Error: Can't instantiate since not implemented area and perimeter\n"
   ]
  },
  {
   "cell_type": "code",
   "execution_count": 9,
   "metadata": {},
   "outputs": [
    {
     "name": "stdout",
     "output_type": "stream",
     "text": [
      "10\n",
      "20\n"
     ]
    }
   ],
   "source": [
    "# Implement abstract methods in derived class\n",
    "from abc import ABC,abstractmethod\n",
    "class Shape(ABC):\n",
    "    @abstractmethod\n",
    "    def area(self):\n",
    "        pass\n",
    "    \n",
    "    @abstractmethod\n",
    "    def perimeter(self):\n",
    "        pass\n",
    "\n",
    "class Square(Shape):\n",
    "    def __init__(self,side):\n",
    "        self.side = side\n",
    "        \n",
    "    def area(self):\n",
    "        return 2*self.side\n",
    "    \n",
    "    def perimeter(self):\n",
    "        return 4*self.side\n",
    "\n",
    "shape_sqr = Square(5)\n",
    "print(shape_sqr.area())\n",
    "print(shape_sqr.perimeter())"
   ]
  },
  {
   "cell_type": "code",
   "execution_count": null,
   "metadata": {},
   "outputs": [],
   "source": []
  }
 ],
 "metadata": {
  "kernelspec": {
   "display_name": "Python 3",
   "language": "python",
   "name": "python3"
  },
  "language_info": {
   "codemirror_mode": {
    "name": "ipython",
    "version": 3
   },
   "file_extension": ".py",
   "mimetype": "text/x-python",
   "name": "python",
   "nbconvert_exporter": "python",
   "pygments_lexer": "ipython3",
   "version": "3.9.20"
  }
 },
 "nbformat": 4,
 "nbformat_minor": 2
}
