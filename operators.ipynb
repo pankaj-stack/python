{
 "cells": [
  {
   "cell_type": "raw",
   "metadata": {},
   "source": [
    "# There are 7 types of operators\n",
    "1.Arithmetic operator\n",
    "2.Assignment operator\n",
    "3.Comparison/Relation operator<----------Single checking\n",
    "4.Logical/Boolean operator<--------------Multiple checking\n",
    "5.Membership operator\n",
    "6.Identity operator\n",
    "7.Bitwise operator"
   ]
  },
  {
   "cell_type": "raw",
   "metadata": {},
   "source": [
    "# 1. Arithmetic operator\n",
    "ex:+,-,*,/,%,//"
   ]
  },
  {
   "cell_type": "raw",
   "metadata": {},
   "source": [
    "#2. Assignment operator\n",
    "Ex:=,+=,-=,*=,/=,//=,%=,**="
   ]
  },
  {
   "cell_type": "raw",
   "metadata": {},
   "source": [
    "#3.Comparison operator or Relation operator\n",
    "Ex:-> >,<,==,>=,<=,!="
   ]
  },
  {
   "cell_type": "raw",
   "metadata": {},
   "source": [
    "#4.Logical/Boolean operator\n",
    "Ex:-> and,or,not(unary operator)"
   ]
  },
  {
   "cell_type": "raw",
   "metadata": {},
   "source": [
    "#5.Membership operator\n",
    "Ex:->in , not in\n",
    "# It works on more than one value <--------------"
   ]
  },
  {
   "cell_type": "raw",
   "metadata": {},
   "source": [
    "#6.Identity operator\n",
    "Ex:-> is , is not\n",
    "#It works on single as well as more than one value"
   ]
  },
  {
   "cell_type": "raw",
   "metadata": {},
   "source": [
    "# Bitwise operator\n",
    "Ex:-> \n",
    "    & (bitwise and operator)\n",
    "    | (bitwise or operator)\n",
    "    ^ (bitwise XOR operator)\n",
    "    ~ (bitwise not operator)\n",
    "# Mostly used at machine level"
   ]
  },
  {
   "cell_type": "code",
   "execution_count": null,
   "metadata": {},
   "outputs": [],
   "source": []
  }
 ],
 "metadata": {
  "kernelspec": {
   "display_name": "Python 3",
   "language": "python",
   "name": "python3"
  },
  "language_info": {
   "codemirror_mode": {
    "name": "ipython",
    "version": 3
   },
   "file_extension": ".py",
   "mimetype": "text/x-python",
   "name": "python",
   "nbconvert_exporter": "python",
   "pygments_lexer": "ipython3",
   "version": "3.7.4"
  }
 },
 "nbformat": 4,
 "nbformat_minor": 2
}
