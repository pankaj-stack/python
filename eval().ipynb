{
 "cells": [
  {
   "cell_type": "markdown",
   "metadata": {},
   "source": [
    "- eval() me jo bhi datatype pass kroge usko usi datatype me return kr deta hai.\n",
    "- eval() me agar hum mathematical expressions bhi usko de to ye solve kr deta hai."
   ]
  },
  {
   "cell_type": "code",
   "execution_count": 15,
   "metadata": {},
   "outputs": [
    {
     "name": "stdout",
     "output_type": "stream",
     "text": [
      "12 : <class 'int'>\n",
      "12.0 : <class 'float'>\n",
      "durga soft : <class 'str'>\n",
      "True : <class 'bool'>\n",
      "False : <class 'bool'>\n",
      "(2+4j) : <class 'complex'>\n",
      "[1, 2, 3, 4, 5] : <class 'list'>\n"
     ]
    }
   ],
   "source": [
    "while True:\n",
    "    user_input = input(\"Input the datatype (or 'q' to quit): \")\n",
    "    \n",
    "    if user_input == 'q':\n",
    "        break\n",
    "    \n",
    "    try:\n",
    "        # Attempt to evaluate the input\n",
    "        auto_type_casting_eval = eval(user_input)\n",
    "        print(f'{auto_type_casting_eval} : {type(auto_type_casting_eval)}')\n",
    "    except (NameError, SyntaxError) as e:\n",
    "        print(f'Error: {e}. Please input a valid Python expression.')\n",
    "    except Exception as e:\n",
    "        print(f'Unexpected error: {e}')\n"
   ]
  },
  {
   "cell_type": "code",
   "execution_count": 14,
   "metadata": {},
   "outputs": [
    {
     "name": "stdout",
     "output_type": "stream",
     "text": [
      "10+20+30-29 : <class 'str'>\n",
      "201 : <class 'int'>\n",
      "49729 : <class 'int'>\n"
     ]
    }
   ],
   "source": [
    "while True:\n",
    "    user_input = input(\"Input the datatype (or 'q' to quit): \")\n",
    "    \n",
    "    if user_input == 'q':\n",
    "        break\n",
    "    \n",
    "    try:\n",
    "        # Attempt to evaluate the input\n",
    "        auto_type_casting_eval = eval(user_input)\n",
    "        print(f'{auto_type_casting_eval} : {type(auto_type_casting_eval)}')\n",
    "    except (NameError, SyntaxError) as e:\n",
    "        print(f'Error: {e}. Please input a valid Python expression.')\n",
    "    except Exception as e:\n",
    "        print(f'Unexpected error: {e}')\n"
   ]
  },
  {
   "cell_type": "code",
   "execution_count": null,
   "metadata": {},
   "outputs": [],
   "source": []
  }
 ],
 "metadata": {
  "kernelspec": {
   "display_name": "Python 3",
   "language": "python",
   "name": "python3"
  },
  "language_info": {
   "codemirror_mode": {
    "name": "ipython",
    "version": 3
   },
   "file_extension": ".py",
   "mimetype": "text/x-python",
   "name": "python",
   "nbconvert_exporter": "python",
   "pygments_lexer": "ipython3",
   "version": "3.8.19"
  }
 },
 "nbformat": 4,
 "nbformat_minor": 2
}
