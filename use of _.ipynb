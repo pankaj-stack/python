{
 "cells": [
  {
   "cell_type": "markdown",
   "metadata": {},
   "source": [
    "# link for reading this topic1"
   ]
  },
  {
   "cell_type": "code",
   "execution_count": 1,
   "metadata": {},
   "outputs": [],
   "source": [
    "# https://www.datacamp.com/community/tutorials/role-underscore-python"
   ]
  },
  {
   "cell_type": "markdown",
   "metadata": {},
   "source": [
    "# 1.Terminal use"
   ]
  },
  {
   "cell_type": "code",
   "execution_count": 2,
   "metadata": {},
   "outputs": [
    {
     "data": {
      "text/plain": [
       "6"
      ]
     },
     "execution_count": 2,
     "metadata": {},
     "output_type": "execute_result"
    }
   ],
   "source": [
    "4+2"
   ]
  },
  {
   "cell_type": "code",
   "execution_count": 3,
   "metadata": {},
   "outputs": [
    {
     "data": {
      "text/plain": [
       "6"
      ]
     },
     "execution_count": 3,
     "metadata": {},
     "output_type": "execute_result"
    }
   ],
   "source": [
    "_ # Underscore stores the previous value in terminal mode"
   ]
  },
  {
   "cell_type": "code",
   "execution_count": 4,
   "metadata": {},
   "outputs": [
    {
     "name": "stdout",
     "output_type": "stream",
     "text": [
      "6 <class 'int'>\n"
     ]
    }
   ],
   "source": [
    "x=_\n",
    "print(x,type(x))"
   ]
  },
  {
   "cell_type": "markdown",
   "metadata": {},
   "source": [
    "# 2.Ignoring the values"
   ]
  },
  {
   "cell_type": "code",
   "execution_count": 5,
   "metadata": {},
   "outputs": [
    {
     "name": "stdout",
     "output_type": "stream",
     "text": [
      "1 3\n",
      "7 1\n"
     ]
    }
   ],
   "source": [
    "## ignoring a value\n",
    "a, _, b = (1, 2, 3) # a = 1, b = 3\n",
    "print(a, b)\n",
    "\n",
    "## ignoring multiple values\n",
    "## *(variable) used to assign multiple value to a variable as list while unpacking\n",
    "## it's called \"Extended Unpacking\", only available in Python 3.x\n",
    "a, *_, b = (7, 6, 5, 4, 3, 2, 1)\n",
    "print(a, b)"
   ]
  },
  {
   "cell_type": "markdown",
   "metadata": {},
   "source": [
    "# 3.for loop"
   ]
  },
  {
   "cell_type": "code",
   "execution_count": 6,
   "metadata": {},
   "outputs": [
    {
     "name": "stdout",
     "output_type": "stream",
     "text": [
      "0\n",
      "1\n",
      "2\n",
      "3\n",
      "4\n"
     ]
    }
   ],
   "source": [
    "# You can use underscore(_) as a variable in looping. See the examples below to get an idea.\n",
    "\n",
    "## lopping ten times using _\n",
    "for _ in range(5):\n",
    "    print(_)"
   ]
  },
  {
   "cell_type": "code",
   "execution_count": 7,
   "metadata": {},
   "outputs": [
    {
     "name": "stdout",
     "output_type": "stream",
     "text": [
      "Python\n",
      "JS\n",
      "PHP\n",
      "Java\n"
     ]
    }
   ],
   "source": [
    "## iterating over a list using _\n",
    "## you can use _ same as a variable\n",
    "languages = [\"Python\", \"JS\", \"PHP\", \"Java\"]\n",
    "for _ in languages:\n",
    "    print(_)"
   ]
  },
  {
   "cell_type": "code",
   "execution_count": 8,
   "metadata": {},
   "outputs": [
    {
     "name": "stdout",
     "output_type": "stream",
     "text": [
      "5 6 7 8 9 "
     ]
    }
   ],
   "source": [
    "_ = 5\n",
    "while _ < 10:\n",
    "    print(_, end = ' ') # default value of 'end' id '\\n' in python. we're changing it to space\n",
    "    _ += 1\n"
   ]
  },
  {
   "cell_type": "markdown",
   "metadata": {},
   "source": [
    "# 4.Separating digits of numbers"
   ]
  },
  {
   "cell_type": "raw",
   "metadata": {},
   "source": [
    "If you have a long digits number, you can separate the group of digits as you like for better understanding.\n",
    "\n",
    "Ex:- million = 1_000_000\n",
    "\n",
    "Next, you can also use underscore(_) to separate the binary, octal or hex parts of numbers.\n",
    "\n",
    "Ex:- binary = 0b_0010, octa = 0o_64, hexa = 0x_23_ab\n",
    "\n",
    "Execute all the above examples to see the results."
   ]
  },
  {
   "cell_type": "code",
   "execution_count": 9,
   "metadata": {},
   "outputs": [
    {
     "name": "stdout",
     "output_type": "stream",
     "text": [
      "1000000\n",
      "2\n",
      "52\n",
      "9131\n"
     ]
    }
   ],
   "source": [
    "## different number systems\n",
    "## you can also check whether they are correct or not by coverting them into integer using \"int\" method\n",
    "million = 1_000_000\n",
    "binary = 0b_0010\n",
    "octa = 0o_64\n",
    "hexa = 0x_23_ab\n",
    "print(million)\n",
    "print(binary)\n",
    "print(octa)\n",
    "print(hexa)"
   ]
  },
  {
   "cell_type": "markdown",
   "metadata": {},
   "source": [
    "# 5. Naming Using Underscore(_)"
   ]
  },
  {
   "cell_type": "raw",
   "metadata": {},
   "source": [
    "Underscore(_) can be used to name variables, functions and classes, etc..,\n",
    "\n",
    "Single Pre Underscore:- _variable\n",
    "Signle Post Underscore:- variable_\n",
    "Double Pre Underscores:- __variable\n",
    "Double Pre and Post Underscores:- __variable__"
   ]
  },
  {
   "cell_type": "markdown",
   "metadata": {},
   "source": [
    "## 5.1. _single_pre_underscore"
   ]
  },
  {
   "cell_type": "code",
   "execution_count": 10,
   "metadata": {},
   "outputs": [
    {
     "name": "stdout",
     "output_type": "stream",
     "text": [
      "datacamp\n",
      "7\n"
     ]
    }
   ],
   "source": [
    "# <!-- _name\n",
    "\n",
    "# Single Pre Underscore is used for internal use. Most of us don't use it because of that reason.\n",
    "\n",
    "# See the following example.\n",
    "#  -->\n",
    "class Test:\n",
    "\n",
    "    def __init__(self):\n",
    "        self.name = \"datacamp\"\n",
    "        self._num = 7\n",
    "\n",
    "obj = Test()\n",
    "print(obj.name)\n",
    "print(obj._num)"
   ]
  },
  {
   "cell_type": "code",
   "execution_count": 11,
   "metadata": {},
   "outputs": [],
   "source": [
    "# single pre underscore doesn't stop you from accessing the single pre underscore variable.\n",
    "\n",
    "# But, single pre underscore effects the names that are imported from the module.\n",
    "\n",
    "# Let's write the following code in the my_funtions file.\n",
    "\n",
    "## filename:- my_functions.py\n",
    "\n",
    "def func():\n",
    "    return \"datacamp\"\n",
    "\n",
    "def _private_func():\n",
    "    return 7\n",
    "# Now, if you import all the methods and names from my_functions.py, Python doesn't import the names which starts with a single pre underscore.\n"
   ]
  },
  {
   "cell_type": "raw",
   "metadata": {},
   "source": [
    ">>> from my_functions import *\n",
    ">>> func()\n",
    "'datacamp'\n",
    ">>> _private_func()\n",
    "Traceback (most recent call last):\n",
    "  File \"<stdin>\", line 1, in <module>\n",
    "NameError: name '_private_func' is not defined\n",
    "You avoid the above error by importing the module normally.\n",
    "\n",
    ">>> import my_functions\n",
    ">>> my_functions.func()\n",
    "'datacamp'\n",
    ">>> my_functions._private_func()\n",
    "7\n",
    "Single Pre Underscore is only meant to use for the internal use.\n"
   ]
  },
  {
   "cell_type": "markdown",
   "metadata": {},
   "source": [
    "## 5.2 single_postunderscore"
   ]
  },
  {
   "cell_type": "code",
   "execution_count": 12,
   "metadata": {},
   "outputs": [],
   "source": [
    "# name_\n",
    "\n",
    "# Sometimes if you want to use Python Keywords as a variable, function or class names, you can use this convention for that.\n",
    "\n",
    "# You can avoid conflicts with the Python Keywords by adding an underscore at the end of the name which you want to use.\n",
    "\n",
    "# Let's see the example.\n",
    "\n",
    "# >>> def function(class):\n",
    "#   File \"<stdin>\", line 1\n",
    "#     def function(class):\n",
    "#                  ^\n",
    "# SyntaxError: invalid syntax\n",
    "# >>> def function(class_):\n",
    "# ...     pass\n",
    "# ...\n",
    "# >>>\n",
    "# Single Post Underscore is used for naming your variables as Python \n",
    "# Keywords and to avoid the clashes by adding an underscore at last of \n",
    "# your variable name."
   ]
  },
  {
   "cell_type": "markdown",
   "metadata": {},
   "source": [
    "## 5.3. Double Pre Underscore"
   ]
  },
  {
   "cell_type": "code",
   "execution_count": 13,
   "metadata": {},
   "outputs": [
    {
     "data": {
      "text/plain": [
       "['_Sample__c',\n",
       " '__class__',\n",
       " '__delattr__',\n",
       " '__dict__',\n",
       " '__dir__',\n",
       " '__doc__',\n",
       " '__eq__',\n",
       " '__format__',\n",
       " '__ge__',\n",
       " '__getattribute__',\n",
       " '__gt__',\n",
       " '__hash__',\n",
       " '__init__',\n",
       " '__init_subclass__',\n",
       " '__le__',\n",
       " '__lt__',\n",
       " '__module__',\n",
       " '__ne__',\n",
       " '__new__',\n",
       " '__reduce__',\n",
       " '__reduce_ex__',\n",
       " '__repr__',\n",
       " '__setattr__',\n",
       " '__sizeof__',\n",
       " '__str__',\n",
       " '__subclasshook__',\n",
       " '__weakref__',\n",
       " '_b',\n",
       " 'a']"
      ]
     },
     "execution_count": 13,
     "metadata": {},
     "output_type": "execute_result"
    }
   ],
   "source": [
    "# __name\n",
    "\n",
    "# Double Pre Underscores are used for the name mangling.\n",
    "\n",
    "# Double Pre Underscores tells the Python interpreter to rewrite the attribute name of subclasses to avoid naming conflicts.\n",
    "\n",
    "# Name Mangling:- interpreter of the Python alters the variable name in a way that it is challenging to clash when the class is inherited.\n",
    "# Let's see an example.\n",
    "\n",
    "class Sample():\n",
    "\n",
    "    def __init__(self):\n",
    "        self.a = 1\n",
    "        self._b = 2\n",
    "        self.__c = 3\n",
    "obj1 = Sample()\n",
    "dir(obj1)\n"
   ]
  },
  {
   "cell_type": "code",
   "execution_count": 14,
   "metadata": {},
   "outputs": [
    {
     "name": "stdout",
     "output_type": "stream",
     "text": [
      "overridden\n",
      "overridden\n"
     ]
    },
    {
     "ename": "AttributeError",
     "evalue": "'SecondClass' object has no attribute '__c'",
     "output_type": "error",
     "traceback": [
      "\u001b[1;31m---------------------------------------------------------------------------\u001b[0m",
      "\u001b[1;31mAttributeError\u001b[0m                            Traceback (most recent call last)",
      "\u001b[1;32m<ipython-input-14-3b5a3397d615>\u001b[0m in \u001b[0;36m<module>\u001b[1;34m\u001b[0m\n\u001b[0;32m     20\u001b[0m \u001b[0mprint\u001b[0m\u001b[1;33m(\u001b[0m\u001b[0mobj2\u001b[0m\u001b[1;33m.\u001b[0m\u001b[0ma\u001b[0m\u001b[1;33m)\u001b[0m\u001b[1;33m\u001b[0m\u001b[1;33m\u001b[0m\u001b[0m\n\u001b[0;32m     21\u001b[0m \u001b[0mprint\u001b[0m\u001b[1;33m(\u001b[0m\u001b[0mobj2\u001b[0m\u001b[1;33m.\u001b[0m\u001b[0m_b\u001b[0m\u001b[1;33m)\u001b[0m\u001b[1;33m\u001b[0m\u001b[1;33m\u001b[0m\u001b[0m\n\u001b[1;32m---> 22\u001b[1;33m \u001b[0mprint\u001b[0m\u001b[1;33m(\u001b[0m\u001b[0mobj2\u001b[0m\u001b[1;33m.\u001b[0m\u001b[0m__c\u001b[0m\u001b[1;33m)\u001b[0m\u001b[1;33m\u001b[0m\u001b[1;33m\u001b[0m\u001b[0m\n\u001b[0m",
      "\u001b[1;31mAttributeError\u001b[0m: 'SecondClass' object has no attribute '__c'"
     ]
    }
   ],
   "source": [
    "# The above code returns all the attributes of the class object. Let's see our variables in the attributes list.\n",
    "\n",
    "# self.a variable appears in the list without any change.\n",
    "\n",
    "# self._b Variable also appears in the list without any change. As we discussed above, it's just for the internal use.\n",
    "\n",
    "# Is there self.__c variable in the list?\n",
    "\n",
    "# If you carefully look at the attributes list, you will find an attribute called _Sample__c. This is the name mangling. It is to avoid the overriding of the variable in subclasses.\n",
    "# Let's create another class by inheriting Sample class to see how overriding works.\n",
    "\n",
    "class SecondClass(Sample):\n",
    "\n",
    "    def __init__(self):\n",
    "        super().__init__()\n",
    "        self.a = \"overridden\"\n",
    "        self._b = \"overridden\"\n",
    "        self.__c = \"overridden\"\n",
    "obj2 = SecondClass()\n",
    "print(obj2.a)\n",
    "print(obj2._b)\n",
    "print(obj2.__c)"
   ]
  },
  {
   "cell_type": "code",
   "execution_count": 15,
   "metadata": {},
   "outputs": [
    {
     "name": "stdout",
     "output_type": "stream",
     "text": [
      "3\n"
     ]
    }
   ],
   "source": [
    "# AttributeError: 'SecondClass' object has no attribute '__c'\n",
    "# Here, the name mangling works again. It changes the obj2.__c to _SecondClass__c. Now, print that element using modified Attribute.\n",
    "\n",
    "# print(obj2._SecondClass__c)\n",
    "# overridden\n",
    "# See, it's worked you can also access the previously created variable using _Sample__c. Let's see\n",
    "\n",
    "print(obj1._Sample__c)\n",
    "# 3\n",
    "# You can access the Double Pre Underscore variables using methods in the class. Let's see an example.\n"
   ]
  },
  {
   "cell_type": "code",
   "execution_count": 16,
   "metadata": {},
   "outputs": [
    {
     "name": "stdout",
     "output_type": "stream",
     "text": [
      "Excellent\n"
     ]
    },
    {
     "ename": "AttributeError",
     "evalue": "'SimpleClass' object has no attribute '__datacamp'",
     "output_type": "error",
     "traceback": [
      "\u001b[1;31m---------------------------------------------------------------------------\u001b[0m",
      "\u001b[1;31mAttributeError\u001b[0m                            Traceback (most recent call last)",
      "\u001b[1;32m<ipython-input-16-893a3e97f7b4>\u001b[0m in \u001b[0;36m<module>\u001b[1;34m\u001b[0m\n\u001b[0;32m      9\u001b[0m \u001b[0mobj\u001b[0m \u001b[1;33m=\u001b[0m \u001b[0mSimpleClass\u001b[0m\u001b[1;33m(\u001b[0m\u001b[1;33m)\u001b[0m\u001b[1;33m\u001b[0m\u001b[1;33m\u001b[0m\u001b[0m\n\u001b[0;32m     10\u001b[0m \u001b[0mprint\u001b[0m\u001b[1;33m(\u001b[0m\u001b[0mobj\u001b[0m\u001b[1;33m.\u001b[0m\u001b[0mget_datacamp\u001b[0m\u001b[1;33m(\u001b[0m\u001b[1;33m)\u001b[0m\u001b[1;33m)\u001b[0m \u001b[1;31m## it prints the \"Excellent\" which is a __var\u001b[0m\u001b[1;33m\u001b[0m\u001b[1;33m\u001b[0m\u001b[0m\n\u001b[1;32m---> 11\u001b[1;33m \u001b[0mprint\u001b[0m\u001b[1;33m(\u001b[0m\u001b[0mobj\u001b[0m\u001b[1;33m.\u001b[0m\u001b[0m__datacamp\u001b[0m\u001b[1;33m)\u001b[0m     \u001b[1;31m## here, we get an error as mentioned before. It changes the name of the variable\u001b[0m\u001b[1;33m\u001b[0m\u001b[1;33m\u001b[0m\u001b[0m\n\u001b[0m",
      "\u001b[1;31mAttributeError\u001b[0m: 'SimpleClass' object has no attribute '__datacamp'"
     ]
    }
   ],
   "source": [
    "class SimpleClass:\n",
    "\n",
    "    def __init__(self):\n",
    "        self.__datacamp = \"Excellent\"\n",
    "\n",
    "    def get_datacamp(self):\n",
    "        return self.__datacamp\n",
    "\n",
    "obj = SimpleClass()\n",
    "print(obj.get_datacamp()) ## it prints the \"Excellent\" which is a __var\n",
    "print(obj.__datacamp)     ## here, we get an error as mentioned before. It changes the name of the variable"
   ]
  },
  {
   "cell_type": "code",
   "execution_count": 17,
   "metadata": {},
   "outputs": [
    {
     "name": "stdout",
     "output_type": "stream",
     "text": [
      "datacamp\n"
     ]
    },
    {
     "ename": "AttributeError",
     "evalue": "'SimpleClass' object has no attribute '__datacamp'",
     "output_type": "error",
     "traceback": [
      "\u001b[1;31m---------------------------------------------------------------------------\u001b[0m",
      "\u001b[1;31mAttributeError\u001b[0m                            Traceback (most recent call last)",
      "\u001b[1;32m<ipython-input-17-4ad58d14f2e3>\u001b[0m in \u001b[0;36m<module>\u001b[1;34m\u001b[0m\n\u001b[0;32m     17\u001b[0m \u001b[0mobj\u001b[0m \u001b[1;33m=\u001b[0m \u001b[0mSimpleClass\u001b[0m\u001b[1;33m(\u001b[0m\u001b[1;33m)\u001b[0m\u001b[1;33m\u001b[0m\u001b[1;33m\u001b[0m\u001b[0m\n\u001b[0;32m     18\u001b[0m \u001b[0mprint\u001b[0m\u001b[1;33m(\u001b[0m\u001b[0mobj\u001b[0m\u001b[1;33m.\u001b[0m\u001b[0mcall_datacamp\u001b[0m\u001b[1;33m(\u001b[0m\u001b[1;33m)\u001b[0m\u001b[1;33m)\u001b[0m \u001b[1;31m## same as above it returns the Dobule pre underscore method\u001b[0m\u001b[1;33m\u001b[0m\u001b[1;33m\u001b[0m\u001b[0m\n\u001b[1;32m---> 19\u001b[1;33m \u001b[0mprint\u001b[0m\u001b[1;33m(\u001b[0m\u001b[0mobj\u001b[0m\u001b[1;33m.\u001b[0m\u001b[0m__datacamp\u001b[0m\u001b[1;33m(\u001b[0m\u001b[1;33m)\u001b[0m\u001b[1;33m)\u001b[0m    \u001b[1;31m## we get an error here\u001b[0m\u001b[1;33m\u001b[0m\u001b[1;33m\u001b[0m\u001b[0m\n\u001b[0m\u001b[0;32m     20\u001b[0m \u001b[1;31m# datacamp\u001b[0m\u001b[1;33m\u001b[0m\u001b[1;33m\u001b[0m\u001b[1;33m\u001b[0m\u001b[0m\n",
      "\u001b[1;31mAttributeError\u001b[0m: 'SimpleClass' object has no attribute '__datacamp'"
     ]
    }
   ],
   "source": [
    "#       9 obj = SimpleClass()\n",
    "#      10 print(obj.get_datacamp()) ## it prints the \"Excellent\" which is a __var\n",
    "# ---> 11 print(obj.__datacamp)     ## here, we get an error as mentioned before. It changes the name of the variable\n",
    "\n",
    "\n",
    "# AttributeError: 'SimpleClass' object has no attribute '__datacamp'\n",
    "# You can also use the Double Pre Underscore for the method names. Let's see an example.\n",
    "\n",
    "class SimpleClass:\n",
    "\n",
    "    def __datacamp(self):\n",
    "        return \"datacamp\"\n",
    "\n",
    "    def call_datacamp(self):\n",
    "        return self.__datacamp()\n",
    "\n",
    "obj = SimpleClass()\n",
    "print(obj.call_datacamp()) ## same as above it returns the Dobule pre underscore method\n",
    "print(obj.__datacamp())    ## we get an error here\n",
    "# datacamp\n"
   ]
  },
  {
   "cell_type": "code",
   "execution_count": 18,
   "metadata": {},
   "outputs": [
    {
     "name": "stdout",
     "output_type": "stream",
     "text": [
      "datacamp\n"
     ]
    }
   ],
   "source": [
    "#       9 obj = SimpleClass()\n",
    "#      10 print(obj.call_datacamp()) ## same as above it returns the Dobule pre underscore method\n",
    "# ---> 11 print(obj.__datacamp())    ## we get an error here\n",
    "\n",
    "\n",
    "# AttributeError: 'SimpleClass' object has no attribute '__datacamp'\n",
    "# Let's look at the name mangling in another way. First, we will create a variable with name _SimpleClass__name, and then we will try to access that variable using Doble Pre Underscore name.\n",
    "\n",
    "# Let's see an example.\n",
    "\n",
    "_SimpleClass__name = \"datacamp\"\n",
    "\n",
    "class SimpleClass:\n",
    "\n",
    "    def return_name(self):\n",
    "        return __name\n",
    "\n",
    "obj = SimpleClass()\n",
    "print(obj.return_name()) ## it prints the __name variable\n",
    "# datacamp\n",
    "# Did you understand the concept? If you didn't, try to reread it.\n"
   ]
  },
  {
   "cell_type": "markdown",
   "metadata": {},
   "source": [
    "## 5.4. Double Pre And Post Underscores"
   ]
  },
  {
   "cell_type": "code",
   "execution_count": 19,
   "metadata": {},
   "outputs": [
    {
     "data": {
      "text/plain": [
       "7"
      ]
     },
     "execution_count": 19,
     "metadata": {},
     "output_type": "execute_result"
    }
   ],
   "source": [
    "# __name__\n",
    "\n",
    "# In Python, you will find different names which start and end with the double underscore. They are called as magic methods or dunder methods.\n",
    "\n",
    "class Sample():\n",
    "\n",
    "    def __init__(self):\n",
    "        self.__num__ = 7\n",
    "\n",
    "obj = Sample()\n",
    "obj.__num__\n",
    "# 7\n",
    "# This will lead to the clashes if you use these methods as your variable \n",
    "#            names. So, it's better to stay away from them.\n",
    "\n",
    "# Conclusion\n",
    "# Congratulations! You did it. You have completed the most boring concept \n",
    "#             in Python. But it helps a lot when you are working with advanced code.\n",
    "\n",
    "# Most of the people like me don't understand this concept on first reading \n",
    "#               itself. So, don't lose patience reread it if you didn't get it on the first time. If you have any doubts regarding the article, don't hesitate to mention in the comment section."
   ]
  },
  {
   "cell_type": "code",
   "execution_count": null,
   "metadata": {},
   "outputs": [],
   "source": []
  }
 ],
 "metadata": {
  "kernelspec": {
   "display_name": "Python 3",
   "language": "python",
   "name": "python3"
  },
  "language_info": {
   "codemirror_mode": {
    "name": "ipython",
    "version": 3
   },
   "file_extension": ".py",
   "mimetype": "text/x-python",
   "name": "python",
   "nbconvert_exporter": "python",
   "pygments_lexer": "ipython3",
   "version": "3.8.3"
  }
 },
 "nbformat": 4,
 "nbformat_minor": 4
}
