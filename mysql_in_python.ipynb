{
 "cells": [
  {
   "cell_type": "raw",
   "metadata": {},
   "source": [
    "char     name char(20)    name='raman' 20 space (fixed length)\n",
    "varchar  name varchar(20) name='raman' 4  space (variable length)\n",
    "int      1234567\n",
    "float    23232.3434\n",
    "datetime 2020-05-10\n",
    "blob     binary large object(you can also store images )\n",
    "lob      large object\n",
    "\n",
    "\n",
    "constraints\n",
    "       primary key\n",
    "            primary key can't be duplicate,can't be null,It is used as a parentk key\n",
    "            that use in other table as a feference.\n",
    "       foreign key\n",
    "            parent table-primary key are in second table create as forein\n",
    "            it may be null,more than one value is possible and it  may be more than in \n",
    "            one table.\n",
    "        unique\n",
    "            no duplicate but nu is possible and it  may be more tha in one table.\n",
    "        default\n",
    "            for a default value\n",
    "        null\n",
    "        null is n ot blank its a special kind of value.\n",
    "\n",
    "References\n",
    "  in\n",
    "    (1,2,3,4)\n",
    "  and\n",
    "  or \n",
    "  not\n",
    "1.No duplicate name of table.\n",
    "2.Table name must start with alphabates\n",
    "3.Filed aname must start with space.\n",
    "4.Field name only contain alpha,number and _\n",
    "\n",
    "\n",
    "# CREATING THE TABLE\n",
    "create table nameoftable(\n",
    "fieldname1 datatype constraints,\n",
    "fieldname2 datatype constraints,\n",
    "fieldname3 datatype constraints);\n",
    "    \n",
    "#INSERTIN THE VALUE\n",
    "insert into table_name values(int,'char','varchar','datetime',float);"
   ]
  },
  {
   "cell_type": "code",
   "execution_count": null,
   "metadata": {},
   "outputs": [],
   "source": []
  }
 ],
 "metadata": {
  "kernelspec": {
   "display_name": "Python 3",
   "language": "python",
   "name": "python3"
  },
  "language_info": {
   "codemirror_mode": {
    "name": "ipython",
    "version": 3
   },
   "file_extension": ".py",
   "mimetype": "text/x-python",
   "name": "python",
   "nbconvert_exporter": "python",
   "pygments_lexer": "ipython3",
   "version": "3.7.4"
  }
 },
 "nbformat": 4,
 "nbformat_minor": 2
}
