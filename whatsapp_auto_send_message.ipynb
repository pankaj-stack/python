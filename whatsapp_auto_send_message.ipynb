{
 "cells": [
  {
   "cell_type": "code",
   "execution_count": null,
   "metadata": {},
   "outputs": [
    {
     "name": "stdout",
     "output_type": "stream",
     "text": [
      "OpenCV bindings requires \"numpy\" package.\n",
      "Install it via command:\n",
      "    pip install numpy\n"
     ]
    }
   ],
   "source": [
    "import pyautogui\n",
    "import time \n",
    "time.sleep(3)\n",
    "count = 1\n",
    "while count<100000:\n",
    "    pyautogui.typewrite(f\"{count} CHUTIYA HAI KYA ...\")\n",
    "    pyautogui.press(\"enter\")\n",
    "#     time.sleep(1)\n",
    "    count += 1\n",
    "    \n",
    "\n"
   ]
  },
  {
   "cell_type": "code",
   "execution_count": null,
   "metadata": {},
   "outputs": [],
   "source": [
    "kyun maja aa rha hai na 432...\n",
    "kyun maja aa rha hai na 433...\n",
    "kyun maja aa rha hai na 434...\n",
    "kyun maja aa rha hai na 435...\n",
    "kyun maja aa rha hai na 436...\n",
    "kyun maja aa rha hai na 437...\n",
    "kyun maja aa rha hai na 438...\n",
    "kyun maja aa rha hai na 439...\n",
    "kyun maja aa rha hai na 440...\n",
    "kyun maja aa rha hai na 441...\n",
    "kyun maja aa rha hai na 442...\n",
    "kyun maja aa rha hai na 443...\n",
    "kyun maja aa rha hai na 444...\n",
    "kyun maja aa rha hai na 445...\n",
    "kyun maja aa rha hai na 446...\n",
    "kyun maja aa rha hai na 447...\n",
    "kyun maja aa rha hai na 448...\n",
    "kyun maja aa rha hai na 449...\n",
    "kyun maja aa rha hai na 450...\n",
    "kyun maja aa rha hai na 451...\n",
    "kyun maja aa rha hai na 452...\n",
    "kyun maja aa rha hai na 453...\n",
    "kyun maja aa rha hai na 454...\n",
    "kyun maja aa rha hai na 455...\n",
    "kyun maja aa rha hai na 456...\n",
    "kyun maja aa rha hai na 457...\n",
    "kyun maja aa rha hai na 458...\n",
    "kyun maja aa rha hai na 459...\n",
    "kyun maja aa rha hai na 460...\n",
    "kyun maja aa rha hai na 461...\n",
    "kyun maja aa rha hai na 462...\n",
    "kyun maja aa rha hai na 463...\n",
    "kyun maja aa rha hai na 464...\n",
    "kyun maja aa rha hai na 465...\n",
    "kyun maja aa rha hai na 466...\n",
    "kyun maja aa rha hai na 467...\n",
    "kyun maja aa rha hai na 468...\n",
    "kyun maja aa rha hai na 537...\n",
    "kyun maja aa rha hai na 538...\n",
    "kyun maja aa rha hai na 539...\n",
    "kyun maja aa rha hai na 540...\n",
    "kyun maja aa rha hai na 541...\n",
    "kyun maja aa rha hai na 542...\n",
    "kyun maja aa rha hai na 543...\n",
    "kyun maja aa rha hai na 544...\n",
    "kyun maja aa rha hai na 545...\n",
    "kyun maja aa rha hai na 546...\n",
    "kyun maja aa rha hai na 469...\n",
    "kyun maja aa rha hai na 470...\n",
    "kyun maja aa rha hai na 471...\n",
    "kyun maja aa rha hai na 472...\n",
    "kyun maja aa rha hai na 473...\n",
    "kyun maja aa rha hai na 474...\n",
    "kyun maja aa rha hai na 475...\n",
    "kyun maja aa rha hai na 476...\n",
    "kyun maja aa rha hai na 477...\n",
    "kyun maja aa rha hai na 478...\n",
    "kyun maja aa rha hai na 479..."
   ]
  }
 ],
 "metadata": {
  "kernelspec": {
   "display_name": "Python 3 (ipykernel)",
   "language": "python",
   "name": "python3"
  },
  "language_info": {
   "codemirror_mode": {
    "name": "ipython",
    "version": 3
   },
   "file_extension": ".py",
   "mimetype": "text/x-python",
   "name": "python",
   "nbconvert_exporter": "python",
   "pygments_lexer": "ipython3",
   "version": "3.9.13"
  }
 },
 "nbformat": 4,
 "nbformat_minor": 2
}
