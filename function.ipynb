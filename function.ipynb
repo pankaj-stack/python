{
 "cells": [
  {
   "cell_type": "code",
   "execution_count": 10,
   "metadata": {},
   "outputs": [
    {
     "name": "stdout",
     "output_type": "stream",
     "text": [
      "1 3 5 7 9 "
     ]
    }
   ],
   "source": [
    "# l = [1,2,3,4,5,]  \n",
    "count = 0\n",
    "for i in range(1,10,2):\n",
    "    print(i,end=' ') \n",
    "git clone https://github.com/pankaj-stack/python.git\n"
   ]
  },
  {
   "cell_type": "code",
   "execution_count": 6,
   "metadata": {},
   "outputs": [
    {
     "name": "stdout",
     "output_type": "stream",
     "text": [
      "20\n",
      "10\n"
     ]
    }
   ],
   "source": [
    "def f():\n",
    "    x=20\n",
    "    return x\n",
    "print(f())\n",
    "x=10\n",
    "print(x)"
   ]
  },
  {
   "cell_type": "code",
   "execution_count": 5,
   "metadata": {
    "ExecuteTime": {
     "end_time": "2024-02-02T15:00:56.243818Z",
     "start_time": "2024-02-02T15:00:56.237377Z"
    }
   },
   "outputs": [
    {
     "name": "stdout",
     "output_type": "stream",
     "text": [
      "(2, ('krishna', 'radhe', 'shyam'))\n",
      "2\n",
      "('krishna', 'radhe', 'shyam')\n"
     ]
    }
   ],
   "source": [
    "def args(*args):#*args takes tuple,and it is called <variable length arguments\n",
    "    print(args)\n",
    "    for i in args:\n",
    "        print(i)\n",
    "tup=('krishna','radhe','shyam')\n",
    "args(2,tup)"
   ]
  },
  {
   "cell_type": "code",
   "execution_count": 20,
   "metadata": {},
   "outputs": [
    {
     "name": "stdout",
     "output_type": "stream",
     "text": [
      "2\n",
      "3\n",
      "4\n",
      "5\n",
      "<class 'list'>\n"
     ]
    }
   ],
   "source": [
    "s,*var=1,2,3,4,5\n",
    "for i in var:print(i)\n",
    "print(type(var))"
   ]
  },
  {
   "cell_type": "code",
   "execution_count": 29,
   "metadata": {},
   "outputs": [
    {
     "name": "stdout",
     "output_type": "stream",
     "text": [
      "first == Geeks\n",
      "mid == for\n",
      "last == Geeks\n"
     ]
    }
   ],
   "source": [
    "def myFun(**kwargs):  \n",
    "    for key, value in kwargs.items(): \n",
    "        print (\"%s == %s\"%(key, value)) <-----------------------\"%s == %s\"\n",
    "  \n",
    "# Driver code\n",
    "myFun(first ='Geeks', mid ='for', last='Geeks')     "
   ]
  },
  {
   "cell_type": "code",
   "execution_count": 12,
   "metadata": {},
   "outputs": [
    {
     "name": "stdout",
     "output_type": "stream",
     "text": [
      "args : (1, 2) ,type : <class 'tuple'>\n",
      "kwargs : {'a': 10, 'b': 20} ,type : <class 'dict'>\n"
     ]
    }
   ],
   "source": [
    "def f(*args, **kwargs): # valid \n",
    "    \n",
    "    print(f'args : {args} ,type : {type(args)}')\n",
    "    print(f'kwargs : {kwargs} ,type : {type(kwargs)}')\n",
    "    \n",
    "f(1,2,a=10,b=20)"
   ]
  },
  {
   "cell_type": "code",
   "execution_count": 27,
   "metadata": {},
   "outputs": [
    {
     "data": {
      "text/plain": [
       "125"
      ]
     },
     "execution_count": 27,
     "metadata": {},
     "output_type": "execute_result"
    }
   ],
   "source": [
    "#Anonymous fun^n(function without name i.e called anonymous function(lambda function))\n",
    "cube=lambda x:x**3\n",
    "cube(5)"
   ]
  },
  {
   "cell_type": "code",
   "execution_count": 36,
   "metadata": {},
   "outputs": [
    {
     "name": "stdout",
     "output_type": "stream",
     "text": [
      "hello\n"
     ]
    }
   ],
   "source": [
    "function=lambda :print('hello')\n",
    "function()"
   ]
  },
  {
   "cell_type": "code",
   "execution_count": 29,
   "metadata": {},
   "outputs": [
    {
     "data": {
      "text/plain": [
       "8"
      ]
     },
     "execution_count": 29,
     "metadata": {},
     "output_type": "execute_result"
    }
   ],
   "source": [
    "def function():\n",
    "    z=8\n",
    "    return  z\n",
    "function()"
   ]
  },
  {
   "cell_type": "code",
   "execution_count": 34,
   "metadata": {},
   "outputs": [
    {
     "data": {
      "text/plain": [
       "(5, 5)"
      ]
     },
     "execution_count": 34,
     "metadata": {},
     "output_type": "execute_result"
    }
   ],
   "source": [
    "def fun():\n",
    "    z=5\n",
    "    return z,z\n",
    "    print('hello')#This won't print because function get terminated by return statement\n",
    "fun()"
   ]
  },
  {
   "cell_type": "code",
   "execution_count": 39,
   "metadata": {},
   "outputs": [
    {
     "data": {
      "text/plain": [
       "tuple"
      ]
     },
     "execution_count": 39,
     "metadata": {},
     "output_type": "execute_result"
    }
   ],
   "source": [
    "def fun():\n",
    "    z=5\n",
    "    return z,z\n",
    "    print('hello')#This won't print because function get terminated by return statement\n",
    "type(fun())<--------------------------------------------"
   ]
  },
  {
   "cell_type": "code",
   "execution_count": 2,
   "metadata": {},
   "outputs": [],
   "source": [
    "def f():\n",
    "    def f():\n",
    "        print('f()')\n",
    "f()"
   ]
  },
  {
   "cell_type": "code",
   "execution_count": 40,
   "metadata": {},
   "outputs": [
    {
     "name": "stdout",
     "output_type": "stream",
     "text": [
      "f()\n"
     ]
    }
   ],
   "source": [
    "def f():\n",
    "    def f():\n",
    "        print('f()')\n",
    "    f()\n",
    "f()"
   ]
  },
  {
   "cell_type": "code",
   "execution_count": 6,
   "metadata": {},
   "outputs": [
    {
     "name": "stdout",
     "output_type": "stream",
     "text": [
      "1\n",
      "2\n",
      "3\n",
      "4\n"
     ]
    }
   ],
   "source": [
    "# If the number of arguments is unknown, add a * before the parameter name<----------\n",
    "def my_function(*kids):\n",
    "      for i in kids:\n",
    "            print(i)\n",
    "my_function(1,2,3,4)\n"
   ]
  },
  {
   "cell_type": "code",
   "execution_count": 14,
   "metadata": {},
   "outputs": [],
   "source": [
    "def f(arg1,arg2,arg3=4,arg4=5):\n",
    "    print(arg1,arg2,arg3,arg4)\n",
    "    \n",
    "# f(2,3,arg2=5) # invalid : TypeError: f() got multiple values for argument 'arg2'"
   ]
  },
  {
   "cell_type": "code",
   "execution_count": null,
   "metadata": {},
   "outputs": [],
   "source": []
  },
  {
   "cell_type": "code",
   "execution_count": 13,
   "metadata": {},
   "outputs": [
    {
     "name": "stdout",
     "output_type": "stream",
     "text": [
      "Enter a no : 5\n"
     ]
    },
    {
     "data": {
      "text/plain": [
       "120"
      ]
     },
     "execution_count": 13,
     "metadata": {},
     "output_type": "execute_result"
    }
   ],
   "source": [
    "# Factorial\n",
    "def factoraial(n):\n",
    "    if n>=0:\n",
    "        if n==0 or n==1:\n",
    "            return 1\n",
    "        else:\n",
    "            return n*factoraial(n-1)\n",
    "    else:\n",
    "        print('Input greater than 0')\n",
    "factoraial(int(input('Enter a no : ')))"
   ]
  },
  {
   "cell_type": "code",
   "execution_count": 19,
   "metadata": {},
   "outputs": [
    {
     "name": "stdout",
     "output_type": "stream",
     "text": [
      "Enter a no : 3\n"
     ]
    },
    {
     "data": {
      "text/plain": [
       "6"
      ]
     },
     "execution_count": 19,
     "metadata": {},
     "output_type": "execute_result"
    }
   ],
   "source": [
    "# Factorial\n",
    "def factoraial(n):\n",
    "    multiply=1\n",
    "    if n>=0:\n",
    "        if n==0 or n==1:\n",
    "            return 1\n",
    "        else:\n",
    "            for i in range(n):\n",
    "                multiply=multiply*n\n",
    "                n-=1\n",
    "            return multiply\n",
    "    else:\n",
    "        print('Input greater than 0')\n",
    "factoraial(int(input('Enter a no : ')))"
   ]
  },
  {
   "cell_type": "code",
   "execution_count": 36,
   "metadata": {},
   "outputs": [
    {
     "name": "stdout",
     "output_type": "stream",
     "text": [
      "Enter the year : 2024\n",
      "True\n"
     ]
    }
   ],
   "source": [
    "# leap year\n",
    "def is_leap(year):\n",
    "    leap = False\n",
    "    if year%4==0:\n",
    "        if year%100==0:\n",
    "            if year%400==0:\n",
    "                leap=True\n",
    "                return leap\n",
    "            else:\n",
    "                return leap\n",
    "        else:\n",
    "            leap=True\n",
    "            return leap\n",
    "    else:\n",
    "        return leap\n",
    "year = int(input('Enter the year : '))\n",
    "print(is_leap(year))"
   ]
  },
  {
   "cell_type": "code",
   "execution_count": 25,
   "metadata": {},
   "outputs": [
    {
     "data": {
      "text/plain": [
       "4.98"
      ]
     },
     "execution_count": 25,
     "metadata": {},
     "output_type": "execute_result"
    }
   ],
   "source": [
    "1992/400"
   ]
  },
  {
   "cell_type": "markdown",
   "metadata": {},
   "source": [
    "## 24th,February 2020"
   ]
  },
  {
   "cell_type": "markdown",
   "metadata": {},
   "source": [
    "## Function"
   ]
  },
  {
   "cell_type": "code",
   "execution_count": 7,
   "metadata": {},
   "outputs": [],
   "source": [
    "# 1.Reusuability\n",
    "# 2.to use your set of instruction in another program/project"
   ]
  },
  {
   "cell_type": "code",
   "execution_count": 1,
   "metadata": {},
   "outputs": [],
   "source": [
    "# It is named block code and non-self executable code(defintion of function)\n",
    "# def is a keyword\n",
    "# Return type of function is the type of value it return\n",
    "# By default function returns None\n",
    "#Return statement is optional,if any then that will be single return statement\n",
    "    # in a function"
   ]
  },
  {
   "cell_type": "markdown",
   "metadata": {},
   "source": [
    "## Docstring"
   ]
  },
  {
   "cell_type": "code",
   "execution_count": 2,
   "metadata": {},
   "outputs": [
    {
     "name": "stdout",
     "output_type": "stream",
     "text": [
      "print(value, ..., sep=' ', end='\\n', file=sys.stdout, flush=False)\n",
      "\n",
      "Prints the values to a stream, or to sys.stdout by default.\n",
      "Optional keyword arguments:\n",
      "file:  a file-like object (stream); defaults to the current sys.stdout.\n",
      "sep:   string inserted between values, default a space.\n",
      "end:   string appended after the last value, default a newline.\n",
      "flush: whether to forcibly flush the stream.\n"
     ]
    }
   ],
   "source": [
    "print(print.__doc__)#To see the docstring"
   ]
  },
  {
   "cell_type": "code",
   "execution_count": 6,
   "metadata": {},
   "outputs": [
    {
     "name": "stdout",
     "output_type": "stream",
     "text": [
      "Built-in mutable sequence.\n",
      "\n",
      "If no argument is given, the constructor creates a new empty list.\n",
      "The argument must be an iterable if specified.\n"
     ]
    }
   ],
   "source": [
    "print(list.__doc__)"
   ]
  },
  {
   "cell_type": "code",
   "execution_count": 7,
   "metadata": {},
   "outputs": [
    {
     "name": "stdout",
     "output_type": "stream",
     "text": [
      "zip(iter1 [,iter2 [...]]) --> zip object\n",
      "\n",
      "Return a zip object whose .__next__() method returns a tuple where\n",
      "the i-th element comes from the i-th iterable argument.  The .__next__()\n",
      "method continues until the shortest iterable in the argument sequence\n",
      "is exhausted and then it raises StopIteration.\n"
     ]
    }
   ],
   "source": [
    "print(zip.__doc__)"
   ]
  },
  {
   "cell_type": "code",
   "execution_count": 1,
   "metadata": {},
   "outputs": [
    {
     "name": "stdout",
     "output_type": "stream",
     "text": [
      "Hello Everyone\n"
     ]
    }
   ],
   "source": [
    "# Function without parameter\n",
    "def greeting():\n",
    "    'This function greets everyone'\n",
    "    print('Hello Everyone')\n",
    "greeting()"
   ]
  },
  {
   "cell_type": "code",
   "execution_count": 5,
   "metadata": {},
   "outputs": [
    {
     "name": "stdout",
     "output_type": "stream",
     "text": [
      "<function greeting at 0x7f7a8ca75170> <function greeting at 0x7f7a8ca75170>\n",
      "Hello Everyone\n",
      "Hello Everyone\n"
     ]
    }
   ],
   "source": [
    "g=greeting\n",
    "print(g,greeting)#It means both are same\n",
    "g()\n",
    "'''or'''\n",
    "greeting()"
   ]
  },
  {
   "cell_type": "code",
   "execution_count": 9,
   "metadata": {},
   "outputs": [
    {
     "name": "stdout",
     "output_type": "stream",
     "text": [
      "This function greets everyone\n"
     ]
    }
   ],
   "source": [
    "print(greeting.__doc__)"
   ]
  },
  {
   "cell_type": "code",
   "execution_count": 10,
   "metadata": {},
   "outputs": [
    {
     "name": "stdout",
     "output_type": "stream",
     "text": [
      "Hello Everyone\n"
     ]
    }
   ],
   "source": [
    "# Function without parameter\n",
    "def greeting():\n",
    "    ''' this fuction\n",
    "    greets everybody'''\n",
    "    print('Hello Everyone')\n",
    "greeting()"
   ]
  },
  {
   "cell_type": "code",
   "execution_count": 11,
   "metadata": {},
   "outputs": [
    {
     "name": "stdout",
     "output_type": "stream",
     "text": [
      " this fuction\n",
      "    greets everybody\n"
     ]
    }
   ],
   "source": [
    "print(greeting.__doc__)"
   ]
  },
  {
   "cell_type": "code",
   "execution_count": 13,
   "metadata": {},
   "outputs": [
    {
     "name": "stdout",
     "output_type": "stream",
     "text": [
      "0\n",
      "1\n",
      "2\n",
      "3\n",
      "4\n",
      "Hello Everyone\n"
     ]
    }
   ],
   "source": [
    "for i in range(5):\n",
    "    print(i)\n",
    "greeting()#Whenever you need can call it anywhere"
   ]
  },
  {
   "cell_type": "markdown",
   "metadata": {},
   "source": [
    "## Creating function with parameter"
   ]
  },
  {
   "cell_type": "code",
   "execution_count": 26,
   "metadata": {},
   "outputs": [
    {
     "name": "stdout",
     "output_type": "stream",
     "text": [
      "Enter name : Pankaj\n",
      "Hello Pankaj\n"
     ]
    }
   ],
   "source": [
    "name=input('Enter name : ')\n",
    "def greeting(n):\n",
    "    print('Hello',n)\n",
    "greeting(name)"
   ]
  },
  {
   "cell_type": "code",
   "execution_count": 27,
   "metadata": {},
   "outputs": [
    {
     "name": "stdout",
     "output_type": "stream",
     "text": [
      "Hello Pankaj\n",
      "Enter name : pankaj\n"
     ]
    }
   ],
   "source": [
    "def greeting(n):#here n is parameter\n",
    "    print('Hello',n)\n",
    "greeting(name)#here name is argument\n",
    "name=input('Enter name : ')"
   ]
  },
  {
   "cell_type": "code",
   "execution_count": 28,
   "metadata": {},
   "outputs": [
    {
     "name": "stdout",
     "output_type": "stream",
     "text": [
      "Hello Atul\n"
     ]
    }
   ],
   "source": [
    "greeting('Atul')"
   ]
  },
  {
   "cell_type": "code",
   "execution_count": 30,
   "metadata": {},
   "outputs": [
    {
     "name": "stdout",
     "output_type": "stream",
     "text": [
      "Enter a no. : 4\n",
      "Even\n"
     ]
    }
   ],
   "source": [
    "#Program to check even and odd\n",
    "def even_odd(n):\n",
    "    print('Even') if n%2==0 else print('Odd')\n",
    "even_odd(int(input('Enter a no. : ')))"
   ]
  },
  {
   "cell_type": "markdown",
   "metadata": {},
   "source": [
    "## Need for return statement"
   ]
  },
  {
   "cell_type": "code",
   "execution_count": 33,
   "metadata": {},
   "outputs": [],
   "source": [
    "# Scope of variable"
   ]
  },
  {
   "cell_type": "code",
   "execution_count": 35,
   "metadata": {},
   "outputs": [
    {
     "name": "stdout",
     "output_type": "stream",
     "text": [
      "Enter the no. : 5\n",
      "Odd\n"
     ]
    }
   ],
   "source": [
    "# Creating global variable inside local variable\n",
    "def even_odd(x):\n",
    "    global res# global variable\n",
    "    if x%2==0:\n",
    "        res='Even'\n",
    "    else:\n",
    "        res='Odd'\n",
    "even_odd(int(input('Enter the no. : ')))\n",
    "print(res)"
   ]
  },
  {
   "cell_type": "markdown",
   "metadata": {},
   "source": [
    "## Variable preference:"
   ]
  },
  {
   "cell_type": "code",
   "execution_count": 14,
   "metadata": {},
   "outputs": [
    {
     "name": "stdout",
     "output_type": "stream",
     "text": [
      "5 1st time outside\n",
      "5 1st time inside\n",
      "17\n",
      "5 2nd time outside\n"
     ]
    }
   ],
   "source": [
    "def myfunc(a,b):\n",
    "    print(a,'1st time inside')\n",
    "    s=a+b\n",
    "    print(s)\n",
    "a=5\n",
    "b=12\n",
    "print(a,'1st time outside')\n",
    "myfunc(a,b)\n",
    "print(a,'2nd time outside')\n"
   ]
  },
  {
   "cell_type": "code",
   "execution_count": 15,
   "metadata": {},
   "outputs": [
    {
     "name": "stdout",
     "output_type": "stream",
     "text": [
      "5 1st time outside\n",
      "50 1st time iside\n",
      "62\n",
      "5 2nd time outside\n"
     ]
    }
   ],
   "source": [
    "def myfunc(a,b):\n",
    "    a=50\n",
    "    print(a,'1st time iside')#Iside function,local variable will be given preference 1st\n",
    "    s=a+b\n",
    "    print(s)\n",
    "a=5\n",
    "b=12\n",
    "print(a,'1st time outside')\n",
    "myfunc(a,b)\n",
    "print(a,'2nd time outside')#outside function gloabal variable will be given preference 1st\n"
   ]
  },
  {
   "cell_type": "code",
   "execution_count": 22,
   "metadata": {},
   "outputs": [
    {
     "name": "stdout",
     "output_type": "stream",
     "text": [
      "Enter the no. : 44\n",
      "even\n",
      "None\n"
     ]
    }
   ],
   "source": [
    "def even_odd(x):\n",
    "    global res# global variable\n",
    "    if x%2==0:\n",
    "        print('even')\n",
    "    else:\n",
    "        print('odd')\n",
    "x=even_odd(int(input('Enter the no. : ')))\n",
    "print(x)#bydefault function returns None"
   ]
  },
  {
   "cell_type": "code",
   "execution_count": 18,
   "metadata": {},
   "outputs": [
    {
     "name": "stdout",
     "output_type": "stream",
     "text": [
      "Enter the no. : 5\n",
      "False\n"
     ]
    }
   ],
   "source": [
    "def even_odd(x):\n",
    "    return x%2==0\n",
    "x=even_odd(int(input('Enter the no. : ')))\n",
    "print(x)#bydefault function return None"
   ]
  },
  {
   "cell_type": "code",
   "execution_count": 20,
   "metadata": {},
   "outputs": [
    {
     "name": "stdout",
     "output_type": "stream",
     "text": [
      "Enter the no. : 8\n",
      "even\n",
      "10\n"
     ]
    }
   ],
   "source": [
    "def even_odd(x):\n",
    "    global res# global variable\n",
    "    if x%2==0:\n",
    "        print('even')\n",
    "    else:\n",
    "        print('odd')\n",
    "n=int(input('Enter the no. : '))\n",
    "x=even_odd(n)\n",
    "if x=='odd':\n",
    "    print(n+1)\n",
    "else:\n",
    "    print(n+2)"
   ]
  },
  {
   "cell_type": "code",
   "execution_count": 3,
   "metadata": {},
   "outputs": [
    {
     "ename": "SyntaxError",
     "evalue": "name 'a' is used prior to global declaration (4173694303.py, line 5)",
     "output_type": "error",
     "traceback": [
      "\u001b[0;36m  Cell \u001b[0;32mIn[3], line 5\u001b[0;36m\u001b[0m\n\u001b[0;31m    global a\u001b[0m\n\u001b[0m    ^\u001b[0m\n\u001b[0;31mSyntaxError\u001b[0m\u001b[0;31m:\u001b[0m name 'a' is used prior to global declaration\n"
     ]
    }
   ],
   "source": [
    "a = 777 \n",
    "\n",
    "def fun():\n",
    "    print(a) # hum global keyworkd ke pehle nhi use kr sakte hain, agar esa krte hain to error through krega : SyntaxError: name 'a' is used prior to global declaration\n",
    "    global a \n",
    "    a = 999 \n",
    "    print(a) \n",
    "    \n",
    "fun()"
   ]
  },
  {
   "cell_type": "code",
   "execution_count": 4,
   "metadata": {},
   "outputs": [
    {
     "name": "stdout",
     "output_type": "stream",
     "text": [
      "777\n",
      "999\n"
     ]
    }
   ],
   "source": [
    "a = 777 \n",
    "\n",
    "def fun():\n",
    "    global a \n",
    "    print(a) # <-------------------------- 777\n",
    "    \n",
    "    a = 999 \n",
    "    print(a) # 999\n",
    "    \n",
    "fun()"
   ]
  },
  {
   "cell_type": "code",
   "execution_count": 8,
   "metadata": {},
   "outputs": [
    {
     "name": "stdout",
     "output_type": "stream",
     "text": [
      "999\n",
      "In : ['', 'a = 777 \\n\\ndef fun():\\n    print(a) \\n    global a \\n    a = 999 \\n    print(a) \\n    \\nfun()', \"a = 777 \\n\\ndef fun():\\n    # print(a) # hum global keyworkd ke pehle nhi use kr sakte hain, agar esa krte hain to error through krega : SyntaxError: name 'a' is used prior to global declaration\\n    global a \\n    a = 999 \\n    print(a) \\n    \\nfun()\", \"a = 777 \\n\\ndef fun():\\n    print(a) # hum global keyworkd ke pehle nhi use kr sakte hain, agar esa krte hain to error through krega : SyntaxError: name 'a' is used prior to global declaration\\n    global a \\n    a = 999 \\n    print(a) \\n    \\nfun()\", 'a = 777 \\n\\ndef fun():\\n    global a \\n    print(a) # <-------------------------- 777\\n    \\n    a = 999 \\n    print(a) # 999\\n    \\nfun()', 'a = 888 \\n\\ndef fun():\\n    a = 999 \\n    print(a) # 999 \\n    \\nfun()', \"a = 888 \\n\\ndef fun():\\n    a = 999 \\n    print(a) # 999 ,but if I want to access the value of global variable i.e 888\\n    d = globals() # globals() returns a dictionary of all global variables \\n    print(f'd : {d}')\\n    print(f'a : {d.get('a','Provided key is not present...')}') # 888\\n    \\nfun()\", 'a = 888 \\n\\ndef fun():\\n    a = 999 \\n    print(a) # 999 ,but if I want to access the value of global variable i.e 888\\n    d = globals() # globals() returns a dictionary of all global variables \\n    print(f\\'d : {d}\\')\\n    print(f\"a : {d.get(\\'a\\',\\'Provided key is not present...\\')}\") # 888\\n    \\nfun()', 'a = 888 \\n\\ndef fun():\\n    a = 999 \\n    print(a) # 999 ,but if I want to access the value of global variable i.e 888\\n    d = globals() # globals() returns a dictionary of all global variables \\n    for key,val in sorted(d.items()):\\n        print(f\\'{key} : {val} , \\')\\n    print(f\"a : {d.get(\\'a\\',\\'Provided key is not present...\\')}\") # 888\\n    \\nfun()'] , \n",
      "Out : {} , \n",
      "_ :  , \n",
      "__ :  , \n",
      "___ :  , \n",
      "__builtin__ : <module 'builtins' (built-in)> , \n",
      "__builtins__ : <module 'builtins' (built-in)> , \n",
      "__doc__ : Automatically created module for IPython interactive environment , \n",
      "__loader__ : None , \n",
      "__name__ : __main__ , \n",
      "__package__ : None , \n",
      "__spec__ : None , \n",
      "__vsc_ipynb_file__ : /home/echelon/python_notes/python/function.ipynb , \n",
      "_dh : [PosixPath('/home/echelon/python_notes/python')] , \n",
      "_i : a = 888 \n",
      "\n",
      "def fun():\n",
      "    a = 999 \n",
      "    print(a) # 999 ,but if I want to access the value of global variable i.e 888\n",
      "    d = globals() # globals() returns a dictionary of all global variables \n",
      "    print(f'd : {d}')\n",
      "    print(f\"a : {d.get('a','Provided key is not present...')}\") # 888\n",
      "    \n",
      "fun() , \n",
      "_i1 : a = 777 \n",
      "\n",
      "def fun():\n",
      "    print(a) \n",
      "    global a \n",
      "    a = 999 \n",
      "    print(a) \n",
      "    \n",
      "fun() , \n",
      "_i2 : a = 777 \n",
      "\n",
      "def fun():\n",
      "    # print(a) # hum global keyworkd ke pehle nhi use kr sakte hain, agar esa krte hain to error through krega : SyntaxError: name 'a' is used prior to global declaration\n",
      "    global a \n",
      "    a = 999 \n",
      "    print(a) \n",
      "    \n",
      "fun() , \n",
      "_i3 : a = 777 \n",
      "\n",
      "def fun():\n",
      "    print(a) # hum global keyworkd ke pehle nhi use kr sakte hain, agar esa krte hain to error through krega : SyntaxError: name 'a' is used prior to global declaration\n",
      "    global a \n",
      "    a = 999 \n",
      "    print(a) \n",
      "    \n",
      "fun() , \n",
      "_i4 : a = 777 \n",
      "\n",
      "def fun():\n",
      "    global a \n",
      "    print(a) # <-------------------------- 777\n",
      "    \n",
      "    a = 999 \n",
      "    print(a) # 999\n",
      "    \n",
      "fun() , \n",
      "_i5 : a = 888 \n",
      "\n",
      "def fun():\n",
      "    a = 999 \n",
      "    print(a) # 999 \n",
      "    \n",
      "fun() , \n",
      "_i6 : a = 888 \n",
      "\n",
      "def fun():\n",
      "    a = 999 \n",
      "    print(a) # 999 ,but if I want to access the value of global variable i.e 888\n",
      "    d = globals() # globals() returns a dictionary of all global variables \n",
      "    print(f'd : {d}')\n",
      "    print(f'a : {d.get('a','Provided key is not present...')}') # 888\n",
      "    \n",
      "fun() , \n",
      "_i7 : a = 888 \n",
      "\n",
      "def fun():\n",
      "    a = 999 \n",
      "    print(a) # 999 ,but if I want to access the value of global variable i.e 888\n",
      "    d = globals() # globals() returns a dictionary of all global variables \n",
      "    print(f'd : {d}')\n",
      "    print(f\"a : {d.get('a','Provided key is not present...')}\") # 888\n",
      "    \n",
      "fun() , \n",
      "_i8 : a = 888 \n",
      "\n",
      "def fun():\n",
      "    a = 999 \n",
      "    print(a) # 999 ,but if I want to access the value of global variable i.e 888\n",
      "    d = globals() # globals() returns a dictionary of all global variables \n",
      "    for key,val in sorted(d.items()):\n",
      "        print(f'{key} : {val} , ')\n",
      "    print(f\"a : {d.get('a','Provided key is not present...')}\") # 888\n",
      "    \n",
      "fun() , \n",
      "_ih : ['', 'a = 777 \\n\\ndef fun():\\n    print(a) \\n    global a \\n    a = 999 \\n    print(a) \\n    \\nfun()', \"a = 777 \\n\\ndef fun():\\n    # print(a) # hum global keyworkd ke pehle nhi use kr sakte hain, agar esa krte hain to error through krega : SyntaxError: name 'a' is used prior to global declaration\\n    global a \\n    a = 999 \\n    print(a) \\n    \\nfun()\", \"a = 777 \\n\\ndef fun():\\n    print(a) # hum global keyworkd ke pehle nhi use kr sakte hain, agar esa krte hain to error through krega : SyntaxError: name 'a' is used prior to global declaration\\n    global a \\n    a = 999 \\n    print(a) \\n    \\nfun()\", 'a = 777 \\n\\ndef fun():\\n    global a \\n    print(a) # <-------------------------- 777\\n    \\n    a = 999 \\n    print(a) # 999\\n    \\nfun()', 'a = 888 \\n\\ndef fun():\\n    a = 999 \\n    print(a) # 999 \\n    \\nfun()', \"a = 888 \\n\\ndef fun():\\n    a = 999 \\n    print(a) # 999 ,but if I want to access the value of global variable i.e 888\\n    d = globals() # globals() returns a dictionary of all global variables \\n    print(f'd : {d}')\\n    print(f'a : {d.get('a','Provided key is not present...')}') # 888\\n    \\nfun()\", 'a = 888 \\n\\ndef fun():\\n    a = 999 \\n    print(a) # 999 ,but if I want to access the value of global variable i.e 888\\n    d = globals() # globals() returns a dictionary of all global variables \\n    print(f\\'d : {d}\\')\\n    print(f\"a : {d.get(\\'a\\',\\'Provided key is not present...\\')}\") # 888\\n    \\nfun()', 'a = 888 \\n\\ndef fun():\\n    a = 999 \\n    print(a) # 999 ,but if I want to access the value of global variable i.e 888\\n    d = globals() # globals() returns a dictionary of all global variables \\n    for key,val in sorted(d.items()):\\n        print(f\\'{key} : {val} , \\')\\n    print(f\"a : {d.get(\\'a\\',\\'Provided key is not present...\\')}\") # 888\\n    \\nfun()'] , \n",
      "_ii : a = 888 \n",
      "\n",
      "def fun():\n",
      "    a = 999 \n",
      "    print(a) # 999 ,but if I want to access the value of global variable i.e 888\n",
      "    d = globals() # globals() returns a dictionary of all global variables \n",
      "    print(f'd : {d}')\n",
      "    print(f'a : {d.get('a','Provided key is not present...')}') # 888\n",
      "    \n",
      "fun() , \n",
      "_iii : a = 888 \n",
      "\n",
      "def fun():\n",
      "    a = 999 \n",
      "    print(a) # 999 \n",
      "    \n",
      "fun() , \n",
      "_oh : {} , \n",
      "a : 888 , \n",
      "exit : <IPython.core.autocall.ZMQExitAutocall object at 0x78b4d1464970> , \n",
      "fun : <function fun at 0x78b4ca1b9040> , \n",
      "get_ipython : <bound method InteractiveShell.get_ipython of <ipykernel.zmqshell.ZMQInteractiveShell object at 0x78b4d1455bb0>> , \n",
      "open : <function open at 0x78b4d35b2b80> , \n",
      "quit : <IPython.core.autocall.ZMQExitAutocall object at 0x78b4d1464970> , \n",
      "a : 888\n"
     ]
    }
   ],
   "source": [
    "a = 888 \n",
    "\n",
    "def fun():\n",
    "    a = 999 \n",
    "    print(a) # 999 ,but if I want to access the value of global variable i.e 888\n",
    "    d = globals() # globals() returns a dictionary of all global variables \n",
    "    for key,val in sorted(d.items()):\n",
    "        print(f'{key} : {val} , ')\n",
    "        \n",
    "    print(f\"a : {d.get('a','Provided key is not present...')}\") # 888\n",
    "    \n",
    "fun()"
   ]
  },
  {
   "cell_type": "markdown",
   "metadata": {},
   "source": [
    "## returning multiple values"
   ]
  },
  {
   "cell_type": "code",
   "execution_count": 23,
   "metadata": {},
   "outputs": [
    {
     "name": "stdout",
     "output_type": "stream",
     "text": [
      "11\n"
     ]
    }
   ],
   "source": [
    "def maths(x,y):\n",
    "    s=x+y\n",
    "    m=x*y\n",
    "    return s  #Function can have only one return statement\n",
    "    return m\n",
    "res=maths(5,6)\n",
    "print(res)"
   ]
  },
  {
   "cell_type": "code",
   "execution_count": 26,
   "metadata": {},
   "outputs": [
    {
     "name": "stdout",
     "output_type": "stream",
     "text": [
      "30\n"
     ]
    }
   ],
   "source": [
    "def maths(x,y):\n",
    "    s=x+y\n",
    "    m=x*y\n",
    "    return m\n",
    "    return s\n",
    "res=maths(5,6)\n",
    "print(res)"
   ]
  },
  {
   "cell_type": "code",
   "execution_count": 29,
   "metadata": {},
   "outputs": [
    {
     "name": "stdout",
     "output_type": "stream",
     "text": [
      "(30, 11) <class 'tuple'>\n"
     ]
    }
   ],
   "source": [
    "def maths(x,y):\n",
    "    s=x+y\n",
    "    m=x*y\n",
    "    return m,s#<-------------------------tuple\n",
    "res=maths(5,6)\n",
    "print(res,type(res))"
   ]
  },
  {
   "cell_type": "code",
   "execution_count": 30,
   "metadata": {},
   "outputs": [
    {
     "name": "stdout",
     "output_type": "stream",
     "text": [
      "[30, 11] <class 'list'>\n"
     ]
    }
   ],
   "source": [
    "def maths(x,y):\n",
    "    s=x+y\n",
    "    m=x*y\n",
    "    return [m,s]#<---------------------list\n",
    "res=maths(5,6)\n",
    "print(res,type(res))"
   ]
  },
  {
   "cell_type": "code",
   "execution_count": 31,
   "metadata": {},
   "outputs": [
    {
     "name": "stdout",
     "output_type": "stream",
     "text": [
      "15.0\n",
      "5.5\n"
     ]
    }
   ],
   "source": [
    "def maths(x,y):\n",
    "    s=x+y\n",
    "    m=x*y\n",
    "    return [m,s]#<---------------------list\n",
    "res=maths(5,6)\n",
    "avg=res[0]/2\n",
    "sqrt=res[1]*0.5\n",
    "print(avg,sqrt,sep='\\n')"
   ]
  },
  {
   "cell_type": "code",
   "execution_count": 35,
   "metadata": {},
   "outputs": [
    {
     "name": "stdout",
     "output_type": "stream",
     "text": [
      "15.0\n",
      "5.5\n"
     ]
    }
   ],
   "source": [
    "def maths(x,y):\n",
    "    s=x+y\n",
    "    m=x*y\n",
    "    return [m,s]#<---------------------list\n",
    "add,mul=maths(5,6)\n",
    "avg=add/2\n",
    "sqrt=mul*0.5\n",
    "print(avg,sqrt,sep='\\n')"
   ]
  },
  {
   "cell_type": "markdown",
   "metadata": {},
   "source": [
    "## Home Work"
   ]
  },
  {
   "cell_type": "code",
   "execution_count": null,
   "metadata": {},
   "outputs": [],
   "source": [
    "# generator function\n",
    "# decorator function\n",
    "# closure function"
   ]
  },
  {
   "cell_type": "markdown",
   "metadata": {},
   "source": [
    "## 25th,February 2020"
   ]
  },
  {
   "cell_type": "markdown",
   "metadata": {},
   "source": [
    "## Different ways of assigning arguments to parameter"
   ]
  },
  {
   "cell_type": "code",
   "execution_count": 3,
   "metadata": {},
   "outputs": [
    {
     "name": "stdout",
     "output_type": "stream",
     "text": [
      "x: 4\n",
      "y: 5\n"
     ]
    },
    {
     "data": {
      "text/plain": [
       "9"
      ]
     },
     "execution_count": 3,
     "metadata": {},
     "output_type": "execute_result"
    }
   ],
   "source": [
    "# 1.Parameters with non-default value\n",
    "def addition(x,y):\n",
    "    print('x:',x)\n",
    "    print('y:',y)\n",
    "    return x+y\n",
    "addition(4,5)"
   ]
  },
  {
   "cell_type": "code",
   "execution_count": 5,
   "metadata": {},
   "outputs": [
    {
     "name": "stdout",
     "output_type": "stream",
     "text": [
      "x: 5\n",
      "y: 4\n"
     ]
    },
    {
     "data": {
      "text/plain": [
       "9"
      ]
     },
     "execution_count": 5,
     "metadata": {},
     "output_type": "execute_result"
    }
   ],
   "source": [
    "# 2.Keyword arguments\n",
    "def addition(x,y):\n",
    "    print('x:',x)\n",
    "    print('y:',y)\n",
    "    return x+y\n",
    "addition(y=4,x=5)#<------------------------------------------keyword argument"
   ]
  },
  {
   "cell_type": "code",
   "execution_count": 7,
   "metadata": {},
   "outputs": [
    {
     "ename": "SyntaxError",
     "evalue": "invalid syntax (<ipython-input-7-0fd080c68d49>, line 1)",
     "output_type": "error",
     "traceback": [
      "\u001b[0;36m  File \u001b[0;32m\"<ipython-input-7-0fd080c68d49>\"\u001b[0;36m, line \u001b[0;32m1\u001b[0m\n\u001b[0;31m    1.Parameters with non-default arguments\u001b[0m\n\u001b[0m               ^\u001b[0m\n\u001b[0;31mSyntaxError\u001b[0m\u001b[0;31m:\u001b[0m invalid syntax\n"
     ]
    }
   ],
   "source": [
    "1.Parameters with non-default arguments\n",
    "addition(5) # error due to missing arguments"
   ]
  },
  {
   "cell_type": "code",
   "execution_count": 23,
   "metadata": {},
   "outputs": [
    {
     "name": "stdout",
     "output_type": "stream",
     "text": [
      "x: 3\n",
      "y: 4\n",
      "7\n",
      "\n",
      "\n",
      "x: 5\n",
      "y: 5\n",
      "10\n",
      "\n",
      "\n",
      "x: 0\n",
      "y: 6\n",
      "6\n"
     ]
    }
   ],
   "source": [
    "#Defining default parameters\n",
    "def addition(x=0,y=5):#<-------------default parameter------------------------\n",
    "    print('x:',x)\n",
    "    print('y:',y)\n",
    "    return x+y\n",
    "print(addition(3,4))\n",
    "print('\\n')\n",
    "print(addition(5))\n",
    "print('\\n')\n",
    "print(addition(y=6))"
   ]
  },
  {
   "cell_type": "code",
   "execution_count": 24,
   "metadata": {},
   "outputs": [
    {
     "name": "stdout",
     "output_type": "stream",
     "text": [
      "x: 0\n",
      "y: 5\n"
     ]
    },
    {
     "data": {
      "text/plain": [
       "5"
      ]
     },
     "execution_count": 24,
     "metadata": {},
     "output_type": "execute_result"
    }
   ],
   "source": [
    "addition()"
   ]
  },
  {
   "cell_type": "code",
   "execution_count": 27,
   "metadata": {},
   "outputs": [
    {
     "name": "stdout",
     "output_type": "stream",
     "text": [
      "3\n",
      "3\n",
      "x: 3\n",
      "y: 3\n",
      "6\n"
     ]
    }
   ],
   "source": [
    "print(addition(x=int(input()),y=int(input())))"
   ]
  },
  {
   "cell_type": "code",
   "execution_count": 16,
   "metadata": {},
   "outputs": [
    {
     "name": "stdout",
     "output_type": "stream",
     "text": [
      "x 2\n",
      "y: 10\n",
      "12\n"
     ]
    }
   ],
   "source": [
    "# Function with both default and non-default parameters\n",
    "def addition(x,y=5):\n",
    "    print('x:',x)\n",
    "    print('y:',y)\n",
    "    return x+y\n",
    "print(addition(2,10))\n"
   ]
  },
  {
   "cell_type": "markdown",
   "metadata": {},
   "source": [
    "## non-default argument follows default argument"
   ]
  },
  {
   "cell_type": "code",
   "execution_count": 18,
   "metadata": {},
   "outputs": [
    {
     "ename": "SyntaxError",
     "evalue": "non-default argument follows default argument (<ipython-input-18-92d63a578402>, line 1)",
     "output_type": "error",
     "traceback": [
      "\u001b[0;36m  File \u001b[0;32m\"<ipython-input-18-92d63a578402>\"\u001b[0;36m, line \u001b[0;32m1\u001b[0m\n\u001b[0;31m    def addition(y=5,x):#<---SyntaxError: non-default argument follows default argument\u001b[0m\n\u001b[0m                ^\u001b[0m\n\u001b[0;31mSyntaxError\u001b[0m\u001b[0;31m:\u001b[0m non-default argument follows default argument\n"
     ]
    }
   ],
   "source": [
    "def addition(y=5,x):#<---SyntaxError: non-default argument follows default argument\n",
    "\n",
    "    print('x:',x)\n",
    "    print('y:',y)\n",
    "    return x+y\n",
    "print(addition(2,10))\n"
   ]
  },
  {
   "cell_type": "markdown",
   "metadata": {},
   "source": [
    "callback function"
   ]
  },
  {
   "cell_type": "code",
   "execution_count": 1,
   "metadata": {},
   "outputs": [
    {
     "name": "stdout",
     "output_type": "stream",
     "text": [
      "sum is 5\n"
     ]
    }
   ],
   "source": [
    "def f1(a,b):\n",
    "    return a + b \n",
    "# Here f2 takes an argument as a function f1,and this called callback i.e a function\n",
    "#takes another function as an argument\n",
    "def f2(callback): \n",
    "    sum = callback(2,3)  \n",
    "    print(f'sum is {sum}') \n",
    "f2(f1)"
   ]
  },
  {
   "cell_type": "markdown",
   "metadata": {},
   "source": [
    "# Function as a argument to another function"
   ]
  },
  {
   "cell_type": "markdown",
   "metadata": {},
   "source": [
    "- f1(f2,x) : like this ,here f1 and f2 are functions \n",
    "- example : \n",
    "    \n",
    "    - 1. filter(fun,sequence) \n",
    "    - 2. map(fun,sequence) \n",
    "    - 3. reduce(fun,sequence) \n",
    "    "
   ]
  }
 ],
 "metadata": {
  "kernelspec": {
   "display_name": "Python 3 (ipykernel)",
   "language": "python",
   "name": "python3"
  },
  "language_info": {
   "codemirror_mode": {
    "name": "ipython",
    "version": 3
   },
   "file_extension": ".py",
   "mimetype": "text/x-python",
   "name": "python",
   "nbconvert_exporter": "python",
   "pygments_lexer": "ipython3",
   "version": "3.8.19"
  }
 },
 "nbformat": 4,
 "nbformat_minor": 4
}
