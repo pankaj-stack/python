{
 "cells": [
  {
   "cell_type": "markdown",
   "id": "5f7221f3",
   "metadata": {},
   "source": [
    "- a function without an identity or name is called anonymous function or lambda function. \n",
    "- nameless function is called anonymous or lambda function.\n",
    "- we use it for :\n",
    "    - instant use or one time use.  \n",
    "    - syntax : lambda input_arguments : expression or return value \n",
    "\n"
   ]
  },
  {
   "cell_type": "code",
   "execution_count": 1,
   "id": "fd55d38d",
   "metadata": {},
   "outputs": [
    {
     "name": "stdout",
     "output_type": "stream",
     "text": [
      "16\n"
     ]
    }
   ],
   "source": [
    "l = lambda n : n**2 \n",
    "print(l(4))"
   ]
  },
  {
   "cell_type": "code",
   "execution_count": 2,
   "id": "f2ff98b7",
   "metadata": {},
   "outputs": [
    {
     "data": {
      "text/plain": [
       "25"
      ]
     },
     "execution_count": 2,
     "metadata": {},
     "output_type": "execute_result"
    }
   ],
   "source": [
    "l(5)"
   ]
  },
  {
   "cell_type": "code",
   "execution_count": 4,
   "id": "7edd0089",
   "metadata": {},
   "outputs": [
    {
     "data": {
      "text/plain": [
       "300"
      ]
     },
     "execution_count": 4,
     "metadata": {},
     "output_type": "execute_result"
    }
   ],
   "source": [
    "l = lambda a,b : a + b \n",
    "l(100,200)"
   ]
  },
  {
   "cell_type": "code",
   "execution_count": 6,
   "id": "9f60ca2c",
   "metadata": {},
   "outputs": [
    {
     "name": "stdout",
     "output_type": "stream",
     "text": [
      "20\n",
      "-10\n"
     ]
    }
   ],
   "source": [
    "# WAP to find bigger value among two values using lambda function \n",
    "\n",
    "bigger = lambda a,b : a if a>b else b # a if a>b else b == this is the ternary operator in python\n",
    "print(bigger(10,20)) \n",
    "\n",
    "print(bigger(-10,-20))\n"
   ]
  },
  {
   "cell_type": "code",
   "execution_count": 8,
   "id": "53458daf",
   "metadata": {},
   "outputs": [
    {
     "name": "stdout",
     "output_type": "stream",
     "text": [
      "3\n",
      "442\n"
     ]
    }
   ],
   "source": [
    "greater = lambda a,b,c : a if (a>b and a>c) else b if b>c else c \n",
    "\n",
    "print(greater(1,2,3)) \n",
    "\n",
    "print(greater(32,442,9))"
   ]
  }
 ],
 "metadata": {
  "kernelspec": {
   "display_name": "Python 3 (ipykernel)",
   "language": "python",
   "name": "python3"
  },
  "language_info": {
   "codemirror_mode": {
    "name": "ipython",
    "version": 3
   },
   "file_extension": ".py",
   "mimetype": "text/x-python",
   "name": "python",
   "nbconvert_exporter": "python",
   "pygments_lexer": "ipython3",
   "version": "3.8.19"
  }
 },
 "nbformat": 4,
 "nbformat_minor": 5
}
