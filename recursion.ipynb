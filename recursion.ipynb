{
 "cells": [
  {
   "cell_type": "markdown",
   "metadata": {},
   "source": [
    "- Recursion is used for complex problems. \n",
    "- Using recursion you have to use less code. "
   ]
  },
  {
   "cell_type": "code",
   "execution_count": 8,
   "metadata": {},
   "outputs": [
    {
     "name": "stdout",
     "output_type": "stream",
     "text": [
      "factorial of 0 is : 1\n",
      "factorial of 1 is : 1\n",
      "factorial of 2 is : 2\n",
      "factorial of 3 is : 6\n",
      "factorial of 4 is : 24\n",
      "factorial of 5 is : 120\n",
      "factorial of 6 is : 720\n",
      "factorial of 7 is : 5040\n",
      "factorial of 8 is : 40320\n",
      "factorial of 9 is : 362880\n"
     ]
    }
   ],
   "source": [
    "# formula of factorial : n! = n(n-1)! \n",
    "\n",
    "def factorial(n):\n",
    "    \n",
    "    result = 1 \n",
    "     \n",
    "    \n",
    "    while n >= 1 : \n",
    "        \n",
    "        result *= n  \n",
    "        n -= 1\n",
    "    return result \n",
    "\n",
    "for n in range(10):\n",
    "    print(f'factorial of {n} is : {factorial(n)}')"
   ]
  },
  {
   "cell_type": "code",
   "execution_count": 11,
   "metadata": {},
   "outputs": [
    {
     "name": "stdout",
     "output_type": "stream",
     "text": [
      "calling the factorial function(3)\n",
      "calling the factorial function(2)\n",
      "calling the factorial function(1)\n",
      "calling the factorial function(0)\n",
      "result : 1\n",
      "result : 2\n",
      "result : 6\n"
     ]
    },
    {
     "data": {
      "text/plain": [
       "6"
      ]
     },
     "execution_count": 11,
     "metadata": {},
     "output_type": "execute_result"
    }
   ],
   "source": [
    "def factorial(n):\n",
    "    print(f'calling the factorial function({n})')\n",
    "    if n == 0:\n",
    "        result = 1\n",
    "    else:\n",
    "        result = n * factorial(n-1) \n",
    "        print(f'result : {result}')\n",
    "        \n",
    "    return result\n",
    "    \n",
    "factorial(3)"
   ]
  },
  {
   "cell_type": "markdown",
   "metadata": {},
   "source": [
    "Recursion depth in python "
   ]
  },
  {
   "cell_type": "code",
   "execution_count": 3,
   "metadata": {},
   "outputs": [
    {
     "name": "stdout",
     "output_type": "stream",
     "text": [
      "2972 times recursion(factorial function) is called...\n"
     ]
    }
   ],
   "source": [
    "count = 0 \n",
    "\n",
    "def factorial(n):\n",
    "    global count \n",
    "    count += 1 \n",
    "    if n == 0:\n",
    "        result = 1\n",
    "    else:\n",
    "        result = n * factorial(n-1) \n",
    "        \n",
    "    return result\n",
    "    \n",
    "try:\n",
    "    print(f' factorial of 2971 is {factorial(2971)}')# 2972 is maximum recursion limit in python 3.8.19\n",
    "except RecursionError:\n",
    "    print(f'{count} times recursion(factorial function) is called...')"
   ]
  },
  {
   "cell_type": "code",
   "execution_count": 12,
   "metadata": {},
   "outputs": [
    {
     "data": {
      "text/plain": [
       "3000"
      ]
     },
     "execution_count": 12,
     "metadata": {},
     "output_type": "execute_result"
    }
   ],
   "source": [
    "import sys \n",
    "\n",
    "sys.getrecursionlimit() # this is maximum recursion limit in python "
   ]
  },
  {
   "cell_type": "code",
   "execution_count": 17,
   "metadata": {},
   "outputs": [],
   "source": [
    "sys.setrecursionlimit(3000) # I think setting of recursion-depth is not working..."
   ]
  },
  {
   "cell_type": "code",
   "execution_count": 20,
   "metadata": {},
   "outputs": [
    {
     "name": "stdout",
     "output_type": "stream",
     "text": [
      "2972 times recursion(factorial function) is called...\n"
     ]
    }
   ],
   "source": [
    "count = 0 \n",
    "\n",
    "def factorial(n):\n",
    "    global count \n",
    "    count += 1 \n",
    "    if n == 0:\n",
    "        result = 1\n",
    "    else:\n",
    "        result = n * factorial(n-1) \n",
    "        \n",
    "    return result\n",
    "    \n",
    "try:\n",
    "    print(f' factorial of 2971 is {factorial(2999)}')# 2972 is maximum recursion limit in python 3.8.19\n",
    "except RecursionError:\n",
    "    print(f'{count} times recursion(factorial function) is called...')"
   ]
  },
  {
   "cell_type": "code",
   "execution_count": null,
   "metadata": {},
   "outputs": [],
   "source": []
  }
 ],
 "metadata": {
  "kernelspec": {
   "display_name": "Python 3",
   "language": "python",
   "name": "python3"
  },
  "language_info": {
   "codemirror_mode": {
    "name": "ipython",
    "version": 3
   },
   "file_extension": ".py",
   "mimetype": "text/x-python",
   "name": "python",
   "nbconvert_exporter": "python",
   "pygments_lexer": "ipython3",
   "version": "3.8.19"
  }
 },
 "nbformat": 4,
 "nbformat_minor": 2
}
