{
 "cells": [
  {
   "cell_type": "code",
   "execution_count": 2,
   "metadata": {},
   "outputs": [
    {
     "name": "stdout",
     "output_type": "stream",
     "text": [
      "<class 'complex'>\n",
      "(-60+32j)\n"
     ]
    }
   ],
   "source": [
    "complex=2+8j\n",
    "print(type(complex))\n",
    "print(complex**2)"
   ]
  },
  {
   "cell_type": "code",
   "execution_count": 2,
   "metadata": {},
   "outputs": [
    {
     "name": "stdout",
     "output_type": "stream",
     "text": [
      "Enter Age : 23\n",
      "23-><class 'int'>\n"
     ]
    },
    {
     "data": {
      "text/plain": [
       "1666.6666666666667"
      ]
     },
     "execution_count": 2,
     "metadata": {},
     "output_type": "execute_result"
    }
   ],
   "source": [
    "#Dynamic Numeric input:Use typecasting  with input()\n",
    "age=int(input('Enter Age : '))\n",
    "print(age,type(age),sep='->')"
   ]
  },
  {
   "cell_type": "code",
   "execution_count": 4,
   "metadata": {},
   "outputs": [
    {
     "name": "stdout",
     "output_type": "stream",
     "text": [
      "Enter the percentage : 99\n",
      "99.0 <class 'float'>\n"
     ]
    }
   ],
   "source": [
    "percent=float(input('Enter the percentage : '))\n",
    "print(percent,type(percent))"
   ]
  },
  {
   "cell_type": "code",
   "execution_count": 3,
   "metadata": {},
   "outputs": [
    {
     "name": "stdout",
     "output_type": "stream",
     "text": [
      "Enter something : 'hello'\n",
      "hello <class 'str'>\n"
     ]
    }
   ],
   "source": [
    "# eval() function <------------------------------------------------------------------\n",
    "var=eval(input('Enter something : '))# It takes any of the type as a input at single time \n",
    "print(var,type(var))#while giving string values provide it with quote"
   ]
  },
  {
   "cell_type": "code",
   "execution_count": 7,
   "metadata": {},
   "outputs": [
    {
     "name": "stdout",
     "output_type": "stream",
     "text": [
      "Enter something : 55\n"
     ]
    },
    {
     "data": {
      "text/plain": [
       "55"
      ]
     },
     "execution_count": 7,
     "metadata": {},
     "output_type": "execute_result"
    }
   ],
   "source": [
    "value=eval(input('Enter something : '))\n",
    "value"
   ]
  },
  {
   "cell_type": "code",
   "execution_count": 8,
   "metadata": {},
   "outputs": [
    {
     "name": "stdout",
     "output_type": "stream",
     "text": [
      "Enter Something : 55\n",
      "55 <class 'int'>\n"
     ]
    }
   ],
   "source": [
    "value=eval(input('Enter Something : '))\n",
    "print(value,type(value))"
   ]
  },
  {
   "cell_type": "code",
   "execution_count": 11,
   "metadata": {},
   "outputs": [
    {
     "name": "stdout",
     "output_type": "stream",
     "text": [
      "Enter Something : 5\n",
      "5 <class 'int'>\n"
     ]
    }
   ],
   "source": [
    "value=eval(input('Enter Something : '))\n",
    "print(value,type(value))"
   ]
  },
  {
   "cell_type": "code",
   "execution_count": 6,
   "metadata": {},
   "outputs": [
    {
     "data": {
      "text/plain": [
       "2"
      ]
     },
     "execution_count": 6,
     "metadata": {},
     "output_type": "execute_result"
    }
   ],
   "source": [
    "#operations in numeric datatype\n",
    "5//2#floor division returns the larger integer smaller than the quotient of division"
   ]
  },
  {
   "cell_type": "code",
   "execution_count": 7,
   "metadata": {},
   "outputs": [
    {
     "data": {
      "text/plain": [
       "-6"
      ]
     },
     "execution_count": 7,
     "metadata": {},
     "output_type": "execute_result"
    }
   ],
   "source": [
    "-11//2#<_--------------------its important practice on it."
   ]
  },
  {
   "cell_type": "code",
   "execution_count": 8,
   "metadata": {},
   "outputs": [
    {
     "name": "stdout",
     "output_type": "stream",
     "text": [
      "25\n"
     ]
    }
   ],
   "source": [
    "print(pow(5,2))"
   ]
  },
  {
   "cell_type": "code",
   "execution_count": 9,
   "metadata": {},
   "outputs": [
    {
     "name": "stdout",
     "output_type": "stream",
     "text": [
      "12 <class 'int'>\n",
      "12 <class 'str'>\n"
     ]
    }
   ],
   "source": [
    "#Typecast from  numeric to string\n",
    "num=12\n",
    "print(num,type(num))\n",
    "str_num=str(num)\n",
    "print(str_num,type(str_num))"
   ]
  },
  {
   "cell_type": "code",
   "execution_count": 10,
   "metadata": {},
   "outputs": [
    {
     "name": "stdout",
     "output_type": "stream",
     "text": [
      "True\n",
      "140731843360576\n",
      "140731843360576\n",
      "***************************************OR***************************************\n",
      "False\n",
      "140731843360576\n",
      "2571940970960\n"
     ]
    },
    {
     "name": "stderr",
     "output_type": "stream",
     "text": [
      "<>:1: SyntaxWarning: \"is\" with a literal. Did you mean \"==\"?\n",
      "<>:6: SyntaxWarning: \"is\" with a literal. Did you mean \"==\"?\n",
      "<>:1: SyntaxWarning: \"is\" with a literal. Did you mean \"==\"?\n",
      "<>:6: SyntaxWarning: \"is\" with a literal. Did you mean \"==\"?\n",
      "<ipython-input-10-0d7e0b2f67e3>:1: SyntaxWarning: \"is\" with a literal. Did you mean \"==\"?\n",
      "  x=2 is 2\n",
      "<ipython-input-10-0d7e0b2f67e3>:6: SyntaxWarning: \"is\" with a literal. Did you mean \"==\"?\n",
      "  x=2 is 2.0\n"
     ]
    }
   ],
   "source": [
    "x=2 is 2\n",
    "print(x,id(2),id(2),sep='\\n')\n",
    "\n",
    "print('OR'.center(len('OR')*40,'*'))\n",
    "\n",
    "x=2 is 2.0\n",
    "print(x,id(2),id(2.0),sep='\\n')"
   ]
  },
  {
   "cell_type": "code",
   "execution_count": 14,
   "metadata": {},
   "outputs": [
    {
     "data": {
      "text/plain": [
       "True"
      ]
     },
     "execution_count": 14,
     "metadata": {},
     "output_type": "execute_result"
    }
   ],
   "source": [
    "2 == 2.0"
   ]
  },
  {
   "cell_type": "code",
   "execution_count": null,
   "metadata": {},
   "outputs": [],
   "source": [
    "#round() is built-in function for precesion(शुद्धता) handling"
   ]
  },
  {
   "cell_type": "code",
   "execution_count": 17,
   "metadata": {},
   "outputs": [
    {
     "name": "stdout",
     "output_type": "stream",
     "text": [
      "3.141592653589793\n",
      "3.14\n"
     ]
    }
   ],
   "source": [
    "#Precision Handling\n",
    "import math\n",
    "pi=math.pi\n",
    "print(pi)\n",
    "pi_r2=round(pi,2)\n",
    "print(pi_r2)"
   ]
  },
  {
   "cell_type": "code",
   "execution_count": 18,
   "metadata": {},
   "outputs": [],
   "source": [
    "# a=12\n",
    "# x=a.round(a,2)<----------It doesn't work for integer value\n",
    "# print(x)"
   ]
  },
  {
   "cell_type": "code",
   "execution_count": 19,
   "metadata": {},
   "outputs": [
    {
     "name": "stdout",
     "output_type": "stream",
     "text": [
      "5.00\n"
     ]
    }
   ],
   "source": [
    "a=5\n",
    "a_f2='%.2f'%a\n",
    "print(a_f2)"
   ]
  },
  {
   "cell_type": "code",
   "execution_count": 20,
   "metadata": {},
   "outputs": [
    {
     "data": {
      "text/plain": [
       "'6.00000000'"
      ]
     },
     "execution_count": 20,
     "metadata": {},
     "output_type": "execute_result"
    }
   ],
   "source": [
    "b=6\n",
    "r='%.8f'%b\n",
    "r"
   ]
  },
  {
   "cell_type": "code",
   "execution_count": 21,
   "metadata": {},
   "outputs": [
    {
     "name": "stdout",
     "output_type": "stream",
     "text": [
      "3\n"
     ]
    }
   ],
   "source": [
    "#math.trunc(): Return integer part of float type value\n",
    "print(math.trunc(pi))"
   ]
  },
  {
   "cell_type": "code",
   "execution_count": 22,
   "metadata": {},
   "outputs": [
    {
     "data": {
      "text/plain": [
       "88"
      ]
     },
     "execution_count": 22,
     "metadata": {},
     "output_type": "execute_result"
    }
   ],
   "source": [
    "b=88.9\n",
    "math.trunc(b)"
   ]
  },
  {
   "cell_type": "code",
   "execution_count": 25,
   "metadata": {},
   "outputs": [
    {
     "name": "stdout",
     "output_type": "stream",
     "text": [
      "3\n"
     ]
    }
   ],
   "source": [
    "#math.floor():Return largest integer smaller than the float\n",
    "print(math.floor(pi))"
   ]
  },
  {
   "cell_type": "code",
   "execution_count": 26,
   "metadata": {},
   "outputs": [
    {
     "name": "stdout",
     "output_type": "stream",
     "text": [
      "4\n"
     ]
    }
   ],
   "source": [
    "#math.ceil():Return smallest integer greater than float type\n",
    "print(math.ceil(pi))"
   ]
  },
  {
   "cell_type": "code",
   "execution_count": null,
   "metadata": {},
   "outputs": [],
   "source": [
    "#Home Work\n",
    "# calculate compound interest and simple interest"
   ]
  },
  {
   "cell_type": "code",
   "execution_count": null,
   "metadata": {},
   "outputs": [],
   "source": [
    "#Simple Interest\n",
    "principal,rate,time=input('Enter principal,rate and time separated with spce : ').split()\n",
    "principal,rate,time=float(principal),float(rate),float(time)\n",
    "si=(principal*rate*time)/100\n",
    "print(f'Simple Interest is {si}')"
   ]
  },
  {
   "cell_type": "code",
   "execution_count": null,
   "metadata": {},
   "outputs": [],
   "source": [
    "#Compound Interest \n",
    "#Where p = principal,i = annual interest rate,n = no. of periods \n",
    "p,i,n=input('Enter the principal,rate and no. of periods separated by space: ').split()\n",
    "p,i,n=float(p),float(i)/100,float(n)\n",
    "ci=(p*((1+i)**n))-p\n",
    "print(f'Compound Interest is {round(ci,2)}')"
   ]
  },
  {
   "cell_type": "code",
   "execution_count": 27,
   "metadata": {},
   "outputs": [
    {
     "name": "stdout",
     "output_type": "stream",
     "text": [
      "8\n",
      "10\n"
     ]
    },
    {
     "data": {
      "text/plain": [
       "('0O10', '0XA')"
      ]
     },
     "execution_count": 27,
     "metadata": {},
     "output_type": "execute_result"
    }
   ],
   "source": [
    "octel=oct(int(input()))\n",
    "hex_decimal=hex(int(input()))\n",
    "octel.upper(),hex_decimal.upper()"
   ]
  },
  {
   "cell_type": "code",
   "execution_count": 13,
   "metadata": {},
   "outputs": [
    {
     "name": "stdout",
     "output_type": "stream",
     "text": [
      "enter a no : 6473483\n",
      "odd\n"
     ]
    }
   ],
   "source": [
    "# even odd in other way\n",
    "binary=bin(int(input('enter a no : ')))\n",
    "print('even') if binary[-1]=='0' else print('odd')"
   ]
  },
  {
   "cell_type": "code",
   "execution_count": null,
   "metadata": {},
   "outputs": [],
   "source": [
    "06:30 to 07:30 Monday Timing(Python)"
   ]
  },
  {
   "cell_type": "code",
   "execution_count": null,
   "metadata": {},
   "outputs": [],
   "source": []
  }
 ],
 "metadata": {
  "kernelspec": {
   "display_name": "Python 3",
   "language": "python",
   "name": "python3"
  },
  "language_info": {
   "codemirror_mode": {
    "name": "ipython",
    "version": 3
   },
   "file_extension": ".py",
   "mimetype": "text/x-python",
   "name": "python",
   "nbconvert_exporter": "python",
   "pygments_lexer": "ipython3",
   "version": "3.8.3"
  }
 },
 "nbformat": 4,
 "nbformat_minor": 2
}
